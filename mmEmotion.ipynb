{
 "cells": [
  {
   "cell_type": "code",
   "execution_count": 1,
   "metadata": {
    "_cell_guid": "b1076dfc-b9ad-4769-8c92-a6c4dae69d19",
    "_uuid": "8f2839f25d086af736a60e9eeb907d3b93b6e0e5",
    "execution": {
     "iopub.execute_input": "2021-07-08T13:50:41.709052Z",
     "iopub.status.busy": "2021-07-08T13:50:41.708529Z",
     "iopub.status.idle": "2021-07-08T13:50:45.244752Z",
     "shell.execute_reply": "2021-07-08T13:50:45.243463Z",
     "shell.execute_reply.started": "2021-07-08T13:50:41.70897Z"
    }
   },
   "outputs": [],
   "source": [
    "# This Python 3 environment comes with many helpful analytics libraries installed\n",
    "# It is defined by the kaggle/python Docker image: https://github.com/kaggle/docker-python\n",
    "# For example, here's several helpful packages to load\n",
    "import librosa\n",
    "import soundfile\n",
    "import os, glob, pickle\n",
    "import numpy as np\n",
    "import matplotlib.pyplot as mt\n",
    "from sklearn.model_selection import train_test_split\n",
    "from sklearn.neural_network import MLPClassifier\n",
    "from sklearn.metrics import accuracy_score\n",
    "import joblib\n",
    "\n",
    "# Input data files are available in the read-only \"../input/\" directory\n",
    "# For example, running this (by clicking run or pressing Shift+Enter) will list all files under the input directory\n",
    "\n",
    "#import os\n",
    "for dirname, _, filenames in os.walk('/kaggle/input'):\n",
    "    for filename in filenames:\n",
    "        print(os.path.join(dirname, filename))\n",
    "\n",
    "# You can write up to 20GB to the current directory (/kaggle/working/) that gets preserved as output when you create a version using \"Save & Run All\" \n",
    "# You can also write temporary files to /kaggle/temp/, but they won't be saved outside of the current session"
   ]
  },
  {
   "cell_type": "code",
   "execution_count": 2,
   "metadata": {
    "execution": {
     "iopub.execute_input": "2021-07-08T13:50:45.247193Z",
     "iopub.status.busy": "2021-07-08T13:50:45.246777Z",
     "iopub.status.idle": "2021-07-08T13:50:46.316596Z",
     "shell.execute_reply": "2021-07-08T13:50:46.315643Z",
     "shell.execute_reply.started": "2021-07-08T13:50:45.247151Z"
    }
   },
   "outputs": [
    {
     "data": {
      "text/plain": [
       "array([[0.0000000e+00, 0.0000000e+00, 0.0000000e+00, ..., 2.0581091e-04,\n",
       "        2.8682762e-04, 9.7262593e-05],\n",
       "       [0.0000000e+00, 0.0000000e+00, 0.0000000e+00, ..., 5.0202332e-04,\n",
       "        4.8846158e-04, 3.5425482e-04],\n",
       "       [0.0000000e+00, 0.0000000e+00, 0.0000000e+00, ..., 4.1796488e-04,\n",
       "        6.2281493e-04, 7.3409418e-04],\n",
       "       ...,\n",
       "       [0.0000000e+00, 0.0000000e+00, 0.0000000e+00, ..., 3.2931752e-07,\n",
       "        1.8773579e-06, 5.9676840e-06],\n",
       "       [0.0000000e+00, 0.0000000e+00, 0.0000000e+00, ..., 6.4179721e-07,\n",
       "        1.7928779e-06, 6.2650470e-06],\n",
       "       [0.0000000e+00, 0.0000000e+00, 0.0000000e+00, ..., 4.2631527e-07,\n",
       "        2.9290056e-06, 6.7245428e-06]], dtype=float32)"
      ]
     },
     "execution_count": 2,
     "metadata": {},
     "output_type": "execute_result"
    }
   ],
   "source": [
    "data,sample_rate = librosa.load('audio_speech_actors_01-24/Actor_02/03-01-02-01-02-01-02.wav')\n",
    "np.abs(librosa.stft(data))"
   ]
  },
  {
   "cell_type": "code",
   "execution_count": 3,
   "metadata": {
    "execution": {
     "iopub.execute_input": "2021-07-08T13:50:46.31882Z",
     "iopub.status.busy": "2021-07-08T13:50:46.318513Z",
     "iopub.status.idle": "2021-07-08T13:50:46.326356Z",
     "shell.execute_reply": "2021-07-08T13:50:46.325596Z",
     "shell.execute_reply.started": "2021-07-08T13:50:46.31879Z"
    }
   },
   "outputs": [],
   "source": [
    "# Extract features \n",
    "def extract_feature(file_name, mfcc, chroma, mel):\n",
    "#     file_name = '/kaggle/input/ravdess-emotional-speech-audio/Actor_02/03-01-07-01-02-02-02.wav'\n",
    "    data,sample_rate = librosa.load(file_name)\n",
    "    result=np.array([])\n",
    "    if mfcc:\n",
    "            mfccs=np.mean(librosa.feature.mfcc(y=data, sr=sample_rate, n_mfcc=40).T, axis=0)\n",
    "            result=np.hstack((result, mfccs))\n",
    "    if chroma:\n",
    "            stft=np.abs(librosa.stft(data))\n",
    "            chroma=np.mean(librosa.feature.chroma_stft(S=stft, sr=sample_rate).T,axis=0)\n",
    "            result=np.hstack((result, chroma))\n",
    "    if mel:\n",
    "        mel=np.mean(librosa.feature.melspectrogram(data, sr=sample_rate).T,axis=0)\n",
    "        result=np.hstack((result, mel))\n",
    "    return result"
   ]
  },
  {
   "cell_type": "code",
   "execution_count": 4,
   "metadata": {
    "execution": {
     "iopub.execute_input": "2021-07-08T13:50:46.327841Z",
     "iopub.status.busy": "2021-07-08T13:50:46.327571Z",
     "iopub.status.idle": "2021-07-08T13:50:46.338205Z",
     "shell.execute_reply": "2021-07-08T13:50:46.337165Z",
     "shell.execute_reply.started": "2021-07-08T13:50:46.327807Z"
    }
   },
   "outputs": [],
   "source": [
    "emotions={\n",
    "  '01':'neutral',\n",
    "  '02':'calm',\n",
    "  '03':'happy',\n",
    "  '04':'sad',\n",
    "  '05':'angry',\n",
    "  '06':'fearful',\n",
    "  '07':'disgust',\n",
    "  '08':'surprised'\n",
    "}\n",
    "\n",
    "#gender classification into male and female\n",
    "def gender(g):\n",
    "    if int(g[0:2]) % 2 == 0:\n",
    "        return 'female'\n",
    "    else:\n",
    "        return 'male'"
   ]
  },
  {
   "cell_type": "code",
   "execution_count": 5,
   "metadata": {
    "execution": {
     "iopub.execute_input": "2021-07-08T13:50:46.339961Z",
     "iopub.status.busy": "2021-07-08T13:50:46.339654Z",
     "iopub.status.idle": "2021-07-08T13:50:46.352021Z",
     "shell.execute_reply": "2021-07-08T13:50:46.351113Z",
     "shell.execute_reply.started": "2021-07-08T13:50:46.339935Z"
    }
   },
   "outputs": [],
   "source": [
    "# extract features for each sound file\n",
    "\n",
    "from tqdm import tqdm\n",
    "\n",
    "    \n",
    "\n"
   ]
  },
  {
   "cell_type": "code",
   "execution_count": 6,
   "metadata": {
    "execution": {
     "iopub.execute_input": "2021-07-08T13:50:46.353681Z",
     "iopub.status.busy": "2021-07-08T13:50:46.353342Z",
     "iopub.status.idle": "2021-07-08T14:04:40.159425Z",
     "shell.execute_reply": "2021-07-08T14:04:40.158247Z",
     "shell.execute_reply.started": "2021-07-08T13:50:46.353646Z"
    }
   },
   "outputs": [
    {
     "name": "stdout",
     "output_type": "stream",
     "text": [
      "1\n",
      "2\n",
      "angry_female\n",
      "3\n",
      "fearful_female\n"
     ]
    },
    {
     "name": "stderr",
     "output_type": "stream",
     "text": [
      "/var/folders/7h/3y0jb5yx0g399b2y_qtq_db80000gn/T/ipykernel_26966/1257479974.py:14: FutureWarning: Pass y=[ 0.0000000e+00  0.0000000e+00  0.0000000e+00 ... -8.1456150e-05\n",
      " -3.5299374e-05  0.0000000e+00] as keyword args. From version 0.10 passing these as positional arguments will result in an error\n",
      "  mel=np.mean(librosa.feature.melspectrogram(data, sr=sample_rate).T,axis=0)\n",
      "/var/folders/7h/3y0jb5yx0g399b2y_qtq_db80000gn/T/ipykernel_26966/1257479974.py:14: FutureWarning: Pass y=[ 0.0000000e+00  0.0000000e+00  0.0000000e+00 ... -3.7505772e-06\n",
      "  7.7417353e-06  0.0000000e+00] as keyword args. From version 0.10 passing these as positional arguments will result in an error\n",
      "  mel=np.mean(librosa.feature.melspectrogram(data, sr=sample_rate).T,axis=0)\n"
     ]
    },
    {
     "name": "stdout",
     "output_type": "stream",
     "text": [
      "4\n",
      "fearful_female\n",
      "5\n",
      "angry_female\n"
     ]
    },
    {
     "name": "stderr",
     "output_type": "stream",
     "text": [
      "/var/folders/7h/3y0jb5yx0g399b2y_qtq_db80000gn/T/ipykernel_26966/1257479974.py:14: FutureWarning: Pass y=[ 3.0036153e-05  2.7443759e-05  9.8903274e-07 ... -1.1224319e-05\n",
      " -1.7981063e-05  0.0000000e+00] as keyword args. From version 0.10 passing these as positional arguments will result in an error\n",
      "  mel=np.mean(librosa.feature.melspectrogram(data, sr=sample_rate).T,axis=0)\n",
      "/var/folders/7h/3y0jb5yx0g399b2y_qtq_db80000gn/T/ipykernel_26966/1257479974.py:14: FutureWarning: Pass y=[ 0.0000000e+00  0.0000000e+00  0.0000000e+00 ...  1.0203025e-05\n",
      " -1.3484111e-05  0.0000000e+00] as keyword args. From version 0.10 passing these as positional arguments will result in an error\n",
      "  mel=np.mean(librosa.feature.melspectrogram(data, sr=sample_rate).T,axis=0)\n"
     ]
    },
    {
     "name": "stdout",
     "output_type": "stream",
     "text": [
      "6\n",
      "disgust_female\n",
      "7\n",
      "sad_female\n"
     ]
    },
    {
     "name": "stderr",
     "output_type": "stream",
     "text": [
      "/var/folders/7h/3y0jb5yx0g399b2y_qtq_db80000gn/T/ipykernel_26966/1257479974.py:14: FutureWarning: Pass y=[ 0.0000000e+00  0.0000000e+00  0.0000000e+00 ... -6.2484395e-07\n",
      "  1.4322423e-07  0.0000000e+00] as keyword args. From version 0.10 passing these as positional arguments will result in an error\n",
      "  mel=np.mean(librosa.feature.melspectrogram(data, sr=sample_rate).T,axis=0)\n",
      "/var/folders/7h/3y0jb5yx0g399b2y_qtq_db80000gn/T/ipykernel_26966/1257479974.py:14: FutureWarning: Pass y=[0.0000000e+00 0.0000000e+00 0.0000000e+00 ... 6.8676131e-09 4.9077755e-09\n",
      " 0.0000000e+00] as keyword args. From version 0.10 passing these as positional arguments will result in an error\n",
      "  mel=np.mean(librosa.feature.melspectrogram(data, sr=sample_rate).T,axis=0)\n"
     ]
    },
    {
     "name": "stdout",
     "output_type": "stream",
     "text": [
      "8\n",
      "sad_female\n",
      "9\n",
      "disgust_female\n"
     ]
    },
    {
     "name": "stderr",
     "output_type": "stream",
     "text": [
      "/var/folders/7h/3y0jb5yx0g399b2y_qtq_db80000gn/T/ipykernel_26966/1257479974.py:14: FutureWarning: Pass y=[-2.9270122e-06  4.7373724e-06  1.0459749e-05 ...  0.0000000e+00\n",
      "  0.0000000e+00  0.0000000e+00] as keyword args. From version 0.10 passing these as positional arguments will result in an error\n",
      "  mel=np.mean(librosa.feature.melspectrogram(data, sr=sample_rate).T,axis=0)\n",
      "/var/folders/7h/3y0jb5yx0g399b2y_qtq_db80000gn/T/ipykernel_26966/1257479974.py:14: FutureWarning: Pass y=[ 0.0000000e+00  0.0000000e+00  0.0000000e+00 ... -2.9567454e-05\n",
      "  2.6943101e-06  0.0000000e+00] as keyword args. From version 0.10 passing these as positional arguments will result in an error\n",
      "  mel=np.mean(librosa.feature.melspectrogram(data, sr=sample_rate).T,axis=0)\n"
     ]
    },
    {
     "name": "stdout",
     "output_type": "stream",
     "text": [
      "10\n",
      "surprised_female\n",
      "11\n",
      "surprised_female\n"
     ]
    },
    {
     "name": "stderr",
     "output_type": "stream",
     "text": [
      "/var/folders/7h/3y0jb5yx0g399b2y_qtq_db80000gn/T/ipykernel_26966/1257479974.py:14: FutureWarning: Pass y=[ 7.4474977e-09 -3.6920069e-09 -1.7694524e-09 ...  1.7177777e-09\n",
      " -1.3001107e-09  0.0000000e+00] as keyword args. From version 0.10 passing these as positional arguments will result in an error\n",
      "  mel=np.mean(librosa.feature.melspectrogram(data, sr=sample_rate).T,axis=0)\n",
      "/var/folders/7h/3y0jb5yx0g399b2y_qtq_db80000gn/T/ipykernel_26966/1257479974.py:14: FutureWarning: Pass y=[ 0.0000000e+00  0.0000000e+00  0.0000000e+00 ... -2.9869720e-06\n",
      "  6.6106177e-06  0.0000000e+00] as keyword args. From version 0.10 passing these as positional arguments will result in an error\n",
      "  mel=np.mean(librosa.feature.melspectrogram(data, sr=sample_rate).T,axis=0)\n"
     ]
    },
    {
     "name": "stdout",
     "output_type": "stream",
     "text": [
      "12\n",
      "happy_female\n",
      "13\n",
      "happy_female\n"
     ]
    },
    {
     "name": "stderr",
     "output_type": "stream",
     "text": [
      "/var/folders/7h/3y0jb5yx0g399b2y_qtq_db80000gn/T/ipykernel_26966/1257479974.py:14: FutureWarning: Pass y=[ 0.0000000e+00  0.0000000e+00  0.0000000e+00 ...  1.0480491e-08\n",
      " -1.0120676e-08  0.0000000e+00] as keyword args. From version 0.10 passing these as positional arguments will result in an error\n",
      "  mel=np.mean(librosa.feature.melspectrogram(data, sr=sample_rate).T,axis=0)\n",
      "/var/folders/7h/3y0jb5yx0g399b2y_qtq_db80000gn/T/ipykernel_26966/1257479974.py:14: FutureWarning: Pass y=[-1.3165257e-05 -8.9564452e-07  9.1949454e-07 ... -8.0967846e-09\n",
      "  5.4641260e-09  0.0000000e+00] as keyword args. From version 0.10 passing these as positional arguments will result in an error\n",
      "  mel=np.mean(librosa.feature.melspectrogram(data, sr=sample_rate).T,axis=0)\n"
     ]
    },
    {
     "name": "stdout",
     "output_type": "stream",
     "text": [
      "14\n",
      "calm_female\n",
      "15\n",
      "neutral_female\n"
     ]
    },
    {
     "name": "stderr",
     "output_type": "stream",
     "text": [
      "/var/folders/7h/3y0jb5yx0g399b2y_qtq_db80000gn/T/ipykernel_26966/1257479974.py:14: FutureWarning: Pass y=[0.000000e+00 0.000000e+00 0.000000e+00 ... 1.781282e-05 5.191766e-06\n",
      " 0.000000e+00] as keyword args. From version 0.10 passing these as positional arguments will result in an error\n",
      "  mel=np.mean(librosa.feature.melspectrogram(data, sr=sample_rate).T,axis=0)\n",
      "/var/folders/7h/3y0jb5yx0g399b2y_qtq_db80000gn/T/ipykernel_26966/1257479974.py:14: FutureWarning: Pass y=[ 0.0000000e+00  0.0000000e+00  0.0000000e+00 ... -3.4905647e-06\n",
      " -4.4564182e-05  0.0000000e+00] as keyword args. From version 0.10 passing these as positional arguments will result in an error\n",
      "  mel=np.mean(librosa.feature.melspectrogram(data, sr=sample_rate).T,axis=0)\n"
     ]
    },
    {
     "name": "stdout",
     "output_type": "stream",
     "text": [
      "16\n",
      "calm_female\n",
      "17\n",
      "happy_female\n"
     ]
    },
    {
     "name": "stderr",
     "output_type": "stream",
     "text": [
      "/var/folders/7h/3y0jb5yx0g399b2y_qtq_db80000gn/T/ipykernel_26966/1257479974.py:14: FutureWarning: Pass y=[ 0.0000000e+00  0.0000000e+00  0.0000000e+00 ...  6.6608516e-07\n",
      " -3.1252762e-07  0.0000000e+00] as keyword args. From version 0.10 passing these as positional arguments will result in an error\n",
      "  mel=np.mean(librosa.feature.melspectrogram(data, sr=sample_rate).T,axis=0)\n",
      "/var/folders/7h/3y0jb5yx0g399b2y_qtq_db80000gn/T/ipykernel_26966/1257479974.py:14: FutureWarning: Pass y=[0.0000000e+00 0.0000000e+00 0.0000000e+00 ... 6.7752620e-07 1.0969114e-05\n",
      " 0.0000000e+00] as keyword args. From version 0.10 passing these as positional arguments will result in an error\n",
      "  mel=np.mean(librosa.feature.melspectrogram(data, sr=sample_rate).T,axis=0)\n"
     ]
    },
    {
     "name": "stdout",
     "output_type": "stream",
     "text": [
      "18\n",
      "happy_female\n",
      "19\n",
      "calm_female\n"
     ]
    },
    {
     "name": "stderr",
     "output_type": "stream",
     "text": [
      "/var/folders/7h/3y0jb5yx0g399b2y_qtq_db80000gn/T/ipykernel_26966/1257479974.py:14: FutureWarning: Pass y=[ 1.5614663e-05  1.3804451e-05 -1.9015915e-06 ...  3.8857532e-08\n",
      " -3.7665945e-08  0.0000000e+00] as keyword args. From version 0.10 passing these as positional arguments will result in an error\n",
      "  mel=np.mean(librosa.feature.melspectrogram(data, sr=sample_rate).T,axis=0)\n",
      "/var/folders/7h/3y0jb5yx0g399b2y_qtq_db80000gn/T/ipykernel_26966/1257479974.py:14: FutureWarning: Pass y=[ 0.0000000e+00  0.0000000e+00  0.0000000e+00 ... -1.0146568e-06\n",
      "  8.8210953e-07  0.0000000e+00] as keyword args. From version 0.10 passing these as positional arguments will result in an error\n",
      "  mel=np.mean(librosa.feature.melspectrogram(data, sr=sample_rate).T,axis=0)\n"
     ]
    },
    {
     "name": "stdout",
     "output_type": "stream",
     "text": [
      "20\n",
      "calm_female\n",
      "21\n",
      "neutral_female\n"
     ]
    },
    {
     "name": "stderr",
     "output_type": "stream",
     "text": [
      "/var/folders/7h/3y0jb5yx0g399b2y_qtq_db80000gn/T/ipykernel_26966/1257479974.py:14: FutureWarning: Pass y=[ 0.0000000e+00  0.0000000e+00  0.0000000e+00 ... -1.3965004e-07\n",
      "  1.3745296e-07  0.0000000e+00] as keyword args. From version 0.10 passing these as positional arguments will result in an error\n",
      "  mel=np.mean(librosa.feature.melspectrogram(data, sr=sample_rate).T,axis=0)\n",
      "/var/folders/7h/3y0jb5yx0g399b2y_qtq_db80000gn/T/ipykernel_26966/1257479974.py:14: FutureWarning: Pass y=[ 0.0000000e+00  0.0000000e+00  0.0000000e+00 ...  3.8535234e-07\n",
      " -2.9829107e-07  0.0000000e+00] as keyword args. From version 0.10 passing these as positional arguments will result in an error\n",
      "  mel=np.mean(librosa.feature.melspectrogram(data, sr=sample_rate).T,axis=0)\n"
     ]
    },
    {
     "name": "stdout",
     "output_type": "stream",
     "text": [
      "22\n",
      "fearful_female\n"
     ]
    },
    {
     "name": "stderr",
     "output_type": "stream",
     "text": [
      "/var/folders/7h/3y0jb5yx0g399b2y_qtq_db80000gn/T/ipykernel_26966/1257479974.py:14: FutureWarning: Pass y=[ 1.1812286e-05  2.7926912e-06 -4.6966820e-06 ...  1.2253681e-05\n",
      "  4.0724932e-05  0.0000000e+00] as keyword args. From version 0.10 passing these as positional arguments will result in an error\n",
      "  mel=np.mean(librosa.feature.melspectrogram(data, sr=sample_rate).T,axis=0)\n"
     ]
    },
    {
     "name": "stdout",
     "output_type": "stream",
     "text": [
      "23\n",
      "angry_female\n"
     ]
    },
    {
     "name": "stderr",
     "output_type": "stream",
     "text": [
      "/var/folders/7h/3y0jb5yx0g399b2y_qtq_db80000gn/T/ipykernel_26966/1257479974.py:14: FutureWarning: Pass y=[ 3.7439131e-05  8.3553168e-06 -3.0173719e-06 ... -2.5724016e-06\n",
      "  1.2112387e-05  0.0000000e+00] as keyword args. From version 0.10 passing these as positional arguments will result in an error\n",
      "  mel=np.mean(librosa.feature.melspectrogram(data, sr=sample_rate).T,axis=0)\n",
      "/var/folders/7h/3y0jb5yx0g399b2y_qtq_db80000gn/T/ipykernel_26966/1257479974.py:14: FutureWarning: Pass y=[ 0.0000000e+00  0.0000000e+00  0.0000000e+00 ... -3.3238364e-05\n",
      " -1.4833636e-05  0.0000000e+00] as keyword args. From version 0.10 passing these as positional arguments will result in an error\n",
      "  mel=np.mean(librosa.feature.melspectrogram(data, sr=sample_rate).T,axis=0)\n"
     ]
    },
    {
     "name": "stdout",
     "output_type": "stream",
     "text": [
      "24\n",
      "angry_female\n",
      "25\n",
      "fearful_female\n"
     ]
    },
    {
     "name": "stderr",
     "output_type": "stream",
     "text": [
      "/var/folders/7h/3y0jb5yx0g399b2y_qtq_db80000gn/T/ipykernel_26966/1257479974.py:14: FutureWarning: Pass y=[ 0.0000000e+00  0.0000000e+00  0.0000000e+00 ... -2.1701185e-06\n",
      "  2.6182327e-06  0.0000000e+00] as keyword args. From version 0.10 passing these as positional arguments will result in an error\n",
      "  mel=np.mean(librosa.feature.melspectrogram(data, sr=sample_rate).T,axis=0)\n",
      "/var/folders/7h/3y0jb5yx0g399b2y_qtq_db80000gn/T/ipykernel_26966/1257479974.py:14: FutureWarning: Pass y=[ 0.0000000e+00  0.0000000e+00  0.0000000e+00 ...  4.6312916e-08\n",
      " -2.7663509e-08  0.0000000e+00] as keyword args. From version 0.10 passing these as positional arguments will result in an error\n",
      "  mel=np.mean(librosa.feature.melspectrogram(data, sr=sample_rate).T,axis=0)\n"
     ]
    },
    {
     "name": "stdout",
     "output_type": "stream",
     "text": [
      "26\n",
      "sad_female\n",
      "27\n",
      "disgust_female\n"
     ]
    },
    {
     "name": "stderr",
     "output_type": "stream",
     "text": [
      "/var/folders/7h/3y0jb5yx0g399b2y_qtq_db80000gn/T/ipykernel_26966/1257479974.py:14: FutureWarning: Pass y=[0.000000e+00 0.000000e+00 0.000000e+00 ... 5.910415e-05 4.711750e-05\n",
      " 0.000000e+00] as keyword args. From version 0.10 passing these as positional arguments will result in an error\n",
      "  mel=np.mean(librosa.feature.melspectrogram(data, sr=sample_rate).T,axis=0)\n",
      "/var/folders/7h/3y0jb5yx0g399b2y_qtq_db80000gn/T/ipykernel_26966/1257479974.py:14: FutureWarning: Pass y=[ 0.          0.          0.         ... -0.00050845 -0.00058109\n",
      "  0.        ] as keyword args. From version 0.10 passing these as positional arguments will result in an error\n",
      "  mel=np.mean(librosa.feature.melspectrogram(data, sr=sample_rate).T,axis=0)\n"
     ]
    },
    {
     "name": "stdout",
     "output_type": "stream",
     "text": [
      "28\n",
      "disgust_female\n",
      "29\n",
      "sad_female\n"
     ]
    },
    {
     "name": "stderr",
     "output_type": "stream",
     "text": [
      "/var/folders/7h/3y0jb5yx0g399b2y_qtq_db80000gn/T/ipykernel_26966/1257479974.py:14: FutureWarning: Pass y=[ 0.0000000e+00  0.0000000e+00  0.0000000e+00 ... -3.8617331e-06\n",
      "  2.2478548e-06  0.0000000e+00] as keyword args. From version 0.10 passing these as positional arguments will result in an error\n",
      "  mel=np.mean(librosa.feature.melspectrogram(data, sr=sample_rate).T,axis=0)\n",
      "/var/folders/7h/3y0jb5yx0g399b2y_qtq_db80000gn/T/ipykernel_26966/1257479974.py:14: FutureWarning: Pass y=[ 0.0000000e+00  0.0000000e+00  0.0000000e+00 ... -5.2214882e-10\n",
      "  3.2479552e-10  0.0000000e+00] as keyword args. From version 0.10 passing these as positional arguments will result in an error\n",
      "  mel=np.mean(librosa.feature.melspectrogram(data, sr=sample_rate).T,axis=0)\n"
     ]
    },
    {
     "name": "stdout",
     "output_type": "stream",
     "text": [
      "30\n",
      "surprised_female\n",
      "31\n",
      "surprised_female\n"
     ]
    },
    {
     "name": "stderr",
     "output_type": "stream",
     "text": [
      "/var/folders/7h/3y0jb5yx0g399b2y_qtq_db80000gn/T/ipykernel_26966/1257479974.py:14: FutureWarning: Pass y=[ 0.0000000e+00  0.0000000e+00  0.0000000e+00 ... -1.8386938e-06\n",
      " -7.6317529e-06  0.0000000e+00] as keyword args. From version 0.10 passing these as positional arguments will result in an error\n",
      "  mel=np.mean(librosa.feature.melspectrogram(data, sr=sample_rate).T,axis=0)\n",
      "/var/folders/7h/3y0jb5yx0g399b2y_qtq_db80000gn/T/ipykernel_26966/1257479974.py:14: FutureWarning: Pass y=[ 0.0000000e+00  0.0000000e+00  0.0000000e+00 ... -2.1566341e-06\n",
      "  1.6662759e-06  0.0000000e+00] as keyword args. From version 0.10 passing these as positional arguments will result in an error\n",
      "  mel=np.mean(librosa.feature.melspectrogram(data, sr=sample_rate).T,axis=0)\n"
     ]
    },
    {
     "name": "stdout",
     "output_type": "stream",
     "text": [
      "32\n",
      "calm_female\n",
      "33\n",
      "neutral_female\n"
     ]
    },
    {
     "name": "stderr",
     "output_type": "stream",
     "text": [
      "/var/folders/7h/3y0jb5yx0g399b2y_qtq_db80000gn/T/ipykernel_26966/1257479974.py:14: FutureWarning: Pass y=[0.0000000e+00 0.0000000e+00 0.0000000e+00 ... 4.9656126e-05 5.8946156e-05\n",
      " 0.0000000e+00] as keyword args. From version 0.10 passing these as positional arguments will result in an error\n",
      "  mel=np.mean(librosa.feature.melspectrogram(data, sr=sample_rate).T,axis=0)\n",
      "/var/folders/7h/3y0jb5yx0g399b2y_qtq_db80000gn/T/ipykernel_26966/1257479974.py:14: FutureWarning: Pass y=[ 2.4383530e-08 -2.5146955e-08  2.4673925e-08 ...  1.0081484e-05\n",
      " -2.4581104e-06  0.0000000e+00] as keyword args. From version 0.10 passing these as positional arguments will result in an error\n",
      "  mel=np.mean(librosa.feature.melspectrogram(data, sr=sample_rate).T,axis=0)\n"
     ]
    },
    {
     "name": "stdout",
     "output_type": "stream",
     "text": [
      "34\n",
      "calm_female\n",
      "35\n",
      "happy_female\n"
     ]
    },
    {
     "name": "stderr",
     "output_type": "stream",
     "text": [
      "/var/folders/7h/3y0jb5yx0g399b2y_qtq_db80000gn/T/ipykernel_26966/1257479974.py:14: FutureWarning: Pass y=[0.0000000e+00 0.0000000e+00 0.0000000e+00 ... 1.9418863e-05 3.0466281e-05\n",
      " 0.0000000e+00] as keyword args. From version 0.10 passing these as positional arguments will result in an error\n",
      "  mel=np.mean(librosa.feature.melspectrogram(data, sr=sample_rate).T,axis=0)\n",
      "/var/folders/7h/3y0jb5yx0g399b2y_qtq_db80000gn/T/ipykernel_26966/1257479974.py:14: FutureWarning: Pass y=[ 1.4861443e-07 -1.6280487e-07  1.7306931e-07 ...  0.0000000e+00\n",
      "  0.0000000e+00  0.0000000e+00] as keyword args. From version 0.10 passing these as positional arguments will result in an error\n",
      "  mel=np.mean(librosa.feature.melspectrogram(data, sr=sample_rate).T,axis=0)\n"
     ]
    },
    {
     "name": "stdout",
     "output_type": "stream",
     "text": [
      "36\n",
      "happy_female\n",
      "37\n",
      "disgust_female\n"
     ]
    },
    {
     "name": "stderr",
     "output_type": "stream",
     "text": [
      "/var/folders/7h/3y0jb5yx0g399b2y_qtq_db80000gn/T/ipykernel_26966/1257479974.py:14: FutureWarning: Pass y=[ 0.0000000e+00  0.0000000e+00  0.0000000e+00 ... -1.1003667e-05\n",
      "  5.3526005e-06  0.0000000e+00] as keyword args. From version 0.10 passing these as positional arguments will result in an error\n",
      "  mel=np.mean(librosa.feature.melspectrogram(data, sr=sample_rate).T,axis=0)\n",
      "/var/folders/7h/3y0jb5yx0g399b2y_qtq_db80000gn/T/ipykernel_26966/1257479974.py:14: FutureWarning: Pass y=[-6.1248056e-06 -4.8266851e-05 -9.6139804e-05 ...  6.9340743e-08\n",
      " -6.8798990e-08  0.0000000e+00] as keyword args. From version 0.10 passing these as positional arguments will result in an error\n",
      "  mel=np.mean(librosa.feature.melspectrogram(data, sr=sample_rate).T,axis=0)\n"
     ]
    },
    {
     "name": "stdout",
     "output_type": "stream",
     "text": [
      "38\n",
      "sad_female\n",
      "39\n",
      "sad_female\n"
     ]
    },
    {
     "name": "stderr",
     "output_type": "stream",
     "text": [
      "/var/folders/7h/3y0jb5yx0g399b2y_qtq_db80000gn/T/ipykernel_26966/1257479974.py:14: FutureWarning: Pass y=[ 0.000000e+00  0.000000e+00  0.000000e+00 ... -9.032854e-07  7.402616e-07\n",
      "  0.000000e+00] as keyword args. From version 0.10 passing these as positional arguments will result in an error\n",
      "  mel=np.mean(librosa.feature.melspectrogram(data, sr=sample_rate).T,axis=0)\n",
      "/var/folders/7h/3y0jb5yx0g399b2y_qtq_db80000gn/T/ipykernel_26966/1257479974.py:14: FutureWarning: Pass y=[ 0.000000e+00  0.000000e+00  0.000000e+00 ... -5.244597e-07  3.087021e-07\n",
      "  0.000000e+00] as keyword args. From version 0.10 passing these as positional arguments will result in an error\n",
      "  mel=np.mean(librosa.feature.melspectrogram(data, sr=sample_rate).T,axis=0)\n"
     ]
    },
    {
     "name": "stdout",
     "output_type": "stream",
     "text": [
      "40\n",
      "disgust_female\n",
      "41\n",
      "angry_female\n"
     ]
    },
    {
     "name": "stderr",
     "output_type": "stream",
     "text": [
      "/var/folders/7h/3y0jb5yx0g399b2y_qtq_db80000gn/T/ipykernel_26966/1257479974.py:14: FutureWarning: Pass y=[ 0.0000000e+00  0.0000000e+00  0.0000000e+00 ...  3.8595292e-07\n",
      " -5.8347052e-07  0.0000000e+00] as keyword args. From version 0.10 passing these as positional arguments will result in an error\n",
      "  mel=np.mean(librosa.feature.melspectrogram(data, sr=sample_rate).T,axis=0)\n",
      "/var/folders/7h/3y0jb5yx0g399b2y_qtq_db80000gn/T/ipykernel_26966/1257479974.py:14: FutureWarning: Pass y=[ 0.0000000e+00  0.0000000e+00  0.0000000e+00 ... -5.1763468e-06\n",
      " -2.0219426e-05  0.0000000e+00] as keyword args. From version 0.10 passing these as positional arguments will result in an error\n",
      "  mel=np.mean(librosa.feature.melspectrogram(data, sr=sample_rate).T,axis=0)\n"
     ]
    },
    {
     "name": "stdout",
     "output_type": "stream",
     "text": [
      "42\n",
      "fearful_female\n",
      "43\n",
      "fearful_female\n"
     ]
    },
    {
     "name": "stderr",
     "output_type": "stream",
     "text": [
      "/var/folders/7h/3y0jb5yx0g399b2y_qtq_db80000gn/T/ipykernel_26966/1257479974.py:14: FutureWarning: Pass y=[-1.9929753e-06 -1.3049745e-05  1.6122704e-07 ... -1.9122794e-05\n",
      "  7.3381743e-05  0.0000000e+00] as keyword args. From version 0.10 passing these as positional arguments will result in an error\n",
      "  mel=np.mean(librosa.feature.melspectrogram(data, sr=sample_rate).T,axis=0)\n",
      "/var/folders/7h/3y0jb5yx0g399b2y_qtq_db80000gn/T/ipykernel_26966/1257479974.py:14: FutureWarning: Pass y=[0.0000000e+00 0.0000000e+00 0.0000000e+00 ... 2.0566058e-05 1.3981737e-05\n",
      " 0.0000000e+00] as keyword args. From version 0.10 passing these as positional arguments will result in an error\n",
      "  mel=np.mean(librosa.feature.melspectrogram(data, sr=sample_rate).T,axis=0)\n"
     ]
    },
    {
     "name": "stdout",
     "output_type": "stream",
     "text": [
      "44\n",
      "angry_female\n",
      "45\n",
      "surprised_female\n"
     ]
    },
    {
     "name": "stderr",
     "output_type": "stream",
     "text": [
      "/var/folders/7h/3y0jb5yx0g399b2y_qtq_db80000gn/T/ipykernel_26966/1257479974.py:14: FutureWarning: Pass y=[ 0.0000000e+00  0.0000000e+00  0.0000000e+00 ...  2.0793420e-06\n",
      " -1.5932054e-06  0.0000000e+00] as keyword args. From version 0.10 passing these as positional arguments will result in an error\n",
      "  mel=np.mean(librosa.feature.melspectrogram(data, sr=sample_rate).T,axis=0)\n",
      "/var/folders/7h/3y0jb5yx0g399b2y_qtq_db80000gn/T/ipykernel_26966/1257479974.py:14: FutureWarning: Pass y=[ 0.0000000e+00  0.0000000e+00  0.0000000e+00 ...  3.6843480e-07\n",
      " -3.8839426e-07  0.0000000e+00] as keyword args. From version 0.10 passing these as positional arguments will result in an error\n",
      "  mel=np.mean(librosa.feature.melspectrogram(data, sr=sample_rate).T,axis=0)\n"
     ]
    },
    {
     "name": "stdout",
     "output_type": "stream",
     "text": [
      "46\n",
      "surprised_female\n",
      "47\n",
      "sad_female\n"
     ]
    },
    {
     "name": "stderr",
     "output_type": "stream",
     "text": [
      "/var/folders/7h/3y0jb5yx0g399b2y_qtq_db80000gn/T/ipykernel_26966/1257479974.py:14: FutureWarning: Pass y=[ 0.0000000e+00  0.0000000e+00  0.0000000e+00 ...  7.8675448e-09\n",
      " -1.1229446e-08  0.0000000e+00] as keyword args. From version 0.10 passing these as positional arguments will result in an error\n",
      "  mel=np.mean(librosa.feature.melspectrogram(data, sr=sample_rate).T,axis=0)\n",
      "/var/folders/7h/3y0jb5yx0g399b2y_qtq_db80000gn/T/ipykernel_26966/1257479974.py:14: FutureWarning: Pass y=[ 0.000000e+00  0.000000e+00  0.000000e+00 ... -6.244267e-05 -5.080612e-05\n",
      "  0.000000e+00] as keyword args. From version 0.10 passing these as positional arguments will result in an error\n",
      "  mel=np.mean(librosa.feature.melspectrogram(data, sr=sample_rate).T,axis=0)\n"
     ]
    },
    {
     "name": "stdout",
     "output_type": "stream",
     "text": [
      "48\n",
      "disgust_female\n",
      "49\n",
      "disgust_female\n"
     ]
    },
    {
     "name": "stderr",
     "output_type": "stream",
     "text": [
      "/var/folders/7h/3y0jb5yx0g399b2y_qtq_db80000gn/T/ipykernel_26966/1257479974.py:14: FutureWarning: Pass y=[ 0.0000000e+00  0.0000000e+00  0.0000000e+00 ...  8.0032023e-06\n",
      " -4.3980657e-05  0.0000000e+00] as keyword args. From version 0.10 passing these as positional arguments will result in an error\n",
      "  mel=np.mean(librosa.feature.melspectrogram(data, sr=sample_rate).T,axis=0)\n",
      "/var/folders/7h/3y0jb5yx0g399b2y_qtq_db80000gn/T/ipykernel_26966/1257479974.py:14: FutureWarning: Pass y=[ 0.0000000e+00  0.0000000e+00  0.0000000e+00 ...  7.9907545e-07\n",
      " -6.1902301e-07  0.0000000e+00] as keyword args. From version 0.10 passing these as positional arguments will result in an error\n",
      "  mel=np.mean(librosa.feature.melspectrogram(data, sr=sample_rate).T,axis=0)\n"
     ]
    },
    {
     "name": "stdout",
     "output_type": "stream",
     "text": [
      "50\n",
      "sad_female\n",
      "51\n",
      "fearful_female\n"
     ]
    },
    {
     "name": "stderr",
     "output_type": "stream",
     "text": [
      "/var/folders/7h/3y0jb5yx0g399b2y_qtq_db80000gn/T/ipykernel_26966/1257479974.py:14: FutureWarning: Pass y=[ 0.0000000e+00  0.0000000e+00  0.0000000e+00 ...  6.4146366e-06\n",
      " -4.1399267e-06  0.0000000e+00] as keyword args. From version 0.10 passing these as positional arguments will result in an error\n",
      "  mel=np.mean(librosa.feature.melspectrogram(data, sr=sample_rate).T,axis=0)\n",
      "/var/folders/7h/3y0jb5yx0g399b2y_qtq_db80000gn/T/ipykernel_26966/1257479974.py:14: FutureWarning: Pass y=[ 0.0000000e+00  0.0000000e+00  0.0000000e+00 ...  1.4936194e-05\n",
      " -2.8932388e-06  0.0000000e+00] as keyword args. From version 0.10 passing these as positional arguments will result in an error\n",
      "  mel=np.mean(librosa.feature.melspectrogram(data, sr=sample_rate).T,axis=0)\n"
     ]
    },
    {
     "name": "stdout",
     "output_type": "stream",
     "text": [
      "52\n",
      "angry_female\n",
      "53\n",
      "angry_female\n"
     ]
    },
    {
     "name": "stderr",
     "output_type": "stream",
     "text": [
      "/var/folders/7h/3y0jb5yx0g399b2y_qtq_db80000gn/T/ipykernel_26966/1257479974.py:14: FutureWarning: Pass y=[ 0.0000000e+00  0.0000000e+00  0.0000000e+00 ... -4.0300896e-09\n",
      "  1.0359929e-08  0.0000000e+00] as keyword args. From version 0.10 passing these as positional arguments will result in an error\n",
      "  mel=np.mean(librosa.feature.melspectrogram(data, sr=sample_rate).T,axis=0)\n",
      "/var/folders/7h/3y0jb5yx0g399b2y_qtq_db80000gn/T/ipykernel_26966/1257479974.py:14: FutureWarning: Pass y=[0. 0. 0. ... 0. 0. 0.] as keyword args. From version 0.10 passing these as positional arguments will result in an error\n",
      "  mel=np.mean(librosa.feature.melspectrogram(data, sr=sample_rate).T,axis=0)\n"
     ]
    },
    {
     "name": "stdout",
     "output_type": "stream",
     "text": [
      "54\n",
      "fearful_female\n",
      "55\n",
      "surprised_female\n"
     ]
    },
    {
     "name": "stderr",
     "output_type": "stream",
     "text": [
      "/var/folders/7h/3y0jb5yx0g399b2y_qtq_db80000gn/T/ipykernel_26966/1257479974.py:14: FutureWarning: Pass y=[ 0.0000000e+00  0.0000000e+00  0.0000000e+00 ...  1.1413482e-05\n",
      " -3.1332556e-06  0.0000000e+00] as keyword args. From version 0.10 passing these as positional arguments will result in an error\n",
      "  mel=np.mean(librosa.feature.melspectrogram(data, sr=sample_rate).T,axis=0)\n",
      "/var/folders/7h/3y0jb5yx0g399b2y_qtq_db80000gn/T/ipykernel_26966/1257479974.py:14: FutureWarning: Pass y=[ 0.0000000e+00  0.0000000e+00  0.0000000e+00 ... -5.5611554e-06\n",
      "  3.3549663e-06  0.0000000e+00] as keyword args. From version 0.10 passing these as positional arguments will result in an error\n",
      "  mel=np.mean(librosa.feature.melspectrogram(data, sr=sample_rate).T,axis=0)\n"
     ]
    },
    {
     "name": "stdout",
     "output_type": "stream",
     "text": [
      "56\n",
      "surprised_female\n",
      "57\n",
      "neutral_female\n"
     ]
    },
    {
     "name": "stderr",
     "output_type": "stream",
     "text": [
      "/var/folders/7h/3y0jb5yx0g399b2y_qtq_db80000gn/T/ipykernel_26966/1257479974.py:14: FutureWarning: Pass y=[ 0.0000000e+00  0.0000000e+00  0.0000000e+00 ...  7.6991374e-10\n",
      " -5.6173849e-10  0.0000000e+00] as keyword args. From version 0.10 passing these as positional arguments will result in an error\n",
      "  mel=np.mean(librosa.feature.melspectrogram(data, sr=sample_rate).T,axis=0)\n",
      "/var/folders/7h/3y0jb5yx0g399b2y_qtq_db80000gn/T/ipykernel_26966/1257479974.py:14: FutureWarning: Pass y=[ 0.0000000e+00  0.0000000e+00  0.0000000e+00 ... -2.3783776e-05\n",
      "  2.6043908e-06  0.0000000e+00] as keyword args. From version 0.10 passing these as positional arguments will result in an error\n",
      "  mel=np.mean(librosa.feature.melspectrogram(data, sr=sample_rate).T,axis=0)\n"
     ]
    },
    {
     "name": "stdout",
     "output_type": "stream",
     "text": [
      "58\n",
      "calm_female\n",
      "59\n",
      "calm_female\n"
     ]
    },
    {
     "name": "stderr",
     "output_type": "stream",
     "text": [
      "/var/folders/7h/3y0jb5yx0g399b2y_qtq_db80000gn/T/ipykernel_26966/1257479974.py:14: FutureWarning: Pass y=[ 0.0000000e+00  0.0000000e+00  0.0000000e+00 ...  9.4318398e-07\n",
      " -1.2913623e-05  0.0000000e+00] as keyword args. From version 0.10 passing these as positional arguments will result in an error\n",
      "  mel=np.mean(librosa.feature.melspectrogram(data, sr=sample_rate).T,axis=0)\n",
      "/var/folders/7h/3y0jb5yx0g399b2y_qtq_db80000gn/T/ipykernel_26966/1257479974.py:14: FutureWarning: Pass y=[ 0.0000000e+00  0.0000000e+00  0.0000000e+00 ...  2.1529368e-06\n",
      " -9.1583189e-07  0.0000000e+00] as keyword args. From version 0.10 passing these as positional arguments will result in an error\n",
      "  mel=np.mean(librosa.feature.melspectrogram(data, sr=sample_rate).T,axis=0)\n"
     ]
    },
    {
     "name": "stdout",
     "output_type": "stream",
     "text": [
      "60\n",
      "happy_female\n",
      "61\n",
      "happy_female\n"
     ]
    },
    {
     "name": "stderr",
     "output_type": "stream",
     "text": [
      "/var/folders/7h/3y0jb5yx0g399b2y_qtq_db80000gn/T/ipykernel_26966/1257479974.py:14: FutureWarning: Pass y=[-1.2782263e-05 -1.0258184e-06  6.1477124e-07 ... -5.2009753e-05\n",
      " -2.5108304e-05  0.0000000e+00] as keyword args. From version 0.10 passing these as positional arguments will result in an error\n",
      "  mel=np.mean(librosa.feature.melspectrogram(data, sr=sample_rate).T,axis=0)\n",
      "/var/folders/7h/3y0jb5yx0g399b2y_qtq_db80000gn/T/ipykernel_26966/1257479974.py:14: FutureWarning: Pass y=[-4.2046711e-05 -6.8732683e-05 -5.3474985e-05 ...  4.5169782e-04\n",
      "  4.7340980e-04  0.0000000e+00] as keyword args. From version 0.10 passing these as positional arguments will result in an error\n",
      "  mel=np.mean(librosa.feature.melspectrogram(data, sr=sample_rate).T,axis=0)\n"
     ]
    },
    {
     "name": "stdout",
     "output_type": "stream",
     "text": [
      "62\n",
      "neutral_male\n",
      "63\n",
      "calm_male\n"
     ]
    },
    {
     "name": "stderr",
     "output_type": "stream",
     "text": [
      "/var/folders/7h/3y0jb5yx0g399b2y_qtq_db80000gn/T/ipykernel_26966/1257479974.py:14: FutureWarning: Pass y=[3.9426297e-05 8.0595702e-05 7.5862685e-05 ... 3.9914969e-05 7.0437483e-05\n",
      " 0.0000000e+00] as keyword args. From version 0.10 passing these as positional arguments will result in an error\n",
      "  mel=np.mean(librosa.feature.melspectrogram(data, sr=sample_rate).T,axis=0)\n"
     ]
    },
    {
     "name": "stdout",
     "output_type": "stream",
     "text": [
      "64\n",
      "calm_male\n",
      "65\n",
      "happy_male\n"
     ]
    },
    {
     "name": "stderr",
     "output_type": "stream",
     "text": [
      "/var/folders/7h/3y0jb5yx0g399b2y_qtq_db80000gn/T/ipykernel_26966/1257479974.py:14: FutureWarning: Pass y=[ 1.5182918e-05  1.3956031e-05  2.5323312e-05 ... -3.6435686e-05\n",
      " -4.4226752e-05  0.0000000e+00] as keyword args. From version 0.10 passing these as positional arguments will result in an error\n",
      "  mel=np.mean(librosa.feature.melspectrogram(data, sr=sample_rate).T,axis=0)\n",
      "/var/folders/7h/3y0jb5yx0g399b2y_qtq_db80000gn/T/ipykernel_26966/1257479974.py:14: FutureWarning: Pass y=[8.7551874e-05 1.3283629e-04 8.7496075e-05 ... 1.7464753e-04 2.0036273e-04\n",
      " 0.0000000e+00] as keyword args. From version 0.10 passing these as positional arguments will result in an error\n",
      "  mel=np.mean(librosa.feature.melspectrogram(data, sr=sample_rate).T,axis=0)\n"
     ]
    },
    {
     "name": "stdout",
     "output_type": "stream",
     "text": [
      "66\n",
      "happy_male\n",
      "67\n",
      "sad_male\n"
     ]
    },
    {
     "name": "stderr",
     "output_type": "stream",
     "text": [
      "/var/folders/7h/3y0jb5yx0g399b2y_qtq_db80000gn/T/ipykernel_26966/1257479974.py:14: FutureWarning: Pass y=[-1.6482957e-07  1.4285199e-07 -1.0765291e-07 ... -5.5778634e-07\n",
      "  3.6827026e-07  0.0000000e+00] as keyword args. From version 0.10 passing these as positional arguments will result in an error\n",
      "  mel=np.mean(librosa.feature.melspectrogram(data, sr=sample_rate).T,axis=0)\n",
      "/var/folders/7h/3y0jb5yx0g399b2y_qtq_db80000gn/T/ipykernel_26966/1257479974.py:14: FutureWarning: Pass y=[-7.4775933e-05 -1.0801280e-04 -1.0975967e-04 ...  0.0000000e+00\n",
      "  0.0000000e+00  0.0000000e+00] as keyword args. From version 0.10 passing these as positional arguments will result in an error\n",
      "  mel=np.mean(librosa.feature.melspectrogram(data, sr=sample_rate).T,axis=0)\n"
     ]
    },
    {
     "name": "stdout",
     "output_type": "stream",
     "text": [
      "68\n",
      "disgust_male\n",
      "69\n",
      "disgust_male\n"
     ]
    },
    {
     "name": "stderr",
     "output_type": "stream",
     "text": [
      "/var/folders/7h/3y0jb5yx0g399b2y_qtq_db80000gn/T/ipykernel_26966/1257479974.py:14: FutureWarning: Pass y=[ 5.6800284e-09 -6.6714296e-09  7.5467339e-09 ...  0.0000000e+00\n",
      "  0.0000000e+00  0.0000000e+00] as keyword args. From version 0.10 passing these as positional arguments will result in an error\n",
      "  mel=np.mean(librosa.feature.melspectrogram(data, sr=sample_rate).T,axis=0)\n",
      "/var/folders/7h/3y0jb5yx0g399b2y_qtq_db80000gn/T/ipykernel_26966/1257479974.py:14: FutureWarning: Pass y=[ 1.1327367e-06 -1.5105284e-06 -2.3219089e-05 ...  1.0550528e-07\n",
      " -7.4576548e-08  0.0000000e+00] as keyword args. From version 0.10 passing these as positional arguments will result in an error\n",
      "  mel=np.mean(librosa.feature.melspectrogram(data, sr=sample_rate).T,axis=0)\n"
     ]
    },
    {
     "name": "stdout",
     "output_type": "stream",
     "text": [
      "70\n",
      "sad_male\n",
      "71\n",
      "fearful_male\n"
     ]
    },
    {
     "name": "stderr",
     "output_type": "stream",
     "text": [
      "/var/folders/7h/3y0jb5yx0g399b2y_qtq_db80000gn/T/ipykernel_26966/1257479974.py:14: FutureWarning: Pass y=[-1.0001330e-04 -1.2882640e-04 -2.2261847e-05 ...  9.3211347e-05\n",
      "  6.7173110e-05  0.0000000e+00] as keyword args. From version 0.10 passing these as positional arguments will result in an error\n",
      "  mel=np.mean(librosa.feature.melspectrogram(data, sr=sample_rate).T,axis=0)\n",
      "/var/folders/7h/3y0jb5yx0g399b2y_qtq_db80000gn/T/ipykernel_26966/1257479974.py:14: FutureWarning: Pass y=[-3.0139559e-05 -5.0483173e-05 -6.0976883e-05 ...  2.8986033e-05\n",
      "  5.4038141e-05  0.0000000e+00] as keyword args. From version 0.10 passing these as positional arguments will result in an error\n",
      "  mel=np.mean(librosa.feature.melspectrogram(data, sr=sample_rate).T,axis=0)\n"
     ]
    },
    {
     "name": "stdout",
     "output_type": "stream",
     "text": [
      "72\n",
      "angry_male\n",
      "73\n",
      "angry_male\n"
     ]
    },
    {
     "name": "stderr",
     "output_type": "stream",
     "text": [
      "/var/folders/7h/3y0jb5yx0g399b2y_qtq_db80000gn/T/ipykernel_26966/1257479974.py:14: FutureWarning: Pass y=[-1.0398557e-04 -1.4350057e-04 -1.5373167e-04 ...  6.5988126e-05\n",
      "  1.1213522e-04  0.0000000e+00] as keyword args. From version 0.10 passing these as positional arguments will result in an error\n",
      "  mel=np.mean(librosa.feature.melspectrogram(data, sr=sample_rate).T,axis=0)\n",
      "/var/folders/7h/3y0jb5yx0g399b2y_qtq_db80000gn/T/ipykernel_26966/1257479974.py:14: FutureWarning: Pass y=[ 7.8598703e-07 -7.0515603e-07  1.2678165e-06 ...  2.4839026e-05\n",
      "  3.6159632e-05  0.0000000e+00] as keyword args. From version 0.10 passing these as positional arguments will result in an error\n",
      "  mel=np.mean(librosa.feature.melspectrogram(data, sr=sample_rate).T,axis=0)\n"
     ]
    },
    {
     "name": "stdout",
     "output_type": "stream",
     "text": [
      "74\n",
      "fearful_male\n",
      "75\n",
      "surprised_male\n"
     ]
    },
    {
     "name": "stderr",
     "output_type": "stream",
     "text": [
      "/var/folders/7h/3y0jb5yx0g399b2y_qtq_db80000gn/T/ipykernel_26966/1257479974.py:14: FutureWarning: Pass y=[-2.5758736e-05 -2.0743963e-05  8.9895576e-07 ...  3.1962606e-09\n",
      " -2.4966620e-09  0.0000000e+00] as keyword args. From version 0.10 passing these as positional arguments will result in an error\n",
      "  mel=np.mean(librosa.feature.melspectrogram(data, sr=sample_rate).T,axis=0)\n",
      "/var/folders/7h/3y0jb5yx0g399b2y_qtq_db80000gn/T/ipykernel_26966/1257479974.py:14: FutureWarning: Pass y=[1.0017778e-04 1.3643615e-04 1.2013205e-04 ... 7.6313161e-05 6.6601140e-05\n",
      " 0.0000000e+00] as keyword args. From version 0.10 passing these as positional arguments will result in an error\n",
      "  mel=np.mean(librosa.feature.melspectrogram(data, sr=sample_rate).T,axis=0)\n"
     ]
    },
    {
     "name": "stdout",
     "output_type": "stream",
     "text": [
      "76\n",
      "surprised_male\n",
      "77\n",
      "disgust_male\n"
     ]
    },
    {
     "name": "stderr",
     "output_type": "stream",
     "text": [
      "/var/folders/7h/3y0jb5yx0g399b2y_qtq_db80000gn/T/ipykernel_26966/1257479974.py:14: FutureWarning: Pass y=[ 5.8336009e-05  8.1488608e-05  4.6898676e-05 ... -7.9365755e-03\n",
      " -8.7798024e-03  0.0000000e+00] as keyword args. From version 0.10 passing these as positional arguments will result in an error\n",
      "  mel=np.mean(librosa.feature.melspectrogram(data, sr=sample_rate).T,axis=0)\n",
      "/var/folders/7h/3y0jb5yx0g399b2y_qtq_db80000gn/T/ipykernel_26966/1257479974.py:14: FutureWarning: Pass y=[-2.66710140e-05 -4.16440380e-05 -4.45589030e-05 ...  3.72471404e-05\n",
      "  1.05738545e-05  0.00000000e+00] as keyword args. From version 0.10 passing these as positional arguments will result in an error\n",
      "  mel=np.mean(librosa.feature.melspectrogram(data, sr=sample_rate).T,axis=0)\n"
     ]
    },
    {
     "name": "stdout",
     "output_type": "stream",
     "text": [
      "78\n",
      "sad_male\n",
      "79\n",
      "sad_male\n"
     ]
    },
    {
     "name": "stderr",
     "output_type": "stream",
     "text": [
      "/var/folders/7h/3y0jb5yx0g399b2y_qtq_db80000gn/T/ipykernel_26966/1257479974.py:14: FutureWarning: Pass y=[ 7.2697320e-10 -5.0790185e-09  1.0667764e-08 ...  0.0000000e+00\n",
      "  0.0000000e+00  0.0000000e+00] as keyword args. From version 0.10 passing these as positional arguments will result in an error\n",
      "  mel=np.mean(librosa.feature.melspectrogram(data, sr=sample_rate).T,axis=0)\n",
      "/var/folders/7h/3y0jb5yx0g399b2y_qtq_db80000gn/T/ipykernel_26966/1257479974.py:14: FutureWarning: Pass y=[2.2134185e-05 3.3234930e-05 4.7668625e-05 ... 1.8715460e-05 3.1770625e-05\n",
      " 0.0000000e+00] as keyword args. From version 0.10 passing these as positional arguments will result in an error\n",
      "  mel=np.mean(librosa.feature.melspectrogram(data, sr=sample_rate).T,axis=0)\n"
     ]
    },
    {
     "name": "stdout",
     "output_type": "stream",
     "text": [
      "80\n",
      "disgust_male\n",
      "81\n",
      "angry_male\n"
     ]
    },
    {
     "name": "stderr",
     "output_type": "stream",
     "text": [
      "/var/folders/7h/3y0jb5yx0g399b2y_qtq_db80000gn/T/ipykernel_26966/1257479974.py:14: FutureWarning: Pass y=[-3.6464658e-05 -1.7872269e-04 -2.5839725e-05 ... -8.2619699e-05\n",
      " -1.0652065e-04  0.0000000e+00] as keyword args. From version 0.10 passing these as positional arguments will result in an error\n",
      "  mel=np.mean(librosa.feature.melspectrogram(data, sr=sample_rate).T,axis=0)\n",
      "/var/folders/7h/3y0jb5yx0g399b2y_qtq_db80000gn/T/ipykernel_26966/1257479974.py:14: FutureWarning: Pass y=[4.33938258e-05 8.92238313e-05 1.19951175e-04 ... 2.74926890e-04\n",
      " 2.37816290e-04 0.00000000e+00] as keyword args. From version 0.10 passing these as positional arguments will result in an error\n",
      "  mel=np.mean(librosa.feature.melspectrogram(data, sr=sample_rate).T,axis=0)\n"
     ]
    },
    {
     "name": "stdout",
     "output_type": "stream",
     "text": [
      "82\n",
      "fearful_male\n",
      "83\n",
      "fearful_male\n"
     ]
    },
    {
     "name": "stderr",
     "output_type": "stream",
     "text": [
      "/var/folders/7h/3y0jb5yx0g399b2y_qtq_db80000gn/T/ipykernel_26966/1257479974.py:14: FutureWarning: Pass y=[-2.5839058e-06  1.0881873e-05  5.8706987e-06 ... -6.1533872e-05\n",
      " -7.9256090e-05  0.0000000e+00] as keyword args. From version 0.10 passing these as positional arguments will result in an error\n",
      "  mel=np.mean(librosa.feature.melspectrogram(data, sr=sample_rate).T,axis=0)\n",
      "/var/folders/7h/3y0jb5yx0g399b2y_qtq_db80000gn/T/ipykernel_26966/1257479974.py:14: FutureWarning: Pass y=[ 1.1121890e-05  5.2797468e-06  9.5963223e-06 ...  6.9089556e-06\n",
      " -1.6511116e-05  0.0000000e+00] as keyword args. From version 0.10 passing these as positional arguments will result in an error\n",
      "  mel=np.mean(librosa.feature.melspectrogram(data, sr=sample_rate).T,axis=0)\n"
     ]
    },
    {
     "name": "stdout",
     "output_type": "stream",
     "text": [
      "84\n",
      "angry_male\n",
      "85\n",
      "surprised_male\n"
     ]
    },
    {
     "name": "stderr",
     "output_type": "stream",
     "text": [
      "/var/folders/7h/3y0jb5yx0g399b2y_qtq_db80000gn/T/ipykernel_26966/1257479974.py:14: FutureWarning: Pass y=[ 1.0141278e-04  1.2023348e-04 -8.0334194e-06 ... -6.9118047e-05\n",
      " -8.9678215e-05  0.0000000e+00] as keyword args. From version 0.10 passing these as positional arguments will result in an error\n",
      "  mel=np.mean(librosa.feature.melspectrogram(data, sr=sample_rate).T,axis=0)\n",
      "/var/folders/7h/3y0jb5yx0g399b2y_qtq_db80000gn/T/ipykernel_26966/1257479974.py:14: FutureWarning: Pass y=[0.00000000e+00 0.00000000e+00 0.00000000e+00 ... 1.03332146e-04\n",
      " 8.61147055e-05 0.00000000e+00] as keyword args. From version 0.10 passing these as positional arguments will result in an error\n",
      "  mel=np.mean(librosa.feature.melspectrogram(data, sr=sample_rate).T,axis=0)\n"
     ]
    },
    {
     "name": "stdout",
     "output_type": "stream",
     "text": [
      "86\n",
      "surprised_male\n",
      "87\n",
      "calm_male\n"
     ]
    },
    {
     "name": "stderr",
     "output_type": "stream",
     "text": [
      "/var/folders/7h/3y0jb5yx0g399b2y_qtq_db80000gn/T/ipykernel_26966/1257479974.py:14: FutureWarning: Pass y=[-1.4436517e-05 -1.4870009e-05 -2.3355273e-05 ...  2.6691049e-07\n",
      " -2.5689209e-07  0.0000000e+00] as keyword args. From version 0.10 passing these as positional arguments will result in an error\n",
      "  mel=np.mean(librosa.feature.melspectrogram(data, sr=sample_rate).T,axis=0)\n",
      "/var/folders/7h/3y0jb5yx0g399b2y_qtq_db80000gn/T/ipykernel_26966/1257479974.py:14: FutureWarning: Pass y=[-5.2721674e-07  8.2976283e-07 -1.3403313e-06 ...  5.4800377e-05\n",
      "  3.9269362e-05  0.0000000e+00] as keyword args. From version 0.10 passing these as positional arguments will result in an error\n",
      "  mel=np.mean(librosa.feature.melspectrogram(data, sr=sample_rate).T,axis=0)\n"
     ]
    },
    {
     "name": "stdout",
     "output_type": "stream",
     "text": [
      "88\n",
      "neutral_male\n",
      "89\n",
      "calm_male\n"
     ]
    },
    {
     "name": "stderr",
     "output_type": "stream",
     "text": [
      "/var/folders/7h/3y0jb5yx0g399b2y_qtq_db80000gn/T/ipykernel_26966/1257479974.py:14: FutureWarning: Pass y=[3.2389056e-05 6.1519560e-05 7.2347597e-05 ... 3.8163675e-05 4.4549834e-05\n",
      " 0.0000000e+00] as keyword args. From version 0.10 passing these as positional arguments will result in an error\n",
      "  mel=np.mean(librosa.feature.melspectrogram(data, sr=sample_rate).T,axis=0)\n",
      "/var/folders/7h/3y0jb5yx0g399b2y_qtq_db80000gn/T/ipykernel_26966/1257479974.py:14: FutureWarning: Pass y=[2.3080393e-05 4.7841440e-05 1.8211405e-05 ... 4.7479738e-05 5.2140527e-05\n",
      " 0.0000000e+00] as keyword args. From version 0.10 passing these as positional arguments will result in an error\n",
      "  mel=np.mean(librosa.feature.melspectrogram(data, sr=sample_rate).T,axis=0)\n"
     ]
    },
    {
     "name": "stdout",
     "output_type": "stream",
     "text": [
      "90\n",
      "happy_male\n",
      "91\n",
      "happy_male\n"
     ]
    },
    {
     "name": "stderr",
     "output_type": "stream",
     "text": [
      "/var/folders/7h/3y0jb5yx0g399b2y_qtq_db80000gn/T/ipykernel_26966/1257479974.py:14: FutureWarning: Pass y=[-5.2941868e-08  1.9009287e-08  2.6495190e-08 ...  1.0545691e-04\n",
      "  1.0128235e-04  0.0000000e+00] as keyword args. From version 0.10 passing these as positional arguments will result in an error\n",
      "  mel=np.mean(librosa.feature.melspectrogram(data, sr=sample_rate).T,axis=0)\n",
      "/var/folders/7h/3y0jb5yx0g399b2y_qtq_db80000gn/T/ipykernel_26966/1257479974.py:14: FutureWarning: Pass y=[ 1.8047605e-06  1.3419478e-05 -7.6088503e-07 ... -9.1590928e-06\n",
      " -2.1136040e-05  0.0000000e+00] as keyword args. From version 0.10 passing these as positional arguments will result in an error\n",
      "  mel=np.mean(librosa.feature.melspectrogram(data, sr=sample_rate).T,axis=0)\n"
     ]
    },
    {
     "name": "stdout",
     "output_type": "stream",
     "text": [
      "92\n",
      "fearful_male\n",
      "93\n",
      "angry_male\n"
     ]
    },
    {
     "name": "stderr",
     "output_type": "stream",
     "text": [
      "/var/folders/7h/3y0jb5yx0g399b2y_qtq_db80000gn/T/ipykernel_26966/1257479974.py:14: FutureWarning: Pass y=[-2.2350328e-05 -3.2666827e-05 -2.9328314e-05 ...  0.0000000e+00\n",
      "  0.0000000e+00  0.0000000e+00] as keyword args. From version 0.10 passing these as positional arguments will result in an error\n",
      "  mel=np.mean(librosa.feature.melspectrogram(data, sr=sample_rate).T,axis=0)\n",
      "/var/folders/7h/3y0jb5yx0g399b2y_qtq_db80000gn/T/ipykernel_26966/1257479974.py:14: FutureWarning: Pass y=[ 6.4091199e-07 -9.7488169e-07  1.5218887e-06 ...  1.4865213e-05\n",
      "  1.3710648e-05  0.0000000e+00] as keyword args. From version 0.10 passing these as positional arguments will result in an error\n",
      "  mel=np.mean(librosa.feature.melspectrogram(data, sr=sample_rate).T,axis=0)\n"
     ]
    },
    {
     "name": "stdout",
     "output_type": "stream",
     "text": [
      "94\n",
      "angry_male\n",
      "95\n",
      "fearful_male\n"
     ]
    },
    {
     "name": "stderr",
     "output_type": "stream",
     "text": [
      "/var/folders/7h/3y0jb5yx0g399b2y_qtq_db80000gn/T/ipykernel_26966/1257479974.py:14: FutureWarning: Pass y=[-7.0119683e-08 -4.0410461e-07  1.1636250e-06 ...  3.7429989e-05\n",
      " -1.5163779e-05  0.0000000e+00] as keyword args. From version 0.10 passing these as positional arguments will result in an error\n",
      "  mel=np.mean(librosa.feature.melspectrogram(data, sr=sample_rate).T,axis=0)\n",
      "/var/folders/7h/3y0jb5yx0g399b2y_qtq_db80000gn/T/ipykernel_26966/1257479974.py:14: FutureWarning: Pass y=[ 9.8117351e-05  1.5482676e-04  1.1138364e-04 ... -6.4418986e-05\n",
      " -7.2761199e-05  0.0000000e+00] as keyword args. From version 0.10 passing these as positional arguments will result in an error\n",
      "  mel=np.mean(librosa.feature.melspectrogram(data, sr=sample_rate).T,axis=0)\n"
     ]
    },
    {
     "name": "stdout",
     "output_type": "stream",
     "text": [
      "96\n",
      "sad_male\n",
      "97\n",
      "disgust_male\n"
     ]
    },
    {
     "name": "stderr",
     "output_type": "stream",
     "text": [
      "/var/folders/7h/3y0jb5yx0g399b2y_qtq_db80000gn/T/ipykernel_26966/1257479974.py:14: FutureWarning: Pass y=[-1.3576662e-05 -8.1726149e-08 -5.6007013e-07 ...  4.1586030e-05\n",
      "  4.2557280e-05  0.0000000e+00] as keyword args. From version 0.10 passing these as positional arguments will result in an error\n",
      "  mel=np.mean(librosa.feature.melspectrogram(data, sr=sample_rate).T,axis=0)\n",
      "/var/folders/7h/3y0jb5yx0g399b2y_qtq_db80000gn/T/ipykernel_26966/1257479974.py:14: FutureWarning: Pass y=[ 1.9716546e-05  3.5858535e-05  2.5135058e-05 ... -9.1705306e-06\n",
      " -4.7287590e-06  0.0000000e+00] as keyword args. From version 0.10 passing these as positional arguments will result in an error\n",
      "  mel=np.mean(librosa.feature.melspectrogram(data, sr=sample_rate).T,axis=0)\n"
     ]
    },
    {
     "name": "stdout",
     "output_type": "stream",
     "text": [
      "98\n",
      "disgust_male\n",
      "99\n",
      "sad_male\n"
     ]
    },
    {
     "name": "stderr",
     "output_type": "stream",
     "text": [
      "/var/folders/7h/3y0jb5yx0g399b2y_qtq_db80000gn/T/ipykernel_26966/1257479974.py:14: FutureWarning: Pass y=[ 9.3206090e-06  2.8868657e-05  2.5110739e-05 ... -9.9918128e-05\n",
      " -1.0209030e-04  0.0000000e+00] as keyword args. From version 0.10 passing these as positional arguments will result in an error\n",
      "  mel=np.mean(librosa.feature.melspectrogram(data, sr=sample_rate).T,axis=0)\n",
      "/var/folders/7h/3y0jb5yx0g399b2y_qtq_db80000gn/T/ipykernel_26966/1257479974.py:14: FutureWarning: Pass y=[ 1.8695755e-05  4.4336794e-05  3.4898254e-05 ... -7.3663992e-05\n",
      " -8.2688435e-05  0.0000000e+00] as keyword args. From version 0.10 passing these as positional arguments will result in an error\n",
      "  mel=np.mean(librosa.feature.melspectrogram(data, sr=sample_rate).T,axis=0)\n"
     ]
    },
    {
     "name": "stdout",
     "output_type": "stream",
     "text": [
      "100\n",
      "surprised_male\n",
      "101\n",
      "surprised_male\n"
     ]
    },
    {
     "name": "stderr",
     "output_type": "stream",
     "text": [
      "/var/folders/7h/3y0jb5yx0g399b2y_qtq_db80000gn/T/ipykernel_26966/1257479974.py:14: FutureWarning: Pass y=[4.38110037e-05 8.86311391e-05 6.79003715e-05 ... 1.38619935e-05\n",
      " 1.84575074e-05 0.00000000e+00] as keyword args. From version 0.10 passing these as positional arguments will result in an error\n",
      "  mel=np.mean(librosa.feature.melspectrogram(data, sr=sample_rate).T,axis=0)\n",
      "/var/folders/7h/3y0jb5yx0g399b2y_qtq_db80000gn/T/ipykernel_26966/1257479974.py:14: FutureWarning: Pass y=[ 1.1645848e-05  3.1110776e-06 -4.3206674e-06 ...  9.7142605e-05\n",
      "  8.6879816e-05  0.0000000e+00] as keyword args. From version 0.10 passing these as positional arguments will result in an error\n",
      "  mel=np.mean(librosa.feature.melspectrogram(data, sr=sample_rate).T,axis=0)\n"
     ]
    },
    {
     "name": "stdout",
     "output_type": "stream",
     "text": [
      "102\n",
      "happy_male\n",
      "103\n",
      "happy_male\n"
     ]
    },
    {
     "name": "stderr",
     "output_type": "stream",
     "text": [
      "/var/folders/7h/3y0jb5yx0g399b2y_qtq_db80000gn/T/ipykernel_26966/1257479974.py:14: FutureWarning: Pass y=[-6.3602798e-05 -8.6964530e-05 -7.8349643e-05 ... -3.8872684e-05\n",
      " -6.6795503e-05  0.0000000e+00] as keyword args. From version 0.10 passing these as positional arguments will result in an error\n",
      "  mel=np.mean(librosa.feature.melspectrogram(data, sr=sample_rate).T,axis=0)\n",
      "/var/folders/7h/3y0jb5yx0g399b2y_qtq_db80000gn/T/ipykernel_26966/1257479974.py:14: FutureWarning: Pass y=[ 0.00012933  0.00020775  0.00019058 ... -0.00015524 -0.00017892\n",
      "  0.        ] as keyword args. From version 0.10 passing these as positional arguments will result in an error\n",
      "  mel=np.mean(librosa.feature.melspectrogram(data, sr=sample_rate).T,axis=0)\n"
     ]
    },
    {
     "name": "stdout",
     "output_type": "stream",
     "text": [
      "104\n",
      "calm_male\n",
      "105\n",
      "calm_male\n"
     ]
    },
    {
     "name": "stderr",
     "output_type": "stream",
     "text": [
      "/var/folders/7h/3y0jb5yx0g399b2y_qtq_db80000gn/T/ipykernel_26966/1257479974.py:14: FutureWarning: Pass y=[-7.2781426e-05 -9.5268879e-05 -5.7156765e-05 ... -4.6052915e-05\n",
      " -5.7972360e-05  0.0000000e+00] as keyword args. From version 0.10 passing these as positional arguments will result in an error\n",
      "  mel=np.mean(librosa.feature.melspectrogram(data, sr=sample_rate).T,axis=0)\n",
      "/var/folders/7h/3y0jb5yx0g399b2y_qtq_db80000gn/T/ipykernel_26966/1257479974.py:14: FutureWarning: Pass y=[-1.2634681e-06  1.5004285e-06  2.3913404e-05 ...  5.4147935e-05\n",
      "  3.7107817e-05  0.0000000e+00] as keyword args. From version 0.10 passing these as positional arguments will result in an error\n",
      "  mel=np.mean(librosa.feature.melspectrogram(data, sr=sample_rate).T,axis=0)\n"
     ]
    },
    {
     "name": "stdout",
     "output_type": "stream",
     "text": [
      "106\n",
      "neutral_male\n",
      "107\n",
      "happy_male\n"
     ]
    },
    {
     "name": "stderr",
     "output_type": "stream",
     "text": [
      "/var/folders/7h/3y0jb5yx0g399b2y_qtq_db80000gn/T/ipykernel_26966/1257479974.py:14: FutureWarning: Pass y=[ 4.7297081e-07 -1.6766206e-05 -1.9333109e-05 ...  1.9730796e-04\n",
      "  1.8830714e-04  0.0000000e+00] as keyword args. From version 0.10 passing these as positional arguments will result in an error\n",
      "  mel=np.mean(librosa.feature.melspectrogram(data, sr=sample_rate).T,axis=0)\n",
      "/var/folders/7h/3y0jb5yx0g399b2y_qtq_db80000gn/T/ipykernel_26966/1257479974.py:14: FutureWarning: Pass y=[-9.6169958e-07  8.7800163e-06  8.9592595e-06 ...  7.5486394e-05\n",
      "  9.6124786e-05  0.0000000e+00] as keyword args. From version 0.10 passing these as positional arguments will result in an error\n",
      "  mel=np.mean(librosa.feature.melspectrogram(data, sr=sample_rate).T,axis=0)\n"
     ]
    },
    {
     "name": "stdout",
     "output_type": "stream",
     "text": [
      "108\n",
      "happy_male\n",
      "109\n",
      "calm_male\n"
     ]
    },
    {
     "name": "stderr",
     "output_type": "stream",
     "text": [
      "/var/folders/7h/3y0jb5yx0g399b2y_qtq_db80000gn/T/ipykernel_26966/1257479974.py:14: FutureWarning: Pass y=[-1.0066780e-04 -1.3208178e-04 -1.2528992e-04 ... -1.2642286e-05\n",
      " -8.4956073e-06  0.0000000e+00] as keyword args. From version 0.10 passing these as positional arguments will result in an error\n",
      "  mel=np.mean(librosa.feature.melspectrogram(data, sr=sample_rate).T,axis=0)\n",
      "/var/folders/7h/3y0jb5yx0g399b2y_qtq_db80000gn/T/ipykernel_26966/1257479974.py:14: FutureWarning: Pass y=[-2.0082047e-05 -3.6026857e-05 -4.2684351e-05 ...  9.8053779e-06\n",
      "  9.3445078e-06  0.0000000e+00] as keyword args. From version 0.10 passing these as positional arguments will result in an error\n",
      "  mel=np.mean(librosa.feature.melspectrogram(data, sr=sample_rate).T,axis=0)\n"
     ]
    },
    {
     "name": "stdout",
     "output_type": "stream",
     "text": [
      "110\n",
      "neutral_male\n",
      "111\n",
      "calm_male\n"
     ]
    },
    {
     "name": "stderr",
     "output_type": "stream",
     "text": [
      "/var/folders/7h/3y0jb5yx0g399b2y_qtq_db80000gn/T/ipykernel_26966/1257479974.py:14: FutureWarning: Pass y=[ 7.0949223e-05  1.2079003e-04  1.1247222e-04 ... -8.9192872e-05\n",
      " -9.3600349e-05  0.0000000e+00] as keyword args. From version 0.10 passing these as positional arguments will result in an error\n",
      "  mel=np.mean(librosa.feature.melspectrogram(data, sr=sample_rate).T,axis=0)\n",
      "/var/folders/7h/3y0jb5yx0g399b2y_qtq_db80000gn/T/ipykernel_26966/1257479974.py:14: FutureWarning: Pass y=[4.0646595e-05 9.3142567e-05 7.9651749e-05 ... 2.9703808e-05 3.2711432e-05\n",
      " 0.0000000e+00] as keyword args. From version 0.10 passing these as positional arguments will result in an error\n",
      "  mel=np.mean(librosa.feature.melspectrogram(data, sr=sample_rate).T,axis=0)\n"
     ]
    },
    {
     "name": "stdout",
     "output_type": "stream",
     "text": [
      "112\n",
      "angry_male\n",
      "113\n",
      "fearful_male\n"
     ]
    },
    {
     "name": "stderr",
     "output_type": "stream",
     "text": [
      "/var/folders/7h/3y0jb5yx0g399b2y_qtq_db80000gn/T/ipykernel_26966/1257479974.py:14: FutureWarning: Pass y=[ 2.3211149e-07 -2.6495709e-07  2.9292690e-07 ...  1.5123580e-04\n",
      "  1.3413306e-04  0.0000000e+00] as keyword args. From version 0.10 passing these as positional arguments will result in an error\n",
      "  mel=np.mean(librosa.feature.melspectrogram(data, sr=sample_rate).T,axis=0)\n",
      "/var/folders/7h/3y0jb5yx0g399b2y_qtq_db80000gn/T/ipykernel_26966/1257479974.py:14: FutureWarning: Pass y=[ 4.21967252e-06  2.62287085e-05  2.77488944e-05 ... -1.21155055e-04\n",
      " -1.82467498e-04  0.00000000e+00] as keyword args. From version 0.10 passing these as positional arguments will result in an error\n",
      "  mel=np.mean(librosa.feature.melspectrogram(data, sr=sample_rate).T,axis=0)\n"
     ]
    },
    {
     "name": "stdout",
     "output_type": "stream",
     "text": [
      "114\n",
      "fearful_male\n",
      "115\n",
      "angry_male\n"
     ]
    },
    {
     "name": "stderr",
     "output_type": "stream",
     "text": [
      "/var/folders/7h/3y0jb5yx0g399b2y_qtq_db80000gn/T/ipykernel_26966/1257479974.py:14: FutureWarning: Pass y=[-1.2462267e-08 -4.5879625e-09  2.6431058e-08 ... -2.6773202e-04\n",
      " -2.9766993e-04  0.0000000e+00] as keyword args. From version 0.10 passing these as positional arguments will result in an error\n",
      "  mel=np.mean(librosa.feature.melspectrogram(data, sr=sample_rate).T,axis=0)\n",
      "/var/folders/7h/3y0jb5yx0g399b2y_qtq_db80000gn/T/ipykernel_26966/1257479974.py:14: FutureWarning: Pass y=[-4.2923606e-05 -6.8247587e-05 -4.6757945e-05 ... -6.5111731e-06\n",
      " -9.5966270e-06  0.0000000e+00] as keyword args. From version 0.10 passing these as positional arguments will result in an error\n",
      "  mel=np.mean(librosa.feature.melspectrogram(data, sr=sample_rate).T,axis=0)\n"
     ]
    },
    {
     "name": "stdout",
     "output_type": "stream",
     "text": [
      "116\n",
      "disgust_male\n",
      "117\n",
      "sad_male\n"
     ]
    },
    {
     "name": "stderr",
     "output_type": "stream",
     "text": [
      "/var/folders/7h/3y0jb5yx0g399b2y_qtq_db80000gn/T/ipykernel_26966/1257479974.py:14: FutureWarning: Pass y=[-4.9272287e-05 -6.5111111e-05 -6.7035631e-05 ...  0.0000000e+00\n",
      "  0.0000000e+00  0.0000000e+00] as keyword args. From version 0.10 passing these as positional arguments will result in an error\n",
      "  mel=np.mean(librosa.feature.melspectrogram(data, sr=sample_rate).T,axis=0)\n",
      "/var/folders/7h/3y0jb5yx0g399b2y_qtq_db80000gn/T/ipykernel_26966/1257479974.py:14: FutureWarning: Pass y=[-5.9398020e-10  7.6544054e-10 -9.4802866e-10 ...  1.0393958e-05\n",
      "  2.2375287e-05  0.0000000e+00] as keyword args. From version 0.10 passing these as positional arguments will result in an error\n",
      "  mel=np.mean(librosa.feature.melspectrogram(data, sr=sample_rate).T,axis=0)\n"
     ]
    },
    {
     "name": "stdout",
     "output_type": "stream",
     "text": [
      "118\n",
      "sad_male\n",
      "119\n",
      "disgust_male\n"
     ]
    },
    {
     "name": "stderr",
     "output_type": "stream",
     "text": [
      "/var/folders/7h/3y0jb5yx0g399b2y_qtq_db80000gn/T/ipykernel_26966/1257479974.py:14: FutureWarning: Pass y=[-2.0804957e-05 -1.9806397e-05 -2.1040063e-05 ... -1.2575579e-04\n",
      " -1.5036089e-04  0.0000000e+00] as keyword args. From version 0.10 passing these as positional arguments will result in an error\n",
      "  mel=np.mean(librosa.feature.melspectrogram(data, sr=sample_rate).T,axis=0)\n",
      "/var/folders/7h/3y0jb5yx0g399b2y_qtq_db80000gn/T/ipykernel_26966/1257479974.py:14: FutureWarning: Pass y=[-8.7252134e-05 -1.4830304e-04 -1.1135515e-04 ...  2.1486172e-05\n",
      "  9.2967830e-06  0.0000000e+00] as keyword args. From version 0.10 passing these as positional arguments will result in an error\n",
      "  mel=np.mean(librosa.feature.melspectrogram(data, sr=sample_rate).T,axis=0)\n"
     ]
    },
    {
     "name": "stdout",
     "output_type": "stream",
     "text": [
      "120\n",
      "surprised_male\n",
      "121\n",
      "surprised_male\n"
     ]
    },
    {
     "name": "stderr",
     "output_type": "stream",
     "text": [
      "/var/folders/7h/3y0jb5yx0g399b2y_qtq_db80000gn/T/ipykernel_26966/1257479974.py:14: FutureWarning: Pass y=[8.0680675e-06 3.4380602e-05 1.7415321e-05 ... 3.0341789e-05 3.1251206e-05\n",
      " 0.0000000e+00] as keyword args. From version 0.10 passing these as positional arguments will result in an error\n",
      "  mel=np.mean(librosa.feature.melspectrogram(data, sr=sample_rate).T,axis=0)\n",
      "/var/folders/7h/3y0jb5yx0g399b2y_qtq_db80000gn/T/ipykernel_26966/1257479974.py:14: FutureWarning: Pass y=[-3.4753891e-09  4.7945723e-09 -6.3257968e-09 ...  5.9480652e-07\n",
      " -4.4528335e-07  0.0000000e+00] as keyword args. From version 0.10 passing these as positional arguments will result in an error\n",
      "  mel=np.mean(librosa.feature.melspectrogram(data, sr=sample_rate).T,axis=0)\n"
     ]
    },
    {
     "name": "stdout",
     "output_type": "stream",
     "text": [
      "122\n",
      "happy_female\n",
      "123\n",
      "happy_female\n",
      "124\n",
      "calm_female\n",
      "125\n",
      "calm_female\n",
      "126\n",
      "neutral_female\n",
      "127\n",
      "fearful_female\n",
      "128\n",
      "angry_female\n",
      "129\n",
      "angry_female\n"
     ]
    },
    {
     "name": "stderr",
     "output_type": "stream",
     "text": [
      "/var/folders/7h/3y0jb5yx0g399b2y_qtq_db80000gn/T/ipykernel_26966/1257479974.py:14: FutureWarning: Pass y=[ 0.0000000e+00 -1.1271335e-12  2.5626274e-12 ...  0.0000000e+00\n",
      "  0.0000000e+00  0.0000000e+00] as keyword args. From version 0.10 passing these as positional arguments will result in an error\n",
      "  mel=np.mean(librosa.feature.melspectrogram(data, sr=sample_rate).T,axis=0)\n",
      "/var/folders/7h/3y0jb5yx0g399b2y_qtq_db80000gn/T/ipykernel_26966/1257479974.py:14: FutureWarning: Pass y=[ 2.2149584e-09 -4.0039869e-09  6.2654477e-09 ...  0.0000000e+00\n",
      "  0.0000000e+00  0.0000000e+00] as keyword args. From version 0.10 passing these as positional arguments will result in an error\n",
      "  mel=np.mean(librosa.feature.melspectrogram(data, sr=sample_rate).T,axis=0)\n"
     ]
    },
    {
     "name": "stdout",
     "output_type": "stream",
     "text": [
      "130\n",
      "fearful_female\n",
      "131\n",
      "sad_female\n"
     ]
    },
    {
     "name": "stderr",
     "output_type": "stream",
     "text": [
      "/var/folders/7h/3y0jb5yx0g399b2y_qtq_db80000gn/T/ipykernel_26966/1257479974.py:14: FutureWarning: Pass y=[1.9963752e-04 2.8329983e-04 6.5009612e-05 ... 1.6720769e-07 2.6078678e-07\n",
      " 0.0000000e+00] as keyword args. From version 0.10 passing these as positional arguments will result in an error\n",
      "  mel=np.mean(librosa.feature.melspectrogram(data, sr=sample_rate).T,axis=0)\n"
     ]
    },
    {
     "name": "stdout",
     "output_type": "stream",
     "text": [
      "132\n",
      "disgust_female\n",
      "133\n",
      "disgust_female\n"
     ]
    },
    {
     "name": "stderr",
     "output_type": "stream",
     "text": [
      "/var/folders/7h/3y0jb5yx0g399b2y_qtq_db80000gn/T/ipykernel_26966/1257479974.py:14: FutureWarning: Pass y=[ 0.000000e+00  0.000000e+00  0.000000e+00 ... -1.120615e-08  9.216074e-09\n",
      "  0.000000e+00] as keyword args. From version 0.10 passing these as positional arguments will result in an error\n",
      "  mel=np.mean(librosa.feature.melspectrogram(data, sr=sample_rate).T,axis=0)\n",
      "/var/folders/7h/3y0jb5yx0g399b2y_qtq_db80000gn/T/ipykernel_26966/1257479974.py:14: FutureWarning: Pass y=[ 1.3945042e-07 -1.6381924e-07  1.8662318e-07 ... -6.8608536e-08\n",
      "  5.3513180e-08  0.0000000e+00] as keyword args. From version 0.10 passing these as positional arguments will result in an error\n",
      "  mel=np.mean(librosa.feature.melspectrogram(data, sr=sample_rate).T,axis=0)\n"
     ]
    },
    {
     "name": "stdout",
     "output_type": "stream",
     "text": [
      "134\n",
      "sad_female\n",
      "135\n",
      "surprised_female\n"
     ]
    },
    {
     "name": "stderr",
     "output_type": "stream",
     "text": [
      "/var/folders/7h/3y0jb5yx0g399b2y_qtq_db80000gn/T/ipykernel_26966/1257479974.py:14: FutureWarning: Pass y=[-4.3238927e-08  4.7927376e-08 -5.1209227e-08 ...  0.0000000e+00\n",
      "  0.0000000e+00  0.0000000e+00] as keyword args. From version 0.10 passing these as positional arguments will result in an error\n",
      "  mel=np.mean(librosa.feature.melspectrogram(data, sr=sample_rate).T,axis=0)\n"
     ]
    },
    {
     "name": "stdout",
     "output_type": "stream",
     "text": [
      "136\n",
      "surprised_female\n",
      "137\n",
      "angry_female\n",
      "138\n",
      "fearful_female\n",
      "139\n",
      "fearful_female\n"
     ]
    },
    {
     "name": "stderr",
     "output_type": "stream",
     "text": [
      "/var/folders/7h/3y0jb5yx0g399b2y_qtq_db80000gn/T/ipykernel_26966/1257479974.py:14: FutureWarning: Pass y=[ 1.3736240e-10 -8.0509721e-10  1.7407468e-09 ...  0.0000000e+00\n",
      "  0.0000000e+00  0.0000000e+00] as keyword args. From version 0.10 passing these as positional arguments will result in an error\n",
      "  mel=np.mean(librosa.feature.melspectrogram(data, sr=sample_rate).T,axis=0)\n",
      "/var/folders/7h/3y0jb5yx0g399b2y_qtq_db80000gn/T/ipykernel_26966/1257479974.py:14: FutureWarning: Pass y=[ 0.0000000e+00  0.0000000e+00  0.0000000e+00 ... -5.8528098e-09\n",
      "  3.1047558e-09  0.0000000e+00] as keyword args. From version 0.10 passing these as positional arguments will result in an error\n",
      "  mel=np.mean(librosa.feature.melspectrogram(data, sr=sample_rate).T,axis=0)\n"
     ]
    },
    {
     "name": "stdout",
     "output_type": "stream",
     "text": [
      "140\n",
      "angry_female\n",
      "141\n",
      "disgust_female\n"
     ]
    },
    {
     "name": "stderr",
     "output_type": "stream",
     "text": [
      "/var/folders/7h/3y0jb5yx0g399b2y_qtq_db80000gn/T/ipykernel_26966/1257479974.py:14: FutureWarning: Pass y=[ 7.2793526e-08 -8.4489663e-08  9.5075265e-08 ...  0.0000000e+00\n",
      "  0.0000000e+00  0.0000000e+00] as keyword args. From version 0.10 passing these as positional arguments will result in an error\n",
      "  mel=np.mean(librosa.feature.melspectrogram(data, sr=sample_rate).T,axis=0)\n"
     ]
    },
    {
     "name": "stdout",
     "output_type": "stream",
     "text": [
      "142\n",
      "sad_female\n",
      "143\n",
      "sad_female\n"
     ]
    },
    {
     "name": "stderr",
     "output_type": "stream",
     "text": [
      "/var/folders/7h/3y0jb5yx0g399b2y_qtq_db80000gn/T/ipykernel_26966/1257479974.py:14: FutureWarning: Pass y=[ 1.0109706e-07 -1.8458940e-07  2.8312431e-07 ...  6.5268534e-07\n",
      " -4.2243914e-07  0.0000000e+00] as keyword args. From version 0.10 passing these as positional arguments will result in an error\n",
      "  mel=np.mean(librosa.feature.melspectrogram(data, sr=sample_rate).T,axis=0)\n"
     ]
    },
    {
     "name": "stdout",
     "output_type": "stream",
     "text": [
      "144\n",
      "disgust_female\n",
      "145\n",
      "surprised_female\n"
     ]
    },
    {
     "name": "stderr",
     "output_type": "stream",
     "text": [
      "/var/folders/7h/3y0jb5yx0g399b2y_qtq_db80000gn/T/ipykernel_26966/1257479974.py:14: FutureWarning: Pass y=[-9.3756455e-07  1.2991613e-06 -1.8662927e-06 ...  0.0000000e+00\n",
      "  0.0000000e+00  0.0000000e+00] as keyword args. From version 0.10 passing these as positional arguments will result in an error\n",
      "  mel=np.mean(librosa.feature.melspectrogram(data, sr=sample_rate).T,axis=0)\n",
      "/var/folders/7h/3y0jb5yx0g399b2y_qtq_db80000gn/T/ipykernel_26966/1257479974.py:14: FutureWarning: Pass y=[-9.084159e-08  8.861279e-08 -8.140193e-08 ...  0.000000e+00  0.000000e+00\n",
      "  0.000000e+00] as keyword args. From version 0.10 passing these as positional arguments will result in an error\n",
      "  mel=np.mean(librosa.feature.melspectrogram(data, sr=sample_rate).T,axis=0)\n"
     ]
    },
    {
     "name": "stdout",
     "output_type": "stream",
     "text": [
      "146\n",
      "surprised_female\n",
      "147\n",
      "happy_female\n",
      "148\n",
      "happy_female\n",
      "149\n",
      "calm_female\n"
     ]
    },
    {
     "name": "stderr",
     "output_type": "stream",
     "text": [
      "/var/folders/7h/3y0jb5yx0g399b2y_qtq_db80000gn/T/ipykernel_26966/1257479974.py:14: FutureWarning: Pass y=[-8.8390209e-08  1.0181708e-07 -1.1384954e-07 ...  0.0000000e+00\n",
      "  0.0000000e+00  0.0000000e+00] as keyword args. From version 0.10 passing these as positional arguments will result in an error\n",
      "  mel=np.mean(librosa.feature.melspectrogram(data, sr=sample_rate).T,axis=0)\n",
      "/var/folders/7h/3y0jb5yx0g399b2y_qtq_db80000gn/T/ipykernel_26966/1257479974.py:14: FutureWarning: Pass y=[ 0.000000e+00  0.000000e+00  0.000000e+00 ... -7.299605e-10  6.218946e-10\n",
      "  0.000000e+00] as keyword args. From version 0.10 passing these as positional arguments will result in an error\n",
      "  mel=np.mean(librosa.feature.melspectrogram(data, sr=sample_rate).T,axis=0)\n"
     ]
    },
    {
     "name": "stdout",
     "output_type": "stream",
     "text": [
      "150\n",
      "neutral_female\n",
      "151\n",
      "calm_female\n"
     ]
    },
    {
     "name": "stderr",
     "output_type": "stream",
     "text": [
      "/var/folders/7h/3y0jb5yx0g399b2y_qtq_db80000gn/T/ipykernel_26966/1257479974.py:14: FutureWarning: Pass y=[-1.4251865e-10  1.9504061e-10 -2.5405866e-10 ...  0.0000000e+00\n",
      "  0.0000000e+00  0.0000000e+00] as keyword args. From version 0.10 passing these as positional arguments will result in an error\n",
      "  mel=np.mean(librosa.feature.melspectrogram(data, sr=sample_rate).T,axis=0)\n"
     ]
    },
    {
     "name": "stdout",
     "output_type": "stream",
     "text": [
      "152\n",
      "sad_female\n",
      "153\n",
      "disgust_female\n",
      "154\n",
      "disgust_female\n",
      "155\n",
      "sad_female\n"
     ]
    },
    {
     "name": "stderr",
     "output_type": "stream",
     "text": [
      "/var/folders/7h/3y0jb5yx0g399b2y_qtq_db80000gn/T/ipykernel_26966/1257479974.py:14: FutureWarning: Pass y=[ 0.0000000e+00  0.0000000e+00  0.0000000e+00 ... -1.8863416e-07\n",
      "  2.0480346e-07  0.0000000e+00] as keyword args. From version 0.10 passing these as positional arguments will result in an error\n",
      "  mel=np.mean(librosa.feature.melspectrogram(data, sr=sample_rate).T,axis=0)\n"
     ]
    },
    {
     "name": "stdout",
     "output_type": "stream",
     "text": [
      "156\n",
      "fearful_female\n",
      "157\n",
      "angry_female\n"
     ]
    },
    {
     "name": "stderr",
     "output_type": "stream",
     "text": [
      "/var/folders/7h/3y0jb5yx0g399b2y_qtq_db80000gn/T/ipykernel_26966/1257479974.py:14: FutureWarning: Pass y=[ 0.0000000e+00  0.0000000e+00  0.0000000e+00 ...  1.0143946e-06\n",
      " -2.6524373e-07  0.0000000e+00] as keyword args. From version 0.10 passing these as positional arguments will result in an error\n",
      "  mel=np.mean(librosa.feature.melspectrogram(data, sr=sample_rate).T,axis=0)\n",
      "/var/folders/7h/3y0jb5yx0g399b2y_qtq_db80000gn/T/ipykernel_26966/1257479974.py:14: FutureWarning: Pass y=[ 4.1250021e-09 -7.0776458e-08  1.5547995e-07 ...  0.0000000e+00\n",
      "  0.0000000e+00  0.0000000e+00] as keyword args. From version 0.10 passing these as positional arguments will result in an error\n",
      "  mel=np.mean(librosa.feature.melspectrogram(data, sr=sample_rate).T,axis=0)\n"
     ]
    },
    {
     "name": "stdout",
     "output_type": "stream",
     "text": [
      "158\n",
      "angry_female\n",
      "159\n",
      "fearful_female\n",
      "160\n",
      "surprised_female\n",
      "161\n",
      "surprised_female\n"
     ]
    },
    {
     "name": "stderr",
     "output_type": "stream",
     "text": [
      "/var/folders/7h/3y0jb5yx0g399b2y_qtq_db80000gn/T/ipykernel_26966/1257479974.py:14: FutureWarning: Pass y=[-2.0594525e-10  3.9978099e-10 -6.7229472e-10 ...  0.0000000e+00\n",
      "  0.0000000e+00  0.0000000e+00] as keyword args. From version 0.10 passing these as positional arguments will result in an error\n",
      "  mel=np.mean(librosa.feature.melspectrogram(data, sr=sample_rate).T,axis=0)\n"
     ]
    },
    {
     "name": "stdout",
     "output_type": "stream",
     "text": [
      "162\n",
      "neutral_female\n",
      "163\n",
      "calm_female\n",
      "164\n",
      "calm_female\n",
      "165\n",
      "happy_female\n"
     ]
    },
    {
     "name": "stderr",
     "output_type": "stream",
     "text": [
      "/var/folders/7h/3y0jb5yx0g399b2y_qtq_db80000gn/T/ipykernel_26966/1257479974.py:14: FutureWarning: Pass y=[ 0.00000000e+00  0.00000000e+00  0.00000000e+00 ... -1.60875686e-08\n",
      "  1.16178835e-08  0.00000000e+00] as keyword args. From version 0.10 passing these as positional arguments will result in an error\n",
      "  mel=np.mean(librosa.feature.melspectrogram(data, sr=sample_rate).T,axis=0)\n"
     ]
    },
    {
     "name": "stdout",
     "output_type": "stream",
     "text": [
      "166\n",
      "happy_female\n",
      "167\n",
      "calm_female\n"
     ]
    },
    {
     "name": "stderr",
     "output_type": "stream",
     "text": [
      "/var/folders/7h/3y0jb5yx0g399b2y_qtq_db80000gn/T/ipykernel_26966/1257479974.py:14: FutureWarning: Pass y=[ 0.0000000e+00  0.0000000e+00  0.0000000e+00 ...  2.0225288e-08\n",
      " -8.7788887e-09  0.0000000e+00] as keyword args. From version 0.10 passing these as positional arguments will result in an error\n",
      "  mel=np.mean(librosa.feature.melspectrogram(data, sr=sample_rate).T,axis=0)\n",
      "/var/folders/7h/3y0jb5yx0g399b2y_qtq_db80000gn/T/ipykernel_26966/1257479974.py:14: FutureWarning: Pass y=[ 0.0000000e+00  0.0000000e+00  0.0000000e+00 ...  4.6953952e-09\n",
      " -3.3706307e-09  0.0000000e+00] as keyword args. From version 0.10 passing these as positional arguments will result in an error\n",
      "  mel=np.mean(librosa.feature.melspectrogram(data, sr=sample_rate).T,axis=0)\n"
     ]
    },
    {
     "name": "stdout",
     "output_type": "stream",
     "text": [
      "168\n",
      "neutral_female\n",
      "169\n",
      "calm_female\n"
     ]
    },
    {
     "name": "stderr",
     "output_type": "stream",
     "text": [
      "/var/folders/7h/3y0jb5yx0g399b2y_qtq_db80000gn/T/ipykernel_26966/1257479974.py:14: FutureWarning: Pass y=[ 4.7052872e-11 -6.9230288e-11  9.6121958e-11 ...  0.0000000e+00\n",
      "  0.0000000e+00  0.0000000e+00] as keyword args. From version 0.10 passing these as positional arguments will result in an error\n",
      "  mel=np.mean(librosa.feature.melspectrogram(data, sr=sample_rate).T,axis=0)\n"
     ]
    },
    {
     "name": "stdout",
     "output_type": "stream",
     "text": [
      "170\n",
      "happy_female\n",
      "171\n",
      "happy_female\n"
     ]
    },
    {
     "name": "stderr",
     "output_type": "stream",
     "text": [
      "/var/folders/7h/3y0jb5yx0g399b2y_qtq_db80000gn/T/ipykernel_26966/1257479974.py:14: FutureWarning: Pass y=[ 0.0000000e+00  0.0000000e+00  0.0000000e+00 ...  1.3903466e-08\n",
      " -9.4329744e-09  0.0000000e+00] as keyword args. From version 0.10 passing these as positional arguments will result in an error\n",
      "  mel=np.mean(librosa.feature.melspectrogram(data, sr=sample_rate).T,axis=0)\n"
     ]
    },
    {
     "name": "stdout",
     "output_type": "stream",
     "text": [
      "172\n",
      "disgust_female\n",
      "173\n",
      "sad_female\n"
     ]
    },
    {
     "name": "stderr",
     "output_type": "stream",
     "text": [
      "/var/folders/7h/3y0jb5yx0g399b2y_qtq_db80000gn/T/ipykernel_26966/1257479974.py:14: FutureWarning: Pass y=[-3.4601012e-06 -1.0929918e-05 -4.2856104e-06 ...  0.0000000e+00\n",
      "  0.0000000e+00  0.0000000e+00] as keyword args. From version 0.10 passing these as positional arguments will result in an error\n",
      "  mel=np.mean(librosa.feature.melspectrogram(data, sr=sample_rate).T,axis=0)\n"
     ]
    },
    {
     "name": "stdout",
     "output_type": "stream",
     "text": [
      "174\n",
      "sad_female\n",
      "175\n",
      "disgust_female\n"
     ]
    },
    {
     "name": "stderr",
     "output_type": "stream",
     "text": [
      "/var/folders/7h/3y0jb5yx0g399b2y_qtq_db80000gn/T/ipykernel_26966/1257479974.py:14: FutureWarning: Pass y=[ 3.3738947e-06 -1.1625637e-05 -5.5755108e-06 ...  0.0000000e+00\n",
      "  0.0000000e+00  0.0000000e+00] as keyword args. From version 0.10 passing these as positional arguments will result in an error\n",
      "  mel=np.mean(librosa.feature.melspectrogram(data, sr=sample_rate).T,axis=0)\n"
     ]
    },
    {
     "name": "stdout",
     "output_type": "stream",
     "text": [
      "176\n",
      "angry_female\n",
      "177\n",
      "fearful_female\n",
      "178\n",
      "fearful_female\n",
      "179\n",
      "angry_female\n"
     ]
    },
    {
     "name": "stderr",
     "output_type": "stream",
     "text": [
      "/var/folders/7h/3y0jb5yx0g399b2y_qtq_db80000gn/T/ipykernel_26966/1257479974.py:14: FutureWarning: Pass y=[ 5.7237703e-08 -5.2516956e-08  4.3339980e-08 ...  8.8525439e-07\n",
      " -4.4305048e-07  0.0000000e+00] as keyword args. From version 0.10 passing these as positional arguments will result in an error\n",
      "  mel=np.mean(librosa.feature.melspectrogram(data, sr=sample_rate).T,axis=0)\n",
      "/var/folders/7h/3y0jb5yx0g399b2y_qtq_db80000gn/T/ipykernel_26966/1257479974.py:14: FutureWarning: Pass y=[ 0.0000000e+00  0.0000000e+00  0.0000000e+00 ... -4.2013664e-09\n",
      "  7.2064541e-09  0.0000000e+00] as keyword args. From version 0.10 passing these as positional arguments will result in an error\n",
      "  mel=np.mean(librosa.feature.melspectrogram(data, sr=sample_rate).T,axis=0)\n"
     ]
    },
    {
     "name": "stdout",
     "output_type": "stream",
     "text": [
      "180\n",
      "surprised_female\n",
      "181\n",
      "surprised_female\n"
     ]
    },
    {
     "name": "stderr",
     "output_type": "stream",
     "text": [
      "/var/folders/7h/3y0jb5yx0g399b2y_qtq_db80000gn/T/ipykernel_26966/1257479974.py:14: FutureWarning: Pass y=[ 0.0000000e+00  0.0000000e+00  0.0000000e+00 ...  9.0463432e-09\n",
      " -3.2050327e-08  0.0000000e+00] as keyword args. From version 0.10 passing these as positional arguments will result in an error\n",
      "  mel=np.mean(librosa.feature.melspectrogram(data, sr=sample_rate).T,axis=0)\n",
      "/var/folders/7h/3y0jb5yx0g399b2y_qtq_db80000gn/T/ipykernel_26966/1257479974.py:14: FutureWarning: Pass y=[ 0.0000000e+00  0.0000000e+00  0.0000000e+00 ...  3.7188834e-09\n",
      " -2.7883951e-09  0.0000000e+00] as keyword args. From version 0.10 passing these as positional arguments will result in an error\n",
      "  mel=np.mean(librosa.feature.melspectrogram(data, sr=sample_rate).T,axis=0)\n"
     ]
    },
    {
     "name": "stdout",
     "output_type": "stream",
     "text": [
      "182\n",
      "surprised_female\n",
      "183\n",
      "surprised_female\n"
     ]
    },
    {
     "name": "stderr",
     "output_type": "stream",
     "text": [
      "/var/folders/7h/3y0jb5yx0g399b2y_qtq_db80000gn/T/ipykernel_26966/1257479974.py:14: FutureWarning: Pass y=[0.0000000e+00 0.0000000e+00 0.0000000e+00 ... 2.1742497e-05 3.6261412e-05\n",
      " 0.0000000e+00] as keyword args. From version 0.10 passing these as positional arguments will result in an error\n",
      "  mel=np.mean(librosa.feature.melspectrogram(data, sr=sample_rate).T,axis=0)\n",
      "/var/folders/7h/3y0jb5yx0g399b2y_qtq_db80000gn/T/ipykernel_26966/1257479974.py:14: FutureWarning: Pass y=[-7.2573294e-09  1.0185370e-09  7.2207049e-09 ... -5.2665067e-03\n",
      "  1.5266024e-02  0.0000000e+00] as keyword args. From version 0.10 passing these as positional arguments will result in an error\n",
      "  mel=np.mean(librosa.feature.melspectrogram(data, sr=sample_rate).T,axis=0)\n"
     ]
    },
    {
     "name": "stdout",
     "output_type": "stream",
     "text": [
      "184\n",
      "sad_female\n",
      "185\n",
      "disgust_female\n"
     ]
    },
    {
     "name": "stderr",
     "output_type": "stream",
     "text": [
      "/var/folders/7h/3y0jb5yx0g399b2y_qtq_db80000gn/T/ipykernel_26966/1257479974.py:14: FutureWarning: Pass y=[ 0.          0.          0.         ... -0.00013735 -0.00011292\n",
      "  0.        ] as keyword args. From version 0.10 passing these as positional arguments will result in an error\n",
      "  mel=np.mean(librosa.feature.melspectrogram(data, sr=sample_rate).T,axis=0)\n",
      "/var/folders/7h/3y0jb5yx0g399b2y_qtq_db80000gn/T/ipykernel_26966/1257479974.py:14: FutureWarning: Pass y=[ 0.0000000e+00  0.0000000e+00  0.0000000e+00 ... -1.1751784e-05\n",
      "  2.1786564e-06  0.0000000e+00] as keyword args. From version 0.10 passing these as positional arguments will result in an error\n",
      "  mel=np.mean(librosa.feature.melspectrogram(data, sr=sample_rate).T,axis=0)\n"
     ]
    },
    {
     "name": "stdout",
     "output_type": "stream",
     "text": [
      "186\n",
      "disgust_female\n",
      "187\n",
      "sad_female\n"
     ]
    },
    {
     "name": "stderr",
     "output_type": "stream",
     "text": [
      "/var/folders/7h/3y0jb5yx0g399b2y_qtq_db80000gn/T/ipykernel_26966/1257479974.py:14: FutureWarning: Pass y=[0.0000000e+00 0.0000000e+00 0.0000000e+00 ... 2.6578507e-08 3.5703941e-08\n",
      " 0.0000000e+00] as keyword args. From version 0.10 passing these as positional arguments will result in an error\n",
      "  mel=np.mean(librosa.feature.melspectrogram(data, sr=sample_rate).T,axis=0)\n",
      "/var/folders/7h/3y0jb5yx0g399b2y_qtq_db80000gn/T/ipykernel_26966/1257479974.py:14: FutureWarning: Pass y=[ 0.00048751  0.00088961  0.00141771 ... -0.00174951 -0.00023268\n",
      "  0.        ] as keyword args. From version 0.10 passing these as positional arguments will result in an error\n",
      "  mel=np.mean(librosa.feature.melspectrogram(data, sr=sample_rate).T,axis=0)\n"
     ]
    },
    {
     "name": "stdout",
     "output_type": "stream",
     "text": [
      "188\n",
      "fearful_female\n",
      "189\n",
      "angry_female\n"
     ]
    },
    {
     "name": "stderr",
     "output_type": "stream",
     "text": [
      "/var/folders/7h/3y0jb5yx0g399b2y_qtq_db80000gn/T/ipykernel_26966/1257479974.py:14: FutureWarning: Pass y=[ 0.000000e+00  0.000000e+00  0.000000e+00 ... -6.050419e-05 -6.646725e-05\n",
      "  0.000000e+00] as keyword args. From version 0.10 passing these as positional arguments will result in an error\n",
      "  mel=np.mean(librosa.feature.melspectrogram(data, sr=sample_rate).T,axis=0)\n",
      "/var/folders/7h/3y0jb5yx0g399b2y_qtq_db80000gn/T/ipykernel_26966/1257479974.py:14: FutureWarning: Pass y=[ 0.0000000e+00  0.0000000e+00  0.0000000e+00 ...  5.2837478e-08\n",
      " -5.1411675e-08  0.0000000e+00] as keyword args. From version 0.10 passing these as positional arguments will result in an error\n",
      "  mel=np.mean(librosa.feature.melspectrogram(data, sr=sample_rate).T,axis=0)\n"
     ]
    },
    {
     "name": "stdout",
     "output_type": "stream",
     "text": [
      "190\n",
      "angry_female\n",
      "191\n",
      "fearful_female\n"
     ]
    },
    {
     "name": "stderr",
     "output_type": "stream",
     "text": [
      "/var/folders/7h/3y0jb5yx0g399b2y_qtq_db80000gn/T/ipykernel_26966/1257479974.py:14: FutureWarning: Pass y=[ 0.000000e+00  0.000000e+00  0.000000e+00 ...  3.659832e-08 -8.975779e-08\n",
      "  0.000000e+00] as keyword args. From version 0.10 passing these as positional arguments will result in an error\n",
      "  mel=np.mean(librosa.feature.melspectrogram(data, sr=sample_rate).T,axis=0)\n",
      "/var/folders/7h/3y0jb5yx0g399b2y_qtq_db80000gn/T/ipykernel_26966/1257479974.py:14: FutureWarning: Pass y=[ 0.0000000e+00  0.0000000e+00  0.0000000e+00 ... -2.0933726e-08\n",
      "  1.8178115e-08  0.0000000e+00] as keyword args. From version 0.10 passing these as positional arguments will result in an error\n",
      "  mel=np.mean(librosa.feature.melspectrogram(data, sr=sample_rate).T,axis=0)\n"
     ]
    },
    {
     "name": "stdout",
     "output_type": "stream",
     "text": [
      "192\n",
      "neutral_female\n",
      "193\n",
      "calm_female\n",
      "194\n",
      "calm_female\n",
      "195\n",
      "happy_female\n"
     ]
    },
    {
     "name": "stderr",
     "output_type": "stream",
     "text": [
      "/var/folders/7h/3y0jb5yx0g399b2y_qtq_db80000gn/T/ipykernel_26966/1257479974.py:14: FutureWarning: Pass y=[ 0.0000000e+00  0.0000000e+00  0.0000000e+00 ... -7.2316911e-06\n",
      " -2.3386589e-05  0.0000000e+00] as keyword args. From version 0.10 passing these as positional arguments will result in an error\n",
      "  mel=np.mean(librosa.feature.melspectrogram(data, sr=sample_rate).T,axis=0)\n"
     ]
    },
    {
     "name": "stdout",
     "output_type": "stream",
     "text": [
      "196\n",
      "happy_female\n"
     ]
    },
    {
     "name": "stderr",
     "output_type": "stream",
     "text": [
      "/var/folders/7h/3y0jb5yx0g399b2y_qtq_db80000gn/T/ipykernel_26966/1257479974.py:14: FutureWarning: Pass y=[0.0000000e+00 0.0000000e+00 0.0000000e+00 ... 1.1539454e-05 1.0546073e-06\n",
      " 0.0000000e+00] as keyword args. From version 0.10 passing these as positional arguments will result in an error\n",
      "  mel=np.mean(librosa.feature.melspectrogram(data, sr=sample_rate).T,axis=0)\n",
      "/var/folders/7h/3y0jb5yx0g399b2y_qtq_db80000gn/T/ipykernel_26966/1257479974.py:14: FutureWarning: Pass y=[ 0.0000000e+00  0.0000000e+00  0.0000000e+00 ...  3.0459174e-07\n",
      " -2.9241394e-07  0.0000000e+00] as keyword args. From version 0.10 passing these as positional arguments will result in an error\n",
      "  mel=np.mean(librosa.feature.melspectrogram(data, sr=sample_rate).T,axis=0)\n"
     ]
    },
    {
     "name": "stdout",
     "output_type": "stream",
     "text": [
      "197\n",
      "calm_female\n",
      "198\n",
      "neutral_female\n",
      "199\n",
      "calm_female\n",
      "200\n",
      "happy_female\n"
     ]
    },
    {
     "name": "stderr",
     "output_type": "stream",
     "text": [
      "/var/folders/7h/3y0jb5yx0g399b2y_qtq_db80000gn/T/ipykernel_26966/1257479974.py:14: FutureWarning: Pass y=[ 0.0000000e+00  0.0000000e+00  0.0000000e+00 ... -5.0306458e-06\n",
      " -1.1801854e-05  0.0000000e+00] as keyword args. From version 0.10 passing these as positional arguments will result in an error\n",
      "  mel=np.mean(librosa.feature.melspectrogram(data, sr=sample_rate).T,axis=0)\n",
      "/var/folders/7h/3y0jb5yx0g399b2y_qtq_db80000gn/T/ipykernel_26966/1257479974.py:14: FutureWarning: Pass y=[ 0.0000000e+00  0.0000000e+00  0.0000000e+00 ... -2.1065682e-06\n",
      " -1.1475674e-05  0.0000000e+00] as keyword args. From version 0.10 passing these as positional arguments will result in an error\n",
      "  mel=np.mean(librosa.feature.melspectrogram(data, sr=sample_rate).T,axis=0)\n"
     ]
    },
    {
     "name": "stdout",
     "output_type": "stream",
     "text": [
      "201\n",
      "happy_female\n",
      "202\n",
      "surprised_female\n"
     ]
    },
    {
     "name": "stderr",
     "output_type": "stream",
     "text": [
      "/var/folders/7h/3y0jb5yx0g399b2y_qtq_db80000gn/T/ipykernel_26966/1257479974.py:14: FutureWarning: Pass y=[ 0.0000000e+00  0.0000000e+00  0.0000000e+00 ... -1.3147813e-05\n",
      " -3.0205479e-06  0.0000000e+00] as keyword args. From version 0.10 passing these as positional arguments will result in an error\n",
      "  mel=np.mean(librosa.feature.melspectrogram(data, sr=sample_rate).T,axis=0)\n",
      "/var/folders/7h/3y0jb5yx0g399b2y_qtq_db80000gn/T/ipykernel_26966/1257479974.py:14: FutureWarning: Pass y=[ 0.0000000e+00  0.0000000e+00  0.0000000e+00 ... -5.2400964e-08\n",
      "  4.5829427e-08  0.0000000e+00] as keyword args. From version 0.10 passing these as positional arguments will result in an error\n",
      "  mel=np.mean(librosa.feature.melspectrogram(data, sr=sample_rate).T,axis=0)\n"
     ]
    },
    {
     "name": "stdout",
     "output_type": "stream",
     "text": [
      "203\n",
      "surprised_female\n",
      "204\n",
      "disgust_female\n"
     ]
    },
    {
     "name": "stderr",
     "output_type": "stream",
     "text": [
      "/var/folders/7h/3y0jb5yx0g399b2y_qtq_db80000gn/T/ipykernel_26966/1257479974.py:14: FutureWarning: Pass y=[ 0.0000000e+00  0.0000000e+00  0.0000000e+00 ...  1.1993922e-06\n",
      " -9.6416159e-07  0.0000000e+00] as keyword args. From version 0.10 passing these as positional arguments will result in an error\n",
      "  mel=np.mean(librosa.feature.melspectrogram(data, sr=sample_rate).T,axis=0)\n"
     ]
    },
    {
     "name": "stdout",
     "output_type": "stream",
     "text": [
      "205\n",
      "sad_female\n",
      "206\n",
      "sad_female\n"
     ]
    },
    {
     "name": "stderr",
     "output_type": "stream",
     "text": [
      "/var/folders/7h/3y0jb5yx0g399b2y_qtq_db80000gn/T/ipykernel_26966/1257479974.py:14: FutureWarning: Pass y=[ 6.7091383e-07 -7.3709845e-07  8.0237135e-07 ... -1.1808559e-07\n",
      "  1.3164006e-07  0.0000000e+00] as keyword args. From version 0.10 passing these as positional arguments will result in an error\n",
      "  mel=np.mean(librosa.feature.melspectrogram(data, sr=sample_rate).T,axis=0)\n"
     ]
    },
    {
     "name": "stdout",
     "output_type": "stream",
     "text": [
      "207\n",
      "disgust_female\n",
      "208\n",
      "angry_female\n"
     ]
    },
    {
     "name": "stderr",
     "output_type": "stream",
     "text": [
      "/var/folders/7h/3y0jb5yx0g399b2y_qtq_db80000gn/T/ipykernel_26966/1257479974.py:14: FutureWarning: Pass y=[-9.510573e-06 -8.250108e-06  2.862567e-06 ...  3.487507e-05 -7.456424e-06\n",
      "  0.000000e+00] as keyword args. From version 0.10 passing these as positional arguments will result in an error\n",
      "  mel=np.mean(librosa.feature.melspectrogram(data, sr=sample_rate).T,axis=0)\n",
      "/var/folders/7h/3y0jb5yx0g399b2y_qtq_db80000gn/T/ipykernel_26966/1257479974.py:14: FutureWarning: Pass y=[-0.00032695 -0.00154974 -0.0002346  ...  0.00029088 -0.00093794\n",
      "  0.        ] as keyword args. From version 0.10 passing these as positional arguments will result in an error\n",
      "  mel=np.mean(librosa.feature.melspectrogram(data, sr=sample_rate).T,axis=0)\n"
     ]
    },
    {
     "name": "stdout",
     "output_type": "stream",
     "text": [
      "209\n",
      "fearful_female\n",
      "210\n",
      "fearful_female\n"
     ]
    },
    {
     "name": "stderr",
     "output_type": "stream",
     "text": [
      "/var/folders/7h/3y0jb5yx0g399b2y_qtq_db80000gn/T/ipykernel_26966/1257479974.py:14: FutureWarning: Pass y=[0.0000000e+00 0.0000000e+00 0.0000000e+00 ... 1.2903714e-05 2.0281150e-06\n",
      " 0.0000000e+00] as keyword args. From version 0.10 passing these as positional arguments will result in an error\n",
      "  mel=np.mean(librosa.feature.melspectrogram(data, sr=sample_rate).T,axis=0)\n"
     ]
    },
    {
     "name": "stdout",
     "output_type": "stream",
     "text": [
      "211\n",
      "angry_female\n",
      "212\n",
      "happy_female\n"
     ]
    },
    {
     "name": "stderr",
     "output_type": "stream",
     "text": [
      "/var/folders/7h/3y0jb5yx0g399b2y_qtq_db80000gn/T/ipykernel_26966/1257479974.py:14: FutureWarning: Pass y=[ 0.0000000e+00  0.0000000e+00  0.0000000e+00 ...  1.0931899e-06\n",
      " -1.0070768e-06  0.0000000e+00] as keyword args. From version 0.10 passing these as positional arguments will result in an error\n",
      "  mel=np.mean(librosa.feature.melspectrogram(data, sr=sample_rate).T,axis=0)\n",
      "/var/folders/7h/3y0jb5yx0g399b2y_qtq_db80000gn/T/ipykernel_26966/1257479974.py:14: FutureWarning: Pass y=[ 0.0000000e+00  0.0000000e+00  0.0000000e+00 ...  1.8345385e-06\n",
      " -1.4326006e-06  0.0000000e+00] as keyword args. From version 0.10 passing these as positional arguments will result in an error\n",
      "  mel=np.mean(librosa.feature.melspectrogram(data, sr=sample_rate).T,axis=0)\n"
     ]
    },
    {
     "name": "stdout",
     "output_type": "stream",
     "text": [
      "213\n",
      "happy_female\n",
      "214\n",
      "calm_female\n",
      "215\n",
      "calm_female\n",
      "216\n",
      "neutral_female\n",
      "217\n",
      "surprised_female\n",
      "218\n",
      "surprised_female\n"
     ]
    },
    {
     "name": "stderr",
     "output_type": "stream",
     "text": [
      "/var/folders/7h/3y0jb5yx0g399b2y_qtq_db80000gn/T/ipykernel_26966/1257479974.py:14: FutureWarning: Pass y=[ 0.0000000e+00  0.0000000e+00  0.0000000e+00 ...  1.5997577e-07\n",
      " -1.1835749e-06  0.0000000e+00] as keyword args. From version 0.10 passing these as positional arguments will result in an error\n",
      "  mel=np.mean(librosa.feature.melspectrogram(data, sr=sample_rate).T,axis=0)\n",
      "/var/folders/7h/3y0jb5yx0g399b2y_qtq_db80000gn/T/ipykernel_26966/1257479974.py:14: FutureWarning: Pass y=[ 0.000000e+00  0.000000e+00  0.000000e+00 ... -4.892685e-10  2.962128e-10\n",
      "  0.000000e+00] as keyword args. From version 0.10 passing these as positional arguments will result in an error\n",
      "  mel=np.mean(librosa.feature.melspectrogram(data, sr=sample_rate).T,axis=0)\n"
     ]
    },
    {
     "name": "stdout",
     "output_type": "stream",
     "text": [
      "219\n",
      "fearful_female\n",
      "220\n",
      "angry_female\n"
     ]
    },
    {
     "name": "stderr",
     "output_type": "stream",
     "text": [
      "/var/folders/7h/3y0jb5yx0g399b2y_qtq_db80000gn/T/ipykernel_26966/1257479974.py:14: FutureWarning: Pass y=[ 0.000000e+00  0.000000e+00  0.000000e+00 ... -9.350658e-06 -2.761474e-05\n",
      "  0.000000e+00] as keyword args. From version 0.10 passing these as positional arguments will result in an error\n",
      "  mel=np.mean(librosa.feature.melspectrogram(data, sr=sample_rate).T,axis=0)\n",
      "/var/folders/7h/3y0jb5yx0g399b2y_qtq_db80000gn/T/ipykernel_26966/1257479974.py:14: FutureWarning: Pass y=[ 0.0000000e+00  0.0000000e+00  0.0000000e+00 ...  2.1302273e-07\n",
      " -1.3475135e-07  0.0000000e+00] as keyword args. From version 0.10 passing these as positional arguments will result in an error\n",
      "  mel=np.mean(librosa.feature.melspectrogram(data, sr=sample_rate).T,axis=0)\n",
      "/var/folders/7h/3y0jb5yx0g399b2y_qtq_db80000gn/T/ipykernel_26966/1257479974.py:14: FutureWarning: Pass y=[ 2.34093259e-05  7.03531578e-06 -2.02446045e-05 ... -1.25644465e-05\n",
      " -4.49606023e-06  0.00000000e+00] as keyword args. From version 0.10 passing these as positional arguments will result in an error\n",
      "  mel=np.mean(librosa.feature.melspectrogram(data, sr=sample_rate).T,axis=0)\n"
     ]
    },
    {
     "name": "stdout",
     "output_type": "stream",
     "text": [
      "221\n",
      "angry_female\n",
      "222\n",
      "fearful_female\n"
     ]
    },
    {
     "name": "stderr",
     "output_type": "stream",
     "text": [
      "/var/folders/7h/3y0jb5yx0g399b2y_qtq_db80000gn/T/ipykernel_26966/1257479974.py:14: FutureWarning: Pass y=[ 8.5088459e-06  4.1225681e-05  8.1334612e-05 ...  2.0096329e-06\n",
      " -1.6095643e-06  0.0000000e+00] as keyword args. From version 0.10 passing these as positional arguments will result in an error\n",
      "  mel=np.mean(librosa.feature.melspectrogram(data, sr=sample_rate).T,axis=0)\n"
     ]
    },
    {
     "name": "stdout",
     "output_type": "stream",
     "text": [
      "223\n",
      "sad_female\n",
      "224\n",
      "disgust_female\n",
      "225\n",
      "disgust_female\n",
      "226\n",
      "sad_female\n"
     ]
    },
    {
     "name": "stderr",
     "output_type": "stream",
     "text": [
      "/var/folders/7h/3y0jb5yx0g399b2y_qtq_db80000gn/T/ipykernel_26966/1257479974.py:14: FutureWarning: Pass y=[ 0.0000000e+00  0.0000000e+00  0.0000000e+00 ... -5.0905339e-07\n",
      "  4.1074352e-07  0.0000000e+00] as keyword args. From version 0.10 passing these as positional arguments will result in an error\n",
      "  mel=np.mean(librosa.feature.melspectrogram(data, sr=sample_rate).T,axis=0)\n",
      "/var/folders/7h/3y0jb5yx0g399b2y_qtq_db80000gn/T/ipykernel_26966/1257479974.py:14: FutureWarning: Pass y=[ 0.000000e+00  0.000000e+00  0.000000e+00 ... -4.450560e-08 -6.448731e-08\n",
      "  0.000000e+00] as keyword args. From version 0.10 passing these as positional arguments will result in an error\n",
      "  mel=np.mean(librosa.feature.melspectrogram(data, sr=sample_rate).T,axis=0)\n"
     ]
    },
    {
     "name": "stdout",
     "output_type": "stream",
     "text": [
      "227\n",
      "surprised_female\n",
      "228\n",
      "surprised_female\n"
     ]
    },
    {
     "name": "stderr",
     "output_type": "stream",
     "text": [
      "/var/folders/7h/3y0jb5yx0g399b2y_qtq_db80000gn/T/ipykernel_26966/1257479974.py:14: FutureWarning: Pass y=[-3.217556e-06  5.003275e-06  1.048402e-05 ...  0.000000e+00  0.000000e+00\n",
      "  0.000000e+00] as keyword args. From version 0.10 passing these as positional arguments will result in an error\n",
      "  mel=np.mean(librosa.feature.melspectrogram(data, sr=sample_rate).T,axis=0)\n",
      "/var/folders/7h/3y0jb5yx0g399b2y_qtq_db80000gn/T/ipykernel_26966/1257479974.py:14: FutureWarning: Pass y=[ 0.0000000e+00  0.0000000e+00  0.0000000e+00 ...  1.1446335e-07\n",
      " -4.3036991e-08  0.0000000e+00] as keyword args. From version 0.10 passing these as positional arguments will result in an error\n",
      "  mel=np.mean(librosa.feature.melspectrogram(data, sr=sample_rate).T,axis=0)\n"
     ]
    },
    {
     "name": "stdout",
     "output_type": "stream",
     "text": [
      "229\n",
      "angry_female\n",
      "230\n",
      "fearful_female\n"
     ]
    },
    {
     "name": "stderr",
     "output_type": "stream",
     "text": [
      "/var/folders/7h/3y0jb5yx0g399b2y_qtq_db80000gn/T/ipykernel_26966/1257479974.py:14: FutureWarning: Pass y=[ 0.0000000e+00  0.0000000e+00  0.0000000e+00 ...  1.5058394e-07\n",
      " -1.5127127e-07  0.0000000e+00] as keyword args. From version 0.10 passing these as positional arguments will result in an error\n",
      "  mel=np.mean(librosa.feature.melspectrogram(data, sr=sample_rate).T,axis=0)\n",
      "/var/folders/7h/3y0jb5yx0g399b2y_qtq_db80000gn/T/ipykernel_26966/1257479974.py:14: FutureWarning: Pass y=[ 0.0000000e+00  0.0000000e+00  0.0000000e+00 ... -3.4345890e-06\n",
      "  6.6685056e-06  0.0000000e+00] as keyword args. From version 0.10 passing these as positional arguments will result in an error\n",
      "  mel=np.mean(librosa.feature.melspectrogram(data, sr=sample_rate).T,axis=0)\n"
     ]
    },
    {
     "name": "stdout",
     "output_type": "stream",
     "text": [
      "231\n",
      "fearful_female\n"
     ]
    },
    {
     "name": "stderr",
     "output_type": "stream",
     "text": [
      "/var/folders/7h/3y0jb5yx0g399b2y_qtq_db80000gn/T/ipykernel_26966/1257479974.py:14: FutureWarning: Pass y=[-0.00142832 -0.00109532  0.00022128 ...  0.0007612   0.00088093\n",
      "  0.        ] as keyword args. From version 0.10 passing these as positional arguments will result in an error\n",
      "  mel=np.mean(librosa.feature.melspectrogram(data, sr=sample_rate).T,axis=0)\n"
     ]
    },
    {
     "name": "stdout",
     "output_type": "stream",
     "text": [
      "232\n",
      "angry_female\n"
     ]
    },
    {
     "name": "stderr",
     "output_type": "stream",
     "text": [
      "/var/folders/7h/3y0jb5yx0g399b2y_qtq_db80000gn/T/ipykernel_26966/1257479974.py:14: FutureWarning: Pass y=[-4.1272098e-05  6.9821850e-05 -5.0989194e-05 ... -1.1316306e-05\n",
      "  2.3660355e-06  0.0000000e+00] as keyword args. From version 0.10 passing these as positional arguments will result in an error\n",
      "  mel=np.mean(librosa.feature.melspectrogram(data, sr=sample_rate).T,axis=0)\n",
      "/var/folders/7h/3y0jb5yx0g399b2y_qtq_db80000gn/T/ipykernel_26966/1257479974.py:14: FutureWarning: Pass y=[ 0.0000000e+00  0.0000000e+00  0.0000000e+00 ...  3.1390941e-06\n",
      " -1.9120801e-06  0.0000000e+00] as keyword args. From version 0.10 passing these as positional arguments will result in an error\n",
      "  mel=np.mean(librosa.feature.melspectrogram(data, sr=sample_rate).T,axis=0)\n"
     ]
    },
    {
     "name": "stdout",
     "output_type": "stream",
     "text": [
      "233\n",
      "disgust_female\n",
      "234\n",
      "sad_female\n",
      "235\n",
      "sad_female\n",
      "236\n",
      "disgust_female\n"
     ]
    },
    {
     "name": "stderr",
     "output_type": "stream",
     "text": [
      "/var/folders/7h/3y0jb5yx0g399b2y_qtq_db80000gn/T/ipykernel_26966/1257479974.py:14: FutureWarning: Pass y=[ 0.0000000e+00  0.0000000e+00  0.0000000e+00 ...  4.1507011e-08\n",
      " -3.7486547e-09  0.0000000e+00] as keyword args. From version 0.10 passing these as positional arguments will result in an error\n",
      "  mel=np.mean(librosa.feature.melspectrogram(data, sr=sample_rate).T,axis=0)\n",
      "/var/folders/7h/3y0jb5yx0g399b2y_qtq_db80000gn/T/ipykernel_26966/1257479974.py:14: FutureWarning: Pass y=[0.0000000e+00 0.0000000e+00 0.0000000e+00 ... 3.0682284e-05 3.2683274e-05\n",
      " 0.0000000e+00] as keyword args. From version 0.10 passing these as positional arguments will result in an error\n",
      "  mel=np.mean(librosa.feature.melspectrogram(data, sr=sample_rate).T,axis=0)\n",
      "/var/folders/7h/3y0jb5yx0g399b2y_qtq_db80000gn/T/ipykernel_26966/1257479974.py:14: FutureWarning: Pass y=[-1.2625458e-07  2.8178377e-07 -4.8202730e-07 ...  3.7979415e-08\n",
      " -3.2716294e-08  0.0000000e+00] as keyword args. From version 0.10 passing these as positional arguments will result in an error\n",
      "  mel=np.mean(librosa.feature.melspectrogram(data, sr=sample_rate).T,axis=0)\n"
     ]
    },
    {
     "name": "stdout",
     "output_type": "stream",
     "text": [
      "237\n",
      "happy_female\n",
      "238\n",
      "happy_female\n"
     ]
    },
    {
     "name": "stderr",
     "output_type": "stream",
     "text": [
      "/var/folders/7h/3y0jb5yx0g399b2y_qtq_db80000gn/T/ipykernel_26966/1257479974.py:14: FutureWarning: Pass y=[ 0.0000000e+00  0.0000000e+00  0.0000000e+00 ... -3.0106325e-08\n",
      " -2.0775761e-07  0.0000000e+00] as keyword args. From version 0.10 passing these as positional arguments will result in an error\n",
      "  mel=np.mean(librosa.feature.melspectrogram(data, sr=sample_rate).T,axis=0)\n"
     ]
    },
    {
     "name": "stdout",
     "output_type": "stream",
     "text": [
      "239\n",
      "calm_female\n",
      "240\n",
      "neutral_female\n"
     ]
    },
    {
     "name": "stderr",
     "output_type": "stream",
     "text": [
      "/var/folders/7h/3y0jb5yx0g399b2y_qtq_db80000gn/T/ipykernel_26966/1257479974.py:14: FutureWarning: Pass y=[ 0.0000000e+00  0.0000000e+00  0.0000000e+00 ... -2.1879077e-05\n",
      " -9.8614373e-06  0.0000000e+00] as keyword args. From version 0.10 passing these as positional arguments will result in an error\n",
      "  mel=np.mean(librosa.feature.melspectrogram(data, sr=sample_rate).T,axis=0)\n"
     ]
    },
    {
     "name": "stdout",
     "output_type": "stream",
     "text": [
      "241\n",
      "calm_female\n",
      "242\n",
      "surprised_male\n"
     ]
    },
    {
     "name": "stderr",
     "output_type": "stream",
     "text": [
      "/var/folders/7h/3y0jb5yx0g399b2y_qtq_db80000gn/T/ipykernel_26966/1257479974.py:14: FutureWarning: Pass y=[ 0.0000000e+00  0.0000000e+00  0.0000000e+00 ... -1.2948739e-05\n",
      " -7.7380337e-06  0.0000000e+00] as keyword args. From version 0.10 passing these as positional arguments will result in an error\n",
      "  mel=np.mean(librosa.feature.melspectrogram(data, sr=sample_rate).T,axis=0)\n",
      "/var/folders/7h/3y0jb5yx0g399b2y_qtq_db80000gn/T/ipykernel_26966/1257479974.py:14: FutureWarning: Pass y=[ 2.3005752e-07 -2.4058426e-07  2.4304711e-07 ... -4.1138169e-06\n",
      "  1.2381558e-05  0.0000000e+00] as keyword args. From version 0.10 passing these as positional arguments will result in an error\n",
      "  mel=np.mean(librosa.feature.melspectrogram(data, sr=sample_rate).T,axis=0)\n"
     ]
    },
    {
     "name": "stdout",
     "output_type": "stream",
     "text": [
      "243\n",
      "surprised_male\n",
      "244\n",
      "fearful_male\n"
     ]
    },
    {
     "name": "stderr",
     "output_type": "stream",
     "text": [
      "/var/folders/7h/3y0jb5yx0g399b2y_qtq_db80000gn/T/ipykernel_26966/1257479974.py:14: FutureWarning: Pass y=[ 3.3204423e-10 -2.0284943e-10 -2.5343106e-11 ...  6.7234453e-07\n",
      " -1.7770944e-06  0.0000000e+00] as keyword args. From version 0.10 passing these as positional arguments will result in an error\n",
      "  mel=np.mean(librosa.feature.melspectrogram(data, sr=sample_rate).T,axis=0)\n"
     ]
    },
    {
     "name": "stdout",
     "output_type": "stream",
     "text": [
      "245\n",
      "angry_male\n"
     ]
    },
    {
     "name": "stderr",
     "output_type": "stream",
     "text": [
      "/var/folders/7h/3y0jb5yx0g399b2y_qtq_db80000gn/T/ipykernel_26966/1257479974.py:14: FutureWarning: Pass y=[0.0000000e+00 0.0000000e+00 0.0000000e+00 ... 6.6371576e-06 2.4691439e-05\n",
      " 0.0000000e+00] as keyword args. From version 0.10 passing these as positional arguments will result in an error\n",
      "  mel=np.mean(librosa.feature.melspectrogram(data, sr=sample_rate).T,axis=0)\n"
     ]
    },
    {
     "name": "stdout",
     "output_type": "stream",
     "text": [
      "246\n",
      "angry_male\n"
     ]
    },
    {
     "name": "stderr",
     "output_type": "stream",
     "text": [
      "/var/folders/7h/3y0jb5yx0g399b2y_qtq_db80000gn/T/ipykernel_26966/1257479974.py:14: FutureWarning: Pass y=[ 0.00000000e+00  0.00000000e+00  0.00000000e+00 ... -4.00553155e-08\n",
      " -1.25530905e-05  0.00000000e+00] as keyword args. From version 0.10 passing these as positional arguments will result in an error\n",
      "  mel=np.mean(librosa.feature.melspectrogram(data, sr=sample_rate).T,axis=0)\n",
      "/var/folders/7h/3y0jb5yx0g399b2y_qtq_db80000gn/T/ipykernel_26966/1257479974.py:14: FutureWarning: Pass y=[-1.7656994e-09  2.4850977e-09 -3.3412191e-09 ... -2.7705880e-07\n",
      " -1.1985622e-07  0.0000000e+00] as keyword args. From version 0.10 passing these as positional arguments will result in an error\n",
      "  mel=np.mean(librosa.feature.melspectrogram(data, sr=sample_rate).T,axis=0)\n"
     ]
    },
    {
     "name": "stdout",
     "output_type": "stream",
     "text": [
      "247\n",
      "fearful_male\n",
      "248\n",
      "sad_male\n"
     ]
    },
    {
     "name": "stderr",
     "output_type": "stream",
     "text": [
      "/var/folders/7h/3y0jb5yx0g399b2y_qtq_db80000gn/T/ipykernel_26966/1257479974.py:14: FutureWarning: Pass y=[6.4537694e-06 1.9776244e-05 1.8215309e-06 ... 0.0000000e+00 0.0000000e+00\n",
      " 0.0000000e+00] as keyword args. From version 0.10 passing these as positional arguments will result in an error\n",
      "  mel=np.mean(librosa.feature.melspectrogram(data, sr=sample_rate).T,axis=0)\n",
      "/var/folders/7h/3y0jb5yx0g399b2y_qtq_db80000gn/T/ipykernel_26966/1257479974.py:14: FutureWarning: Pass y=[ 2.4021915e-07 -3.0037586e-07  3.6473287e-07 ...  7.9002582e-09\n",
      " -7.7745028e-09  0.0000000e+00] as keyword args. From version 0.10 passing these as positional arguments will result in an error\n",
      "  mel=np.mean(librosa.feature.melspectrogram(data, sr=sample_rate).T,axis=0)\n"
     ]
    },
    {
     "name": "stdout",
     "output_type": "stream",
     "text": [
      "249\n",
      "disgust_male\n",
      "250\n",
      "disgust_male\n"
     ]
    },
    {
     "name": "stderr",
     "output_type": "stream",
     "text": [
      "/var/folders/7h/3y0jb5yx0g399b2y_qtq_db80000gn/T/ipykernel_26966/1257479974.py:14: FutureWarning: Pass y=[ 9.9471163e-06  2.3043351e-05 -4.9317223e-06 ...  1.1179302e-05\n",
      "  2.7138833e-08  0.0000000e+00] as keyword args. From version 0.10 passing these as positional arguments will result in an error\n",
      "  mel=np.mean(librosa.feature.melspectrogram(data, sr=sample_rate).T,axis=0)\n"
     ]
    },
    {
     "name": "stdout",
     "output_type": "stream",
     "text": [
      "251\n",
      "sad_male\n",
      "252\n",
      "happy_male\n",
      "253\n",
      "happy_male\n"
     ]
    },
    {
     "name": "stderr",
     "output_type": "stream",
     "text": [
      "/var/folders/7h/3y0jb5yx0g399b2y_qtq_db80000gn/T/ipykernel_26966/1257479974.py:14: FutureWarning: Pass y=[ 0.0000000e+00  0.0000000e+00  0.0000000e+00 ...  4.6326760e-09\n",
      " -5.2267173e-09  0.0000000e+00] as keyword args. From version 0.10 passing these as positional arguments will result in an error\n",
      "  mel=np.mean(librosa.feature.melspectrogram(data, sr=sample_rate).T,axis=0)\n",
      "/var/folders/7h/3y0jb5yx0g399b2y_qtq_db80000gn/T/ipykernel_26966/1257479974.py:14: FutureWarning: Pass y=[ 0.0000000e+00  0.0000000e+00  0.0000000e+00 ... -4.4647336e-08\n",
      "  3.6415475e-08  0.0000000e+00] as keyword args. From version 0.10 passing these as positional arguments will result in an error\n",
      "  mel=np.mean(librosa.feature.melspectrogram(data, sr=sample_rate).T,axis=0)\n"
     ]
    },
    {
     "name": "stdout",
     "output_type": "stream",
     "text": [
      "254\n",
      "calm_male\n"
     ]
    },
    {
     "name": "stderr",
     "output_type": "stream",
     "text": [
      "/var/folders/7h/3y0jb5yx0g399b2y_qtq_db80000gn/T/ipykernel_26966/1257479974.py:14: FutureWarning: Pass y=[-2.43398408e-05 -2.34474119e-05 -1.83811007e-05 ... -1.05914956e-11\n",
      "  5.63526873e-12  0.00000000e+00] as keyword args. From version 0.10 passing these as positional arguments will result in an error\n",
      "  mel=np.mean(librosa.feature.melspectrogram(data, sr=sample_rate).T,axis=0)\n"
     ]
    },
    {
     "name": "stdout",
     "output_type": "stream",
     "text": [
      "255\n",
      "calm_male\n"
     ]
    },
    {
     "name": "stderr",
     "output_type": "stream",
     "text": [
      "/var/folders/7h/3y0jb5yx0g399b2y_qtq_db80000gn/T/ipykernel_26966/1257479974.py:14: FutureWarning: Pass y=[-7.4389726e-07  1.6215587e-06 -3.6622841e-06 ...  0.0000000e+00\n",
      "  0.0000000e+00  0.0000000e+00] as keyword args. From version 0.10 passing these as positional arguments will result in an error\n",
      "  mel=np.mean(librosa.feature.melspectrogram(data, sr=sample_rate).T,axis=0)\n"
     ]
    },
    {
     "name": "stdout",
     "output_type": "stream",
     "text": [
      "256\n",
      "neutral_male\n"
     ]
    },
    {
     "name": "stderr",
     "output_type": "stream",
     "text": [
      "/var/folders/7h/3y0jb5yx0g399b2y_qtq_db80000gn/T/ipykernel_26966/1257479974.py:14: FutureWarning: Pass y=[-1.55591460e-05 -3.01807941e-05 -1.24964745e-05 ...  3.49578045e-07\n",
      " -3.40571546e-07  0.00000000e+00] as keyword args. From version 0.10 passing these as positional arguments will result in an error\n",
      "  mel=np.mean(librosa.feature.melspectrogram(data, sr=sample_rate).T,axis=0)\n",
      "/var/folders/7h/3y0jb5yx0g399b2y_qtq_db80000gn/T/ipykernel_26966/1257479974.py:14: FutureWarning: Pass y=[2.4909117e-05 5.1281178e-05 5.1393799e-05 ... 0.0000000e+00 0.0000000e+00\n",
      " 0.0000000e+00] as keyword args. From version 0.10 passing these as positional arguments will result in an error\n",
      "  mel=np.mean(librosa.feature.melspectrogram(data, sr=sample_rate).T,axis=0)\n"
     ]
    },
    {
     "name": "stdout",
     "output_type": "stream",
     "text": [
      "257\n",
      "happy_male\n",
      "258\n",
      "happy_male\n"
     ]
    },
    {
     "name": "stderr",
     "output_type": "stream",
     "text": [
      "/var/folders/7h/3y0jb5yx0g399b2y_qtq_db80000gn/T/ipykernel_26966/1257479974.py:14: FutureWarning: Pass y=[ 2.2149207e-08 -2.2140005e-08  2.0714410e-08 ... -1.0177906e-09\n",
      "  5.0693144e-10  0.0000000e+00] as keyword args. From version 0.10 passing these as positional arguments will result in an error\n",
      "  mel=np.mean(librosa.feature.melspectrogram(data, sr=sample_rate).T,axis=0)\n"
     ]
    },
    {
     "name": "stdout",
     "output_type": "stream",
     "text": [
      "259\n",
      "calm_male\n"
     ]
    },
    {
     "name": "stderr",
     "output_type": "stream",
     "text": [
      "/var/folders/7h/3y0jb5yx0g399b2y_qtq_db80000gn/T/ipykernel_26966/1257479974.py:14: FutureWarning: Pass y=[ 0.0000000e+00  0.0000000e+00  0.0000000e+00 ... -1.6725274e-07\n",
      "  1.4981065e-07  0.0000000e+00] as keyword args. From version 0.10 passing these as positional arguments will result in an error\n",
      "  mel=np.mean(librosa.feature.melspectrogram(data, sr=sample_rate).T,axis=0)\n"
     ]
    },
    {
     "name": "stdout",
     "output_type": "stream",
     "text": [
      "260\n",
      "neutral_male\n",
      "261\n",
      "calm_male\n"
     ]
    },
    {
     "name": "stderr",
     "output_type": "stream",
     "text": [
      "/var/folders/7h/3y0jb5yx0g399b2y_qtq_db80000gn/T/ipykernel_26966/1257479974.py:14: FutureWarning: Pass y=[ 3.1435247e-05  4.7846828e-05  2.1238027e-05 ... -9.1392096e-08\n",
      "  8.7375255e-08  0.0000000e+00] as keyword args. From version 0.10 passing these as positional arguments will result in an error\n",
      "  mel=np.mean(librosa.feature.melspectrogram(data, sr=sample_rate).T,axis=0)\n",
      "/var/folders/7h/3y0jb5yx0g399b2y_qtq_db80000gn/T/ipykernel_26966/1257479974.py:14: FutureWarning: Pass y=[ 0.0000000e+00  0.0000000e+00  0.0000000e+00 ...  3.0420787e-07\n",
      " -1.9260564e-07  0.0000000e+00] as keyword args. From version 0.10 passing these as positional arguments will result in an error\n",
      "  mel=np.mean(librosa.feature.melspectrogram(data, sr=sample_rate).T,axis=0)\n"
     ]
    },
    {
     "name": "stdout",
     "output_type": "stream",
     "text": [
      "262\n",
      "surprised_male\n",
      "263\n",
      "surprised_male\n"
     ]
    },
    {
     "name": "stderr",
     "output_type": "stream",
     "text": [
      "/var/folders/7h/3y0jb5yx0g399b2y_qtq_db80000gn/T/ipykernel_26966/1257479974.py:14: FutureWarning: Pass y=[-2.1932166e-05 -9.7180309e-06  4.4416997e-06 ...  0.0000000e+00\n",
      "  0.0000000e+00  0.0000000e+00] as keyword args. From version 0.10 passing these as positional arguments will result in an error\n",
      "  mel=np.mean(librosa.feature.melspectrogram(data, sr=sample_rate).T,axis=0)\n"
     ]
    },
    {
     "name": "stdout",
     "output_type": "stream",
     "text": [
      "264\n",
      "angry_male\n"
     ]
    },
    {
     "name": "stderr",
     "output_type": "stream",
     "text": [
      "/var/folders/7h/3y0jb5yx0g399b2y_qtq_db80000gn/T/ipykernel_26966/1257479974.py:14: FutureWarning: Pass y=[-1.3561294e-05 -2.4258712e-05 -2.4236184e-05 ...  1.7711408e-06\n",
      " -1.6725824e-05  0.0000000e+00] as keyword args. From version 0.10 passing these as positional arguments will result in an error\n",
      "  mel=np.mean(librosa.feature.melspectrogram(data, sr=sample_rate).T,axis=0)\n"
     ]
    },
    {
     "name": "stdout",
     "output_type": "stream",
     "text": [
      "265\n",
      "fearful_male\n"
     ]
    },
    {
     "name": "stderr",
     "output_type": "stream",
     "text": [
      "/var/folders/7h/3y0jb5yx0g399b2y_qtq_db80000gn/T/ipykernel_26966/1257479974.py:14: FutureWarning: Pass y=[ 0.0000000e+00  0.0000000e+00  0.0000000e+00 ... -8.3917925e-08\n",
      "  8.1797019e-08  0.0000000e+00] as keyword args. From version 0.10 passing these as positional arguments will result in an error\n",
      "  mel=np.mean(librosa.feature.melspectrogram(data, sr=sample_rate).T,axis=0)\n"
     ]
    },
    {
     "name": "stdout",
     "output_type": "stream",
     "text": [
      "266\n",
      "fearful_male\n"
     ]
    },
    {
     "name": "stderr",
     "output_type": "stream",
     "text": [
      "/var/folders/7h/3y0jb5yx0g399b2y_qtq_db80000gn/T/ipykernel_26966/1257479974.py:14: FutureWarning: Pass y=[ 1.32847481e-05  7.40702490e-07 -7.26956841e-07 ...  1.02708145e-05\n",
      " -3.37682104e-06  0.00000000e+00] as keyword args. From version 0.10 passing these as positional arguments will result in an error\n",
      "  mel=np.mean(librosa.feature.melspectrogram(data, sr=sample_rate).T,axis=0)\n"
     ]
    },
    {
     "name": "stdout",
     "output_type": "stream",
     "text": [
      "267\n",
      "angry_male\n"
     ]
    },
    {
     "name": "stderr",
     "output_type": "stream",
     "text": [
      "/var/folders/7h/3y0jb5yx0g399b2y_qtq_db80000gn/T/ipykernel_26966/1257479974.py:14: FutureWarning: Pass y=[ 0.0000000e+00  0.0000000e+00  0.0000000e+00 ... -4.8604729e-06\n",
      "  3.1377754e-06  0.0000000e+00] as keyword args. From version 0.10 passing these as positional arguments will result in an error\n",
      "  mel=np.mean(librosa.feature.melspectrogram(data, sr=sample_rate).T,axis=0)\n"
     ]
    },
    {
     "name": "stdout",
     "output_type": "stream",
     "text": [
      "268\n",
      "disgust_male\n"
     ]
    },
    {
     "name": "stderr",
     "output_type": "stream",
     "text": [
      "/var/folders/7h/3y0jb5yx0g399b2y_qtq_db80000gn/T/ipykernel_26966/1257479974.py:14: FutureWarning: Pass y=[-4.7517321e-07  5.6385443e-07 -6.5136294e-07 ... -5.5288296e-04\n",
      " -6.4801495e-04  0.0000000e+00] as keyword args. From version 0.10 passing these as positional arguments will result in an error\n",
      "  mel=np.mean(librosa.feature.melspectrogram(data, sr=sample_rate).T,axis=0)\n"
     ]
    },
    {
     "name": "stdout",
     "output_type": "stream",
     "text": [
      "269\n",
      "sad_male\n"
     ]
    },
    {
     "name": "stderr",
     "output_type": "stream",
     "text": [
      "/var/folders/7h/3y0jb5yx0g399b2y_qtq_db80000gn/T/ipykernel_26966/1257479974.py:14: FutureWarning: Pass y=[ 1.8117285e-10 -1.6443091e-10  1.0794393e-10 ... -4.8106412e-09\n",
      "  4.7465489e-09  0.0000000e+00] as keyword args. From version 0.10 passing these as positional arguments will result in an error\n",
      "  mel=np.mean(librosa.feature.melspectrogram(data, sr=sample_rate).T,axis=0)\n"
     ]
    },
    {
     "name": "stdout",
     "output_type": "stream",
     "text": [
      "270\n",
      "sad_male\n"
     ]
    },
    {
     "name": "stderr",
     "output_type": "stream",
     "text": [
      "/var/folders/7h/3y0jb5yx0g399b2y_qtq_db80000gn/T/ipykernel_26966/1257479974.py:14: FutureWarning: Pass y=[-9.6224873e-10  1.3136247e-09 -1.7326260e-09 ... -3.2740847e-06\n",
      "  1.9601621e-06  0.0000000e+00] as keyword args. From version 0.10 passing these as positional arguments will result in an error\n",
      "  mel=np.mean(librosa.feature.melspectrogram(data, sr=sample_rate).T,axis=0)\n"
     ]
    },
    {
     "name": "stdout",
     "output_type": "stream",
     "text": [
      "271\n",
      "disgust_male\n"
     ]
    },
    {
     "name": "stderr",
     "output_type": "stream",
     "text": [
      "/var/folders/7h/3y0jb5yx0g399b2y_qtq_db80000gn/T/ipykernel_26966/1257479974.py:14: FutureWarning: Pass y=[ 2.3887121e-09  4.8469576e-11 -3.2741658e-09 ...  7.3599178e-05\n",
      "  1.0650302e-04  0.0000000e+00] as keyword args. From version 0.10 passing these as positional arguments will result in an error\n",
      "  mel=np.mean(librosa.feature.melspectrogram(data, sr=sample_rate).T,axis=0)\n"
     ]
    },
    {
     "name": "stdout",
     "output_type": "stream",
     "text": [
      "272\n",
      "neutral_male\n"
     ]
    },
    {
     "name": "stderr",
     "output_type": "stream",
     "text": [
      "/var/folders/7h/3y0jb5yx0g399b2y_qtq_db80000gn/T/ipykernel_26966/1257479974.py:14: FutureWarning: Pass y=[ 0.0000000e+00  1.1271335e-12 -2.5626274e-12 ...  1.4029137e-05\n",
      "  2.2668013e-05  0.0000000e+00] as keyword args. From version 0.10 passing these as positional arguments will result in an error\n",
      "  mel=np.mean(librosa.feature.melspectrogram(data, sr=sample_rate).T,axis=0)\n"
     ]
    },
    {
     "name": "stdout",
     "output_type": "stream",
     "text": [
      "273\n",
      "calm_male\n",
      "274\n",
      "calm_male\n"
     ]
    },
    {
     "name": "stderr",
     "output_type": "stream",
     "text": [
      "/var/folders/7h/3y0jb5yx0g399b2y_qtq_db80000gn/T/ipykernel_26966/1257479974.py:14: FutureWarning: Pass y=[-2.1307440e-05 -1.7691615e-05 -3.4204324e-05 ...  0.0000000e+00\n",
      "  0.0000000e+00  0.0000000e+00] as keyword args. From version 0.10 passing these as positional arguments will result in an error\n",
      "  mel=np.mean(librosa.feature.melspectrogram(data, sr=sample_rate).T,axis=0)\n",
      "/var/folders/7h/3y0jb5yx0g399b2y_qtq_db80000gn/T/ipykernel_26966/1257479974.py:14: FutureWarning: Pass y=[ 0.0000000e+00  0.0000000e+00  0.0000000e+00 ... -1.0577612e-05\n",
      " -8.9447531e-06  0.0000000e+00] as keyword args. From version 0.10 passing these as positional arguments will result in an error\n",
      "  mel=np.mean(librosa.feature.melspectrogram(data, sr=sample_rate).T,axis=0)\n"
     ]
    },
    {
     "name": "stdout",
     "output_type": "stream",
     "text": [
      "275\n",
      "happy_male\n",
      "276\n",
      "happy_male\n"
     ]
    },
    {
     "name": "stderr",
     "output_type": "stream",
     "text": [
      "/var/folders/7h/3y0jb5yx0g399b2y_qtq_db80000gn/T/ipykernel_26966/1257479974.py:14: FutureWarning: Pass y=[ 1.0051337e-05  6.7380815e-06  7.2220209e-06 ... -2.9654601e-07\n",
      "  2.2820777e-07  0.0000000e+00] as keyword args. From version 0.10 passing these as positional arguments will result in an error\n",
      "  mel=np.mean(librosa.feature.melspectrogram(data, sr=sample_rate).T,axis=0)\n",
      "/var/folders/7h/3y0jb5yx0g399b2y_qtq_db80000gn/T/ipykernel_26966/1257479974.py:14: FutureWarning: Pass y=[ 2.0643127e-12 -2.5577502e-12  2.1116097e-12 ...  2.9785357e-05\n",
      "  2.8148439e-05  0.0000000e+00] as keyword args. From version 0.10 passing these as positional arguments will result in an error\n",
      "  mel=np.mean(librosa.feature.melspectrogram(data, sr=sample_rate).T,axis=0)\n"
     ]
    },
    {
     "name": "stdout",
     "output_type": "stream",
     "text": [
      "277\n",
      "surprised_male\n",
      "278\n",
      "surprised_male\n"
     ]
    },
    {
     "name": "stderr",
     "output_type": "stream",
     "text": [
      "/var/folders/7h/3y0jb5yx0g399b2y_qtq_db80000gn/T/ipykernel_26966/1257479974.py:14: FutureWarning: Pass y=[ 4.8903814e-07 -7.2188260e-07  1.0627283e-06 ...  2.3367599e-08\n",
      " -1.8576937e-08  0.0000000e+00] as keyword args. From version 0.10 passing these as positional arguments will result in an error\n",
      "  mel=np.mean(librosa.feature.melspectrogram(data, sr=sample_rate).T,axis=0)\n"
     ]
    },
    {
     "name": "stdout",
     "output_type": "stream",
     "text": [
      "279\n",
      "sad_male\n"
     ]
    },
    {
     "name": "stderr",
     "output_type": "stream",
     "text": [
      "/var/folders/7h/3y0jb5yx0g399b2y_qtq_db80000gn/T/ipykernel_26966/1257479974.py:14: FutureWarning: Pass y=[-2.7785878e-09  3.4950713e-09 -4.2445332e-09 ... -3.9121751e-06\n",
      " -1.2833461e-05  0.0000000e+00] as keyword args. From version 0.10 passing these as positional arguments will result in an error\n",
      "  mel=np.mean(librosa.feature.melspectrogram(data, sr=sample_rate).T,axis=0)\n"
     ]
    },
    {
     "name": "stdout",
     "output_type": "stream",
     "text": [
      "280\n",
      "disgust_male\n"
     ]
    },
    {
     "name": "stderr",
     "output_type": "stream",
     "text": [
      "/var/folders/7h/3y0jb5yx0g399b2y_qtq_db80000gn/T/ipykernel_26966/1257479974.py:14: FutureWarning: Pass y=[ 6.8471135e-09 -6.4690613e-09  5.5425526e-09 ... -1.7290513e-06\n",
      "  1.5583519e-06  0.0000000e+00] as keyword args. From version 0.10 passing these as positional arguments will result in an error\n",
      "  mel=np.mean(librosa.feature.melspectrogram(data, sr=sample_rate).T,axis=0)\n",
      "/var/folders/7h/3y0jb5yx0g399b2y_qtq_db80000gn/T/ipykernel_26966/1257479974.py:14: FutureWarning: Pass y=[-5.6571642e-10  7.1992273e-10 -8.7887658e-10 ...  1.2115900e-05\n",
      "  3.7322789e-06  0.0000000e+00] as keyword args. From version 0.10 passing these as positional arguments will result in an error\n",
      "  mel=np.mean(librosa.feature.melspectrogram(data, sr=sample_rate).T,axis=0)\n"
     ]
    },
    {
     "name": "stdout",
     "output_type": "stream",
     "text": [
      "281\n",
      "disgust_male\n",
      "282\n",
      "sad_male\n"
     ]
    },
    {
     "name": "stderr",
     "output_type": "stream",
     "text": [
      "/var/folders/7h/3y0jb5yx0g399b2y_qtq_db80000gn/T/ipykernel_26966/1257479974.py:14: FutureWarning: Pass y=[ 2.4414057e-06  1.1621373e-05  1.0248550e-05 ... -2.9763553e-06\n",
      "  2.0861926e-06  0.0000000e+00] as keyword args. From version 0.10 passing these as positional arguments will result in an error\n",
      "  mel=np.mean(librosa.feature.melspectrogram(data, sr=sample_rate).T,axis=0)\n"
     ]
    },
    {
     "name": "stdout",
     "output_type": "stream",
     "text": [
      "283\n",
      "fearful_male\n"
     ]
    },
    {
     "name": "stderr",
     "output_type": "stream",
     "text": [
      "/var/folders/7h/3y0jb5yx0g399b2y_qtq_db80000gn/T/ipykernel_26966/1257479974.py:14: FutureWarning: Pass y=[ 0.0000000e+00  0.0000000e+00  0.0000000e+00 ...  9.6549866e-06\n",
      " -4.9485734e-06  0.0000000e+00] as keyword args. From version 0.10 passing these as positional arguments will result in an error\n",
      "  mel=np.mean(librosa.feature.melspectrogram(data, sr=sample_rate).T,axis=0)\n"
     ]
    },
    {
     "name": "stdout",
     "output_type": "stream",
     "text": [
      "284\n",
      "angry_male\n"
     ]
    },
    {
     "name": "stderr",
     "output_type": "stream",
     "text": [
      "/var/folders/7h/3y0jb5yx0g399b2y_qtq_db80000gn/T/ipykernel_26966/1257479974.py:14: FutureWarning: Pass y=[-6.3786081e-07  6.7719697e-07 -7.1251776e-07 ...  5.1412576e-07\n",
      " -4.4340612e-07  0.0000000e+00] as keyword args. From version 0.10 passing these as positional arguments will result in an error\n",
      "  mel=np.mean(librosa.feature.melspectrogram(data, sr=sample_rate).T,axis=0)\n"
     ]
    },
    {
     "name": "stdout",
     "output_type": "stream",
     "text": [
      "285\n",
      "angry_male\n"
     ]
    },
    {
     "name": "stderr",
     "output_type": "stream",
     "text": [
      "/var/folders/7h/3y0jb5yx0g399b2y_qtq_db80000gn/T/ipykernel_26966/1257479974.py:14: FutureWarning: Pass y=[ 1.4001510e-11 -2.5940250e-11  4.4368297e-11 ...  0.0000000e+00\n",
      "  0.0000000e+00  0.0000000e+00] as keyword args. From version 0.10 passing these as positional arguments will result in an error\n",
      "  mel=np.mean(librosa.feature.melspectrogram(data, sr=sample_rate).T,axis=0)\n",
      "/var/folders/7h/3y0jb5yx0g399b2y_qtq_db80000gn/T/ipykernel_26966/1257479974.py:14: FutureWarning: Pass y=[-1.5258845e-06  1.8390887e-06 -2.2482623e-06 ... -4.8861919e-05\n",
      " -6.6855719e-05  0.0000000e+00] as keyword args. From version 0.10 passing these as positional arguments will result in an error\n",
      "  mel=np.mean(librosa.feature.melspectrogram(data, sr=sample_rate).T,axis=0)\n"
     ]
    },
    {
     "name": "stdout",
     "output_type": "stream",
     "text": [
      "286\n",
      "fearful_male\n",
      "287\n",
      "surprised_male\n"
     ]
    },
    {
     "name": "stderr",
     "output_type": "stream",
     "text": [
      "/var/folders/7h/3y0jb5yx0g399b2y_qtq_db80000gn/T/ipykernel_26966/1257479974.py:14: FutureWarning: Pass y=[ 5.7141347e-10  5.2947724e-10 -2.0935955e-09 ...  3.8159455e-06\n",
      " -3.5245816e-05  0.0000000e+00] as keyword args. From version 0.10 passing these as positional arguments will result in an error\n",
      "  mel=np.mean(librosa.feature.melspectrogram(data, sr=sample_rate).T,axis=0)\n",
      "/var/folders/7h/3y0jb5yx0g399b2y_qtq_db80000gn/T/ipykernel_26966/1257479974.py:14: FutureWarning: Pass y=[-2.6792492e-07  2.9883839e-07 -3.2377650e-07 ...  3.1812851e-05\n",
      "  5.5292162e-06  0.0000000e+00] as keyword args. From version 0.10 passing these as positional arguments will result in an error\n",
      "  mel=np.mean(librosa.feature.melspectrogram(data, sr=sample_rate).T,axis=0)\n"
     ]
    },
    {
     "name": "stdout",
     "output_type": "stream",
     "text": [
      "288\n",
      "surprised_male\n",
      "289\n",
      "disgust_male\n"
     ]
    },
    {
     "name": "stderr",
     "output_type": "stream",
     "text": [
      "/var/folders/7h/3y0jb5yx0g399b2y_qtq_db80000gn/T/ipykernel_26966/1257479974.py:14: FutureWarning: Pass y=[-1.3841721e-05 -1.5273879e-05 -2.3391267e-05 ...  1.1171201e-06\n",
      "  6.1102391e-08  0.0000000e+00] as keyword args. From version 0.10 passing these as positional arguments will result in an error\n",
      "  mel=np.mean(librosa.feature.melspectrogram(data, sr=sample_rate).T,axis=0)\n"
     ]
    },
    {
     "name": "stdout",
     "output_type": "stream",
     "text": [
      "290\n",
      "sad_male\n"
     ]
    },
    {
     "name": "stderr",
     "output_type": "stream",
     "text": [
      "/var/folders/7h/3y0jb5yx0g399b2y_qtq_db80000gn/T/ipykernel_26966/1257479974.py:14: FutureWarning: Pass y=[ 1.3350422e-05  7.3917658e-06  1.9212001e-05 ... -1.6056987e-08\n",
      "  1.8326189e-08  0.0000000e+00] as keyword args. From version 0.10 passing these as positional arguments will result in an error\n",
      "  mel=np.mean(librosa.feature.melspectrogram(data, sr=sample_rate).T,axis=0)\n"
     ]
    },
    {
     "name": "stdout",
     "output_type": "stream",
     "text": [
      "291\n",
      "sad_male\n"
     ]
    },
    {
     "name": "stderr",
     "output_type": "stream",
     "text": [
      "/var/folders/7h/3y0jb5yx0g399b2y_qtq_db80000gn/T/ipykernel_26966/1257479974.py:14: FutureWarning: Pass y=[ 2.6167754e-07  5.5136962e-08 -7.0564283e-07 ...  0.0000000e+00\n",
      "  0.0000000e+00  0.0000000e+00] as keyword args. From version 0.10 passing these as positional arguments will result in an error\n",
      "  mel=np.mean(librosa.feature.melspectrogram(data, sr=sample_rate).T,axis=0)\n"
     ]
    },
    {
     "name": "stdout",
     "output_type": "stream",
     "text": [
      "292\n",
      "disgust_male\n"
     ]
    },
    {
     "name": "stderr",
     "output_type": "stream",
     "text": [
      "/var/folders/7h/3y0jb5yx0g399b2y_qtq_db80000gn/T/ipykernel_26966/1257479974.py:14: FutureWarning: Pass y=[ 0.000000e+00  0.000000e+00  0.000000e+00 ...  7.249310e-12 -8.423563e-11\n",
      "  0.000000e+00] as keyword args. From version 0.10 passing these as positional arguments will result in an error\n",
      "  mel=np.mean(librosa.feature.melspectrogram(data, sr=sample_rate).T,axis=0)\n"
     ]
    },
    {
     "name": "stdout",
     "output_type": "stream",
     "text": [
      "293\n",
      "angry_male\n"
     ]
    },
    {
     "name": "stderr",
     "output_type": "stream",
     "text": [
      "/var/folders/7h/3y0jb5yx0g399b2y_qtq_db80000gn/T/ipykernel_26966/1257479974.py:14: FutureWarning: Pass y=[-1.4867389e-07  1.8812048e-07 -2.2931758e-07 ... -2.6210132e-06\n",
      "  1.7063338e-05  0.0000000e+00] as keyword args. From version 0.10 passing these as positional arguments will result in an error\n",
      "  mel=np.mean(librosa.feature.melspectrogram(data, sr=sample_rate).T,axis=0)\n"
     ]
    },
    {
     "name": "stdout",
     "output_type": "stream",
     "text": [
      "294\n",
      "fearful_male\n"
     ]
    },
    {
     "name": "stderr",
     "output_type": "stream",
     "text": [
      "/var/folders/7h/3y0jb5yx0g399b2y_qtq_db80000gn/T/ipykernel_26966/1257479974.py:14: FutureWarning: Pass y=[ 0.0000000e+00  0.0000000e+00  0.0000000e+00 ... -8.1962571e-07\n",
      "  8.4330173e-07  0.0000000e+00] as keyword args. From version 0.10 passing these as positional arguments will result in an error\n",
      "  mel=np.mean(librosa.feature.melspectrogram(data, sr=sample_rate).T,axis=0)\n"
     ]
    },
    {
     "name": "stdout",
     "output_type": "stream",
     "text": [
      "295\n",
      "fearful_male\n"
     ]
    },
    {
     "name": "stderr",
     "output_type": "stream",
     "text": [
      "/var/folders/7h/3y0jb5yx0g399b2y_qtq_db80000gn/T/ipykernel_26966/1257479974.py:14: FutureWarning: Pass y=[-2.5108138e-08 -1.3880995e-07  3.6754858e-07 ...  1.1128735e-05\n",
      "  1.1167944e-05  0.0000000e+00] as keyword args. From version 0.10 passing these as positional arguments will result in an error\n",
      "  mel=np.mean(librosa.feature.melspectrogram(data, sr=sample_rate).T,axis=0)\n"
     ]
    },
    {
     "name": "stdout",
     "output_type": "stream",
     "text": [
      "296\n",
      "angry_male\n"
     ]
    },
    {
     "name": "stderr",
     "output_type": "stream",
     "text": [
      "/var/folders/7h/3y0jb5yx0g399b2y_qtq_db80000gn/T/ipykernel_26966/1257479974.py:14: FutureWarning: Pass y=[-3.3717155e-05 -5.9562441e-05 -5.0649407e-05 ...  0.0000000e+00\n",
      "  0.0000000e+00  0.0000000e+00] as keyword args. From version 0.10 passing these as positional arguments will result in an error\n",
      "  mel=np.mean(librosa.feature.melspectrogram(data, sr=sample_rate).T,axis=0)\n"
     ]
    },
    {
     "name": "stdout",
     "output_type": "stream",
     "text": [
      "297\n",
      "calm_male\n"
     ]
    },
    {
     "name": "stderr",
     "output_type": "stream",
     "text": [
      "/var/folders/7h/3y0jb5yx0g399b2y_qtq_db80000gn/T/ipykernel_26966/1257479974.py:14: FutureWarning: Pass y=[-2.9085053e-05 -3.5525845e-05 -4.5290883e-05 ...  2.3470013e-09\n",
      " -1.7365369e-09  0.0000000e+00] as keyword args. From version 0.10 passing these as positional arguments will result in an error\n",
      "  mel=np.mean(librosa.feature.melspectrogram(data, sr=sample_rate).T,axis=0)\n"
     ]
    },
    {
     "name": "stdout",
     "output_type": "stream",
     "text": [
      "298\n",
      "neutral_male\n",
      "299\n",
      "calm_male\n"
     ]
    },
    {
     "name": "stderr",
     "output_type": "stream",
     "text": [
      "/var/folders/7h/3y0jb5yx0g399b2y_qtq_db80000gn/T/ipykernel_26966/1257479974.py:14: FutureWarning: Pass y=[-8.2854876e-07  1.1492144e-06 -1.6712411e-06 ...  6.3876464e-06\n",
      "  2.3292690e-05  0.0000000e+00] as keyword args. From version 0.10 passing these as positional arguments will result in an error\n",
      "  mel=np.mean(librosa.feature.melspectrogram(data, sr=sample_rate).T,axis=0)\n",
      "/var/folders/7h/3y0jb5yx0g399b2y_qtq_db80000gn/T/ipykernel_26966/1257479974.py:14: FutureWarning: Pass y=[-6.2449709e-07  6.7735533e-07 -7.1600289e-07 ... -3.6547529e-08\n",
      "  2.5382322e-08  0.0000000e+00] as keyword args. From version 0.10 passing these as positional arguments will result in an error\n",
      "  mel=np.mean(librosa.feature.melspectrogram(data, sr=sample_rate).T,axis=0)\n"
     ]
    },
    {
     "name": "stdout",
     "output_type": "stream",
     "text": [
      "300\n",
      "happy_male\n",
      "301\n",
      "happy_male\n"
     ]
    },
    {
     "name": "stderr",
     "output_type": "stream",
     "text": [
      "/var/folders/7h/3y0jb5yx0g399b2y_qtq_db80000gn/T/ipykernel_26966/1257479974.py:14: FutureWarning: Pass y=[ 1.76058245e-06 -3.22026926e-06 -1.27716285e-05 ... -7.78471895e-06\n",
      "  3.16225578e-06  0.00000000e+00] as keyword args. From version 0.10 passing these as positional arguments will result in an error\n",
      "  mel=np.mean(librosa.feature.melspectrogram(data, sr=sample_rate).T,axis=0)\n",
      "/var/folders/7h/3y0jb5yx0g399b2y_qtq_db80000gn/T/ipykernel_26966/1257479974.py:14: FutureWarning: Pass y=[-6.0036611e-09  3.5253320e-09  1.9434611e-10 ... -2.5860552e-04\n",
      " -3.0622189e-04  0.0000000e+00] as keyword args. From version 0.10 passing these as positional arguments will result in an error\n",
      "  mel=np.mean(librosa.feature.melspectrogram(data, sr=sample_rate).T,axis=0)\n"
     ]
    },
    {
     "name": "stdout",
     "output_type": "stream",
     "text": [
      "302\n",
      "neutral_male\n",
      "303\n",
      "calm_male\n"
     ]
    },
    {
     "name": "stderr",
     "output_type": "stream",
     "text": [
      "/var/folders/7h/3y0jb5yx0g399b2y_qtq_db80000gn/T/ipykernel_26966/1257479974.py:14: FutureWarning: Pass y=[ 7.3186224e-05  1.1096422e-04  9.6238764e-05 ... -1.3651681e-05\n",
      " -1.8640692e-05  0.0000000e+00] as keyword args. From version 0.10 passing these as positional arguments will result in an error\n",
      "  mel=np.mean(librosa.feature.melspectrogram(data, sr=sample_rate).T,axis=0)\n"
     ]
    },
    {
     "name": "stdout",
     "output_type": "stream",
     "text": [
      "304\n",
      "calm_male\n"
     ]
    },
    {
     "name": "stderr",
     "output_type": "stream",
     "text": [
      "/var/folders/7h/3y0jb5yx0g399b2y_qtq_db80000gn/T/ipykernel_26966/1257479974.py:14: FutureWarning: Pass y=[-9.67883622e-08  3.07329735e-08  7.04254859e-08 ... -1.09874745e-04\n",
      " -1.07324355e-04  0.00000000e+00] as keyword args. From version 0.10 passing these as positional arguments will result in an error\n",
      "  mel=np.mean(librosa.feature.melspectrogram(data, sr=sample_rate).T,axis=0)\n",
      "/var/folders/7h/3y0jb5yx0g399b2y_qtq_db80000gn/T/ipykernel_26966/1257479974.py:14: FutureWarning: Pass y=[-9.13171607e-05 -1.25894541e-04 -1.08817258e-04 ...  1.09246364e-04\n",
      "  1.31286462e-04  0.00000000e+00] as keyword args. From version 0.10 passing these as positional arguments will result in an error\n",
      "  mel=np.mean(librosa.feature.melspectrogram(data, sr=sample_rate).T,axis=0)\n"
     ]
    },
    {
     "name": "stdout",
     "output_type": "stream",
     "text": [
      "305\n",
      "happy_male\n",
      "306\n",
      "happy_male\n"
     ]
    },
    {
     "name": "stderr",
     "output_type": "stream",
     "text": [
      "/var/folders/7h/3y0jb5yx0g399b2y_qtq_db80000gn/T/ipykernel_26966/1257479974.py:14: FutureWarning: Pass y=[ 0.00026001  0.00045326  0.00047676 ... -0.00021263 -0.00021908\n",
      "  0.        ] as keyword args. From version 0.10 passing these as positional arguments will result in an error\n",
      "  mel=np.mean(librosa.feature.melspectrogram(data, sr=sample_rate).T,axis=0)\n"
     ]
    },
    {
     "name": "stdout",
     "output_type": "stream",
     "text": [
      "307\n",
      "sad_male\n"
     ]
    },
    {
     "name": "stderr",
     "output_type": "stream",
     "text": [
      "/var/folders/7h/3y0jb5yx0g399b2y_qtq_db80000gn/T/ipykernel_26966/1257479974.py:14: FutureWarning: Pass y=[-1.6242868e-03 -2.4558406e-03 -2.1897589e-03 ... -2.1552606e-07\n",
      "  2.0237019e-07  0.0000000e+00] as keyword args. From version 0.10 passing these as positional arguments will result in an error\n",
      "  mel=np.mean(librosa.feature.melspectrogram(data, sr=sample_rate).T,axis=0)\n"
     ]
    },
    {
     "name": "stdout",
     "output_type": "stream",
     "text": [
      "308\n",
      "disgust_male\n"
     ]
    },
    {
     "name": "stderr",
     "output_type": "stream",
     "text": [
      "/var/folders/7h/3y0jb5yx0g399b2y_qtq_db80000gn/T/ipykernel_26966/1257479974.py:14: FutureWarning: Pass y=[-4.1517502e-05 -7.0098424e-05 -4.3803833e-05 ...  0.0000000e+00\n",
      "  0.0000000e+00  0.0000000e+00] as keyword args. From version 0.10 passing these as positional arguments will result in an error\n",
      "  mel=np.mean(librosa.feature.melspectrogram(data, sr=sample_rate).T,axis=0)\n"
     ]
    },
    {
     "name": "stdout",
     "output_type": "stream",
     "text": [
      "309\n",
      "disgust_male\n"
     ]
    },
    {
     "name": "stderr",
     "output_type": "stream",
     "text": [
      "/var/folders/7h/3y0jb5yx0g399b2y_qtq_db80000gn/T/ipykernel_26966/1257479974.py:14: FutureWarning: Pass y=[ 8.4636558e-05  1.2130085e-04  1.0492239e-04 ...  2.8257870e-07\n",
      " -3.7954527e-07  0.0000000e+00] as keyword args. From version 0.10 passing these as positional arguments will result in an error\n",
      "  mel=np.mean(librosa.feature.melspectrogram(data, sr=sample_rate).T,axis=0)\n",
      "/var/folders/7h/3y0jb5yx0g399b2y_qtq_db80000gn/T/ipykernel_26966/1257479974.py:14: FutureWarning: Pass y=[ 0.0000000e+00  0.0000000e+00  0.0000000e+00 ...  3.7416528e-06\n",
      " -1.8027641e-06  0.0000000e+00] as keyword args. From version 0.10 passing these as positional arguments will result in an error\n",
      "  mel=np.mean(librosa.feature.melspectrogram(data, sr=sample_rate).T,axis=0)\n"
     ]
    },
    {
     "name": "stdout",
     "output_type": "stream",
     "text": [
      "310\n",
      "sad_male\n",
      "311\n",
      "fearful_male\n"
     ]
    },
    {
     "name": "stderr",
     "output_type": "stream",
     "text": [
      "/var/folders/7h/3y0jb5yx0g399b2y_qtq_db80000gn/T/ipykernel_26966/1257479974.py:14: FutureWarning: Pass y=[-0.00060017 -0.00087946 -0.00070875 ... -0.00066298 -0.00065558\n",
      "  0.        ] as keyword args. From version 0.10 passing these as positional arguments will result in an error\n",
      "  mel=np.mean(librosa.feature.melspectrogram(data, sr=sample_rate).T,axis=0)\n"
     ]
    },
    {
     "name": "stdout",
     "output_type": "stream",
     "text": [
      "312\n",
      "angry_male\n"
     ]
    },
    {
     "name": "stderr",
     "output_type": "stream",
     "text": [
      "/var/folders/7h/3y0jb5yx0g399b2y_qtq_db80000gn/T/ipykernel_26966/1257479974.py:14: FutureWarning: Pass y=[ 4.2058153e-05 -7.2741219e-05  1.1704075e-04 ...  3.0893891e-05\n",
      "  2.0394573e-07  0.0000000e+00] as keyword args. From version 0.10 passing these as positional arguments will result in an error\n",
      "  mel=np.mean(librosa.feature.melspectrogram(data, sr=sample_rate).T,axis=0)\n"
     ]
    },
    {
     "name": "stdout",
     "output_type": "stream",
     "text": [
      "313\n",
      "angry_male\n"
     ]
    },
    {
     "name": "stderr",
     "output_type": "stream",
     "text": [
      "/var/folders/7h/3y0jb5yx0g399b2y_qtq_db80000gn/T/ipykernel_26966/1257479974.py:14: FutureWarning: Pass y=[ 0.000000e+00  0.000000e+00  0.000000e+00 ... -3.898132e-07  4.503379e-07\n",
      "  0.000000e+00] as keyword args. From version 0.10 passing these as positional arguments will result in an error\n",
      "  mel=np.mean(librosa.feature.melspectrogram(data, sr=sample_rate).T,axis=0)\n",
      "/var/folders/7h/3y0jb5yx0g399b2y_qtq_db80000gn/T/ipykernel_26966/1257479974.py:14: FutureWarning: Pass y=[-7.6389193e-07  1.0485370e-06 -2.2253432e-06 ... -1.9306400e-04\n",
      " -2.1099615e-04  0.0000000e+00] as keyword args. From version 0.10 passing these as positional arguments will result in an error\n",
      "  mel=np.mean(librosa.feature.melspectrogram(data, sr=sample_rate).T,axis=0)\n"
     ]
    },
    {
     "name": "stdout",
     "output_type": "stream",
     "text": [
      "314\n",
      "fearful_male\n",
      "315\n",
      "surprised_male\n"
     ]
    },
    {
     "name": "stderr",
     "output_type": "stream",
     "text": [
      "/var/folders/7h/3y0jb5yx0g399b2y_qtq_db80000gn/T/ipykernel_26966/1257479974.py:14: FutureWarning: Pass y=[ 6.69696451e-11 -7.79612971e-11  8.12153955e-11 ...  1.15138755e-05\n",
      " -1.69544739e-06  0.00000000e+00] as keyword args. From version 0.10 passing these as positional arguments will result in an error\n",
      "  mel=np.mean(librosa.feature.melspectrogram(data, sr=sample_rate).T,axis=0)\n"
     ]
    },
    {
     "name": "stdout",
     "output_type": "stream",
     "text": [
      "316\n",
      "surprised_male\n"
     ]
    },
    {
     "name": "stderr",
     "output_type": "stream",
     "text": [
      "/var/folders/7h/3y0jb5yx0g399b2y_qtq_db80000gn/T/ipykernel_26966/1257479974.py:14: FutureWarning: Pass y=[9.6117030e-05 1.4235414e-04 1.0959232e-04 ... 0.0000000e+00 0.0000000e+00\n",
      " 0.0000000e+00] as keyword args. From version 0.10 passing these as positional arguments will result in an error\n",
      "  mel=np.mean(librosa.feature.melspectrogram(data, sr=sample_rate).T,axis=0)\n"
     ]
    },
    {
     "name": "stdout",
     "output_type": "stream",
     "text": [
      "317\n",
      "disgust_male\n"
     ]
    },
    {
     "name": "stderr",
     "output_type": "stream",
     "text": [
      "/var/folders/7h/3y0jb5yx0g399b2y_qtq_db80000gn/T/ipykernel_26966/1257479974.py:14: FutureWarning: Pass y=[3.7321799e-06 9.4091265e-06 4.9421375e-05 ... 1.6815208e-04 1.8788430e-04\n",
      " 0.0000000e+00] as keyword args. From version 0.10 passing these as positional arguments will result in an error\n",
      "  mel=np.mean(librosa.feature.melspectrogram(data, sr=sample_rate).T,axis=0)\n",
      "/var/folders/7h/3y0jb5yx0g399b2y_qtq_db80000gn/T/ipykernel_26966/1257479974.py:14: FutureWarning: Pass y=[ 3.9478877e-05  2.0887821e-05 -1.6608417e-06 ... -3.3458440e-05\n",
      " -5.7147747e-05  0.0000000e+00] as keyword args. From version 0.10 passing these as positional arguments will result in an error\n",
      "  mel=np.mean(librosa.feature.melspectrogram(data, sr=sample_rate).T,axis=0)\n"
     ]
    },
    {
     "name": "stdout",
     "output_type": "stream",
     "text": [
      "318\n",
      "sad_male\n",
      "319\n",
      "sad_male\n"
     ]
    },
    {
     "name": "stderr",
     "output_type": "stream",
     "text": [
      "/var/folders/7h/3y0jb5yx0g399b2y_qtq_db80000gn/T/ipykernel_26966/1257479974.py:14: FutureWarning: Pass y=[-8.26839219e-09  1.20862325e-08 -1.65397065e-08 ... -3.62946162e-06\n",
      "  2.10118401e-06  0.00000000e+00] as keyword args. From version 0.10 passing these as positional arguments will result in an error\n",
      "  mel=np.mean(librosa.feature.melspectrogram(data, sr=sample_rate).T,axis=0)\n"
     ]
    },
    {
     "name": "stdout",
     "output_type": "stream",
     "text": [
      "320\n",
      "disgust_male\n"
     ]
    },
    {
     "name": "stderr",
     "output_type": "stream",
     "text": [
      "/var/folders/7h/3y0jb5yx0g399b2y_qtq_db80000gn/T/ipykernel_26966/1257479974.py:14: FutureWarning: Pass y=[ 6.7241868e-05  1.0211204e-04  9.5966141e-05 ... -7.2237053e-05\n",
      " -1.0729245e-04  0.0000000e+00] as keyword args. From version 0.10 passing these as positional arguments will result in an error\n",
      "  mel=np.mean(librosa.feature.melspectrogram(data, sr=sample_rate).T,axis=0)\n"
     ]
    },
    {
     "name": "stdout",
     "output_type": "stream",
     "text": [
      "321\n",
      "angry_male\n"
     ]
    },
    {
     "name": "stderr",
     "output_type": "stream",
     "text": [
      "/var/folders/7h/3y0jb5yx0g399b2y_qtq_db80000gn/T/ipykernel_26966/1257479974.py:14: FutureWarning: Pass y=[ 1.4911807e-08  9.5907794e-08 -2.3783917e-07 ... -9.2412774e-05\n",
      " -9.9600176e-05  0.0000000e+00] as keyword args. From version 0.10 passing these as positional arguments will result in an error\n",
      "  mel=np.mean(librosa.feature.melspectrogram(data, sr=sample_rate).T,axis=0)\n"
     ]
    },
    {
     "name": "stdout",
     "output_type": "stream",
     "text": [
      "322\n",
      "fearful_male\n"
     ]
    },
    {
     "name": "stderr",
     "output_type": "stream",
     "text": [
      "/var/folders/7h/3y0jb5yx0g399b2y_qtq_db80000gn/T/ipykernel_26966/1257479974.py:14: FutureWarning: Pass y=[-1.4577736e-05 -1.6091750e-05 -1.4170892e-05 ...  2.3863447e-04\n",
      "  1.9816025e-04  0.0000000e+00] as keyword args. From version 0.10 passing these as positional arguments will result in an error\n",
      "  mel=np.mean(librosa.feature.melspectrogram(data, sr=sample_rate).T,axis=0)\n"
     ]
    },
    {
     "name": "stdout",
     "output_type": "stream",
     "text": [
      "323\n",
      "fearful_male\n"
     ]
    },
    {
     "name": "stderr",
     "output_type": "stream",
     "text": [
      "/var/folders/7h/3y0jb5yx0g399b2y_qtq_db80000gn/T/ipykernel_26966/1257479974.py:14: FutureWarning: Pass y=[-5.8365720e-05 -8.8244080e-05 -6.6952794e-05 ... -7.4329047e-04\n",
      " -7.8078010e-04  0.0000000e+00] as keyword args. From version 0.10 passing these as positional arguments will result in an error\n",
      "  mel=np.mean(librosa.feature.melspectrogram(data, sr=sample_rate).T,axis=0)\n",
      "/var/folders/7h/3y0jb5yx0g399b2y_qtq_db80000gn/T/ipykernel_26966/1257479974.py:14: FutureWarning: Pass y=[-2.0494477e-03 -3.0917784e-03 -2.7385743e-03 ...  8.2217284e-06\n",
      "  1.1749920e-05  0.0000000e+00] as keyword args. From version 0.10 passing these as positional arguments will result in an error\n",
      "  mel=np.mean(librosa.feature.melspectrogram(data, sr=sample_rate).T,axis=0)\n"
     ]
    },
    {
     "name": "stdout",
     "output_type": "stream",
     "text": [
      "324\n",
      "angry_male\n",
      "325\n",
      "surprised_male\n"
     ]
    },
    {
     "name": "stderr",
     "output_type": "stream",
     "text": [
      "/var/folders/7h/3y0jb5yx0g399b2y_qtq_db80000gn/T/ipykernel_26966/1257479974.py:14: FutureWarning: Pass y=[-4.5510438e-05 -8.5607127e-05 -1.0682955e-04 ...  0.0000000e+00\n",
      "  0.0000000e+00  0.0000000e+00] as keyword args. From version 0.10 passing these as positional arguments will result in an error\n",
      "  mel=np.mean(librosa.feature.melspectrogram(data, sr=sample_rate).T,axis=0)\n",
      "/var/folders/7h/3y0jb5yx0g399b2y_qtq_db80000gn/T/ipykernel_26966/1257479974.py:14: FutureWarning: Pass y=[-1.8957913e-05 -2.1171028e-05 -2.7540160e-05 ... -1.1751786e-05\n",
      " -5.2865844e-06  0.0000000e+00] as keyword args. From version 0.10 passing these as positional arguments will result in an error\n",
      "  mel=np.mean(librosa.feature.melspectrogram(data, sr=sample_rate).T,axis=0)\n"
     ]
    },
    {
     "name": "stdout",
     "output_type": "stream",
     "text": [
      "326\n",
      "surprised_male\n",
      "327\n",
      "calm_male\n"
     ]
    },
    {
     "name": "stderr",
     "output_type": "stream",
     "text": [
      "/var/folders/7h/3y0jb5yx0g399b2y_qtq_db80000gn/T/ipykernel_26966/1257479974.py:14: FutureWarning: Pass y=[ 0.0000000e+00  0.0000000e+00  1.1895167e-12 ... -8.7433400e-05\n",
      " -9.0528258e-05  0.0000000e+00] as keyword args. From version 0.10 passing these as positional arguments will result in an error\n",
      "  mel=np.mean(librosa.feature.melspectrogram(data, sr=sample_rate).T,axis=0)\n",
      "/var/folders/7h/3y0jb5yx0g399b2y_qtq_db80000gn/T/ipykernel_26966/1257479974.py:14: FutureWarning: Pass y=[-1.3320067e-04 -1.9446411e-04 -1.6975352e-04 ... -5.5796423e-08\n",
      "  5.1866980e-08  0.0000000e+00] as keyword args. From version 0.10 passing these as positional arguments will result in an error\n",
      "  mel=np.mean(librosa.feature.melspectrogram(data, sr=sample_rate).T,axis=0)\n"
     ]
    },
    {
     "name": "stdout",
     "output_type": "stream",
     "text": [
      "328\n",
      "neutral_male\n",
      "329\n",
      "calm_male\n"
     ]
    },
    {
     "name": "stderr",
     "output_type": "stream",
     "text": [
      "/var/folders/7h/3y0jb5yx0g399b2y_qtq_db80000gn/T/ipykernel_26966/1257479974.py:14: FutureWarning: Pass y=[-1.4397016e-05  1.0945466e-06 -1.0144059e-05 ...  2.9723396e-05\n",
      "  3.2873333e-05  0.0000000e+00] as keyword args. From version 0.10 passing these as positional arguments will result in an error\n",
      "  mel=np.mean(librosa.feature.melspectrogram(data, sr=sample_rate).T,axis=0)\n",
      "/var/folders/7h/3y0jb5yx0g399b2y_qtq_db80000gn/T/ipykernel_26966/1257479974.py:14: FutureWarning: Pass y=[ 6.7846304e-07 -1.0050943e-06  1.4582944e-06 ...  3.1162337e-03\n",
      "  3.0468339e-03  0.0000000e+00] as keyword args. From version 0.10 passing these as positional arguments will result in an error\n",
      "  mel=np.mean(librosa.feature.melspectrogram(data, sr=sample_rate).T,axis=0)\n"
     ]
    },
    {
     "name": "stdout",
     "output_type": "stream",
     "text": [
      "330\n",
      "happy_male\n",
      "331\n",
      "happy_male\n"
     ]
    },
    {
     "name": "stderr",
     "output_type": "stream",
     "text": [
      "/var/folders/7h/3y0jb5yx0g399b2y_qtq_db80000gn/T/ipykernel_26966/1257479974.py:14: FutureWarning: Pass y=[ 0.00046572  0.00076514  0.00085678 ... -0.00319701 -0.00248107\n",
      "  0.        ] as keyword args. From version 0.10 passing these as positional arguments will result in an error\n",
      "  mel=np.mean(librosa.feature.melspectrogram(data, sr=sample_rate).T,axis=0)\n",
      "/var/folders/7h/3y0jb5yx0g399b2y_qtq_db80000gn/T/ipykernel_26966/1257479974.py:14: FutureWarning: Pass y=[-9.8347955e-11 -2.0233167e-10  6.5014749e-10 ...  3.2185399e-05\n",
      "  4.5757435e-05  0.0000000e+00] as keyword args. From version 0.10 passing these as positional arguments will result in an error\n",
      "  mel=np.mean(librosa.feature.melspectrogram(data, sr=sample_rate).T,axis=0)\n"
     ]
    },
    {
     "name": "stdout",
     "output_type": "stream",
     "text": [
      "332\n",
      "fearful_male\n",
      "333\n",
      "angry_male\n"
     ]
    },
    {
     "name": "stderr",
     "output_type": "stream",
     "text": [
      "/var/folders/7h/3y0jb5yx0g399b2y_qtq_db80000gn/T/ipykernel_26966/1257479974.py:14: FutureWarning: Pass y=[-7.2308590e-05 -1.3369766e-04 -8.7799715e-05 ...  3.6648192e-04\n",
      "  3.8291156e-04  0.0000000e+00] as keyword args. From version 0.10 passing these as positional arguments will result in an error\n",
      "  mel=np.mean(librosa.feature.melspectrogram(data, sr=sample_rate).T,axis=0)\n"
     ]
    },
    {
     "name": "stdout",
     "output_type": "stream",
     "text": [
      "334\n",
      "angry_male\n"
     ]
    },
    {
     "name": "stderr",
     "output_type": "stream",
     "text": [
      "/var/folders/7h/3y0jb5yx0g399b2y_qtq_db80000gn/T/ipykernel_26966/1257479974.py:14: FutureWarning: Pass y=[-5.0678478e-05 -5.0084251e-05 -5.9365866e-05 ... -6.6484731e-08\n",
      "  5.4575771e-08  0.0000000e+00] as keyword args. From version 0.10 passing these as positional arguments will result in an error\n",
      "  mel=np.mean(librosa.feature.melspectrogram(data, sr=sample_rate).T,axis=0)\n",
      "/var/folders/7h/3y0jb5yx0g399b2y_qtq_db80000gn/T/ipykernel_26966/1257479974.py:14: FutureWarning: Pass y=[ 1.2635393e-05  1.7615585e-05 -7.0721103e-06 ... -6.3765328e-05\n",
      " -7.8034798e-05  0.0000000e+00] as keyword args. From version 0.10 passing these as positional arguments will result in an error\n",
      "  mel=np.mean(librosa.feature.melspectrogram(data, sr=sample_rate).T,axis=0)\n"
     ]
    },
    {
     "name": "stdout",
     "output_type": "stream",
     "text": [
      "335\n",
      "fearful_male\n",
      "336\n",
      "sad_male\n"
     ]
    },
    {
     "name": "stderr",
     "output_type": "stream",
     "text": [
      "/var/folders/7h/3y0jb5yx0g399b2y_qtq_db80000gn/T/ipykernel_26966/1257479974.py:14: FutureWarning: Pass y=[ 8.5872991e-05  1.4213161e-04  1.2306556e-04 ... -1.9948038e-05\n",
      " -2.6782731e-05  0.0000000e+00] as keyword args. From version 0.10 passing these as positional arguments will result in an error\n",
      "  mel=np.mean(librosa.feature.melspectrogram(data, sr=sample_rate).T,axis=0)\n"
     ]
    },
    {
     "name": "stdout",
     "output_type": "stream",
     "text": [
      "337\n",
      "disgust_male\n"
     ]
    },
    {
     "name": "stderr",
     "output_type": "stream",
     "text": [
      "/var/folders/7h/3y0jb5yx0g399b2y_qtq_db80000gn/T/ipykernel_26966/1257479974.py:14: FutureWarning: Pass y=[ 3.4711323e-07 -5.6846733e-07  8.6343857e-07 ... -7.1192369e-07\n",
      "  6.1385521e-07  0.0000000e+00] as keyword args. From version 0.10 passing these as positional arguments will result in an error\n",
      "  mel=np.mean(librosa.feature.melspectrogram(data, sr=sample_rate).T,axis=0)\n"
     ]
    },
    {
     "name": "stdout",
     "output_type": "stream",
     "text": [
      "338\n",
      "disgust_male\n"
     ]
    },
    {
     "name": "stderr",
     "output_type": "stream",
     "text": [
      "/var/folders/7h/3y0jb5yx0g399b2y_qtq_db80000gn/T/ipykernel_26966/1257479974.py:14: FutureWarning: Pass y=[-2.3102290e-05 -2.2669916e-05  2.4835879e-06 ...  7.0532114e-04\n",
      "  1.1964062e-04  0.0000000e+00] as keyword args. From version 0.10 passing these as positional arguments will result in an error\n",
      "  mel=np.mean(librosa.feature.melspectrogram(data, sr=sample_rate).T,axis=0)\n"
     ]
    },
    {
     "name": "stdout",
     "output_type": "stream",
     "text": [
      "339\n",
      "sad_male\n"
     ]
    },
    {
     "name": "stderr",
     "output_type": "stream",
     "text": [
      "/var/folders/7h/3y0jb5yx0g399b2y_qtq_db80000gn/T/ipykernel_26966/1257479974.py:14: FutureWarning: Pass y=[-1.9015033e-06 -1.3579007e-05  1.2308036e-06 ... -1.1992852e-03\n",
      " -1.3687344e-03  0.0000000e+00] as keyword args. From version 0.10 passing these as positional arguments will result in an error\n",
      "  mel=np.mean(librosa.feature.melspectrogram(data, sr=sample_rate).T,axis=0)\n"
     ]
    },
    {
     "name": "stdout",
     "output_type": "stream",
     "text": [
      "340\n",
      "surprised_male\n"
     ]
    },
    {
     "name": "stderr",
     "output_type": "stream",
     "text": [
      "/var/folders/7h/3y0jb5yx0g399b2y_qtq_db80000gn/T/ipykernel_26966/1257479974.py:14: FutureWarning: Pass y=[4.2140553e-05 5.1342286e-05 1.7509485e-05 ... 8.1200567e-05 7.8318400e-05\n",
      " 0.0000000e+00] as keyword args. From version 0.10 passing these as positional arguments will result in an error\n",
      "  mel=np.mean(librosa.feature.melspectrogram(data, sr=sample_rate).T,axis=0)\n",
      "/var/folders/7h/3y0jb5yx0g399b2y_qtq_db80000gn/T/ipykernel_26966/1257479974.py:14: FutureWarning: Pass y=[8.8738721e-05 1.4765958e-04 1.2898621e-04 ... 2.8084065e-05 4.0823238e-06\n",
      " 0.0000000e+00] as keyword args. From version 0.10 passing these as positional arguments will result in an error\n",
      "  mel=np.mean(librosa.feature.melspectrogram(data, sr=sample_rate).T,axis=0)\n"
     ]
    },
    {
     "name": "stdout",
     "output_type": "stream",
     "text": [
      "341\n",
      "surprised_male\n",
      "342\n",
      "happy_male\n"
     ]
    },
    {
     "name": "stderr",
     "output_type": "stream",
     "text": [
      "/var/folders/7h/3y0jb5yx0g399b2y_qtq_db80000gn/T/ipykernel_26966/1257479974.py:14: FutureWarning: Pass y=[-5.7819570e-06 -3.4469027e-05 -3.4554967e-05 ...  1.2605425e-06\n",
      " -1.1777369e-06  0.0000000e+00] as keyword args. From version 0.10 passing these as positional arguments will result in an error\n",
      "  mel=np.mean(librosa.feature.melspectrogram(data, sr=sample_rate).T,axis=0)\n",
      "/var/folders/7h/3y0jb5yx0g399b2y_qtq_db80000gn/T/ipykernel_26966/1257479974.py:14: FutureWarning: Pass y=[2.7462080e-05 5.3597490e-05 3.0222767e-05 ... 6.3726562e-05 8.0626378e-05\n",
      " 0.0000000e+00] as keyword args. From version 0.10 passing these as positional arguments will result in an error\n",
      "  mel=np.mean(librosa.feature.melspectrogram(data, sr=sample_rate).T,axis=0)\n"
     ]
    },
    {
     "name": "stdout",
     "output_type": "stream",
     "text": [
      "343\n",
      "happy_male\n",
      "344\n",
      "calm_male\n"
     ]
    },
    {
     "name": "stderr",
     "output_type": "stream",
     "text": [
      "/var/folders/7h/3y0jb5yx0g399b2y_qtq_db80000gn/T/ipykernel_26966/1257479974.py:14: FutureWarning: Pass y=[-2.9633116e-05 -4.4662094e-05 -3.7893678e-05 ... -2.2719178e-04\n",
      " -2.5730970e-04  0.0000000e+00] as keyword args. From version 0.10 passing these as positional arguments will result in an error\n",
      "  mel=np.mean(librosa.feature.melspectrogram(data, sr=sample_rate).T,axis=0)\n",
      "/var/folders/7h/3y0jb5yx0g399b2y_qtq_db80000gn/T/ipykernel_26966/1257479974.py:14: FutureWarning: Pass y=[-3.1046547e-08 -2.9543763e-08  1.0154343e-07 ...  9.0862384e-05\n",
      "  8.5803404e-05  0.0000000e+00] as keyword args. From version 0.10 passing these as positional arguments will result in an error\n",
      "  mel=np.mean(librosa.feature.melspectrogram(data, sr=sample_rate).T,axis=0)\n"
     ]
    },
    {
     "name": "stdout",
     "output_type": "stream",
     "text": [
      "345\n",
      "calm_male\n",
      "346\n",
      "neutral_male\n",
      "347\n",
      "happy_male\n"
     ]
    },
    {
     "name": "stderr",
     "output_type": "stream",
     "text": [
      "/var/folders/7h/3y0jb5yx0g399b2y_qtq_db80000gn/T/ipykernel_26966/1257479974.py:14: FutureWarning: Pass y=[ 3.5354640e-07 -4.5151074e-07  5.5683319e-07 ... -6.4144639e-05\n",
      " -5.2068364e-05  0.0000000e+00] as keyword args. From version 0.10 passing these as positional arguments will result in an error\n",
      "  mel=np.mean(librosa.feature.melspectrogram(data, sr=sample_rate).T,axis=0)\n",
      "/var/folders/7h/3y0jb5yx0g399b2y_qtq_db80000gn/T/ipykernel_26966/1257479974.py:14: FutureWarning: Pass y=[-8.4423518e-05 -1.3755064e-04 -1.2536581e-04 ...  3.7211939e-05\n",
      "  6.5009452e-05  0.0000000e+00] as keyword args. From version 0.10 passing these as positional arguments will result in an error\n",
      "  mel=np.mean(librosa.feature.melspectrogram(data, sr=sample_rate).T,axis=0)\n",
      "/var/folders/7h/3y0jb5yx0g399b2y_qtq_db80000gn/T/ipykernel_26966/1257479974.py:14: FutureWarning: Pass y=[-1.7756694e-06  2.4363468e-05  1.4074289e-05 ... -1.2874823e-07\n",
      " -8.1001929e-08  0.0000000e+00] as keyword args. From version 0.10 passing these as positional arguments will result in an error\n",
      "  mel=np.mean(librosa.feature.melspectrogram(data, sr=sample_rate).T,axis=0)\n"
     ]
    },
    {
     "name": "stdout",
     "output_type": "stream",
     "text": [
      "348\n",
      "happy_male\n",
      "349\n",
      "calm_male\n"
     ]
    },
    {
     "name": "stderr",
     "output_type": "stream",
     "text": [
      "/var/folders/7h/3y0jb5yx0g399b2y_qtq_db80000gn/T/ipykernel_26966/1257479974.py:14: FutureWarning: Pass y=[-4.6646566e-08  4.4354984e-08 -3.8619856e-08 ... -2.3251495e-04\n",
      " -2.1617305e-04  0.0000000e+00] as keyword args. From version 0.10 passing these as positional arguments will result in an error\n",
      "  mel=np.mean(librosa.feature.melspectrogram(data, sr=sample_rate).T,axis=0)\n",
      "/var/folders/7h/3y0jb5yx0g399b2y_qtq_db80000gn/T/ipykernel_26966/1257479974.py:14: FutureWarning: Pass y=[ 8.9371912e-05  1.4333853e-04  1.0843629e-04 ... -4.0740651e-05\n",
      " -3.7797032e-05  0.0000000e+00] as keyword args. From version 0.10 passing these as positional arguments will result in an error\n",
      "  mel=np.mean(librosa.feature.melspectrogram(data, sr=sample_rate).T,axis=0)\n"
     ]
    },
    {
     "name": "stdout",
     "output_type": "stream",
     "text": [
      "350\n",
      "neutral_male\n",
      "351\n",
      "calm_male\n"
     ]
    },
    {
     "name": "stderr",
     "output_type": "stream",
     "text": [
      "/var/folders/7h/3y0jb5yx0g399b2y_qtq_db80000gn/T/ipykernel_26966/1257479974.py:14: FutureWarning: Pass y=[ 0.          0.          0.         ... -0.00013815 -0.00013861\n",
      "  0.        ] as keyword args. From version 0.10 passing these as positional arguments will result in an error\n",
      "  mel=np.mean(librosa.feature.melspectrogram(data, sr=sample_rate).T,axis=0)\n",
      "/var/folders/7h/3y0jb5yx0g399b2y_qtq_db80000gn/T/ipykernel_26966/1257479974.py:14: FutureWarning: Pass y=[-1.1343886e-07  1.5133585e-07 -1.9242874e-07 ...  3.4247371e-06\n",
      " -9.4773359e-06  0.0000000e+00] as keyword args. From version 0.10 passing these as positional arguments will result in an error\n",
      "  mel=np.mean(librosa.feature.melspectrogram(data, sr=sample_rate).T,axis=0)\n"
     ]
    },
    {
     "name": "stdout",
     "output_type": "stream",
     "text": [
      "352\n",
      "angry_male\n",
      "353\n",
      "fearful_male\n"
     ]
    },
    {
     "name": "stderr",
     "output_type": "stream",
     "text": [
      "/var/folders/7h/3y0jb5yx0g399b2y_qtq_db80000gn/T/ipykernel_26966/1257479974.py:14: FutureWarning: Pass y=[ 9.9800616e-07 -1.2637061e-06  1.5617330e-06 ...  2.4013349e-04\n",
      "  2.6139984e-04  0.0000000e+00] as keyword args. From version 0.10 passing these as positional arguments will result in an error\n",
      "  mel=np.mean(librosa.feature.melspectrogram(data, sr=sample_rate).T,axis=0)\n"
     ]
    },
    {
     "name": "stdout",
     "output_type": "stream",
     "text": [
      "354\n",
      "fearful_male\n"
     ]
    },
    {
     "name": "stderr",
     "output_type": "stream",
     "text": [
      "/var/folders/7h/3y0jb5yx0g399b2y_qtq_db80000gn/T/ipykernel_26966/1257479974.py:14: FutureWarning: Pass y=[4.0647628e-05 3.5057805e-05 2.3497121e-05 ... 1.0109963e-04 1.3511151e-04\n",
      " 0.0000000e+00] as keyword args. From version 0.10 passing these as positional arguments will result in an error\n",
      "  mel=np.mean(librosa.feature.melspectrogram(data, sr=sample_rate).T,axis=0)\n"
     ]
    },
    {
     "name": "stdout",
     "output_type": "stream",
     "text": [
      "355\n",
      "angry_male\n"
     ]
    },
    {
     "name": "stderr",
     "output_type": "stream",
     "text": [
      "/var/folders/7h/3y0jb5yx0g399b2y_qtq_db80000gn/T/ipykernel_26966/1257479974.py:14: FutureWarning: Pass y=[1.9364197e-05 4.4014767e-05 2.7785016e-05 ... 0.0000000e+00 0.0000000e+00\n",
      " 0.0000000e+00] as keyword args. From version 0.10 passing these as positional arguments will result in an error\n",
      "  mel=np.mean(librosa.feature.melspectrogram(data, sr=sample_rate).T,axis=0)\n"
     ]
    },
    {
     "name": "stdout",
     "output_type": "stream",
     "text": [
      "356\n",
      "disgust_male\n"
     ]
    },
    {
     "name": "stderr",
     "output_type": "stream",
     "text": [
      "/var/folders/7h/3y0jb5yx0g399b2y_qtq_db80000gn/T/ipykernel_26966/1257479974.py:14: FutureWarning: Pass y=[ 1.7921633e-07 -1.2592719e-07  4.8399109e-08 ...  1.6071532e-04\n",
      "  1.8291431e-04  0.0000000e+00] as keyword args. From version 0.10 passing these as positional arguments will result in an error\n",
      "  mel=np.mean(librosa.feature.melspectrogram(data, sr=sample_rate).T,axis=0)\n"
     ]
    },
    {
     "name": "stdout",
     "output_type": "stream",
     "text": [
      "357\n",
      "sad_male\n"
     ]
    },
    {
     "name": "stderr",
     "output_type": "stream",
     "text": [
      "/var/folders/7h/3y0jb5yx0g399b2y_qtq_db80000gn/T/ipykernel_26966/1257479974.py:14: FutureWarning: Pass y=[2.2582019e-05 5.4481989e-05 6.6380569e-05 ... 4.4649438e-05 3.1101139e-05\n",
      " 0.0000000e+00] as keyword args. From version 0.10 passing these as positional arguments will result in an error\n",
      "  mel=np.mean(librosa.feature.melspectrogram(data, sr=sample_rate).T,axis=0)\n"
     ]
    },
    {
     "name": "stdout",
     "output_type": "stream",
     "text": [
      "358\n",
      "sad_male\n"
     ]
    },
    {
     "name": "stderr",
     "output_type": "stream",
     "text": [
      "/var/folders/7h/3y0jb5yx0g399b2y_qtq_db80000gn/T/ipykernel_26966/1257479974.py:14: FutureWarning: Pass y=[-0.00037764 -0.00043079 -0.00030605 ... -0.0002061  -0.00023285\n",
      "  0.        ] as keyword args. From version 0.10 passing these as positional arguments will result in an error\n",
      "  mel=np.mean(librosa.feature.melspectrogram(data, sr=sample_rate).T,axis=0)\n"
     ]
    },
    {
     "name": "stdout",
     "output_type": "stream",
     "text": [
      "359\n",
      "disgust_male\n"
     ]
    },
    {
     "name": "stderr",
     "output_type": "stream",
     "text": [
      "/var/folders/7h/3y0jb5yx0g399b2y_qtq_db80000gn/T/ipykernel_26966/1257479974.py:14: FutureWarning: Pass y=[-1.0730016e-05 -2.8991521e-05 -1.6713213e-05 ... -8.6932466e-04\n",
      " -8.3115464e-04  0.0000000e+00] as keyword args. From version 0.10 passing these as positional arguments will result in an error\n",
      "  mel=np.mean(librosa.feature.melspectrogram(data, sr=sample_rate).T,axis=0)\n",
      "/var/folders/7h/3y0jb5yx0g399b2y_qtq_db80000gn/T/ipykernel_26966/1257479974.py:14: FutureWarning: Pass y=[ 2.5431896e-07 -4.3599161e-07  1.1756364e-06 ... -2.6327252e-04\n",
      " -2.7666471e-04  0.0000000e+00] as keyword args. From version 0.10 passing these as positional arguments will result in an error\n",
      "  mel=np.mean(librosa.feature.melspectrogram(data, sr=sample_rate).T,axis=0)\n"
     ]
    },
    {
     "name": "stdout",
     "output_type": "stream",
     "text": [
      "360\n",
      "surprised_male\n",
      "361\n",
      "surprised_male\n"
     ]
    },
    {
     "name": "stderr",
     "output_type": "stream",
     "text": [
      "/var/folders/7h/3y0jb5yx0g399b2y_qtq_db80000gn/T/ipykernel_26966/1257479974.py:14: FutureWarning: Pass y=[ 1.31881825e-05  1.77687270e-05  1.00401039e-05 ... -2.14505235e-05\n",
      " -6.07082911e-05  0.00000000e+00] as keyword args. From version 0.10 passing these as positional arguments will result in an error\n",
      "  mel=np.mean(librosa.feature.melspectrogram(data, sr=sample_rate).T,axis=0)\n"
     ]
    },
    {
     "name": "stdout",
     "output_type": "stream",
     "text": [
      "362\n",
      "happy_female\n"
     ]
    },
    {
     "name": "stderr",
     "output_type": "stream",
     "text": [
      "/var/folders/7h/3y0jb5yx0g399b2y_qtq_db80000gn/T/ipykernel_26966/1257479974.py:14: FutureWarning: Pass y=[-9.4709121e-06 -3.0865682e-05 -6.7167280e-06 ...  1.5287047e-05\n",
      "  1.8962566e-05  0.0000000e+00] as keyword args. From version 0.10 passing these as positional arguments will result in an error\n",
      "  mel=np.mean(librosa.feature.melspectrogram(data, sr=sample_rate).T,axis=0)\n",
      "/var/folders/7h/3y0jb5yx0g399b2y_qtq_db80000gn/T/ipykernel_26966/1257479974.py:14: FutureWarning: Pass y=[ 1.8911045e-05  1.4877349e-05  5.3789208e-06 ... -5.6259516e-05\n",
      " -7.7557670e-05  0.0000000e+00] as keyword args. From version 0.10 passing these as positional arguments will result in an error\n",
      "  mel=np.mean(librosa.feature.melspectrogram(data, sr=sample_rate).T,axis=0)\n"
     ]
    },
    {
     "name": "stdout",
     "output_type": "stream",
     "text": [
      "363\n",
      "happy_female\n",
      "364\n",
      "calm_female\n"
     ]
    },
    {
     "name": "stderr",
     "output_type": "stream",
     "text": [
      "/var/folders/7h/3y0jb5yx0g399b2y_qtq_db80000gn/T/ipykernel_26966/1257479974.py:14: FutureWarning: Pass y=[-6.3325955e-05 -1.0352853e-04 -7.0117028e-05 ...  4.3036380e-05\n",
      "  2.1670461e-05  0.0000000e+00] as keyword args. From version 0.10 passing these as positional arguments will result in an error\n",
      "  mel=np.mean(librosa.feature.melspectrogram(data, sr=sample_rate).T,axis=0)\n",
      "/var/folders/7h/3y0jb5yx0g399b2y_qtq_db80000gn/T/ipykernel_26966/1257479974.py:14: FutureWarning: Pass y=[ 1.7614212e-04  1.0753745e-04 -1.4823345e-04 ...  1.2345881e-04\n",
      "  8.6972774e-05  0.0000000e+00] as keyword args. From version 0.10 passing these as positional arguments will result in an error\n",
      "  mel=np.mean(librosa.feature.melspectrogram(data, sr=sample_rate).T,axis=0)\n"
     ]
    },
    {
     "name": "stdout",
     "output_type": "stream",
     "text": [
      "365\n",
      "calm_female\n",
      "366\n",
      "neutral_female\n"
     ]
    },
    {
     "name": "stderr",
     "output_type": "stream",
     "text": [
      "/var/folders/7h/3y0jb5yx0g399b2y_qtq_db80000gn/T/ipykernel_26966/1257479974.py:14: FutureWarning: Pass y=[ 6.92146932e-05  1.09586406e-04  9.18117803e-05 ... -8.54606697e-06\n",
      " -2.03084073e-05  0.00000000e+00] as keyword args. From version 0.10 passing these as positional arguments will result in an error\n",
      "  mel=np.mean(librosa.feature.melspectrogram(data, sr=sample_rate).T,axis=0)\n",
      "/var/folders/7h/3y0jb5yx0g399b2y_qtq_db80000gn/T/ipykernel_26966/1257479974.py:14: FutureWarning: Pass y=[-5.3067142e-06 -6.0848150e-05 -4.6113277e-05 ...  1.1025103e-05\n",
      "  4.4084805e-05  0.0000000e+00] as keyword args. From version 0.10 passing these as positional arguments will result in an error\n",
      "  mel=np.mean(librosa.feature.melspectrogram(data, sr=sample_rate).T,axis=0)\n"
     ]
    },
    {
     "name": "stdout",
     "output_type": "stream",
     "text": [
      "367\n",
      "fearful_female\n",
      "368\n",
      "angry_female\n"
     ]
    },
    {
     "name": "stderr",
     "output_type": "stream",
     "text": [
      "/var/folders/7h/3y0jb5yx0g399b2y_qtq_db80000gn/T/ipykernel_26966/1257479974.py:14: FutureWarning: Pass y=[ 1.5955163e-06 -2.4720872e-05 -5.7790578e-05 ...  2.8056835e-05\n",
      "  3.3733628e-05  0.0000000e+00] as keyword args. From version 0.10 passing these as positional arguments will result in an error\n",
      "  mel=np.mean(librosa.feature.melspectrogram(data, sr=sample_rate).T,axis=0)\n"
     ]
    },
    {
     "name": "stdout",
     "output_type": "stream",
     "text": [
      "369\n",
      "angry_female\n"
     ]
    },
    {
     "name": "stderr",
     "output_type": "stream",
     "text": [
      "/var/folders/7h/3y0jb5yx0g399b2y_qtq_db80000gn/T/ipykernel_26966/1257479974.py:14: FutureWarning: Pass y=[-3.5240100e-05  1.1039394e-04  1.6888276e-04 ...  9.4434454e-06\n",
      " -3.4023840e-06  0.0000000e+00] as keyword args. From version 0.10 passing these as positional arguments will result in an error\n",
      "  mel=np.mean(librosa.feature.melspectrogram(data, sr=sample_rate).T,axis=0)\n",
      "/var/folders/7h/3y0jb5yx0g399b2y_qtq_db80000gn/T/ipykernel_26966/1257479974.py:14: FutureWarning: Pass y=[ 2.0711303e-05  1.8588744e-05  3.1587329e-05 ... -6.3895477e-06\n",
      "  3.6964489e-06  0.0000000e+00] as keyword args. From version 0.10 passing these as positional arguments will result in an error\n",
      "  mel=np.mean(librosa.feature.melspectrogram(data, sr=sample_rate).T,axis=0)\n"
     ]
    },
    {
     "name": "stdout",
     "output_type": "stream",
     "text": [
      "370\n",
      "fearful_female\n",
      "371\n",
      "sad_female\n",
      "372\n",
      "disgust_female\n"
     ]
    },
    {
     "name": "stderr",
     "output_type": "stream",
     "text": [
      "/var/folders/7h/3y0jb5yx0g399b2y_qtq_db80000gn/T/ipykernel_26966/1257479974.py:14: FutureWarning: Pass y=[ 1.1452957e-03  8.3272962e-04  8.0774288e-04 ... -3.9377188e-05\n",
      " -4.4178785e-05  0.0000000e+00] as keyword args. From version 0.10 passing these as positional arguments will result in an error\n",
      "  mel=np.mean(librosa.feature.melspectrogram(data, sr=sample_rate).T,axis=0)\n",
      "/var/folders/7h/3y0jb5yx0g399b2y_qtq_db80000gn/T/ipykernel_26966/1257479974.py:14: FutureWarning: Pass y=[4.7990026e-05 6.0103714e-05 6.8448870e-05 ... 5.9437229e-05 5.1177460e-05\n",
      " 0.0000000e+00] as keyword args. From version 0.10 passing these as positional arguments will result in an error\n",
      "  mel=np.mean(librosa.feature.melspectrogram(data, sr=sample_rate).T,axis=0)\n"
     ]
    },
    {
     "name": "stdout",
     "output_type": "stream",
     "text": [
      "373\n",
      "disgust_female\n"
     ]
    },
    {
     "name": "stderr",
     "output_type": "stream",
     "text": [
      "/var/folders/7h/3y0jb5yx0g399b2y_qtq_db80000gn/T/ipykernel_26966/1257479974.py:14: FutureWarning: Pass y=[ 1.3327051e-05 -1.5031094e-05  4.5022134e-06 ... -1.3874842e-06\n",
      "  3.4020446e-05  0.0000000e+00] as keyword args. From version 0.10 passing these as positional arguments will result in an error\n",
      "  mel=np.mean(librosa.feature.melspectrogram(data, sr=sample_rate).T,axis=0)\n",
      "/var/folders/7h/3y0jb5yx0g399b2y_qtq_db80000gn/T/ipykernel_26966/1257479974.py:14: FutureWarning: Pass y=[ 2.4322701e-04  3.2549648e-04 -6.1700288e-05 ...  2.1955036e-07\n",
      "  1.0907423e-05  0.0000000e+00] as keyword args. From version 0.10 passing these as positional arguments will result in an error\n",
      "  mel=np.mean(librosa.feature.melspectrogram(data, sr=sample_rate).T,axis=0)\n"
     ]
    },
    {
     "name": "stdout",
     "output_type": "stream",
     "text": [
      "374\n",
      "sad_female\n",
      "375\n",
      "surprised_female\n"
     ]
    },
    {
     "name": "stderr",
     "output_type": "stream",
     "text": [
      "/var/folders/7h/3y0jb5yx0g399b2y_qtq_db80000gn/T/ipykernel_26966/1257479974.py:14: FutureWarning: Pass y=[8.4957910e-06 3.1986354e-05 4.3387095e-06 ... 1.5854501e-05 3.4168123e-05\n",
      " 0.0000000e+00] as keyword args. From version 0.10 passing these as positional arguments will result in an error\n",
      "  mel=np.mean(librosa.feature.melspectrogram(data, sr=sample_rate).T,axis=0)\n",
      "/var/folders/7h/3y0jb5yx0g399b2y_qtq_db80000gn/T/ipykernel_26966/1257479974.py:14: FutureWarning: Pass y=[ 2.3597473e-05  3.0148161e-05  1.5434660e-05 ... -6.0039115e-06\n",
      " -4.8149909e-06  0.0000000e+00] as keyword args. From version 0.10 passing these as positional arguments will result in an error\n",
      "  mel=np.mean(librosa.feature.melspectrogram(data, sr=sample_rate).T,axis=0)\n"
     ]
    },
    {
     "name": "stdout",
     "output_type": "stream",
     "text": [
      "376\n",
      "surprised_female\n",
      "377\n",
      "angry_female\n"
     ]
    },
    {
     "name": "stderr",
     "output_type": "stream",
     "text": [
      "/var/folders/7h/3y0jb5yx0g399b2y_qtq_db80000gn/T/ipykernel_26966/1257479974.py:14: FutureWarning: Pass y=[-3.77176912e-05 -1.10931855e-04  2.90319556e-04 ...  2.24706928e-05\n",
      " -3.84291661e-06  0.00000000e+00] as keyword args. From version 0.10 passing these as positional arguments will result in an error\n",
      "  mel=np.mean(librosa.feature.melspectrogram(data, sr=sample_rate).T,axis=0)\n",
      "/var/folders/7h/3y0jb5yx0g399b2y_qtq_db80000gn/T/ipykernel_26966/1257479974.py:14: FutureWarning: Pass y=[ 6.24134482e-05  1.43966245e-04  1.19052886e-04 ... -1.05375120e-05\n",
      " -2.77596905e-06  0.00000000e+00] as keyword args. From version 0.10 passing these as positional arguments will result in an error\n",
      "  mel=np.mean(librosa.feature.melspectrogram(data, sr=sample_rate).T,axis=0)\n"
     ]
    },
    {
     "name": "stdout",
     "output_type": "stream",
     "text": [
      "378\n",
      "fearful_female\n",
      "379\n",
      "fearful_female\n"
     ]
    },
    {
     "name": "stderr",
     "output_type": "stream",
     "text": [
      "/var/folders/7h/3y0jb5yx0g399b2y_qtq_db80000gn/T/ipykernel_26966/1257479974.py:14: FutureWarning: Pass y=[-2.3341581e-06  1.0193714e-05  7.4638160e-06 ... -3.2346641e-06\n",
      " -1.3106303e-05  0.0000000e+00] as keyword args. From version 0.10 passing these as positional arguments will result in an error\n",
      "  mel=np.mean(librosa.feature.melspectrogram(data, sr=sample_rate).T,axis=0)\n"
     ]
    },
    {
     "name": "stdout",
     "output_type": "stream",
     "text": [
      "380\n",
      "angry_female\n"
     ]
    },
    {
     "name": "stderr",
     "output_type": "stream",
     "text": [
      "/var/folders/7h/3y0jb5yx0g399b2y_qtq_db80000gn/T/ipykernel_26966/1257479974.py:14: FutureWarning: Pass y=[-9.2072267e-05  1.5834007e-06  8.3863168e-05 ...  6.5054119e-05\n",
      " -3.4353732e-05  0.0000000e+00] as keyword args. From version 0.10 passing these as positional arguments will result in an error\n",
      "  mel=np.mean(librosa.feature.melspectrogram(data, sr=sample_rate).T,axis=0)\n"
     ]
    },
    {
     "name": "stdout",
     "output_type": "stream",
     "text": [
      "381\n",
      "disgust_female\n"
     ]
    },
    {
     "name": "stderr",
     "output_type": "stream",
     "text": [
      "/var/folders/7h/3y0jb5yx0g399b2y_qtq_db80000gn/T/ipykernel_26966/1257479974.py:14: FutureWarning: Pass y=[ 2.7989114e-05  5.3485037e-05  7.5708427e-05 ... -3.2947548e-05\n",
      "  1.7485701e-05  0.0000000e+00] as keyword args. From version 0.10 passing these as positional arguments will result in an error\n",
      "  mel=np.mean(librosa.feature.melspectrogram(data, sr=sample_rate).T,axis=0)\n",
      "/var/folders/7h/3y0jb5yx0g399b2y_qtq_db80000gn/T/ipykernel_26966/1257479974.py:14: FutureWarning: Pass y=[-5.0413611e-05 -6.2961772e-05 -7.2626397e-05 ...  3.2278269e-05\n",
      "  1.9935156e-05  0.0000000e+00] as keyword args. From version 0.10 passing these as positional arguments will result in an error\n",
      "  mel=np.mean(librosa.feature.melspectrogram(data, sr=sample_rate).T,axis=0)\n"
     ]
    },
    {
     "name": "stdout",
     "output_type": "stream",
     "text": [
      "382\n",
      "sad_female\n",
      "383\n",
      "sad_female\n",
      "384\n",
      "disgust_female\n"
     ]
    },
    {
     "name": "stderr",
     "output_type": "stream",
     "text": [
      "/var/folders/7h/3y0jb5yx0g399b2y_qtq_db80000gn/T/ipykernel_26966/1257479974.py:14: FutureWarning: Pass y=[ 1.0435515e-05 -2.4206891e-05 -9.0864727e-05 ...  2.2447737e-05\n",
      "  9.9200097e-06  0.0000000e+00] as keyword args. From version 0.10 passing these as positional arguments will result in an error\n",
      "  mel=np.mean(librosa.feature.melspectrogram(data, sr=sample_rate).T,axis=0)\n",
      "/var/folders/7h/3y0jb5yx0g399b2y_qtq_db80000gn/T/ipykernel_26966/1257479974.py:14: FutureWarning: Pass y=[-3.0166329e-05 -7.1153254e-06  5.5835168e-05 ...  5.1621336e-04\n",
      "  3.9456954e-04  0.0000000e+00] as keyword args. From version 0.10 passing these as positional arguments will result in an error\n",
      "  mel=np.mean(librosa.feature.melspectrogram(data, sr=sample_rate).T,axis=0)\n",
      "/var/folders/7h/3y0jb5yx0g399b2y_qtq_db80000gn/T/ipykernel_26966/1257479974.py:14: FutureWarning: Pass y=[ 1.2280283e-05  9.4533584e-07 -1.8790597e-05 ... -5.4678287e-07\n",
      " -8.8045208e-06  0.0000000e+00] as keyword args. From version 0.10 passing these as positional arguments will result in an error\n",
      "  mel=np.mean(librosa.feature.melspectrogram(data, sr=sample_rate).T,axis=0)\n"
     ]
    },
    {
     "name": "stdout",
     "output_type": "stream",
     "text": [
      "385\n",
      "surprised_female\n",
      "386\n",
      "surprised_female\n"
     ]
    },
    {
     "name": "stderr",
     "output_type": "stream",
     "text": [
      "/var/folders/7h/3y0jb5yx0g399b2y_qtq_db80000gn/T/ipykernel_26966/1257479974.py:14: FutureWarning: Pass y=[ 2.4209307e-06 -1.4764075e-06 -7.3753063e-06 ...  2.2217668e-05\n",
      " -2.7905296e-06  0.0000000e+00] as keyword args. From version 0.10 passing these as positional arguments will result in an error\n",
      "  mel=np.mean(librosa.feature.melspectrogram(data, sr=sample_rate).T,axis=0)\n"
     ]
    },
    {
     "name": "stdout",
     "output_type": "stream",
     "text": [
      "387\n",
      "happy_female\n"
     ]
    },
    {
     "name": "stderr",
     "output_type": "stream",
     "text": [
      "/var/folders/7h/3y0jb5yx0g399b2y_qtq_db80000gn/T/ipykernel_26966/1257479974.py:14: FutureWarning: Pass y=[-2.0735613e-04  1.2423948e-05  2.2733471e-04 ...  1.1484032e-04\n",
      "  1.1901050e-04  0.0000000e+00] as keyword args. From version 0.10 passing these as positional arguments will result in an error\n",
      "  mel=np.mean(librosa.feature.melspectrogram(data, sr=sample_rate).T,axis=0)\n",
      "/var/folders/7h/3y0jb5yx0g399b2y_qtq_db80000gn/T/ipykernel_26966/1257479974.py:14: FutureWarning: Pass y=[ 9.087542e-06  8.063508e-06  5.036315e-06 ... -9.180603e-05 -4.719379e-05\n",
      "  0.000000e+00] as keyword args. From version 0.10 passing these as positional arguments will result in an error\n",
      "  mel=np.mean(librosa.feature.melspectrogram(data, sr=sample_rate).T,axis=0)\n"
     ]
    },
    {
     "name": "stdout",
     "output_type": "stream",
     "text": [
      "388\n",
      "happy_female\n",
      "389\n",
      "calm_female\n"
     ]
    },
    {
     "name": "stderr",
     "output_type": "stream",
     "text": [
      "/var/folders/7h/3y0jb5yx0g399b2y_qtq_db80000gn/T/ipykernel_26966/1257479974.py:14: FutureWarning: Pass y=[-2.6646672e-05 -5.4322692e-05 -3.1175350e-05 ...  5.0901574e-05\n",
      "  4.2833079e-05  0.0000000e+00] as keyword args. From version 0.10 passing these as positional arguments will result in an error\n",
      "  mel=np.mean(librosa.feature.melspectrogram(data, sr=sample_rate).T,axis=0)\n",
      "/var/folders/7h/3y0jb5yx0g399b2y_qtq_db80000gn/T/ipykernel_26966/1257479974.py:14: FutureWarning: Pass y=[3.72362156e-05 4.73452637e-05 2.73341648e-05 ... 1.29288055e-05\n",
      " 2.49237546e-05 0.00000000e+00] as keyword args. From version 0.10 passing these as positional arguments will result in an error\n",
      "  mel=np.mean(librosa.feature.melspectrogram(data, sr=sample_rate).T,axis=0)\n"
     ]
    },
    {
     "name": "stdout",
     "output_type": "stream",
     "text": [
      "390\n",
      "neutral_female\n",
      "391\n",
      "calm_female\n"
     ]
    },
    {
     "name": "stderr",
     "output_type": "stream",
     "text": [
      "/var/folders/7h/3y0jb5yx0g399b2y_qtq_db80000gn/T/ipykernel_26966/1257479974.py:14: FutureWarning: Pass y=[-3.9533261e-05  2.5441272e-05 -2.9186860e-05 ...  3.5435845e-05\n",
      "  5.3437841e-05  0.0000000e+00] as keyword args. From version 0.10 passing these as positional arguments will result in an error\n",
      "  mel=np.mean(librosa.feature.melspectrogram(data, sr=sample_rate).T,axis=0)\n",
      "/var/folders/7h/3y0jb5yx0g399b2y_qtq_db80000gn/T/ipykernel_26966/1257479974.py:14: FutureWarning: Pass y=[2.2842432e-05 6.2907362e-05 5.0243121e-05 ... 2.9766967e-05 3.7937814e-05\n",
      " 0.0000000e+00] as keyword args. From version 0.10 passing these as positional arguments will result in an error\n",
      "  mel=np.mean(librosa.feature.melspectrogram(data, sr=sample_rate).T,axis=0)\n"
     ]
    },
    {
     "name": "stdout",
     "output_type": "stream",
     "text": [
      "392\n",
      "sad_female\n",
      "393\n",
      "disgust_female\n"
     ]
    },
    {
     "name": "stderr",
     "output_type": "stream",
     "text": [
      "/var/folders/7h/3y0jb5yx0g399b2y_qtq_db80000gn/T/ipykernel_26966/1257479974.py:14: FutureWarning: Pass y=[ 2.7006170e-05  2.0565899e-06  1.7617247e-05 ... -1.5304558e-04\n",
      " -3.3904612e-06  0.0000000e+00] as keyword args. From version 0.10 passing these as positional arguments will result in an error\n",
      "  mel=np.mean(librosa.feature.melspectrogram(data, sr=sample_rate).T,axis=0)\n"
     ]
    },
    {
     "name": "stdout",
     "output_type": "stream",
     "text": [
      "394\n",
      "disgust_female\n"
     ]
    },
    {
     "name": "stderr",
     "output_type": "stream",
     "text": [
      "/var/folders/7h/3y0jb5yx0g399b2y_qtq_db80000gn/T/ipykernel_26966/1257479974.py:14: FutureWarning: Pass y=[-1.3974207e-07 -1.4670575e-05 -4.6115015e-06 ... -2.7331344e-06\n",
      " -1.0993269e-05  0.0000000e+00] as keyword args. From version 0.10 passing these as positional arguments will result in an error\n",
      "  mel=np.mean(librosa.feature.melspectrogram(data, sr=sample_rate).T,axis=0)\n",
      "/var/folders/7h/3y0jb5yx0g399b2y_qtq_db80000gn/T/ipykernel_26966/1257479974.py:14: FutureWarning: Pass y=[ 6.1715749e-05  1.1246691e-04  8.1567094e-05 ... -9.7345001e-05\n",
      " -1.0525828e-04  0.0000000e+00] as keyword args. From version 0.10 passing these as positional arguments will result in an error\n",
      "  mel=np.mean(librosa.feature.melspectrogram(data, sr=sample_rate).T,axis=0)\n"
     ]
    },
    {
     "name": "stdout",
     "output_type": "stream",
     "text": [
      "395\n",
      "sad_female\n",
      "396\n",
      "fearful_female\n"
     ]
    },
    {
     "name": "stderr",
     "output_type": "stream",
     "text": [
      "/var/folders/7h/3y0jb5yx0g399b2y_qtq_db80000gn/T/ipykernel_26966/1257479974.py:14: FutureWarning: Pass y=[ 5.54740438e-07 -2.08973961e-06  1.30659228e-05 ... -6.43315434e-05\n",
      " -1.05166466e-04  0.00000000e+00] as keyword args. From version 0.10 passing these as positional arguments will result in an error\n",
      "  mel=np.mean(librosa.feature.melspectrogram(data, sr=sample_rate).T,axis=0)\n"
     ]
    },
    {
     "name": "stdout",
     "output_type": "stream",
     "text": [
      "397\n",
      "angry_female\n"
     ]
    },
    {
     "name": "stderr",
     "output_type": "stream",
     "text": [
      "/var/folders/7h/3y0jb5yx0g399b2y_qtq_db80000gn/T/ipykernel_26966/1257479974.py:14: FutureWarning: Pass y=[1.07147935e-04 1.67299120e-04 1.51043001e-04 ... 1.75125042e-05\n",
      " 7.29183466e-06 0.00000000e+00] as keyword args. From version 0.10 passing these as positional arguments will result in an error\n",
      "  mel=np.mean(librosa.feature.melspectrogram(data, sr=sample_rate).T,axis=0)\n"
     ]
    },
    {
     "name": "stdout",
     "output_type": "stream",
     "text": [
      "398\n",
      "angry_female\n"
     ]
    },
    {
     "name": "stderr",
     "output_type": "stream",
     "text": [
      "/var/folders/7h/3y0jb5yx0g399b2y_qtq_db80000gn/T/ipykernel_26966/1257479974.py:14: FutureWarning: Pass y=[ 3.6771761e-04  5.8214273e-04 -1.7409874e-04 ...  1.0750624e-04\n",
      "  6.8420086e-05  0.0000000e+00] as keyword args. From version 0.10 passing these as positional arguments will result in an error\n",
      "  mel=np.mean(librosa.feature.melspectrogram(data, sr=sample_rate).T,axis=0)\n",
      "/var/folders/7h/3y0jb5yx0g399b2y_qtq_db80000gn/T/ipykernel_26966/1257479974.py:14: FutureWarning: Pass y=[ 3.9784751e-05  2.6650960e-05  2.2610857e-05 ... -2.9319815e-05\n",
      " -3.2335342e-05  0.0000000e+00] as keyword args. From version 0.10 passing these as positional arguments will result in an error\n",
      "  mel=np.mean(librosa.feature.melspectrogram(data, sr=sample_rate).T,axis=0)\n"
     ]
    },
    {
     "name": "stdout",
     "output_type": "stream",
     "text": [
      "399\n",
      "fearful_female\n",
      "400\n",
      "surprised_female\n"
     ]
    },
    {
     "name": "stderr",
     "output_type": "stream",
     "text": [
      "/var/folders/7h/3y0jb5yx0g399b2y_qtq_db80000gn/T/ipykernel_26966/1257479974.py:14: FutureWarning: Pass y=[-3.05153026e-05 -4.30106593e-05 -4.28964777e-05 ...  1.01980906e-04\n",
      "  5.72950521e-05  0.00000000e+00] as keyword args. From version 0.10 passing these as positional arguments will result in an error\n",
      "  mel=np.mean(librosa.feature.melspectrogram(data, sr=sample_rate).T,axis=0)\n",
      "/var/folders/7h/3y0jb5yx0g399b2y_qtq_db80000gn/T/ipykernel_26966/1257479974.py:14: FutureWarning: Pass y=[-4.8372887e-05 -5.1457326e-05 -4.0833904e-05 ...  2.7640286e-05\n",
      "  2.7647411e-05  0.0000000e+00] as keyword args. From version 0.10 passing these as positional arguments will result in an error\n",
      "  mel=np.mean(librosa.feature.melspectrogram(data, sr=sample_rate).T,axis=0)\n"
     ]
    },
    {
     "name": "stdout",
     "output_type": "stream",
     "text": [
      "401\n",
      "surprised_female\n",
      "402\n",
      "neutral_female\n"
     ]
    },
    {
     "name": "stderr",
     "output_type": "stream",
     "text": [
      "/var/folders/7h/3y0jb5yx0g399b2y_qtq_db80000gn/T/ipykernel_26966/1257479974.py:14: FutureWarning: Pass y=[-2.7083710e-05 -7.5665230e-05 -4.7782731e-05 ... -3.7736198e-05\n",
      " -3.9940987e-05  0.0000000e+00] as keyword args. From version 0.10 passing these as positional arguments will result in an error\n",
      "  mel=np.mean(librosa.feature.melspectrogram(data, sr=sample_rate).T,axis=0)\n"
     ]
    },
    {
     "name": "stdout",
     "output_type": "stream",
     "text": [
      "403\n",
      "calm_female\n"
     ]
    },
    {
     "name": "stderr",
     "output_type": "stream",
     "text": [
      "/var/folders/7h/3y0jb5yx0g399b2y_qtq_db80000gn/T/ipykernel_26966/1257479974.py:14: FutureWarning: Pass y=[-1.3443113e-05  5.8394727e-07  2.3609620e-05 ... -8.7381442e-05\n",
      "  1.7501199e-05  0.0000000e+00] as keyword args. From version 0.10 passing these as positional arguments will result in an error\n",
      "  mel=np.mean(librosa.feature.melspectrogram(data, sr=sample_rate).T,axis=0)\n"
     ]
    },
    {
     "name": "stdout",
     "output_type": "stream",
     "text": [
      "404\n",
      "calm_female\n"
     ]
    },
    {
     "name": "stderr",
     "output_type": "stream",
     "text": [
      "/var/folders/7h/3y0jb5yx0g399b2y_qtq_db80000gn/T/ipykernel_26966/1257479974.py:14: FutureWarning: Pass y=[ 1.7885059e-04  2.2379315e-04 -5.4974234e-06 ... -1.2064945e-05\n",
      "  1.0789716e-04  0.0000000e+00] as keyword args. From version 0.10 passing these as positional arguments will result in an error\n",
      "  mel=np.mean(librosa.feature.melspectrogram(data, sr=sample_rate).T,axis=0)\n",
      "/var/folders/7h/3y0jb5yx0g399b2y_qtq_db80000gn/T/ipykernel_26966/1257479974.py:14: FutureWarning: Pass y=[ 1.2827459e-05  5.2673823e-07  8.4778849e-06 ... -2.4487806e-06\n",
      "  1.8443728e-06  0.0000000e+00] as keyword args. From version 0.10 passing these as positional arguments will result in an error\n",
      "  mel=np.mean(librosa.feature.melspectrogram(data, sr=sample_rate).T,axis=0)\n"
     ]
    },
    {
     "name": "stdout",
     "output_type": "stream",
     "text": [
      "405\n",
      "happy_female\n",
      "406\n",
      "happy_female\n"
     ]
    },
    {
     "name": "stderr",
     "output_type": "stream",
     "text": [
      "/var/folders/7h/3y0jb5yx0g399b2y_qtq_db80000gn/T/ipykernel_26966/1257479974.py:14: FutureWarning: Pass y=[ 2.1540647e-05  3.3850862e-05  2.7173055e-05 ... -1.2815238e-05\n",
      " -4.3208609e-05  0.0000000e+00] as keyword args. From version 0.10 passing these as positional arguments will result in an error\n",
      "  mel=np.mean(librosa.feature.melspectrogram(data, sr=sample_rate).T,axis=0)\n"
     ]
    },
    {
     "name": "stdout",
     "output_type": "stream",
     "text": [
      "407\n",
      "calm_female\n"
     ]
    },
    {
     "name": "stderr",
     "output_type": "stream",
     "text": [
      "/var/folders/7h/3y0jb5yx0g399b2y_qtq_db80000gn/T/ipykernel_26966/1257479974.py:14: FutureWarning: Pass y=[ 3.4063193e-04  4.7372938e-05 -2.3905133e-04 ... -9.8772325e-05\n",
      " -9.7237891e-05  0.0000000e+00] as keyword args. From version 0.10 passing these as positional arguments will result in an error\n",
      "  mel=np.mean(librosa.feature.melspectrogram(data, sr=sample_rate).T,axis=0)\n"
     ]
    },
    {
     "name": "stdout",
     "output_type": "stream",
     "text": [
      "408\n",
      "neutral_female\n"
     ]
    },
    {
     "name": "stderr",
     "output_type": "stream",
     "text": [
      "/var/folders/7h/3y0jb5yx0g399b2y_qtq_db80000gn/T/ipykernel_26966/1257479974.py:14: FutureWarning: Pass y=[ 1.4348992e-06 -7.4554242e-05  1.2539231e-04 ...  8.9810383e-05\n",
      "  8.3923849e-05  0.0000000e+00] as keyword args. From version 0.10 passing these as positional arguments will result in an error\n",
      "  mel=np.mean(librosa.feature.melspectrogram(data, sr=sample_rate).T,axis=0)\n"
     ]
    },
    {
     "name": "stdout",
     "output_type": "stream",
     "text": [
      "409\n",
      "calm_female\n"
     ]
    },
    {
     "name": "stderr",
     "output_type": "stream",
     "text": [
      "/var/folders/7h/3y0jb5yx0g399b2y_qtq_db80000gn/T/ipykernel_26966/1257479974.py:14: FutureWarning: Pass y=[ 2.9575730e-07 -6.7013134e-06  3.9570214e-06 ... -7.6249540e-05\n",
      " -7.6522905e-05  0.0000000e+00] as keyword args. From version 0.10 passing these as positional arguments will result in an error\n",
      "  mel=np.mean(librosa.feature.melspectrogram(data, sr=sample_rate).T,axis=0)\n",
      "/var/folders/7h/3y0jb5yx0g399b2y_qtq_db80000gn/T/ipykernel_26966/1257479974.py:14: FutureWarning: Pass y=[-1.1454663e-05 -4.0161399e-06  1.3158753e-05 ...  6.0362415e-04\n",
      " -5.5820190e-05  0.0000000e+00] as keyword args. From version 0.10 passing these as positional arguments will result in an error\n",
      "  mel=np.mean(librosa.feature.melspectrogram(data, sr=sample_rate).T,axis=0)\n"
     ]
    },
    {
     "name": "stdout",
     "output_type": "stream",
     "text": [
      "410\n",
      "happy_female\n",
      "411\n",
      "happy_female\n"
     ]
    },
    {
     "name": "stderr",
     "output_type": "stream",
     "text": [
      "/var/folders/7h/3y0jb5yx0g399b2y_qtq_db80000gn/T/ipykernel_26966/1257479974.py:14: FutureWarning: Pass y=[-3.7769976e-05 -6.0186718e-05 -5.6059191e-05 ... -1.8978115e-05\n",
      " -4.8494123e-05  0.0000000e+00] as keyword args. From version 0.10 passing these as positional arguments will result in an error\n",
      "  mel=np.mean(librosa.feature.melspectrogram(data, sr=sample_rate).T,axis=0)\n"
     ]
    },
    {
     "name": "stdout",
     "output_type": "stream",
     "text": [
      "412\n",
      "disgust_female\n"
     ]
    },
    {
     "name": "stderr",
     "output_type": "stream",
     "text": [
      "/var/folders/7h/3y0jb5yx0g399b2y_qtq_db80000gn/T/ipykernel_26966/1257479974.py:14: FutureWarning: Pass y=[ 1.4081049e-06  6.5644352e-05  1.5115323e-04 ... -5.2869822e-05\n",
      "  5.4209060e-05  0.0000000e+00] as keyword args. From version 0.10 passing these as positional arguments will result in an error\n",
      "  mel=np.mean(librosa.feature.melspectrogram(data, sr=sample_rate).T,axis=0)\n",
      "/var/folders/7h/3y0jb5yx0g399b2y_qtq_db80000gn/T/ipykernel_26966/1257479974.py:14: FutureWarning: Pass y=[-4.6918107e-05 -6.1493352e-05 -1.9051917e-05 ...  1.5415244e-05\n",
      "  2.3781513e-05  0.0000000e+00] as keyword args. From version 0.10 passing these as positional arguments will result in an error\n",
      "  mel=np.mean(librosa.feature.melspectrogram(data, sr=sample_rate).T,axis=0)\n"
     ]
    },
    {
     "name": "stdout",
     "output_type": "stream",
     "text": [
      "413\n",
      "sad_female\n",
      "414\n",
      "sad_female\n"
     ]
    },
    {
     "name": "stderr",
     "output_type": "stream",
     "text": [
      "/var/folders/7h/3y0jb5yx0g399b2y_qtq_db80000gn/T/ipykernel_26966/1257479974.py:14: FutureWarning: Pass y=[ 7.0174774e-06 -7.6787488e-05 -1.6871141e-04 ...  2.2609180e-05\n",
      "  1.4226283e-05  0.0000000e+00] as keyword args. From version 0.10 passing these as positional arguments will result in an error\n",
      "  mel=np.mean(librosa.feature.melspectrogram(data, sr=sample_rate).T,axis=0)\n"
     ]
    },
    {
     "name": "stdout",
     "output_type": "stream",
     "text": [
      "415\n",
      "disgust_female\n"
     ]
    },
    {
     "name": "stderr",
     "output_type": "stream",
     "text": [
      "/var/folders/7h/3y0jb5yx0g399b2y_qtq_db80000gn/T/ipykernel_26966/1257479974.py:14: FutureWarning: Pass y=[ 1.0246373e-06 -1.6519969e-06  2.8857175e-06 ... -1.4532412e-05\n",
      "  2.0459616e-07  0.0000000e+00] as keyword args. From version 0.10 passing these as positional arguments will result in an error\n",
      "  mel=np.mean(librosa.feature.melspectrogram(data, sr=sample_rate).T,axis=0)\n"
     ]
    },
    {
     "name": "stdout",
     "output_type": "stream",
     "text": [
      "416\n",
      "angry_female\n"
     ]
    },
    {
     "name": "stderr",
     "output_type": "stream",
     "text": [
      "/var/folders/7h/3y0jb5yx0g399b2y_qtq_db80000gn/T/ipykernel_26966/1257479974.py:14: FutureWarning: Pass y=[-2.2304926e-05 -1.0994847e-05  1.5819587e-05 ... -1.8151834e-06\n",
      "  1.2875445e-05  0.0000000e+00] as keyword args. From version 0.10 passing these as positional arguments will result in an error\n",
      "  mel=np.mean(librosa.feature.melspectrogram(data, sr=sample_rate).T,axis=0)\n"
     ]
    },
    {
     "name": "stdout",
     "output_type": "stream",
     "text": [
      "417\n",
      "fearful_female\n"
     ]
    },
    {
     "name": "stderr",
     "output_type": "stream",
     "text": [
      "/var/folders/7h/3y0jb5yx0g399b2y_qtq_db80000gn/T/ipykernel_26966/1257479974.py:14: FutureWarning: Pass y=[7.3497122e-06 3.3941360e-05 1.9532677e-06 ... 1.1926288e-04 1.2980741e-04\n",
      " 0.0000000e+00] as keyword args. From version 0.10 passing these as positional arguments will result in an error\n",
      "  mel=np.mean(librosa.feature.melspectrogram(data, sr=sample_rate).T,axis=0)\n",
      "/var/folders/7h/3y0jb5yx0g399b2y_qtq_db80000gn/T/ipykernel_26966/1257479974.py:14: FutureWarning: Pass y=[-9.4563666e-06 -3.1392985e-05 -3.0971103e-05 ... -4.6842164e-05\n",
      " -4.3099146e-05  0.0000000e+00] as keyword args. From version 0.10 passing these as positional arguments will result in an error\n",
      "  mel=np.mean(librosa.feature.melspectrogram(data, sr=sample_rate).T,axis=0)\n"
     ]
    },
    {
     "name": "stdout",
     "output_type": "stream",
     "text": [
      "418\n",
      "fearful_female\n",
      "419\n",
      "angry_female\n"
     ]
    },
    {
     "name": "stderr",
     "output_type": "stream",
     "text": [
      "/var/folders/7h/3y0jb5yx0g399b2y_qtq_db80000gn/T/ipykernel_26966/1257479974.py:14: FutureWarning: Pass y=[ 7.9155288e-06  1.4377074e-05 -1.4569763e-04 ... -9.2596729e-06\n",
      " -4.1241710e-05  0.0000000e+00] as keyword args. From version 0.10 passing these as positional arguments will result in an error\n",
      "  mel=np.mean(librosa.feature.melspectrogram(data, sr=sample_rate).T,axis=0)\n",
      "/var/folders/7h/3y0jb5yx0g399b2y_qtq_db80000gn/T/ipykernel_26966/1257479974.py:14: FutureWarning: Pass y=[2.0936774e-05 1.2185621e-05 9.6078766e-06 ... 4.4764279e-06 1.3088463e-05\n",
      " 0.0000000e+00] as keyword args. From version 0.10 passing these as positional arguments will result in an error\n",
      "  mel=np.mean(librosa.feature.melspectrogram(data, sr=sample_rate).T,axis=0)\n"
     ]
    },
    {
     "name": "stdout",
     "output_type": "stream",
     "text": [
      "420\n",
      "surprised_female\n",
      "421\n",
      "surprised_female\n"
     ]
    },
    {
     "name": "stderr",
     "output_type": "stream",
     "text": [
      "/var/folders/7h/3y0jb5yx0g399b2y_qtq_db80000gn/T/ipykernel_26966/1257479974.py:14: FutureWarning: Pass y=[6.2713916e-05 8.6990243e-05 6.1319981e-05 ... 2.0955011e-05 6.6105153e-05\n",
      " 0.0000000e+00] as keyword args. From version 0.10 passing these as positional arguments will result in an error\n",
      "  mel=np.mean(librosa.feature.melspectrogram(data, sr=sample_rate).T,axis=0)\n"
     ]
    },
    {
     "name": "stdout",
     "output_type": "stream",
     "text": [
      "422\n",
      "disgust_male\n"
     ]
    },
    {
     "name": "stderr",
     "output_type": "stream",
     "text": [
      "/var/folders/7h/3y0jb5yx0g399b2y_qtq_db80000gn/T/ipykernel_26966/1257479974.py:14: FutureWarning: Pass y=[ 2.0796448e-04  7.1032679e-05 -4.0834735e-04 ...  4.9979036e-07\n",
      " -4.6453303e-07  0.0000000e+00] as keyword args. From version 0.10 passing these as positional arguments will result in an error\n",
      "  mel=np.mean(librosa.feature.melspectrogram(data, sr=sample_rate).T,axis=0)\n"
     ]
    },
    {
     "name": "stdout",
     "output_type": "stream",
     "text": [
      "423\n",
      "sad_male\n",
      "424\n",
      "sad_male\n"
     ]
    },
    {
     "name": "stderr",
     "output_type": "stream",
     "text": [
      "/var/folders/7h/3y0jb5yx0g399b2y_qtq_db80000gn/T/ipykernel_26966/1257479974.py:14: FutureWarning: Pass y=[-2.0048826e-04 -3.3661537e-04 -4.1977354e-04 ...  7.9892685e-05\n",
      "  6.5815475e-05  0.0000000e+00] as keyword args. From version 0.10 passing these as positional arguments will result in an error\n",
      "  mel=np.mean(librosa.feature.melspectrogram(data, sr=sample_rate).T,axis=0)\n",
      "/var/folders/7h/3y0jb5yx0g399b2y_qtq_db80000gn/T/ipykernel_26966/1257479974.py:14: FutureWarning: Pass y=[-9.6087097e-05 -1.6424945e-04 -1.7387563e-04 ...  5.2666529e-08\n",
      "  3.4280117e-07  0.0000000e+00] as keyword args. From version 0.10 passing these as positional arguments will result in an error\n",
      "  mel=np.mean(librosa.feature.melspectrogram(data, sr=sample_rate).T,axis=0)\n"
     ]
    },
    {
     "name": "stdout",
     "output_type": "stream",
     "text": [
      "425\n",
      "disgust_male\n"
     ]
    },
    {
     "name": "stderr",
     "output_type": "stream",
     "text": [
      "/var/folders/7h/3y0jb5yx0g399b2y_qtq_db80000gn/T/ipykernel_26966/1257479974.py:14: FutureWarning: Pass y=[-3.1205898e-05 -6.4386935e-05 -6.0599319e-05 ...  2.5860896e-05\n",
      "  4.0075687e-05  0.0000000e+00] as keyword args. From version 0.10 passing these as positional arguments will result in an error\n",
      "  mel=np.mean(librosa.feature.melspectrogram(data, sr=sample_rate).T,axis=0)\n",
      "/var/folders/7h/3y0jb5yx0g399b2y_qtq_db80000gn/T/ipykernel_26966/1257479974.py:14: FutureWarning: Pass y=[-4.4164684e-05 -5.3000313e-05 -7.8995799e-06 ...  2.2613860e-05\n",
      " -3.8777985e-06  0.0000000e+00] as keyword args. From version 0.10 passing these as positional arguments will result in an error\n",
      "  mel=np.mean(librosa.feature.melspectrogram(data, sr=sample_rate).T,axis=0)\n"
     ]
    },
    {
     "name": "stdout",
     "output_type": "stream",
     "text": [
      "426\n",
      "angry_male\n",
      "427\n",
      "fearful_male\n"
     ]
    },
    {
     "name": "stderr",
     "output_type": "stream",
     "text": [
      "/var/folders/7h/3y0jb5yx0g399b2y_qtq_db80000gn/T/ipykernel_26966/1257479974.py:14: FutureWarning: Pass y=[ 4.5701821e-05  7.9981597e-05  7.5394535e-05 ... -8.1536618e-06\n",
      " -1.8596384e-05  0.0000000e+00] as keyword args. From version 0.10 passing these as positional arguments will result in an error\n",
      "  mel=np.mean(librosa.feature.melspectrogram(data, sr=sample_rate).T,axis=0)\n",
      "/var/folders/7h/3y0jb5yx0g399b2y_qtq_db80000gn/T/ipykernel_26966/1257479974.py:14: FutureWarning: Pass y=[3.4143577e-05 5.1369749e-05 4.0425854e-05 ... 1.1832479e-04 9.8981356e-05\n",
      " 0.0000000e+00] as keyword args. From version 0.10 passing these as positional arguments will result in an error\n",
      "  mel=np.mean(librosa.feature.melspectrogram(data, sr=sample_rate).T,axis=0)\n"
     ]
    },
    {
     "name": "stdout",
     "output_type": "stream",
     "text": [
      "428\n",
      "fearful_male\n",
      "429\n",
      "angry_male\n"
     ]
    },
    {
     "name": "stderr",
     "output_type": "stream",
     "text": [
      "/var/folders/7h/3y0jb5yx0g399b2y_qtq_db80000gn/T/ipykernel_26966/1257479974.py:14: FutureWarning: Pass y=[-3.4002893e-05 -6.0221220e-05 -7.4214360e-05 ... -4.8576035e-06\n",
      " -1.1621189e-05  0.0000000e+00] as keyword args. From version 0.10 passing these as positional arguments will result in an error\n",
      "  mel=np.mean(librosa.feature.melspectrogram(data, sr=sample_rate).T,axis=0)\n"
     ]
    },
    {
     "name": "stdout",
     "output_type": "stream",
     "text": [
      "430\n",
      "surprised_male\n"
     ]
    },
    {
     "name": "stderr",
     "output_type": "stream",
     "text": [
      "/var/folders/7h/3y0jb5yx0g399b2y_qtq_db80000gn/T/ipykernel_26966/1257479974.py:14: FutureWarning: Pass y=[-7.0581031e-08 -2.5548841e-08  1.6240570e-07 ...  1.5991445e-04\n",
      "  1.7141545e-04  0.0000000e+00] as keyword args. From version 0.10 passing these as positional arguments will result in an error\n",
      "  mel=np.mean(librosa.feature.melspectrogram(data, sr=sample_rate).T,axis=0)\n",
      "/var/folders/7h/3y0jb5yx0g399b2y_qtq_db80000gn/T/ipykernel_26966/1257479974.py:14: FutureWarning: Pass y=[0.0002082  0.00030379 0.0002603  ... 0.00013399 0.00012837 0.        ] as keyword args. From version 0.10 passing these as positional arguments will result in an error\n",
      "  mel=np.mean(librosa.feature.melspectrogram(data, sr=sample_rate).T,axis=0)\n"
     ]
    },
    {
     "name": "stdout",
     "output_type": "stream",
     "text": [
      "431\n",
      "surprised_male\n",
      "432\n",
      "calm_male\n"
     ]
    },
    {
     "name": "stderr",
     "output_type": "stream",
     "text": [
      "/var/folders/7h/3y0jb5yx0g399b2y_qtq_db80000gn/T/ipykernel_26966/1257479974.py:14: FutureWarning: Pass y=[ 6.8308138e-05  8.8697256e-05  5.4067761e-05 ... -2.9746583e-04\n",
      " -3.2603959e-04  0.0000000e+00] as keyword args. From version 0.10 passing these as positional arguments will result in an error\n",
      "  mel=np.mean(librosa.feature.melspectrogram(data, sr=sample_rate).T,axis=0)\n",
      "/var/folders/7h/3y0jb5yx0g399b2y_qtq_db80000gn/T/ipykernel_26966/1257479974.py:14: FutureWarning: Pass y=[-5.5789249e-05 -4.5886914e-05  6.7470646e-06 ...  8.5772063e-13\n",
      " -2.2969170e-13  0.0000000e+00] as keyword args. From version 0.10 passing these as positional arguments will result in an error\n",
      "  mel=np.mean(librosa.feature.melspectrogram(data, sr=sample_rate).T,axis=0)\n"
     ]
    },
    {
     "name": "stdout",
     "output_type": "stream",
     "text": [
      "433\n",
      "neutral_male\n",
      "434\n",
      "calm_male\n"
     ]
    },
    {
     "name": "stderr",
     "output_type": "stream",
     "text": [
      "/var/folders/7h/3y0jb5yx0g399b2y_qtq_db80000gn/T/ipykernel_26966/1257479974.py:14: FutureWarning: Pass y=[0.0000000e+00 0.0000000e+00 0.0000000e+00 ... 1.4352012e-05 1.5100001e-05\n",
      " 0.0000000e+00] as keyword args. From version 0.10 passing these as positional arguments will result in an error\n",
      "  mel=np.mean(librosa.feature.melspectrogram(data, sr=sample_rate).T,axis=0)\n"
     ]
    },
    {
     "name": "stdout",
     "output_type": "stream",
     "text": [
      "435\n",
      "happy_male\n"
     ]
    },
    {
     "name": "stderr",
     "output_type": "stream",
     "text": [
      "/var/folders/7h/3y0jb5yx0g399b2y_qtq_db80000gn/T/ipykernel_26966/1257479974.py:14: FutureWarning: Pass y=[-1.5010424e-04 -1.5590675e-04 -8.3122532e-06 ... -1.2874916e-04\n",
      " -1.3132011e-04  0.0000000e+00] as keyword args. From version 0.10 passing these as positional arguments will result in an error\n",
      "  mel=np.mean(librosa.feature.melspectrogram(data, sr=sample_rate).T,axis=0)\n"
     ]
    },
    {
     "name": "stdout",
     "output_type": "stream",
     "text": [
      "436\n",
      "happy_male\n"
     ]
    },
    {
     "name": "stderr",
     "output_type": "stream",
     "text": [
      "/var/folders/7h/3y0jb5yx0g399b2y_qtq_db80000gn/T/ipykernel_26966/1257479974.py:14: FutureWarning: Pass y=[ 1.06380212e-04  2.10892860e-04  1.12468224e-04 ... -1.35263917e-05\n",
      " -2.08314868e-05  0.00000000e+00] as keyword args. From version 0.10 passing these as positional arguments will result in an error\n",
      "  mel=np.mean(librosa.feature.melspectrogram(data, sr=sample_rate).T,axis=0)\n"
     ]
    },
    {
     "name": "stdout",
     "output_type": "stream",
     "text": [
      "437\n",
      "neutral_male\n"
     ]
    },
    {
     "name": "stderr",
     "output_type": "stream",
     "text": [
      "/var/folders/7h/3y0jb5yx0g399b2y_qtq_db80000gn/T/ipykernel_26966/1257479974.py:14: FutureWarning: Pass y=[ 2.1882441e-04  3.3067702e-04  3.1655972e-04 ... -7.9239806e-05\n",
      " -9.3955183e-05  0.0000000e+00] as keyword args. From version 0.10 passing these as positional arguments will result in an error\n",
      "  mel=np.mean(librosa.feature.melspectrogram(data, sr=sample_rate).T,axis=0)\n",
      "/var/folders/7h/3y0jb5yx0g399b2y_qtq_db80000gn/T/ipykernel_26966/1257479974.py:14: FutureWarning: Pass y=[-5.5849989e-07  8.8788266e-07 -1.4378825e-06 ... -1.4750612e-05\n",
      " -9.7895418e-06  0.0000000e+00] as keyword args. From version 0.10 passing these as positional arguments will result in an error\n",
      "  mel=np.mean(librosa.feature.melspectrogram(data, sr=sample_rate).T,axis=0)\n"
     ]
    },
    {
     "name": "stdout",
     "output_type": "stream",
     "text": [
      "438\n",
      "calm_male\n",
      "439\n",
      "calm_male\n"
     ]
    },
    {
     "name": "stderr",
     "output_type": "stream",
     "text": [
      "/var/folders/7h/3y0jb5yx0g399b2y_qtq_db80000gn/T/ipykernel_26966/1257479974.py:14: FutureWarning: Pass y=[ 5.9980248e-05  6.2358136e-05  4.6168039e-05 ...  5.4217040e-08\n",
      " -3.4717726e-08  0.0000000e+00] as keyword args. From version 0.10 passing these as positional arguments will result in an error\n",
      "  mel=np.mean(librosa.feature.melspectrogram(data, sr=sample_rate).T,axis=0)\n",
      "/var/folders/7h/3y0jb5yx0g399b2y_qtq_db80000gn/T/ipykernel_26966/1257479974.py:14: FutureWarning: Pass y=[ 4.1874442e-05  7.6026765e-05  6.6638939e-05 ...  1.4014587e-10\n",
      " -8.0330929e-11  0.0000000e+00] as keyword args. From version 0.10 passing these as positional arguments will result in an error\n",
      "  mel=np.mean(librosa.feature.melspectrogram(data, sr=sample_rate).T,axis=0)\n"
     ]
    },
    {
     "name": "stdout",
     "output_type": "stream",
     "text": [
      "440\n",
      "happy_male\n",
      "441\n",
      "happy_male\n"
     ]
    },
    {
     "name": "stderr",
     "output_type": "stream",
     "text": [
      "/var/folders/7h/3y0jb5yx0g399b2y_qtq_db80000gn/T/ipykernel_26966/1257479974.py:14: FutureWarning: Pass y=[ 8.6895721e-05  1.3240385e-04  1.2390857e-04 ... -5.0791736e-05\n",
      " -3.5368028e-06  0.0000000e+00] as keyword args. From version 0.10 passing these as positional arguments will result in an error\n",
      "  mel=np.mean(librosa.feature.melspectrogram(data, sr=sample_rate).T,axis=0)\n",
      "/var/folders/7h/3y0jb5yx0g399b2y_qtq_db80000gn/T/ipykernel_26966/1257479974.py:14: FutureWarning: Pass y=[ 1.2219600e-04  1.8301723e-04  7.5676006e-05 ...  6.9540089e-05\n",
      " -1.4510023e-06  0.0000000e+00] as keyword args. From version 0.10 passing these as positional arguments will result in an error\n",
      "  mel=np.mean(librosa.feature.melspectrogram(data, sr=sample_rate).T,axis=0)\n"
     ]
    },
    {
     "name": "stdout",
     "output_type": "stream",
     "text": [
      "442\n",
      "sad_male\n",
      "443\n",
      "disgust_male\n"
     ]
    },
    {
     "name": "stderr",
     "output_type": "stream",
     "text": [
      "/var/folders/7h/3y0jb5yx0g399b2y_qtq_db80000gn/T/ipykernel_26966/1257479974.py:14: FutureWarning: Pass y=[ 1.8473115e-04  3.1826642e-04  2.9848015e-04 ... -5.3793315e-06\n",
      "  3.5512915e-06  0.0000000e+00] as keyword args. From version 0.10 passing these as positional arguments will result in an error\n",
      "  mel=np.mean(librosa.feature.melspectrogram(data, sr=sample_rate).T,axis=0)\n",
      "/var/folders/7h/3y0jb5yx0g399b2y_qtq_db80000gn/T/ipykernel_26966/1257479974.py:14: FutureWarning: Pass y=[-2.2931537e-05 -4.6975358e-05 -2.8411048e-05 ... -4.0087773e-05\n",
      " -1.4150386e-05  0.0000000e+00] as keyword args. From version 0.10 passing these as positional arguments will result in an error\n",
      "  mel=np.mean(librosa.feature.melspectrogram(data, sr=sample_rate).T,axis=0)\n"
     ]
    },
    {
     "name": "stdout",
     "output_type": "stream",
     "text": [
      "444\n",
      "disgust_male\n",
      "445\n",
      "sad_male\n"
     ]
    },
    {
     "name": "stderr",
     "output_type": "stream",
     "text": [
      "/var/folders/7h/3y0jb5yx0g399b2y_qtq_db80000gn/T/ipykernel_26966/1257479974.py:14: FutureWarning: Pass y=[1.7057420e-05 6.5969303e-05 1.1386452e-04 ... 6.2320069e-05 6.6577115e-05\n",
      " 0.0000000e+00] as keyword args. From version 0.10 passing these as positional arguments will result in an error\n",
      "  mel=np.mean(librosa.feature.melspectrogram(data, sr=sample_rate).T,axis=0)\n"
     ]
    },
    {
     "name": "stdout",
     "output_type": "stream",
     "text": [
      "446\n",
      "fearful_male\n"
     ]
    },
    {
     "name": "stderr",
     "output_type": "stream",
     "text": [
      "/var/folders/7h/3y0jb5yx0g399b2y_qtq_db80000gn/T/ipykernel_26966/1257479974.py:14: FutureWarning: Pass y=[-2.2068991e-04 -3.1163404e-04 -6.2512212e-05 ...  2.0272208e-04\n",
      "  2.1026992e-04  0.0000000e+00] as keyword args. From version 0.10 passing these as positional arguments will result in an error\n",
      "  mel=np.mean(librosa.feature.melspectrogram(data, sr=sample_rate).T,axis=0)\n"
     ]
    },
    {
     "name": "stdout",
     "output_type": "stream",
     "text": [
      "447\n",
      "angry_male\n"
     ]
    },
    {
     "name": "stderr",
     "output_type": "stream",
     "text": [
      "/var/folders/7h/3y0jb5yx0g399b2y_qtq_db80000gn/T/ipykernel_26966/1257479974.py:14: FutureWarning: Pass y=[-1.7268911e-04 -1.7257170e-04  1.5346848e-05 ...  9.1590658e-07\n",
      " -1.8844697e-05  0.0000000e+00] as keyword args. From version 0.10 passing these as positional arguments will result in an error\n",
      "  mel=np.mean(librosa.feature.melspectrogram(data, sr=sample_rate).T,axis=0)\n"
     ]
    },
    {
     "name": "stdout",
     "output_type": "stream",
     "text": [
      "448\n",
      "angry_male\n"
     ]
    },
    {
     "name": "stderr",
     "output_type": "stream",
     "text": [
      "/var/folders/7h/3y0jb5yx0g399b2y_qtq_db80000gn/T/ipykernel_26966/1257479974.py:14: FutureWarning: Pass y=[-7.9525116e-06 -3.3821525e-05 -4.5753513e-05 ... -1.4388266e-04\n",
      " -9.6140306e-05  0.0000000e+00] as keyword args. From version 0.10 passing these as positional arguments will result in an error\n",
      "  mel=np.mean(librosa.feature.melspectrogram(data, sr=sample_rate).T,axis=0)\n",
      "/var/folders/7h/3y0jb5yx0g399b2y_qtq_db80000gn/T/ipykernel_26966/1257479974.py:14: FutureWarning: Pass y=[0.00020098 0.00030107 0.00025262 ... 0.00016066 0.00012632 0.        ] as keyword args. From version 0.10 passing these as positional arguments will result in an error\n",
      "  mel=np.mean(librosa.feature.melspectrogram(data, sr=sample_rate).T,axis=0)\n"
     ]
    },
    {
     "name": "stdout",
     "output_type": "stream",
     "text": [
      "449\n",
      "fearful_male\n",
      "450\n",
      "surprised_male\n"
     ]
    },
    {
     "name": "stderr",
     "output_type": "stream",
     "text": [
      "/var/folders/7h/3y0jb5yx0g399b2y_qtq_db80000gn/T/ipykernel_26966/1257479974.py:14: FutureWarning: Pass y=[-6.9582347e-07  1.6005190e-06  2.2841357e-05 ...  5.7325098e-05\n",
      "  2.6029735e-05  0.0000000e+00] as keyword args. From version 0.10 passing these as positional arguments will result in an error\n",
      "  mel=np.mean(librosa.feature.melspectrogram(data, sr=sample_rate).T,axis=0)\n"
     ]
    },
    {
     "name": "stdout",
     "output_type": "stream",
     "text": [
      "451\n",
      "surprised_male\n"
     ]
    },
    {
     "name": "stderr",
     "output_type": "stream",
     "text": [
      "/var/folders/7h/3y0jb5yx0g399b2y_qtq_db80000gn/T/ipykernel_26966/1257479974.py:14: FutureWarning: Pass y=[-7.6743272e-05 -2.8323060e-05  2.0383297e-05 ...  0.0000000e+00\n",
      "  0.0000000e+00  0.0000000e+00] as keyword args. From version 0.10 passing these as positional arguments will result in an error\n",
      "  mel=np.mean(librosa.feature.melspectrogram(data, sr=sample_rate).T,axis=0)\n"
     ]
    },
    {
     "name": "stdout",
     "output_type": "stream",
     "text": [
      "452\n",
      "happy_male\n"
     ]
    },
    {
     "name": "stderr",
     "output_type": "stream",
     "text": [
      "/var/folders/7h/3y0jb5yx0g399b2y_qtq_db80000gn/T/ipykernel_26966/1257479974.py:14: FutureWarning: Pass y=[ 5.6576955e-05  1.0849779e-04  6.6350331e-05 ... -4.1243254e-08\n",
      "  1.9432212e-08  0.0000000e+00] as keyword args. From version 0.10 passing these as positional arguments will result in an error\n",
      "  mel=np.mean(librosa.feature.melspectrogram(data, sr=sample_rate).T,axis=0)\n",
      "/var/folders/7h/3y0jb5yx0g399b2y_qtq_db80000gn/T/ipykernel_26966/1257479974.py:14: FutureWarning: Pass y=[ 3.0427555e-05  6.4530570e-05  6.8472189e-05 ... -7.6607466e-05\n",
      " -8.0198275e-05  0.0000000e+00] as keyword args. From version 0.10 passing these as positional arguments will result in an error\n",
      "  mel=np.mean(librosa.feature.melspectrogram(data, sr=sample_rate).T,axis=0)\n"
     ]
    },
    {
     "name": "stdout",
     "output_type": "stream",
     "text": [
      "453\n",
      "happy_male\n",
      "454\n",
      "calm_male\n"
     ]
    },
    {
     "name": "stderr",
     "output_type": "stream",
     "text": [
      "/var/folders/7h/3y0jb5yx0g399b2y_qtq_db80000gn/T/ipykernel_26966/1257479974.py:14: FutureWarning: Pass y=[-4.585764e-05 -6.382674e-05 -6.079329e-05 ...  8.458566e-08  9.984875e-08\n",
      "  0.000000e+00] as keyword args. From version 0.10 passing these as positional arguments will result in an error\n",
      "  mel=np.mean(librosa.feature.melspectrogram(data, sr=sample_rate).T,axis=0)\n",
      "/var/folders/7h/3y0jb5yx0g399b2y_qtq_db80000gn/T/ipykernel_26966/1257479974.py:14: FutureWarning: Pass y=[ 1.9725536e-05  3.6720034e-05  4.1423446e-05 ... -7.3909105e-05\n",
      " -7.8912795e-05  0.0000000e+00] as keyword args. From version 0.10 passing these as positional arguments will result in an error\n",
      "  mel=np.mean(librosa.feature.melspectrogram(data, sr=sample_rate).T,axis=0)\n"
     ]
    },
    {
     "name": "stdout",
     "output_type": "stream",
     "text": [
      "455\n",
      "neutral_male\n",
      "456\n",
      "calm_male\n"
     ]
    },
    {
     "name": "stderr",
     "output_type": "stream",
     "text": [
      "/var/folders/7h/3y0jb5yx0g399b2y_qtq_db80000gn/T/ipykernel_26966/1257479974.py:14: FutureWarning: Pass y=[ 3.8091959e-05  4.2201773e-05  5.6298562e-05 ...  1.1079865e-07\n",
      " -6.5217598e-08  0.0000000e+00] as keyword args. From version 0.10 passing these as positional arguments will result in an error\n",
      "  mel=np.mean(librosa.feature.melspectrogram(data, sr=sample_rate).T,axis=0)\n",
      "/var/folders/7h/3y0jb5yx0g399b2y_qtq_db80000gn/T/ipykernel_26966/1257479974.py:14: FutureWarning: Pass y=[ 1.02638696e-04  8.45789764e-05 -2.05597053e-06 ...  0.00000000e+00\n",
      "  0.00000000e+00  0.00000000e+00] as keyword args. From version 0.10 passing these as positional arguments will result in an error\n",
      "  mel=np.mean(librosa.feature.melspectrogram(data, sr=sample_rate).T,axis=0)\n"
     ]
    },
    {
     "name": "stdout",
     "output_type": "stream",
     "text": [
      "457\n",
      "angry_male\n",
      "458\n",
      "fearful_male\n"
     ]
    },
    {
     "name": "stderr",
     "output_type": "stream",
     "text": [
      "/var/folders/7h/3y0jb5yx0g399b2y_qtq_db80000gn/T/ipykernel_26966/1257479974.py:14: FutureWarning: Pass y=[ 0.00066423  0.00075823  0.00032887 ... -0.00023478 -0.00025833\n",
      "  0.        ] as keyword args. From version 0.10 passing these as positional arguments will result in an error\n",
      "  mel=np.mean(librosa.feature.melspectrogram(data, sr=sample_rate).T,axis=0)\n",
      "/var/folders/7h/3y0jb5yx0g399b2y_qtq_db80000gn/T/ipykernel_26966/1257479974.py:14: FutureWarning: Pass y=[-1.0820558e-04 -1.4522758e-04 -9.7366894e-05 ... -3.4662019e-04\n",
      " -3.5901275e-04  0.0000000e+00] as keyword args. From version 0.10 passing these as positional arguments will result in an error\n",
      "  mel=np.mean(librosa.feature.melspectrogram(data, sr=sample_rate).T,axis=0)\n"
     ]
    },
    {
     "name": "stdout",
     "output_type": "stream",
     "text": [
      "459\n",
      "fearful_male\n",
      "460\n",
      "angry_male\n"
     ]
    },
    {
     "name": "stderr",
     "output_type": "stream",
     "text": [
      "/var/folders/7h/3y0jb5yx0g399b2y_qtq_db80000gn/T/ipykernel_26966/1257479974.py:14: FutureWarning: Pass y=[-6.5569002e-05 -1.2904883e-04 -5.2865820e-05 ...  1.6250678e-07\n",
      " -1.1598345e-07  0.0000000e+00] as keyword args. From version 0.10 passing these as positional arguments will result in an error\n",
      "  mel=np.mean(librosa.feature.melspectrogram(data, sr=sample_rate).T,axis=0)\n"
     ]
    },
    {
     "name": "stdout",
     "output_type": "stream",
     "text": [
      "461\n",
      "disgust_male\n"
     ]
    },
    {
     "name": "stderr",
     "output_type": "stream",
     "text": [
      "/var/folders/7h/3y0jb5yx0g399b2y_qtq_db80000gn/T/ipykernel_26966/1257479974.py:14: FutureWarning: Pass y=[0.0000000e+00 0.0000000e+00 0.0000000e+00 ... 5.6604098e-05 6.0922528e-05\n",
      " 0.0000000e+00] as keyword args. From version 0.10 passing these as positional arguments will result in an error\n",
      "  mel=np.mean(librosa.feature.melspectrogram(data, sr=sample_rate).T,axis=0)\n"
     ]
    },
    {
     "name": "stdout",
     "output_type": "stream",
     "text": [
      "462\n",
      "sad_male\n"
     ]
    },
    {
     "name": "stderr",
     "output_type": "stream",
     "text": [
      "/var/folders/7h/3y0jb5yx0g399b2y_qtq_db80000gn/T/ipykernel_26966/1257479974.py:14: FutureWarning: Pass y=[2.1657697e-05 3.3681368e-05 2.7556121e-05 ... 1.5024449e-04 1.3225172e-04\n",
      " 0.0000000e+00] as keyword args. From version 0.10 passing these as positional arguments will result in an error\n",
      "  mel=np.mean(librosa.feature.melspectrogram(data, sr=sample_rate).T,axis=0)\n",
      "/var/folders/7h/3y0jb5yx0g399b2y_qtq_db80000gn/T/ipykernel_26966/1257479974.py:14: FutureWarning: Pass y=[-4.2325839e-05 -9.1382106e-05 -6.1530911e-05 ...  1.0711867e-05\n",
      "  1.0696916e-05  0.0000000e+00] as keyword args. From version 0.10 passing these as positional arguments will result in an error\n",
      "  mel=np.mean(librosa.feature.melspectrogram(data, sr=sample_rate).T,axis=0)\n"
     ]
    },
    {
     "name": "stdout",
     "output_type": "stream",
     "text": [
      "463\n",
      "sad_male\n",
      "464\n",
      "disgust_male\n"
     ]
    },
    {
     "name": "stderr",
     "output_type": "stream",
     "text": [
      "/var/folders/7h/3y0jb5yx0g399b2y_qtq_db80000gn/T/ipykernel_26966/1257479974.py:14: FutureWarning: Pass y=[ 7.5675867e-05  2.9423002e-06 -7.5285956e-05 ...  0.0000000e+00\n",
      "  0.0000000e+00  0.0000000e+00] as keyword args. From version 0.10 passing these as positional arguments will result in an error\n",
      "  mel=np.mean(librosa.feature.melspectrogram(data, sr=sample_rate).T,axis=0)\n",
      "/var/folders/7h/3y0jb5yx0g399b2y_qtq_db80000gn/T/ipykernel_26966/1257479974.py:14: FutureWarning: Pass y=[ 2.3255927e-05  3.1712560e-05  3.5143987e-06 ... -6.0963557e-05\n",
      " -5.2208827e-05  0.0000000e+00] as keyword args. From version 0.10 passing these as positional arguments will result in an error\n",
      "  mel=np.mean(librosa.feature.melspectrogram(data, sr=sample_rate).T,axis=0)\n"
     ]
    },
    {
     "name": "stdout",
     "output_type": "stream",
     "text": [
      "465\n",
      "surprised_male\n",
      "466\n",
      "surprised_male\n"
     ]
    },
    {
     "name": "stderr",
     "output_type": "stream",
     "text": [
      "/var/folders/7h/3y0jb5yx0g399b2y_qtq_db80000gn/T/ipykernel_26966/1257479974.py:14: FutureWarning: Pass y=[-9.86161540e-05 -1.43113139e-04 -1.23108897e-04 ... -1.17019945e-05\n",
      " -1.96354576e-05  0.00000000e+00] as keyword args. From version 0.10 passing these as positional arguments will result in an error\n",
      "  mel=np.mean(librosa.feature.melspectrogram(data, sr=sample_rate).T,axis=0)\n",
      "/var/folders/7h/3y0jb5yx0g399b2y_qtq_db80000gn/T/ipykernel_26966/1257479974.py:14: FutureWarning: Pass y=[-5.32609374e-05 -9.79144534e-05 -1.15671755e-04 ...  1.10219677e-04\n",
      "  1.16221643e-04  0.00000000e+00] as keyword args. From version 0.10 passing these as positional arguments will result in an error\n",
      "  mel=np.mean(librosa.feature.melspectrogram(data, sr=sample_rate).T,axis=0)\n"
     ]
    },
    {
     "name": "stdout",
     "output_type": "stream",
     "text": [
      "467\n",
      "fearful_male\n",
      "468\n",
      "angry_male\n"
     ]
    },
    {
     "name": "stderr",
     "output_type": "stream",
     "text": [
      "/var/folders/7h/3y0jb5yx0g399b2y_qtq_db80000gn/T/ipykernel_26966/1257479974.py:14: FutureWarning: Pass y=[-4.6461770e-05 -7.7172597e-05 -4.3700282e-05 ... -1.5059415e-04\n",
      " -1.3659081e-04  0.0000000e+00] as keyword args. From version 0.10 passing these as positional arguments will result in an error\n",
      "  mel=np.mean(librosa.feature.melspectrogram(data, sr=sample_rate).T,axis=0)\n"
     ]
    },
    {
     "name": "stdout",
     "output_type": "stream",
     "text": [
      "469\n",
      "angry_male\n"
     ]
    },
    {
     "name": "stderr",
     "output_type": "stream",
     "text": [
      "/var/folders/7h/3y0jb5yx0g399b2y_qtq_db80000gn/T/ipykernel_26966/1257479974.py:14: FutureWarning: Pass y=[1.2960617e-04 2.0241032e-04 1.8527737e-04 ... 3.6391137e-07 3.1094277e-07\n",
      " 0.0000000e+00] as keyword args. From version 0.10 passing these as positional arguments will result in an error\n",
      "  mel=np.mean(librosa.feature.melspectrogram(data, sr=sample_rate).T,axis=0)\n"
     ]
    },
    {
     "name": "stdout",
     "output_type": "stream",
     "text": [
      "470\n",
      "fearful_male\n"
     ]
    },
    {
     "name": "stderr",
     "output_type": "stream",
     "text": [
      "/var/folders/7h/3y0jb5yx0g399b2y_qtq_db80000gn/T/ipykernel_26966/1257479974.py:14: FutureWarning: Pass y=[4.1558615e-06 1.0730954e-05 3.3449264e-06 ... 2.5443043e-04 2.7142451e-04\n",
      " 0.0000000e+00] as keyword args. From version 0.10 passing these as positional arguments will result in an error\n",
      "  mel=np.mean(librosa.feature.melspectrogram(data, sr=sample_rate).T,axis=0)\n",
      "/var/folders/7h/3y0jb5yx0g399b2y_qtq_db80000gn/T/ipykernel_26966/1257479974.py:14: FutureWarning: Pass y=[ 1.5608661e-07 -1.6863905e-07  1.7626513e-07 ...  1.7507411e-04\n",
      "  1.9707772e-04  0.0000000e+00] as keyword args. From version 0.10 passing these as positional arguments will result in an error\n",
      "  mel=np.mean(librosa.feature.melspectrogram(data, sr=sample_rate).T,axis=0)\n"
     ]
    },
    {
     "name": "stdout",
     "output_type": "stream",
     "text": [
      "471\n",
      "sad_male\n",
      "472\n",
      "disgust_male\n",
      "473\n",
      "disgust_male\n"
     ]
    },
    {
     "name": "stderr",
     "output_type": "stream",
     "text": [
      "/var/folders/7h/3y0jb5yx0g399b2y_qtq_db80000gn/T/ipykernel_26966/1257479974.py:14: FutureWarning: Pass y=[-1.3520740e-04 -1.6269597e-04 -5.8098038e-05 ... -1.9813955e-04\n",
      " -2.1266323e-04  0.0000000e+00] as keyword args. From version 0.10 passing these as positional arguments will result in an error\n",
      "  mel=np.mean(librosa.feature.melspectrogram(data, sr=sample_rate).T,axis=0)\n",
      "/var/folders/7h/3y0jb5yx0g399b2y_qtq_db80000gn/T/ipykernel_26966/1257479974.py:14: FutureWarning: Pass y=[ 2.6314476e-07 -1.6889571e-07  4.2059416e-08 ... -1.0943452e-04\n",
      " -1.2766951e-04  0.0000000e+00] as keyword args. From version 0.10 passing these as positional arguments will result in an error\n",
      "  mel=np.mean(librosa.feature.melspectrogram(data, sr=sample_rate).T,axis=0)\n",
      "/var/folders/7h/3y0jb5yx0g399b2y_qtq_db80000gn/T/ipykernel_26966/1257479974.py:14: FutureWarning: Pass y=[-3.5134839e-05 -3.4526438e-05 -2.5953148e-05 ... -8.3475650e-05\n",
      " -8.0003934e-05  0.0000000e+00] as keyword args. From version 0.10 passing these as positional arguments will result in an error\n",
      "  mel=np.mean(librosa.feature.melspectrogram(data, sr=sample_rate).T,axis=0)\n"
     ]
    },
    {
     "name": "stdout",
     "output_type": "stream",
     "text": [
      "474\n",
      "sad_male\n",
      "475\n",
      "surprised_male\n",
      "476\n",
      "surprised_male\n"
     ]
    },
    {
     "name": "stderr",
     "output_type": "stream",
     "text": [
      "/var/folders/7h/3y0jb5yx0g399b2y_qtq_db80000gn/T/ipykernel_26966/1257479974.py:14: FutureWarning: Pass y=[5.2945801e-05 7.6023891e-05 7.0528076e-05 ... 7.4470539e-05 7.7096840e-05\n",
      " 0.0000000e+00] as keyword args. From version 0.10 passing these as positional arguments will result in an error\n",
      "  mel=np.mean(librosa.feature.melspectrogram(data, sr=sample_rate).T,axis=0)\n",
      "/var/folders/7h/3y0jb5yx0g399b2y_qtq_db80000gn/T/ipykernel_26966/1257479974.py:14: FutureWarning: Pass y=[ 4.4217914e-13 -2.9956450e-12  8.3403336e-12 ... -2.0418017e-06\n",
      "  2.1956241e-05  0.0000000e+00] as keyword args. From version 0.10 passing these as positional arguments will result in an error\n",
      "  mel=np.mean(librosa.feature.melspectrogram(data, sr=sample_rate).T,axis=0)\n"
     ]
    },
    {
     "name": "stdout",
     "output_type": "stream",
     "text": [
      "477\n",
      "happy_male\n"
     ]
    },
    {
     "name": "stderr",
     "output_type": "stream",
     "text": [
      "/var/folders/7h/3y0jb5yx0g399b2y_qtq_db80000gn/T/ipykernel_26966/1257479974.py:14: FutureWarning: Pass y=[-0.00027152 -0.00022058  0.00012903 ...  0.00012808  0.00012346\n",
      "  0.        ] as keyword args. From version 0.10 passing these as positional arguments will result in an error\n",
      "  mel=np.mean(librosa.feature.melspectrogram(data, sr=sample_rate).T,axis=0)\n",
      "/var/folders/7h/3y0jb5yx0g399b2y_qtq_db80000gn/T/ipykernel_26966/1257479974.py:14: FutureWarning: Pass y=[1.0450929e-04 2.2035112e-04 6.6784400e-05 ... 7.7998011e-05 8.9548608e-05\n",
      " 0.0000000e+00] as keyword args. From version 0.10 passing these as positional arguments will result in an error\n",
      "  mel=np.mean(librosa.feature.melspectrogram(data, sr=sample_rate).T,axis=0)\n"
     ]
    },
    {
     "name": "stdout",
     "output_type": "stream",
     "text": [
      "478\n",
      "happy_male\n",
      "479\n",
      "calm_male\n"
     ]
    },
    {
     "name": "stderr",
     "output_type": "stream",
     "text": [
      "/var/folders/7h/3y0jb5yx0g399b2y_qtq_db80000gn/T/ipykernel_26966/1257479974.py:14: FutureWarning: Pass y=[ 4.30131659e-05  4.52423337e-05  3.90524547e-05 ...  1.41029162e-07\n",
      " -1.07536515e-07  0.00000000e+00] as keyword args. From version 0.10 passing these as positional arguments will result in an error\n",
      "  mel=np.mean(librosa.feature.melspectrogram(data, sr=sample_rate).T,axis=0)\n",
      "/var/folders/7h/3y0jb5yx0g399b2y_qtq_db80000gn/T/ipykernel_26966/1257479974.py:14: FutureWarning: Pass y=[-2.7080548e-06  1.1074405e-05  2.5467727e-05 ... -7.3505813e-05\n",
      " -8.3582665e-05  0.0000000e+00] as keyword args. From version 0.10 passing these as positional arguments will result in an error\n",
      "  mel=np.mean(librosa.feature.melspectrogram(data, sr=sample_rate).T,axis=0)\n"
     ]
    },
    {
     "name": "stdout",
     "output_type": "stream",
     "text": [
      "480\n",
      "calm_male\n",
      "481\n",
      "neutral_male\n",
      "482\n",
      "happy_female\n"
     ]
    },
    {
     "name": "stderr",
     "output_type": "stream",
     "text": [
      "/var/folders/7h/3y0jb5yx0g399b2y_qtq_db80000gn/T/ipykernel_26966/1257479974.py:14: FutureWarning: Pass y=[ 6.4562897e-05  1.0175938e-04  7.3685034e-05 ... -3.2655691e-06\n",
      " -1.2816791e-05  0.0000000e+00] as keyword args. From version 0.10 passing these as positional arguments will result in an error\n",
      "  mel=np.mean(librosa.feature.melspectrogram(data, sr=sample_rate).T,axis=0)\n",
      "/var/folders/7h/3y0jb5yx0g399b2y_qtq_db80000gn/T/ipykernel_26966/1257479974.py:14: FutureWarning: Pass y=[ 9.8418614e-06  7.9208539e-06 -2.5509203e-06 ...  2.5843678e-07\n",
      "  6.8212209e-08  0.0000000e+00] as keyword args. From version 0.10 passing these as positional arguments will result in an error\n",
      "  mel=np.mean(librosa.feature.melspectrogram(data, sr=sample_rate).T,axis=0)\n",
      "/var/folders/7h/3y0jb5yx0g399b2y_qtq_db80000gn/T/ipykernel_26966/1257479974.py:14: FutureWarning: Pass y=[-7.0544836e-08  5.3077937e-08 -2.8910723e-08 ...  9.1425420e-07\n",
      " -6.8033705e-07  0.0000000e+00] as keyword args. From version 0.10 passing these as positional arguments will result in an error\n",
      "  mel=np.mean(librosa.feature.melspectrogram(data, sr=sample_rate).T,axis=0)\n"
     ]
    },
    {
     "name": "stdout",
     "output_type": "stream",
     "text": [
      "483\n",
      "happy_female\n",
      "484\n",
      "calm_female\n"
     ]
    },
    {
     "name": "stderr",
     "output_type": "stream",
     "text": [
      "/var/folders/7h/3y0jb5yx0g399b2y_qtq_db80000gn/T/ipykernel_26966/1257479974.py:14: FutureWarning: Pass y=[ 0.000000e+00  0.000000e+00  0.000000e+00 ...  3.263246e-08 -7.992222e-08\n",
      "  0.000000e+00] as keyword args. From version 0.10 passing these as positional arguments will result in an error\n",
      "  mel=np.mean(librosa.feature.melspectrogram(data, sr=sample_rate).T,axis=0)\n"
     ]
    },
    {
     "name": "stdout",
     "output_type": "stream",
     "text": [
      "485\n",
      "neutral_female\n",
      "486\n",
      "calm_female\n"
     ]
    },
    {
     "name": "stderr",
     "output_type": "stream",
     "text": [
      "/var/folders/7h/3y0jb5yx0g399b2y_qtq_db80000gn/T/ipykernel_26966/1257479974.py:14: FutureWarning: Pass y=[0.000000e+00 0.000000e+00 0.000000e+00 ... 8.850562e-05 9.355440e-05\n",
      " 0.000000e+00] as keyword args. From version 0.10 passing these as positional arguments will result in an error\n",
      "  mel=np.mean(librosa.feature.melspectrogram(data, sr=sample_rate).T,axis=0)\n",
      "/var/folders/7h/3y0jb5yx0g399b2y_qtq_db80000gn/T/ipykernel_26966/1257479974.py:14: FutureWarning: Pass y=[ 0.00000000e+00  0.00000000e+00  0.00000000e+00 ... -1.06968365e-07\n",
      "  1.00421225e-07  0.00000000e+00] as keyword args. From version 0.10 passing these as positional arguments will result in an error\n",
      "  mel=np.mean(librosa.feature.melspectrogram(data, sr=sample_rate).T,axis=0)\n"
     ]
    },
    {
     "name": "stdout",
     "output_type": "stream",
     "text": [
      "487\n",
      "angry_female\n",
      "488\n",
      "fearful_female\n"
     ]
    },
    {
     "name": "stderr",
     "output_type": "stream",
     "text": [
      "/var/folders/7h/3y0jb5yx0g399b2y_qtq_db80000gn/T/ipykernel_26966/1257479974.py:14: FutureWarning: Pass y=[0.0000000e+00 0.0000000e+00 0.0000000e+00 ... 5.0913775e-05 4.1542891e-05\n",
      " 0.0000000e+00] as keyword args. From version 0.10 passing these as positional arguments will result in an error\n",
      "  mel=np.mean(librosa.feature.melspectrogram(data, sr=sample_rate).T,axis=0)\n",
      "/var/folders/7h/3y0jb5yx0g399b2y_qtq_db80000gn/T/ipykernel_26966/1257479974.py:14: FutureWarning: Pass y=[ 0.0000000e+00  0.0000000e+00  0.0000000e+00 ... -1.3331844e-05\n",
      " -1.5256143e-05  0.0000000e+00] as keyword args. From version 0.10 passing these as positional arguments will result in an error\n",
      "  mel=np.mean(librosa.feature.melspectrogram(data, sr=sample_rate).T,axis=0)\n"
     ]
    },
    {
     "name": "stdout",
     "output_type": "stream",
     "text": [
      "489\n",
      "fearful_female\n",
      "490\n",
      "angry_female\n"
     ]
    },
    {
     "name": "stderr",
     "output_type": "stream",
     "text": [
      "/var/folders/7h/3y0jb5yx0g399b2y_qtq_db80000gn/T/ipykernel_26966/1257479974.py:14: FutureWarning: Pass y=[ 0.0000000e+00  0.0000000e+00  0.0000000e+00 ... -1.2839567e-05\n",
      "  1.0619842e-06  0.0000000e+00] as keyword args. From version 0.10 passing these as positional arguments will result in an error\n",
      "  mel=np.mean(librosa.feature.melspectrogram(data, sr=sample_rate).T,axis=0)\n"
     ]
    },
    {
     "name": "stdout",
     "output_type": "stream",
     "text": [
      "491\n",
      "disgust_female\n"
     ]
    },
    {
     "name": "stderr",
     "output_type": "stream",
     "text": [
      "/var/folders/7h/3y0jb5yx0g399b2y_qtq_db80000gn/T/ipykernel_26966/1257479974.py:14: FutureWarning: Pass y=[0.0000000e+00 0.0000000e+00 0.0000000e+00 ... 6.7043793e-06 8.8815286e-06\n",
      " 0.0000000e+00] as keyword args. From version 0.10 passing these as positional arguments will result in an error\n",
      "  mel=np.mean(librosa.feature.melspectrogram(data, sr=sample_rate).T,axis=0)\n",
      "/var/folders/7h/3y0jb5yx0g399b2y_qtq_db80000gn/T/ipykernel_26966/1257479974.py:14: FutureWarning: Pass y=[ 0.0000000e+00  0.0000000e+00  0.0000000e+00 ... -3.4448483e-06\n",
      "  2.3235782e-05  0.0000000e+00] as keyword args. From version 0.10 passing these as positional arguments will result in an error\n",
      "  mel=np.mean(librosa.feature.melspectrogram(data, sr=sample_rate).T,axis=0)\n"
     ]
    },
    {
     "name": "stdout",
     "output_type": "stream",
     "text": [
      "492\n",
      "sad_female\n",
      "493\n",
      "sad_female\n"
     ]
    },
    {
     "name": "stderr",
     "output_type": "stream",
     "text": [
      "/var/folders/7h/3y0jb5yx0g399b2y_qtq_db80000gn/T/ipykernel_26966/1257479974.py:14: FutureWarning: Pass y=[ 6.8366070e-08  2.9552828e-08 -1.6867115e-07 ...  6.4451269e-05\n",
      "  5.6105462e-05  0.0000000e+00] as keyword args. From version 0.10 passing these as positional arguments will result in an error\n",
      "  mel=np.mean(librosa.feature.melspectrogram(data, sr=sample_rate).T,axis=0)\n"
     ]
    },
    {
     "name": "stdout",
     "output_type": "stream",
     "text": [
      "494\n",
      "disgust_female\n"
     ]
    },
    {
     "name": "stderr",
     "output_type": "stream",
     "text": [
      "/var/folders/7h/3y0jb5yx0g399b2y_qtq_db80000gn/T/ipykernel_26966/1257479974.py:14: FutureWarning: Pass y=[ 0.0000000e+00  0.0000000e+00  0.0000000e+00 ... -2.3573888e-05\n",
      " -9.4219082e-05  0.0000000e+00] as keyword args. From version 0.10 passing these as positional arguments will result in an error\n",
      "  mel=np.mean(librosa.feature.melspectrogram(data, sr=sample_rate).T,axis=0)\n",
      "/var/folders/7h/3y0jb5yx0g399b2y_qtq_db80000gn/T/ipykernel_26966/1257479974.py:14: FutureWarning: Pass y=[ 0.0000000e+00  0.0000000e+00  0.0000000e+00 ... -2.0755064e-07\n",
      "  1.6927652e-07  0.0000000e+00] as keyword args. From version 0.10 passing these as positional arguments will result in an error\n",
      "  mel=np.mean(librosa.feature.melspectrogram(data, sr=sample_rate).T,axis=0)\n"
     ]
    },
    {
     "name": "stdout",
     "output_type": "stream",
     "text": [
      "495\n",
      "surprised_female\n",
      "496\n",
      "surprised_female\n"
     ]
    },
    {
     "name": "stderr",
     "output_type": "stream",
     "text": [
      "/var/folders/7h/3y0jb5yx0g399b2y_qtq_db80000gn/T/ipykernel_26966/1257479974.py:14: FutureWarning: Pass y=[ 0.0000000e+00  0.0000000e+00  0.0000000e+00 ...  3.3695849e-07\n",
      " -2.0534759e-07  0.0000000e+00] as keyword args. From version 0.10 passing these as positional arguments will result in an error\n",
      "  mel=np.mean(librosa.feature.melspectrogram(data, sr=sample_rate).T,axis=0)\n",
      "/var/folders/7h/3y0jb5yx0g399b2y_qtq_db80000gn/T/ipykernel_26966/1257479974.py:14: FutureWarning: Pass y=[ 0.0000000e+00  0.0000000e+00  0.0000000e+00 ...  5.8903436e-07\n",
      " -2.7626092e-07  0.0000000e+00] as keyword args. From version 0.10 passing these as positional arguments will result in an error\n",
      "  mel=np.mean(librosa.feature.melspectrogram(data, sr=sample_rate).T,axis=0)\n"
     ]
    },
    {
     "name": "stdout",
     "output_type": "stream",
     "text": [
      "497\n",
      "fearful_female\n",
      "498\n",
      "angry_female\n"
     ]
    },
    {
     "name": "stderr",
     "output_type": "stream",
     "text": [
      "/var/folders/7h/3y0jb5yx0g399b2y_qtq_db80000gn/T/ipykernel_26966/1257479974.py:14: FutureWarning: Pass y=[ 0.0000000e+00  0.0000000e+00  0.0000000e+00 ...  2.6899039e-12\n",
      " -1.2921866e-12  0.0000000e+00] as keyword args. From version 0.10 passing these as positional arguments will result in an error\n",
      "  mel=np.mean(librosa.feature.melspectrogram(data, sr=sample_rate).T,axis=0)\n"
     ]
    },
    {
     "name": "stdout",
     "output_type": "stream",
     "text": [
      "499\n",
      "angry_female\n"
     ]
    },
    {
     "name": "stderr",
     "output_type": "stream",
     "text": [
      "/var/folders/7h/3y0jb5yx0g399b2y_qtq_db80000gn/T/ipykernel_26966/1257479974.py:14: FutureWarning: Pass y=[ 0.0000000e+00  0.0000000e+00  0.0000000e+00 ... -5.9732952e-06\n",
      " -1.1245642e-05  0.0000000e+00] as keyword args. From version 0.10 passing these as positional arguments will result in an error\n",
      "  mel=np.mean(librosa.feature.melspectrogram(data, sr=sample_rate).T,axis=0)\n"
     ]
    },
    {
     "name": "stdout",
     "output_type": "stream",
     "text": [
      "500\n",
      "fearful_female\n"
     ]
    },
    {
     "name": "stderr",
     "output_type": "stream",
     "text": [
      "/var/folders/7h/3y0jb5yx0g399b2y_qtq_db80000gn/T/ipykernel_26966/1257479974.py:14: FutureWarning: Pass y=[ 0.0000000e+00  0.0000000e+00  0.0000000e+00 ...  8.6584917e-10\n",
      " -5.3526783e-10  0.0000000e+00] as keyword args. From version 0.10 passing these as positional arguments will result in an error\n",
      "  mel=np.mean(librosa.feature.melspectrogram(data, sr=sample_rate).T,axis=0)\n"
     ]
    },
    {
     "name": "stdout",
     "output_type": "stream",
     "text": [
      "501\n",
      "sad_female\n"
     ]
    },
    {
     "name": "stderr",
     "output_type": "stream",
     "text": [
      "/var/folders/7h/3y0jb5yx0g399b2y_qtq_db80000gn/T/ipykernel_26966/1257479974.py:14: FutureWarning: Pass y=[ 0.0000000e+00  0.0000000e+00  0.0000000e+00 ... -4.0829309e-07\n",
      " -1.9563437e-08  0.0000000e+00] as keyword args. From version 0.10 passing these as positional arguments will result in an error\n",
      "  mel=np.mean(librosa.feature.melspectrogram(data, sr=sample_rate).T,axis=0)\n"
     ]
    },
    {
     "name": "stdout",
     "output_type": "stream",
     "text": [
      "502\n",
      "disgust_female\n"
     ]
    },
    {
     "name": "stderr",
     "output_type": "stream",
     "text": [
      "/var/folders/7h/3y0jb5yx0g399b2y_qtq_db80000gn/T/ipykernel_26966/1257479974.py:14: FutureWarning: Pass y=[-1.7531939e-08  1.5672988e-08 -1.2081760e-08 ...  1.1406724e-10\n",
      " -9.0169580e-11  0.0000000e+00] as keyword args. From version 0.10 passing these as positional arguments will result in an error\n",
      "  mel=np.mean(librosa.feature.melspectrogram(data, sr=sample_rate).T,axis=0)\n"
     ]
    },
    {
     "name": "stdout",
     "output_type": "stream",
     "text": [
      "503\n",
      "disgust_female\n"
     ]
    },
    {
     "name": "stderr",
     "output_type": "stream",
     "text": [
      "/var/folders/7h/3y0jb5yx0g399b2y_qtq_db80000gn/T/ipykernel_26966/1257479974.py:14: FutureWarning: Pass y=[ 0.0000000e+00  0.0000000e+00  0.0000000e+00 ...  2.6500063e-06\n",
      " -1.3668368e-05  0.0000000e+00] as keyword args. From version 0.10 passing these as positional arguments will result in an error\n",
      "  mel=np.mean(librosa.feature.melspectrogram(data, sr=sample_rate).T,axis=0)\n"
     ]
    },
    {
     "name": "stdout",
     "output_type": "stream",
     "text": [
      "504\n",
      "sad_female\n"
     ]
    },
    {
     "name": "stderr",
     "output_type": "stream",
     "text": [
      "/var/folders/7h/3y0jb5yx0g399b2y_qtq_db80000gn/T/ipykernel_26966/1257479974.py:14: FutureWarning: Pass y=[ 0.0000000e+00  0.0000000e+00  0.0000000e+00 ...  2.8302105e-07\n",
      " -2.9382261e-07  0.0000000e+00] as keyword args. From version 0.10 passing these as positional arguments will result in an error\n",
      "  mel=np.mean(librosa.feature.melspectrogram(data, sr=sample_rate).T,axis=0)\n",
      "/var/folders/7h/3y0jb5yx0g399b2y_qtq_db80000gn/T/ipykernel_26966/1257479974.py:14: FutureWarning: Pass y=[ 0.0000000e+00  0.0000000e+00  0.0000000e+00 ... -6.5211570e-06\n",
      "  2.4429964e-06  0.0000000e+00] as keyword args. From version 0.10 passing these as positional arguments will result in an error\n",
      "  mel=np.mean(librosa.feature.melspectrogram(data, sr=sample_rate).T,axis=0)\n"
     ]
    },
    {
     "name": "stdout",
     "output_type": "stream",
     "text": [
      "505\n",
      "surprised_female\n",
      "506\n",
      "surprised_female\n"
     ]
    },
    {
     "name": "stderr",
     "output_type": "stream",
     "text": [
      "/var/folders/7h/3y0jb5yx0g399b2y_qtq_db80000gn/T/ipykernel_26966/1257479974.py:14: FutureWarning: Pass y=[ 0.000000e+00  0.000000e+00  0.000000e+00 ... -6.532942e-08  5.181861e-08\n",
      "  0.000000e+00] as keyword args. From version 0.10 passing these as positional arguments will result in an error\n",
      "  mel=np.mean(librosa.feature.melspectrogram(data, sr=sample_rate).T,axis=0)\n"
     ]
    },
    {
     "name": "stdout",
     "output_type": "stream",
     "text": [
      "507\n",
      "happy_female\n"
     ]
    },
    {
     "name": "stderr",
     "output_type": "stream",
     "text": [
      "/var/folders/7h/3y0jb5yx0g399b2y_qtq_db80000gn/T/ipykernel_26966/1257479974.py:14: FutureWarning: Pass y=[ 3.2138919e-07 -3.7358197e-07  4.2496146e-07 ... -3.1364739e-06\n",
      " -4.6013697e-06  0.0000000e+00] as keyword args. From version 0.10 passing these as positional arguments will result in an error\n",
      "  mel=np.mean(librosa.feature.melspectrogram(data, sr=sample_rate).T,axis=0)\n",
      "/var/folders/7h/3y0jb5yx0g399b2y_qtq_db80000gn/T/ipykernel_26966/1257479974.py:14: FutureWarning: Pass y=[-1.5309075e-08  1.2280495e-08 -7.4909305e-09 ... -3.1193269e-06\n",
      "  5.8781015e-06  0.0000000e+00] as keyword args. From version 0.10 passing these as positional arguments will result in an error\n",
      "  mel=np.mean(librosa.feature.melspectrogram(data, sr=sample_rate).T,axis=0)\n"
     ]
    },
    {
     "name": "stdout",
     "output_type": "stream",
     "text": [
      "508\n",
      "happy_female\n",
      "509\n",
      "calm_female\n"
     ]
    },
    {
     "name": "stderr",
     "output_type": "stream",
     "text": [
      "/var/folders/7h/3y0jb5yx0g399b2y_qtq_db80000gn/T/ipykernel_26966/1257479974.py:14: FutureWarning: Pass y=[ 0.00000000e+00  0.00000000e+00  0.00000000e+00 ... -1.10348965e-05\n",
      "  6.88372154e-07  0.00000000e+00] as keyword args. From version 0.10 passing these as positional arguments will result in an error\n",
      "  mel=np.mean(librosa.feature.melspectrogram(data, sr=sample_rate).T,axis=0)\n"
     ]
    },
    {
     "name": "stdout",
     "output_type": "stream",
     "text": [
      "510\n",
      "calm_female\n"
     ]
    },
    {
     "name": "stderr",
     "output_type": "stream",
     "text": [
      "/var/folders/7h/3y0jb5yx0g399b2y_qtq_db80000gn/T/ipykernel_26966/1257479974.py:14: FutureWarning: Pass y=[ 0.0000000e+00  0.0000000e+00  0.0000000e+00 ... -9.3479080e-08\n",
      "  1.8690997e-07  0.0000000e+00] as keyword args. From version 0.10 passing these as positional arguments will result in an error\n",
      "  mel=np.mean(librosa.feature.melspectrogram(data, sr=sample_rate).T,axis=0)\n",
      "/var/folders/7h/3y0jb5yx0g399b2y_qtq_db80000gn/T/ipykernel_26966/1257479974.py:14: FutureWarning: Pass y=[0.0000000e+00 0.0000000e+00 0.0000000e+00 ... 6.5810023e-06 8.7937851e-06\n",
      " 0.0000000e+00] as keyword args. From version 0.10 passing these as positional arguments will result in an error\n",
      "  mel=np.mean(librosa.feature.melspectrogram(data, sr=sample_rate).T,axis=0)\n"
     ]
    },
    {
     "name": "stdout",
     "output_type": "stream",
     "text": [
      "511\n",
      "neutral_female\n",
      "512\n",
      "disgust_female\n"
     ]
    },
    {
     "name": "stderr",
     "output_type": "stream",
     "text": [
      "/var/folders/7h/3y0jb5yx0g399b2y_qtq_db80000gn/T/ipykernel_26966/1257479974.py:14: FutureWarning: Pass y=[ 0.0000000e+00  0.0000000e+00  0.0000000e+00 ... -1.2810632e-04\n",
      " -1.7050814e-05  0.0000000e+00] as keyword args. From version 0.10 passing these as positional arguments will result in an error\n",
      "  mel=np.mean(librosa.feature.melspectrogram(data, sr=sample_rate).T,axis=0)\n"
     ]
    },
    {
     "name": "stdout",
     "output_type": "stream",
     "text": [
      "513\n",
      "sad_female\n"
     ]
    },
    {
     "name": "stderr",
     "output_type": "stream",
     "text": [
      "/var/folders/7h/3y0jb5yx0g399b2y_qtq_db80000gn/T/ipykernel_26966/1257479974.py:14: FutureWarning: Pass y=[-1.4496416e-07  1.4622780e-07 -1.4096608e-07 ...  1.0934523e-06\n",
      " -1.1142139e-06  0.0000000e+00] as keyword args. From version 0.10 passing these as positional arguments will result in an error\n",
      "  mel=np.mean(librosa.feature.melspectrogram(data, sr=sample_rate).T,axis=0)\n",
      "/var/folders/7h/3y0jb5yx0g399b2y_qtq_db80000gn/T/ipykernel_26966/1257479974.py:14: FutureWarning: Pass y=[ 0.0000000e+00 -1.1271335e-12  2.5626274e-12 ...  5.8431265e-06\n",
      "  1.0644371e-05  0.0000000e+00] as keyword args. From version 0.10 passing these as positional arguments will result in an error\n",
      "  mel=np.mean(librosa.feature.melspectrogram(data, sr=sample_rate).T,axis=0)\n"
     ]
    },
    {
     "name": "stdout",
     "output_type": "stream",
     "text": [
      "514\n",
      "sad_female\n",
      "515\n",
      "disgust_female\n"
     ]
    },
    {
     "name": "stderr",
     "output_type": "stream",
     "text": [
      "/var/folders/7h/3y0jb5yx0g399b2y_qtq_db80000gn/T/ipykernel_26966/1257479974.py:14: FutureWarning: Pass y=[ 0.0000000e+00  0.0000000e+00  0.0000000e+00 ...  1.5762036e-05\n",
      " -4.4951958e-06  0.0000000e+00] as keyword args. From version 0.10 passing these as positional arguments will result in an error\n",
      "  mel=np.mean(librosa.feature.melspectrogram(data, sr=sample_rate).T,axis=0)\n"
     ]
    },
    {
     "name": "stdout",
     "output_type": "stream",
     "text": [
      "516\n",
      "angry_female\n"
     ]
    },
    {
     "name": "stderr",
     "output_type": "stream",
     "text": [
      "/var/folders/7h/3y0jb5yx0g399b2y_qtq_db80000gn/T/ipykernel_26966/1257479974.py:14: FutureWarning: Pass y=[0.0000000e+00 0.0000000e+00 0.0000000e+00 ... 2.6460168e-05 4.2890519e-05\n",
      " 0.0000000e+00] as keyword args. From version 0.10 passing these as positional arguments will result in an error\n",
      "  mel=np.mean(librosa.feature.melspectrogram(data, sr=sample_rate).T,axis=0)\n"
     ]
    },
    {
     "name": "stdout",
     "output_type": "stream",
     "text": [
      "517\n",
      "fearful_female\n"
     ]
    },
    {
     "name": "stderr",
     "output_type": "stream",
     "text": [
      "/var/folders/7h/3y0jb5yx0g399b2y_qtq_db80000gn/T/ipykernel_26966/1257479974.py:14: FutureWarning: Pass y=[0.0000000e+00 0.0000000e+00 0.0000000e+00 ... 1.1387123e-05 4.5486499e-06\n",
      " 0.0000000e+00] as keyword args. From version 0.10 passing these as positional arguments will result in an error\n",
      "  mel=np.mean(librosa.feature.melspectrogram(data, sr=sample_rate).T,axis=0)\n",
      "/var/folders/7h/3y0jb5yx0g399b2y_qtq_db80000gn/T/ipykernel_26966/1257479974.py:14: FutureWarning: Pass y=[ 0.0000000e+00  0.0000000e+00  0.0000000e+00 ... -5.7073544e-07\n",
      "  4.9573129e-07  0.0000000e+00] as keyword args. From version 0.10 passing these as positional arguments will result in an error\n",
      "  mel=np.mean(librosa.feature.melspectrogram(data, sr=sample_rate).T,axis=0)\n"
     ]
    },
    {
     "name": "stdout",
     "output_type": "stream",
     "text": [
      "518\n",
      "fearful_female\n",
      "519\n",
      "angry_female\n"
     ]
    },
    {
     "name": "stderr",
     "output_type": "stream",
     "text": [
      "/var/folders/7h/3y0jb5yx0g399b2y_qtq_db80000gn/T/ipykernel_26966/1257479974.py:14: FutureWarning: Pass y=[1.9861318e-05 5.8899441e-05 5.7661349e-05 ... 0.0000000e+00 0.0000000e+00\n",
      " 0.0000000e+00] as keyword args. From version 0.10 passing these as positional arguments will result in an error\n",
      "  mel=np.mean(librosa.feature.melspectrogram(data, sr=sample_rate).T,axis=0)\n",
      "/var/folders/7h/3y0jb5yx0g399b2y_qtq_db80000gn/T/ipykernel_26966/1257479974.py:14: FutureWarning: Pass y=[ 0.0000000e+00  0.0000000e+00  0.0000000e+00 ... -2.3242699e-06\n",
      "  1.7577283e-06  0.0000000e+00] as keyword args. From version 0.10 passing these as positional arguments will result in an error\n",
      "  mel=np.mean(librosa.feature.melspectrogram(data, sr=sample_rate).T,axis=0)\n"
     ]
    },
    {
     "name": "stdout",
     "output_type": "stream",
     "text": [
      "520\n",
      "surprised_female\n",
      "521\n",
      "surprised_female\n"
     ]
    },
    {
     "name": "stderr",
     "output_type": "stream",
     "text": [
      "/var/folders/7h/3y0jb5yx0g399b2y_qtq_db80000gn/T/ipykernel_26966/1257479974.py:14: FutureWarning: Pass y=[ 0.0000000e+00  0.0000000e+00  0.0000000e+00 ... -3.4930705e-05\n",
      " -1.6901327e-05  0.0000000e+00] as keyword args. From version 0.10 passing these as positional arguments will result in an error\n",
      "  mel=np.mean(librosa.feature.melspectrogram(data, sr=sample_rate).T,axis=0)\n",
      "/var/folders/7h/3y0jb5yx0g399b2y_qtq_db80000gn/T/ipykernel_26966/1257479974.py:14: FutureWarning: Pass y=[ 0.0000000e+00  0.0000000e+00  0.0000000e+00 ... -3.9695927e-08\n",
      "  1.7241017e-07  0.0000000e+00] as keyword args. From version 0.10 passing these as positional arguments will result in an error\n",
      "  mel=np.mean(librosa.feature.melspectrogram(data, sr=sample_rate).T,axis=0)\n"
     ]
    },
    {
     "name": "stdout",
     "output_type": "stream",
     "text": [
      "522\n",
      "calm_female\n",
      "523\n",
      "neutral_female\n"
     ]
    },
    {
     "name": "stderr",
     "output_type": "stream",
     "text": [
      "/var/folders/7h/3y0jb5yx0g399b2y_qtq_db80000gn/T/ipykernel_26966/1257479974.py:14: FutureWarning: Pass y=[ 0.0000000e+00  0.0000000e+00  0.0000000e+00 ... -1.4738177e-09\n",
      "  3.9362691e-10  0.0000000e+00] as keyword args. From version 0.10 passing these as positional arguments will result in an error\n",
      "  mel=np.mean(librosa.feature.melspectrogram(data, sr=sample_rate).T,axis=0)\n"
     ]
    },
    {
     "name": "stdout",
     "output_type": "stream",
     "text": [
      "524\n",
      "calm_female\n"
     ]
    },
    {
     "name": "stderr",
     "output_type": "stream",
     "text": [
      "/var/folders/7h/3y0jb5yx0g399b2y_qtq_db80000gn/T/ipykernel_26966/1257479974.py:14: FutureWarning: Pass y=[ 0.0000000e+00  0.0000000e+00  0.0000000e+00 ... -8.3864206e-06\n",
      " -1.0174103e-05  0.0000000e+00] as keyword args. From version 0.10 passing these as positional arguments will result in an error\n",
      "  mel=np.mean(librosa.feature.melspectrogram(data, sr=sample_rate).T,axis=0)\n",
      "/var/folders/7h/3y0jb5yx0g399b2y_qtq_db80000gn/T/ipykernel_26966/1257479974.py:14: FutureWarning: Pass y=[ 0.0000000e+00  0.0000000e+00  0.0000000e+00 ... -8.8874694e-09\n",
      "  7.0100095e-09  0.0000000e+00] as keyword args. From version 0.10 passing these as positional arguments will result in an error\n",
      "  mel=np.mean(librosa.feature.melspectrogram(data, sr=sample_rate).T,axis=0)\n"
     ]
    },
    {
     "name": "stdout",
     "output_type": "stream",
     "text": [
      "525\n",
      "happy_female\n",
      "526\n",
      "happy_female\n"
     ]
    },
    {
     "name": "stderr",
     "output_type": "stream",
     "text": [
      "/var/folders/7h/3y0jb5yx0g399b2y_qtq_db80000gn/T/ipykernel_26966/1257479974.py:14: FutureWarning: Pass y=[ 0.0000000e+00  0.0000000e+00  0.0000000e+00 ... -2.5576993e-10\n",
      " -8.7286324e-11  0.0000000e+00] as keyword args. From version 0.10 passing these as positional arguments will result in an error\n",
      "  mel=np.mean(librosa.feature.melspectrogram(data, sr=sample_rate).T,axis=0)\n"
     ]
    },
    {
     "name": "stdout",
     "output_type": "stream",
     "text": [
      "527\n",
      "neutral_female\n",
      "528\n",
      "calm_female\n"
     ]
    },
    {
     "name": "stderr",
     "output_type": "stream",
     "text": [
      "/var/folders/7h/3y0jb5yx0g399b2y_qtq_db80000gn/T/ipykernel_26966/1257479974.py:14: FutureWarning: Pass y=[ 0.0000000e+00  0.0000000e+00  0.0000000e+00 ...  4.6863011e-08\n",
      " -1.2117937e-07  0.0000000e+00] as keyword args. From version 0.10 passing these as positional arguments will result in an error\n",
      "  mel=np.mean(librosa.feature.melspectrogram(data, sr=sample_rate).T,axis=0)\n"
     ]
    },
    {
     "name": "stdout",
     "output_type": "stream",
     "text": [
      "529\n",
      "calm_female\n"
     ]
    },
    {
     "name": "stderr",
     "output_type": "stream",
     "text": [
      "/var/folders/7h/3y0jb5yx0g399b2y_qtq_db80000gn/T/ipykernel_26966/1257479974.py:14: FutureWarning: Pass y=[ 0.0000000e+00  0.0000000e+00  0.0000000e+00 ... -1.8683699e-05\n",
      " -7.3046585e-06  0.0000000e+00] as keyword args. From version 0.10 passing these as positional arguments will result in an error\n",
      "  mel=np.mean(librosa.feature.melspectrogram(data, sr=sample_rate).T,axis=0)\n",
      "/var/folders/7h/3y0jb5yx0g399b2y_qtq_db80000gn/T/ipykernel_26966/1257479974.py:14: FutureWarning: Pass y=[ 1.3583383e-11 -2.1572934e-11  3.2450261e-11 ...  2.0202019e-12\n",
      " -9.2696337e-13  0.0000000e+00] as keyword args. From version 0.10 passing these as positional arguments will result in an error\n",
      "  mel=np.mean(librosa.feature.melspectrogram(data, sr=sample_rate).T,axis=0)\n"
     ]
    },
    {
     "name": "stdout",
     "output_type": "stream",
     "text": [
      "530\n",
      "happy_female\n",
      "531\n",
      "happy_female\n"
     ]
    },
    {
     "name": "stderr",
     "output_type": "stream",
     "text": [
      "/var/folders/7h/3y0jb5yx0g399b2y_qtq_db80000gn/T/ipykernel_26966/1257479974.py:14: FutureWarning: Pass y=[ 0.0000000e+00  0.0000000e+00  0.0000000e+00 ... -5.6507242e-06\n",
      "  2.9790274e-06  0.0000000e+00] as keyword args. From version 0.10 passing these as positional arguments will result in an error\n",
      "  mel=np.mean(librosa.feature.melspectrogram(data, sr=sample_rate).T,axis=0)\n"
     ]
    },
    {
     "name": "stdout",
     "output_type": "stream",
     "text": [
      "532\n",
      "sad_female\n"
     ]
    },
    {
     "name": "stderr",
     "output_type": "stream",
     "text": [
      "/var/folders/7h/3y0jb5yx0g399b2y_qtq_db80000gn/T/ipykernel_26966/1257479974.py:14: FutureWarning: Pass y=[-8.8446985e-05 -1.2454676e-04 -7.5859469e-05 ...  1.0507786e-07\n",
      " -1.6139924e-07  0.0000000e+00] as keyword args. From version 0.10 passing these as positional arguments will result in an error\n",
      "  mel=np.mean(librosa.feature.melspectrogram(data, sr=sample_rate).T,axis=0)\n"
     ]
    },
    {
     "name": "stdout",
     "output_type": "stream",
     "text": [
      "533\n",
      "disgust_female\n"
     ]
    },
    {
     "name": "stderr",
     "output_type": "stream",
     "text": [
      "/var/folders/7h/3y0jb5yx0g399b2y_qtq_db80000gn/T/ipykernel_26966/1257479974.py:14: FutureWarning: Pass y=[0.0000000e+00 0.0000000e+00 0.0000000e+00 ... 3.3067558e-05 4.1466599e-05\n",
      " 0.0000000e+00] as keyword args. From version 0.10 passing these as positional arguments will result in an error\n",
      "  mel=np.mean(librosa.feature.melspectrogram(data, sr=sample_rate).T,axis=0)\n"
     ]
    },
    {
     "name": "stdout",
     "output_type": "stream",
     "text": [
      "534\n",
      "disgust_female\n"
     ]
    },
    {
     "name": "stderr",
     "output_type": "stream",
     "text": [
      "/var/folders/7h/3y0jb5yx0g399b2y_qtq_db80000gn/T/ipykernel_26966/1257479974.py:14: FutureWarning: Pass y=[-1.3706199e-07  1.4550348e-07 -1.4917872e-07 ... -5.8001007e-07\n",
      "  4.4749022e-06  0.0000000e+00] as keyword args. From version 0.10 passing these as positional arguments will result in an error\n",
      "  mel=np.mean(librosa.feature.melspectrogram(data, sr=sample_rate).T,axis=0)\n"
     ]
    },
    {
     "name": "stdout",
     "output_type": "stream",
     "text": [
      "535\n",
      "sad_female\n"
     ]
    },
    {
     "name": "stderr",
     "output_type": "stream",
     "text": [
      "/var/folders/7h/3y0jb5yx0g399b2y_qtq_db80000gn/T/ipykernel_26966/1257479974.py:14: FutureWarning: Pass y=[ 0.000000e+00  0.000000e+00  0.000000e+00 ... -2.265610e-05 -8.344882e-06\n",
      "  0.000000e+00] as keyword args. From version 0.10 passing these as positional arguments will result in an error\n",
      "  mel=np.mean(librosa.feature.melspectrogram(data, sr=sample_rate).T,axis=0)\n",
      "/var/folders/7h/3y0jb5yx0g399b2y_qtq_db80000gn/T/ipykernel_26966/1257479974.py:14: FutureWarning: Pass y=[ 1.9794533e-10 -2.1321758e-10  2.0017493e-10 ... -4.6169884e-08\n",
      "  4.6619817e-08  0.0000000e+00] as keyword args. From version 0.10 passing these as positional arguments will result in an error\n",
      "  mel=np.mean(librosa.feature.melspectrogram(data, sr=sample_rate).T,axis=0)\n"
     ]
    },
    {
     "name": "stdout",
     "output_type": "stream",
     "text": [
      "536\n",
      "fearful_female\n",
      "537\n",
      "angry_female\n"
     ]
    },
    {
     "name": "stderr",
     "output_type": "stream",
     "text": [
      "/var/folders/7h/3y0jb5yx0g399b2y_qtq_db80000gn/T/ipykernel_26966/1257479974.py:14: FutureWarning: Pass y=[-2.2149584e-09  4.0039869e-09 -6.2654477e-09 ...  1.1220838e-05\n",
      "  2.5156412e-05  0.0000000e+00] as keyword args. From version 0.10 passing these as positional arguments will result in an error\n",
      "  mel=np.mean(librosa.feature.melspectrogram(data, sr=sample_rate).T,axis=0)\n"
     ]
    },
    {
     "name": "stdout",
     "output_type": "stream",
     "text": [
      "538\n",
      "angry_female\n",
      "539\n",
      "fearful_female\n",
      "540\n",
      "surprised_female\n"
     ]
    },
    {
     "name": "stderr",
     "output_type": "stream",
     "text": [
      "/var/folders/7h/3y0jb5yx0g399b2y_qtq_db80000gn/T/ipykernel_26966/1257479974.py:14: FutureWarning: Pass y=[ 0.000000e+00  0.000000e+00  0.000000e+00 ... -3.721311e-05 -6.377359e-05\n",
      "  0.000000e+00] as keyword args. From version 0.10 passing these as positional arguments will result in an error\n",
      "  mel=np.mean(librosa.feature.melspectrogram(data, sr=sample_rate).T,axis=0)\n",
      "/var/folders/7h/3y0jb5yx0g399b2y_qtq_db80000gn/T/ipykernel_26966/1257479974.py:14: FutureWarning: Pass y=[ 0.0000000e+00  0.0000000e+00  0.0000000e+00 ...  4.1150244e-07\n",
      " -3.7423845e-07  0.0000000e+00] as keyword args. From version 0.10 passing these as positional arguments will result in an error\n",
      "  mel=np.mean(librosa.feature.melspectrogram(data, sr=sample_rate).T,axis=0)\n"
     ]
    },
    {
     "name": "stdout",
     "output_type": "stream",
     "text": [
      "541\n",
      "surprised_female\n"
     ]
    },
    {
     "name": "stderr",
     "output_type": "stream",
     "text": [
      "/var/folders/7h/3y0jb5yx0g399b2y_qtq_db80000gn/T/ipykernel_26966/1257479974.py:14: FutureWarning: Pass y=[ 0.0000000e+00  0.0000000e+00  0.0000000e+00 ...  1.0514677e-05\n",
      " -2.5295192e-06  0.0000000e+00] as keyword args. From version 0.10 passing these as positional arguments will result in an error\n",
      "  mel=np.mean(librosa.feature.melspectrogram(data, sr=sample_rate).T,axis=0)\n"
     ]
    },
    {
     "name": "stdout",
     "output_type": "stream",
     "text": [
      "542\n",
      "sad_male\n"
     ]
    },
    {
     "name": "stderr",
     "output_type": "stream",
     "text": [
      "/var/folders/7h/3y0jb5yx0g399b2y_qtq_db80000gn/T/ipykernel_26966/1257479974.py:14: FutureWarning: Pass y=[0.         0.         0.         ... 0.00233072 0.00269178 0.        ] as keyword args. From version 0.10 passing these as positional arguments will result in an error\n",
      "  mel=np.mean(librosa.feature.melspectrogram(data, sr=sample_rate).T,axis=0)\n"
     ]
    },
    {
     "name": "stdout",
     "output_type": "stream",
     "text": [
      "543\n",
      "disgust_male\n"
     ]
    },
    {
     "name": "stderr",
     "output_type": "stream",
     "text": [
      "/var/folders/7h/3y0jb5yx0g399b2y_qtq_db80000gn/T/ipykernel_26966/1257479974.py:14: FutureWarning: Pass y=[-2.6496826e-08 -7.8331425e-08  2.4941764e-07 ...  1.3340110e-05\n",
      "  4.5546053e-06  0.0000000e+00] as keyword args. From version 0.10 passing these as positional arguments will result in an error\n",
      "  mel=np.mean(librosa.feature.melspectrogram(data, sr=sample_rate).T,axis=0)\n"
     ]
    },
    {
     "name": "stdout",
     "output_type": "stream",
     "text": [
      "544\n",
      "disgust_male\n"
     ]
    },
    {
     "name": "stderr",
     "output_type": "stream",
     "text": [
      "/var/folders/7h/3y0jb5yx0g399b2y_qtq_db80000gn/T/ipykernel_26966/1257479974.py:14: FutureWarning: Pass y=[-1.32399055e-05  1.48923107e-04  1.13192678e-03 ...  7.40337855e-05\n",
      "  2.70269356e-05  0.00000000e+00] as keyword args. From version 0.10 passing these as positional arguments will result in an error\n",
      "  mel=np.mean(librosa.feature.melspectrogram(data, sr=sample_rate).T,axis=0)\n",
      "/var/folders/7h/3y0jb5yx0g399b2y_qtq_db80000gn/T/ipykernel_26966/1257479974.py:14: FutureWarning: Pass y=[0.0000000e+00 0.0000000e+00 0.0000000e+00 ... 5.5879565e-05 4.7314545e-05\n",
      " 0.0000000e+00] as keyword args. From version 0.10 passing these as positional arguments will result in an error\n",
      "  mel=np.mean(librosa.feature.melspectrogram(data, sr=sample_rate).T,axis=0)\n"
     ]
    },
    {
     "name": "stdout",
     "output_type": "stream",
     "text": [
      "545\n",
      "sad_male\n",
      "546\n",
      "fearful_male\n"
     ]
    },
    {
     "name": "stderr",
     "output_type": "stream",
     "text": [
      "/var/folders/7h/3y0jb5yx0g399b2y_qtq_db80000gn/T/ipykernel_26966/1257479974.py:14: FutureWarning: Pass y=[-0.00998685 -0.01483878 -0.01308436 ... -0.00236345 -0.00421023\n",
      "  0.        ] as keyword args. From version 0.10 passing these as positional arguments will result in an error\n",
      "  mel=np.mean(librosa.feature.melspectrogram(data, sr=sample_rate).T,axis=0)\n"
     ]
    },
    {
     "name": "stdout",
     "output_type": "stream",
     "text": [
      "547\n",
      "angry_male\n"
     ]
    },
    {
     "name": "stderr",
     "output_type": "stream",
     "text": [
      "/var/folders/7h/3y0jb5yx0g399b2y_qtq_db80000gn/T/ipykernel_26966/1257479974.py:14: FutureWarning: Pass y=[-1.0930618e-04 -3.7127231e-06  2.8134207e-04 ... -5.7118079e-05\n",
      " -1.1130070e-04  0.0000000e+00] as keyword args. From version 0.10 passing these as positional arguments will result in an error\n",
      "  mel=np.mean(librosa.feature.melspectrogram(data, sr=sample_rate).T,axis=0)\n"
     ]
    },
    {
     "name": "stdout",
     "output_type": "stream",
     "text": [
      "548\n",
      "angry_male\n"
     ]
    },
    {
     "name": "stderr",
     "output_type": "stream",
     "text": [
      "/var/folders/7h/3y0jb5yx0g399b2y_qtq_db80000gn/T/ipykernel_26966/1257479974.py:14: FutureWarning: Pass y=[ 3.1928886e-09 -3.0708827e-09  2.5900198e-09 ... -2.1243992e-05\n",
      "  1.2635767e-04  0.0000000e+00] as keyword args. From version 0.10 passing these as positional arguments will result in an error\n",
      "  mel=np.mean(librosa.feature.melspectrogram(data, sr=sample_rate).T,axis=0)\n",
      "/var/folders/7h/3y0jb5yx0g399b2y_qtq_db80000gn/T/ipykernel_26966/1257479974.py:14: FutureWarning: Pass y=[ 7.7884772e-07 -1.0562242e-06  1.3805889e-06 ... -5.3563487e-04\n",
      " -5.5522867e-04  0.0000000e+00] as keyword args. From version 0.10 passing these as positional arguments will result in an error\n",
      "  mel=np.mean(librosa.feature.melspectrogram(data, sr=sample_rate).T,axis=0)\n"
     ]
    },
    {
     "name": "stdout",
     "output_type": "stream",
     "text": [
      "549\n",
      "fearful_male\n",
      "550\n",
      "surprised_male\n"
     ]
    },
    {
     "name": "stderr",
     "output_type": "stream",
     "text": [
      "/var/folders/7h/3y0jb5yx0g399b2y_qtq_db80000gn/T/ipykernel_26966/1257479974.py:14: FutureWarning: Pass y=[-1.643893e-07  4.342908e-07 -9.220333e-07 ... -7.781716e-05 -8.078480e-07\n",
      "  0.000000e+00] as keyword args. From version 0.10 passing these as positional arguments will result in an error\n",
      "  mel=np.mean(librosa.feature.melspectrogram(data, sr=sample_rate).T,axis=0)\n",
      "/var/folders/7h/3y0jb5yx0g399b2y_qtq_db80000gn/T/ipykernel_26966/1257479974.py:14: FutureWarning: Pass y=[0.         0.         0.         ... 0.00023764 0.00037682 0.        ] as keyword args. From version 0.10 passing these as positional arguments will result in an error\n",
      "  mel=np.mean(librosa.feature.melspectrogram(data, sr=sample_rate).T,axis=0)\n"
     ]
    },
    {
     "name": "stdout",
     "output_type": "stream",
     "text": [
      "551\n",
      "surprised_male\n",
      "552\n",
      "neutral_male\n"
     ]
    },
    {
     "name": "stderr",
     "output_type": "stream",
     "text": [
      "/var/folders/7h/3y0jb5yx0g399b2y_qtq_db80000gn/T/ipykernel_26966/1257479974.py:14: FutureWarning: Pass y=[ 2.2677237e-05  8.5276450e-05 -1.1923861e-05 ... -1.3393694e-05\n",
      " -4.8905649e-06  0.0000000e+00] as keyword args. From version 0.10 passing these as positional arguments will result in an error\n",
      "  mel=np.mean(librosa.feature.melspectrogram(data, sr=sample_rate).T,axis=0)\n"
     ]
    },
    {
     "name": "stdout",
     "output_type": "stream",
     "text": [
      "553\n",
      "calm_male\n"
     ]
    },
    {
     "name": "stderr",
     "output_type": "stream",
     "text": [
      "/var/folders/7h/3y0jb5yx0g399b2y_qtq_db80000gn/T/ipykernel_26966/1257479974.py:14: FutureWarning: Pass y=[ 1.0104295e-11 -5.6317194e-11  1.3120907e-10 ... -2.9367100e-05\n",
      " -1.1328669e-06  0.0000000e+00] as keyword args. From version 0.10 passing these as positional arguments will result in an error\n",
      "  mel=np.mean(librosa.feature.melspectrogram(data, sr=sample_rate).T,axis=0)\n"
     ]
    },
    {
     "name": "stdout",
     "output_type": "stream",
     "text": [
      "554\n",
      "calm_male\n"
     ]
    },
    {
     "name": "stderr",
     "output_type": "stream",
     "text": [
      "/var/folders/7h/3y0jb5yx0g399b2y_qtq_db80000gn/T/ipykernel_26966/1257479974.py:14: FutureWarning: Pass y=[ 1.9716563e-06 -3.4874911e-06 -1.2449487e-05 ...  1.1504052e-05\n",
      " -9.2384707e-06  0.0000000e+00] as keyword args. From version 0.10 passing these as positional arguments will result in an error\n",
      "  mel=np.mean(librosa.feature.melspectrogram(data, sr=sample_rate).T,axis=0)\n"
     ]
    },
    {
     "name": "stdout",
     "output_type": "stream",
     "text": [
      "555\n",
      "happy_male\n"
     ]
    },
    {
     "name": "stderr",
     "output_type": "stream",
     "text": [
      "/var/folders/7h/3y0jb5yx0g399b2y_qtq_db80000gn/T/ipykernel_26966/1257479974.py:14: FutureWarning: Pass y=[ 4.1970506e-04  1.1989805e-04 -2.7023823e-04 ... -5.5179473e-05\n",
      " -2.3922556e-05  0.0000000e+00] as keyword args. From version 0.10 passing these as positional arguments will result in an error\n",
      "  mel=np.mean(librosa.feature.melspectrogram(data, sr=sample_rate).T,axis=0)\n"
     ]
    },
    {
     "name": "stdout",
     "output_type": "stream",
     "text": [
      "556\n",
      "happy_male\n"
     ]
    },
    {
     "name": "stderr",
     "output_type": "stream",
     "text": [
      "/var/folders/7h/3y0jb5yx0g399b2y_qtq_db80000gn/T/ipykernel_26966/1257479974.py:14: FutureWarning: Pass y=[ 0.0003336  -0.00096188 -0.0010479  ...  0.0003028   0.00037495\n",
      "  0.        ] as keyword args. From version 0.10 passing these as positional arguments will result in an error\n",
      "  mel=np.mean(librosa.feature.melspectrogram(data, sr=sample_rate).T,axis=0)\n"
     ]
    },
    {
     "name": "stdout",
     "output_type": "stream",
     "text": [
      "557\n",
      "calm_male\n"
     ]
    },
    {
     "name": "stderr",
     "output_type": "stream",
     "text": [
      "/var/folders/7h/3y0jb5yx0g399b2y_qtq_db80000gn/T/ipykernel_26966/1257479974.py:14: FutureWarning: Pass y=[ 0.0000000e+00  0.0000000e+00  0.0000000e+00 ... -1.7672242e-05\n",
      " -8.1807601e-05  0.0000000e+00] as keyword args. From version 0.10 passing these as positional arguments will result in an error\n",
      "  mel=np.mean(librosa.feature.melspectrogram(data, sr=sample_rate).T,axis=0)\n",
      "/var/folders/7h/3y0jb5yx0g399b2y_qtq_db80000gn/T/ipykernel_26966/1257479974.py:14: FutureWarning: Pass y=[-1.5458259e-05 -1.3638818e-05  7.8252958e-07 ...  3.8224294e-05\n",
      " -7.0623046e-06  0.0000000e+00] as keyword args. From version 0.10 passing these as positional arguments will result in an error\n",
      "  mel=np.mean(librosa.feature.melspectrogram(data, sr=sample_rate).T,axis=0)\n"
     ]
    },
    {
     "name": "stdout",
     "output_type": "stream",
     "text": [
      "558\n",
      "neutral_male\n",
      "559\n",
      "calm_male\n"
     ]
    },
    {
     "name": "stderr",
     "output_type": "stream",
     "text": [
      "/var/folders/7h/3y0jb5yx0g399b2y_qtq_db80000gn/T/ipykernel_26966/1257479974.py:14: FutureWarning: Pass y=[1.8515007e-05 5.5661905e-05 2.1595985e-04 ... 1.9560597e-04 2.0111451e-04\n",
      " 0.0000000e+00] as keyword args. From version 0.10 passing these as positional arguments will result in an error\n",
      "  mel=np.mean(librosa.feature.melspectrogram(data, sr=sample_rate).T,axis=0)\n",
      "/var/folders/7h/3y0jb5yx0g399b2y_qtq_db80000gn/T/ipykernel_26966/1257479974.py:14: FutureWarning: Pass y=[0.000000e+00 0.000000e+00 0.000000e+00 ... 5.206534e-06 4.837984e-05\n",
      " 0.000000e+00] as keyword args. From version 0.10 passing these as positional arguments will result in an error\n",
      "  mel=np.mean(librosa.feature.melspectrogram(data, sr=sample_rate).T,axis=0)\n"
     ]
    },
    {
     "name": "stdout",
     "output_type": "stream",
     "text": [
      "560\n",
      "happy_male\n",
      "561\n",
      "happy_male\n"
     ]
    },
    {
     "name": "stderr",
     "output_type": "stream",
     "text": [
      "/var/folders/7h/3y0jb5yx0g399b2y_qtq_db80000gn/T/ipykernel_26966/1257479974.py:14: FutureWarning: Pass y=[ 1.3289255e-05  5.2349475e-07 -1.6996270e-07 ...  2.1352625e-05\n",
      "  1.0244334e-05  0.0000000e+00] as keyword args. From version 0.10 passing these as positional arguments will result in an error\n",
      "  mel=np.mean(librosa.feature.melspectrogram(data, sr=sample_rate).T,axis=0)\n"
     ]
    },
    {
     "name": "stdout",
     "output_type": "stream",
     "text": [
      "562\n",
      "disgust_male\n"
     ]
    },
    {
     "name": "stderr",
     "output_type": "stream",
     "text": [
      "/var/folders/7h/3y0jb5yx0g399b2y_qtq_db80000gn/T/ipykernel_26966/1257479974.py:14: FutureWarning: Pass y=[ 2.5530628e-05 -5.2173750e-04 -7.5059984e-04 ...  1.6452066e-04\n",
      "  3.0742216e-04  0.0000000e+00] as keyword args. From version 0.10 passing these as positional arguments will result in an error\n",
      "  mel=np.mean(librosa.feature.melspectrogram(data, sr=sample_rate).T,axis=0)\n"
     ]
    },
    {
     "name": "stdout",
     "output_type": "stream",
     "text": [
      "563\n",
      "sad_male\n"
     ]
    },
    {
     "name": "stderr",
     "output_type": "stream",
     "text": [
      "/var/folders/7h/3y0jb5yx0g399b2y_qtq_db80000gn/T/ipykernel_26966/1257479974.py:14: FutureWarning: Pass y=[ 1.65267720e-05  1.13689875e-05  3.64895059e-05 ... -4.89437552e-05\n",
      " -4.17004740e-05  0.00000000e+00] as keyword args. From version 0.10 passing these as positional arguments will result in an error\n",
      "  mel=np.mean(librosa.feature.melspectrogram(data, sr=sample_rate).T,axis=0)\n"
     ]
    },
    {
     "name": "stdout",
     "output_type": "stream",
     "text": [
      "564\n",
      "sad_male\n"
     ]
    },
    {
     "name": "stderr",
     "output_type": "stream",
     "text": [
      "/var/folders/7h/3y0jb5yx0g399b2y_qtq_db80000gn/T/ipykernel_26966/1257479974.py:14: FutureWarning: Pass y=[ 0.          0.          0.         ... -0.00040278 -0.0003768\n",
      "  0.        ] as keyword args. From version 0.10 passing these as positional arguments will result in an error\n",
      "  mel=np.mean(librosa.feature.melspectrogram(data, sr=sample_rate).T,axis=0)\n"
     ]
    },
    {
     "name": "stdout",
     "output_type": "stream",
     "text": [
      "565\n",
      "disgust_male\n"
     ]
    },
    {
     "name": "stderr",
     "output_type": "stream",
     "text": [
      "/var/folders/7h/3y0jb5yx0g399b2y_qtq_db80000gn/T/ipykernel_26966/1257479974.py:14: FutureWarning: Pass y=[-7.055801e-07  7.219105e-07 -7.165745e-07 ... -4.086222e-04 -5.412447e-04\n",
      "  0.000000e+00] as keyword args. From version 0.10 passing these as positional arguments will result in an error\n",
      "  mel=np.mean(librosa.feature.melspectrogram(data, sr=sample_rate).T,axis=0)\n"
     ]
    },
    {
     "name": "stdout",
     "output_type": "stream",
     "text": [
      "566\n",
      "angry_male\n"
     ]
    },
    {
     "name": "stderr",
     "output_type": "stream",
     "text": [
      "/var/folders/7h/3y0jb5yx0g399b2y_qtq_db80000gn/T/ipykernel_26966/1257479974.py:14: FutureWarning: Pass y=[ 4.2603374e-06  3.1996115e-05 -2.0925252e-06 ...  7.7480869e-04\n",
      "  9.3757850e-04  0.0000000e+00] as keyword args. From version 0.10 passing these as positional arguments will result in an error\n",
      "  mel=np.mean(librosa.feature.melspectrogram(data, sr=sample_rate).T,axis=0)\n",
      "/var/folders/7h/3y0jb5yx0g399b2y_qtq_db80000gn/T/ipykernel_26966/1257479974.py:14: FutureWarning: Pass y=[-0.00019258 -0.00050234 -0.00041373 ... -0.00075559 -0.00061777\n",
      "  0.        ] as keyword args. From version 0.10 passing these as positional arguments will result in an error\n",
      "  mel=np.mean(librosa.feature.melspectrogram(data, sr=sample_rate).T,axis=0)\n"
     ]
    },
    {
     "name": "stdout",
     "output_type": "stream",
     "text": [
      "567\n",
      "fearful_male\n",
      "568\n",
      "fearful_male\n"
     ]
    },
    {
     "name": "stderr",
     "output_type": "stream",
     "text": [
      "/var/folders/7h/3y0jb5yx0g399b2y_qtq_db80000gn/T/ipykernel_26966/1257479974.py:14: FutureWarning: Pass y=[-1.8337866e-07  2.6323218e-07 -3.5414752e-07 ... -3.9529384e-04\n",
      " -4.3669727e-04  0.0000000e+00] as keyword args. From version 0.10 passing these as positional arguments will result in an error\n",
      "  mel=np.mean(librosa.feature.melspectrogram(data, sr=sample_rate).T,axis=0)\n"
     ]
    },
    {
     "name": "stdout",
     "output_type": "stream",
     "text": [
      "569\n",
      "angry_male\n"
     ]
    },
    {
     "name": "stderr",
     "output_type": "stream",
     "text": [
      "/var/folders/7h/3y0jb5yx0g399b2y_qtq_db80000gn/T/ipykernel_26966/1257479974.py:14: FutureWarning: Pass y=[ 4.1045658e-07 -4.9876365e-07  6.0359645e-07 ... -1.1836991e-05\n",
      " -1.1546909e-05  0.0000000e+00] as keyword args. From version 0.10 passing these as positional arguments will result in an error\n",
      "  mel=np.mean(librosa.feature.melspectrogram(data, sr=sample_rate).T,axis=0)\n"
     ]
    },
    {
     "name": "stdout",
     "output_type": "stream",
     "text": [
      "570\n",
      "surprised_male\n"
     ]
    },
    {
     "name": "stderr",
     "output_type": "stream",
     "text": [
      "/var/folders/7h/3y0jb5yx0g399b2y_qtq_db80000gn/T/ipykernel_26966/1257479974.py:14: FutureWarning: Pass y=[ 0.0000000e+00  0.0000000e+00  0.0000000e+00 ... -4.2808329e-06\n",
      "  3.5831927e-06  0.0000000e+00] as keyword args. From version 0.10 passing these as positional arguments will result in an error\n",
      "  mel=np.mean(librosa.feature.melspectrogram(data, sr=sample_rate).T,axis=0)\n",
      "/var/folders/7h/3y0jb5yx0g399b2y_qtq_db80000gn/T/ipykernel_26966/1257479974.py:14: FutureWarning: Pass y=[-4.8892684e-07  7.2181541e-07 -1.0627448e-06 ...  1.4879137e-04\n",
      "  9.5570183e-05  0.0000000e+00] as keyword args. From version 0.10 passing these as positional arguments will result in an error\n",
      "  mel=np.mean(librosa.feature.melspectrogram(data, sr=sample_rate).T,axis=0)\n"
     ]
    },
    {
     "name": "stdout",
     "output_type": "stream",
     "text": [
      "571\n",
      "surprised_male\n",
      "572\n",
      "happy_male\n"
     ]
    },
    {
     "name": "stderr",
     "output_type": "stream",
     "text": [
      "/var/folders/7h/3y0jb5yx0g399b2y_qtq_db80000gn/T/ipykernel_26966/1257479974.py:14: FutureWarning: Pass y=[-0.00018972 -0.00028815 -0.00023609 ... -0.00022864 -0.00024817\n",
      "  0.        ] as keyword args. From version 0.10 passing these as positional arguments will result in an error\n",
      "  mel=np.mean(librosa.feature.melspectrogram(data, sr=sample_rate).T,axis=0)\n"
     ]
    },
    {
     "name": "stdout",
     "output_type": "stream",
     "text": [
      "573\n",
      "happy_male\n"
     ]
    },
    {
     "name": "stderr",
     "output_type": "stream",
     "text": [
      "/var/folders/7h/3y0jb5yx0g399b2y_qtq_db80000gn/T/ipykernel_26966/1257479974.py:14: FutureWarning: Pass y=[ 4.6841942e-05  5.7584104e-05  6.4433501e-05 ... -1.1036315e-05\n",
      " -5.6279464e-06  0.0000000e+00] as keyword args. From version 0.10 passing these as positional arguments will result in an error\n",
      "  mel=np.mean(librosa.feature.melspectrogram(data, sr=sample_rate).T,axis=0)\n"
     ]
    },
    {
     "name": "stdout",
     "output_type": "stream",
     "text": [
      "574\n",
      "calm_male\n"
     ]
    },
    {
     "name": "stderr",
     "output_type": "stream",
     "text": [
      "/var/folders/7h/3y0jb5yx0g399b2y_qtq_db80000gn/T/ipykernel_26966/1257479974.py:14: FutureWarning: Pass y=[-1.4427653e-06  8.7610570e-06  2.6779540e-05 ... -1.6828880e-06\n",
      "  3.0706233e-06  0.0000000e+00] as keyword args. From version 0.10 passing these as positional arguments will result in an error\n",
      "  mel=np.mean(librosa.feature.melspectrogram(data, sr=sample_rate).T,axis=0)\n"
     ]
    },
    {
     "name": "stdout",
     "output_type": "stream",
     "text": [
      "575\n",
      "calm_male\n"
     ]
    },
    {
     "name": "stderr",
     "output_type": "stream",
     "text": [
      "/var/folders/7h/3y0jb5yx0g399b2y_qtq_db80000gn/T/ipykernel_26966/1257479974.py:14: FutureWarning: Pass y=[0.         0.         0.         ... 0.00013998 0.00011492 0.        ] as keyword args. From version 0.10 passing these as positional arguments will result in an error\n",
      "  mel=np.mean(librosa.feature.melspectrogram(data, sr=sample_rate).T,axis=0)\n",
      "/var/folders/7h/3y0jb5yx0g399b2y_qtq_db80000gn/T/ipykernel_26966/1257479974.py:14: FutureWarning: Pass y=[ 0.0000000e+00  0.0000000e+00  0.0000000e+00 ...  1.1251367e-06\n",
      " -1.1299616e-06  0.0000000e+00] as keyword args. From version 0.10 passing these as positional arguments will result in an error\n",
      "  mel=np.mean(librosa.feature.melspectrogram(data, sr=sample_rate).T,axis=0)\n"
     ]
    },
    {
     "name": "stdout",
     "output_type": "stream",
     "text": [
      "576\n",
      "neutral_male\n",
      "577\n",
      "fearful_male\n"
     ]
    },
    {
     "name": "stderr",
     "output_type": "stream",
     "text": [
      "/var/folders/7h/3y0jb5yx0g399b2y_qtq_db80000gn/T/ipykernel_26966/1257479974.py:14: FutureWarning: Pass y=[-1.3627549e-06  1.7346383e-06 -3.0041083e-06 ... -9.1950060e-05\n",
      " -4.5555964e-05  0.0000000e+00] as keyword args. From version 0.10 passing these as positional arguments will result in an error\n",
      "  mel=np.mean(librosa.feature.melspectrogram(data, sr=sample_rate).T,axis=0)\n"
     ]
    },
    {
     "name": "stdout",
     "output_type": "stream",
     "text": [
      "578\n",
      "angry_male\n"
     ]
    },
    {
     "name": "stderr",
     "output_type": "stream",
     "text": [
      "/var/folders/7h/3y0jb5yx0g399b2y_qtq_db80000gn/T/ipykernel_26966/1257479974.py:14: FutureWarning: Pass y=[-7.0710739e-05 -5.5102450e-05  1.4302296e-05 ... -5.5809370e-03\n",
      " -6.4415196e-03  0.0000000e+00] as keyword args. From version 0.10 passing these as positional arguments will result in an error\n",
      "  mel=np.mean(librosa.feature.melspectrogram(data, sr=sample_rate).T,axis=0)\n"
     ]
    },
    {
     "name": "stdout",
     "output_type": "stream",
     "text": [
      "579\n",
      "angry_male\n"
     ]
    },
    {
     "name": "stderr",
     "output_type": "stream",
     "text": [
      "/var/folders/7h/3y0jb5yx0g399b2y_qtq_db80000gn/T/ipykernel_26966/1257479974.py:14: FutureWarning: Pass y=[ 4.7265980e-04  4.7642048e-04  4.2809861e-05 ... -1.6913961e-03\n",
      " -1.9935765e-03  0.0000000e+00] as keyword args. From version 0.10 passing these as positional arguments will result in an error\n",
      "  mel=np.mean(librosa.feature.melspectrogram(data, sr=sample_rate).T,axis=0)\n",
      "/var/folders/7h/3y0jb5yx0g399b2y_qtq_db80000gn/T/ipykernel_26966/1257479974.py:14: FutureWarning: Pass y=[ 0.00014359  0.00019987  0.00018057 ... -0.00020659 -0.00079323\n",
      "  0.        ] as keyword args. From version 0.10 passing these as positional arguments will result in an error\n",
      "  mel=np.mean(librosa.feature.melspectrogram(data, sr=sample_rate).T,axis=0)\n"
     ]
    },
    {
     "name": "stdout",
     "output_type": "stream",
     "text": [
      "580\n",
      "fearful_male\n",
      "581\n",
      "sad_male\n"
     ]
    },
    {
     "name": "stderr",
     "output_type": "stream",
     "text": [
      "/var/folders/7h/3y0jb5yx0g399b2y_qtq_db80000gn/T/ipykernel_26966/1257479974.py:14: FutureWarning: Pass y=[ 0.          0.          0.         ... -0.00013356 -0.00018755\n",
      "  0.        ] as keyword args. From version 0.10 passing these as positional arguments will result in an error\n",
      "  mel=np.mean(librosa.feature.melspectrogram(data, sr=sample_rate).T,axis=0)\n"
     ]
    },
    {
     "name": "stdout",
     "output_type": "stream",
     "text": [
      "582\n",
      "disgust_male\n"
     ]
    },
    {
     "name": "stderr",
     "output_type": "stream",
     "text": [
      "/var/folders/7h/3y0jb5yx0g399b2y_qtq_db80000gn/T/ipykernel_26966/1257479974.py:14: FutureWarning: Pass y=[ 7.0621854e-07 -8.5780442e-07  1.0198933e-06 ... -3.7081136e-05\n",
      " -3.5730500e-05  0.0000000e+00] as keyword args. From version 0.10 passing these as positional arguments will result in an error\n",
      "  mel=np.mean(librosa.feature.melspectrogram(data, sr=sample_rate).T,axis=0)\n"
     ]
    },
    {
     "name": "stdout",
     "output_type": "stream",
     "text": [
      "583\n",
      "disgust_male\n"
     ]
    },
    {
     "name": "stderr",
     "output_type": "stream",
     "text": [
      "/var/folders/7h/3y0jb5yx0g399b2y_qtq_db80000gn/T/ipykernel_26966/1257479974.py:14: FutureWarning: Pass y=[ 0.00064085  0.00102893  0.00129098 ...  0.0002022  -0.00044699\n",
      "  0.        ] as keyword args. From version 0.10 passing these as positional arguments will result in an error\n",
      "  mel=np.mean(librosa.feature.melspectrogram(data, sr=sample_rate).T,axis=0)\n",
      "/var/folders/7h/3y0jb5yx0g399b2y_qtq_db80000gn/T/ipykernel_26966/1257479974.py:14: FutureWarning: Pass y=[-3.1298805e-07 -1.4369269e-05 -1.4529219e-07 ... -8.6480556e-03\n",
      " -9.5686065e-03  0.0000000e+00] as keyword args. From version 0.10 passing these as positional arguments will result in an error\n",
      "  mel=np.mean(librosa.feature.melspectrogram(data, sr=sample_rate).T,axis=0)\n"
     ]
    },
    {
     "name": "stdout",
     "output_type": "stream",
     "text": [
      "584\n",
      "sad_male\n",
      "585\n",
      "surprised_male\n"
     ]
    },
    {
     "name": "stderr",
     "output_type": "stream",
     "text": [
      "/var/folders/7h/3y0jb5yx0g399b2y_qtq_db80000gn/T/ipykernel_26966/1257479974.py:14: FutureWarning: Pass y=[ 0.0000000e+00  0.0000000e+00  0.0000000e+00 ... -1.8863178e-05\n",
      "  8.6673217e-06  0.0000000e+00] as keyword args. From version 0.10 passing these as positional arguments will result in an error\n",
      "  mel=np.mean(librosa.feature.melspectrogram(data, sr=sample_rate).T,axis=0)\n",
      "/var/folders/7h/3y0jb5yx0g399b2y_qtq_db80000gn/T/ipykernel_26966/1257479974.py:14: FutureWarning: Pass y=[ 0.0000000e+00  0.0000000e+00  0.0000000e+00 ... -6.5925036e-05\n",
      "  1.2407819e-05  0.0000000e+00] as keyword args. From version 0.10 passing these as positional arguments will result in an error\n",
      "  mel=np.mean(librosa.feature.melspectrogram(data, sr=sample_rate).T,axis=0)\n"
     ]
    },
    {
     "name": "stdout",
     "output_type": "stream",
     "text": [
      "586\n",
      "surprised_male\n",
      "587\n",
      "angry_male\n"
     ]
    },
    {
     "name": "stderr",
     "output_type": "stream",
     "text": [
      "/var/folders/7h/3y0jb5yx0g399b2y_qtq_db80000gn/T/ipykernel_26966/1257479974.py:14: FutureWarning: Pass y=[-8.4461557e-05 -4.9740047e-05  1.0176159e-05 ...  9.9141907e-05\n",
      "  1.3851187e-04  0.0000000e+00] as keyword args. From version 0.10 passing these as positional arguments will result in an error\n",
      "  mel=np.mean(librosa.feature.melspectrogram(data, sr=sample_rate).T,axis=0)\n"
     ]
    },
    {
     "name": "stdout",
     "output_type": "stream",
     "text": [
      "588\n",
      "fearful_male\n"
     ]
    },
    {
     "name": "stderr",
     "output_type": "stream",
     "text": [
      "/var/folders/7h/3y0jb5yx0g399b2y_qtq_db80000gn/T/ipykernel_26966/1257479974.py:14: FutureWarning: Pass y=[ 9.1239009e-08 -1.7868749e-07  2.8871233e-07 ...  2.6430918e-05\n",
      "  4.8106067e-06  0.0000000e+00] as keyword args. From version 0.10 passing these as positional arguments will result in an error\n",
      "  mel=np.mean(librosa.feature.melspectrogram(data, sr=sample_rate).T,axis=0)\n",
      "/var/folders/7h/3y0jb5yx0g399b2y_qtq_db80000gn/T/ipykernel_26966/1257479974.py:14: FutureWarning: Pass y=[-0.00169659 -0.00316442 -0.00407952 ... -0.00068632 -0.00056289\n",
      "  0.        ] as keyword args. From version 0.10 passing these as positional arguments will result in an error\n",
      "  mel=np.mean(librosa.feature.melspectrogram(data, sr=sample_rate).T,axis=0)\n"
     ]
    },
    {
     "name": "stdout",
     "output_type": "stream",
     "text": [
      "589\n",
      "fearful_male\n",
      "590\n",
      "angry_male\n"
     ]
    },
    {
     "name": "stderr",
     "output_type": "stream",
     "text": [
      "/var/folders/7h/3y0jb5yx0g399b2y_qtq_db80000gn/T/ipykernel_26966/1257479974.py:14: FutureWarning: Pass y=[4.3144209e-05 1.9582690e-04 2.5896542e-04 ... 2.8779506e-05 1.4786955e-04\n",
      " 0.0000000e+00] as keyword args. From version 0.10 passing these as positional arguments will result in an error\n",
      "  mel=np.mean(librosa.feature.melspectrogram(data, sr=sample_rate).T,axis=0)\n"
     ]
    },
    {
     "name": "stdout",
     "output_type": "stream",
     "text": [
      "591\n",
      "disgust_male\n"
     ]
    },
    {
     "name": "stderr",
     "output_type": "stream",
     "text": [
      "/var/folders/7h/3y0jb5yx0g399b2y_qtq_db80000gn/T/ipykernel_26966/1257479974.py:14: FutureWarning: Pass y=[-9.8338227e-05 -2.6516395e-04 -3.1759459e-04 ...  3.3936689e-05\n",
      "  4.4401215e-05  0.0000000e+00] as keyword args. From version 0.10 passing these as positional arguments will result in an error\n",
      "  mel=np.mean(librosa.feature.melspectrogram(data, sr=sample_rate).T,axis=0)\n",
      "/var/folders/7h/3y0jb5yx0g399b2y_qtq_db80000gn/T/ipykernel_26966/1257479974.py:14: FutureWarning: Pass y=[-1.3313436e-05 -1.7226841e-05 -1.2477615e-05 ...  2.9445408e-04\n",
      "  2.6638538e-04  0.0000000e+00] as keyword args. From version 0.10 passing these as positional arguments will result in an error\n",
      "  mel=np.mean(librosa.feature.melspectrogram(data, sr=sample_rate).T,axis=0)\n"
     ]
    },
    {
     "name": "stdout",
     "output_type": "stream",
     "text": [
      "592\n",
      "sad_male\n",
      "593\n",
      "sad_male\n"
     ]
    },
    {
     "name": "stderr",
     "output_type": "stream",
     "text": [
      "/var/folders/7h/3y0jb5yx0g399b2y_qtq_db80000gn/T/ipykernel_26966/1257479974.py:14: FutureWarning: Pass y=[-5.0382648e-04 -7.1727019e-04 -6.5476855e-04 ...  7.2651019e-05\n",
      "  4.3018157e-05  0.0000000e+00] as keyword args. From version 0.10 passing these as positional arguments will result in an error\n",
      "  mel=np.mean(librosa.feature.melspectrogram(data, sr=sample_rate).T,axis=0)\n"
     ]
    },
    {
     "name": "stdout",
     "output_type": "stream",
     "text": [
      "594\n",
      "disgust_male\n"
     ]
    },
    {
     "name": "stderr",
     "output_type": "stream",
     "text": [
      "/var/folders/7h/3y0jb5yx0g399b2y_qtq_db80000gn/T/ipykernel_26966/1257479974.py:14: FutureWarning: Pass y=[-4.1874813e-05 -4.6773665e-05 -3.4686451e-05 ...  3.8415735e-04\n",
      "  3.4785640e-04  0.0000000e+00] as keyword args. From version 0.10 passing these as positional arguments will result in an error\n",
      "  mel=np.mean(librosa.feature.melspectrogram(data, sr=sample_rate).T,axis=0)\n",
      "/var/folders/7h/3y0jb5yx0g399b2y_qtq_db80000gn/T/ipykernel_26966/1257479974.py:14: FutureWarning: Pass y=[ 0.0000000e+00  0.0000000e+00  0.0000000e+00 ... -5.2776631e-06\n",
      "  3.9031415e-06  0.0000000e+00] as keyword args. From version 0.10 passing these as positional arguments will result in an error\n",
      "  mel=np.mean(librosa.feature.melspectrogram(data, sr=sample_rate).T,axis=0)\n"
     ]
    },
    {
     "name": "stdout",
     "output_type": "stream",
     "text": [
      "595\n",
      "surprised_male\n",
      "596\n",
      "surprised_male\n"
     ]
    },
    {
     "name": "stderr",
     "output_type": "stream",
     "text": [
      "/var/folders/7h/3y0jb5yx0g399b2y_qtq_db80000gn/T/ipykernel_26966/1257479974.py:14: FutureWarning: Pass y=[ 0.0000000e+00  0.0000000e+00  0.0000000e+00 ... -9.1952716e-06\n",
      "  2.7304486e-06  0.0000000e+00] as keyword args. From version 0.10 passing these as positional arguments will result in an error\n",
      "  mel=np.mean(librosa.feature.melspectrogram(data, sr=sample_rate).T,axis=0)\n"
     ]
    },
    {
     "name": "stdout",
     "output_type": "stream",
     "text": [
      "597\n",
      "happy_male\n"
     ]
    },
    {
     "name": "stderr",
     "output_type": "stream",
     "text": [
      "/var/folders/7h/3y0jb5yx0g399b2y_qtq_db80000gn/T/ipykernel_26966/1257479974.py:14: FutureWarning: Pass y=[1.3712418e-04 1.1061427e-04 1.5035611e-04 ... 9.4836469e-06 5.6323283e-06\n",
      " 0.0000000e+00] as keyword args. From version 0.10 passing these as positional arguments will result in an error\n",
      "  mel=np.mean(librosa.feature.melspectrogram(data, sr=sample_rate).T,axis=0)\n",
      "/var/folders/7h/3y0jb5yx0g399b2y_qtq_db80000gn/T/ipykernel_26966/1257479974.py:14: FutureWarning: Pass y=[0.0000000e+00 0.0000000e+00 0.0000000e+00 ... 2.5236131e-05 5.2794267e-06\n",
      " 0.0000000e+00] as keyword args. From version 0.10 passing these as positional arguments will result in an error\n",
      "  mel=np.mean(librosa.feature.melspectrogram(data, sr=sample_rate).T,axis=0)\n"
     ]
    },
    {
     "name": "stdout",
     "output_type": "stream",
     "text": [
      "598\n",
      "happy_male\n",
      "599\n",
      "calm_male\n"
     ]
    },
    {
     "name": "stderr",
     "output_type": "stream",
     "text": [
      "/var/folders/7h/3y0jb5yx0g399b2y_qtq_db80000gn/T/ipykernel_26966/1257479974.py:14: FutureWarning: Pass y=[-7.9116517e-06 -5.2742926e-05 -1.9900150e-04 ... -1.8221533e-04\n",
      " -1.8891909e-04  0.0000000e+00] as keyword args. From version 0.10 passing these as positional arguments will result in an error\n",
      "  mel=np.mean(librosa.feature.melspectrogram(data, sr=sample_rate).T,axis=0)\n",
      "/var/folders/7h/3y0jb5yx0g399b2y_qtq_db80000gn/T/ipykernel_26966/1257479974.py:14: FutureWarning: Pass y=[-6.0700299e-06 -3.5395646e-05 -2.4951731e-05 ... -1.4991684e-05\n",
      " -7.3881201e-06  0.0000000e+00] as keyword args. From version 0.10 passing these as positional arguments will result in an error\n",
      "  mel=np.mean(librosa.feature.melspectrogram(data, sr=sample_rate).T,axis=0)\n"
     ]
    },
    {
     "name": "stdout",
     "output_type": "stream",
     "text": [
      "600\n",
      "neutral_male\n",
      "601\n",
      "calm_male\n"
     ]
    },
    {
     "name": "stderr",
     "output_type": "stream",
     "text": [
      "/var/folders/7h/3y0jb5yx0g399b2y_qtq_db80000gn/T/ipykernel_26966/1257479974.py:14: FutureWarning: Pass y=[ 0.0000000e+00  0.0000000e+00  0.0000000e+00 ... -7.2873765e-05\n",
      " -5.7085574e-05  0.0000000e+00] as keyword args. From version 0.10 passing these as positional arguments will result in an error\n",
      "  mel=np.mean(librosa.feature.melspectrogram(data, sr=sample_rate).T,axis=0)\n",
      "/var/folders/7h/3y0jb5yx0g399b2y_qtq_db80000gn/T/ipykernel_26966/1257479974.py:14: FutureWarning: Pass y=[-5.2936412e-07  5.2245684e-07 -4.8367059e-07 ... -7.7196285e-07\n",
      "  7.8327724e-07  0.0000000e+00] as keyword args. From version 0.10 passing these as positional arguments will result in an error\n",
      "  mel=np.mean(librosa.feature.melspectrogram(data, sr=sample_rate).T,axis=0)\n"
     ]
    },
    {
     "name": "stdout",
     "output_type": "stream",
     "text": [
      "602\n",
      "fearful_female\n",
      "603\n",
      "angry_female\n"
     ]
    },
    {
     "name": "stderr",
     "output_type": "stream",
     "text": [
      "/var/folders/7h/3y0jb5yx0g399b2y_qtq_db80000gn/T/ipykernel_26966/1257479974.py:14: FutureWarning: Pass y=[ 0.0000000e+00  0.0000000e+00  0.0000000e+00 ... -8.7000581e-06\n",
      "  1.7616265e-05  0.0000000e+00] as keyword args. From version 0.10 passing these as positional arguments will result in an error\n",
      "  mel=np.mean(librosa.feature.melspectrogram(data, sr=sample_rate).T,axis=0)\n"
     ]
    },
    {
     "name": "stdout",
     "output_type": "stream",
     "text": [
      "604\n",
      "angry_female\n"
     ]
    },
    {
     "name": "stderr",
     "output_type": "stream",
     "text": [
      "/var/folders/7h/3y0jb5yx0g399b2y_qtq_db80000gn/T/ipykernel_26966/1257479974.py:14: FutureWarning: Pass y=[0.0000000e+00 0.0000000e+00 0.0000000e+00 ... 4.0864754e-05 3.3656709e-06\n",
      " 0.0000000e+00] as keyword args. From version 0.10 passing these as positional arguments will result in an error\n",
      "  mel=np.mean(librosa.feature.melspectrogram(data, sr=sample_rate).T,axis=0)\n",
      "/var/folders/7h/3y0jb5yx0g399b2y_qtq_db80000gn/T/ipykernel_26966/1257479974.py:14: FutureWarning: Pass y=[ 0.000000e+00  0.000000e+00  0.000000e+00 ...  8.297295e-06 -4.624866e-06\n",
      "  0.000000e+00] as keyword args. From version 0.10 passing these as positional arguments will result in an error\n",
      "  mel=np.mean(librosa.feature.melspectrogram(data, sr=sample_rate).T,axis=0)\n"
     ]
    },
    {
     "name": "stdout",
     "output_type": "stream",
     "text": [
      "605\n",
      "fearful_female\n",
      "606\n",
      "sad_female\n"
     ]
    },
    {
     "name": "stderr",
     "output_type": "stream",
     "text": [
      "/var/folders/7h/3y0jb5yx0g399b2y_qtq_db80000gn/T/ipykernel_26966/1257479974.py:14: FutureWarning: Pass y=[ 0.0000000e+00  0.0000000e+00  0.0000000e+00 ... -6.0333523e-06\n",
      "  2.0026903e-06  0.0000000e+00] as keyword args. From version 0.10 passing these as positional arguments will result in an error\n",
      "  mel=np.mean(librosa.feature.melspectrogram(data, sr=sample_rate).T,axis=0)\n",
      "/var/folders/7h/3y0jb5yx0g399b2y_qtq_db80000gn/T/ipykernel_26966/1257479974.py:14: FutureWarning: Pass y=[ 0.0000000e+00  0.0000000e+00  0.0000000e+00 ... -2.0779416e-05\n",
      " -1.1440129e-05  0.0000000e+00] as keyword args. From version 0.10 passing these as positional arguments will result in an error\n",
      "  mel=np.mean(librosa.feature.melspectrogram(data, sr=sample_rate).T,axis=0)\n"
     ]
    },
    {
     "name": "stdout",
     "output_type": "stream",
     "text": [
      "607\n",
      "disgust_female\n",
      "608\n",
      "disgust_female\n"
     ]
    },
    {
     "name": "stderr",
     "output_type": "stream",
     "text": [
      "/var/folders/7h/3y0jb5yx0g399b2y_qtq_db80000gn/T/ipykernel_26966/1257479974.py:14: FutureWarning: Pass y=[0.0000000e+00 0.0000000e+00 0.0000000e+00 ... 5.8771588e-05 1.0757170e-05\n",
      " 0.0000000e+00] as keyword args. From version 0.10 passing these as positional arguments will result in an error\n",
      "  mel=np.mean(librosa.feature.melspectrogram(data, sr=sample_rate).T,axis=0)\n",
      "/var/folders/7h/3y0jb5yx0g399b2y_qtq_db80000gn/T/ipykernel_26966/1257479974.py:14: FutureWarning: Pass y=[ 0.0000000e+00  0.0000000e+00  0.0000000e+00 ...  1.4675649e-07\n",
      " -1.5817508e-07  0.0000000e+00] as keyword args. From version 0.10 passing these as positional arguments will result in an error\n",
      "  mel=np.mean(librosa.feature.melspectrogram(data, sr=sample_rate).T,axis=0)\n"
     ]
    },
    {
     "name": "stdout",
     "output_type": "stream",
     "text": [
      "609\n",
      "sad_female\n",
      "610\n",
      "surprised_female\n"
     ]
    },
    {
     "name": "stderr",
     "output_type": "stream",
     "text": [
      "/var/folders/7h/3y0jb5yx0g399b2y_qtq_db80000gn/T/ipykernel_26966/1257479974.py:14: FutureWarning: Pass y=[ 9.8888950e-09 -1.1097894e-08  1.2082012e-08 ... -3.6439642e-06\n",
      " -9.5673468e-06  0.0000000e+00] as keyword args. From version 0.10 passing these as positional arguments will result in an error\n",
      "  mel=np.mean(librosa.feature.melspectrogram(data, sr=sample_rate).T,axis=0)\n",
      "/var/folders/7h/3y0jb5yx0g399b2y_qtq_db80000gn/T/ipykernel_26966/1257479974.py:14: FutureWarning: Pass y=[ 0.0000000e+00  0.0000000e+00  0.0000000e+00 ...  3.4000000e-06\n",
      " -2.0477785e-06  0.0000000e+00] as keyword args. From version 0.10 passing these as positional arguments will result in an error\n",
      "  mel=np.mean(librosa.feature.melspectrogram(data, sr=sample_rate).T,axis=0)\n"
     ]
    },
    {
     "name": "stdout",
     "output_type": "stream",
     "text": [
      "611\n",
      "surprised_female\n",
      "612\n",
      "happy_female\n"
     ]
    },
    {
     "name": "stderr",
     "output_type": "stream",
     "text": [
      "/var/folders/7h/3y0jb5yx0g399b2y_qtq_db80000gn/T/ipykernel_26966/1257479974.py:14: FutureWarning: Pass y=[ 0.0000000e+00  0.0000000e+00  0.0000000e+00 ... -5.8532856e-07\n",
      "  3.9286039e-07  0.0000000e+00] as keyword args. From version 0.10 passing these as positional arguments will result in an error\n",
      "  mel=np.mean(librosa.feature.melspectrogram(data, sr=sample_rate).T,axis=0)\n",
      "/var/folders/7h/3y0jb5yx0g399b2y_qtq_db80000gn/T/ipykernel_26966/1257479974.py:14: FutureWarning: Pass y=[ 4.4928523e-08 -4.5277783e-08  4.2849727e-08 ... -2.5665823e-08\n",
      "  2.0447033e-08  0.0000000e+00] as keyword args. From version 0.10 passing these as positional arguments will result in an error\n",
      "  mel=np.mean(librosa.feature.melspectrogram(data, sr=sample_rate).T,axis=0)\n"
     ]
    },
    {
     "name": "stdout",
     "output_type": "stream",
     "text": [
      "613\n",
      "happy_female\n",
      "614\n",
      "calm_female\n"
     ]
    },
    {
     "name": "stderr",
     "output_type": "stream",
     "text": [
      "/var/folders/7h/3y0jb5yx0g399b2y_qtq_db80000gn/T/ipykernel_26966/1257479974.py:14: FutureWarning: Pass y=[ 0.00000000e+00  0.00000000e+00  0.00000000e+00 ... -1.00526734e-07\n",
      "  6.64067841e-08  0.00000000e+00] as keyword args. From version 0.10 passing these as positional arguments will result in an error\n",
      "  mel=np.mean(librosa.feature.melspectrogram(data, sr=sample_rate).T,axis=0)\n",
      "/var/folders/7h/3y0jb5yx0g399b2y_qtq_db80000gn/T/ipykernel_26966/1257479974.py:14: FutureWarning: Pass y=[0.0000000e+00 0.0000000e+00 0.0000000e+00 ... 1.6774069e-05 2.8452225e-05\n",
      " 0.0000000e+00] as keyword args. From version 0.10 passing these as positional arguments will result in an error\n",
      "  mel=np.mean(librosa.feature.melspectrogram(data, sr=sample_rate).T,axis=0)\n"
     ]
    },
    {
     "name": "stdout",
     "output_type": "stream",
     "text": [
      "615\n",
      "calm_female\n",
      "616\n",
      "neutral_female\n",
      "617\n",
      "happy_female\n"
     ]
    },
    {
     "name": "stderr",
     "output_type": "stream",
     "text": [
      "/var/folders/7h/3y0jb5yx0g399b2y_qtq_db80000gn/T/ipykernel_26966/1257479974.py:14: FutureWarning: Pass y=[-3.9523968e-07  6.6444920e-07 -1.0441491e-06 ... -7.1276986e-08\n",
      "  1.3400280e-07  0.0000000e+00] as keyword args. From version 0.10 passing these as positional arguments will result in an error\n",
      "  mel=np.mean(librosa.feature.melspectrogram(data, sr=sample_rate).T,axis=0)\n",
      "/var/folders/7h/3y0jb5yx0g399b2y_qtq_db80000gn/T/ipykernel_26966/1257479974.py:14: FutureWarning: Pass y=[ 0.0000000e+00  0.0000000e+00  0.0000000e+00 ... -2.5591128e-06\n",
      "  1.0328043e-05  0.0000000e+00] as keyword args. From version 0.10 passing these as positional arguments will result in an error\n",
      "  mel=np.mean(librosa.feature.melspectrogram(data, sr=sample_rate).T,axis=0)\n",
      "/var/folders/7h/3y0jb5yx0g399b2y_qtq_db80000gn/T/ipykernel_26966/1257479974.py:14: FutureWarning: Pass y=[ 0.000000e+00  0.000000e+00  0.000000e+00 ... -9.310864e-07  9.413532e-07\n",
      "  0.000000e+00] as keyword args. From version 0.10 passing these as positional arguments will result in an error\n",
      "  mel=np.mean(librosa.feature.melspectrogram(data, sr=sample_rate).T,axis=0)\n"
     ]
    },
    {
     "name": "stdout",
     "output_type": "stream",
     "text": [
      "618\n",
      "happy_female\n",
      "619\n",
      "calm_female\n"
     ]
    },
    {
     "name": "stderr",
     "output_type": "stream",
     "text": [
      "/var/folders/7h/3y0jb5yx0g399b2y_qtq_db80000gn/T/ipykernel_26966/1257479974.py:14: FutureWarning: Pass y=[ 0.0000000e+00  0.0000000e+00  0.0000000e+00 ...  3.0355711e-06\n",
      " -1.6967358e-06  0.0000000e+00] as keyword args. From version 0.10 passing these as positional arguments will result in an error\n",
      "  mel=np.mean(librosa.feature.melspectrogram(data, sr=sample_rate).T,axis=0)\n",
      "/var/folders/7h/3y0jb5yx0g399b2y_qtq_db80000gn/T/ipykernel_26966/1257479974.py:14: FutureWarning: Pass y=[ 0.0000000e+00  0.0000000e+00  0.0000000e+00 ... -1.2571147e-06\n",
      "  9.5050882e-07  0.0000000e+00] as keyword args. From version 0.10 passing these as positional arguments will result in an error\n",
      "  mel=np.mean(librosa.feature.melspectrogram(data, sr=sample_rate).T,axis=0)\n"
     ]
    },
    {
     "name": "stdout",
     "output_type": "stream",
     "text": [
      "620\n",
      "neutral_female\n",
      "621\n",
      "calm_female\n"
     ]
    },
    {
     "name": "stderr",
     "output_type": "stream",
     "text": [
      "/var/folders/7h/3y0jb5yx0g399b2y_qtq_db80000gn/T/ipykernel_26966/1257479974.py:14: FutureWarning: Pass y=[ 0.0000000e+00  0.0000000e+00  0.0000000e+00 ... -1.1143312e-05\n",
      " -6.3544953e-06  0.0000000e+00] as keyword args. From version 0.10 passing these as positional arguments will result in an error\n",
      "  mel=np.mean(librosa.feature.melspectrogram(data, sr=sample_rate).T,axis=0)\n",
      "/var/folders/7h/3y0jb5yx0g399b2y_qtq_db80000gn/T/ipykernel_26966/1257479974.py:14: FutureWarning: Pass y=[ 2.1920941e-07 -2.4629907e-07  2.6953737e-07 ...  5.5462158e-05\n",
      "  3.0883904e-05  0.0000000e+00] as keyword args. From version 0.10 passing these as positional arguments will result in an error\n",
      "  mel=np.mean(librosa.feature.melspectrogram(data, sr=sample_rate).T,axis=0)\n"
     ]
    },
    {
     "name": "stdout",
     "output_type": "stream",
     "text": [
      "622\n",
      "angry_female\n",
      "623\n",
      "fearful_female\n"
     ]
    },
    {
     "name": "stderr",
     "output_type": "stream",
     "text": [
      "/var/folders/7h/3y0jb5yx0g399b2y_qtq_db80000gn/T/ipykernel_26966/1257479974.py:14: FutureWarning: Pass y=[ 0.0000000e+00  0.0000000e+00  0.0000000e+00 ...  3.6295889e-06\n",
      " -1.0528364e-05  0.0000000e+00] as keyword args. From version 0.10 passing these as positional arguments will result in an error\n",
      "  mel=np.mean(librosa.feature.melspectrogram(data, sr=sample_rate).T,axis=0)\n",
      "/var/folders/7h/3y0jb5yx0g399b2y_qtq_db80000gn/T/ipykernel_26966/1257479974.py:14: FutureWarning: Pass y=[0.00000000e+00 0.00000000e+00 0.00000000e+00 ... 7.87200315e-06\n",
      " 1.20253435e-05 0.00000000e+00] as keyword args. From version 0.10 passing these as positional arguments will result in an error\n",
      "  mel=np.mean(librosa.feature.melspectrogram(data, sr=sample_rate).T,axis=0)\n"
     ]
    },
    {
     "name": "stdout",
     "output_type": "stream",
     "text": [
      "624\n",
      "fearful_female\n",
      "625\n",
      "angry_female\n"
     ]
    },
    {
     "name": "stderr",
     "output_type": "stream",
     "text": [
      "/var/folders/7h/3y0jb5yx0g399b2y_qtq_db80000gn/T/ipykernel_26966/1257479974.py:14: FutureWarning: Pass y=[ 0.0000000e+00  0.0000000e+00  0.0000000e+00 ... -5.6766720e-07\n",
      "  1.0469296e-05  0.0000000e+00] as keyword args. From version 0.10 passing these as positional arguments will result in an error\n",
      "  mel=np.mean(librosa.feature.melspectrogram(data, sr=sample_rate).T,axis=0)\n"
     ]
    },
    {
     "name": "stdout",
     "output_type": "stream",
     "text": [
      "626\n",
      "disgust_female\n"
     ]
    },
    {
     "name": "stderr",
     "output_type": "stream",
     "text": [
      "/var/folders/7h/3y0jb5yx0g399b2y_qtq_db80000gn/T/ipykernel_26966/1257479974.py:14: FutureWarning: Pass y=[ 0.0000000e+00  0.0000000e+00  0.0000000e+00 ... -1.2222254e-05\n",
      "  1.6958185e-06  0.0000000e+00] as keyword args. From version 0.10 passing these as positional arguments will result in an error\n",
      "  mel=np.mean(librosa.feature.melspectrogram(data, sr=sample_rate).T,axis=0)\n",
      "/var/folders/7h/3y0jb5yx0g399b2y_qtq_db80000gn/T/ipykernel_26966/1257479974.py:14: FutureWarning: Pass y=[ 0.0000000e+00  0.0000000e+00  0.0000000e+00 ...  2.4772211e-08\n",
      " -1.8966952e-08  0.0000000e+00] as keyword args. From version 0.10 passing these as positional arguments will result in an error\n",
      "  mel=np.mean(librosa.feature.melspectrogram(data, sr=sample_rate).T,axis=0)\n"
     ]
    },
    {
     "name": "stdout",
     "output_type": "stream",
     "text": [
      "627\n",
      "sad_female\n",
      "628\n",
      "sad_female\n",
      "629\n",
      "disgust_female\n"
     ]
    },
    {
     "name": "stderr",
     "output_type": "stream",
     "text": [
      "/var/folders/7h/3y0jb5yx0g399b2y_qtq_db80000gn/T/ipykernel_26966/1257479974.py:14: FutureWarning: Pass y=[ 0.0000000e+00  0.0000000e+00  0.0000000e+00 ... -7.5162466e-06\n",
      "  1.6694149e-06  0.0000000e+00] as keyword args. From version 0.10 passing these as positional arguments will result in an error\n",
      "  mel=np.mean(librosa.feature.melspectrogram(data, sr=sample_rate).T,axis=0)\n",
      "/var/folders/7h/3y0jb5yx0g399b2y_qtq_db80000gn/T/ipykernel_26966/1257479974.py:14: FutureWarning: Pass y=[ 0.0000000e+00  0.0000000e+00  0.0000000e+00 ...  5.1577268e-07\n",
      " -4.3039952e-07  0.0000000e+00] as keyword args. From version 0.10 passing these as positional arguments will result in an error\n",
      "  mel=np.mean(librosa.feature.melspectrogram(data, sr=sample_rate).T,axis=0)\n",
      "/var/folders/7h/3y0jb5yx0g399b2y_qtq_db80000gn/T/ipykernel_26966/1257479974.py:14: FutureWarning: Pass y=[-3.4513546e-06  1.2484139e-05  2.2774568e-05 ...  1.2420169e-05\n",
      " -7.0045388e-07  0.0000000e+00] as keyword args. From version 0.10 passing these as positional arguments will result in an error\n",
      "  mel=np.mean(librosa.feature.melspectrogram(data, sr=sample_rate).T,axis=0)\n"
     ]
    },
    {
     "name": "stdout",
     "output_type": "stream",
     "text": [
      "630\n",
      "surprised_female\n",
      "631\n",
      "surprised_female\n",
      "632\n",
      "neutral_female\n"
     ]
    },
    {
     "name": "stderr",
     "output_type": "stream",
     "text": [
      "/var/folders/7h/3y0jb5yx0g399b2y_qtq_db80000gn/T/ipykernel_26966/1257479974.py:14: FutureWarning: Pass y=[0.0000000e+00 0.0000000e+00 0.0000000e+00 ... 1.2005078e-05 7.0776796e-06\n",
      " 0.0000000e+00] as keyword args. From version 0.10 passing these as positional arguments will result in an error\n",
      "  mel=np.mean(librosa.feature.melspectrogram(data, sr=sample_rate).T,axis=0)\n"
     ]
    },
    {
     "name": "stdout",
     "output_type": "stream",
     "text": [
      "633\n",
      "calm_female\n"
     ]
    },
    {
     "name": "stderr",
     "output_type": "stream",
     "text": [
      "/var/folders/7h/3y0jb5yx0g399b2y_qtq_db80000gn/T/ipykernel_26966/1257479974.py:14: FutureWarning: Pass y=[ 0.0000000e+00  0.0000000e+00  0.0000000e+00 ... -8.5952570e-07\n",
      "  1.5639772e-07  0.0000000e+00] as keyword args. From version 0.10 passing these as positional arguments will result in an error\n",
      "  mel=np.mean(librosa.feature.melspectrogram(data, sr=sample_rate).T,axis=0)\n"
     ]
    },
    {
     "name": "stdout",
     "output_type": "stream",
     "text": [
      "634\n",
      "calm_female\n"
     ]
    },
    {
     "name": "stderr",
     "output_type": "stream",
     "text": [
      "/var/folders/7h/3y0jb5yx0g399b2y_qtq_db80000gn/T/ipykernel_26966/1257479974.py:14: FutureWarning: Pass y=[ 0.0000000e+00  0.0000000e+00  0.0000000e+00 ... -1.0399365e-09\n",
      "  1.1453676e-09  0.0000000e+00] as keyword args. From version 0.10 passing these as positional arguments will result in an error\n",
      "  mel=np.mean(librosa.feature.melspectrogram(data, sr=sample_rate).T,axis=0)\n",
      "/var/folders/7h/3y0jb5yx0g399b2y_qtq_db80000gn/T/ipykernel_26966/1257479974.py:14: FutureWarning: Pass y=[-1.1643693e-07  1.1455914e-07 -1.0614121e-07 ...  9.8503428e-08\n",
      " -6.5785684e-08  0.0000000e+00] as keyword args. From version 0.10 passing these as positional arguments will result in an error\n",
      "  mel=np.mean(librosa.feature.melspectrogram(data, sr=sample_rate).T,axis=0)\n"
     ]
    },
    {
     "name": "stdout",
     "output_type": "stream",
     "text": [
      "635\n",
      "happy_female\n",
      "636\n",
      "happy_female\n"
     ]
    },
    {
     "name": "stderr",
     "output_type": "stream",
     "text": [
      "/var/folders/7h/3y0jb5yx0g399b2y_qtq_db80000gn/T/ipykernel_26966/1257479974.py:14: FutureWarning: Pass y=[ 0.0000000e+00  0.0000000e+00  0.0000000e+00 ... -1.2620355e-05\n",
      " -2.0442327e-05  0.0000000e+00] as keyword args. From version 0.10 passing these as positional arguments will result in an error\n",
      "  mel=np.mean(librosa.feature.melspectrogram(data, sr=sample_rate).T,axis=0)\n"
     ]
    },
    {
     "name": "stdout",
     "output_type": "stream",
     "text": [
      "637\n",
      "sad_female\n"
     ]
    },
    {
     "name": "stderr",
     "output_type": "stream",
     "text": [
      "/var/folders/7h/3y0jb5yx0g399b2y_qtq_db80000gn/T/ipykernel_26966/1257479974.py:14: FutureWarning: Pass y=[ 0.000000e+00  0.000000e+00  0.000000e+00 ... -6.629852e-09  8.989225e-09\n",
      "  0.000000e+00] as keyword args. From version 0.10 passing these as positional arguments will result in an error\n",
      "  mel=np.mean(librosa.feature.melspectrogram(data, sr=sample_rate).T,axis=0)\n"
     ]
    },
    {
     "name": "stdout",
     "output_type": "stream",
     "text": [
      "638\n",
      "disgust_female\n"
     ]
    },
    {
     "name": "stderr",
     "output_type": "stream",
     "text": [
      "/var/folders/7h/3y0jb5yx0g399b2y_qtq_db80000gn/T/ipykernel_26966/1257479974.py:14: FutureWarning: Pass y=[ 0.0000000e+00  0.0000000e+00  0.0000000e+00 ...  4.1845183e-06\n",
      " -1.8399295e-06  0.0000000e+00] as keyword args. From version 0.10 passing these as positional arguments will result in an error\n",
      "  mel=np.mean(librosa.feature.melspectrogram(data, sr=sample_rate).T,axis=0)\n"
     ]
    },
    {
     "name": "stdout",
     "output_type": "stream",
     "text": [
      "639\n",
      "disgust_female\n"
     ]
    },
    {
     "name": "stderr",
     "output_type": "stream",
     "text": [
      "/var/folders/7h/3y0jb5yx0g399b2y_qtq_db80000gn/T/ipykernel_26966/1257479974.py:14: FutureWarning: Pass y=[ 0.0000000e+00  0.0000000e+00  0.0000000e+00 ... -4.8468177e-05\n",
      " -3.9741150e-05  0.0000000e+00] as keyword args. From version 0.10 passing these as positional arguments will result in an error\n",
      "  mel=np.mean(librosa.feature.melspectrogram(data, sr=sample_rate).T,axis=0)\n"
     ]
    },
    {
     "name": "stdout",
     "output_type": "stream",
     "text": [
      "640\n",
      "sad_female\n"
     ]
    },
    {
     "name": "stderr",
     "output_type": "stream",
     "text": [
      "/var/folders/7h/3y0jb5yx0g399b2y_qtq_db80000gn/T/ipykernel_26966/1257479974.py:14: FutureWarning: Pass y=[ 0.0000000e+00  0.0000000e+00  0.0000000e+00 ... -1.3064353e-06\n",
      "  9.0656295e-07  0.0000000e+00] as keyword args. From version 0.10 passing these as positional arguments will result in an error\n",
      "  mel=np.mean(librosa.feature.melspectrogram(data, sr=sample_rate).T,axis=0)\n"
     ]
    },
    {
     "name": "stdout",
     "output_type": "stream",
     "text": [
      "641\n",
      "fearful_female\n"
     ]
    },
    {
     "name": "stderr",
     "output_type": "stream",
     "text": [
      "/var/folders/7h/3y0jb5yx0g399b2y_qtq_db80000gn/T/ipykernel_26966/1257479974.py:14: FutureWarning: Pass y=[ 0.0000000e+00  0.0000000e+00  0.0000000e+00 ...  2.4032622e-07\n",
      " -1.0603911e-06  0.0000000e+00] as keyword args. From version 0.10 passing these as positional arguments will result in an error\n",
      "  mel=np.mean(librosa.feature.melspectrogram(data, sr=sample_rate).T,axis=0)\n"
     ]
    },
    {
     "name": "stdout",
     "output_type": "stream",
     "text": [
      "642\n",
      "angry_female\n"
     ]
    },
    {
     "name": "stderr",
     "output_type": "stream",
     "text": [
      "/var/folders/7h/3y0jb5yx0g399b2y_qtq_db80000gn/T/ipykernel_26966/1257479974.py:14: FutureWarning: Pass y=[ 0.0000000e+00  0.0000000e+00  0.0000000e+00 ... -3.1734178e-06\n",
      "  2.7482961e-06  0.0000000e+00] as keyword args. From version 0.10 passing these as positional arguments will result in an error\n",
      "  mel=np.mean(librosa.feature.melspectrogram(data, sr=sample_rate).T,axis=0)\n"
     ]
    },
    {
     "name": "stdout",
     "output_type": "stream",
     "text": [
      "643\n",
      "angry_female\n"
     ]
    },
    {
     "name": "stderr",
     "output_type": "stream",
     "text": [
      "/var/folders/7h/3y0jb5yx0g399b2y_qtq_db80000gn/T/ipykernel_26966/1257479974.py:14: FutureWarning: Pass y=[ 0.0000000e+00  0.0000000e+00  0.0000000e+00 ...  2.7455296e-06\n",
      " -2.6672597e-06  0.0000000e+00] as keyword args. From version 0.10 passing these as positional arguments will result in an error\n",
      "  mel=np.mean(librosa.feature.melspectrogram(data, sr=sample_rate).T,axis=0)\n",
      "/var/folders/7h/3y0jb5yx0g399b2y_qtq_db80000gn/T/ipykernel_26966/1257479974.py:14: FutureWarning: Pass y=[ 0.0000000e+00  0.0000000e+00  0.0000000e+00 ... -1.9399242e-05\n",
      " -2.7866641e-05  0.0000000e+00] as keyword args. From version 0.10 passing these as positional arguments will result in an error\n",
      "  mel=np.mean(librosa.feature.melspectrogram(data, sr=sample_rate).T,axis=0)\n"
     ]
    },
    {
     "name": "stdout",
     "output_type": "stream",
     "text": [
      "644\n",
      "fearful_female\n",
      "645\n",
      "surprised_female\n"
     ]
    },
    {
     "name": "stderr",
     "output_type": "stream",
     "text": [
      "/var/folders/7h/3y0jb5yx0g399b2y_qtq_db80000gn/T/ipykernel_26966/1257479974.py:14: FutureWarning: Pass y=[ 0.0000000e+00  0.0000000e+00  0.0000000e+00 ...  2.1741633e-07\n",
      " -3.6610585e-05  0.0000000e+00] as keyword args. From version 0.10 passing these as positional arguments will result in an error\n",
      "  mel=np.mean(librosa.feature.melspectrogram(data, sr=sample_rate).T,axis=0)\n"
     ]
    },
    {
     "name": "stdout",
     "output_type": "stream",
     "text": [
      "646\n",
      "surprised_female\n"
     ]
    },
    {
     "name": "stderr",
     "output_type": "stream",
     "text": [
      "/var/folders/7h/3y0jb5yx0g399b2y_qtq_db80000gn/T/ipykernel_26966/1257479974.py:14: FutureWarning: Pass y=[ 0.0000000e+00  0.0000000e+00  0.0000000e+00 ... -1.0687307e-07\n",
      "  7.5436581e-08  0.0000000e+00] as keyword args. From version 0.10 passing these as positional arguments will result in an error\n",
      "  mel=np.mean(librosa.feature.melspectrogram(data, sr=sample_rate).T,axis=0)\n"
     ]
    },
    {
     "name": "stdout",
     "output_type": "stream",
     "text": [
      "647\n",
      "disgust_female\n"
     ]
    },
    {
     "name": "stderr",
     "output_type": "stream",
     "text": [
      "/var/folders/7h/3y0jb5yx0g399b2y_qtq_db80000gn/T/ipykernel_26966/1257479974.py:14: FutureWarning: Pass y=[ 0.0000000e+00  0.0000000e+00  0.0000000e+00 ...  3.3059273e-06\n",
      " -1.0109745e-06  0.0000000e+00] as keyword args. From version 0.10 passing these as positional arguments will result in an error\n",
      "  mel=np.mean(librosa.feature.melspectrogram(data, sr=sample_rate).T,axis=0)\n",
      "/var/folders/7h/3y0jb5yx0g399b2y_qtq_db80000gn/T/ipykernel_26966/1257479974.py:14: FutureWarning: Pass y=[ 0.000000e+00  0.000000e+00  0.000000e+00 ... -9.854079e-10  5.682514e-10\n",
      "  0.000000e+00] as keyword args. From version 0.10 passing these as positional arguments will result in an error\n",
      "  mel=np.mean(librosa.feature.melspectrogram(data, sr=sample_rate).T,axis=0)\n"
     ]
    },
    {
     "name": "stdout",
     "output_type": "stream",
     "text": [
      "648\n",
      "sad_female\n",
      "649\n",
      "sad_female\n"
     ]
    },
    {
     "name": "stderr",
     "output_type": "stream",
     "text": [
      "/var/folders/7h/3y0jb5yx0g399b2y_qtq_db80000gn/T/ipykernel_26966/1257479974.py:14: FutureWarning: Pass y=[ 0.0000000e+00  0.0000000e+00  0.0000000e+00 ... -4.8903757e-06\n",
      "  1.8546767e-05  0.0000000e+00] as keyword args. From version 0.10 passing these as positional arguments will result in an error\n",
      "  mel=np.mean(librosa.feature.melspectrogram(data, sr=sample_rate).T,axis=0)\n"
     ]
    },
    {
     "name": "stdout",
     "output_type": "stream",
     "text": [
      "650\n",
      "disgust_female\n"
     ]
    },
    {
     "name": "stderr",
     "output_type": "stream",
     "text": [
      "/var/folders/7h/3y0jb5yx0g399b2y_qtq_db80000gn/T/ipykernel_26966/1257479974.py:14: FutureWarning: Pass y=[ 0.000000e+00  0.000000e+00  0.000000e+00 ... -3.228069e-07  3.668273e-07\n",
      "  0.000000e+00] as keyword args. From version 0.10 passing these as positional arguments will result in an error\n",
      "  mel=np.mean(librosa.feature.melspectrogram(data, sr=sample_rate).T,axis=0)\n"
     ]
    },
    {
     "name": "stdout",
     "output_type": "stream",
     "text": [
      "651\n",
      "angry_female\n"
     ]
    },
    {
     "name": "stderr",
     "output_type": "stream",
     "text": [
      "/var/folders/7h/3y0jb5yx0g399b2y_qtq_db80000gn/T/ipykernel_26966/1257479974.py:14: FutureWarning: Pass y=[0.0000000e+00 0.0000000e+00 0.0000000e+00 ... 1.5116990e-05 1.3142598e-05\n",
      " 0.0000000e+00] as keyword args. From version 0.10 passing these as positional arguments will result in an error\n",
      "  mel=np.mean(librosa.feature.melspectrogram(data, sr=sample_rate).T,axis=0)\n",
      "/var/folders/7h/3y0jb5yx0g399b2y_qtq_db80000gn/T/ipykernel_26966/1257479974.py:14: FutureWarning: Pass y=[ 0.0000000e+00  0.0000000e+00  0.0000000e+00 ... -1.0922703e-04\n",
      " -7.8768033e-05  0.0000000e+00] as keyword args. From version 0.10 passing these as positional arguments will result in an error\n",
      "  mel=np.mean(librosa.feature.melspectrogram(data, sr=sample_rate).T,axis=0)\n"
     ]
    },
    {
     "name": "stdout",
     "output_type": "stream",
     "text": [
      "652\n",
      "fearful_female\n",
      "653\n",
      "fearful_female\n"
     ]
    },
    {
     "name": "stderr",
     "output_type": "stream",
     "text": [
      "/var/folders/7h/3y0jb5yx0g399b2y_qtq_db80000gn/T/ipykernel_26966/1257479974.py:14: FutureWarning: Pass y=[ 0.0000000e+00  0.0000000e+00  0.0000000e+00 ...  8.9263922e-06\n",
      " -2.8124093e-06  0.0000000e+00] as keyword args. From version 0.10 passing these as positional arguments will result in an error\n",
      "  mel=np.mean(librosa.feature.melspectrogram(data, sr=sample_rate).T,axis=0)\n",
      "/var/folders/7h/3y0jb5yx0g399b2y_qtq_db80000gn/T/ipykernel_26966/1257479974.py:14: FutureWarning: Pass y=[ 0.0000000e+00  0.0000000e+00  0.0000000e+00 ... -2.0169829e-05\n",
      " -1.5371781e-05  0.0000000e+00] as keyword args. From version 0.10 passing these as positional arguments will result in an error\n",
      "  mel=np.mean(librosa.feature.melspectrogram(data, sr=sample_rate).T,axis=0)\n"
     ]
    },
    {
     "name": "stdout",
     "output_type": "stream",
     "text": [
      "654\n",
      "angry_female\n",
      "655\n",
      "surprised_female\n"
     ]
    },
    {
     "name": "stderr",
     "output_type": "stream",
     "text": [
      "/var/folders/7h/3y0jb5yx0g399b2y_qtq_db80000gn/T/ipykernel_26966/1257479974.py:14: FutureWarning: Pass y=[ 0.0000000e+00  0.0000000e+00  0.0000000e+00 ...  4.4238159e-06\n",
      " -2.7658448e-06  0.0000000e+00] as keyword args. From version 0.10 passing these as positional arguments will result in an error\n",
      "  mel=np.mean(librosa.feature.melspectrogram(data, sr=sample_rate).T,axis=0)\n"
     ]
    },
    {
     "name": "stdout",
     "output_type": "stream",
     "text": [
      "656\n",
      "surprised_female\n"
     ]
    },
    {
     "name": "stderr",
     "output_type": "stream",
     "text": [
      "/var/folders/7h/3y0jb5yx0g399b2y_qtq_db80000gn/T/ipykernel_26966/1257479974.py:14: FutureWarning: Pass y=[ 0.000000e+00  0.000000e+00  0.000000e+00 ...  4.471329e-07 -6.257861e-07\n",
      "  0.000000e+00] as keyword args. From version 0.10 passing these as positional arguments will result in an error\n",
      "  mel=np.mean(librosa.feature.melspectrogram(data, sr=sample_rate).T,axis=0)\n"
     ]
    },
    {
     "name": "stdout",
     "output_type": "stream",
     "text": [
      "657\n",
      "calm_female\n"
     ]
    },
    {
     "name": "stderr",
     "output_type": "stream",
     "text": [
      "/var/folders/7h/3y0jb5yx0g399b2y_qtq_db80000gn/T/ipykernel_26966/1257479974.py:14: FutureWarning: Pass y=[ 0.0000000e+00  0.0000000e+00  0.0000000e+00 ... -1.9454505e-06\n",
      "  6.5684562e-06  0.0000000e+00] as keyword args. From version 0.10 passing these as positional arguments will result in an error\n",
      "  mel=np.mean(librosa.feature.melspectrogram(data, sr=sample_rate).T,axis=0)\n",
      "/var/folders/7h/3y0jb5yx0g399b2y_qtq_db80000gn/T/ipykernel_26966/1257479974.py:14: FutureWarning: Pass y=[ 0.0000000e+00  0.0000000e+00  0.0000000e+00 ...  9.5344330e-06\n",
      " -9.3607144e-07  0.0000000e+00] as keyword args. From version 0.10 passing these as positional arguments will result in an error\n",
      "  mel=np.mean(librosa.feature.melspectrogram(data, sr=sample_rate).T,axis=0)\n"
     ]
    },
    {
     "name": "stdout",
     "output_type": "stream",
     "text": [
      "658\n",
      "neutral_female\n",
      "659\n",
      "calm_female\n"
     ]
    },
    {
     "name": "stderr",
     "output_type": "stream",
     "text": [
      "/var/folders/7h/3y0jb5yx0g399b2y_qtq_db80000gn/T/ipykernel_26966/1257479974.py:14: FutureWarning: Pass y=[ 0.0000000e+00  0.0000000e+00  0.0000000e+00 ... -4.8290646e-11\n",
      "  3.8933190e-11  0.0000000e+00] as keyword args. From version 0.10 passing these as positional arguments will result in an error\n",
      "  mel=np.mean(librosa.feature.melspectrogram(data, sr=sample_rate).T,axis=0)\n",
      "/var/folders/7h/3y0jb5yx0g399b2y_qtq_db80000gn/T/ipykernel_26966/1257479974.py:14: FutureWarning: Pass y=[ 1.4367696e-11 -2.6779638e-11  4.5882461e-11 ... -4.3909294e-09\n",
      "  3.2419845e-09  0.0000000e+00] as keyword args. From version 0.10 passing these as positional arguments will result in an error\n",
      "  mel=np.mean(librosa.feature.melspectrogram(data, sr=sample_rate).T,axis=0)\n"
     ]
    },
    {
     "name": "stdout",
     "output_type": "stream",
     "text": [
      "660\n",
      "happy_female\n",
      "661\n",
      "happy_female\n"
     ]
    },
    {
     "name": "stderr",
     "output_type": "stream",
     "text": [
      "/var/folders/7h/3y0jb5yx0g399b2y_qtq_db80000gn/T/ipykernel_26966/1257479974.py:14: FutureWarning: Pass y=[ 0.0000000e+00  0.0000000e+00  0.0000000e+00 ...  2.5969632e-06\n",
      " -2.2879116e-05  0.0000000e+00] as keyword args. From version 0.10 passing these as positional arguments will result in an error\n",
      "  mel=np.mean(librosa.feature.melspectrogram(data, sr=sample_rate).T,axis=0)\n"
     ]
    },
    {
     "name": "stdout",
     "output_type": "stream",
     "text": [
      "662\n",
      "calm_male\n"
     ]
    },
    {
     "name": "stderr",
     "output_type": "stream",
     "text": [
      "/var/folders/7h/3y0jb5yx0g399b2y_qtq_db80000gn/T/ipykernel_26966/1257479974.py:14: FutureWarning: Pass y=[ 4.5338864e-05  6.4133186e-05  6.1149338e-05 ... -2.4454667e-07\n",
      "  1.9225814e-07  0.0000000e+00] as keyword args. From version 0.10 passing these as positional arguments will result in an error\n",
      "  mel=np.mean(librosa.feature.melspectrogram(data, sr=sample_rate).T,axis=0)\n",
      "/var/folders/7h/3y0jb5yx0g399b2y_qtq_db80000gn/T/ipykernel_26966/1257479974.py:14: FutureWarning: Pass y=[ 4.7317033e-05  3.9025010e-05  2.9864341e-05 ... -6.5018110e-05\n",
      " -6.6927751e-05  0.0000000e+00] as keyword args. From version 0.10 passing these as positional arguments will result in an error\n",
      "  mel=np.mean(librosa.feature.melspectrogram(data, sr=sample_rate).T,axis=0)\n"
     ]
    },
    {
     "name": "stdout",
     "output_type": "stream",
     "text": [
      "663\n",
      "neutral_male\n",
      "664\n",
      "calm_male\n"
     ]
    },
    {
     "name": "stderr",
     "output_type": "stream",
     "text": [
      "/var/folders/7h/3y0jb5yx0g399b2y_qtq_db80000gn/T/ipykernel_26966/1257479974.py:14: FutureWarning: Pass y=[-2.1658934e-06  3.9368042e-06  1.1613815e-05 ... -2.1059854e-05\n",
      " -3.0464932e-06  0.0000000e+00] as keyword args. From version 0.10 passing these as positional arguments will result in an error\n",
      "  mel=np.mean(librosa.feature.melspectrogram(data, sr=sample_rate).T,axis=0)\n",
      "/var/folders/7h/3y0jb5yx0g399b2y_qtq_db80000gn/T/ipykernel_26966/1257479974.py:14: FutureWarning: Pass y=[ 0.000000e+00  0.000000e+00  0.000000e+00 ... -1.290730e-07  3.566248e-06\n",
      "  0.000000e+00] as keyword args. From version 0.10 passing these as positional arguments will result in an error\n",
      "  mel=np.mean(librosa.feature.melspectrogram(data, sr=sample_rate).T,axis=0)\n"
     ]
    },
    {
     "name": "stdout",
     "output_type": "stream",
     "text": [
      "665\n",
      "happy_male\n",
      "666\n",
      "happy_male\n"
     ]
    },
    {
     "name": "stderr",
     "output_type": "stream",
     "text": [
      "/var/folders/7h/3y0jb5yx0g399b2y_qtq_db80000gn/T/ipykernel_26966/1257479974.py:14: FutureWarning: Pass y=[-2.0307918e-05 -5.2298026e-05 -3.7236270e-05 ...  6.7980865e-05\n",
      "  5.5757686e-05  0.0000000e+00] as keyword args. From version 0.10 passing these as positional arguments will result in an error\n",
      "  mel=np.mean(librosa.feature.melspectrogram(data, sr=sample_rate).T,axis=0)\n"
     ]
    },
    {
     "name": "stdout",
     "output_type": "stream",
     "text": [
      "667\n",
      "disgust_male\n"
     ]
    },
    {
     "name": "stderr",
     "output_type": "stream",
     "text": [
      "/var/folders/7h/3y0jb5yx0g399b2y_qtq_db80000gn/T/ipykernel_26966/1257479974.py:14: FutureWarning: Pass y=[-1.13477563e-05 -2.84036541e-05 -1.60181480e-05 ...  1.24570115e-05\n",
      "  2.62297931e-06  0.00000000e+00] as keyword args. From version 0.10 passing these as positional arguments will result in an error\n",
      "  mel=np.mean(librosa.feature.melspectrogram(data, sr=sample_rate).T,axis=0)\n",
      "/var/folders/7h/3y0jb5yx0g399b2y_qtq_db80000gn/T/ipykernel_26966/1257479974.py:14: FutureWarning: Pass y=[-5.6513377e-10  5.6155414e-10 -4.8353166e-10 ... -1.6136604e-11\n",
      "  8.8421362e-12  0.0000000e+00] as keyword args. From version 0.10 passing these as positional arguments will result in an error\n",
      "  mel=np.mean(librosa.feature.melspectrogram(data, sr=sample_rate).T,axis=0)\n"
     ]
    },
    {
     "name": "stdout",
     "output_type": "stream",
     "text": [
      "668\n",
      "sad_male\n",
      "669\n",
      "sad_male\n"
     ]
    },
    {
     "name": "stderr",
     "output_type": "stream",
     "text": [
      "/var/folders/7h/3y0jb5yx0g399b2y_qtq_db80000gn/T/ipykernel_26966/1257479974.py:14: FutureWarning: Pass y=[-2.0553965e-05 -4.2396623e-05 -1.0524698e-05 ... -3.0571544e-05\n",
      " -2.4053348e-05  0.0000000e+00] as keyword args. From version 0.10 passing these as positional arguments will result in an error\n",
      "  mel=np.mean(librosa.feature.melspectrogram(data, sr=sample_rate).T,axis=0)\n"
     ]
    },
    {
     "name": "stdout",
     "output_type": "stream",
     "text": [
      "670\n",
      "disgust_male\n"
     ]
    },
    {
     "name": "stderr",
     "output_type": "stream",
     "text": [
      "/var/folders/7h/3y0jb5yx0g399b2y_qtq_db80000gn/T/ipykernel_26966/1257479974.py:14: FutureWarning: Pass y=[ 0.0000000e+00  0.0000000e+00  0.0000000e+00 ... -2.0438638e-06\n",
      "  1.8789329e-06  0.0000000e+00] as keyword args. From version 0.10 passing these as positional arguments will result in an error\n",
      "  mel=np.mean(librosa.feature.melspectrogram(data, sr=sample_rate).T,axis=0)\n",
      "/var/folders/7h/3y0jb5yx0g399b2y_qtq_db80000gn/T/ipykernel_26966/1257479974.py:14: FutureWarning: Pass y=[ 3.2741729e-05  4.4509747e-05  6.1068335e-05 ...  1.6678016e-06\n",
      " -1.0763705e-06  0.0000000e+00] as keyword args. From version 0.10 passing these as positional arguments will result in an error\n",
      "  mel=np.mean(librosa.feature.melspectrogram(data, sr=sample_rate).T,axis=0)\n"
     ]
    },
    {
     "name": "stdout",
     "output_type": "stream",
     "text": [
      "671\n",
      "angry_male\n",
      "672\n",
      "fearful_male\n"
     ]
    },
    {
     "name": "stderr",
     "output_type": "stream",
     "text": [
      "/var/folders/7h/3y0jb5yx0g399b2y_qtq_db80000gn/T/ipykernel_26966/1257479974.py:14: FutureWarning: Pass y=[-9.1553221e-07 -8.4279700e-06 -6.8802234e-05 ... -5.4985612e-05\n",
      " -3.5104029e-05  0.0000000e+00] as keyword args. From version 0.10 passing these as positional arguments will result in an error\n",
      "  mel=np.mean(librosa.feature.melspectrogram(data, sr=sample_rate).T,axis=0)\n",
      "/var/folders/7h/3y0jb5yx0g399b2y_qtq_db80000gn/T/ipykernel_26966/1257479974.py:14: FutureWarning: Pass y=[ 0.00000000e+00  0.00000000e+00  0.00000000e+00 ... -5.09070333e-06\n",
      " -1.19693605e-05  0.00000000e+00] as keyword args. From version 0.10 passing these as positional arguments will result in an error\n",
      "  mel=np.mean(librosa.feature.melspectrogram(data, sr=sample_rate).T,axis=0)\n"
     ]
    },
    {
     "name": "stdout",
     "output_type": "stream",
     "text": [
      "673\n",
      "fearful_male\n",
      "674\n",
      "angry_male\n"
     ]
    },
    {
     "name": "stderr",
     "output_type": "stream",
     "text": [
      "/var/folders/7h/3y0jb5yx0g399b2y_qtq_db80000gn/T/ipykernel_26966/1257479974.py:14: FutureWarning: Pass y=[2.1027583e-06 1.2816869e-05 2.5317141e-07 ... 1.6772628e-05 1.7535847e-05\n",
      " 0.0000000e+00] as keyword args. From version 0.10 passing these as positional arguments will result in an error\n",
      "  mel=np.mean(librosa.feature.melspectrogram(data, sr=sample_rate).T,axis=0)\n",
      "/var/folders/7h/3y0jb5yx0g399b2y_qtq_db80000gn/T/ipykernel_26966/1257479974.py:14: FutureWarning: Pass y=[0.0000000e+00 0.0000000e+00 0.0000000e+00 ... 1.2176814e-05 3.6829738e-06\n",
      " 0.0000000e+00] as keyword args. From version 0.10 passing these as positional arguments will result in an error\n",
      "  mel=np.mean(librosa.feature.melspectrogram(data, sr=sample_rate).T,axis=0)\n"
     ]
    },
    {
     "name": "stdout",
     "output_type": "stream",
     "text": [
      "675\n",
      "surprised_male\n",
      "676\n",
      "surprised_male\n"
     ]
    },
    {
     "name": "stderr",
     "output_type": "stream",
     "text": [
      "/var/folders/7h/3y0jb5yx0g399b2y_qtq_db80000gn/T/ipykernel_26966/1257479974.py:14: FutureWarning: Pass y=[-1.15663852e-05 -1.01556425e-05 -7.90926424e-06 ...  7.01912541e-07\n",
      "  2.21334130e-06  0.00000000e+00] as keyword args. From version 0.10 passing these as positional arguments will result in an error\n",
      "  mel=np.mean(librosa.feature.melspectrogram(data, sr=sample_rate).T,axis=0)\n",
      "/var/folders/7h/3y0jb5yx0g399b2y_qtq_db80000gn/T/ipykernel_26966/1257479974.py:14: FutureWarning: Pass y=[-2.4517518e-05 -2.8808769e-05 -1.6808315e-05 ... -3.1133816e-06\n",
      " -2.5524967e-05  0.0000000e+00] as keyword args. From version 0.10 passing these as positional arguments will result in an error\n",
      "  mel=np.mean(librosa.feature.melspectrogram(data, sr=sample_rate).T,axis=0)\n"
     ]
    },
    {
     "name": "stdout",
     "output_type": "stream",
     "text": [
      "677\n",
      "sad_male\n",
      "678\n",
      "disgust_male\n"
     ]
    },
    {
     "name": "stderr",
     "output_type": "stream",
     "text": [
      "/var/folders/7h/3y0jb5yx0g399b2y_qtq_db80000gn/T/ipykernel_26966/1257479974.py:14: FutureWarning: Pass y=[-2.1317719e-05 -3.5117078e-05 -4.2517961e-05 ... -1.8457296e-05\n",
      " -1.6018208e-05  0.0000000e+00] as keyword args. From version 0.10 passing these as positional arguments will result in an error\n",
      "  mel=np.mean(librosa.feature.melspectrogram(data, sr=sample_rate).T,axis=0)\n",
      "/var/folders/7h/3y0jb5yx0g399b2y_qtq_db80000gn/T/ipykernel_26966/1257479974.py:14: FutureWarning: Pass y=[ 6.5027592e-07 -7.3194815e-07  8.1727751e-07 ...  0.0000000e+00\n",
      "  0.0000000e+00  0.0000000e+00] as keyword args. From version 0.10 passing these as positional arguments will result in an error\n",
      "  mel=np.mean(librosa.feature.melspectrogram(data, sr=sample_rate).T,axis=0)\n"
     ]
    },
    {
     "name": "stdout",
     "output_type": "stream",
     "text": [
      "679\n",
      "disgust_male\n",
      "680\n",
      "sad_male\n"
     ]
    },
    {
     "name": "stderr",
     "output_type": "stream",
     "text": [
      "/var/folders/7h/3y0jb5yx0g399b2y_qtq_db80000gn/T/ipykernel_26966/1257479974.py:14: FutureWarning: Pass y=[ 0.0000000e+00  0.0000000e+00  0.0000000e+00 ... -2.8860572e-07\n",
      "  2.7953021e-07  0.0000000e+00] as keyword args. From version 0.10 passing these as positional arguments will result in an error\n",
      "  mel=np.mean(librosa.feature.melspectrogram(data, sr=sample_rate).T,axis=0)\n",
      "/var/folders/7h/3y0jb5yx0g399b2y_qtq_db80000gn/T/ipykernel_26966/1257479974.py:14: FutureWarning: Pass y=[-1.7555786e-04 -2.6505429e-04 -2.2284688e-04 ...  3.2330354e-05\n",
      "  5.6603243e-05  0.0000000e+00] as keyword args. From version 0.10 passing these as positional arguments will result in an error\n",
      "  mel=np.mean(librosa.feature.melspectrogram(data, sr=sample_rate).T,axis=0)\n"
     ]
    },
    {
     "name": "stdout",
     "output_type": "stream",
     "text": [
      "681\n",
      "fearful_male\n",
      "682\n",
      "angry_male\n"
     ]
    },
    {
     "name": "stderr",
     "output_type": "stream",
     "text": [
      "/var/folders/7h/3y0jb5yx0g399b2y_qtq_db80000gn/T/ipykernel_26966/1257479974.py:14: FutureWarning: Pass y=[ 2.5042504e-05  2.2277707e-05  1.4891409e-05 ... -8.8615170e-06\n",
      " -9.1706006e-06  0.0000000e+00] as keyword args. From version 0.10 passing these as positional arguments will result in an error\n",
      "  mel=np.mean(librosa.feature.melspectrogram(data, sr=sample_rate).T,axis=0)\n"
     ]
    },
    {
     "name": "stdout",
     "output_type": "stream",
     "text": [
      "683\n",
      "angry_male\n"
     ]
    },
    {
     "name": "stderr",
     "output_type": "stream",
     "text": [
      "/var/folders/7h/3y0jb5yx0g399b2y_qtq_db80000gn/T/ipykernel_26966/1257479974.py:14: FutureWarning: Pass y=[ 1.7398863e-08 -4.3265022e-08  7.4803808e-08 ... -5.8008354e-06\n",
      "  2.1943633e-06  0.0000000e+00] as keyword args. From version 0.10 passing these as positional arguments will result in an error\n",
      "  mel=np.mean(librosa.feature.melspectrogram(data, sr=sample_rate).T,axis=0)\n",
      "/var/folders/7h/3y0jb5yx0g399b2y_qtq_db80000gn/T/ipykernel_26966/1257479974.py:14: FutureWarning: Pass y=[-3.2790420e-05 -6.0748782e-05 -4.7736339e-05 ...  1.0384514e-05\n",
      " -2.6575103e-06  0.0000000e+00] as keyword args. From version 0.10 passing these as positional arguments will result in an error\n",
      "  mel=np.mean(librosa.feature.melspectrogram(data, sr=sample_rate).T,axis=0)\n"
     ]
    },
    {
     "name": "stdout",
     "output_type": "stream",
     "text": [
      "684\n",
      "fearful_male\n",
      "685\n",
      "surprised_male\n",
      "686\n",
      "surprised_male\n"
     ]
    },
    {
     "name": "stderr",
     "output_type": "stream",
     "text": [
      "/var/folders/7h/3y0jb5yx0g399b2y_qtq_db80000gn/T/ipykernel_26966/1257479974.py:14: FutureWarning: Pass y=[ 0.0000000e+00  0.0000000e+00  0.0000000e+00 ...  5.9559935e-09\n",
      " -4.3819961e-09  0.0000000e+00] as keyword args. From version 0.10 passing these as positional arguments will result in an error\n",
      "  mel=np.mean(librosa.feature.melspectrogram(data, sr=sample_rate).T,axis=0)\n",
      "/var/folders/7h/3y0jb5yx0g399b2y_qtq_db80000gn/T/ipykernel_26966/1257479974.py:14: FutureWarning: Pass y=[-3.7685609e-07  4.5395956e-07 -9.8809073e-07 ...  1.1810983e-05\n",
      " -2.2578413e-06  0.0000000e+00] as keyword args. From version 0.10 passing these as positional arguments will result in an error\n",
      "  mel=np.mean(librosa.feature.melspectrogram(data, sr=sample_rate).T,axis=0)\n"
     ]
    },
    {
     "name": "stdout",
     "output_type": "stream",
     "text": [
      "687\n",
      "neutral_male\n",
      "688\n",
      "calm_male\n",
      "689\n",
      "calm_male\n"
     ]
    },
    {
     "name": "stderr",
     "output_type": "stream",
     "text": [
      "/var/folders/7h/3y0jb5yx0g399b2y_qtq_db80000gn/T/ipykernel_26966/1257479974.py:14: FutureWarning: Pass y=[ 1.4380061e-06 -2.3152409e-06  4.9335017e-06 ...  6.7874234e-06\n",
      "  2.5836960e-05  0.0000000e+00] as keyword args. From version 0.10 passing these as positional arguments will result in an error\n",
      "  mel=np.mean(librosa.feature.melspectrogram(data, sr=sample_rate).T,axis=0)\n"
     ]
    },
    {
     "name": "stdout",
     "output_type": "stream",
     "text": [
      "690\n",
      "happy_male\n",
      "691\n",
      "happy_male\n"
     ]
    },
    {
     "name": "stderr",
     "output_type": "stream",
     "text": [
      "/var/folders/7h/3y0jb5yx0g399b2y_qtq_db80000gn/T/ipykernel_26966/1257479974.py:14: FutureWarning: Pass y=[ 0.0000000e+00  0.0000000e+00  0.0000000e+00 ... -2.9273707e-07\n",
      "  3.1831576e-08  0.0000000e+00] as keyword args. From version 0.10 passing these as positional arguments will result in an error\n",
      "  mel=np.mean(librosa.feature.melspectrogram(data, sr=sample_rate).T,axis=0)\n"
     ]
    },
    {
     "name": "stdout",
     "output_type": "stream",
     "text": [
      "692\n",
      "angry_male\n"
     ]
    },
    {
     "name": "stderr",
     "output_type": "stream",
     "text": [
      "/var/folders/7h/3y0jb5yx0g399b2y_qtq_db80000gn/T/ipykernel_26966/1257479974.py:14: FutureWarning: Pass y=[-1.2298288e-05 -2.5283423e-05 -3.0881190e-05 ... -4.0283421e-06\n",
      "  1.7350932e-06  0.0000000e+00] as keyword args. From version 0.10 passing these as positional arguments will result in an error\n",
      "  mel=np.mean(librosa.feature.melspectrogram(data, sr=sample_rate).T,axis=0)\n",
      "/var/folders/7h/3y0jb5yx0g399b2y_qtq_db80000gn/T/ipykernel_26966/1257479974.py:14: FutureWarning: Pass y=[ 3.3105800e-07 -3.6709898e-07  3.9842888e-07 ... -4.2166521e-05\n",
      " -3.8849634e-05  0.0000000e+00] as keyword args. From version 0.10 passing these as positional arguments will result in an error\n",
      "  mel=np.mean(librosa.feature.melspectrogram(data, sr=sample_rate).T,axis=0)\n"
     ]
    },
    {
     "name": "stdout",
     "output_type": "stream",
     "text": [
      "693\n",
      "fearful_male\n",
      "694\n",
      "fearful_male\n"
     ]
    },
    {
     "name": "stderr",
     "output_type": "stream",
     "text": [
      "/var/folders/7h/3y0jb5yx0g399b2y_qtq_db80000gn/T/ipykernel_26966/1257479974.py:14: FutureWarning: Pass y=[-3.1614367e-05 -6.2986102e-05 -7.0595575e-05 ... -3.9849004e-09\n",
      "  2.3150428e-09  0.0000000e+00] as keyword args. From version 0.10 passing these as positional arguments will result in an error\n",
      "  mel=np.mean(librosa.feature.melspectrogram(data, sr=sample_rate).T,axis=0)\n",
      "/var/folders/7h/3y0jb5yx0g399b2y_qtq_db80000gn/T/ipykernel_26966/1257479974.py:14: FutureWarning: Pass y=[-5.3548330e-05 -7.8613280e-05 -6.3577660e-05 ...  4.0300880e-04\n",
      "  4.4158398e-04  0.0000000e+00] as keyword args. From version 0.10 passing these as positional arguments will result in an error\n",
      "  mel=np.mean(librosa.feature.melspectrogram(data, sr=sample_rate).T,axis=0)\n"
     ]
    },
    {
     "name": "stdout",
     "output_type": "stream",
     "text": [
      "695\n",
      "angry_male\n",
      "696\n",
      "disgust_male\n"
     ]
    },
    {
     "name": "stderr",
     "output_type": "stream",
     "text": [
      "/var/folders/7h/3y0jb5yx0g399b2y_qtq_db80000gn/T/ipykernel_26966/1257479974.py:14: FutureWarning: Pass y=[ 6.7391377e-09  4.4247823e-08 -1.0983297e-07 ...  6.1913262e-05\n",
      "  9.1496295e-05  0.0000000e+00] as keyword args. From version 0.10 passing these as positional arguments will result in an error\n",
      "  mel=np.mean(librosa.feature.melspectrogram(data, sr=sample_rate).T,axis=0)\n",
      "/var/folders/7h/3y0jb5yx0g399b2y_qtq_db80000gn/T/ipykernel_26966/1257479974.py:14: FutureWarning: Pass y=[1.1192961e-05 4.0996697e-06 1.2388755e-05 ... 4.1152991e-05 5.6900539e-05\n",
      " 0.0000000e+00] as keyword args. From version 0.10 passing these as positional arguments will result in an error\n",
      "  mel=np.mean(librosa.feature.melspectrogram(data, sr=sample_rate).T,axis=0)\n"
     ]
    },
    {
     "name": "stdout",
     "output_type": "stream",
     "text": [
      "697\n",
      "sad_male\n",
      "698\n",
      "sad_male\n"
     ]
    },
    {
     "name": "stderr",
     "output_type": "stream",
     "text": [
      "/var/folders/7h/3y0jb5yx0g399b2y_qtq_db80000gn/T/ipykernel_26966/1257479974.py:14: FutureWarning: Pass y=[ 4.1028496e-04  6.0859817e-04  5.4656656e-04 ...  6.5056093e-07\n",
      " -6.4842504e-07  0.0000000e+00] as keyword args. From version 0.10 passing these as positional arguments will result in an error\n",
      "  mel=np.mean(librosa.feature.melspectrogram(data, sr=sample_rate).T,axis=0)\n"
     ]
    },
    {
     "name": "stdout",
     "output_type": "stream",
     "text": [
      "699\n",
      "disgust_male\n"
     ]
    },
    {
     "name": "stderr",
     "output_type": "stream",
     "text": [
      "/var/folders/7h/3y0jb5yx0g399b2y_qtq_db80000gn/T/ipykernel_26966/1257479974.py:14: FutureWarning: Pass y=[-2.0748306e-05 -5.7539492e-05 -5.9851947e-05 ...  9.8314558e-05\n",
      "  1.2096106e-04  0.0000000e+00] as keyword args. From version 0.10 passing these as positional arguments will result in an error\n",
      "  mel=np.mean(librosa.feature.melspectrogram(data, sr=sample_rate).T,axis=0)\n",
      "/var/folders/7h/3y0jb5yx0g399b2y_qtq_db80000gn/T/ipykernel_26966/1257479974.py:14: FutureWarning: Pass y=[-3.0577887e-08  4.8472572e-07 -1.6111803e-06 ... -1.1337710e-04\n",
      " -1.3360685e-04  0.0000000e+00] as keyword args. From version 0.10 passing these as positional arguments will result in an error\n",
      "  mel=np.mean(librosa.feature.melspectrogram(data, sr=sample_rate).T,axis=0)\n"
     ]
    },
    {
     "name": "stdout",
     "output_type": "stream",
     "text": [
      "700\n",
      "surprised_male\n",
      "701\n",
      "surprised_male\n"
     ]
    },
    {
     "name": "stderr",
     "output_type": "stream",
     "text": [
      "/var/folders/7h/3y0jb5yx0g399b2y_qtq_db80000gn/T/ipykernel_26966/1257479974.py:14: FutureWarning: Pass y=[1.2587627e-05 1.9243626e-05 8.6216969e-06 ... 0.0000000e+00 0.0000000e+00\n",
      " 0.0000000e+00] as keyword args. From version 0.10 passing these as positional arguments will result in an error\n",
      "  mel=np.mean(librosa.feature.melspectrogram(data, sr=sample_rate).T,axis=0)\n",
      "/var/folders/7h/3y0jb5yx0g399b2y_qtq_db80000gn/T/ipykernel_26966/1257479974.py:14: FutureWarning: Pass y=[-1.1230716e-04 -1.5480290e-04 -1.6194765e-04 ...  3.3824788e-05\n",
      "  1.0746598e-05  0.0000000e+00] as keyword args. From version 0.10 passing these as positional arguments will result in an error\n",
      "  mel=np.mean(librosa.feature.melspectrogram(data, sr=sample_rate).T,axis=0)\n"
     ]
    },
    {
     "name": "stdout",
     "output_type": "stream",
     "text": [
      "702\n",
      "happy_male\n",
      "703\n",
      "happy_male\n"
     ]
    },
    {
     "name": "stderr",
     "output_type": "stream",
     "text": [
      "/var/folders/7h/3y0jb5yx0g399b2y_qtq_db80000gn/T/ipykernel_26966/1257479974.py:14: FutureWarning: Pass y=[ 2.2661086e-05  3.1084855e-05  4.0082054e-05 ...  5.3109379e-06\n",
      " -5.1425349e-07  0.0000000e+00] as keyword args. From version 0.10 passing these as positional arguments will result in an error\n",
      "  mel=np.mean(librosa.feature.melspectrogram(data, sr=sample_rate).T,axis=0)\n"
     ]
    },
    {
     "name": "stdout",
     "output_type": "stream",
     "text": [
      "704\n",
      "calm_male\n"
     ]
    },
    {
     "name": "stderr",
     "output_type": "stream",
     "text": [
      "/var/folders/7h/3y0jb5yx0g399b2y_qtq_db80000gn/T/ipykernel_26966/1257479974.py:14: FutureWarning: Pass y=[2.1657639e-05 3.3928216e-05 2.5817195e-05 ... 0.0000000e+00 0.0000000e+00\n",
      " 0.0000000e+00] as keyword args. From version 0.10 passing these as positional arguments will result in an error\n",
      "  mel=np.mean(librosa.feature.melspectrogram(data, sr=sample_rate).T,axis=0)\n",
      "/var/folders/7h/3y0jb5yx0g399b2y_qtq_db80000gn/T/ipykernel_26966/1257479974.py:14: FutureWarning: Pass y=[-4.8408740e-05 -8.8396839e-05 -7.6346107e-05 ...  3.2829279e-09\n",
      " -2.3999285e-09  0.0000000e+00] as keyword args. From version 0.10 passing these as positional arguments will result in an error\n",
      "  mel=np.mean(librosa.feature.melspectrogram(data, sr=sample_rate).T,axis=0)\n"
     ]
    },
    {
     "name": "stdout",
     "output_type": "stream",
     "text": [
      "705\n",
      "neutral_male\n",
      "706\n",
      "calm_male\n"
     ]
    },
    {
     "name": "stderr",
     "output_type": "stream",
     "text": [
      "/var/folders/7h/3y0jb5yx0g399b2y_qtq_db80000gn/T/ipykernel_26966/1257479974.py:14: FutureWarning: Pass y=[ 1.2317551e-05  2.5073790e-05  3.1316868e-05 ... -3.1417723e-05\n",
      " -7.3035349e-05  0.0000000e+00] as keyword args. From version 0.10 passing these as positional arguments will result in an error\n",
      "  mel=np.mean(librosa.feature.melspectrogram(data, sr=sample_rate).T,axis=0)\n"
     ]
    },
    {
     "name": "stdout",
     "output_type": "stream",
     "text": [
      "707\n",
      "happy_male\n"
     ]
    },
    {
     "name": "stderr",
     "output_type": "stream",
     "text": [
      "/var/folders/7h/3y0jb5yx0g399b2y_qtq_db80000gn/T/ipykernel_26966/1257479974.py:14: FutureWarning: Pass y=[-6.7372753e-07  6.9724155e-07 -6.8864296e-07 ...  6.2786137e-05\n",
      "  9.7746706e-05  0.0000000e+00] as keyword args. From version 0.10 passing these as positional arguments will result in an error\n",
      "  mel=np.mean(librosa.feature.melspectrogram(data, sr=sample_rate).T,axis=0)\n"
     ]
    },
    {
     "name": "stdout",
     "output_type": "stream",
     "text": [
      "708\n",
      "happy_male\n"
     ]
    },
    {
     "name": "stderr",
     "output_type": "stream",
     "text": [
      "/var/folders/7h/3y0jb5yx0g399b2y_qtq_db80000gn/T/ipykernel_26966/1257479974.py:14: FutureWarning: Pass y=[ 2.7278145e-06 -1.0695838e-05 -6.9006351e-06 ... -4.1546511e-05\n",
      " -3.2052241e-05  0.0000000e+00] as keyword args. From version 0.10 passing these as positional arguments will result in an error\n",
      "  mel=np.mean(librosa.feature.melspectrogram(data, sr=sample_rate).T,axis=0)\n"
     ]
    },
    {
     "name": "stdout",
     "output_type": "stream",
     "text": [
      "709\n",
      "calm_male\n"
     ]
    },
    {
     "name": "stderr",
     "output_type": "stream",
     "text": [
      "/var/folders/7h/3y0jb5yx0g399b2y_qtq_db80000gn/T/ipykernel_26966/1257479974.py:14: FutureWarning: Pass y=[-2.3077735e-05 -2.4425086e-05  7.6844599e-06 ...  0.0000000e+00\n",
      "  0.0000000e+00  0.0000000e+00] as keyword args. From version 0.10 passing these as positional arguments will result in an error\n",
      "  mel=np.mean(librosa.feature.melspectrogram(data, sr=sample_rate).T,axis=0)\n"
     ]
    },
    {
     "name": "stdout",
     "output_type": "stream",
     "text": [
      "710\n",
      "calm_male\n"
     ]
    },
    {
     "name": "stderr",
     "output_type": "stream",
     "text": [
      "/var/folders/7h/3y0jb5yx0g399b2y_qtq_db80000gn/T/ipykernel_26966/1257479974.py:14: FutureWarning: Pass y=[ 1.31008235e-08 -1.50997792e-08  1.67639964e-08 ... -2.94963229e-05\n",
      " -3.20632062e-05  0.00000000e+00] as keyword args. From version 0.10 passing these as positional arguments will result in an error\n",
      "  mel=np.mean(librosa.feature.melspectrogram(data, sr=sample_rate).T,axis=0)\n",
      "/var/folders/7h/3y0jb5yx0g399b2y_qtq_db80000gn/T/ipykernel_26966/1257479974.py:14: FutureWarning: Pass y=[-1.4650269e-07  1.4801388e-07 -1.4294395e-07 ... -3.0527553e-05\n",
      " -5.4523007e-05  0.0000000e+00] as keyword args. From version 0.10 passing these as positional arguments will result in an error\n",
      "  mel=np.mean(librosa.feature.melspectrogram(data, sr=sample_rate).T,axis=0)\n"
     ]
    },
    {
     "name": "stdout",
     "output_type": "stream",
     "text": [
      "711\n",
      "neutral_male\n",
      "712\n",
      "fearful_male\n"
     ]
    },
    {
     "name": "stderr",
     "output_type": "stream",
     "text": [
      "/var/folders/7h/3y0jb5yx0g399b2y_qtq_db80000gn/T/ipykernel_26966/1257479974.py:14: FutureWarning: Pass y=[-1.3857111e-06  1.7894163e-06 -2.5415493e-06 ... -6.7258385e-05\n",
      " -7.2093251e-05  0.0000000e+00] as keyword args. From version 0.10 passing these as positional arguments will result in an error\n",
      "  mel=np.mean(librosa.feature.melspectrogram(data, sr=sample_rate).T,axis=0)\n"
     ]
    },
    {
     "name": "stdout",
     "output_type": "stream",
     "text": [
      "713\n",
      "angry_male\n"
     ]
    },
    {
     "name": "stderr",
     "output_type": "stream",
     "text": [
      "/var/folders/7h/3y0jb5yx0g399b2y_qtq_db80000gn/T/ipykernel_26966/1257479974.py:14: FutureWarning: Pass y=[-4.0720013e-05 -5.5039018e-05 -4.7898153e-05 ... -5.9779723e-05\n",
      " -4.4868990e-05  0.0000000e+00] as keyword args. From version 0.10 passing these as positional arguments will result in an error\n",
      "  mel=np.mean(librosa.feature.melspectrogram(data, sr=sample_rate).T,axis=0)\n"
     ]
    },
    {
     "name": "stdout",
     "output_type": "stream",
     "text": [
      "714\n",
      "angry_male\n"
     ]
    },
    {
     "name": "stderr",
     "output_type": "stream",
     "text": [
      "/var/folders/7h/3y0jb5yx0g399b2y_qtq_db80000gn/T/ipykernel_26966/1257479974.py:14: FutureWarning: Pass y=[-2.1149988e-07  1.8820417e-07 -1.4905756e-07 ... -1.3989580e-05\n",
      "  5.9082336e-06  0.0000000e+00] as keyword args. From version 0.10 passing these as positional arguments will result in an error\n",
      "  mel=np.mean(librosa.feature.melspectrogram(data, sr=sample_rate).T,axis=0)\n",
      "/var/folders/7h/3y0jb5yx0g399b2y_qtq_db80000gn/T/ipykernel_26966/1257479974.py:14: FutureWarning: Pass y=[ 0.00039142  0.00047078 -0.00035422 ... -0.00013463 -0.00014739\n",
      "  0.        ] as keyword args. From version 0.10 passing these as positional arguments will result in an error\n",
      "  mel=np.mean(librosa.feature.melspectrogram(data, sr=sample_rate).T,axis=0)\n"
     ]
    },
    {
     "name": "stdout",
     "output_type": "stream",
     "text": [
      "715\n",
      "fearful_male\n",
      "716\n",
      "sad_male\n"
     ]
    },
    {
     "name": "stderr",
     "output_type": "stream",
     "text": [
      "/var/folders/7h/3y0jb5yx0g399b2y_qtq_db80000gn/T/ipykernel_26966/1257479974.py:14: FutureWarning: Pass y=[5.6029174e-05 7.0063754e-05 4.3781907e-05 ... 2.0087324e-05 1.0325689e-05\n",
      " 0.0000000e+00] as keyword args. From version 0.10 passing these as positional arguments will result in an error\n",
      "  mel=np.mean(librosa.feature.melspectrogram(data, sr=sample_rate).T,axis=0)\n"
     ]
    },
    {
     "name": "stdout",
     "output_type": "stream",
     "text": [
      "717\n",
      "disgust_male\n"
     ]
    },
    {
     "name": "stderr",
     "output_type": "stream",
     "text": [
      "/var/folders/7h/3y0jb5yx0g399b2y_qtq_db80000gn/T/ipykernel_26966/1257479974.py:14: FutureWarning: Pass y=[-2.3621946e-05 -6.7371370e-06 -8.2657716e-06 ...  0.0000000e+00\n",
      "  0.0000000e+00  0.0000000e+00] as keyword args. From version 0.10 passing these as positional arguments will result in an error\n",
      "  mel=np.mean(librosa.feature.melspectrogram(data, sr=sample_rate).T,axis=0)\n"
     ]
    },
    {
     "name": "stdout",
     "output_type": "stream",
     "text": [
      "718\n",
      "disgust_male\n"
     ]
    },
    {
     "name": "stderr",
     "output_type": "stream",
     "text": [
      "/var/folders/7h/3y0jb5yx0g399b2y_qtq_db80000gn/T/ipykernel_26966/1257479974.py:14: FutureWarning: Pass y=[ 4.1250021e-09 -7.0776458e-08  1.5547995e-07 ... -3.6301071e-08\n",
      "  3.9208388e-08  0.0000000e+00] as keyword args. From version 0.10 passing these as positional arguments will result in an error\n",
      "  mel=np.mean(librosa.feature.melspectrogram(data, sr=sample_rate).T,axis=0)\n",
      "/var/folders/7h/3y0jb5yx0g399b2y_qtq_db80000gn/T/ipykernel_26966/1257479974.py:14: FutureWarning: Pass y=[ 2.6347938e-05  1.8994302e-05  3.5625948e-05 ... -3.2715064e-10\n",
      "  2.2237004e-10  0.0000000e+00] as keyword args. From version 0.10 passing these as positional arguments will result in an error\n",
      "  mel=np.mean(librosa.feature.melspectrogram(data, sr=sample_rate).T,axis=0)\n"
     ]
    },
    {
     "name": "stdout",
     "output_type": "stream",
     "text": [
      "719\n",
      "sad_male\n",
      "720\n",
      "surprised_male\n"
     ]
    },
    {
     "name": "stderr",
     "output_type": "stream",
     "text": [
      "/var/folders/7h/3y0jb5yx0g399b2y_qtq_db80000gn/T/ipykernel_26966/1257479974.py:14: FutureWarning: Pass y=[-2.3564602e-05 -4.6739111e-05 -2.8486122e-05 ... -7.1614414e-07\n",
      "  9.7339489e-07  0.0000000e+00] as keyword args. From version 0.10 passing these as positional arguments will result in an error\n",
      "  mel=np.mean(librosa.feature.melspectrogram(data, sr=sample_rate).T,axis=0)\n"
     ]
    },
    {
     "name": "stdout",
     "output_type": "stream",
     "text": [
      "721\n",
      "surprised_male\n"
     ]
    },
    {
     "name": "stderr",
     "output_type": "stream",
     "text": [
      "/var/folders/7h/3y0jb5yx0g399b2y_qtq_db80000gn/T/ipykernel_26966/1257479974.py:14: FutureWarning: Pass y=[ 7.8758978e-07 -1.3055917e-07 -8.1821645e-06 ...  1.3512140e-04\n",
      "  1.2598063e-04  0.0000000e+00] as keyword args. From version 0.10 passing these as positional arguments will result in an error\n",
      "  mel=np.mean(librosa.feature.melspectrogram(data, sr=sample_rate).T,axis=0)\n"
     ]
    },
    {
     "name": "stdout",
     "output_type": "stream",
     "text": [
      "722\n",
      "calm_female\n"
     ]
    },
    {
     "name": "stderr",
     "output_type": "stream",
     "text": [
      "/var/folders/7h/3y0jb5yx0g399b2y_qtq_db80000gn/T/ipykernel_26966/1257479974.py:14: FutureWarning: Pass y=[ 0.0000000e+00  0.0000000e+00  0.0000000e+00 ... -1.3626398e-05\n",
      "  1.7210818e-06  0.0000000e+00] as keyword args. From version 0.10 passing these as positional arguments will result in an error\n",
      "  mel=np.mean(librosa.feature.melspectrogram(data, sr=sample_rate).T,axis=0)\n"
     ]
    },
    {
     "name": "stdout",
     "output_type": "stream",
     "text": [
      "723\n",
      "neutral_female\n"
     ]
    },
    {
     "name": "stderr",
     "output_type": "stream",
     "text": [
      "/var/folders/7h/3y0jb5yx0g399b2y_qtq_db80000gn/T/ipykernel_26966/1257479974.py:14: FutureWarning: Pass y=[-1.2204690e-06 -1.3884671e-05  1.0232359e-06 ... -2.2455695e-05\n",
      " -9.7706686e-07  0.0000000e+00] as keyword args. From version 0.10 passing these as positional arguments will result in an error\n",
      "  mel=np.mean(librosa.feature.melspectrogram(data, sr=sample_rate).T,axis=0)\n"
     ]
    },
    {
     "name": "stdout",
     "output_type": "stream",
     "text": [
      "724\n",
      "calm_female\n"
     ]
    },
    {
     "name": "stderr",
     "output_type": "stream",
     "text": [
      "/var/folders/7h/3y0jb5yx0g399b2y_qtq_db80000gn/T/ipykernel_26966/1257479974.py:14: FutureWarning: Pass y=[ 0.0000000e+00  0.0000000e+00  0.0000000e+00 ... -1.1487411e-05\n",
      " -2.5379662e-05  0.0000000e+00] as keyword args. From version 0.10 passing these as positional arguments will result in an error\n",
      "  mel=np.mean(librosa.feature.melspectrogram(data, sr=sample_rate).T,axis=0)\n"
     ]
    },
    {
     "name": "stdout",
     "output_type": "stream",
     "text": [
      "725\n",
      "happy_female\n"
     ]
    },
    {
     "name": "stderr",
     "output_type": "stream",
     "text": [
      "/var/folders/7h/3y0jb5yx0g399b2y_qtq_db80000gn/T/ipykernel_26966/1257479974.py:14: FutureWarning: Pass y=[ 1.1836126e-05  2.6409359e-06 -3.5277781e-06 ... -7.5765929e-06\n",
      " -6.4203905e-06  0.0000000e+00] as keyword args. From version 0.10 passing these as positional arguments will result in an error\n",
      "  mel=np.mean(librosa.feature.melspectrogram(data, sr=sample_rate).T,axis=0)\n"
     ]
    },
    {
     "name": "stdout",
     "output_type": "stream",
     "text": [
      "726\n",
      "happy_female\n"
     ]
    },
    {
     "name": "stderr",
     "output_type": "stream",
     "text": [
      "/var/folders/7h/3y0jb5yx0g399b2y_qtq_db80000gn/T/ipykernel_26966/1257479974.py:14: FutureWarning: Pass y=[ 3.5872390e-07 -3.4948366e-07  3.2736978e-07 ...  9.7554584e-06\n",
      "  8.1125090e-06  0.0000000e+00] as keyword args. From version 0.10 passing these as positional arguments will result in an error\n",
      "  mel=np.mean(librosa.feature.melspectrogram(data, sr=sample_rate).T,axis=0)\n",
      "/var/folders/7h/3y0jb5yx0g399b2y_qtq_db80000gn/T/ipykernel_26966/1257479974.py:14: FutureWarning: Pass y=[ 3.4485474e-08 -6.1842755e-08  9.3791854e-08 ...  7.2603291e-07\n",
      " -6.7489657e-07  0.0000000e+00] as keyword args. From version 0.10 passing these as positional arguments will result in an error\n",
      "  mel=np.mean(librosa.feature.melspectrogram(data, sr=sample_rate).T,axis=0)\n"
     ]
    },
    {
     "name": "stdout",
     "output_type": "stream",
     "text": [
      "727\n",
      "surprised_female\n",
      "728\n",
      "surprised_female\n"
     ]
    },
    {
     "name": "stderr",
     "output_type": "stream",
     "text": [
      "/var/folders/7h/3y0jb5yx0g399b2y_qtq_db80000gn/T/ipykernel_26966/1257479974.py:14: FutureWarning: Pass y=[ 3.4240373e-05  4.0858082e-05  5.0257400e-05 ... -7.9310688e-05\n",
      " -3.8831313e-05  0.0000000e+00] as keyword args. From version 0.10 passing these as positional arguments will result in an error\n",
      "  mel=np.mean(librosa.feature.melspectrogram(data, sr=sample_rate).T,axis=0)\n"
     ]
    },
    {
     "name": "stdout",
     "output_type": "stream",
     "text": [
      "729\n",
      "disgust_female\n"
     ]
    },
    {
     "name": "stderr",
     "output_type": "stream",
     "text": [
      "/var/folders/7h/3y0jb5yx0g399b2y_qtq_db80000gn/T/ipykernel_26966/1257479974.py:14: FutureWarning: Pass y=[-4.4349719e-05 -6.5076536e-05 -5.9776077e-05 ...  3.4865894e-04\n",
      "  3.7115387e-04  0.0000000e+00] as keyword args. From version 0.10 passing these as positional arguments will result in an error\n",
      "  mel=np.mean(librosa.feature.melspectrogram(data, sr=sample_rate).T,axis=0)\n"
     ]
    },
    {
     "name": "stdout",
     "output_type": "stream",
     "text": [
      "730\n",
      "sad_female\n"
     ]
    },
    {
     "name": "stderr",
     "output_type": "stream",
     "text": [
      "/var/folders/7h/3y0jb5yx0g399b2y_qtq_db80000gn/T/ipykernel_26966/1257479974.py:14: FutureWarning: Pass y=[0.0000000e+00 0.0000000e+00 0.0000000e+00 ... 9.9651825e-06 4.1835505e-05\n",
      " 0.0000000e+00] as keyword args. From version 0.10 passing these as positional arguments will result in an error\n",
      "  mel=np.mean(librosa.feature.melspectrogram(data, sr=sample_rate).T,axis=0)\n"
     ]
    },
    {
     "name": "stdout",
     "output_type": "stream",
     "text": [
      "731\n",
      "sad_female\n"
     ]
    },
    {
     "name": "stderr",
     "output_type": "stream",
     "text": [
      "/var/folders/7h/3y0jb5yx0g399b2y_qtq_db80000gn/T/ipykernel_26966/1257479974.py:14: FutureWarning: Pass y=[-9.3673907e-06 -9.0358735e-06  5.0561957e-06 ... -2.9288740e-03\n",
      " -3.1998151e-03  0.0000000e+00] as keyword args. From version 0.10 passing these as positional arguments will result in an error\n",
      "  mel=np.mean(librosa.feature.melspectrogram(data, sr=sample_rate).T,axis=0)\n"
     ]
    },
    {
     "name": "stdout",
     "output_type": "stream",
     "text": [
      "732\n",
      "disgust_female\n"
     ]
    },
    {
     "name": "stderr",
     "output_type": "stream",
     "text": [
      "/var/folders/7h/3y0jb5yx0g399b2y_qtq_db80000gn/T/ipykernel_26966/1257479974.py:14: FutureWarning: Pass y=[4.2067088e-05 5.2602281e-05 5.9204955e-05 ... 3.2653993e-06 1.0115894e-05\n",
      " 0.0000000e+00] as keyword args. From version 0.10 passing these as positional arguments will result in an error\n",
      "  mel=np.mean(librosa.feature.melspectrogram(data, sr=sample_rate).T,axis=0)\n"
     ]
    },
    {
     "name": "stdout",
     "output_type": "stream",
     "text": [
      "733\n",
      "angry_female\n"
     ]
    },
    {
     "name": "stderr",
     "output_type": "stream",
     "text": [
      "/var/folders/7h/3y0jb5yx0g399b2y_qtq_db80000gn/T/ipykernel_26966/1257479974.py:14: FutureWarning: Pass y=[-1.0092454e-06  2.2586946e-06 -1.1623639e-05 ... -1.5004959e-03\n",
      " -1.4709469e-03  0.0000000e+00] as keyword args. From version 0.10 passing these as positional arguments will result in an error\n",
      "  mel=np.mean(librosa.feature.melspectrogram(data, sr=sample_rate).T,axis=0)\n"
     ]
    },
    {
     "name": "stdout",
     "output_type": "stream",
     "text": [
      "734\n",
      "fearful_female\n"
     ]
    },
    {
     "name": "stderr",
     "output_type": "stream",
     "text": [
      "/var/folders/7h/3y0jb5yx0g399b2y_qtq_db80000gn/T/ipykernel_26966/1257479974.py:14: FutureWarning: Pass y=[ 0.          0.          0.         ... -0.00041208 -0.00038482\n",
      "  0.        ] as keyword args. From version 0.10 passing these as positional arguments will result in an error\n",
      "  mel=np.mean(librosa.feature.melspectrogram(data, sr=sample_rate).T,axis=0)\n",
      "/var/folders/7h/3y0jb5yx0g399b2y_qtq_db80000gn/T/ipykernel_26966/1257479974.py:14: FutureWarning: Pass y=[-3.1967946e-05 -6.3582964e-05 -3.5571778e-05 ... -2.3234748e-05\n",
      " -2.6762938e-05  0.0000000e+00] as keyword args. From version 0.10 passing these as positional arguments will result in an error\n",
      "  mel=np.mean(librosa.feature.melspectrogram(data, sr=sample_rate).T,axis=0)\n"
     ]
    },
    {
     "name": "stdout",
     "output_type": "stream",
     "text": [
      "735\n",
      "fearful_female\n",
      "736\n",
      "angry_female\n"
     ]
    },
    {
     "name": "stderr",
     "output_type": "stream",
     "text": [
      "/var/folders/7h/3y0jb5yx0g399b2y_qtq_db80000gn/T/ipykernel_26966/1257479974.py:14: FutureWarning: Pass y=[ 9.30675105e-06  3.12214725e-05  5.09056645e-06 ... -1.02156855e-05\n",
      " -2.94973688e-05  0.00000000e+00] as keyword args. From version 0.10 passing these as positional arguments will result in an error\n",
      "  mel=np.mean(librosa.feature.melspectrogram(data, sr=sample_rate).T,axis=0)\n"
     ]
    },
    {
     "name": "stdout",
     "output_type": "stream",
     "text": [
      "737\n",
      "surprised_female\n"
     ]
    },
    {
     "name": "stderr",
     "output_type": "stream",
     "text": [
      "/var/folders/7h/3y0jb5yx0g399b2y_qtq_db80000gn/T/ipykernel_26966/1257479974.py:14: FutureWarning: Pass y=[ 2.3787914e-07 -8.7228919e-08 -1.7114269e-07 ... -1.5068664e-05\n",
      " -9.2056416e-06  0.0000000e+00] as keyword args. From version 0.10 passing these as positional arguments will result in an error\n",
      "  mel=np.mean(librosa.feature.melspectrogram(data, sr=sample_rate).T,axis=0)\n"
     ]
    },
    {
     "name": "stdout",
     "output_type": "stream",
     "text": [
      "738\n",
      "surprised_female\n"
     ]
    },
    {
     "name": "stderr",
     "output_type": "stream",
     "text": [
      "/var/folders/7h/3y0jb5yx0g399b2y_qtq_db80000gn/T/ipykernel_26966/1257479974.py:14: FutureWarning: Pass y=[-2.8505001e-10  6.8130601e-10 -1.2401921e-09 ... -7.0287942e-06\n",
      "  1.0273937e-05  0.0000000e+00] as keyword args. From version 0.10 passing these as positional arguments will result in an error\n",
      "  mel=np.mean(librosa.feature.melspectrogram(data, sr=sample_rate).T,axis=0)\n"
     ]
    },
    {
     "name": "stdout",
     "output_type": "stream",
     "text": [
      "739\n",
      "sad_female\n"
     ]
    },
    {
     "name": "stderr",
     "output_type": "stream",
     "text": [
      "/var/folders/7h/3y0jb5yx0g399b2y_qtq_db80000gn/T/ipykernel_26966/1257479974.py:14: FutureWarning: Pass y=[ 2.4175813e-04  3.6225092e-04  3.2270394e-04 ...  1.0923951e-05\n",
      " -1.1265288e-06  0.0000000e+00] as keyword args. From version 0.10 passing these as positional arguments will result in an error\n",
      "  mel=np.mean(librosa.feature.melspectrogram(data, sr=sample_rate).T,axis=0)\n"
     ]
    },
    {
     "name": "stdout",
     "output_type": "stream",
     "text": [
      "740\n",
      "disgust_female\n"
     ]
    },
    {
     "name": "stderr",
     "output_type": "stream",
     "text": [
      "/var/folders/7h/3y0jb5yx0g399b2y_qtq_db80000gn/T/ipykernel_26966/1257479974.py:14: FutureWarning: Pass y=[-3.1724494e-06 -1.1719488e-05 -2.0772800e-06 ...  5.4891323e-05\n",
      "  1.5870124e-06  0.0000000e+00] as keyword args. From version 0.10 passing these as positional arguments will result in an error\n",
      "  mel=np.mean(librosa.feature.melspectrogram(data, sr=sample_rate).T,axis=0)\n"
     ]
    },
    {
     "name": "stdout",
     "output_type": "stream",
     "text": [
      "741\n",
      "disgust_female\n"
     ]
    },
    {
     "name": "stderr",
     "output_type": "stream",
     "text": [
      "/var/folders/7h/3y0jb5yx0g399b2y_qtq_db80000gn/T/ipykernel_26966/1257479974.py:14: FutureWarning: Pass y=[-1.3381458e-06  2.5377146e-06 -1.1834759e-05 ... -1.5081687e-05\n",
      " -1.9384142e-05  0.0000000e+00] as keyword args. From version 0.10 passing these as positional arguments will result in an error\n",
      "  mel=np.mean(librosa.feature.melspectrogram(data, sr=sample_rate).T,axis=0)\n"
     ]
    },
    {
     "name": "stdout",
     "output_type": "stream",
     "text": [
      "742\n",
      "sad_female\n"
     ]
    },
    {
     "name": "stderr",
     "output_type": "stream",
     "text": [
      "/var/folders/7h/3y0jb5yx0g399b2y_qtq_db80000gn/T/ipykernel_26966/1257479974.py:14: FutureWarning: Pass y=[ 1.3997249e-10  7.7096257e-10 -1.9585535e-09 ... -1.2679031e-05\n",
      " -2.5129104e-05  0.0000000e+00] as keyword args. From version 0.10 passing these as positional arguments will result in an error\n",
      "  mel=np.mean(librosa.feature.melspectrogram(data, sr=sample_rate).T,axis=0)\n"
     ]
    },
    {
     "name": "stdout",
     "output_type": "stream",
     "text": [
      "743\n",
      "fearful_female\n"
     ]
    },
    {
     "name": "stderr",
     "output_type": "stream",
     "text": [
      "/var/folders/7h/3y0jb5yx0g399b2y_qtq_db80000gn/T/ipykernel_26966/1257479974.py:14: FutureWarning: Pass y=[ 0.0000000e+00  0.0000000e+00  0.0000000e+00 ...  4.6382927e-05\n",
      " -5.0641174e-06  0.0000000e+00] as keyword args. From version 0.10 passing these as positional arguments will result in an error\n",
      "  mel=np.mean(librosa.feature.melspectrogram(data, sr=sample_rate).T,axis=0)\n"
     ]
    },
    {
     "name": "stdout",
     "output_type": "stream",
     "text": [
      "744\n",
      "angry_female\n"
     ]
    },
    {
     "name": "stderr",
     "output_type": "stream",
     "text": [
      "/var/folders/7h/3y0jb5yx0g399b2y_qtq_db80000gn/T/ipykernel_26966/1257479974.py:14: FutureWarning: Pass y=[ 0.          0.          0.         ... -0.0002416  -0.00029282\n",
      "  0.        ] as keyword args. From version 0.10 passing these as positional arguments will result in an error\n",
      "  mel=np.mean(librosa.feature.melspectrogram(data, sr=sample_rate).T,axis=0)\n"
     ]
    },
    {
     "name": "stdout",
     "output_type": "stream",
     "text": [
      "745\n",
      "angry_female\n"
     ]
    },
    {
     "name": "stderr",
     "output_type": "stream",
     "text": [
      "/var/folders/7h/3y0jb5yx0g399b2y_qtq_db80000gn/T/ipykernel_26966/1257479974.py:14: FutureWarning: Pass y=[ 0.0000000e+00  0.0000000e+00  0.0000000e+00 ... -5.0144631e-06\n",
      " -4.8006732e-05  0.0000000e+00] as keyword args. From version 0.10 passing these as positional arguments will result in an error\n",
      "  mel=np.mean(librosa.feature.melspectrogram(data, sr=sample_rate).T,axis=0)\n"
     ]
    },
    {
     "name": "stdout",
     "output_type": "stream",
     "text": [
      "746\n",
      "fearful_female\n"
     ]
    },
    {
     "name": "stderr",
     "output_type": "stream",
     "text": [
      "/var/folders/7h/3y0jb5yx0g399b2y_qtq_db80000gn/T/ipykernel_26966/1257479974.py:14: FutureWarning: Pass y=[ 0.          0.          0.         ... -0.00156779 -0.00177709\n",
      "  0.        ] as keyword args. From version 0.10 passing these as positional arguments will result in an error\n",
      "  mel=np.mean(librosa.feature.melspectrogram(data, sr=sample_rate).T,axis=0)\n"
     ]
    },
    {
     "name": "stdout",
     "output_type": "stream",
     "text": [
      "747\n",
      "neutral_female\n"
     ]
    },
    {
     "name": "stderr",
     "output_type": "stream",
     "text": [
      "/var/folders/7h/3y0jb5yx0g399b2y_qtq_db80000gn/T/ipykernel_26966/1257479974.py:14: FutureWarning: Pass y=[-4.07056450e-06  1.09780540e-05  1.55677408e-05 ... -4.56381349e-05\n",
      " -1.43839925e-05  0.00000000e+00] as keyword args. From version 0.10 passing these as positional arguments will result in an error\n",
      "  mel=np.mean(librosa.feature.melspectrogram(data, sr=sample_rate).T,axis=0)\n"
     ]
    },
    {
     "name": "stdout",
     "output_type": "stream",
     "text": [
      "748\n",
      "calm_female\n"
     ]
    },
    {
     "name": "stderr",
     "output_type": "stream",
     "text": [
      "/var/folders/7h/3y0jb5yx0g399b2y_qtq_db80000gn/T/ipykernel_26966/1257479974.py:14: FutureWarning: Pass y=[ 0.0000000e+00  1.2341805e-13 -1.7364570e-14 ...  3.0723178e-05\n",
      "  3.0297309e-05  0.0000000e+00] as keyword args. From version 0.10 passing these as positional arguments will result in an error\n",
      "  mel=np.mean(librosa.feature.melspectrogram(data, sr=sample_rate).T,axis=0)\n"
     ]
    },
    {
     "name": "stdout",
     "output_type": "stream",
     "text": [
      "749\n",
      "calm_female\n"
     ]
    },
    {
     "name": "stderr",
     "output_type": "stream",
     "text": [
      "/var/folders/7h/3y0jb5yx0g399b2y_qtq_db80000gn/T/ipykernel_26966/1257479974.py:14: FutureWarning: Pass y=[ 0.000000e+00  0.000000e+00  0.000000e+00 ... -4.727590e-05 -6.256218e-05\n",
      "  0.000000e+00] as keyword args. From version 0.10 passing these as positional arguments will result in an error\n",
      "  mel=np.mean(librosa.feature.melspectrogram(data, sr=sample_rate).T,axis=0)\n",
      "/var/folders/7h/3y0jb5yx0g399b2y_qtq_db80000gn/T/ipykernel_26966/1257479974.py:14: FutureWarning: Pass y=[ 0.0000000e+00  0.0000000e+00  0.0000000e+00 ... -3.0026383e-06\n",
      "  1.8809689e-06  0.0000000e+00] as keyword args. From version 0.10 passing these as positional arguments will result in an error\n",
      "  mel=np.mean(librosa.feature.melspectrogram(data, sr=sample_rate).T,axis=0)\n"
     ]
    },
    {
     "name": "stdout",
     "output_type": "stream",
     "text": [
      "750\n",
      "happy_female\n",
      "751\n",
      "happy_female\n"
     ]
    },
    {
     "name": "stderr",
     "output_type": "stream",
     "text": [
      "/var/folders/7h/3y0jb5yx0g399b2y_qtq_db80000gn/T/ipykernel_26966/1257479974.py:14: FutureWarning: Pass y=[-3.5197615e-07 -1.6082440e-05 -1.2877277e-05 ...  5.4939203e-05\n",
      "  2.9433524e-05  0.0000000e+00] as keyword args. From version 0.10 passing these as positional arguments will result in an error\n",
      "  mel=np.mean(librosa.feature.melspectrogram(data, sr=sample_rate).T,axis=0)\n",
      "/var/folders/7h/3y0jb5yx0g399b2y_qtq_db80000gn/T/ipykernel_26966/1257479974.py:14: FutureWarning: Pass y=[ 0.000000e+00  0.000000e+00  0.000000e+00 ... -2.356818e-05  6.054184e-06\n",
      "  0.000000e+00] as keyword args. From version 0.10 passing these as positional arguments will result in an error\n",
      "  mel=np.mean(librosa.feature.melspectrogram(data, sr=sample_rate).T,axis=0)\n"
     ]
    },
    {
     "name": "stdout",
     "output_type": "stream",
     "text": [
      "752\n",
      "surprised_female\n",
      "753\n",
      "surprised_female\n"
     ]
    },
    {
     "name": "stderr",
     "output_type": "stream",
     "text": [
      "/var/folders/7h/3y0jb5yx0g399b2y_qtq_db80000gn/T/ipykernel_26966/1257479974.py:14: FutureWarning: Pass y=[ 1.6322969e-05  4.8337479e-05  2.0403480e-05 ... -1.0315817e-05\n",
      " -5.4574839e-06  0.0000000e+00] as keyword args. From version 0.10 passing these as positional arguments will result in an error\n",
      "  mel=np.mean(librosa.feature.melspectrogram(data, sr=sample_rate).T,axis=0)\n"
     ]
    },
    {
     "name": "stdout",
     "output_type": "stream",
     "text": [
      "754\n",
      "angry_female\n"
     ]
    },
    {
     "name": "stderr",
     "output_type": "stream",
     "text": [
      "/var/folders/7h/3y0jb5yx0g399b2y_qtq_db80000gn/T/ipykernel_26966/1257479974.py:14: FutureWarning: Pass y=[0.0000000e+00 0.0000000e+00 0.0000000e+00 ... 2.7409928e-06 6.9270045e-06\n",
      " 0.0000000e+00] as keyword args. From version 0.10 passing these as positional arguments will result in an error\n",
      "  mel=np.mean(librosa.feature.melspectrogram(data, sr=sample_rate).T,axis=0)\n",
      "/var/folders/7h/3y0jb5yx0g399b2y_qtq_db80000gn/T/ipykernel_26966/1257479974.py:14: FutureWarning: Pass y=[ 0.0000000e+00  0.0000000e+00  0.0000000e+00 ... -1.3824370e-05\n",
      " -6.2995796e-06  0.0000000e+00] as keyword args. From version 0.10 passing these as positional arguments will result in an error\n",
      "  mel=np.mean(librosa.feature.melspectrogram(data, sr=sample_rate).T,axis=0)\n"
     ]
    },
    {
     "name": "stdout",
     "output_type": "stream",
     "text": [
      "755\n",
      "fearful_female\n",
      "756\n",
      "fearful_female\n"
     ]
    },
    {
     "name": "stderr",
     "output_type": "stream",
     "text": [
      "/var/folders/7h/3y0jb5yx0g399b2y_qtq_db80000gn/T/ipykernel_26966/1257479974.py:14: FutureWarning: Pass y=[ 0.          0.          0.         ... -0.00087075 -0.00093893\n",
      "  0.        ] as keyword args. From version 0.10 passing these as positional arguments will result in an error\n",
      "  mel=np.mean(librosa.feature.melspectrogram(data, sr=sample_rate).T,axis=0)\n"
     ]
    },
    {
     "name": "stdout",
     "output_type": "stream",
     "text": [
      "757\n",
      "angry_female\n"
     ]
    },
    {
     "name": "stderr",
     "output_type": "stream",
     "text": [
      "/var/folders/7h/3y0jb5yx0g399b2y_qtq_db80000gn/T/ipykernel_26966/1257479974.py:14: FutureWarning: Pass y=[ 1.3799029e-05  2.3712748e-07 -3.4784719e-07 ...  2.7581083e-03\n",
      "  2.8025142e-03  0.0000000e+00] as keyword args. From version 0.10 passing these as positional arguments will result in an error\n",
      "  mel=np.mean(librosa.feature.melspectrogram(data, sr=sample_rate).T,axis=0)\n"
     ]
    },
    {
     "name": "stdout",
     "output_type": "stream",
     "text": [
      "758\n",
      "disgust_female\n"
     ]
    },
    {
     "name": "stderr",
     "output_type": "stream",
     "text": [
      "/var/folders/7h/3y0jb5yx0g399b2y_qtq_db80000gn/T/ipykernel_26966/1257479974.py:14: FutureWarning: Pass y=[1.2146768e-03 1.8470963e-03 1.6136256e-03 ... 9.6052645e-06 8.3101777e-06\n",
      " 0.0000000e+00] as keyword args. From version 0.10 passing these as positional arguments will result in an error\n",
      "  mel=np.mean(librosa.feature.melspectrogram(data, sr=sample_rate).T,axis=0)\n"
     ]
    },
    {
     "name": "stdout",
     "output_type": "stream",
     "text": [
      "759\n",
      "sad_female\n"
     ]
    },
    {
     "name": "stderr",
     "output_type": "stream",
     "text": [
      "/var/folders/7h/3y0jb5yx0g399b2y_qtq_db80000gn/T/ipykernel_26966/1257479974.py:14: FutureWarning: Pass y=[-2.0530371e-05 -1.8721579e-05 -1.2103711e-05 ...  8.3692136e-08\n",
      "  3.2831704e-08  0.0000000e+00] as keyword args. From version 0.10 passing these as positional arguments will result in an error\n",
      "  mel=np.mean(librosa.feature.melspectrogram(data, sr=sample_rate).T,axis=0)\n"
     ]
    },
    {
     "name": "stdout",
     "output_type": "stream",
     "text": [
      "760\n",
      "sad_female\n"
     ]
    },
    {
     "name": "stderr",
     "output_type": "stream",
     "text": [
      "/var/folders/7h/3y0jb5yx0g399b2y_qtq_db80000gn/T/ipykernel_26966/1257479974.py:14: FutureWarning: Pass y=[ 0.          0.          0.         ... -0.00150144 -0.0016601\n",
      "  0.        ] as keyword args. From version 0.10 passing these as positional arguments will result in an error\n",
      "  mel=np.mean(librosa.feature.melspectrogram(data, sr=sample_rate).T,axis=0)\n"
     ]
    },
    {
     "name": "stdout",
     "output_type": "stream",
     "text": [
      "761\n",
      "disgust_female\n"
     ]
    },
    {
     "name": "stderr",
     "output_type": "stream",
     "text": [
      "/var/folders/7h/3y0jb5yx0g399b2y_qtq_db80000gn/T/ipykernel_26966/1257479974.py:14: FutureWarning: Pass y=[-5.8426456e-05 -1.3405834e-04 -8.5473759e-05 ... -5.4671989e-07\n",
      "  7.5351073e-07  0.0000000e+00] as keyword args. From version 0.10 passing these as positional arguments will result in an error\n",
      "  mel=np.mean(librosa.feature.melspectrogram(data, sr=sample_rate).T,axis=0)\n"
     ]
    },
    {
     "name": "stdout",
     "output_type": "stream",
     "text": [
      "762\n",
      "happy_female\n"
     ]
    },
    {
     "name": "stderr",
     "output_type": "stream",
     "text": [
      "/var/folders/7h/3y0jb5yx0g399b2y_qtq_db80000gn/T/ipykernel_26966/1257479974.py:14: FutureWarning: Pass y=[ 0.0000000e+00  0.0000000e+00  0.0000000e+00 ... -2.3606559e-05\n",
      " -1.7298906e-05  0.0000000e+00] as keyword args. From version 0.10 passing these as positional arguments will result in an error\n",
      "  mel=np.mean(librosa.feature.melspectrogram(data, sr=sample_rate).T,axis=0)\n"
     ]
    },
    {
     "name": "stdout",
     "output_type": "stream",
     "text": [
      "763\n",
      "happy_female\n"
     ]
    },
    {
     "name": "stderr",
     "output_type": "stream",
     "text": [
      "/var/folders/7h/3y0jb5yx0g399b2y_qtq_db80000gn/T/ipykernel_26966/1257479974.py:14: FutureWarning: Pass y=[-1.8793036e-06  3.2166508e-06 -1.2668963e-05 ... -7.6492061e-06\n",
      " -1.8590696e-05  0.0000000e+00] as keyword args. From version 0.10 passing these as positional arguments will result in an error\n",
      "  mel=np.mean(librosa.feature.melspectrogram(data, sr=sample_rate).T,axis=0)\n"
     ]
    },
    {
     "name": "stdout",
     "output_type": "stream",
     "text": [
      "764\n",
      "calm_female\n"
     ]
    },
    {
     "name": "stderr",
     "output_type": "stream",
     "text": [
      "/var/folders/7h/3y0jb5yx0g399b2y_qtq_db80000gn/T/ipykernel_26966/1257479974.py:14: FutureWarning: Pass y=[ 5.0117461e-07 -5.2837044e-07  5.3501873e-07 ... -2.0786315e-07\n",
      " -1.0587783e-05  0.0000000e+00] as keyword args. From version 0.10 passing these as positional arguments will result in an error\n",
      "  mel=np.mean(librosa.feature.melspectrogram(data, sr=sample_rate).T,axis=0)\n"
     ]
    },
    {
     "name": "stdout",
     "output_type": "stream",
     "text": [
      "765\n",
      "neutral_female\n"
     ]
    },
    {
     "name": "stderr",
     "output_type": "stream",
     "text": [
      "/var/folders/7h/3y0jb5yx0g399b2y_qtq_db80000gn/T/ipykernel_26966/1257479974.py:14: FutureWarning: Pass y=[0.0000000e+00 0.0000000e+00 0.0000000e+00 ... 2.3018383e-05 3.7358408e-05\n",
      " 0.0000000e+00] as keyword args. From version 0.10 passing these as positional arguments will result in an error\n",
      "  mel=np.mean(librosa.feature.melspectrogram(data, sr=sample_rate).T,axis=0)\n"
     ]
    },
    {
     "name": "stdout",
     "output_type": "stream",
     "text": [
      "766\n",
      "calm_female\n"
     ]
    },
    {
     "name": "stderr",
     "output_type": "stream",
     "text": [
      "/var/folders/7h/3y0jb5yx0g399b2y_qtq_db80000gn/T/ipykernel_26966/1257479974.py:14: FutureWarning: Pass y=[ 0.0000000e+00  0.0000000e+00  0.0000000e+00 ... -2.4052148e-05\n",
      "  3.6319443e-07  0.0000000e+00] as keyword args. From version 0.10 passing these as positional arguments will result in an error\n",
      "  mel=np.mean(librosa.feature.melspectrogram(data, sr=sample_rate).T,axis=0)\n"
     ]
    },
    {
     "name": "stdout",
     "output_type": "stream",
     "text": [
      "767\n",
      "happy_female\n"
     ]
    },
    {
     "name": "stderr",
     "output_type": "stream",
     "text": [
      "/var/folders/7h/3y0jb5yx0g399b2y_qtq_db80000gn/T/ipykernel_26966/1257479974.py:14: FutureWarning: Pass y=[ 0.          0.          0.         ... -0.0002224  -0.00018501\n",
      "  0.        ] as keyword args. From version 0.10 passing these as positional arguments will result in an error\n",
      "  mel=np.mean(librosa.feature.melspectrogram(data, sr=sample_rate).T,axis=0)\n"
     ]
    },
    {
     "name": "stdout",
     "output_type": "stream",
     "text": [
      "768\n",
      "happy_female\n"
     ]
    },
    {
     "name": "stderr",
     "output_type": "stream",
     "text": [
      "/var/folders/7h/3y0jb5yx0g399b2y_qtq_db80000gn/T/ipykernel_26966/1257479974.py:14: FutureWarning: Pass y=[0.000000e+00 0.000000e+00 0.000000e+00 ... 5.918910e-05 5.649656e-05\n",
      " 0.000000e+00] as keyword args. From version 0.10 passing these as positional arguments will result in an error\n",
      "  mel=np.mean(librosa.feature.melspectrogram(data, sr=sample_rate).T,axis=0)\n"
     ]
    },
    {
     "name": "stdout",
     "output_type": "stream",
     "text": [
      "769\n",
      "calm_female\n"
     ]
    },
    {
     "name": "stderr",
     "output_type": "stream",
     "text": [
      "/var/folders/7h/3y0jb5yx0g399b2y_qtq_db80000gn/T/ipykernel_26966/1257479974.py:14: FutureWarning: Pass y=[-3.3354438e-05 -6.1207211e-05 -4.0435298e-05 ... -6.2050283e-05\n",
      " -2.1974191e-05  0.0000000e+00] as keyword args. From version 0.10 passing these as positional arguments will result in an error\n",
      "  mel=np.mean(librosa.feature.melspectrogram(data, sr=sample_rate).T,axis=0)\n"
     ]
    },
    {
     "name": "stdout",
     "output_type": "stream",
     "text": [
      "770\n",
      "calm_female\n"
     ]
    },
    {
     "name": "stderr",
     "output_type": "stream",
     "text": [
      "/var/folders/7h/3y0jb5yx0g399b2y_qtq_db80000gn/T/ipykernel_26966/1257479974.py:14: FutureWarning: Pass y=[-3.2838165e-07  4.8149076e-07 -7.2168638e-07 ...  1.2218401e-06\n",
      " -9.8955752e-07  0.0000000e+00] as keyword args. From version 0.10 passing these as positional arguments will result in an error\n",
      "  mel=np.mean(librosa.feature.melspectrogram(data, sr=sample_rate).T,axis=0)\n",
      "/var/folders/7h/3y0jb5yx0g399b2y_qtq_db80000gn/T/ipykernel_26966/1257479974.py:14: FutureWarning: Pass y=[ 0.000000e+00  0.000000e+00  0.000000e+00 ...  5.446645e-07 -5.033198e-07\n",
      "  0.000000e+00] as keyword args. From version 0.10 passing these as positional arguments will result in an error\n",
      "  mel=np.mean(librosa.feature.melspectrogram(data, sr=sample_rate).T,axis=0)\n"
     ]
    },
    {
     "name": "stdout",
     "output_type": "stream",
     "text": [
      "771\n",
      "neutral_female\n",
      "772\n",
      "surprised_female\n"
     ]
    },
    {
     "name": "stderr",
     "output_type": "stream",
     "text": [
      "/var/folders/7h/3y0jb5yx0g399b2y_qtq_db80000gn/T/ipykernel_26966/1257479974.py:14: FutureWarning: Pass y=[0.000000e+00 0.000000e+00 0.000000e+00 ... 8.936948e-06 8.784474e-06\n",
      " 0.000000e+00] as keyword args. From version 0.10 passing these as positional arguments will result in an error\n",
      "  mel=np.mean(librosa.feature.melspectrogram(data, sr=sample_rate).T,axis=0)\n",
      "/var/folders/7h/3y0jb5yx0g399b2y_qtq_db80000gn/T/ipykernel_26966/1257479974.py:14: FutureWarning: Pass y=[ 0.0000000e+00  0.0000000e+00  0.0000000e+00 ...  1.1059748e-06\n",
      " -1.2668291e-06  0.0000000e+00] as keyword args. From version 0.10 passing these as positional arguments will result in an error\n",
      "  mel=np.mean(librosa.feature.melspectrogram(data, sr=sample_rate).T,axis=0)\n"
     ]
    },
    {
     "name": "stdout",
     "output_type": "stream",
     "text": [
      "773\n",
      "surprised_female\n",
      "774\n",
      "fearful_female\n",
      "775\n",
      "angry_female\n"
     ]
    },
    {
     "name": "stderr",
     "output_type": "stream",
     "text": [
      "/var/folders/7h/3y0jb5yx0g399b2y_qtq_db80000gn/T/ipykernel_26966/1257479974.py:14: FutureWarning: Pass y=[ 2.1035136e-09 -2.5039439e-09  2.8516700e-09 ... -8.1573002e-05\n",
      " -1.0021649e-04  0.0000000e+00] as keyword args. From version 0.10 passing these as positional arguments will result in an error\n",
      "  mel=np.mean(librosa.feature.melspectrogram(data, sr=sample_rate).T,axis=0)\n",
      "/var/folders/7h/3y0jb5yx0g399b2y_qtq_db80000gn/T/ipykernel_26966/1257479974.py:14: FutureWarning: Pass y=[ 0.0000000e+00  0.0000000e+00  0.0000000e+00 ... -8.9353711e-07\n",
      "  3.0044286e-05  0.0000000e+00] as keyword args. From version 0.10 passing these as positional arguments will result in an error\n",
      "  mel=np.mean(librosa.feature.melspectrogram(data, sr=sample_rate).T,axis=0)\n"
     ]
    },
    {
     "name": "stdout",
     "output_type": "stream",
     "text": [
      "776\n",
      "angry_female\n"
     ]
    },
    {
     "name": "stderr",
     "output_type": "stream",
     "text": [
      "/var/folders/7h/3y0jb5yx0g399b2y_qtq_db80000gn/T/ipykernel_26966/1257479974.py:14: FutureWarning: Pass y=[-3.7936928e-12  6.8383324e-12 -1.0932485e-11 ... -5.4698841e-05\n",
      " -5.2308998e-05  0.0000000e+00] as keyword args. From version 0.10 passing these as positional arguments will result in an error\n",
      "  mel=np.mean(librosa.feature.melspectrogram(data, sr=sample_rate).T,axis=0)\n"
     ]
    },
    {
     "name": "stdout",
     "output_type": "stream",
     "text": [
      "777\n",
      "fearful_female\n"
     ]
    },
    {
     "name": "stderr",
     "output_type": "stream",
     "text": [
      "/var/folders/7h/3y0jb5yx0g399b2y_qtq_db80000gn/T/ipykernel_26966/1257479974.py:14: FutureWarning: Pass y=[ 0.0000000e+00  0.0000000e+00  0.0000000e+00 ... -9.3730538e-05\n",
      " -1.2075605e-04  0.0000000e+00] as keyword args. From version 0.10 passing these as positional arguments will result in an error\n",
      "  mel=np.mean(librosa.feature.melspectrogram(data, sr=sample_rate).T,axis=0)\n"
     ]
    },
    {
     "name": "stdout",
     "output_type": "stream",
     "text": [
      "778\n",
      "sad_female\n"
     ]
    },
    {
     "name": "stderr",
     "output_type": "stream",
     "text": [
      "/var/folders/7h/3y0jb5yx0g399b2y_qtq_db80000gn/T/ipykernel_26966/1257479974.py:14: FutureWarning: Pass y=[ 9.1255584e-05  1.7238628e-04  1.1742765e-04 ...  2.2790628e-06\n",
      " -2.1682085e-06  0.0000000e+00] as keyword args. From version 0.10 passing these as positional arguments will result in an error\n",
      "  mel=np.mean(librosa.feature.melspectrogram(data, sr=sample_rate).T,axis=0)\n"
     ]
    },
    {
     "name": "stdout",
     "output_type": "stream",
     "text": [
      "779\n",
      "disgust_female\n"
     ]
    },
    {
     "name": "stderr",
     "output_type": "stream",
     "text": [
      "/var/folders/7h/3y0jb5yx0g399b2y_qtq_db80000gn/T/ipykernel_26966/1257479974.py:14: FutureWarning: Pass y=[-1.3202539e-05 -7.4877662e-06 -1.9581019e-05 ... -6.9408175e-06\n",
      " -7.4234408e-06  0.0000000e+00] as keyword args. From version 0.10 passing these as positional arguments will result in an error\n",
      "  mel=np.mean(librosa.feature.melspectrogram(data, sr=sample_rate).T,axis=0)\n"
     ]
    },
    {
     "name": "stdout",
     "output_type": "stream",
     "text": [
      "780\n",
      "disgust_female\n"
     ]
    },
    {
     "name": "stderr",
     "output_type": "stream",
     "text": [
      "/var/folders/7h/3y0jb5yx0g399b2y_qtq_db80000gn/T/ipykernel_26966/1257479974.py:14: FutureWarning: Pass y=[-2.3075631e-06  4.1179592e-06  1.1372854e-05 ...  1.0164315e-07\n",
      "  1.6212488e-07  0.0000000e+00] as keyword args. From version 0.10 passing these as positional arguments will result in an error\n",
      "  mel=np.mean(librosa.feature.melspectrogram(data, sr=sample_rate).T,axis=0)\n"
     ]
    },
    {
     "name": "stdout",
     "output_type": "stream",
     "text": [
      "781\n",
      "sad_female\n"
     ]
    },
    {
     "name": "stderr",
     "output_type": "stream",
     "text": [
      "/var/folders/7h/3y0jb5yx0g399b2y_qtq_db80000gn/T/ipykernel_26966/1257479974.py:14: FutureWarning: Pass y=[0.0000000e+00 0.0000000e+00 0.0000000e+00 ... 3.8541307e-06 2.7673601e-05\n",
      " 0.0000000e+00] as keyword args. From version 0.10 passing these as positional arguments will result in an error\n",
      "  mel=np.mean(librosa.feature.melspectrogram(data, sr=sample_rate).T,axis=0)\n"
     ]
    },
    {
     "name": "stdout",
     "output_type": "stream",
     "text": [
      "782\n",
      "surprised_male\n"
     ]
    },
    {
     "name": "stderr",
     "output_type": "stream",
     "text": [
      "/var/folders/7h/3y0jb5yx0g399b2y_qtq_db80000gn/T/ipykernel_26966/1257479974.py:14: FutureWarning: Pass y=[-8.2438336e-12  2.7822575e-12  1.0348719e-11 ... -7.8107569e-06\n",
      "  1.7023181e-06  0.0000000e+00] as keyword args. From version 0.10 passing these as positional arguments will result in an error\n",
      "  mel=np.mean(librosa.feature.melspectrogram(data, sr=sample_rate).T,axis=0)\n"
     ]
    },
    {
     "name": "stdout",
     "output_type": "stream",
     "text": [
      "783\n",
      "surprised_male\n"
     ]
    },
    {
     "name": "stderr",
     "output_type": "stream",
     "text": [
      "/var/folders/7h/3y0jb5yx0g399b2y_qtq_db80000gn/T/ipykernel_26966/1257479974.py:14: FutureWarning: Pass y=[-8.8526795e-05 -1.3116551e-04 -1.1747758e-04 ...  1.1410184e-12\n",
      "  0.0000000e+00  0.0000000e+00] as keyword args. From version 0.10 passing these as positional arguments will result in an error\n",
      "  mel=np.mean(librosa.feature.melspectrogram(data, sr=sample_rate).T,axis=0)\n"
     ]
    },
    {
     "name": "stdout",
     "output_type": "stream",
     "text": [
      "784\n",
      "fearful_male\n"
     ]
    },
    {
     "name": "stderr",
     "output_type": "stream",
     "text": [
      "/var/folders/7h/3y0jb5yx0g399b2y_qtq_db80000gn/T/ipykernel_26966/1257479974.py:14: FutureWarning: Pass y=[ 5.7756377e-04  9.0968079e-04  7.3328172e-04 ...  1.1024508e-06\n",
      " -1.8174189e-06  0.0000000e+00] as keyword args. From version 0.10 passing these as positional arguments will result in an error\n",
      "  mel=np.mean(librosa.feature.melspectrogram(data, sr=sample_rate).T,axis=0)\n"
     ]
    },
    {
     "name": "stdout",
     "output_type": "stream",
     "text": [
      "785\n",
      "angry_male\n"
     ]
    },
    {
     "name": "stderr",
     "output_type": "stream",
     "text": [
      "/var/folders/7h/3y0jb5yx0g399b2y_qtq_db80000gn/T/ipykernel_26966/1257479974.py:14: FutureWarning: Pass y=[ 0.0000000e+00  0.0000000e+00  0.0000000e+00 ... -2.5987503e-09\n",
      "  2.6780700e-09  0.0000000e+00] as keyword args. From version 0.10 passing these as positional arguments will result in an error\n",
      "  mel=np.mean(librosa.feature.melspectrogram(data, sr=sample_rate).T,axis=0)\n"
     ]
    },
    {
     "name": "stdout",
     "output_type": "stream",
     "text": [
      "786\n",
      "angry_male\n"
     ]
    },
    {
     "name": "stderr",
     "output_type": "stream",
     "text": [
      "/var/folders/7h/3y0jb5yx0g399b2y_qtq_db80000gn/T/ipykernel_26966/1257479974.py:14: FutureWarning: Pass y=[-1.3421814e-05 -2.2260505e-05 -1.7850889e-05 ...  0.0000000e+00\n",
      "  0.0000000e+00  0.0000000e+00] as keyword args. From version 0.10 passing these as positional arguments will result in an error\n",
      "  mel=np.mean(librosa.feature.melspectrogram(data, sr=sample_rate).T,axis=0)\n",
      "/var/folders/7h/3y0jb5yx0g399b2y_qtq_db80000gn/T/ipykernel_26966/1257479974.py:14: FutureWarning: Pass y=[ 2.8059265e-04  4.4255130e-04  4.0548909e-04 ...  7.1689632e-09\n",
      " -9.9776329e-09  0.0000000e+00] as keyword args. From version 0.10 passing these as positional arguments will result in an error\n",
      "  mel=np.mean(librosa.feature.melspectrogram(data, sr=sample_rate).T,axis=0)\n"
     ]
    },
    {
     "name": "stdout",
     "output_type": "stream",
     "text": [
      "787\n",
      "fearful_male\n",
      "788\n",
      "sad_male\n"
     ]
    },
    {
     "name": "stderr",
     "output_type": "stream",
     "text": [
      "/var/folders/7h/3y0jb5yx0g399b2y_qtq_db80000gn/T/ipykernel_26966/1257479974.py:14: FutureWarning: Pass y=[-1.06318184e-04 -1.76060421e-04 -1.53775225e-04 ...  8.37529296e-05\n",
      "  8.49788557e-05  0.00000000e+00] as keyword args. From version 0.10 passing these as positional arguments will result in an error\n",
      "  mel=np.mean(librosa.feature.melspectrogram(data, sr=sample_rate).T,axis=0)\n"
     ]
    },
    {
     "name": "stdout",
     "output_type": "stream",
     "text": [
      "789\n",
      "disgust_male\n"
     ]
    },
    {
     "name": "stderr",
     "output_type": "stream",
     "text": [
      "/var/folders/7h/3y0jb5yx0g399b2y_qtq_db80000gn/T/ipykernel_26966/1257479974.py:14: FutureWarning: Pass y=[ 3.6818697e-04  5.9053581e-04  4.7611151e-04 ... -7.4608448e-07\n",
      " -2.4262168e-05  0.0000000e+00] as keyword args. From version 0.10 passing these as positional arguments will result in an error\n",
      "  mel=np.mean(librosa.feature.melspectrogram(data, sr=sample_rate).T,axis=0)\n",
      "/var/folders/7h/3y0jb5yx0g399b2y_qtq_db80000gn/T/ipykernel_26966/1257479974.py:14: FutureWarning: Pass y=[-5.6973549e-05 -8.9700246e-05 -9.1915565e-05 ...  1.1909761e-03\n",
      "  1.3224867e-03  0.0000000e+00] as keyword args. From version 0.10 passing these as positional arguments will result in an error\n",
      "  mel=np.mean(librosa.feature.melspectrogram(data, sr=sample_rate).T,axis=0)\n"
     ]
    },
    {
     "name": "stdout",
     "output_type": "stream",
     "text": [
      "790\n",
      "disgust_male\n",
      "791\n",
      "sad_male\n"
     ]
    },
    {
     "name": "stderr",
     "output_type": "stream",
     "text": [
      "/var/folders/7h/3y0jb5yx0g399b2y_qtq_db80000gn/T/ipykernel_26966/1257479974.py:14: FutureWarning: Pass y=[-7.4542993e-07  1.7351130e-06 -1.0243401e-05 ...  1.3905076e-03\n",
      "  1.4393164e-03  0.0000000e+00] as keyword args. From version 0.10 passing these as positional arguments will result in an error\n",
      "  mel=np.mean(librosa.feature.melspectrogram(data, sr=sample_rate).T,axis=0)\n",
      "/var/folders/7h/3y0jb5yx0g399b2y_qtq_db80000gn/T/ipykernel_26966/1257479974.py:14: FutureWarning: Pass y=[ 3.8683520e-05  2.2295300e-05 -3.5622520e-06 ...  1.3108994e-04\n",
      "  1.9012659e-04  0.0000000e+00] as keyword args. From version 0.10 passing these as positional arguments will result in an error\n",
      "  mel=np.mean(librosa.feature.melspectrogram(data, sr=sample_rate).T,axis=0)\n"
     ]
    },
    {
     "name": "stdout",
     "output_type": "stream",
     "text": [
      "792\n",
      "happy_male\n",
      "793\n",
      "happy_male\n"
     ]
    },
    {
     "name": "stderr",
     "output_type": "stream",
     "text": [
      "/var/folders/7h/3y0jb5yx0g399b2y_qtq_db80000gn/T/ipykernel_26966/1257479974.py:14: FutureWarning: Pass y=[ 3.6151479e-10 -5.7384997e-10  8.5187796e-10 ... -2.0955317e-03\n",
      " -2.2740252e-03  0.0000000e+00] as keyword args. From version 0.10 passing these as positional arguments will result in an error\n",
      "  mel=np.mean(librosa.feature.melspectrogram(data, sr=sample_rate).T,axis=0)\n",
      "/var/folders/7h/3y0jb5yx0g399b2y_qtq_db80000gn/T/ipykernel_26966/1257479974.py:14: FutureWarning: Pass y=[-3.0027902e-10  4.5644460e-10 -6.5724348e-10 ... -3.2002416e-05\n",
      " -4.1626059e-05  0.0000000e+00] as keyword args. From version 0.10 passing these as positional arguments will result in an error\n",
      "  mel=np.mean(librosa.feature.melspectrogram(data, sr=sample_rate).T,axis=0)\n"
     ]
    },
    {
     "name": "stdout",
     "output_type": "stream",
     "text": [
      "794\n",
      "calm_male\n",
      "795\n",
      "calm_male\n"
     ]
    },
    {
     "name": "stderr",
     "output_type": "stream",
     "text": [
      "/var/folders/7h/3y0jb5yx0g399b2y_qtq_db80000gn/T/ipykernel_26966/1257479974.py:14: FutureWarning: Pass y=[2.7364802e-05 6.9965266e-05 4.4461001e-05 ... 1.6350611e-04 1.8765562e-04\n",
      " 0.0000000e+00] as keyword args. From version 0.10 passing these as positional arguments will result in an error\n",
      "  mel=np.mean(librosa.feature.melspectrogram(data, sr=sample_rate).T,axis=0)\n",
      "/var/folders/7h/3y0jb5yx0g399b2y_qtq_db80000gn/T/ipykernel_26966/1257479974.py:14: FutureWarning: Pass y=[ 8.1007602e-07 -1.5623609e-06 -1.7015000e-05 ...  5.2877533e-07\n",
      " -4.2084270e-07  0.0000000e+00] as keyword args. From version 0.10 passing these as positional arguments will result in an error\n",
      "  mel=np.mean(librosa.feature.melspectrogram(data, sr=sample_rate).T,axis=0)\n"
     ]
    },
    {
     "name": "stdout",
     "output_type": "stream",
     "text": [
      "796\n",
      "neutral_male\n",
      "797\n",
      "happy_male\n"
     ]
    },
    {
     "name": "stderr",
     "output_type": "stream",
     "text": [
      "/var/folders/7h/3y0jb5yx0g399b2y_qtq_db80000gn/T/ipykernel_26966/1257479974.py:14: FutureWarning: Pass y=[-3.3672302e-05 -5.8805650e-05 -5.8727263e-05 ...  7.2437888e-06\n",
      " -3.7336401e-06  0.0000000e+00] as keyword args. From version 0.10 passing these as positional arguments will result in an error\n",
      "  mel=np.mean(librosa.feature.melspectrogram(data, sr=sample_rate).T,axis=0)\n",
      "/var/folders/7h/3y0jb5yx0g399b2y_qtq_db80000gn/T/ipykernel_26966/1257479974.py:14: FutureWarning: Pass y=[-3.4567503e-05 -3.4420482e-05 -2.8866310e-05 ... -5.4001099e-05\n",
      " -8.3563624e-05  0.0000000e+00] as keyword args. From version 0.10 passing these as positional arguments will result in an error\n",
      "  mel=np.mean(librosa.feature.melspectrogram(data, sr=sample_rate).T,axis=0)\n"
     ]
    },
    {
     "name": "stdout",
     "output_type": "stream",
     "text": [
      "798\n",
      "happy_male\n",
      "799\n",
      "calm_male\n"
     ]
    },
    {
     "name": "stderr",
     "output_type": "stream",
     "text": [
      "/var/folders/7h/3y0jb5yx0g399b2y_qtq_db80000gn/T/ipykernel_26966/1257479974.py:14: FutureWarning: Pass y=[-9.2724822e-06 -8.5640231e-06  3.2646453e-06 ...  1.0876179e-04\n",
      "  1.1863462e-04  0.0000000e+00] as keyword args. From version 0.10 passing these as positional arguments will result in an error\n",
      "  mel=np.mean(librosa.feature.melspectrogram(data, sr=sample_rate).T,axis=0)\n",
      "/var/folders/7h/3y0jb5yx0g399b2y_qtq_db80000gn/T/ipykernel_26966/1257479974.py:14: FutureWarning: Pass y=[ 2.0372387e-07 -2.9526333e-07  4.1147743e-07 ... -1.4542969e-09\n",
      "  1.4155723e-09  0.0000000e+00] as keyword args. From version 0.10 passing these as positional arguments will result in an error\n",
      "  mel=np.mean(librosa.feature.melspectrogram(data, sr=sample_rate).T,axis=0)\n"
     ]
    },
    {
     "name": "stdout",
     "output_type": "stream",
     "text": [
      "800\n",
      "neutral_male\n",
      "801\n",
      "calm_male\n"
     ]
    },
    {
     "name": "stderr",
     "output_type": "stream",
     "text": [
      "/var/folders/7h/3y0jb5yx0g399b2y_qtq_db80000gn/T/ipykernel_26966/1257479974.py:14: FutureWarning: Pass y=[ 2.5715261e-07 -2.9554923e-07  3.3034328e-07 ...  1.9732902e-08\n",
      " -9.0112771e-09  0.0000000e+00] as keyword args. From version 0.10 passing these as positional arguments will result in an error\n",
      "  mel=np.mean(librosa.feature.melspectrogram(data, sr=sample_rate).T,axis=0)\n",
      "/var/folders/7h/3y0jb5yx0g399b2y_qtq_db80000gn/T/ipykernel_26966/1257479974.py:14: FutureWarning: Pass y=[-6.7930114e-07  6.4624885e-07 -5.6728749e-07 ...  1.9016286e-04\n",
      "  1.9748248e-04  0.0000000e+00] as keyword args. From version 0.10 passing these as positional arguments will result in an error\n",
      "  mel=np.mean(librosa.feature.melspectrogram(data, sr=sample_rate).T,axis=0)\n"
     ]
    },
    {
     "name": "stdout",
     "output_type": "stream",
     "text": [
      "802\n",
      "surprised_male\n",
      "803\n",
      "surprised_male\n"
     ]
    },
    {
     "name": "stderr",
     "output_type": "stream",
     "text": [
      "/var/folders/7h/3y0jb5yx0g399b2y_qtq_db80000gn/T/ipykernel_26966/1257479974.py:14: FutureWarning: Pass y=[7.7110377e-07 2.1744701e-05 3.6003352e-05 ... 9.1782313e-05 9.6777600e-05\n",
      " 0.0000000e+00] as keyword args. From version 0.10 passing these as positional arguments will result in an error\n",
      "  mel=np.mean(librosa.feature.melspectrogram(data, sr=sample_rate).T,axis=0)\n",
      "/var/folders/7h/3y0jb5yx0g399b2y_qtq_db80000gn/T/ipykernel_26966/1257479974.py:14: FutureWarning: Pass y=[ 3.37666307e-07  8.32973370e-08 -1.19173069e-06 ... -1.58076684e-04\n",
      " -1.11364985e-04  0.00000000e+00] as keyword args. From version 0.10 passing these as positional arguments will result in an error\n",
      "  mel=np.mean(librosa.feature.melspectrogram(data, sr=sample_rate).T,axis=0)\n"
     ]
    },
    {
     "name": "stdout",
     "output_type": "stream",
     "text": [
      "804\n",
      "angry_male\n",
      "805\n",
      "fearful_male\n"
     ]
    },
    {
     "name": "stderr",
     "output_type": "stream",
     "text": [
      "/var/folders/7h/3y0jb5yx0g399b2y_qtq_db80000gn/T/ipykernel_26966/1257479974.py:14: FutureWarning: Pass y=[-1.48103736e-05 -1.56424467e-05 -1.50166925e-05 ... -9.38132289e-05\n",
      " -9.49977839e-05  0.00000000e+00] as keyword args. From version 0.10 passing these as positional arguments will result in an error\n",
      "  mel=np.mean(librosa.feature.melspectrogram(data, sr=sample_rate).T,axis=0)\n",
      "/var/folders/7h/3y0jb5yx0g399b2y_qtq_db80000gn/T/ipykernel_26966/1257479974.py:14: FutureWarning: Pass y=[9.5721007e-06 6.9720459e-06 7.7764143e-06 ... 1.6885361e-04 1.5233996e-04\n",
      " 0.0000000e+00] as keyword args. From version 0.10 passing these as positional arguments will result in an error\n",
      "  mel=np.mean(librosa.feature.melspectrogram(data, sr=sample_rate).T,axis=0)\n"
     ]
    },
    {
     "name": "stdout",
     "output_type": "stream",
     "text": [
      "806\n",
      "fearful_male\n",
      "807\n",
      "angry_male\n"
     ]
    },
    {
     "name": "stderr",
     "output_type": "stream",
     "text": [
      "/var/folders/7h/3y0jb5yx0g399b2y_qtq_db80000gn/T/ipykernel_26966/1257479974.py:14: FutureWarning: Pass y=[-4.00125464e-05 -5.61070337e-05 -4.58425347e-05 ...  1.68631319e-04\n",
      "  1.09115164e-04  0.00000000e+00] as keyword args. From version 0.10 passing these as positional arguments will result in an error\n",
      "  mel=np.mean(librosa.feature.melspectrogram(data, sr=sample_rate).T,axis=0)\n"
     ]
    },
    {
     "name": "stdout",
     "output_type": "stream",
     "text": [
      "808\n",
      "disgust_male\n"
     ]
    },
    {
     "name": "stderr",
     "output_type": "stream",
     "text": [
      "/var/folders/7h/3y0jb5yx0g399b2y_qtq_db80000gn/T/ipykernel_26966/1257479974.py:14: FutureWarning: Pass y=[-7.6896707e-05 -1.2612168e-04 -1.0858063e-04 ...  6.9472509e-05\n",
      "  7.4461859e-05  0.0000000e+00] as keyword args. From version 0.10 passing these as positional arguments will result in an error\n",
      "  mel=np.mean(librosa.feature.melspectrogram(data, sr=sample_rate).T,axis=0)\n",
      "/var/folders/7h/3y0jb5yx0g399b2y_qtq_db80000gn/T/ipykernel_26966/1257479974.py:14: FutureWarning: Pass y=[-2.7519955e-05 -1.7934475e-05 -1.0455599e-05 ...  1.4423025e-04\n",
      "  2.1806643e-04  0.0000000e+00] as keyword args. From version 0.10 passing these as positional arguments will result in an error\n",
      "  mel=np.mean(librosa.feature.melspectrogram(data, sr=sample_rate).T,axis=0)\n"
     ]
    },
    {
     "name": "stdout",
     "output_type": "stream",
     "text": [
      "809\n",
      "sad_male\n",
      "810\n",
      "sad_male\n"
     ]
    },
    {
     "name": "stderr",
     "output_type": "stream",
     "text": [
      "/var/folders/7h/3y0jb5yx0g399b2y_qtq_db80000gn/T/ipykernel_26966/1257479974.py:14: FutureWarning: Pass y=[-4.5276276e-05 -6.3295192e-05 -4.3999102e-05 ...  0.0000000e+00\n",
      "  0.0000000e+00  0.0000000e+00] as keyword args. From version 0.10 passing these as positional arguments will result in an error\n",
      "  mel=np.mean(librosa.feature.melspectrogram(data, sr=sample_rate).T,axis=0)\n",
      "/var/folders/7h/3y0jb5yx0g399b2y_qtq_db80000gn/T/ipykernel_26966/1257479974.py:14: FutureWarning: Pass y=[9.3312620e-04 1.4113956e-03 1.2284996e-03 ... 8.7540997e-05 8.5785141e-05\n",
      " 0.0000000e+00] as keyword args. From version 0.10 passing these as positional arguments will result in an error\n",
      "  mel=np.mean(librosa.feature.melspectrogram(data, sr=sample_rate).T,axis=0)\n"
     ]
    },
    {
     "name": "stdout",
     "output_type": "stream",
     "text": [
      "811\n",
      "disgust_male\n",
      "812\n",
      "neutral_male\n"
     ]
    },
    {
     "name": "stderr",
     "output_type": "stream",
     "text": [
      "/var/folders/7h/3y0jb5yx0g399b2y_qtq_db80000gn/T/ipykernel_26966/1257479974.py:14: FutureWarning: Pass y=[-2.6334714e-08  4.3214847e-08 -6.3022128e-08 ...  1.0619303e-06\n",
      " -8.0211174e-07  0.0000000e+00] as keyword args. From version 0.10 passing these as positional arguments will result in an error\n",
      "  mel=np.mean(librosa.feature.melspectrogram(data, sr=sample_rate).T,axis=0)\n",
      "/var/folders/7h/3y0jb5yx0g399b2y_qtq_db80000gn/T/ipykernel_26966/1257479974.py:14: FutureWarning: Pass y=[ 2.3620753e-07 -2.7154022e-07  3.0380176e-07 ...  1.7328555e-04\n",
      "  2.2351358e-04  0.0000000e+00] as keyword args. From version 0.10 passing these as positional arguments will result in an error\n",
      "  mel=np.mean(librosa.feature.melspectrogram(data, sr=sample_rate).T,axis=0)\n"
     ]
    },
    {
     "name": "stdout",
     "output_type": "stream",
     "text": [
      "813\n",
      "calm_male\n",
      "814\n",
      "calm_male\n"
     ]
    },
    {
     "name": "stderr",
     "output_type": "stream",
     "text": [
      "/var/folders/7h/3y0jb5yx0g399b2y_qtq_db80000gn/T/ipykernel_26966/1257479974.py:14: FutureWarning: Pass y=[-6.7933797e-05 -9.6975440e-05 -8.8747831e-05 ...  9.4201887e-06\n",
      "  1.2181723e-05  0.0000000e+00] as keyword args. From version 0.10 passing these as positional arguments will result in an error\n",
      "  mel=np.mean(librosa.feature.melspectrogram(data, sr=sample_rate).T,axis=0)\n",
      "/var/folders/7h/3y0jb5yx0g399b2y_qtq_db80000gn/T/ipykernel_26966/1257479974.py:14: FutureWarning: Pass y=[1.9818155e-05 4.2531632e-05 3.8414099e-05 ... 1.0873056e-04 1.1604905e-04\n",
      " 0.0000000e+00] as keyword args. From version 0.10 passing these as positional arguments will result in an error\n",
      "  mel=np.mean(librosa.feature.melspectrogram(data, sr=sample_rate).T,axis=0)\n"
     ]
    },
    {
     "name": "stdout",
     "output_type": "stream",
     "text": [
      "815\n",
      "happy_male\n",
      "816\n",
      "happy_male\n"
     ]
    },
    {
     "name": "stderr",
     "output_type": "stream",
     "text": [
      "/var/folders/7h/3y0jb5yx0g399b2y_qtq_db80000gn/T/ipykernel_26966/1257479974.py:14: FutureWarning: Pass y=[-2.9657898e-05 -1.3163458e-05 -1.1319800e-06 ... -2.2514046e-06\n",
      "  3.0198229e-05  0.0000000e+00] as keyword args. From version 0.10 passing these as positional arguments will result in an error\n",
      "  mel=np.mean(librosa.feature.melspectrogram(data, sr=sample_rate).T,axis=0)\n",
      "/var/folders/7h/3y0jb5yx0g399b2y_qtq_db80000gn/T/ipykernel_26966/1257479974.py:14: FutureWarning: Pass y=[-2.5204428e-05 -5.7232461e-05 -4.3185795e-05 ... -4.0827126e-05\n",
      " -3.4375866e-05  0.0000000e+00] as keyword args. From version 0.10 passing these as positional arguments will result in an error\n",
      "  mel=np.mean(librosa.feature.melspectrogram(data, sr=sample_rate).T,axis=0)\n"
     ]
    },
    {
     "name": "stdout",
     "output_type": "stream",
     "text": [
      "817\n",
      "surprised_male\n",
      "818\n",
      "surprised_male\n"
     ]
    },
    {
     "name": "stderr",
     "output_type": "stream",
     "text": [
      "/var/folders/7h/3y0jb5yx0g399b2y_qtq_db80000gn/T/ipykernel_26966/1257479974.py:14: FutureWarning: Pass y=[ 2.0430637e-06  1.3074857e-05 -2.8308733e-07 ...  9.3561846e-11\n",
      " -2.6088560e-11  0.0000000e+00] as keyword args. From version 0.10 passing these as positional arguments will result in an error\n",
      "  mel=np.mean(librosa.feature.melspectrogram(data, sr=sample_rate).T,axis=0)\n"
     ]
    },
    {
     "name": "stdout",
     "output_type": "stream",
     "text": [
      "819\n",
      "sad_male\n"
     ]
    },
    {
     "name": "stderr",
     "output_type": "stream",
     "text": [
      "/var/folders/7h/3y0jb5yx0g399b2y_qtq_db80000gn/T/ipykernel_26966/1257479974.py:14: FutureWarning: Pass y=[-7.89505066e-05 -1.22543192e-04 -1.21723264e-04 ... -2.86403792e-05\n",
      " -9.62943886e-05  0.00000000e+00] as keyword args. From version 0.10 passing these as positional arguments will result in an error\n",
      "  mel=np.mean(librosa.feature.melspectrogram(data, sr=sample_rate).T,axis=0)\n",
      "/var/folders/7h/3y0jb5yx0g399b2y_qtq_db80000gn/T/ipykernel_26966/1257479974.py:14: FutureWarning: Pass y=[ 0.00010049  0.00015672  0.00014778 ... -0.00026555 -0.00024572\n",
      "  0.        ] as keyword args. From version 0.10 passing these as positional arguments will result in an error\n",
      "  mel=np.mean(librosa.feature.melspectrogram(data, sr=sample_rate).T,axis=0)\n"
     ]
    },
    {
     "name": "stdout",
     "output_type": "stream",
     "text": [
      "820\n",
      "disgust_male\n",
      "821\n",
      "disgust_male\n"
     ]
    },
    {
     "name": "stderr",
     "output_type": "stream",
     "text": [
      "/var/folders/7h/3y0jb5yx0g399b2y_qtq_db80000gn/T/ipykernel_26966/1257479974.py:14: FutureWarning: Pass y=[-1.5068538e-10  2.0796886e-10 -2.7204811e-10 ...  1.3696132e-04\n",
      "  8.0569313e-05  0.0000000e+00] as keyword args. From version 0.10 passing these as positional arguments will result in an error\n",
      "  mel=np.mean(librosa.feature.melspectrogram(data, sr=sample_rate).T,axis=0)\n",
      "/var/folders/7h/3y0jb5yx0g399b2y_qtq_db80000gn/T/ipykernel_26966/1257479974.py:14: FutureWarning: Pass y=[-2.5718267e-05 -5.1074207e-06 -3.0335070e-06 ... -1.8381209e-09\n",
      "  2.0650064e-09  0.0000000e+00] as keyword args. From version 0.10 passing these as positional arguments will result in an error\n",
      "  mel=np.mean(librosa.feature.melspectrogram(data, sr=sample_rate).T,axis=0)\n"
     ]
    },
    {
     "name": "stdout",
     "output_type": "stream",
     "text": [
      "822\n",
      "sad_male\n",
      "823\n",
      "fearful_male\n"
     ]
    },
    {
     "name": "stderr",
     "output_type": "stream",
     "text": [
      "/var/folders/7h/3y0jb5yx0g399b2y_qtq_db80000gn/T/ipykernel_26966/1257479974.py:14: FutureWarning: Pass y=[1.5577578e-04 2.2734537e-04 1.9141287e-04 ... 2.8027982e-05 4.6290414e-05\n",
      " 0.0000000e+00] as keyword args. From version 0.10 passing these as positional arguments will result in an error\n",
      "  mel=np.mean(librosa.feature.melspectrogram(data, sr=sample_rate).T,axis=0)\n"
     ]
    },
    {
     "name": "stdout",
     "output_type": "stream",
     "text": [
      "824\n",
      "angry_male\n"
     ]
    },
    {
     "name": "stderr",
     "output_type": "stream",
     "text": [
      "/var/folders/7h/3y0jb5yx0g399b2y_qtq_db80000gn/T/ipykernel_26966/1257479974.py:14: FutureWarning: Pass y=[ 2.0640984e-05  1.2066607e-05  1.7404622e-05 ... -6.7526264e-05\n",
      " -7.5027594e-05  0.0000000e+00] as keyword args. From version 0.10 passing these as positional arguments will result in an error\n",
      "  mel=np.mean(librosa.feature.melspectrogram(data, sr=sample_rate).T,axis=0)\n",
      "/var/folders/7h/3y0jb5yx0g399b2y_qtq_db80000gn/T/ipykernel_26966/1257479974.py:14: FutureWarning: Pass y=[-4.4181043e-06 -8.7938633e-06 -1.5681706e-05 ... -2.7712367e-05\n",
      " -1.6080992e-05  0.0000000e+00] as keyword args. From version 0.10 passing these as positional arguments will result in an error\n",
      "  mel=np.mean(librosa.feature.melspectrogram(data, sr=sample_rate).T,axis=0)\n"
     ]
    },
    {
     "name": "stdout",
     "output_type": "stream",
     "text": [
      "825\n",
      "angry_male\n",
      "826\n",
      "fearful_male\n"
     ]
    },
    {
     "name": "stderr",
     "output_type": "stream",
     "text": [
      "/var/folders/7h/3y0jb5yx0g399b2y_qtq_db80000gn/T/ipykernel_26966/1257479974.py:14: FutureWarning: Pass y=[-2.4643424e-07  2.6630295e-07 -2.7857664e-07 ...  7.5271389e-10\n",
      " -5.3346022e-10  0.0000000e+00] as keyword args. From version 0.10 passing these as positional arguments will result in an error\n",
      "  mel=np.mean(librosa.feature.melspectrogram(data, sr=sample_rate).T,axis=0)\n"
     ]
    },
    {
     "name": "stdout",
     "output_type": "stream",
     "text": [
      "827\n",
      "surprised_male\n"
     ]
    },
    {
     "name": "stderr",
     "output_type": "stream",
     "text": [
      "/var/folders/7h/3y0jb5yx0g399b2y_qtq_db80000gn/T/ipykernel_26966/1257479974.py:14: FutureWarning: Pass y=[-2.2846420e-05 -3.1924927e-05 -4.6657715e-06 ...  2.1191550e-04\n",
      "  2.1471325e-04  0.0000000e+00] as keyword args. From version 0.10 passing these as positional arguments will result in an error\n",
      "  mel=np.mean(librosa.feature.melspectrogram(data, sr=sample_rate).T,axis=0)\n",
      "/var/folders/7h/3y0jb5yx0g399b2y_qtq_db80000gn/T/ipykernel_26966/1257479974.py:14: FutureWarning: Pass y=[ 1.5766575e-06 -2.2007650e-06  3.7547998e-06 ...  8.3025168e-07\n",
      " -7.3333968e-07  0.0000000e+00] as keyword args. From version 0.10 passing these as positional arguments will result in an error\n",
      "  mel=np.mean(librosa.feature.melspectrogram(data, sr=sample_rate).T,axis=0)\n"
     ]
    },
    {
     "name": "stdout",
     "output_type": "stream",
     "text": [
      "828\n",
      "surprised_male\n",
      "829\n",
      "disgust_male\n"
     ]
    },
    {
     "name": "stderr",
     "output_type": "stream",
     "text": [
      "/var/folders/7h/3y0jb5yx0g399b2y_qtq_db80000gn/T/ipykernel_26966/1257479974.py:14: FutureWarning: Pass y=[1.7116721e-05 2.3014980e-05 2.4798699e-05 ... 3.0806565e-05 7.3646930e-05\n",
      " 0.0000000e+00] as keyword args. From version 0.10 passing these as positional arguments will result in an error\n",
      "  mel=np.mean(librosa.feature.melspectrogram(data, sr=sample_rate).T,axis=0)\n",
      "/var/folders/7h/3y0jb5yx0g399b2y_qtq_db80000gn/T/ipykernel_26966/1257479974.py:14: FutureWarning: Pass y=[ 3.2897549e-06 -1.1800576e-05 -4.5681700e-06 ...  4.2577001e-04\n",
      "  4.2698174e-04  0.0000000e+00] as keyword args. From version 0.10 passing these as positional arguments will result in an error\n",
      "  mel=np.mean(librosa.feature.melspectrogram(data, sr=sample_rate).T,axis=0)\n"
     ]
    },
    {
     "name": "stdout",
     "output_type": "stream",
     "text": [
      "830\n",
      "sad_male\n",
      "831\n",
      "sad_male\n"
     ]
    },
    {
     "name": "stderr",
     "output_type": "stream",
     "text": [
      "/var/folders/7h/3y0jb5yx0g399b2y_qtq_db80000gn/T/ipykernel_26966/1257479974.py:14: FutureWarning: Pass y=[ 8.76454797e-05  1.17060270e-04  1.18172036e-04 ... -3.82361833e-07\n",
      "  3.82345746e-07  0.00000000e+00] as keyword args. From version 0.10 passing these as positional arguments will result in an error\n",
      "  mel=np.mean(librosa.feature.melspectrogram(data, sr=sample_rate).T,axis=0)\n",
      "/var/folders/7h/3y0jb5yx0g399b2y_qtq_db80000gn/T/ipykernel_26966/1257479974.py:14: FutureWarning: Pass y=[1.4207480e-04 2.2016739e-04 2.0378946e-04 ... 7.9621423e-05 9.5094678e-05\n",
      " 0.0000000e+00] as keyword args. From version 0.10 passing these as positional arguments will result in an error\n",
      "  mel=np.mean(librosa.feature.melspectrogram(data, sr=sample_rate).T,axis=0)\n"
     ]
    },
    {
     "name": "stdout",
     "output_type": "stream",
     "text": [
      "832\n",
      "disgust_male\n",
      "833\n",
      "angry_male\n",
      "834\n",
      "fearful_male\n"
     ]
    },
    {
     "name": "stderr",
     "output_type": "stream",
     "text": [
      "/var/folders/7h/3y0jb5yx0g399b2y_qtq_db80000gn/T/ipykernel_26966/1257479974.py:14: FutureWarning: Pass y=[ 0.          0.          0.         ... -0.00012081 -0.00012536\n",
      "  0.        ] as keyword args. From version 0.10 passing these as positional arguments will result in an error\n",
      "  mel=np.mean(librosa.feature.melspectrogram(data, sr=sample_rate).T,axis=0)\n",
      "/var/folders/7h/3y0jb5yx0g399b2y_qtq_db80000gn/T/ipykernel_26966/1257479974.py:14: FutureWarning: Pass y=[0.00016222 0.00023047 0.00020533 ... 0.00031156 0.00034879 0.        ] as keyword args. From version 0.10 passing these as positional arguments will result in an error\n",
      "  mel=np.mean(librosa.feature.melspectrogram(data, sr=sample_rate).T,axis=0)\n"
     ]
    },
    {
     "name": "stdout",
     "output_type": "stream",
     "text": [
      "835\n",
      "fearful_male\n",
      "836\n",
      "angry_male\n"
     ]
    },
    {
     "name": "stderr",
     "output_type": "stream",
     "text": [
      "/var/folders/7h/3y0jb5yx0g399b2y_qtq_db80000gn/T/ipykernel_26966/1257479974.py:14: FutureWarning: Pass y=[2.3435667e-05 2.3544339e-05 2.6794847e-05 ... 7.5505050e-06 6.8762574e-07\n",
      " 0.0000000e+00] as keyword args. From version 0.10 passing these as positional arguments will result in an error\n",
      "  mel=np.mean(librosa.feature.melspectrogram(data, sr=sample_rate).T,axis=0)\n",
      "/var/folders/7h/3y0jb5yx0g399b2y_qtq_db80000gn/T/ipykernel_26966/1257479974.py:14: FutureWarning: Pass y=[ 7.4765187e-05  6.1763334e-05  4.7067148e-05 ...  9.1925529e-07\n",
      " -1.4749140e-05  0.0000000e+00] as keyword args. From version 0.10 passing these as positional arguments will result in an error\n",
      "  mel=np.mean(librosa.feature.melspectrogram(data, sr=sample_rate).T,axis=0)\n"
     ]
    },
    {
     "name": "stdout",
     "output_type": "stream",
     "text": [
      "837\n",
      "calm_male\n",
      "838\n",
      "neutral_male\n"
     ]
    },
    {
     "name": "stderr",
     "output_type": "stream",
     "text": [
      "/var/folders/7h/3y0jb5yx0g399b2y_qtq_db80000gn/T/ipykernel_26966/1257479974.py:14: FutureWarning: Pass y=[-6.7495144e-05 -6.8590896e-05 -2.3165760e-05 ... -1.9969490e-04\n",
      " -2.1476495e-04  0.0000000e+00] as keyword args. From version 0.10 passing these as positional arguments will result in an error\n",
      "  mel=np.mean(librosa.feature.melspectrogram(data, sr=sample_rate).T,axis=0)\n",
      "/var/folders/7h/3y0jb5yx0g399b2y_qtq_db80000gn/T/ipykernel_26966/1257479974.py:14: FutureWarning: Pass y=[-1.0170009e-05 -7.0845831e-06 -2.6118312e-05 ... -7.4415274e-09\n",
      "  4.9956173e-10  0.0000000e+00] as keyword args. From version 0.10 passing these as positional arguments will result in an error\n",
      "  mel=np.mean(librosa.feature.melspectrogram(data, sr=sample_rate).T,axis=0)\n"
     ]
    },
    {
     "name": "stdout",
     "output_type": "stream",
     "text": [
      "839\n",
      "calm_male\n"
     ]
    },
    {
     "name": "stderr",
     "output_type": "stream",
     "text": [
      "/var/folders/7h/3y0jb5yx0g399b2y_qtq_db80000gn/T/ipykernel_26966/1257479974.py:14: FutureWarning: Pass y=[ 4.4842305e-05  6.3688880e-05  7.0938841e-05 ... -8.5012998e-06\n",
      " -9.2819373e-06  0.0000000e+00] as keyword args. From version 0.10 passing these as positional arguments will result in an error\n",
      "  mel=np.mean(librosa.feature.melspectrogram(data, sr=sample_rate).T,axis=0)\n",
      "/var/folders/7h/3y0jb5yx0g399b2y_qtq_db80000gn/T/ipykernel_26966/1257479974.py:14: FutureWarning: Pass y=[ 1.0066479e-06 -2.2553641e-06  1.1619502e-05 ... -4.1192423e-05\n",
      " -3.8722770e-05  0.0000000e+00] as keyword args. From version 0.10 passing these as positional arguments will result in an error\n",
      "  mel=np.mean(librosa.feature.melspectrogram(data, sr=sample_rate).T,axis=0)\n"
     ]
    },
    {
     "name": "stdout",
     "output_type": "stream",
     "text": [
      "840\n",
      "happy_male\n",
      "841\n",
      "happy_male\n"
     ]
    },
    {
     "name": "stderr",
     "output_type": "stream",
     "text": [
      "/var/folders/7h/3y0jb5yx0g399b2y_qtq_db80000gn/T/ipykernel_26966/1257479974.py:14: FutureWarning: Pass y=[-2.25751432e-06  3.65964047e-06  1.25172774e-05 ...  1.27724328e-04\n",
      "  1.18165226e-04  0.00000000e+00] as keyword args. From version 0.10 passing these as positional arguments will result in an error\n",
      "  mel=np.mean(librosa.feature.melspectrogram(data, sr=sample_rate).T,axis=0)\n"
     ]
    },
    {
     "name": "stdout",
     "output_type": "stream",
     "text": [
      "842\n",
      "disgust_male\n"
     ]
    },
    {
     "name": "stderr",
     "output_type": "stream",
     "text": [
      "/var/folders/7h/3y0jb5yx0g399b2y_qtq_db80000gn/T/ipykernel_26966/1257479974.py:14: FutureWarning: Pass y=[0.0000000e+00 0.0000000e+00 0.0000000e+00 ... 1.8577221e-05 2.4566552e-06\n",
      " 0.0000000e+00] as keyword args. From version 0.10 passing these as positional arguments will result in an error\n",
      "  mel=np.mean(librosa.feature.melspectrogram(data, sr=sample_rate).T,axis=0)\n"
     ]
    },
    {
     "name": "stdout",
     "output_type": "stream",
     "text": [
      "843\n",
      "sad_male\n"
     ]
    },
    {
     "name": "stderr",
     "output_type": "stream",
     "text": [
      "/var/folders/7h/3y0jb5yx0g399b2y_qtq_db80000gn/T/ipykernel_26966/1257479974.py:14: FutureWarning: Pass y=[ 0.0000000e+00  0.0000000e+00  0.0000000e+00 ... -5.1574857e-06\n",
      " -1.8905757e-06  0.0000000e+00] as keyword args. From version 0.10 passing these as positional arguments will result in an error\n",
      "  mel=np.mean(librosa.feature.melspectrogram(data, sr=sample_rate).T,axis=0)\n"
     ]
    },
    {
     "name": "stdout",
     "output_type": "stream",
     "text": [
      "844\n",
      "sad_male\n",
      "845\n",
      "disgust_male\n",
      "846\n",
      "angry_male\n"
     ]
    },
    {
     "name": "stderr",
     "output_type": "stream",
     "text": [
      "/var/folders/7h/3y0jb5yx0g399b2y_qtq_db80000gn/T/ipykernel_26966/1257479974.py:14: FutureWarning: Pass y=[0.0000000e+00 0.0000000e+00 0.0000000e+00 ... 1.8138318e-05 2.0362422e-06\n",
      " 0.0000000e+00] as keyword args. From version 0.10 passing these as positional arguments will result in an error\n",
      "  mel=np.mean(librosa.feature.melspectrogram(data, sr=sample_rate).T,axis=0)\n",
      "/var/folders/7h/3y0jb5yx0g399b2y_qtq_db80000gn/T/ipykernel_26966/1257479974.py:14: FutureWarning: Pass y=[-6.2901665e-07  1.7156683e-05  1.1747517e-05 ...  3.3005904e-07\n",
      " -2.9186501e-07  0.0000000e+00] as keyword args. From version 0.10 passing these as positional arguments will result in an error\n",
      "  mel=np.mean(librosa.feature.melspectrogram(data, sr=sample_rate).T,axis=0)\n"
     ]
    },
    {
     "name": "stdout",
     "output_type": "stream",
     "text": [
      "847\n",
      "fearful_male\n"
     ]
    },
    {
     "name": "stderr",
     "output_type": "stream",
     "text": [
      "/var/folders/7h/3y0jb5yx0g399b2y_qtq_db80000gn/T/ipykernel_26966/1257479974.py:14: FutureWarning: Pass y=[ 0.0000000e+00  0.0000000e+00  0.0000000e+00 ...  2.0174292e-07\n",
      " -2.4432933e-07  0.0000000e+00] as keyword args. From version 0.10 passing these as positional arguments will result in an error\n",
      "  mel=np.mean(librosa.feature.melspectrogram(data, sr=sample_rate).T,axis=0)\n",
      "/var/folders/7h/3y0jb5yx0g399b2y_qtq_db80000gn/T/ipykernel_26966/1257479974.py:14: FutureWarning: Pass y=[ 0.0000000e+00  0.0000000e+00  0.0000000e+00 ...  1.4207383e-06\n",
      " -1.4688975e-05  0.0000000e+00] as keyword args. From version 0.10 passing these as positional arguments will result in an error\n",
      "  mel=np.mean(librosa.feature.melspectrogram(data, sr=sample_rate).T,axis=0)\n"
     ]
    },
    {
     "name": "stdout",
     "output_type": "stream",
     "text": [
      "848\n",
      "fearful_male\n",
      "849\n",
      "angry_male\n"
     ]
    },
    {
     "name": "stderr",
     "output_type": "stream",
     "text": [
      "/var/folders/7h/3y0jb5yx0g399b2y_qtq_db80000gn/T/ipykernel_26966/1257479974.py:14: FutureWarning: Pass y=[ 2.5322486e-06 -4.4636572e-06  1.6189737e-05 ...  0.0000000e+00\n",
      "  0.0000000e+00  0.0000000e+00] as keyword args. From version 0.10 passing these as positional arguments will result in an error\n",
      "  mel=np.mean(librosa.feature.melspectrogram(data, sr=sample_rate).T,axis=0)\n",
      "/var/folders/7h/3y0jb5yx0g399b2y_qtq_db80000gn/T/ipykernel_26966/1257479974.py:14: FutureWarning: Pass y=[-2.3637398e-05 -8.3894602e-06  3.8684630e-06 ...  0.0000000e+00\n",
      "  0.0000000e+00  0.0000000e+00] as keyword args. From version 0.10 passing these as positional arguments will result in an error\n",
      "  mel=np.mean(librosa.feature.melspectrogram(data, sr=sample_rate).T,axis=0)\n"
     ]
    },
    {
     "name": "stdout",
     "output_type": "stream",
     "text": [
      "850\n",
      "surprised_male\n",
      "851\n",
      "surprised_male\n"
     ]
    },
    {
     "name": "stderr",
     "output_type": "stream",
     "text": [
      "/var/folders/7h/3y0jb5yx0g399b2y_qtq_db80000gn/T/ipykernel_26966/1257479974.py:14: FutureWarning: Pass y=[ 1.4026438e-06 -2.1629053e-06  3.5394933e-06 ...  1.4563007e-05\n",
      "  3.2832253e-05  0.0000000e+00] as keyword args. From version 0.10 passing these as positional arguments will result in an error\n",
      "  mel=np.mean(librosa.feature.melspectrogram(data, sr=sample_rate).T,axis=0)\n"
     ]
    },
    {
     "name": "stdout",
     "output_type": "stream",
     "text": [
      "852\n",
      "calm_male\n"
     ]
    },
    {
     "name": "stderr",
     "output_type": "stream",
     "text": [
      "/var/folders/7h/3y0jb5yx0g399b2y_qtq_db80000gn/T/ipykernel_26966/1257479974.py:14: FutureWarning: Pass y=[ 0.0000000e+00  0.0000000e+00  0.0000000e+00 ...  1.4249774e-07\n",
      " -1.3724438e-07  0.0000000e+00] as keyword args. From version 0.10 passing these as positional arguments will result in an error\n",
      "  mel=np.mean(librosa.feature.melspectrogram(data, sr=sample_rate).T,axis=0)\n"
     ]
    },
    {
     "name": "stdout",
     "output_type": "stream",
     "text": [
      "853\n",
      "neutral_male\n",
      "854\n",
      "calm_male\n"
     ]
    },
    {
     "name": "stderr",
     "output_type": "stream",
     "text": [
      "/var/folders/7h/3y0jb5yx0g399b2y_qtq_db80000gn/T/ipykernel_26966/1257479974.py:14: FutureWarning: Pass y=[0.000000e+00 0.000000e+00 0.000000e+00 ... 1.237285e-05 4.360897e-05\n",
      " 0.000000e+00] as keyword args. From version 0.10 passing these as positional arguments will result in an error\n",
      "  mel=np.mean(librosa.feature.melspectrogram(data, sr=sample_rate).T,axis=0)\n"
     ]
    },
    {
     "name": "stdout",
     "output_type": "stream",
     "text": [
      "855\n",
      "happy_male\n",
      "856\n",
      "happy_male\n"
     ]
    },
    {
     "name": "stderr",
     "output_type": "stream",
     "text": [
      "/var/folders/7h/3y0jb5yx0g399b2y_qtq_db80000gn/T/ipykernel_26966/1257479974.py:14: FutureWarning: Pass y=[ 0.00000000e+00  0.00000000e+00  0.00000000e+00 ...  1.02689164e-07\n",
      " -1.12381684e-07  0.00000000e+00] as keyword args. From version 0.10 passing these as positional arguments will result in an error\n",
      "  mel=np.mean(librosa.feature.melspectrogram(data, sr=sample_rate).T,axis=0)\n"
     ]
    },
    {
     "name": "stdout",
     "output_type": "stream",
     "text": [
      "857\n",
      "neutral_male\n"
     ]
    },
    {
     "name": "stderr",
     "output_type": "stream",
     "text": [
      "/var/folders/7h/3y0jb5yx0g399b2y_qtq_db80000gn/T/ipykernel_26966/1257479974.py:14: FutureWarning: Pass y=[-1.1864609e-08  1.3966627e-08 -1.5900756e-08 ... -4.8468370e-05\n",
      " -4.1206681e-06  0.0000000e+00] as keyword args. From version 0.10 passing these as positional arguments will result in an error\n",
      "  mel=np.mean(librosa.feature.melspectrogram(data, sr=sample_rate).T,axis=0)\n"
     ]
    },
    {
     "name": "stdout",
     "output_type": "stream",
     "text": [
      "858\n",
      "calm_male\n"
     ]
    },
    {
     "name": "stderr",
     "output_type": "stream",
     "text": [
      "/var/folders/7h/3y0jb5yx0g399b2y_qtq_db80000gn/T/ipykernel_26966/1257479974.py:14: FutureWarning: Pass y=[ 0.0000000e+00  0.0000000e+00  0.0000000e+00 ... -1.1755968e-07\n",
      "  9.3275972e-08  0.0000000e+00] as keyword args. From version 0.10 passing these as positional arguments will result in an error\n",
      "  mel=np.mean(librosa.feature.melspectrogram(data, sr=sample_rate).T,axis=0)\n"
     ]
    },
    {
     "name": "stdout",
     "output_type": "stream",
     "text": [
      "859\n",
      "calm_male\n",
      "860\n",
      "happy_male\n",
      "861\n",
      "happy_male\n"
     ]
    },
    {
     "name": "stderr",
     "output_type": "stream",
     "text": [
      "/var/folders/7h/3y0jb5yx0g399b2y_qtq_db80000gn/T/ipykernel_26966/1257479974.py:14: FutureWarning: Pass y=[-2.7747683e-07  1.4103738e-07  1.3710350e-07 ...  0.0000000e+00\n",
      "  0.0000000e+00  0.0000000e+00] as keyword args. From version 0.10 passing these as positional arguments will result in an error\n",
      "  mel=np.mean(librosa.feature.melspectrogram(data, sr=sample_rate).T,axis=0)\n"
     ]
    },
    {
     "name": "stdout",
     "output_type": "stream",
     "text": [
      "862\n",
      "sad_male\n",
      "863\n",
      "disgust_male\n",
      "864\n",
      "disgust_male\n",
      "865\n",
      "sad_male\n"
     ]
    },
    {
     "name": "stderr",
     "output_type": "stream",
     "text": [
      "/var/folders/7h/3y0jb5yx0g399b2y_qtq_db80000gn/T/ipykernel_26966/1257479974.py:14: FutureWarning: Pass y=[ 1.0790005e-06 -2.3121934e-06  1.1653963e-05 ...  0.0000000e+00\n",
      "  0.0000000e+00  0.0000000e+00] as keyword args. From version 0.10 passing these as positional arguments will result in an error\n",
      "  mel=np.mean(librosa.feature.melspectrogram(data, sr=sample_rate).T,axis=0)\n"
     ]
    },
    {
     "name": "stdout",
     "output_type": "stream",
     "text": [
      "866\n",
      "fearful_male\n"
     ]
    },
    {
     "name": "stderr",
     "output_type": "stream",
     "text": [
      "/var/folders/7h/3y0jb5yx0g399b2y_qtq_db80000gn/T/ipykernel_26966/1257479974.py:14: FutureWarning: Pass y=[0.         0.         0.         ... 0.0002403  0.00025333 0.        ] as keyword args. From version 0.10 passing these as positional arguments will result in an error\n",
      "  mel=np.mean(librosa.feature.melspectrogram(data, sr=sample_rate).T,axis=0)\n",
      "/var/folders/7h/3y0jb5yx0g399b2y_qtq_db80000gn/T/ipykernel_26966/1257479974.py:14: FutureWarning: Pass y=[ 1.3286476e-05  7.2060141e-07 -6.8427704e-07 ...  4.3362579e-05\n",
      "  2.3922721e-05  0.0000000e+00] as keyword args. From version 0.10 passing these as positional arguments will result in an error\n",
      "  mel=np.mean(librosa.feature.melspectrogram(data, sr=sample_rate).T,axis=0)\n"
     ]
    },
    {
     "name": "stdout",
     "output_type": "stream",
     "text": [
      "867\n",
      "angry_male\n",
      "868\n",
      "angry_male\n"
     ]
    },
    {
     "name": "stderr",
     "output_type": "stream",
     "text": [
      "/var/folders/7h/3y0jb5yx0g399b2y_qtq_db80000gn/T/ipykernel_26966/1257479974.py:14: FutureWarning: Pass y=[ 0.0000000e+00  0.0000000e+00  0.0000000e+00 ... -2.8888237e-06\n",
      "  1.8905125e-06  0.0000000e+00] as keyword args. From version 0.10 passing these as positional arguments will result in an error\n",
      "  mel=np.mean(librosa.feature.melspectrogram(data, sr=sample_rate).T,axis=0)\n"
     ]
    },
    {
     "name": "stdout",
     "output_type": "stream",
     "text": [
      "869\n",
      "fearful_male\n",
      "870\n",
      "surprised_male\n"
     ]
    },
    {
     "name": "stderr",
     "output_type": "stream",
     "text": [
      "/var/folders/7h/3y0jb5yx0g399b2y_qtq_db80000gn/T/ipykernel_26966/1257479974.py:14: FutureWarning: Pass y=[ 0.0000000e+00  0.0000000e+00  0.0000000e+00 ... -2.2956383e-05\n",
      " -2.0237330e-05  0.0000000e+00] as keyword args. From version 0.10 passing these as positional arguments will result in an error\n",
      "  mel=np.mean(librosa.feature.melspectrogram(data, sr=sample_rate).T,axis=0)\n",
      "/var/folders/7h/3y0jb5yx0g399b2y_qtq_db80000gn/T/ipykernel_26966/1257479974.py:14: FutureWarning: Pass y=[ 1.6910027e-06 -2.9080770e-06  1.2289214e-05 ...  0.0000000e+00\n",
      "  0.0000000e+00  0.0000000e+00] as keyword args. From version 0.10 passing these as positional arguments will result in an error\n",
      "  mel=np.mean(librosa.feature.melspectrogram(data, sr=sample_rate).T,axis=0)\n"
     ]
    },
    {
     "name": "stdout",
     "output_type": "stream",
     "text": [
      "871\n",
      "surprised_male\n",
      "872\n",
      "happy_male\n"
     ]
    },
    {
     "name": "stderr",
     "output_type": "stream",
     "text": [
      "/var/folders/7h/3y0jb5yx0g399b2y_qtq_db80000gn/T/ipykernel_26966/1257479974.py:14: FutureWarning: Pass y=[ 9.5105734e-06  8.2501083e-06 -2.8625670e-06 ...  1.0346774e-05\n",
      "  7.1988488e-06  0.0000000e+00] as keyword args. From version 0.10 passing these as positional arguments will result in an error\n",
      "  mel=np.mean(librosa.feature.melspectrogram(data, sr=sample_rate).T,axis=0)\n",
      "/var/folders/7h/3y0jb5yx0g399b2y_qtq_db80000gn/T/ipykernel_26966/1257479974.py:14: FutureWarning: Pass y=[ 0.0000000e+00  0.0000000e+00  0.0000000e+00 ...  7.0953298e-08\n",
      " -5.9248784e-08  0.0000000e+00] as keyword args. From version 0.10 passing these as positional arguments will result in an error\n",
      "  mel=np.mean(librosa.feature.melspectrogram(data, sr=sample_rate).T,axis=0)\n"
     ]
    },
    {
     "name": "stdout",
     "output_type": "stream",
     "text": [
      "873\n",
      "happy_male\n",
      "874\n",
      "calm_male\n",
      "875\n",
      "neutral_male\n"
     ]
    },
    {
     "name": "stderr",
     "output_type": "stream",
     "text": [
      "/var/folders/7h/3y0jb5yx0g399b2y_qtq_db80000gn/T/ipykernel_26966/1257479974.py:14: FutureWarning: Pass y=[ 0.0000000e+00  0.0000000e+00  0.0000000e+00 ... -2.1279317e-07\n",
      "  1.0371838e-06  0.0000000e+00] as keyword args. From version 0.10 passing these as positional arguments will result in an error\n",
      "  mel=np.mean(librosa.feature.melspectrogram(data, sr=sample_rate).T,axis=0)\n"
     ]
    },
    {
     "name": "stdout",
     "output_type": "stream",
     "text": [
      "876\n",
      "calm_male\n"
     ]
    },
    {
     "name": "stderr",
     "output_type": "stream",
     "text": [
      "/var/folders/7h/3y0jb5yx0g399b2y_qtq_db80000gn/T/ipykernel_26966/1257479974.py:14: FutureWarning: Pass y=[ 2.6456728e-10 -8.8072633e-11 -2.0925831e-10 ...  0.0000000e+00\n",
      "  0.0000000e+00  0.0000000e+00] as keyword args. From version 0.10 passing these as positional arguments will result in an error\n",
      "  mel=np.mean(librosa.feature.melspectrogram(data, sr=sample_rate).T,axis=0)\n",
      "/var/folders/7h/3y0jb5yx0g399b2y_qtq_db80000gn/T/ipykernel_26966/1257479974.py:14: FutureWarning: Pass y=[ 0.0000000e+00  0.0000000e+00  0.0000000e+00 ...  3.3568354e-06\n",
      " -7.9242836e-06  0.0000000e+00] as keyword args. From version 0.10 passing these as positional arguments will result in an error\n",
      "  mel=np.mean(librosa.feature.melspectrogram(data, sr=sample_rate).T,axis=0)\n"
     ]
    },
    {
     "name": "stdout",
     "output_type": "stream",
     "text": [
      "877\n",
      "angry_male\n",
      "878\n",
      "fearful_male\n"
     ]
    },
    {
     "name": "stderr",
     "output_type": "stream",
     "text": [
      "/var/folders/7h/3y0jb5yx0g399b2y_qtq_db80000gn/T/ipykernel_26966/1257479974.py:14: FutureWarning: Pass y=[ 0.0000000e+00  0.0000000e+00  0.0000000e+00 ...  1.0313790e-06\n",
      " -1.2643013e-06  0.0000000e+00] as keyword args. From version 0.10 passing these as positional arguments will result in an error\n",
      "  mel=np.mean(librosa.feature.melspectrogram(data, sr=sample_rate).T,axis=0)\n"
     ]
    },
    {
     "name": "stdout",
     "output_type": "stream",
     "text": [
      "879\n",
      "fearful_male\n"
     ]
    },
    {
     "name": "stderr",
     "output_type": "stream",
     "text": [
      "/var/folders/7h/3y0jb5yx0g399b2y_qtq_db80000gn/T/ipykernel_26966/1257479974.py:14: FutureWarning: Pass y=[-8.7943143e-08  3.8568265e-07 -8.4807334e-07 ...  1.4424686e-05\n",
      " -3.0537076e-06  0.0000000e+00] as keyword args. From version 0.10 passing these as positional arguments will result in an error\n",
      "  mel=np.mean(librosa.feature.melspectrogram(data, sr=sample_rate).T,axis=0)\n",
      "/var/folders/7h/3y0jb5yx0g399b2y_qtq_db80000gn/T/ipykernel_26966/1257479974.py:14: FutureWarning: Pass y=[-1.5841060e-05 -4.4084012e-05 -1.3385720e-05 ...  1.2727983e-05\n",
      "  2.4210145e-05  0.0000000e+00] as keyword args. From version 0.10 passing these as positional arguments will result in an error\n",
      "  mel=np.mean(librosa.feature.melspectrogram(data, sr=sample_rate).T,axis=0)\n"
     ]
    },
    {
     "name": "stdout",
     "output_type": "stream",
     "text": [
      "880\n",
      "angry_male\n",
      "881\n",
      "disgust_male\n"
     ]
    },
    {
     "name": "stderr",
     "output_type": "stream",
     "text": [
      "/var/folders/7h/3y0jb5yx0g399b2y_qtq_db80000gn/T/ipykernel_26966/1257479974.py:14: FutureWarning: Pass y=[-1.2422429e-06 -4.4542932e-05 -9.5392876e-05 ... -7.2538137e-07\n",
      "  5.8435398e-07  0.0000000e+00] as keyword args. From version 0.10 passing these as positional arguments will result in an error\n",
      "  mel=np.mean(librosa.feature.melspectrogram(data, sr=sample_rate).T,axis=0)\n"
     ]
    },
    {
     "name": "stdout",
     "output_type": "stream",
     "text": [
      "882\n",
      "sad_male\n",
      "883\n",
      "sad_male\n"
     ]
    },
    {
     "name": "stderr",
     "output_type": "stream",
     "text": [
      "/var/folders/7h/3y0jb5yx0g399b2y_qtq_db80000gn/T/ipykernel_26966/1257479974.py:14: FutureWarning: Pass y=[ 2.3979785e-06  1.3482580e-05  1.6306438e-05 ...  1.2915508e-05\n",
      " -7.6465773e-07  0.0000000e+00] as keyword args. From version 0.10 passing these as positional arguments will result in an error\n",
      "  mel=np.mean(librosa.feature.melspectrogram(data, sr=sample_rate).T,axis=0)\n"
     ]
    },
    {
     "name": "stdout",
     "output_type": "stream",
     "text": [
      "884\n",
      "disgust_male\n"
     ]
    },
    {
     "name": "stderr",
     "output_type": "stream",
     "text": [
      "/var/folders/7h/3y0jb5yx0g399b2y_qtq_db80000gn/T/ipykernel_26966/1257479974.py:14: FutureWarning: Pass y=[ 0.0000000e+00  0.0000000e+00  0.0000000e+00 ...  4.9261774e-07\n",
      " -4.9993986e-07  0.0000000e+00] as keyword args. From version 0.10 passing these as positional arguments will result in an error\n",
      "  mel=np.mean(librosa.feature.melspectrogram(data, sr=sample_rate).T,axis=0)\n"
     ]
    },
    {
     "name": "stdout",
     "output_type": "stream",
     "text": [
      "885\n",
      "surprised_male\n",
      "886\n",
      "surprised_male\n"
     ]
    },
    {
     "name": "stderr",
     "output_type": "stream",
     "text": [
      "/var/folders/7h/3y0jb5yx0g399b2y_qtq_db80000gn/T/ipykernel_26966/1257479974.py:14: FutureWarning: Pass y=[-3.8815060e-07  4.2257702e-07 -4.5173337e-07 ... -2.1534543e-06\n",
      "  7.0811407e-06  0.0000000e+00] as keyword args. From version 0.10 passing these as positional arguments will result in an error\n",
      "  mel=np.mean(librosa.feature.melspectrogram(data, sr=sample_rate).T,axis=0)\n"
     ]
    },
    {
     "name": "stdout",
     "output_type": "stream",
     "text": [
      "887\n",
      "fearful_male\n",
      "888\n",
      "angry_male\n",
      "889\n",
      "angry_male\n",
      "890\n",
      "fearful_male\n"
     ]
    },
    {
     "name": "stderr",
     "output_type": "stream",
     "text": [
      "/var/folders/7h/3y0jb5yx0g399b2y_qtq_db80000gn/T/ipykernel_26966/1257479974.py:14: FutureWarning: Pass y=[ 0.0000000e+00  0.0000000e+00  0.0000000e+00 ... -5.7754272e-07\n",
      "  5.4900306e-07  0.0000000e+00] as keyword args. From version 0.10 passing these as positional arguments will result in an error\n",
      "  mel=np.mean(librosa.feature.melspectrogram(data, sr=sample_rate).T,axis=0)\n",
      "/var/folders/7h/3y0jb5yx0g399b2y_qtq_db80000gn/T/ipykernel_26966/1257479974.py:14: FutureWarning: Pass y=[ 0.0000000e+00  0.0000000e+00  0.0000000e+00 ...  2.2548210e-08\n",
      " -3.2752943e-08  0.0000000e+00] as keyword args. From version 0.10 passing these as positional arguments will result in an error\n",
      "  mel=np.mean(librosa.feature.melspectrogram(data, sr=sample_rate).T,axis=0)\n"
     ]
    },
    {
     "name": "stdout",
     "output_type": "stream",
     "text": [
      "891\n",
      "sad_male\n"
     ]
    },
    {
     "name": "stderr",
     "output_type": "stream",
     "text": [
      "/var/folders/7h/3y0jb5yx0g399b2y_qtq_db80000gn/T/ipykernel_26966/1257479974.py:14: FutureWarning: Pass y=[ 0.0000000e+00  0.0000000e+00  0.0000000e+00 ...  3.9338434e-07\n",
      " -3.9294406e-07  0.0000000e+00] as keyword args. From version 0.10 passing these as positional arguments will result in an error\n",
      "  mel=np.mean(librosa.feature.melspectrogram(data, sr=sample_rate).T,axis=0)\n"
     ]
    },
    {
     "name": "stdout",
     "output_type": "stream",
     "text": [
      "892\n",
      "disgust_male\n"
     ]
    },
    {
     "name": "stderr",
     "output_type": "stream",
     "text": [
      "/var/folders/7h/3y0jb5yx0g399b2y_qtq_db80000gn/T/ipykernel_26966/1257479974.py:14: FutureWarning: Pass y=[ 0.0000000e+00  0.0000000e+00  0.0000000e+00 ...  4.1880808e-06\n",
      " -1.4810350e-05  0.0000000e+00] as keyword args. From version 0.10 passing these as positional arguments will result in an error\n",
      "  mel=np.mean(librosa.feature.melspectrogram(data, sr=sample_rate).T,axis=0)\n"
     ]
    },
    {
     "name": "stdout",
     "output_type": "stream",
     "text": [
      "893\n",
      "disgust_male\n"
     ]
    },
    {
     "name": "stderr",
     "output_type": "stream",
     "text": [
      "/var/folders/7h/3y0jb5yx0g399b2y_qtq_db80000gn/T/ipykernel_26966/1257479974.py:14: FutureWarning: Pass y=[ 0.0000000e+00  0.0000000e+00  0.0000000e+00 ...  1.5603173e-07\n",
      " -9.6190405e-08  0.0000000e+00] as keyword args. From version 0.10 passing these as positional arguments will result in an error\n",
      "  mel=np.mean(librosa.feature.melspectrogram(data, sr=sample_rate).T,axis=0)\n"
     ]
    },
    {
     "name": "stdout",
     "output_type": "stream",
     "text": [
      "894\n",
      "sad_male\n"
     ]
    },
    {
     "name": "stderr",
     "output_type": "stream",
     "text": [
      "/var/folders/7h/3y0jb5yx0g399b2y_qtq_db80000gn/T/ipykernel_26966/1257479974.py:14: FutureWarning: Pass y=[-2.8363997e-10  4.3358922e-10 -6.2965350e-10 ... -2.9382445e-06\n",
      "  1.6463699e-05  0.0000000e+00] as keyword args. From version 0.10 passing these as positional arguments will result in an error\n",
      "  mel=np.mean(librosa.feature.melspectrogram(data, sr=sample_rate).T,axis=0)\n"
     ]
    },
    {
     "name": "stdout",
     "output_type": "stream",
     "text": [
      "895\n",
      "surprised_male\n",
      "896\n",
      "surprised_male\n",
      "897\n",
      "happy_male\n"
     ]
    },
    {
     "name": "stderr",
     "output_type": "stream",
     "text": [
      "/var/folders/7h/3y0jb5yx0g399b2y_qtq_db80000gn/T/ipykernel_26966/1257479974.py:14: FutureWarning: Pass y=[-4.95771886e-08  8.05792837e-08 -1.16641445e-07 ... -3.73827097e-05\n",
      " -8.11067821e-06  0.00000000e+00] as keyword args. From version 0.10 passing these as positional arguments will result in an error\n",
      "  mel=np.mean(librosa.feature.melspectrogram(data, sr=sample_rate).T,axis=0)\n"
     ]
    },
    {
     "name": "stdout",
     "output_type": "stream",
     "text": [
      "898\n",
      "happy_male\n",
      "899\n",
      "calm_male\n"
     ]
    },
    {
     "name": "stderr",
     "output_type": "stream",
     "text": [
      "/var/folders/7h/3y0jb5yx0g399b2y_qtq_db80000gn/T/ipykernel_26966/1257479974.py:14: FutureWarning: Pass y=[ 1.0090445e-11 -1.6439012e-11  2.4779999e-11 ... -2.5403901e-06\n",
      "  6.1345695e-06  0.0000000e+00] as keyword args. From version 0.10 passing these as positional arguments will result in an error\n",
      "  mel=np.mean(librosa.feature.melspectrogram(data, sr=sample_rate).T,axis=0)\n",
      "/var/folders/7h/3y0jb5yx0g399b2y_qtq_db80000gn/T/ipykernel_26966/1257479974.py:14: FutureWarning: Pass y=[2.5371206e-05 2.1203623e-05 2.4562525e-05 ... 0.0000000e+00 0.0000000e+00\n",
      " 0.0000000e+00] as keyword args. From version 0.10 passing these as positional arguments will result in an error\n",
      "  mel=np.mean(librosa.feature.melspectrogram(data, sr=sample_rate).T,axis=0)\n"
     ]
    },
    {
     "name": "stdout",
     "output_type": "stream",
     "text": [
      "900\n",
      "calm_male\n"
     ]
    },
    {
     "name": "stderr",
     "output_type": "stream",
     "text": [
      "/var/folders/7h/3y0jb5yx0g399b2y_qtq_db80000gn/T/ipykernel_26966/1257479974.py:14: FutureWarning: Pass y=[ 9.1546588e-07 -9.3736344e-07  9.2283125e-07 ... -2.7094745e-07\n",
      "  3.0937414e-07  0.0000000e+00] as keyword args. From version 0.10 passing these as positional arguments will result in an error\n",
      "  mel=np.mean(librosa.feature.melspectrogram(data, sr=sample_rate).T,axis=0)\n"
     ]
    },
    {
     "name": "stdout",
     "output_type": "stream",
     "text": [
      "901\n",
      "neutral_male\n"
     ]
    },
    {
     "name": "stderr",
     "output_type": "stream",
     "text": [
      "/var/folders/7h/3y0jb5yx0g399b2y_qtq_db80000gn/T/ipykernel_26966/1257479974.py:14: FutureWarning: Pass y=[0.000000e+00 0.000000e+00 0.000000e+00 ... 3.198397e-05 3.178206e-05\n",
      " 0.000000e+00] as keyword args. From version 0.10 passing these as positional arguments will result in an error\n",
      "  mel=np.mean(librosa.feature.melspectrogram(data, sr=sample_rate).T,axis=0)\n"
     ]
    },
    {
     "name": "stdout",
     "output_type": "stream",
     "text": [
      "902\n",
      "happy_female\n"
     ]
    },
    {
     "name": "stderr",
     "output_type": "stream",
     "text": [
      "/var/folders/7h/3y0jb5yx0g399b2y_qtq_db80000gn/T/ipykernel_26966/1257479974.py:14: FutureWarning: Pass y=[ 0.0000000e+00  0.0000000e+00  0.0000000e+00 ... -6.9415851e-06\n",
      "  3.0247072e-06  0.0000000e+00] as keyword args. From version 0.10 passing these as positional arguments will result in an error\n",
      "  mel=np.mean(librosa.feature.melspectrogram(data, sr=sample_rate).T,axis=0)\n"
     ]
    },
    {
     "name": "stdout",
     "output_type": "stream",
     "text": [
      "903\n",
      "happy_female\n"
     ]
    },
    {
     "name": "stderr",
     "output_type": "stream",
     "text": [
      "/var/folders/7h/3y0jb5yx0g399b2y_qtq_db80000gn/T/ipykernel_26966/1257479974.py:14: FutureWarning: Pass y=[0.0000000e+00 0.0000000e+00 0.0000000e+00 ... 4.4829296e-05 4.9405139e-06\n",
      " 0.0000000e+00] as keyword args. From version 0.10 passing these as positional arguments will result in an error\n",
      "  mel=np.mean(librosa.feature.melspectrogram(data, sr=sample_rate).T,axis=0)\n"
     ]
    },
    {
     "name": "stdout",
     "output_type": "stream",
     "text": [
      "904\n",
      "calm_female\n"
     ]
    },
    {
     "name": "stderr",
     "output_type": "stream",
     "text": [
      "/var/folders/7h/3y0jb5yx0g399b2y_qtq_db80000gn/T/ipykernel_26966/1257479974.py:14: FutureWarning: Pass y=[ 0.0000000e+00  0.0000000e+00  0.0000000e+00 ...  7.6803746e-09\n",
      " -1.1034293e-08  0.0000000e+00] as keyword args. From version 0.10 passing these as positional arguments will result in an error\n",
      "  mel=np.mean(librosa.feature.melspectrogram(data, sr=sample_rate).T,axis=0)\n"
     ]
    },
    {
     "name": "stdout",
     "output_type": "stream",
     "text": [
      "905\n",
      "calm_female\n"
     ]
    },
    {
     "name": "stderr",
     "output_type": "stream",
     "text": [
      "/var/folders/7h/3y0jb5yx0g399b2y_qtq_db80000gn/T/ipykernel_26966/1257479974.py:14: FutureWarning: Pass y=[ 0.0000000e+00  0.0000000e+00  0.0000000e+00 ... -2.3012819e-06\n",
      "  1.2714081e-06  0.0000000e+00] as keyword args. From version 0.10 passing these as positional arguments will result in an error\n",
      "  mel=np.mean(librosa.feature.melspectrogram(data, sr=sample_rate).T,axis=0)\n"
     ]
    },
    {
     "name": "stdout",
     "output_type": "stream",
     "text": [
      "906\n",
      "neutral_female\n"
     ]
    },
    {
     "name": "stderr",
     "output_type": "stream",
     "text": [
      "/var/folders/7h/3y0jb5yx0g399b2y_qtq_db80000gn/T/ipykernel_26966/1257479974.py:14: FutureWarning: Pass y=[ 0.0000000e+00  0.0000000e+00  0.0000000e+00 ...  1.0753123e-06\n",
      " -1.1219612e-06  0.0000000e+00] as keyword args. From version 0.10 passing these as positional arguments will result in an error\n",
      "  mel=np.mean(librosa.feature.melspectrogram(data, sr=sample_rate).T,axis=0)\n"
     ]
    },
    {
     "name": "stdout",
     "output_type": "stream",
     "text": [
      "907\n",
      "fearful_female\n"
     ]
    },
    {
     "name": "stderr",
     "output_type": "stream",
     "text": [
      "/var/folders/7h/3y0jb5yx0g399b2y_qtq_db80000gn/T/ipykernel_26966/1257479974.py:14: FutureWarning: Pass y=[ 0.0000000e+00  0.0000000e+00  0.0000000e+00 ... -1.5879056e-07\n",
      "  1.6366120e-07  0.0000000e+00] as keyword args. From version 0.10 passing these as positional arguments will result in an error\n",
      "  mel=np.mean(librosa.feature.melspectrogram(data, sr=sample_rate).T,axis=0)\n"
     ]
    },
    {
     "name": "stdout",
     "output_type": "stream",
     "text": [
      "908\n",
      "angry_female\n"
     ]
    },
    {
     "name": "stderr",
     "output_type": "stream",
     "text": [
      "/var/folders/7h/3y0jb5yx0g399b2y_qtq_db80000gn/T/ipykernel_26966/1257479974.py:14: FutureWarning: Pass y=[ 0.0000000e+00  0.0000000e+00  0.0000000e+00 ... -6.3171603e-05\n",
      " -4.0008345e-05  0.0000000e+00] as keyword args. From version 0.10 passing these as positional arguments will result in an error\n",
      "  mel=np.mean(librosa.feature.melspectrogram(data, sr=sample_rate).T,axis=0)\n"
     ]
    },
    {
     "name": "stdout",
     "output_type": "stream",
     "text": [
      "909\n",
      "angry_female\n"
     ]
    },
    {
     "name": "stderr",
     "output_type": "stream",
     "text": [
      "/var/folders/7h/3y0jb5yx0g399b2y_qtq_db80000gn/T/ipykernel_26966/1257479974.py:14: FutureWarning: Pass y=[ 0.0000000e+00  0.0000000e+00  0.0000000e+00 ... -1.2240257e-09\n",
      "  1.1431683e-09  0.0000000e+00] as keyword args. From version 0.10 passing these as positional arguments will result in an error\n",
      "  mel=np.mean(librosa.feature.melspectrogram(data, sr=sample_rate).T,axis=0)\n"
     ]
    },
    {
     "name": "stdout",
     "output_type": "stream",
     "text": [
      "910\n",
      "fearful_female\n"
     ]
    },
    {
     "name": "stderr",
     "output_type": "stream",
     "text": [
      "/var/folders/7h/3y0jb5yx0g399b2y_qtq_db80000gn/T/ipykernel_26966/1257479974.py:14: FutureWarning: Pass y=[0.0000000e+00 0.0000000e+00 0.0000000e+00 ... 1.0187487e-05 1.9613093e-05\n",
      " 0.0000000e+00] as keyword args. From version 0.10 passing these as positional arguments will result in an error\n",
      "  mel=np.mean(librosa.feature.melspectrogram(data, sr=sample_rate).T,axis=0)\n"
     ]
    },
    {
     "name": "stdout",
     "output_type": "stream",
     "text": [
      "911\n",
      "sad_female\n"
     ]
    },
    {
     "name": "stderr",
     "output_type": "stream",
     "text": [
      "/var/folders/7h/3y0jb5yx0g399b2y_qtq_db80000gn/T/ipykernel_26966/1257479974.py:14: FutureWarning: Pass y=[ 0.0000000e+00  0.0000000e+00  0.0000000e+00 ... -3.7597201e-07\n",
      "  2.5533373e-07  0.0000000e+00] as keyword args. From version 0.10 passing these as positional arguments will result in an error\n",
      "  mel=np.mean(librosa.feature.melspectrogram(data, sr=sample_rate).T,axis=0)\n"
     ]
    },
    {
     "name": "stdout",
     "output_type": "stream",
     "text": [
      "912\n",
      "disgust_female\n"
     ]
    },
    {
     "name": "stderr",
     "output_type": "stream",
     "text": [
      "/var/folders/7h/3y0jb5yx0g399b2y_qtq_db80000gn/T/ipykernel_26966/1257479974.py:14: FutureWarning: Pass y=[ 0.0000000e+00  0.0000000e+00  0.0000000e+00 ... -2.3354289e-08\n",
      "  1.8400973e-08  0.0000000e+00] as keyword args. From version 0.10 passing these as positional arguments will result in an error\n",
      "  mel=np.mean(librosa.feature.melspectrogram(data, sr=sample_rate).T,axis=0)\n"
     ]
    },
    {
     "name": "stdout",
     "output_type": "stream",
     "text": [
      "913\n",
      "disgust_female\n"
     ]
    },
    {
     "name": "stderr",
     "output_type": "stream",
     "text": [
      "/var/folders/7h/3y0jb5yx0g399b2y_qtq_db80000gn/T/ipykernel_26966/1257479974.py:14: FutureWarning: Pass y=[0.0000000e+00 0.0000000e+00 0.0000000e+00 ... 1.2861207e-05 1.9820362e-05\n",
      " 0.0000000e+00] as keyword args. From version 0.10 passing these as positional arguments will result in an error\n",
      "  mel=np.mean(librosa.feature.melspectrogram(data, sr=sample_rate).T,axis=0)\n"
     ]
    },
    {
     "name": "stdout",
     "output_type": "stream",
     "text": [
      "914\n",
      "sad_female\n"
     ]
    },
    {
     "name": "stderr",
     "output_type": "stream",
     "text": [
      "/var/folders/7h/3y0jb5yx0g399b2y_qtq_db80000gn/T/ipykernel_26966/1257479974.py:14: FutureWarning: Pass y=[ 0.0000000e+00  0.0000000e+00  0.0000000e+00 ... -2.0807654e-07\n",
      "  1.8039378e-07  0.0000000e+00] as keyword args. From version 0.10 passing these as positional arguments will result in an error\n",
      "  mel=np.mean(librosa.feature.melspectrogram(data, sr=sample_rate).T,axis=0)\n"
     ]
    },
    {
     "name": "stdout",
     "output_type": "stream",
     "text": [
      "915\n",
      "surprised_female\n"
     ]
    },
    {
     "name": "stderr",
     "output_type": "stream",
     "text": [
      "/var/folders/7h/3y0jb5yx0g399b2y_qtq_db80000gn/T/ipykernel_26966/1257479974.py:14: FutureWarning: Pass y=[ 0.000000e+00  0.000000e+00  0.000000e+00 ... -9.318746e-07  3.898206e-07\n",
      "  0.000000e+00] as keyword args. From version 0.10 passing these as positional arguments will result in an error\n",
      "  mel=np.mean(librosa.feature.melspectrogram(data, sr=sample_rate).T,axis=0)\n"
     ]
    },
    {
     "name": "stdout",
     "output_type": "stream",
     "text": [
      "916\n",
      "surprised_female\n"
     ]
    },
    {
     "name": "stderr",
     "output_type": "stream",
     "text": [
      "/var/folders/7h/3y0jb5yx0g399b2y_qtq_db80000gn/T/ipykernel_26966/1257479974.py:14: FutureWarning: Pass y=[ 0.0000000e+00  0.0000000e+00  0.0000000e+00 ... -5.9672811e-06\n",
      "  3.4225222e-06  0.0000000e+00] as keyword args. From version 0.10 passing these as positional arguments will result in an error\n",
      "  mel=np.mean(librosa.feature.melspectrogram(data, sr=sample_rate).T,axis=0)\n"
     ]
    },
    {
     "name": "stdout",
     "output_type": "stream",
     "text": [
      "917\n",
      "angry_female\n"
     ]
    },
    {
     "name": "stderr",
     "output_type": "stream",
     "text": [
      "/var/folders/7h/3y0jb5yx0g399b2y_qtq_db80000gn/T/ipykernel_26966/1257479974.py:14: FutureWarning: Pass y=[ 0.0000000e+00  0.0000000e+00  0.0000000e+00 ... -6.6792068e-06\n",
      "  1.5019585e-07  0.0000000e+00] as keyword args. From version 0.10 passing these as positional arguments will result in an error\n",
      "  mel=np.mean(librosa.feature.melspectrogram(data, sr=sample_rate).T,axis=0)\n"
     ]
    },
    {
     "name": "stdout",
     "output_type": "stream",
     "text": [
      "918\n",
      "fearful_female\n"
     ]
    },
    {
     "name": "stderr",
     "output_type": "stream",
     "text": [
      "/var/folders/7h/3y0jb5yx0g399b2y_qtq_db80000gn/T/ipykernel_26966/1257479974.py:14: FutureWarning: Pass y=[0.0000000e+00 0.0000000e+00 0.0000000e+00 ... 1.3247083e-05 2.9568026e-05\n",
      " 0.0000000e+00] as keyword args. From version 0.10 passing these as positional arguments will result in an error\n",
      "  mel=np.mean(librosa.feature.melspectrogram(data, sr=sample_rate).T,axis=0)\n"
     ]
    },
    {
     "name": "stdout",
     "output_type": "stream",
     "text": [
      "919\n",
      "fearful_female\n"
     ]
    },
    {
     "name": "stderr",
     "output_type": "stream",
     "text": [
      "/var/folders/7h/3y0jb5yx0g399b2y_qtq_db80000gn/T/ipykernel_26966/1257479974.py:14: FutureWarning: Pass y=[ 0.0000000e+00  0.0000000e+00  0.0000000e+00 ... -3.3233866e-07\n",
      "  1.9067753e-07  0.0000000e+00] as keyword args. From version 0.10 passing these as positional arguments will result in an error\n",
      "  mel=np.mean(librosa.feature.melspectrogram(data, sr=sample_rate).T,axis=0)\n"
     ]
    },
    {
     "name": "stdout",
     "output_type": "stream",
     "text": [
      "920\n",
      "angry_female\n"
     ]
    },
    {
     "name": "stderr",
     "output_type": "stream",
     "text": [
      "/var/folders/7h/3y0jb5yx0g399b2y_qtq_db80000gn/T/ipykernel_26966/1257479974.py:14: FutureWarning: Pass y=[ 0.0000000e+00  0.0000000e+00  0.0000000e+00 ... -2.1933149e-05\n",
      " -3.0393628e-06  0.0000000e+00] as keyword args. From version 0.10 passing these as positional arguments will result in an error\n",
      "  mel=np.mean(librosa.feature.melspectrogram(data, sr=sample_rate).T,axis=0)\n"
     ]
    },
    {
     "name": "stdout",
     "output_type": "stream",
     "text": [
      "921\n",
      "disgust_female\n"
     ]
    },
    {
     "name": "stderr",
     "output_type": "stream",
     "text": [
      "/var/folders/7h/3y0jb5yx0g399b2y_qtq_db80000gn/T/ipykernel_26966/1257479974.py:14: FutureWarning: Pass y=[ 0.0000000e+00  0.0000000e+00  0.0000000e+00 ...  1.7234386e-05\n",
      " -4.3914788e-06  0.0000000e+00] as keyword args. From version 0.10 passing these as positional arguments will result in an error\n",
      "  mel=np.mean(librosa.feature.melspectrogram(data, sr=sample_rate).T,axis=0)\n"
     ]
    },
    {
     "name": "stdout",
     "output_type": "stream",
     "text": [
      "922\n",
      "sad_female\n"
     ]
    },
    {
     "name": "stderr",
     "output_type": "stream",
     "text": [
      "/var/folders/7h/3y0jb5yx0g399b2y_qtq_db80000gn/T/ipykernel_26966/1257479974.py:14: FutureWarning: Pass y=[ 0.0000000e+00  0.0000000e+00  0.0000000e+00 ... -5.0938263e-07\n",
      "  2.7782437e-07  0.0000000e+00] as keyword args. From version 0.10 passing these as positional arguments will result in an error\n",
      "  mel=np.mean(librosa.feature.melspectrogram(data, sr=sample_rate).T,axis=0)\n"
     ]
    },
    {
     "name": "stdout",
     "output_type": "stream",
     "text": [
      "923\n",
      "sad_female\n"
     ]
    },
    {
     "name": "stderr",
     "output_type": "stream",
     "text": [
      "/var/folders/7h/3y0jb5yx0g399b2y_qtq_db80000gn/T/ipykernel_26966/1257479974.py:14: FutureWarning: Pass y=[ 0.0000000e+00  0.0000000e+00  0.0000000e+00 ... -1.4711697e-04\n",
      " -2.0637284e-05  0.0000000e+00] as keyword args. From version 0.10 passing these as positional arguments will result in an error\n",
      "  mel=np.mean(librosa.feature.melspectrogram(data, sr=sample_rate).T,axis=0)\n"
     ]
    },
    {
     "name": "stdout",
     "output_type": "stream",
     "text": [
      "924\n",
      "disgust_female\n"
     ]
    },
    {
     "name": "stderr",
     "output_type": "stream",
     "text": [
      "/var/folders/7h/3y0jb5yx0g399b2y_qtq_db80000gn/T/ipykernel_26966/1257479974.py:14: FutureWarning: Pass y=[ 0.0000000e+00  0.0000000e+00  0.0000000e+00 ... -1.1011955e-05\n",
      " -6.3698576e-07  0.0000000e+00] as keyword args. From version 0.10 passing these as positional arguments will result in an error\n",
      "  mel=np.mean(librosa.feature.melspectrogram(data, sr=sample_rate).T,axis=0)\n"
     ]
    },
    {
     "name": "stdout",
     "output_type": "stream",
     "text": [
      "925\n",
      "surprised_female\n"
     ]
    },
    {
     "name": "stderr",
     "output_type": "stream",
     "text": [
      "/var/folders/7h/3y0jb5yx0g399b2y_qtq_db80000gn/T/ipykernel_26966/1257479974.py:14: FutureWarning: Pass y=[0.         0.         0.         ... 0.00012568 0.00013477 0.        ] as keyword args. From version 0.10 passing these as positional arguments will result in an error\n",
      "  mel=np.mean(librosa.feature.melspectrogram(data, sr=sample_rate).T,axis=0)\n",
      "/var/folders/7h/3y0jb5yx0g399b2y_qtq_db80000gn/T/ipykernel_26966/1257479974.py:14: FutureWarning: Pass y=[ 0.000000e+00  0.000000e+00  0.000000e+00 ... -4.733450e-09  2.400626e-09\n",
      "  0.000000e+00] as keyword args. From version 0.10 passing these as positional arguments will result in an error\n",
      "  mel=np.mean(librosa.feature.melspectrogram(data, sr=sample_rate).T,axis=0)\n"
     ]
    },
    {
     "name": "stdout",
     "output_type": "stream",
     "text": [
      "926\n",
      "surprised_female\n",
      "927\n",
      "happy_female\n"
     ]
    },
    {
     "name": "stderr",
     "output_type": "stream",
     "text": [
      "/var/folders/7h/3y0jb5yx0g399b2y_qtq_db80000gn/T/ipykernel_26966/1257479974.py:14: FutureWarning: Pass y=[0.0000000e+00 0.0000000e+00 0.0000000e+00 ... 8.5068850e-06 2.2616148e-05\n",
      " 0.0000000e+00] as keyword args. From version 0.10 passing these as positional arguments will result in an error\n",
      "  mel=np.mean(librosa.feature.melspectrogram(data, sr=sample_rate).T,axis=0)\n"
     ]
    },
    {
     "name": "stdout",
     "output_type": "stream",
     "text": [
      "928\n",
      "happy_female\n"
     ]
    },
    {
     "name": "stderr",
     "output_type": "stream",
     "text": [
      "/var/folders/7h/3y0jb5yx0g399b2y_qtq_db80000gn/T/ipykernel_26966/1257479974.py:14: FutureWarning: Pass y=[0.0000000e+00 0.0000000e+00 0.0000000e+00 ... 2.0096522e-05 1.3661736e-05\n",
      " 0.0000000e+00] as keyword args. From version 0.10 passing these as positional arguments will result in an error\n",
      "  mel=np.mean(librosa.feature.melspectrogram(data, sr=sample_rate).T,axis=0)\n"
     ]
    },
    {
     "name": "stdout",
     "output_type": "stream",
     "text": [
      "929\n",
      "calm_female\n"
     ]
    },
    {
     "name": "stderr",
     "output_type": "stream",
     "text": [
      "/var/folders/7h/3y0jb5yx0g399b2y_qtq_db80000gn/T/ipykernel_26966/1257479974.py:14: FutureWarning: Pass y=[ 0.0000000e+00  0.0000000e+00  0.0000000e+00 ... -3.2706945e-10\n",
      "  1.1944806e-10  0.0000000e+00] as keyword args. From version 0.10 passing these as positional arguments will result in an error\n",
      "  mel=np.mean(librosa.feature.melspectrogram(data, sr=sample_rate).T,axis=0)\n"
     ]
    },
    {
     "name": "stdout",
     "output_type": "stream",
     "text": [
      "930\n",
      "neutral_female\n"
     ]
    },
    {
     "name": "stderr",
     "output_type": "stream",
     "text": [
      "/var/folders/7h/3y0jb5yx0g399b2y_qtq_db80000gn/T/ipykernel_26966/1257479974.py:14: FutureWarning: Pass y=[ 0.0000000e+00  0.0000000e+00  0.0000000e+00 ... -2.1954007e-05\n",
      " -1.0795411e-06  0.0000000e+00] as keyword args. From version 0.10 passing these as positional arguments will result in an error\n",
      "  mel=np.mean(librosa.feature.melspectrogram(data, sr=sample_rate).T,axis=0)\n"
     ]
    },
    {
     "name": "stdout",
     "output_type": "stream",
     "text": [
      "931\n",
      "calm_female\n"
     ]
    },
    {
     "name": "stderr",
     "output_type": "stream",
     "text": [
      "/var/folders/7h/3y0jb5yx0g399b2y_qtq_db80000gn/T/ipykernel_26966/1257479974.py:14: FutureWarning: Pass y=[0.0000000e+00 0.0000000e+00 0.0000000e+00 ... 7.7569375e-06 9.6297854e-06\n",
      " 0.0000000e+00] as keyword args. From version 0.10 passing these as positional arguments will result in an error\n",
      "  mel=np.mean(librosa.feature.melspectrogram(data, sr=sample_rate).T,axis=0)\n"
     ]
    },
    {
     "name": "stdout",
     "output_type": "stream",
     "text": [
      "932\n",
      "sad_female\n"
     ]
    },
    {
     "name": "stderr",
     "output_type": "stream",
     "text": [
      "/var/folders/7h/3y0jb5yx0g399b2y_qtq_db80000gn/T/ipykernel_26966/1257479974.py:14: FutureWarning: Pass y=[-1.3739062e-05 -2.2004851e-07  1.4434315e-07 ... -7.4827632e-08\n",
      "  5.8308999e-08  0.0000000e+00] as keyword args. From version 0.10 passing these as positional arguments will result in an error\n",
      "  mel=np.mean(librosa.feature.melspectrogram(data, sr=sample_rate).T,axis=0)\n"
     ]
    },
    {
     "name": "stdout",
     "output_type": "stream",
     "text": [
      "933\n",
      "disgust_female\n"
     ]
    },
    {
     "name": "stderr",
     "output_type": "stream",
     "text": [
      "/var/folders/7h/3y0jb5yx0g399b2y_qtq_db80000gn/T/ipykernel_26966/1257479974.py:14: FutureWarning: Pass y=[ 0.0000000e+00  0.0000000e+00  0.0000000e+00 ... -3.6242579e-07\n",
      "  6.9130846e-07  0.0000000e+00] as keyword args. From version 0.10 passing these as positional arguments will result in an error\n",
      "  mel=np.mean(librosa.feature.melspectrogram(data, sr=sample_rate).T,axis=0)\n"
     ]
    },
    {
     "name": "stdout",
     "output_type": "stream",
     "text": [
      "934\n",
      "disgust_female\n"
     ]
    },
    {
     "name": "stderr",
     "output_type": "stream",
     "text": [
      "/var/folders/7h/3y0jb5yx0g399b2y_qtq_db80000gn/T/ipykernel_26966/1257479974.py:14: FutureWarning: Pass y=[0.0000000e+00 0.0000000e+00 0.0000000e+00 ... 2.3580129e-05 4.6697449e-05\n",
      " 0.0000000e+00] as keyword args. From version 0.10 passing these as positional arguments will result in an error\n",
      "  mel=np.mean(librosa.feature.melspectrogram(data, sr=sample_rate).T,axis=0)\n",
      "/var/folders/7h/3y0jb5yx0g399b2y_qtq_db80000gn/T/ipykernel_26966/1257479974.py:14: FutureWarning: Pass y=[ 0.0000000e+00  0.0000000e+00  0.0000000e+00 ... -1.8438446e-06\n",
      "  7.9551404e-07  0.0000000e+00] as keyword args. From version 0.10 passing these as positional arguments will result in an error\n",
      "  mel=np.mean(librosa.feature.melspectrogram(data, sr=sample_rate).T,axis=0)\n"
     ]
    },
    {
     "name": "stdout",
     "output_type": "stream",
     "text": [
      "935\n",
      "sad_female\n",
      "936\n",
      "fearful_female\n"
     ]
    },
    {
     "name": "stderr",
     "output_type": "stream",
     "text": [
      "/var/folders/7h/3y0jb5yx0g399b2y_qtq_db80000gn/T/ipykernel_26966/1257479974.py:14: FutureWarning: Pass y=[ 0.0000000e+00  0.0000000e+00  0.0000000e+00 ...  1.4894382e-05\n",
      " -3.2829539e-06  0.0000000e+00] as keyword args. From version 0.10 passing these as positional arguments will result in an error\n",
      "  mel=np.mean(librosa.feature.melspectrogram(data, sr=sample_rate).T,axis=0)\n"
     ]
    },
    {
     "name": "stdout",
     "output_type": "stream",
     "text": [
      "937\n",
      "angry_female\n"
     ]
    },
    {
     "name": "stderr",
     "output_type": "stream",
     "text": [
      "/var/folders/7h/3y0jb5yx0g399b2y_qtq_db80000gn/T/ipykernel_26966/1257479974.py:14: FutureWarning: Pass y=[ 0.0000000e+00  0.0000000e+00  0.0000000e+00 ... -1.5839234e-07\n",
      "  1.3258706e-07  0.0000000e+00] as keyword args. From version 0.10 passing these as positional arguments will result in an error\n",
      "  mel=np.mean(librosa.feature.melspectrogram(data, sr=sample_rate).T,axis=0)\n"
     ]
    },
    {
     "name": "stdout",
     "output_type": "stream",
     "text": [
      "938\n",
      "angry_female\n"
     ]
    },
    {
     "name": "stderr",
     "output_type": "stream",
     "text": [
      "/var/folders/7h/3y0jb5yx0g399b2y_qtq_db80000gn/T/ipykernel_26966/1257479974.py:14: FutureWarning: Pass y=[0.0000000e+00 0.0000000e+00 0.0000000e+00 ... 1.0485890e-05 6.8127506e-06\n",
      " 0.0000000e+00] as keyword args. From version 0.10 passing these as positional arguments will result in an error\n",
      "  mel=np.mean(librosa.feature.melspectrogram(data, sr=sample_rate).T,axis=0)\n"
     ]
    },
    {
     "name": "stdout",
     "output_type": "stream",
     "text": [
      "939\n",
      "fearful_female\n"
     ]
    },
    {
     "name": "stderr",
     "output_type": "stream",
     "text": [
      "/var/folders/7h/3y0jb5yx0g399b2y_qtq_db80000gn/T/ipykernel_26966/1257479974.py:14: FutureWarning: Pass y=[0.0000000e+00 0.0000000e+00 0.0000000e+00 ... 1.0621962e-05 1.2581419e-06\n",
      " 0.0000000e+00] as keyword args. From version 0.10 passing these as positional arguments will result in an error\n",
      "  mel=np.mean(librosa.feature.melspectrogram(data, sr=sample_rate).T,axis=0)\n",
      "/var/folders/7h/3y0jb5yx0g399b2y_qtq_db80000gn/T/ipykernel_26966/1257479974.py:14: FutureWarning: Pass y=[ 0.0000000e+00  0.0000000e+00  0.0000000e+00 ... -1.1490559e-07\n",
      "  7.1258775e-08  0.0000000e+00] as keyword args. From version 0.10 passing these as positional arguments will result in an error\n",
      "  mel=np.mean(librosa.feature.melspectrogram(data, sr=sample_rate).T,axis=0)\n"
     ]
    },
    {
     "name": "stdout",
     "output_type": "stream",
     "text": [
      "940\n",
      "surprised_female\n",
      "941\n",
      "surprised_female\n"
     ]
    },
    {
     "name": "stderr",
     "output_type": "stream",
     "text": [
      "/var/folders/7h/3y0jb5yx0g399b2y_qtq_db80000gn/T/ipykernel_26966/1257479974.py:14: FutureWarning: Pass y=[ 0.0000000e+00  0.0000000e+00  0.0000000e+00 ... -3.7552920e-05\n",
      " -4.8148628e-05  0.0000000e+00] as keyword args. From version 0.10 passing these as positional arguments will result in an error\n",
      "  mel=np.mean(librosa.feature.melspectrogram(data, sr=sample_rate).T,axis=0)\n"
     ]
    },
    {
     "name": "stdout",
     "output_type": "stream",
     "text": [
      "942\n",
      "neutral_female\n"
     ]
    },
    {
     "name": "stderr",
     "output_type": "stream",
     "text": [
      "/var/folders/7h/3y0jb5yx0g399b2y_qtq_db80000gn/T/ipykernel_26966/1257479974.py:14: FutureWarning: Pass y=[ 0.0000000e+00  0.0000000e+00  0.0000000e+00 ...  4.7882605e-08\n",
      " -9.5278963e-08  0.0000000e+00] as keyword args. From version 0.10 passing these as positional arguments will result in an error\n",
      "  mel=np.mean(librosa.feature.melspectrogram(data, sr=sample_rate).T,axis=0)\n"
     ]
    },
    {
     "name": "stdout",
     "output_type": "stream",
     "text": [
      "943\n",
      "calm_female\n"
     ]
    },
    {
     "name": "stderr",
     "output_type": "stream",
     "text": [
      "/var/folders/7h/3y0jb5yx0g399b2y_qtq_db80000gn/T/ipykernel_26966/1257479974.py:14: FutureWarning: Pass y=[ 0.0000000e+00  0.0000000e+00  0.0000000e+00 ... -3.2243058e-06\n",
      "  5.9679805e-06  0.0000000e+00] as keyword args. From version 0.10 passing these as positional arguments will result in an error\n",
      "  mel=np.mean(librosa.feature.melspectrogram(data, sr=sample_rate).T,axis=0)\n"
     ]
    },
    {
     "name": "stdout",
     "output_type": "stream",
     "text": [
      "944\n",
      "calm_female\n"
     ]
    },
    {
     "name": "stderr",
     "output_type": "stream",
     "text": [
      "/var/folders/7h/3y0jb5yx0g399b2y_qtq_db80000gn/T/ipykernel_26966/1257479974.py:14: FutureWarning: Pass y=[ 0.000000e+00  0.000000e+00  0.000000e+00 ... -2.641765e-07  9.917048e-08\n",
      "  0.000000e+00] as keyword args. From version 0.10 passing these as positional arguments will result in an error\n",
      "  mel=np.mean(librosa.feature.melspectrogram(data, sr=sample_rate).T,axis=0)\n"
     ]
    },
    {
     "name": "stdout",
     "output_type": "stream",
     "text": [
      "945\n",
      "happy_female\n"
     ]
    },
    {
     "name": "stderr",
     "output_type": "stream",
     "text": [
      "/var/folders/7h/3y0jb5yx0g399b2y_qtq_db80000gn/T/ipykernel_26966/1257479974.py:14: FutureWarning: Pass y=[ 0.0000000e+00  0.0000000e+00  0.0000000e+00 ... -3.0029727e-07\n",
      "  1.3920840e-07  0.0000000e+00] as keyword args. From version 0.10 passing these as positional arguments will result in an error\n",
      "  mel=np.mean(librosa.feature.melspectrogram(data, sr=sample_rate).T,axis=0)\n"
     ]
    },
    {
     "name": "stdout",
     "output_type": "stream",
     "text": [
      "946\n",
      "happy_female\n"
     ]
    },
    {
     "name": "stderr",
     "output_type": "stream",
     "text": [
      "/var/folders/7h/3y0jb5yx0g399b2y_qtq_db80000gn/T/ipykernel_26966/1257479974.py:14: FutureWarning: Pass y=[ 0.0000000e+00  0.0000000e+00  0.0000000e+00 ... -6.6102166e-07\n",
      "  4.3370997e-07  0.0000000e+00] as keyword args. From version 0.10 passing these as positional arguments will result in an error\n",
      "  mel=np.mean(librosa.feature.melspectrogram(data, sr=sample_rate).T,axis=0)\n"
     ]
    },
    {
     "name": "stdout",
     "output_type": "stream",
     "text": [
      "947\n",
      "calm_female\n"
     ]
    },
    {
     "name": "stderr",
     "output_type": "stream",
     "text": [
      "/var/folders/7h/3y0jb5yx0g399b2y_qtq_db80000gn/T/ipykernel_26966/1257479974.py:14: FutureWarning: Pass y=[ 0.0000000e+00  0.0000000e+00  0.0000000e+00 ...  7.1917532e-07\n",
      " -3.7283039e-07  0.0000000e+00] as keyword args. From version 0.10 passing these as positional arguments will result in an error\n",
      "  mel=np.mean(librosa.feature.melspectrogram(data, sr=sample_rate).T,axis=0)\n"
     ]
    },
    {
     "name": "stdout",
     "output_type": "stream",
     "text": [
      "948\n",
      "neutral_female\n"
     ]
    },
    {
     "name": "stderr",
     "output_type": "stream",
     "text": [
      "/var/folders/7h/3y0jb5yx0g399b2y_qtq_db80000gn/T/ipykernel_26966/1257479974.py:14: FutureWarning: Pass y=[ 0.0000000e+00  0.0000000e+00  0.0000000e+00 ... -6.3053626e-06\n",
      " -3.6722715e-05  0.0000000e+00] as keyword args. From version 0.10 passing these as positional arguments will result in an error\n",
      "  mel=np.mean(librosa.feature.melspectrogram(data, sr=sample_rate).T,axis=0)\n"
     ]
    },
    {
     "name": "stdout",
     "output_type": "stream",
     "text": [
      "949\n",
      "calm_female\n"
     ]
    },
    {
     "name": "stderr",
     "output_type": "stream",
     "text": [
      "/var/folders/7h/3y0jb5yx0g399b2y_qtq_db80000gn/T/ipykernel_26966/1257479974.py:14: FutureWarning: Pass y=[ 0.0000000e+00  0.0000000e+00  0.0000000e+00 ... -8.1395473e-07\n",
      "  7.0258716e-07  0.0000000e+00] as keyword args. From version 0.10 passing these as positional arguments will result in an error\n",
      "  mel=np.mean(librosa.feature.melspectrogram(data, sr=sample_rate).T,axis=0)\n"
     ]
    },
    {
     "name": "stdout",
     "output_type": "stream",
     "text": [
      "950\n",
      "happy_female\n"
     ]
    },
    {
     "name": "stderr",
     "output_type": "stream",
     "text": [
      "/var/folders/7h/3y0jb5yx0g399b2y_qtq_db80000gn/T/ipykernel_26966/1257479974.py:14: FutureWarning: Pass y=[ 0.0000000e+00  0.0000000e+00  0.0000000e+00 ... -2.1055646e-06\n",
      "  9.4141787e-06  0.0000000e+00] as keyword args. From version 0.10 passing these as positional arguments will result in an error\n",
      "  mel=np.mean(librosa.feature.melspectrogram(data, sr=sample_rate).T,axis=0)\n"
     ]
    },
    {
     "name": "stdout",
     "output_type": "stream",
     "text": [
      "951\n",
      "happy_female\n"
     ]
    },
    {
     "name": "stderr",
     "output_type": "stream",
     "text": [
      "/var/folders/7h/3y0jb5yx0g399b2y_qtq_db80000gn/T/ipykernel_26966/1257479974.py:14: FutureWarning: Pass y=[ 0.0000000e+00  0.0000000e+00  0.0000000e+00 ... -2.0542659e-05\n",
      " -2.0180800e-05  0.0000000e+00] as keyword args. From version 0.10 passing these as positional arguments will result in an error\n",
      "  mel=np.mean(librosa.feature.melspectrogram(data, sr=sample_rate).T,axis=0)\n"
     ]
    },
    {
     "name": "stdout",
     "output_type": "stream",
     "text": [
      "952\n",
      "disgust_female\n"
     ]
    },
    {
     "name": "stderr",
     "output_type": "stream",
     "text": [
      "/var/folders/7h/3y0jb5yx0g399b2y_qtq_db80000gn/T/ipykernel_26966/1257479974.py:14: FutureWarning: Pass y=[ 0.00000000e+00  0.00000000e+00  0.00000000e+00 ...  2.41151010e-05\n",
      " -1.36801555e-05  0.00000000e+00] as keyword args. From version 0.10 passing these as positional arguments will result in an error\n",
      "  mel=np.mean(librosa.feature.melspectrogram(data, sr=sample_rate).T,axis=0)\n"
     ]
    },
    {
     "name": "stdout",
     "output_type": "stream",
     "text": [
      "953\n",
      "sad_female\n"
     ]
    },
    {
     "name": "stderr",
     "output_type": "stream",
     "text": [
      "/var/folders/7h/3y0jb5yx0g399b2y_qtq_db80000gn/T/ipykernel_26966/1257479974.py:14: FutureWarning: Pass y=[ 0.0000000e+00  0.0000000e+00  0.0000000e+00 ...  9.8770819e-08\n",
      " -1.0370292e-07  0.0000000e+00] as keyword args. From version 0.10 passing these as positional arguments will result in an error\n",
      "  mel=np.mean(librosa.feature.melspectrogram(data, sr=sample_rate).T,axis=0)\n"
     ]
    },
    {
     "name": "stdout",
     "output_type": "stream",
     "text": [
      "954\n",
      "sad_female\n"
     ]
    },
    {
     "name": "stderr",
     "output_type": "stream",
     "text": [
      "/var/folders/7h/3y0jb5yx0g399b2y_qtq_db80000gn/T/ipykernel_26966/1257479974.py:14: FutureWarning: Pass y=[ 0.0000000e+00  0.0000000e+00  0.0000000e+00 ... -7.2348854e-08\n",
      "  5.9739591e-08  0.0000000e+00] as keyword args. From version 0.10 passing these as positional arguments will result in an error\n",
      "  mel=np.mean(librosa.feature.melspectrogram(data, sr=sample_rate).T,axis=0)\n"
     ]
    },
    {
     "name": "stdout",
     "output_type": "stream",
     "text": [
      "955\n",
      "disgust_female\n"
     ]
    },
    {
     "name": "stderr",
     "output_type": "stream",
     "text": [
      "/var/folders/7h/3y0jb5yx0g399b2y_qtq_db80000gn/T/ipykernel_26966/1257479974.py:14: FutureWarning: Pass y=[ 0.000000e+00  0.000000e+00  0.000000e+00 ...  9.741988e-08 -7.437877e-08\n",
      "  0.000000e+00] as keyword args. From version 0.10 passing these as positional arguments will result in an error\n",
      "  mel=np.mean(librosa.feature.melspectrogram(data, sr=sample_rate).T,axis=0)\n"
     ]
    },
    {
     "name": "stdout",
     "output_type": "stream",
     "text": [
      "956\n",
      "angry_female\n"
     ]
    },
    {
     "name": "stderr",
     "output_type": "stream",
     "text": [
      "/var/folders/7h/3y0jb5yx0g399b2y_qtq_db80000gn/T/ipykernel_26966/1257479974.py:14: FutureWarning: Pass y=[ 0.0000000e+00  0.0000000e+00  0.0000000e+00 ... -8.9996865e-06\n",
      "  5.8855454e-07  0.0000000e+00] as keyword args. From version 0.10 passing these as positional arguments will result in an error\n",
      "  mel=np.mean(librosa.feature.melspectrogram(data, sr=sample_rate).T,axis=0)\n"
     ]
    },
    {
     "name": "stdout",
     "output_type": "stream",
     "text": [
      "957\n",
      "fearful_female\n"
     ]
    },
    {
     "name": "stderr",
     "output_type": "stream",
     "text": [
      "/var/folders/7h/3y0jb5yx0g399b2y_qtq_db80000gn/T/ipykernel_26966/1257479974.py:14: FutureWarning: Pass y=[ 0.0000000e+00  0.0000000e+00  0.0000000e+00 ...  8.9383133e-07\n",
      " -8.2558006e-07  0.0000000e+00] as keyword args. From version 0.10 passing these as positional arguments will result in an error\n",
      "  mel=np.mean(librosa.feature.melspectrogram(data, sr=sample_rate).T,axis=0)\n"
     ]
    },
    {
     "name": "stdout",
     "output_type": "stream",
     "text": [
      "958\n",
      "fearful_female\n"
     ]
    },
    {
     "name": "stderr",
     "output_type": "stream",
     "text": [
      "/var/folders/7h/3y0jb5yx0g399b2y_qtq_db80000gn/T/ipykernel_26966/1257479974.py:14: FutureWarning: Pass y=[ 0.0000000e+00  0.0000000e+00  0.0000000e+00 ...  8.5513669e-08\n",
      " -3.8328025e-08  0.0000000e+00] as keyword args. From version 0.10 passing these as positional arguments will result in an error\n",
      "  mel=np.mean(librosa.feature.melspectrogram(data, sr=sample_rate).T,axis=0)\n"
     ]
    },
    {
     "name": "stdout",
     "output_type": "stream",
     "text": [
      "959\n",
      "angry_female\n"
     ]
    },
    {
     "name": "stderr",
     "output_type": "stream",
     "text": [
      "/var/folders/7h/3y0jb5yx0g399b2y_qtq_db80000gn/T/ipykernel_26966/1257479974.py:14: FutureWarning: Pass y=[ 0.0000000e+00  0.0000000e+00  0.0000000e+00 ... -5.6968645e-07\n",
      " -1.3281239e-05  0.0000000e+00] as keyword args. From version 0.10 passing these as positional arguments will result in an error\n",
      "  mel=np.mean(librosa.feature.melspectrogram(data, sr=sample_rate).T,axis=0)\n",
      "/var/folders/7h/3y0jb5yx0g399b2y_qtq_db80000gn/T/ipykernel_26966/1257479974.py:14: FutureWarning: Pass y=[ 0.0000000e+00  0.0000000e+00  0.0000000e+00 ...  5.5940782e-06\n",
      " -3.3392976e-06  0.0000000e+00] as keyword args. From version 0.10 passing these as positional arguments will result in an error\n",
      "  mel=np.mean(librosa.feature.melspectrogram(data, sr=sample_rate).T,axis=0)\n"
     ]
    },
    {
     "name": "stdout",
     "output_type": "stream",
     "text": [
      "960\n",
      "surprised_female\n",
      "961\n",
      "surprised_female\n"
     ]
    },
    {
     "name": "stderr",
     "output_type": "stream",
     "text": [
      "/var/folders/7h/3y0jb5yx0g399b2y_qtq_db80000gn/T/ipykernel_26966/1257479974.py:14: FutureWarning: Pass y=[ 0.0000000e+00  0.0000000e+00  0.0000000e+00 ... -3.2098233e-06\n",
      "  2.5635900e-06  0.0000000e+00] as keyword args. From version 0.10 passing these as positional arguments will result in an error\n",
      "  mel=np.mean(librosa.feature.melspectrogram(data, sr=sample_rate).T,axis=0)\n"
     ]
    },
    {
     "name": "stdout",
     "output_type": "stream",
     "text": [
      "962\n",
      "angry_female\n"
     ]
    },
    {
     "name": "stderr",
     "output_type": "stream",
     "text": [
      "/var/folders/7h/3y0jb5yx0g399b2y_qtq_db80000gn/T/ipykernel_26966/1257479974.py:14: FutureWarning: Pass y=[ 6.5902150e-06  1.9039830e-05  4.1717985e-06 ...  4.6770950e-07\n",
      " -2.9723810e-07  0.0000000e+00] as keyword args. From version 0.10 passing these as positional arguments will result in an error\n",
      "  mel=np.mean(librosa.feature.melspectrogram(data, sr=sample_rate).T,axis=0)\n"
     ]
    },
    {
     "name": "stdout",
     "output_type": "stream",
     "text": [
      "963\n",
      "fearful_female\n"
     ]
    },
    {
     "name": "stderr",
     "output_type": "stream",
     "text": [
      "/var/folders/7h/3y0jb5yx0g399b2y_qtq_db80000gn/T/ipykernel_26966/1257479974.py:14: FutureWarning: Pass y=[-2.95240625e-06 -1.18676107e-05 -1.36893857e-06 ... -2.89530144e-05\n",
      " -1.42271265e-05  0.00000000e+00] as keyword args. From version 0.10 passing these as positional arguments will result in an error\n",
      "  mel=np.mean(librosa.feature.melspectrogram(data, sr=sample_rate).T,axis=0)\n"
     ]
    },
    {
     "name": "stdout",
     "output_type": "stream",
     "text": [
      "964\n",
      "fearful_female\n",
      "965\n",
      "angry_female\n"
     ]
    },
    {
     "name": "stderr",
     "output_type": "stream",
     "text": [
      "/var/folders/7h/3y0jb5yx0g399b2y_qtq_db80000gn/T/ipykernel_26966/1257479974.py:14: FutureWarning: Pass y=[-6.8889187e-07  1.7688689e-06 -1.0884398e-05 ... -1.0728287e-05\n",
      " -6.9893526e-06  0.0000000e+00] as keyword args. From version 0.10 passing these as positional arguments will result in an error\n",
      "  mel=np.mean(librosa.feature.melspectrogram(data, sr=sample_rate).T,axis=0)\n"
     ]
    },
    {
     "name": "stdout",
     "output_type": "stream",
     "text": [
      "966\n",
      "disgust_female\n",
      "967\n",
      "sad_female\n"
     ]
    },
    {
     "name": "stderr",
     "output_type": "stream",
     "text": [
      "/var/folders/7h/3y0jb5yx0g399b2y_qtq_db80000gn/T/ipykernel_26966/1257479974.py:14: FutureWarning: Pass y=[ 0.0000000e+00  0.0000000e+00  0.0000000e+00 ...  3.8917078e-09\n",
      " -2.2477233e-09  0.0000000e+00] as keyword args. From version 0.10 passing these as positional arguments will result in an error\n",
      "  mel=np.mean(librosa.feature.melspectrogram(data, sr=sample_rate).T,axis=0)\n"
     ]
    },
    {
     "name": "stdout",
     "output_type": "stream",
     "text": [
      "968\n",
      "sad_female\n"
     ]
    },
    {
     "name": "stderr",
     "output_type": "stream",
     "text": [
      "/var/folders/7h/3y0jb5yx0g399b2y_qtq_db80000gn/T/ipykernel_26966/1257479974.py:14: FutureWarning: Pass y=[ 0.0000000e+00  0.0000000e+00  0.0000000e+00 ...  2.6924624e-11\n",
      " -8.9546131e-12  0.0000000e+00] as keyword args. From version 0.10 passing these as positional arguments will result in an error\n",
      "  mel=np.mean(librosa.feature.melspectrogram(data, sr=sample_rate).T,axis=0)\n"
     ]
    },
    {
     "name": "stdout",
     "output_type": "stream",
     "text": [
      "969\n",
      "disgust_female\n"
     ]
    },
    {
     "name": "stderr",
     "output_type": "stream",
     "text": [
      "/var/folders/7h/3y0jb5yx0g399b2y_qtq_db80000gn/T/ipykernel_26966/1257479974.py:14: FutureWarning: Pass y=[ 0.0000000e+00  0.0000000e+00  0.0000000e+00 ... -1.8906469e-07\n",
      "  1.9120459e-07  0.0000000e+00] as keyword args. From version 0.10 passing these as positional arguments will result in an error\n",
      "  mel=np.mean(librosa.feature.melspectrogram(data, sr=sample_rate).T,axis=0)\n"
     ]
    },
    {
     "name": "stdout",
     "output_type": "stream",
     "text": [
      "970\n",
      "surprised_female\n"
     ]
    },
    {
     "name": "stderr",
     "output_type": "stream",
     "text": [
      "/var/folders/7h/3y0jb5yx0g399b2y_qtq_db80000gn/T/ipykernel_26966/1257479974.py:14: FutureWarning: Pass y=[ 1.9950203e-08 -2.0308455e-08  1.9483243e-08 ... -1.5318319e-09\n",
      "  1.7051102e-09  0.0000000e+00] as keyword args. From version 0.10 passing these as positional arguments will result in an error\n",
      "  mel=np.mean(librosa.feature.melspectrogram(data, sr=sample_rate).T,axis=0)\n",
      "/var/folders/7h/3y0jb5yx0g399b2y_qtq_db80000gn/T/ipykernel_26966/1257479974.py:14: FutureWarning: Pass y=[ 1.6671764e-08 -1.9563629e-08  2.1896781e-08 ...  2.4962893e-10\n",
      " -1.9735474e-10  0.0000000e+00] as keyword args. From version 0.10 passing these as positional arguments will result in an error\n",
      "  mel=np.mean(librosa.feature.melspectrogram(data, sr=sample_rate).T,axis=0)\n"
     ]
    },
    {
     "name": "stdout",
     "output_type": "stream",
     "text": [
      "971\n",
      "surprised_female\n",
      "972\n",
      "happy_female\n"
     ]
    },
    {
     "name": "stderr",
     "output_type": "stream",
     "text": [
      "/var/folders/7h/3y0jb5yx0g399b2y_qtq_db80000gn/T/ipykernel_26966/1257479974.py:14: FutureWarning: Pass y=[0.0000000e+00 0.0000000e+00 0.0000000e+00 ... 5.7886655e-06 1.1456024e-05\n",
      " 0.0000000e+00] as keyword args. From version 0.10 passing these as positional arguments will result in an error\n",
      "  mel=np.mean(librosa.feature.melspectrogram(data, sr=sample_rate).T,axis=0)\n"
     ]
    },
    {
     "name": "stdout",
     "output_type": "stream",
     "text": [
      "973\n",
      "happy_female\n"
     ]
    },
    {
     "name": "stderr",
     "output_type": "stream",
     "text": [
      "/var/folders/7h/3y0jb5yx0g399b2y_qtq_db80000gn/T/ipykernel_26966/1257479974.py:14: FutureWarning: Pass y=[ 6.86522128e-08 -8.95402579e-08  1.11606994e-07 ... -1.54036883e-07\n",
      "  1.22497269e-07  0.00000000e+00] as keyword args. From version 0.10 passing these as positional arguments will result in an error\n",
      "  mel=np.mean(librosa.feature.melspectrogram(data, sr=sample_rate).T,axis=0)\n"
     ]
    },
    {
     "name": "stdout",
     "output_type": "stream",
     "text": [
      "974\n",
      "calm_female\n"
     ]
    },
    {
     "name": "stderr",
     "output_type": "stream",
     "text": [
      "/var/folders/7h/3y0jb5yx0g399b2y_qtq_db80000gn/T/ipykernel_26966/1257479974.py:14: FutureWarning: Pass y=[ 0.0000000e+00  0.0000000e+00  0.0000000e+00 ... -1.4009749e-05\n",
      " -4.2975021e-06  0.0000000e+00] as keyword args. From version 0.10 passing these as positional arguments will result in an error\n",
      "  mel=np.mean(librosa.feature.melspectrogram(data, sr=sample_rate).T,axis=0)\n",
      "/var/folders/7h/3y0jb5yx0g399b2y_qtq_db80000gn/T/ipykernel_26966/1257479974.py:14: FutureWarning: Pass y=[-2.0306903e-05 -1.8507697e-05 -4.0050927e-05 ...  0.0000000e+00\n",
      "  0.0000000e+00  0.0000000e+00] as keyword args. From version 0.10 passing these as positional arguments will result in an error\n",
      "  mel=np.mean(librosa.feature.melspectrogram(data, sr=sample_rate).T,axis=0)\n"
     ]
    },
    {
     "name": "stdout",
     "output_type": "stream",
     "text": [
      "975\n",
      "neutral_female\n",
      "976\n",
      "calm_female\n"
     ]
    },
    {
     "name": "stderr",
     "output_type": "stream",
     "text": [
      "/var/folders/7h/3y0jb5yx0g399b2y_qtq_db80000gn/T/ipykernel_26966/1257479974.py:14: FutureWarning: Pass y=[-1.3153918e-05 -1.6258435e-06 -1.6757023e-05 ...  2.0934990e-06\n",
      " -5.1889983e-06  0.0000000e+00] as keyword args. From version 0.10 passing these as positional arguments will result in an error\n",
      "  mel=np.mean(librosa.feature.melspectrogram(data, sr=sample_rate).T,axis=0)\n"
     ]
    },
    {
     "name": "stdout",
     "output_type": "stream",
     "text": [
      "977\n",
      "happy_female\n"
     ]
    },
    {
     "name": "stderr",
     "output_type": "stream",
     "text": [
      "/var/folders/7h/3y0jb5yx0g399b2y_qtq_db80000gn/T/ipykernel_26966/1257479974.py:14: FutureWarning: Pass y=[-5.3264921e-07  1.8020008e-06 -1.1218625e-05 ...  0.0000000e+00\n",
      "  0.0000000e+00  0.0000000e+00] as keyword args. From version 0.10 passing these as positional arguments will result in an error\n",
      "  mel=np.mean(librosa.feature.melspectrogram(data, sr=sample_rate).T,axis=0)\n"
     ]
    },
    {
     "name": "stdout",
     "output_type": "stream",
     "text": [
      "978\n",
      "happy_female\n",
      "979\n",
      "calm_female\n"
     ]
    },
    {
     "name": "stderr",
     "output_type": "stream",
     "text": [
      "/var/folders/7h/3y0jb5yx0g399b2y_qtq_db80000gn/T/ipykernel_26966/1257479974.py:14: FutureWarning: Pass y=[ 1.0047965e-12 -2.2256752e-12  5.2551882e-12 ...  0.0000000e+00\n",
      "  0.0000000e+00  0.0000000e+00] as keyword args. From version 0.10 passing these as positional arguments will result in an error\n",
      "  mel=np.mean(librosa.feature.melspectrogram(data, sr=sample_rate).T,axis=0)\n",
      "/var/folders/7h/3y0jb5yx0g399b2y_qtq_db80000gn/T/ipykernel_26966/1257479974.py:14: FutureWarning: Pass y=[ 6.3413241e-10 -7.3509704e-10  8.0391360e-10 ... -5.0816606e-10\n",
      "  3.2588915e-10  0.0000000e+00] as keyword args. From version 0.10 passing these as positional arguments will result in an error\n",
      "  mel=np.mean(librosa.feature.melspectrogram(data, sr=sample_rate).T,axis=0)\n"
     ]
    },
    {
     "name": "stdout",
     "output_type": "stream",
     "text": [
      "980\n",
      "calm_female\n",
      "981\n",
      "neutral_female\n"
     ]
    },
    {
     "name": "stderr",
     "output_type": "stream",
     "text": [
      "/var/folders/7h/3y0jb5yx0g399b2y_qtq_db80000gn/T/ipykernel_26966/1257479974.py:14: FutureWarning: Pass y=[ 2.5469349e-10 -3.8765854e-10  5.5973964e-10 ... -7.5434804e-07\n",
      "  6.1850454e-07  0.0000000e+00] as keyword args. From version 0.10 passing these as positional arguments will result in an error\n",
      "  mel=np.mean(librosa.feature.melspectrogram(data, sr=sample_rate).T,axis=0)\n"
     ]
    },
    {
     "name": "stdout",
     "output_type": "stream",
     "text": [
      "982\n",
      "fearful_female\n"
     ]
    },
    {
     "name": "stderr",
     "output_type": "stream",
     "text": [
      "/var/folders/7h/3y0jb5yx0g399b2y_qtq_db80000gn/T/ipykernel_26966/1257479974.py:14: FutureWarning: Pass y=[-5.0476945e-08  6.1491782e-08 -7.2578743e-08 ...  0.0000000e+00\n",
      "  0.0000000e+00  0.0000000e+00] as keyword args. From version 0.10 passing these as positional arguments will result in an error\n",
      "  mel=np.mean(librosa.feature.melspectrogram(data, sr=sample_rate).T,axis=0)\n"
     ]
    },
    {
     "name": "stdout",
     "output_type": "stream",
     "text": [
      "983\n",
      "angry_female\n"
     ]
    },
    {
     "name": "stderr",
     "output_type": "stream",
     "text": [
      "/var/folders/7h/3y0jb5yx0g399b2y_qtq_db80000gn/T/ipykernel_26966/1257479974.py:14: FutureWarning: Pass y=[-7.1489009e-11 -6.9173178e-12  1.4093302e-10 ...  0.0000000e+00\n",
      "  0.0000000e+00  0.0000000e+00] as keyword args. From version 0.10 passing these as positional arguments will result in an error\n",
      "  mel=np.mean(librosa.feature.melspectrogram(data, sr=sample_rate).T,axis=0)\n"
     ]
    },
    {
     "name": "stdout",
     "output_type": "stream",
     "text": [
      "984\n",
      "angry_female\n"
     ]
    },
    {
     "name": "stderr",
     "output_type": "stream",
     "text": [
      "/var/folders/7h/3y0jb5yx0g399b2y_qtq_db80000gn/T/ipykernel_26966/1257479974.py:14: FutureWarning: Pass y=[-3.1537089e-05 -4.6725094e-05 -4.9924856e-05 ...  0.0000000e+00\n",
      "  0.0000000e+00  0.0000000e+00] as keyword args. From version 0.10 passing these as positional arguments will result in an error\n",
      "  mel=np.mean(librosa.feature.melspectrogram(data, sr=sample_rate).T,axis=0)\n"
     ]
    },
    {
     "name": "stdout",
     "output_type": "stream",
     "text": [
      "985\n",
      "fearful_female\n"
     ]
    },
    {
     "name": "stderr",
     "output_type": "stream",
     "text": [
      "/var/folders/7h/3y0jb5yx0g399b2y_qtq_db80000gn/T/ipykernel_26966/1257479974.py:14: FutureWarning: Pass y=[ 4.5257475e-06 -1.3937307e-05 -1.9673307e-05 ...  5.6737599e-07\n",
      " -4.3157914e-07  0.0000000e+00] as keyword args. From version 0.10 passing these as positional arguments will result in an error\n",
      "  mel=np.mean(librosa.feature.melspectrogram(data, sr=sample_rate).T,axis=0)\n"
     ]
    },
    {
     "name": "stdout",
     "output_type": "stream",
     "text": [
      "986\n",
      "sad_female\n"
     ]
    },
    {
     "name": "stderr",
     "output_type": "stream",
     "text": [
      "/var/folders/7h/3y0jb5yx0g399b2y_qtq_db80000gn/T/ipykernel_26966/1257479974.py:14: FutureWarning: Pass y=[0.0000000e+00 0.0000000e+00 0.0000000e+00 ... 3.4279383e-13 0.0000000e+00\n",
      " 0.0000000e+00] as keyword args. From version 0.10 passing these as positional arguments will result in an error\n",
      "  mel=np.mean(librosa.feature.melspectrogram(data, sr=sample_rate).T,axis=0)\n"
     ]
    },
    {
     "name": "stdout",
     "output_type": "stream",
     "text": [
      "987\n",
      "disgust_female\n"
     ]
    },
    {
     "name": "stderr",
     "output_type": "stream",
     "text": [
      "/var/folders/7h/3y0jb5yx0g399b2y_qtq_db80000gn/T/ipykernel_26966/1257479974.py:14: FutureWarning: Pass y=[-2.7117454e-05 -1.9094317e-05 -1.4395607e-06 ...  0.0000000e+00\n",
      "  0.0000000e+00  0.0000000e+00] as keyword args. From version 0.10 passing these as positional arguments will result in an error\n",
      "  mel=np.mean(librosa.feature.melspectrogram(data, sr=sample_rate).T,axis=0)\n"
     ]
    },
    {
     "name": "stdout",
     "output_type": "stream",
     "text": [
      "988\n",
      "disgust_female\n"
     ]
    },
    {
     "name": "stderr",
     "output_type": "stream",
     "text": [
      "/var/folders/7h/3y0jb5yx0g399b2y_qtq_db80000gn/T/ipykernel_26966/1257479974.py:14: FutureWarning: Pass y=[ 0.0000000e+00  0.0000000e+00  0.0000000e+00 ...  9.6209938e-08\n",
      " -2.9910132e-07  0.0000000e+00] as keyword args. From version 0.10 passing these as positional arguments will result in an error\n",
      "  mel=np.mean(librosa.feature.melspectrogram(data, sr=sample_rate).T,axis=0)\n"
     ]
    },
    {
     "name": "stdout",
     "output_type": "stream",
     "text": [
      "989\n",
      "sad_female\n"
     ]
    },
    {
     "name": "stderr",
     "output_type": "stream",
     "text": [
      "/var/folders/7h/3y0jb5yx0g399b2y_qtq_db80000gn/T/ipykernel_26966/1257479974.py:14: FutureWarning: Pass y=[-2.74570819e-08  1.19697585e-08  7.48678541e-09 ... -1.09782370e-07\n",
      "  9.93569529e-08  0.00000000e+00] as keyword args. From version 0.10 passing these as positional arguments will result in an error\n",
      "  mel=np.mean(librosa.feature.melspectrogram(data, sr=sample_rate).T,axis=0)\n"
     ]
    },
    {
     "name": "stdout",
     "output_type": "stream",
     "text": [
      "990\n",
      "surprised_female\n"
     ]
    },
    {
     "name": "stderr",
     "output_type": "stream",
     "text": [
      "/var/folders/7h/3y0jb5yx0g399b2y_qtq_db80000gn/T/ipykernel_26966/1257479974.py:14: FutureWarning: Pass y=[-3.4932448e-06 -1.1280148e-05 -2.0286664e-06 ...  0.0000000e+00\n",
      "  0.0000000e+00  0.0000000e+00] as keyword args. From version 0.10 passing these as positional arguments will result in an error\n",
      "  mel=np.mean(librosa.feature.melspectrogram(data, sr=sample_rate).T,axis=0)\n"
     ]
    },
    {
     "name": "stdout",
     "output_type": "stream",
     "text": [
      "991\n",
      "surprised_female\n",
      "992\n",
      "calm_female\n"
     ]
    },
    {
     "name": "stderr",
     "output_type": "stream",
     "text": [
      "/var/folders/7h/3y0jb5yx0g399b2y_qtq_db80000gn/T/ipykernel_26966/1257479974.py:14: FutureWarning: Pass y=[-9.6188366e-08  1.5601697e-07 -2.2775980e-07 ...  0.0000000e+00\n",
      "  0.0000000e+00  0.0000000e+00] as keyword args. From version 0.10 passing these as positional arguments will result in an error\n",
      "  mel=np.mean(librosa.feature.melspectrogram(data, sr=sample_rate).T,axis=0)\n"
     ]
    },
    {
     "name": "stdout",
     "output_type": "stream",
     "text": [
      "993\n",
      "neutral_female\n"
     ]
    },
    {
     "name": "stderr",
     "output_type": "stream",
     "text": [
      "/var/folders/7h/3y0jb5yx0g399b2y_qtq_db80000gn/T/ipykernel_26966/1257479974.py:14: FutureWarning: Pass y=[ 0.0000000e+00  0.0000000e+00  0.0000000e+00 ... -3.6206532e-06\n",
      "  2.1494468e-06  0.0000000e+00] as keyword args. From version 0.10 passing these as positional arguments will result in an error\n",
      "  mel=np.mean(librosa.feature.melspectrogram(data, sr=sample_rate).T,axis=0)\n"
     ]
    },
    {
     "name": "stdout",
     "output_type": "stream",
     "text": [
      "994\n",
      "calm_female\n"
     ]
    },
    {
     "name": "stderr",
     "output_type": "stream",
     "text": [
      "/var/folders/7h/3y0jb5yx0g399b2y_qtq_db80000gn/T/ipykernel_26966/1257479974.py:14: FutureWarning: Pass y=[ 3.1950002e-08 -2.0923199e-08  5.6960623e-09 ...  1.1079428e-07\n",
      " -9.3717276e-08  0.0000000e+00] as keyword args. From version 0.10 passing these as positional arguments will result in an error\n",
      "  mel=np.mean(librosa.feature.melspectrogram(data, sr=sample_rate).T,axis=0)\n"
     ]
    },
    {
     "name": "stdout",
     "output_type": "stream",
     "text": [
      "995\n",
      "happy_female\n"
     ]
    },
    {
     "name": "stderr",
     "output_type": "stream",
     "text": [
      "/var/folders/7h/3y0jb5yx0g399b2y_qtq_db80000gn/T/ipykernel_26966/1257479974.py:14: FutureWarning: Pass y=[-1.8276811e-08 -1.3343114e-07  4.1837430e-07 ...  0.0000000e+00\n",
      "  0.0000000e+00  0.0000000e+00] as keyword args. From version 0.10 passing these as positional arguments will result in an error\n",
      "  mel=np.mean(librosa.feature.melspectrogram(data, sr=sample_rate).T,axis=0)\n"
     ]
    },
    {
     "name": "stdout",
     "output_type": "stream",
     "text": [
      "996\n",
      "happy_female\n"
     ]
    },
    {
     "name": "stderr",
     "output_type": "stream",
     "text": [
      "/var/folders/7h/3y0jb5yx0g399b2y_qtq_db80000gn/T/ipykernel_26966/1257479974.py:14: FutureWarning: Pass y=[-3.8456997e-07  4.6210081e-07 -5.4050304e-07 ...  4.5247126e-13\n",
      " -4.1564180e-13  0.0000000e+00] as keyword args. From version 0.10 passing these as positional arguments will result in an error\n",
      "  mel=np.mean(librosa.feature.melspectrogram(data, sr=sample_rate).T,axis=0)\n"
     ]
    },
    {
     "name": "stdout",
     "output_type": "stream",
     "text": [
      "997\n",
      "disgust_female\n"
     ]
    },
    {
     "name": "stderr",
     "output_type": "stream",
     "text": [
      "/var/folders/7h/3y0jb5yx0g399b2y_qtq_db80000gn/T/ipykernel_26966/1257479974.py:14: FutureWarning: Pass y=[ 1.30660255e-05  1.01245530e-06 -1.05518006e-06 ... -4.93913967e-06\n",
      "  3.12095290e-06  0.00000000e+00] as keyword args. From version 0.10 passing these as positional arguments will result in an error\n",
      "  mel=np.mean(librosa.feature.melspectrogram(data, sr=sample_rate).T,axis=0)\n"
     ]
    },
    {
     "name": "stdout",
     "output_type": "stream",
     "text": [
      "998\n",
      "sad_female\n"
     ]
    },
    {
     "name": "stderr",
     "output_type": "stream",
     "text": [
      "/var/folders/7h/3y0jb5yx0g399b2y_qtq_db80000gn/T/ipykernel_26966/1257479974.py:14: FutureWarning: Pass y=[0.0000000e+00 0.0000000e+00 0.0000000e+00 ... 2.9803261e-05 3.3072840e-05\n",
      " 0.0000000e+00] as keyword args. From version 0.10 passing these as positional arguments will result in an error\n",
      "  mel=np.mean(librosa.feature.melspectrogram(data, sr=sample_rate).T,axis=0)\n"
     ]
    },
    {
     "name": "stdout",
     "output_type": "stream",
     "text": [
      "999\n",
      "sad_female\n"
     ]
    },
    {
     "name": "stderr",
     "output_type": "stream",
     "text": [
      "/var/folders/7h/3y0jb5yx0g399b2y_qtq_db80000gn/T/ipykernel_26966/1257479974.py:14: FutureWarning: Pass y=[ 0.0000000e+00  0.0000000e+00  0.0000000e+00 ...  5.4859974e-09\n",
      " -5.8695844e-09  0.0000000e+00] as keyword args. From version 0.10 passing these as positional arguments will result in an error\n",
      "  mel=np.mean(librosa.feature.melspectrogram(data, sr=sample_rate).T,axis=0)\n"
     ]
    },
    {
     "name": "stdout",
     "output_type": "stream",
     "text": [
      "1000\n",
      "disgust_female\n"
     ]
    },
    {
     "name": "stderr",
     "output_type": "stream",
     "text": [
      "/var/folders/7h/3y0jb5yx0g399b2y_qtq_db80000gn/T/ipykernel_26966/1257479974.py:14: FutureWarning: Pass y=[ 1.0090424e-05  7.3251999e-06 -5.2769326e-07 ... -2.0329246e-07\n",
      "  1.5349720e-07  0.0000000e+00] as keyword args. From version 0.10 passing these as positional arguments will result in an error\n",
      "  mel=np.mean(librosa.feature.melspectrogram(data, sr=sample_rate).T,axis=0)\n"
     ]
    },
    {
     "name": "stdout",
     "output_type": "stream",
     "text": [
      "1001\n",
      "angry_female\n"
     ]
    },
    {
     "name": "stderr",
     "output_type": "stream",
     "text": [
      "/var/folders/7h/3y0jb5yx0g399b2y_qtq_db80000gn/T/ipykernel_26966/1257479974.py:14: FutureWarning: Pass y=[ 2.0214213e-08 -1.8871518e-08  1.5872214e-08 ...  0.0000000e+00\n",
      "  0.0000000e+00  0.0000000e+00] as keyword args. From version 0.10 passing these as positional arguments will result in an error\n",
      "  mel=np.mean(librosa.feature.melspectrogram(data, sr=sample_rate).T,axis=0)\n"
     ]
    },
    {
     "name": "stdout",
     "output_type": "stream",
     "text": [
      "1002\n",
      "fearful_female\n"
     ]
    },
    {
     "name": "stderr",
     "output_type": "stream",
     "text": [
      "/var/folders/7h/3y0jb5yx0g399b2y_qtq_db80000gn/T/ipykernel_26966/1257479974.py:14: FutureWarning: Pass y=[-3.63708250e-06 -1.09284865e-05 -3.52434699e-06 ... -1.52439952e-07\n",
      "  1.49574589e-07  0.00000000e+00] as keyword args. From version 0.10 passing these as positional arguments will result in an error\n",
      "  mel=np.mean(librosa.feature.melspectrogram(data, sr=sample_rate).T,axis=0)\n"
     ]
    },
    {
     "name": "stdout",
     "output_type": "stream",
     "text": [
      "1003\n",
      "fearful_female\n"
     ]
    },
    {
     "name": "stderr",
     "output_type": "stream",
     "text": [
      "/var/folders/7h/3y0jb5yx0g399b2y_qtq_db80000gn/T/ipykernel_26966/1257479974.py:14: FutureWarning: Pass y=[ 1.5044402e-06 -2.2041638e-06  4.5883821e-06 ... -8.5758830e-07\n",
      "  6.8627551e-06  0.0000000e+00] as keyword args. From version 0.10 passing these as positional arguments will result in an error\n",
      "  mel=np.mean(librosa.feature.melspectrogram(data, sr=sample_rate).T,axis=0)\n"
     ]
    },
    {
     "name": "stdout",
     "output_type": "stream",
     "text": [
      "1004\n",
      "angry_female\n"
     ]
    },
    {
     "name": "stderr",
     "output_type": "stream",
     "text": [
      "/var/folders/7h/3y0jb5yx0g399b2y_qtq_db80000gn/T/ipykernel_26966/1257479974.py:14: FutureWarning: Pass y=[-2.1644136e-07  1.9789842e-07 -1.6538688e-07 ... -9.5985627e-07\n",
      "  6.5675761e-07  0.0000000e+00] as keyword args. From version 0.10 passing these as positional arguments will result in an error\n",
      "  mel=np.mean(librosa.feature.melspectrogram(data, sr=sample_rate).T,axis=0)\n"
     ]
    },
    {
     "name": "stdout",
     "output_type": "stream",
     "text": [
      "1005\n",
      "surprised_female\n"
     ]
    },
    {
     "name": "stderr",
     "output_type": "stream",
     "text": [
      "/var/folders/7h/3y0jb5yx0g399b2y_qtq_db80000gn/T/ipykernel_26966/1257479974.py:14: FutureWarning: Pass y=[ 4.1611383e-07  3.4418673e-07 -8.7148264e-06 ... -3.4387983e-07\n",
      "  3.5410346e-07  0.0000000e+00] as keyword args. From version 0.10 passing these as positional arguments will result in an error\n",
      "  mel=np.mean(librosa.feature.melspectrogram(data, sr=sample_rate).T,axis=0)\n"
     ]
    },
    {
     "name": "stdout",
     "output_type": "stream",
     "text": [
      "1006\n",
      "surprised_female\n",
      "1007\n",
      "sad_female\n"
     ]
    },
    {
     "name": "stderr",
     "output_type": "stream",
     "text": [
      "/var/folders/7h/3y0jb5yx0g399b2y_qtq_db80000gn/T/ipykernel_26966/1257479974.py:14: FutureWarning: Pass y=[ 1.3483265e-07 -1.7899600e-07  2.2638447e-07 ...  0.0000000e+00\n",
      "  0.0000000e+00  0.0000000e+00] as keyword args. From version 0.10 passing these as positional arguments will result in an error\n",
      "  mel=np.mean(librosa.feature.melspectrogram(data, sr=sample_rate).T,axis=0)\n"
     ]
    },
    {
     "name": "stdout",
     "output_type": "stream",
     "text": [
      "1008\n",
      "disgust_female\n"
     ]
    },
    {
     "name": "stderr",
     "output_type": "stream",
     "text": [
      "/var/folders/7h/3y0jb5yx0g399b2y_qtq_db80000gn/T/ipykernel_26966/1257479974.py:14: FutureWarning: Pass y=[ 1.0749483e-06 -1.4485233e-06  1.9302729e-06 ... -2.0584859e-05\n",
      " -5.3122230e-06  0.0000000e+00] as keyword args. From version 0.10 passing these as positional arguments will result in an error\n",
      "  mel=np.mean(librosa.feature.melspectrogram(data, sr=sample_rate).T,axis=0)\n"
     ]
    },
    {
     "name": "stdout",
     "output_type": "stream",
     "text": [
      "1009\n",
      "disgust_female\n"
     ]
    },
    {
     "name": "stderr",
     "output_type": "stream",
     "text": [
      "/var/folders/7h/3y0jb5yx0g399b2y_qtq_db80000gn/T/ipykernel_26966/1257479974.py:14: FutureWarning: Pass y=[ 1.5208038e-05  1.3895911e-05 -1.0352610e-06 ... -2.6836717e-06\n",
      "  1.0488441e-05  0.0000000e+00] as keyword args. From version 0.10 passing these as positional arguments will result in an error\n",
      "  mel=np.mean(librosa.feature.melspectrogram(data, sr=sample_rate).T,axis=0)\n"
     ]
    },
    {
     "name": "stdout",
     "output_type": "stream",
     "text": [
      "1010\n",
      "sad_female\n"
     ]
    },
    {
     "name": "stderr",
     "output_type": "stream",
     "text": [
      "/var/folders/7h/3y0jb5yx0g399b2y_qtq_db80000gn/T/ipykernel_26966/1257479974.py:14: FutureWarning: Pass y=[ 2.8271353e-07 -4.0021527e-07  5.4503039e-07 ...  3.1598105e-07\n",
      " -3.9484073e-07  0.0000000e+00] as keyword args. From version 0.10 passing these as positional arguments will result in an error\n",
      "  mel=np.mean(librosa.feature.melspectrogram(data, sr=sample_rate).T,axis=0)\n"
     ]
    },
    {
     "name": "stdout",
     "output_type": "stream",
     "text": [
      "1011\n",
      "fearful_female\n"
     ]
    },
    {
     "name": "stderr",
     "output_type": "stream",
     "text": [
      "/var/folders/7h/3y0jb5yx0g399b2y_qtq_db80000gn/T/ipykernel_26966/1257479974.py:14: FutureWarning: Pass y=[ 2.7199268e-10 -6.4912709e-10  1.1768364e-09 ...  1.3892484e-05\n",
      " -1.6575007e-06  0.0000000e+00] as keyword args. From version 0.10 passing these as positional arguments will result in an error\n",
      "  mel=np.mean(librosa.feature.melspectrogram(data, sr=sample_rate).T,axis=0)\n"
     ]
    },
    {
     "name": "stdout",
     "output_type": "stream",
     "text": [
      "1012\n",
      "angry_female\n",
      "1013\n",
      "angry_female\n",
      "1014\n",
      "fearful_female\n",
      "1015\n",
      "surprised_female\n"
     ]
    },
    {
     "name": "stderr",
     "output_type": "stream",
     "text": [
      "/var/folders/7h/3y0jb5yx0g399b2y_qtq_db80000gn/T/ipykernel_26966/1257479974.py:14: FutureWarning: Pass y=[ 0.0000000e+00  0.0000000e+00  0.0000000e+00 ...  8.2311074e-09\n",
      " -6.2332774e-09  0.0000000e+00] as keyword args. From version 0.10 passing these as positional arguments will result in an error\n",
      "  mel=np.mean(librosa.feature.melspectrogram(data, sr=sample_rate).T,axis=0)\n",
      "/var/folders/7h/3y0jb5yx0g399b2y_qtq_db80000gn/T/ipykernel_26966/1257479974.py:14: FutureWarning: Pass y=[-1.7372402e-07  2.5063540e-07 -3.3930343e-07 ...  2.5117481e-06\n",
      " -1.2939822e-06  0.0000000e+00] as keyword args. From version 0.10 passing these as positional arguments will result in an error\n",
      "  mel=np.mean(librosa.feature.melspectrogram(data, sr=sample_rate).T,axis=0)\n"
     ]
    },
    {
     "name": "stdout",
     "output_type": "stream",
     "text": [
      "1016\n",
      "surprised_female\n"
     ]
    },
    {
     "name": "stderr",
     "output_type": "stream",
     "text": [
      "/var/folders/7h/3y0jb5yx0g399b2y_qtq_db80000gn/T/ipykernel_26966/1257479974.py:14: FutureWarning: Pass y=[ 0.0000000e+00  0.0000000e+00  0.0000000e+00 ...  7.3046862e-09\n",
      " -2.1898867e-08  0.0000000e+00] as keyword args. From version 0.10 passing these as positional arguments will result in an error\n",
      "  mel=np.mean(librosa.feature.melspectrogram(data, sr=sample_rate).T,axis=0)\n",
      "/var/folders/7h/3y0jb5yx0g399b2y_qtq_db80000gn/T/ipykernel_26966/1257479974.py:14: FutureWarning: Pass y=[0.0000000e+00 0.0000000e+00 0.0000000e+00 ... 1.9711366e-05 2.1887956e-05\n",
      " 0.0000000e+00] as keyword args. From version 0.10 passing these as positional arguments will result in an error\n",
      "  mel=np.mean(librosa.feature.melspectrogram(data, sr=sample_rate).T,axis=0)\n"
     ]
    },
    {
     "name": "stdout",
     "output_type": "stream",
     "text": [
      "1017\n",
      "neutral_female\n",
      "1018\n",
      "calm_female\n"
     ]
    },
    {
     "name": "stderr",
     "output_type": "stream",
     "text": [
      "/var/folders/7h/3y0jb5yx0g399b2y_qtq_db80000gn/T/ipykernel_26966/1257479974.py:14: FutureWarning: Pass y=[0.000000e+00 0.000000e+00 0.000000e+00 ... 3.877782e-06 3.839219e-06\n",
      " 0.000000e+00] as keyword args. From version 0.10 passing these as positional arguments will result in an error\n",
      "  mel=np.mean(librosa.feature.melspectrogram(data, sr=sample_rate).T,axis=0)\n"
     ]
    },
    {
     "name": "stdout",
     "output_type": "stream",
     "text": [
      "1019\n",
      "calm_female\n"
     ]
    },
    {
     "name": "stderr",
     "output_type": "stream",
     "text": [
      "/var/folders/7h/3y0jb5yx0g399b2y_qtq_db80000gn/T/ipykernel_26966/1257479974.py:14: FutureWarning: Pass y=[ 1.4001510e-11 -2.5940250e-11  4.4368297e-11 ... -7.1115657e-08\n",
      "  6.7715959e-08  0.0000000e+00] as keyword args. From version 0.10 passing these as positional arguments will result in an error\n",
      "  mel=np.mean(librosa.feature.melspectrogram(data, sr=sample_rate).T,axis=0)\n"
     ]
    },
    {
     "name": "stdout",
     "output_type": "stream",
     "text": [
      "1020\n",
      "happy_female\n"
     ]
    },
    {
     "name": "stderr",
     "output_type": "stream",
     "text": [
      "/var/folders/7h/3y0jb5yx0g399b2y_qtq_db80000gn/T/ipykernel_26966/1257479974.py:14: FutureWarning: Pass y=[-3.9638000e-09  4.6123327e-09 -5.1404183e-09 ... -1.6843335e-07\n",
      "  2.2716112e-07  0.0000000e+00] as keyword args. From version 0.10 passing these as positional arguments will result in an error\n",
      "  mel=np.mean(librosa.feature.melspectrogram(data, sr=sample_rate).T,axis=0)\n"
     ]
    },
    {
     "name": "stdout",
     "output_type": "stream",
     "text": [
      "1021\n",
      "happy_female\n",
      "1022\n",
      "surprised_female\n"
     ]
    },
    {
     "name": "stderr",
     "output_type": "stream",
     "text": [
      "/var/folders/7h/3y0jb5yx0g399b2y_qtq_db80000gn/T/ipykernel_26966/1257479974.py:14: FutureWarning: Pass y=[ 0.0000000e+00  0.0000000e+00  0.0000000e+00 ...  3.9925635e-06\n",
      " -2.9194414e-06  0.0000000e+00] as keyword args. From version 0.10 passing these as positional arguments will result in an error\n",
      "  mel=np.mean(librosa.feature.melspectrogram(data, sr=sample_rate).T,axis=0)\n"
     ]
    },
    {
     "name": "stdout",
     "output_type": "stream",
     "text": [
      "1023\n",
      "surprised_female\n"
     ]
    },
    {
     "name": "stderr",
     "output_type": "stream",
     "text": [
      "/var/folders/7h/3y0jb5yx0g399b2y_qtq_db80000gn/T/ipykernel_26966/1257479974.py:14: FutureWarning: Pass y=[ 0.0000000e+00  0.0000000e+00  0.0000000e+00 ... -1.3879955e-05\n",
      " -4.0337159e-07  0.0000000e+00] as keyword args. From version 0.10 passing these as positional arguments will result in an error\n",
      "  mel=np.mean(librosa.feature.melspectrogram(data, sr=sample_rate).T,axis=0)\n"
     ]
    },
    {
     "name": "stdout",
     "output_type": "stream",
     "text": [
      "1024\n",
      "sad_female\n"
     ]
    },
    {
     "name": "stderr",
     "output_type": "stream",
     "text": [
      "/var/folders/7h/3y0jb5yx0g399b2y_qtq_db80000gn/T/ipykernel_26966/1257479974.py:14: FutureWarning: Pass y=[ 0.0000000e+00  0.0000000e+00  0.0000000e+00 ...  2.2279587e-06\n",
      " -1.5669121e-06  0.0000000e+00] as keyword args. From version 0.10 passing these as positional arguments will result in an error\n",
      "  mel=np.mean(librosa.feature.melspectrogram(data, sr=sample_rate).T,axis=0)\n"
     ]
    },
    {
     "name": "stdout",
     "output_type": "stream",
     "text": [
      "1025\n",
      "disgust_female\n"
     ]
    },
    {
     "name": "stderr",
     "output_type": "stream",
     "text": [
      "/var/folders/7h/3y0jb5yx0g399b2y_qtq_db80000gn/T/ipykernel_26966/1257479974.py:14: FutureWarning: Pass y=[ 0.0000000e+00  0.0000000e+00  0.0000000e+00 ... -3.3337637e-06\n",
      "  2.4032947e-06  0.0000000e+00] as keyword args. From version 0.10 passing these as positional arguments will result in an error\n",
      "  mel=np.mean(librosa.feature.melspectrogram(data, sr=sample_rate).T,axis=0)\n"
     ]
    },
    {
     "name": "stdout",
     "output_type": "stream",
     "text": [
      "1026\n",
      "disgust_female\n"
     ]
    },
    {
     "name": "stderr",
     "output_type": "stream",
     "text": [
      "/var/folders/7h/3y0jb5yx0g399b2y_qtq_db80000gn/T/ipykernel_26966/1257479974.py:14: FutureWarning: Pass y=[ 0.0000000e+00  0.0000000e+00  0.0000000e+00 ...  2.6589257e-07\n",
      " -2.2223333e-07  0.0000000e+00] as keyword args. From version 0.10 passing these as positional arguments will result in an error\n",
      "  mel=np.mean(librosa.feature.melspectrogram(data, sr=sample_rate).T,axis=0)\n",
      "/var/folders/7h/3y0jb5yx0g399b2y_qtq_db80000gn/T/ipykernel_26966/1257479974.py:14: FutureWarning: Pass y=[ 0.0000000e+00  0.0000000e+00  0.0000000e+00 ... -7.0795573e-07\n",
      "  5.7029962e-07  0.0000000e+00] as keyword args. From version 0.10 passing these as positional arguments will result in an error\n",
      "  mel=np.mean(librosa.feature.melspectrogram(data, sr=sample_rate).T,axis=0)\n"
     ]
    },
    {
     "name": "stdout",
     "output_type": "stream",
     "text": [
      "1027\n",
      "sad_female\n",
      "1028\n",
      "fearful_female\n",
      "1029\n",
      "angry_female\n"
     ]
    },
    {
     "name": "stderr",
     "output_type": "stream",
     "text": [
      "/var/folders/7h/3y0jb5yx0g399b2y_qtq_db80000gn/T/ipykernel_26966/1257479974.py:14: FutureWarning: Pass y=[ 0.0000000e+00  0.0000000e+00  0.0000000e+00 ...  5.0913474e-08\n",
      " -4.4298474e-08  0.0000000e+00] as keyword args. From version 0.10 passing these as positional arguments will result in an error\n",
      "  mel=np.mean(librosa.feature.melspectrogram(data, sr=sample_rate).T,axis=0)\n",
      "/var/folders/7h/3y0jb5yx0g399b2y_qtq_db80000gn/T/ipykernel_26966/1257479974.py:14: FutureWarning: Pass y=[ 0.000000e+00  0.000000e+00  0.000000e+00 ... -5.855845e-07  4.527201e-07\n",
      "  0.000000e+00] as keyword args. From version 0.10 passing these as positional arguments will result in an error\n",
      "  mel=np.mean(librosa.feature.melspectrogram(data, sr=sample_rate).T,axis=0)\n"
     ]
    },
    {
     "name": "stdout",
     "output_type": "stream",
     "text": [
      "1030\n",
      "angry_female\n"
     ]
    },
    {
     "name": "stderr",
     "output_type": "stream",
     "text": [
      "/var/folders/7h/3y0jb5yx0g399b2y_qtq_db80000gn/T/ipykernel_26966/1257479974.py:14: FutureWarning: Pass y=[ 3.8538750e-09 -4.0140713e-09  3.8655417e-09 ...  3.2620919e-05\n",
      "  1.8138400e-05  0.0000000e+00] as keyword args. From version 0.10 passing these as positional arguments will result in an error\n",
      "  mel=np.mean(librosa.feature.melspectrogram(data, sr=sample_rate).T,axis=0)\n",
      "/var/folders/7h/3y0jb5yx0g399b2y_qtq_db80000gn/T/ipykernel_26966/1257479974.py:14: FutureWarning: Pass y=[ 0.0000000e+00  0.0000000e+00  0.0000000e+00 ... -1.0924919e-05\n",
      "  1.5789626e-06  0.0000000e+00] as keyword args. From version 0.10 passing these as positional arguments will result in an error\n",
      "  mel=np.mean(librosa.feature.melspectrogram(data, sr=sample_rate).T,axis=0)\n"
     ]
    },
    {
     "name": "stdout",
     "output_type": "stream",
     "text": [
      "1031\n",
      "fearful_female\n",
      "1032\n",
      "neutral_female\n"
     ]
    },
    {
     "name": "stderr",
     "output_type": "stream",
     "text": [
      "/var/folders/7h/3y0jb5yx0g399b2y_qtq_db80000gn/T/ipykernel_26966/1257479974.py:14: FutureWarning: Pass y=[ 0.0000000e+00  0.0000000e+00  0.0000000e+00 ... -3.2639593e-06\n",
      "  2.2568020e-06  0.0000000e+00] as keyword args. From version 0.10 passing these as positional arguments will result in an error\n",
      "  mel=np.mean(librosa.feature.melspectrogram(data, sr=sample_rate).T,axis=0)\n",
      "/var/folders/7h/3y0jb5yx0g399b2y_qtq_db80000gn/T/ipykernel_26966/1257479974.py:14: FutureWarning: Pass y=[ 0.0000000e+00  0.0000000e+00  0.0000000e+00 ... -1.5095845e-05\n",
      "  1.6827353e-07  0.0000000e+00] as keyword args. From version 0.10 passing these as positional arguments will result in an error\n",
      "  mel=np.mean(librosa.feature.melspectrogram(data, sr=sample_rate).T,axis=0)\n"
     ]
    },
    {
     "name": "stdout",
     "output_type": "stream",
     "text": [
      "1033\n",
      "calm_female\n",
      "1034\n",
      "calm_female\n"
     ]
    },
    {
     "name": "stderr",
     "output_type": "stream",
     "text": [
      "/var/folders/7h/3y0jb5yx0g399b2y_qtq_db80000gn/T/ipykernel_26966/1257479974.py:14: FutureWarning: Pass y=[ 0.000000e+00  0.000000e+00  0.000000e+00 ... -8.562774e-08  3.241639e-08\n",
      "  0.000000e+00] as keyword args. From version 0.10 passing these as positional arguments will result in an error\n",
      "  mel=np.mean(librosa.feature.melspectrogram(data, sr=sample_rate).T,axis=0)\n"
     ]
    },
    {
     "name": "stdout",
     "output_type": "stream",
     "text": [
      "1035\n",
      "happy_female\n"
     ]
    },
    {
     "name": "stderr",
     "output_type": "stream",
     "text": [
      "/var/folders/7h/3y0jb5yx0g399b2y_qtq_db80000gn/T/ipykernel_26966/1257479974.py:14: FutureWarning: Pass y=[ 0.0000000e+00  0.0000000e+00  0.0000000e+00 ... -1.1421933e-05\n",
      "  3.0947583e-06  0.0000000e+00] as keyword args. From version 0.10 passing these as positional arguments will result in an error\n",
      "  mel=np.mean(librosa.feature.melspectrogram(data, sr=sample_rate).T,axis=0)\n"
     ]
    },
    {
     "name": "stdout",
     "output_type": "stream",
     "text": [
      "1036\n",
      "happy_female\n"
     ]
    },
    {
     "name": "stderr",
     "output_type": "stream",
     "text": [
      "/var/folders/7h/3y0jb5yx0g399b2y_qtq_db80000gn/T/ipykernel_26966/1257479974.py:14: FutureWarning: Pass y=[ 0.000000e+00  0.000000e+00  0.000000e+00 ...  7.519859e-07 -9.544124e-07\n",
      "  0.000000e+00] as keyword args. From version 0.10 passing these as positional arguments will result in an error\n",
      "  mel=np.mean(librosa.feature.melspectrogram(data, sr=sample_rate).T,axis=0)\n",
      "/var/folders/7h/3y0jb5yx0g399b2y_qtq_db80000gn/T/ipykernel_26966/1257479974.py:14: FutureWarning: Pass y=[ 0.0000000e+00  0.0000000e+00  0.0000000e+00 ...  4.2308076e-07\n",
      " -4.4220650e-07  0.0000000e+00] as keyword args. From version 0.10 passing these as positional arguments will result in an error\n",
      "  mel=np.mean(librosa.feature.melspectrogram(data, sr=sample_rate).T,axis=0)\n"
     ]
    },
    {
     "name": "stdout",
     "output_type": "stream",
     "text": [
      "1037\n",
      "calm_female\n",
      "1038\n",
      "neutral_female\n",
      "1039\n",
      "calm_female\n"
     ]
    },
    {
     "name": "stderr",
     "output_type": "stream",
     "text": [
      "/var/folders/7h/3y0jb5yx0g399b2y_qtq_db80000gn/T/ipykernel_26966/1257479974.py:14: FutureWarning: Pass y=[0.0000000e+00 0.0000000e+00 0.0000000e+00 ... 1.6214408e-05 3.9276936e-05\n",
      " 0.0000000e+00] as keyword args. From version 0.10 passing these as positional arguments will result in an error\n",
      "  mel=np.mean(librosa.feature.melspectrogram(data, sr=sample_rate).T,axis=0)\n",
      "/var/folders/7h/3y0jb5yx0g399b2y_qtq_db80000gn/T/ipykernel_26966/1257479974.py:14: FutureWarning: Pass y=[0.0000000e+00 0.0000000e+00 0.0000000e+00 ... 6.7890169e-06 2.1271683e-06\n",
      " 0.0000000e+00] as keyword args. From version 0.10 passing these as positional arguments will result in an error\n",
      "  mel=np.mean(librosa.feature.melspectrogram(data, sr=sample_rate).T,axis=0)\n",
      "/var/folders/7h/3y0jb5yx0g399b2y_qtq_db80000gn/T/ipykernel_26966/1257479974.py:14: FutureWarning: Pass y=[0.0000000e+00 0.0000000e+00 0.0000000e+00 ... 2.1112712e-05 8.0717546e-06\n",
      " 0.0000000e+00] as keyword args. From version 0.10 passing these as positional arguments will result in an error\n",
      "  mel=np.mean(librosa.feature.melspectrogram(data, sr=sample_rate).T,axis=0)\n"
     ]
    },
    {
     "name": "stdout",
     "output_type": "stream",
     "text": [
      "1040\n",
      "happy_female\n",
      "1041\n",
      "happy_female\n"
     ]
    },
    {
     "name": "stderr",
     "output_type": "stream",
     "text": [
      "/var/folders/7h/3y0jb5yx0g399b2y_qtq_db80000gn/T/ipykernel_26966/1257479974.py:14: FutureWarning: Pass y=[ 0.0000000e+00  0.0000000e+00  0.0000000e+00 ... -1.3657215e-05\n",
      "  9.4667630e-06  0.0000000e+00] as keyword args. From version 0.10 passing these as positional arguments will result in an error\n",
      "  mel=np.mean(librosa.feature.melspectrogram(data, sr=sample_rate).T,axis=0)\n",
      "/var/folders/7h/3y0jb5yx0g399b2y_qtq_db80000gn/T/ipykernel_26966/1257479974.py:14: FutureWarning: Pass y=[ 0.0000000e+00  0.0000000e+00  0.0000000e+00 ...  3.4373084e-11\n",
      " -2.9047773e-10  0.0000000e+00] as keyword args. From version 0.10 passing these as positional arguments will result in an error\n",
      "  mel=np.mean(librosa.feature.melspectrogram(data, sr=sample_rate).T,axis=0)\n"
     ]
    },
    {
     "name": "stdout",
     "output_type": "stream",
     "text": [
      "1042\n",
      "surprised_female\n",
      "1043\n",
      "surprised_female\n"
     ]
    },
    {
     "name": "stderr",
     "output_type": "stream",
     "text": [
      "/var/folders/7h/3y0jb5yx0g399b2y_qtq_db80000gn/T/ipykernel_26966/1257479974.py:14: FutureWarning: Pass y=[ 0.0000000e+00  0.0000000e+00  0.0000000e+00 ...  2.6415316e-08\n",
      " -2.6053533e-08  0.0000000e+00] as keyword args. From version 0.10 passing these as positional arguments will result in an error\n",
      "  mel=np.mean(librosa.feature.melspectrogram(data, sr=sample_rate).T,axis=0)\n"
     ]
    },
    {
     "name": "stdout",
     "output_type": "stream",
     "text": [
      "1044\n",
      "disgust_female\n"
     ]
    },
    {
     "name": "stderr",
     "output_type": "stream",
     "text": [
      "/var/folders/7h/3y0jb5yx0g399b2y_qtq_db80000gn/T/ipykernel_26966/1257479974.py:14: FutureWarning: Pass y=[ 0.0000000e+00  0.0000000e+00  0.0000000e+00 ... -1.7193039e-06\n",
      " -2.3743525e-05  0.0000000e+00] as keyword args. From version 0.10 passing these as positional arguments will result in an error\n",
      "  mel=np.mean(librosa.feature.melspectrogram(data, sr=sample_rate).T,axis=0)\n"
     ]
    },
    {
     "name": "stdout",
     "output_type": "stream",
     "text": [
      "1045\n",
      "sad_female\n"
     ]
    },
    {
     "name": "stderr",
     "output_type": "stream",
     "text": [
      "/var/folders/7h/3y0jb5yx0g399b2y_qtq_db80000gn/T/ipykernel_26966/1257479974.py:14: FutureWarning: Pass y=[ 1.4434094e-08 -1.4879554e-08  1.4409941e-08 ... -1.1429979e-06\n",
      "  9.8054340e-07  0.0000000e+00] as keyword args. From version 0.10 passing these as positional arguments will result in an error\n",
      "  mel=np.mean(librosa.feature.melspectrogram(data, sr=sample_rate).T,axis=0)\n"
     ]
    },
    {
     "name": "stdout",
     "output_type": "stream",
     "text": [
      "1046\n",
      "sad_female\n"
     ]
    },
    {
     "name": "stderr",
     "output_type": "stream",
     "text": [
      "/var/folders/7h/3y0jb5yx0g399b2y_qtq_db80000gn/T/ipykernel_26966/1257479974.py:14: FutureWarning: Pass y=[ 0.0000000e+00  0.0000000e+00  0.0000000e+00 ... -5.0822615e-07\n",
      "  5.3469915e-07  0.0000000e+00] as keyword args. From version 0.10 passing these as positional arguments will result in an error\n",
      "  mel=np.mean(librosa.feature.melspectrogram(data, sr=sample_rate).T,axis=0)\n"
     ]
    },
    {
     "name": "stdout",
     "output_type": "stream",
     "text": [
      "1047\n",
      "disgust_female\n",
      "1048\n",
      "angry_female\n"
     ]
    },
    {
     "name": "stderr",
     "output_type": "stream",
     "text": [
      "/var/folders/7h/3y0jb5yx0g399b2y_qtq_db80000gn/T/ipykernel_26966/1257479974.py:14: FutureWarning: Pass y=[ 0.0000000e+00  0.0000000e+00  0.0000000e+00 ... -1.7979535e-05\n",
      " -2.3678243e-05  0.0000000e+00] as keyword args. From version 0.10 passing these as positional arguments will result in an error\n",
      "  mel=np.mean(librosa.feature.melspectrogram(data, sr=sample_rate).T,axis=0)\n",
      "/var/folders/7h/3y0jb5yx0g399b2y_qtq_db80000gn/T/ipykernel_26966/1257479974.py:14: FutureWarning: Pass y=[ 0.0000000e+00  0.0000000e+00  0.0000000e+00 ... -1.2981832e-08\n",
      "  4.7850744e-08  0.0000000e+00] as keyword args. From version 0.10 passing these as positional arguments will result in an error\n",
      "  mel=np.mean(librosa.feature.melspectrogram(data, sr=sample_rate).T,axis=0)\n"
     ]
    },
    {
     "name": "stdout",
     "output_type": "stream",
     "text": [
      "1049\n",
      "fearful_female\n",
      "1050\n",
      "fearful_female\n"
     ]
    },
    {
     "name": "stderr",
     "output_type": "stream",
     "text": [
      "/var/folders/7h/3y0jb5yx0g399b2y_qtq_db80000gn/T/ipykernel_26966/1257479974.py:14: FutureWarning: Pass y=[ 0.0000000e+00  0.0000000e+00  0.0000000e+00 ...  2.1011999e-06\n",
      " -1.2109261e-05  0.0000000e+00] as keyword args. From version 0.10 passing these as positional arguments will result in an error\n",
      "  mel=np.mean(librosa.feature.melspectrogram(data, sr=sample_rate).T,axis=0)\n"
     ]
    },
    {
     "name": "stdout",
     "output_type": "stream",
     "text": [
      "1051\n",
      "angry_female\n"
     ]
    },
    {
     "name": "stderr",
     "output_type": "stream",
     "text": [
      "/var/folders/7h/3y0jb5yx0g399b2y_qtq_db80000gn/T/ipykernel_26966/1257479974.py:14: FutureWarning: Pass y=[ 0.0000000e+00  0.0000000e+00  0.0000000e+00 ...  5.3606709e-07\n",
      " -4.4353774e-07  0.0000000e+00] as keyword args. From version 0.10 passing these as positional arguments will result in an error\n",
      "  mel=np.mean(librosa.feature.melspectrogram(data, sr=sample_rate).T,axis=0)\n"
     ]
    },
    {
     "name": "stdout",
     "output_type": "stream",
     "text": [
      "1052\n",
      "happy_female\n"
     ]
    },
    {
     "name": "stderr",
     "output_type": "stream",
     "text": [
      "/var/folders/7h/3y0jb5yx0g399b2y_qtq_db80000gn/T/ipykernel_26966/1257479974.py:14: FutureWarning: Pass y=[ 0.0000000e+00  0.0000000e+00  0.0000000e+00 ...  3.0135688e-08\n",
      " -1.5291995e-06  0.0000000e+00] as keyword args. From version 0.10 passing these as positional arguments will result in an error\n",
      "  mel=np.mean(librosa.feature.melspectrogram(data, sr=sample_rate).T,axis=0)\n"
     ]
    },
    {
     "name": "stdout",
     "output_type": "stream",
     "text": [
      "1053\n",
      "happy_female\n"
     ]
    },
    {
     "name": "stderr",
     "output_type": "stream",
     "text": [
      "/var/folders/7h/3y0jb5yx0g399b2y_qtq_db80000gn/T/ipykernel_26966/1257479974.py:14: FutureWarning: Pass y=[2.2993841e-05 8.7861290e-06 2.3158509e-05 ... 3.7180449e-05 1.1118421e-05\n",
      " 0.0000000e+00] as keyword args. From version 0.10 passing these as positional arguments will result in an error\n",
      "  mel=np.mean(librosa.feature.melspectrogram(data, sr=sample_rate).T,axis=0)\n"
     ]
    },
    {
     "name": "stdout",
     "output_type": "stream",
     "text": [
      "1054\n",
      "calm_female\n"
     ]
    },
    {
     "name": "stderr",
     "output_type": "stream",
     "text": [
      "/var/folders/7h/3y0jb5yx0g399b2y_qtq_db80000gn/T/ipykernel_26966/1257479974.py:14: FutureWarning: Pass y=[ 0.00000000e+00  0.00000000e+00  0.00000000e+00 ... -1.25781000e-07\n",
      "  1.13920066e-07  0.00000000e+00] as keyword args. From version 0.10 passing these as positional arguments will result in an error\n",
      "  mel=np.mean(librosa.feature.melspectrogram(data, sr=sample_rate).T,axis=0)\n",
      "/var/folders/7h/3y0jb5yx0g399b2y_qtq_db80000gn/T/ipykernel_26966/1257479974.py:14: FutureWarning: Pass y=[ 0.0000000e+00  0.0000000e+00  0.0000000e+00 ...  1.9028104e-07\n",
      " -1.7415627e-07  0.0000000e+00] as keyword args. From version 0.10 passing these as positional arguments will result in an error\n",
      "  mel=np.mean(librosa.feature.melspectrogram(data, sr=sample_rate).T,axis=0)\n"
     ]
    },
    {
     "name": "stdout",
     "output_type": "stream",
     "text": [
      "1055\n",
      "calm_female\n",
      "1056\n",
      "neutral_female\n",
      "1057\n",
      "surprised_female\n"
     ]
    },
    {
     "name": "stderr",
     "output_type": "stream",
     "text": [
      "/var/folders/7h/3y0jb5yx0g399b2y_qtq_db80000gn/T/ipykernel_26966/1257479974.py:14: FutureWarning: Pass y=[ 0.0000000e+00  0.0000000e+00  0.0000000e+00 ...  1.5293414e-06\n",
      " -8.9405910e-07  0.0000000e+00] as keyword args. From version 0.10 passing these as positional arguments will result in an error\n",
      "  mel=np.mean(librosa.feature.melspectrogram(data, sr=sample_rate).T,axis=0)\n"
     ]
    },
    {
     "name": "stdout",
     "output_type": "stream",
     "text": [
      "1058\n",
      "surprised_female\n"
     ]
    },
    {
     "name": "stderr",
     "output_type": "stream",
     "text": [
      "/var/folders/7h/3y0jb5yx0g399b2y_qtq_db80000gn/T/ipykernel_26966/1257479974.py:14: FutureWarning: Pass y=[ 0.0000000e+00  0.0000000e+00  0.0000000e+00 ...  9.4264851e-06\n",
      " -4.3021155e-06  0.0000000e+00] as keyword args. From version 0.10 passing these as positional arguments will result in an error\n",
      "  mel=np.mean(librosa.feature.melspectrogram(data, sr=sample_rate).T,axis=0)\n",
      "/var/folders/7h/3y0jb5yx0g399b2y_qtq_db80000gn/T/ipykernel_26966/1257479974.py:14: FutureWarning: Pass y=[-8.6071236e-07  2.0573507e-06 -1.1365033e-05 ...  4.6901150e-05\n",
      "  4.1344909e-05  0.0000000e+00] as keyword args. From version 0.10 passing these as positional arguments will result in an error\n",
      "  mel=np.mean(librosa.feature.melspectrogram(data, sr=sample_rate).T,axis=0)\n"
     ]
    },
    {
     "name": "stdout",
     "output_type": "stream",
     "text": [
      "1059\n",
      "fearful_female\n",
      "1060\n",
      "angry_female\n"
     ]
    },
    {
     "name": "stderr",
     "output_type": "stream",
     "text": [
      "/var/folders/7h/3y0jb5yx0g399b2y_qtq_db80000gn/T/ipykernel_26966/1257479974.py:14: FutureWarning: Pass y=[ 0.0000000e+00  0.0000000e+00  0.0000000e+00 ...  4.4009467e-09\n",
      " -4.4797028e-09  0.0000000e+00] as keyword args. From version 0.10 passing these as positional arguments will result in an error\n",
      "  mel=np.mean(librosa.feature.melspectrogram(data, sr=sample_rate).T,axis=0)\n"
     ]
    },
    {
     "name": "stdout",
     "output_type": "stream",
     "text": [
      "1061\n",
      "angry_female\n",
      "1062\n",
      "fearful_female\n",
      "1063\n",
      "sad_female\n"
     ]
    },
    {
     "name": "stderr",
     "output_type": "stream",
     "text": [
      "/var/folders/7h/3y0jb5yx0g399b2y_qtq_db80000gn/T/ipykernel_26966/1257479974.py:14: FutureWarning: Pass y=[ 0.0000000e+00  0.0000000e+00  0.0000000e+00 ... -1.2720693e-05\n",
      " -3.7433977e-06  0.0000000e+00] as keyword args. From version 0.10 passing these as positional arguments will result in an error\n",
      "  mel=np.mean(librosa.feature.melspectrogram(data, sr=sample_rate).T,axis=0)\n",
      "/var/folders/7h/3y0jb5yx0g399b2y_qtq_db80000gn/T/ipykernel_26966/1257479974.py:14: FutureWarning: Pass y=[ 0.0000000e+00  0.0000000e+00  0.0000000e+00 ... -8.3286153e-07\n",
      "  7.1053768e-07  0.0000000e+00] as keyword args. From version 0.10 passing these as positional arguments will result in an error\n",
      "  mel=np.mean(librosa.feature.melspectrogram(data, sr=sample_rate).T,axis=0)\n",
      "/var/folders/7h/3y0jb5yx0g399b2y_qtq_db80000gn/T/ipykernel_26966/1257479974.py:14: FutureWarning: Pass y=[ 0.0000000e+00  0.0000000e+00  0.0000000e+00 ... -3.2560629e-06\n",
      " -4.3564874e-06  0.0000000e+00] as keyword args. From version 0.10 passing these as positional arguments will result in an error\n",
      "  mel=np.mean(librosa.feature.melspectrogram(data, sr=sample_rate).T,axis=0)\n"
     ]
    },
    {
     "name": "stdout",
     "output_type": "stream",
     "text": [
      "1064\n",
      "disgust_female\n",
      "1065\n",
      "disgust_female\n"
     ]
    },
    {
     "name": "stderr",
     "output_type": "stream",
     "text": [
      "/var/folders/7h/3y0jb5yx0g399b2y_qtq_db80000gn/T/ipykernel_26966/1257479974.py:14: FutureWarning: Pass y=[0.000000e+00 0.000000e+00 0.000000e+00 ... 6.775187e-13 0.000000e+00\n",
      " 0.000000e+00] as keyword args. From version 0.10 passing these as positional arguments will result in an error\n",
      "  mel=np.mean(librosa.feature.melspectrogram(data, sr=sample_rate).T,axis=0)\n"
     ]
    },
    {
     "name": "stdout",
     "output_type": "stream",
     "text": [
      "1066\n",
      "sad_female\n"
     ]
    },
    {
     "name": "stderr",
     "output_type": "stream",
     "text": [
      "/var/folders/7h/3y0jb5yx0g399b2y_qtq_db80000gn/T/ipykernel_26966/1257479974.py:14: FutureWarning: Pass y=[0.0000000e+00 0.0000000e+00 0.0000000e+00 ... 1.3062568e-05 2.1769652e-06\n",
      " 0.0000000e+00] as keyword args. From version 0.10 passing these as positional arguments will result in an error\n",
      "  mel=np.mean(librosa.feature.melspectrogram(data, sr=sample_rate).T,axis=0)\n"
     ]
    },
    {
     "name": "stdout",
     "output_type": "stream",
     "text": [
      "1067\n",
      "surprised_female\n"
     ]
    },
    {
     "name": "stderr",
     "output_type": "stream",
     "text": [
      "/var/folders/7h/3y0jb5yx0g399b2y_qtq_db80000gn/T/ipykernel_26966/1257479974.py:14: FutureWarning: Pass y=[ 0.0000000e+00  0.0000000e+00  0.0000000e+00 ... -2.4344936e-07\n",
      "  2.4371670e-06  0.0000000e+00] as keyword args. From version 0.10 passing these as positional arguments will result in an error\n",
      "  mel=np.mean(librosa.feature.melspectrogram(data, sr=sample_rate).T,axis=0)\n",
      "/var/folders/7h/3y0jb5yx0g399b2y_qtq_db80000gn/T/ipykernel_26966/1257479974.py:14: FutureWarning: Pass y=[ 0.0000000e+00  0.0000000e+00  0.0000000e+00 ... -2.5849986e-06\n",
      "  1.4160548e-06  0.0000000e+00] as keyword args. From version 0.10 passing these as positional arguments will result in an error\n",
      "  mel=np.mean(librosa.feature.melspectrogram(data, sr=sample_rate).T,axis=0)\n"
     ]
    },
    {
     "name": "stdout",
     "output_type": "stream",
     "text": [
      "1068\n",
      "surprised_female\n",
      "1069\n",
      "angry_female\n"
     ]
    },
    {
     "name": "stderr",
     "output_type": "stream",
     "text": [
      "/var/folders/7h/3y0jb5yx0g399b2y_qtq_db80000gn/T/ipykernel_26966/1257479974.py:14: FutureWarning: Pass y=[0.0000000e+00 0.0000000e+00 0.0000000e+00 ... 1.3507754e-05 2.7146982e-06\n",
      " 0.0000000e+00] as keyword args. From version 0.10 passing these as positional arguments will result in an error\n",
      "  mel=np.mean(librosa.feature.melspectrogram(data, sr=sample_rate).T,axis=0)\n",
      "/var/folders/7h/3y0jb5yx0g399b2y_qtq_db80000gn/T/ipykernel_26966/1257479974.py:14: FutureWarning: Pass y=[ 0.000000e+00  0.000000e+00  0.000000e+00 ... -1.087377e-08  6.019160e-09\n",
      "  0.000000e+00] as keyword args. From version 0.10 passing these as positional arguments will result in an error\n",
      "  mel=np.mean(librosa.feature.melspectrogram(data, sr=sample_rate).T,axis=0)\n"
     ]
    },
    {
     "name": "stdout",
     "output_type": "stream",
     "text": [
      "1070\n",
      "fearful_female\n",
      "1071\n",
      "fearful_female\n"
     ]
    },
    {
     "name": "stderr",
     "output_type": "stream",
     "text": [
      "/var/folders/7h/3y0jb5yx0g399b2y_qtq_db80000gn/T/ipykernel_26966/1257479974.py:14: FutureWarning: Pass y=[ 0.0000000e+00  0.0000000e+00  0.0000000e+00 ...  3.3262663e-06\n",
      " -2.4195660e-06  0.0000000e+00] as keyword args. From version 0.10 passing these as positional arguments will result in an error\n",
      "  mel=np.mean(librosa.feature.melspectrogram(data, sr=sample_rate).T,axis=0)\n"
     ]
    },
    {
     "name": "stdout",
     "output_type": "stream",
     "text": [
      "1072\n",
      "angry_female\n"
     ]
    },
    {
     "name": "stderr",
     "output_type": "stream",
     "text": [
      "/var/folders/7h/3y0jb5yx0g399b2y_qtq_db80000gn/T/ipykernel_26966/1257479974.py:14: FutureWarning: Pass y=[ 0.000000e+00  0.000000e+00  0.000000e+00 ... -8.908349e-07  2.477490e-06\n",
      "  0.000000e+00] as keyword args. From version 0.10 passing these as positional arguments will result in an error\n",
      "  mel=np.mean(librosa.feature.melspectrogram(data, sr=sample_rate).T,axis=0)\n"
     ]
    },
    {
     "name": "stdout",
     "output_type": "stream",
     "text": [
      "1073\n",
      "disgust_female\n"
     ]
    },
    {
     "name": "stderr",
     "output_type": "stream",
     "text": [
      "/var/folders/7h/3y0jb5yx0g399b2y_qtq_db80000gn/T/ipykernel_26966/1257479974.py:14: FutureWarning: Pass y=[-4.7250447e-07  7.8826378e-07 -1.4220482e-06 ... -1.6500977e-05\n",
      " -4.8011632e-05  0.0000000e+00] as keyword args. From version 0.10 passing these as positional arguments will result in an error\n",
      "  mel=np.mean(librosa.feature.melspectrogram(data, sr=sample_rate).T,axis=0)\n"
     ]
    },
    {
     "name": "stdout",
     "output_type": "stream",
     "text": [
      "1074\n",
      "sad_female\n"
     ]
    },
    {
     "name": "stderr",
     "output_type": "stream",
     "text": [
      "/var/folders/7h/3y0jb5yx0g399b2y_qtq_db80000gn/T/ipykernel_26966/1257479974.py:14: FutureWarning: Pass y=[ 0.0000000e+00  0.0000000e+00  0.0000000e+00 ...  2.9384796e-06\n",
      " -1.2277619e-06  0.0000000e+00] as keyword args. From version 0.10 passing these as positional arguments will result in an error\n",
      "  mel=np.mean(librosa.feature.melspectrogram(data, sr=sample_rate).T,axis=0)\n"
     ]
    },
    {
     "name": "stdout",
     "output_type": "stream",
     "text": [
      "1075\n",
      "sad_female\n"
     ]
    },
    {
     "name": "stderr",
     "output_type": "stream",
     "text": [
      "/var/folders/7h/3y0jb5yx0g399b2y_qtq_db80000gn/T/ipykernel_26966/1257479974.py:14: FutureWarning: Pass y=[ 0.000000e+00  0.000000e+00  0.000000e+00 ... -7.598597e-10  6.496509e-10\n",
      "  0.000000e+00] as keyword args. From version 0.10 passing these as positional arguments will result in an error\n",
      "  mel=np.mean(librosa.feature.melspectrogram(data, sr=sample_rate).T,axis=0)\n"
     ]
    },
    {
     "name": "stdout",
     "output_type": "stream",
     "text": [
      "1076\n",
      "disgust_female\n"
     ]
    },
    {
     "name": "stderr",
     "output_type": "stream",
     "text": [
      "/var/folders/7h/3y0jb5yx0g399b2y_qtq_db80000gn/T/ipykernel_26966/1257479974.py:14: FutureWarning: Pass y=[ 0.0000000e+00  0.0000000e+00  0.0000000e+00 ... -8.3154880e-08\n",
      "  1.7459778e-08  0.0000000e+00] as keyword args. From version 0.10 passing these as positional arguments will result in an error\n",
      "  mel=np.mean(librosa.feature.melspectrogram(data, sr=sample_rate).T,axis=0)\n"
     ]
    },
    {
     "name": "stdout",
     "output_type": "stream",
     "text": [
      "1077\n",
      "happy_female\n"
     ]
    },
    {
     "name": "stderr",
     "output_type": "stream",
     "text": [
      "/var/folders/7h/3y0jb5yx0g399b2y_qtq_db80000gn/T/ipykernel_26966/1257479974.py:14: FutureWarning: Pass y=[0.0000000e+00 0.0000000e+00 0.0000000e+00 ... 2.1667976e-05 2.0315886e-06\n",
      " 0.0000000e+00] as keyword args. From version 0.10 passing these as positional arguments will result in an error\n",
      "  mel=np.mean(librosa.feature.melspectrogram(data, sr=sample_rate).T,axis=0)\n",
      "/var/folders/7h/3y0jb5yx0g399b2y_qtq_db80000gn/T/ipykernel_26966/1257479974.py:14: FutureWarning: Pass y=[ 0.000000e+00  0.000000e+00  0.000000e+00 ... -7.964074e-06  2.215051e-06\n",
      "  0.000000e+00] as keyword args. From version 0.10 passing these as positional arguments will result in an error\n",
      "  mel=np.mean(librosa.feature.melspectrogram(data, sr=sample_rate).T,axis=0)\n"
     ]
    },
    {
     "name": "stdout",
     "output_type": "stream",
     "text": [
      "1078\n",
      "happy_female\n",
      "1079\n",
      "calm_female\n"
     ]
    },
    {
     "name": "stderr",
     "output_type": "stream",
     "text": [
      "/var/folders/7h/3y0jb5yx0g399b2y_qtq_db80000gn/T/ipykernel_26966/1257479974.py:14: FutureWarning: Pass y=[ 0.00000000e+00  0.00000000e+00  0.00000000e+00 ...  1.05129196e-07\n",
      " -8.88670257e-08  0.00000000e+00] as keyword args. From version 0.10 passing these as positional arguments will result in an error\n",
      "  mel=np.mean(librosa.feature.melspectrogram(data, sr=sample_rate).T,axis=0)\n",
      "/var/folders/7h/3y0jb5yx0g399b2y_qtq_db80000gn/T/ipykernel_26966/1257479974.py:14: FutureWarning: Pass y=[ 0.000000e+00  0.000000e+00  0.000000e+00 ...  8.206934e-08 -4.757314e-08\n",
      "  0.000000e+00] as keyword args. From version 0.10 passing these as positional arguments will result in an error\n",
      "  mel=np.mean(librosa.feature.melspectrogram(data, sr=sample_rate).T,axis=0)\n"
     ]
    },
    {
     "name": "stdout",
     "output_type": "stream",
     "text": [
      "1080\n",
      "neutral_female\n",
      "1081\n",
      "calm_female\n",
      "1082\n",
      "happy_male\n",
      "1083\n",
      "happy_male\n"
     ]
    },
    {
     "name": "stderr",
     "output_type": "stream",
     "text": [
      "/var/folders/7h/3y0jb5yx0g399b2y_qtq_db80000gn/T/ipykernel_26966/1257479974.py:14: FutureWarning: Pass y=[ 2.3483196e-07 -5.2081532e-07  1.0957382e-06 ...  4.9397289e-07\n",
      " -4.3327762e-07  0.0000000e+00] as keyword args. From version 0.10 passing these as positional arguments will result in an error\n",
      "  mel=np.mean(librosa.feature.melspectrogram(data, sr=sample_rate).T,axis=0)\n"
     ]
    },
    {
     "name": "stdout",
     "output_type": "stream",
     "text": [
      "1084\n",
      "calm_male\n"
     ]
    },
    {
     "name": "stderr",
     "output_type": "stream",
     "text": [
      "/var/folders/7h/3y0jb5yx0g399b2y_qtq_db80000gn/T/ipykernel_26966/1257479974.py:14: FutureWarning: Pass y=[ 0.0000000e+00  0.0000000e+00  0.0000000e+00 ...  6.4757756e-07\n",
      " -2.8374080e-07  0.0000000e+00] as keyword args. From version 0.10 passing these as positional arguments will result in an error\n",
      "  mel=np.mean(librosa.feature.melspectrogram(data, sr=sample_rate).T,axis=0)\n",
      "/var/folders/7h/3y0jb5yx0g399b2y_qtq_db80000gn/T/ipykernel_26966/1257479974.py:14: FutureWarning: Pass y=[-1.2279651e-05 -2.4906594e-05 -3.0684078e-05 ... -1.2718021e-05\n",
      " -1.0212989e-05  0.0000000e+00] as keyword args. From version 0.10 passing these as positional arguments will result in an error\n",
      "  mel=np.mean(librosa.feature.melspectrogram(data, sr=sample_rate).T,axis=0)\n"
     ]
    },
    {
     "name": "stdout",
     "output_type": "stream",
     "text": [
      "1085\n",
      "neutral_male\n",
      "1086\n",
      "calm_male\n"
     ]
    },
    {
     "name": "stderr",
     "output_type": "stream",
     "text": [
      "/var/folders/7h/3y0jb5yx0g399b2y_qtq_db80000gn/T/ipykernel_26966/1257479974.py:14: FutureWarning: Pass y=[-9.5993428e-06 -2.3798491e-05  6.5934751e-06 ...  4.0657818e-05\n",
      "  4.2243828e-05  0.0000000e+00] as keyword args. From version 0.10 passing these as positional arguments will result in an error\n",
      "  mel=np.mean(librosa.feature.melspectrogram(data, sr=sample_rate).T,axis=0)\n",
      "/var/folders/7h/3y0jb5yx0g399b2y_qtq_db80000gn/T/ipykernel_26966/1257479974.py:14: FutureWarning: Pass y=[-4.0487103e-06  6.5228301e-06  7.3796900e-06 ...  2.3636258e-05\n",
      "  1.4874233e-05  0.0000000e+00] as keyword args. From version 0.10 passing these as positional arguments will result in an error\n",
      "  mel=np.mean(librosa.feature.melspectrogram(data, sr=sample_rate).T,axis=0)\n"
     ]
    },
    {
     "name": "stdout",
     "output_type": "stream",
     "text": [
      "1087\n",
      "surprised_male\n",
      "1088\n",
      "surprised_male\n"
     ]
    },
    {
     "name": "stderr",
     "output_type": "stream",
     "text": [
      "/var/folders/7h/3y0jb5yx0g399b2y_qtq_db80000gn/T/ipykernel_26966/1257479974.py:14: FutureWarning: Pass y=[-6.6270601e-08  8.4378335e-08 -1.0338525e-07 ... -4.1826129e-06\n",
      " -1.9485604e-05  0.0000000e+00] as keyword args. From version 0.10 passing these as positional arguments will result in an error\n",
      "  mel=np.mean(librosa.feature.melspectrogram(data, sr=sample_rate).T,axis=0)\n"
     ]
    },
    {
     "name": "stdout",
     "output_type": "stream",
     "text": [
      "1089\n",
      "angry_male\n",
      "1090\n",
      "fearful_male\n",
      "1091\n",
      "fearful_male\n"
     ]
    },
    {
     "name": "stderr",
     "output_type": "stream",
     "text": [
      "/var/folders/7h/3y0jb5yx0g399b2y_qtq_db80000gn/T/ipykernel_26966/1257479974.py:14: FutureWarning: Pass y=[-2.0319653e-06  3.3771535e-06  1.2865463e-05 ... -4.2591619e-06\n",
      "  5.0718006e-07  0.0000000e+00] as keyword args. From version 0.10 passing these as positional arguments will result in an error\n",
      "  mel=np.mean(librosa.feature.melspectrogram(data, sr=sample_rate).T,axis=0)\n",
      "/var/folders/7h/3y0jb5yx0g399b2y_qtq_db80000gn/T/ipykernel_26966/1257479974.py:14: FutureWarning: Pass y=[-2.8361762e-06  1.1291520e-05  5.1410166e-06 ...  5.1193143e-09\n",
      " -4.9371773e-09  0.0000000e+00] as keyword args. From version 0.10 passing these as positional arguments will result in an error\n",
      "  mel=np.mean(librosa.feature.melspectrogram(data, sr=sample_rate).T,axis=0)\n"
     ]
    },
    {
     "name": "stdout",
     "output_type": "stream",
     "text": [
      "1092\n",
      "angry_male\n"
     ]
    },
    {
     "name": "stderr",
     "output_type": "stream",
     "text": [
      "/var/folders/7h/3y0jb5yx0g399b2y_qtq_db80000gn/T/ipykernel_26966/1257479974.py:14: FutureWarning: Pass y=[ 2.4970117e-05  4.3761749e-05  4.0396422e-05 ...  3.1008997e-07\n",
      " -8.0258594e-08  0.0000000e+00] as keyword args. From version 0.10 passing these as positional arguments will result in an error\n",
      "  mel=np.mean(librosa.feature.melspectrogram(data, sr=sample_rate).T,axis=0)\n",
      "/var/folders/7h/3y0jb5yx0g399b2y_qtq_db80000gn/T/ipykernel_26966/1257479974.py:14: FutureWarning: Pass y=[0.0000000e+00 0.0000000e+00 0.0000000e+00 ... 2.8208008e-13 0.0000000e+00\n",
      " 0.0000000e+00] as keyword args. From version 0.10 passing these as positional arguments will result in an error\n",
      "  mel=np.mean(librosa.feature.melspectrogram(data, sr=sample_rate).T,axis=0)\n"
     ]
    },
    {
     "name": "stdout",
     "output_type": "stream",
     "text": [
      "1093\n",
      "disgust_male\n",
      "1094\n",
      "sad_male\n"
     ]
    },
    {
     "name": "stderr",
     "output_type": "stream",
     "text": [
      "/var/folders/7h/3y0jb5yx0g399b2y_qtq_db80000gn/T/ipykernel_26966/1257479974.py:14: FutureWarning: Pass y=[ 1.0066479e-06 -2.2553641e-06  1.1619502e-05 ... -2.9037794e-06\n",
      " -1.6497635e-05  0.0000000e+00] as keyword args. From version 0.10 passing these as positional arguments will result in an error\n",
      "  mel=np.mean(librosa.feature.melspectrogram(data, sr=sample_rate).T,axis=0)\n",
      "/var/folders/7h/3y0jb5yx0g399b2y_qtq_db80000gn/T/ipykernel_26966/1257479974.py:14: FutureWarning: Pass y=[-9.6808748e-08  9.4698592e-08 -8.4828720e-08 ...  4.4370663e-09\n",
      " -3.2055150e-09  0.0000000e+00] as keyword args. From version 0.10 passing these as positional arguments will result in an error\n",
      "  mel=np.mean(librosa.feature.melspectrogram(data, sr=sample_rate).T,axis=0)\n"
     ]
    },
    {
     "name": "stdout",
     "output_type": "stream",
     "text": [
      "1095\n",
      "sad_male\n",
      "1096\n",
      "disgust_male\n"
     ]
    },
    {
     "name": "stderr",
     "output_type": "stream",
     "text": [
      "/var/folders/7h/3y0jb5yx0g399b2y_qtq_db80000gn/T/ipykernel_26966/1257479974.py:14: FutureWarning: Pass y=[-2.5322320e-09  2.1461133e-09 -1.3812668e-09 ... -4.1622093e-06\n",
      " -2.5294476e-05  0.0000000e+00] as keyword args. From version 0.10 passing these as positional arguments will result in an error\n",
      "  mel=np.mean(librosa.feature.melspectrogram(data, sr=sample_rate).T,axis=0)\n",
      "/var/folders/7h/3y0jb5yx0g399b2y_qtq_db80000gn/T/ipykernel_26966/1257479974.py:14: FutureWarning: Pass y=[-3.4254415e-05 -5.3866177e-05 -2.5546999e-05 ...  4.6304747e-05\n",
      "  6.6281602e-05  0.0000000e+00] as keyword args. From version 0.10 passing these as positional arguments will result in an error\n",
      "  mel=np.mean(librosa.feature.melspectrogram(data, sr=sample_rate).T,axis=0)\n"
     ]
    },
    {
     "name": "stdout",
     "output_type": "stream",
     "text": [
      "1097\n",
      "surprised_male\n",
      "1098\n",
      "surprised_male\n"
     ]
    },
    {
     "name": "stderr",
     "output_type": "stream",
     "text": [
      "/var/folders/7h/3y0jb5yx0g399b2y_qtq_db80000gn/T/ipykernel_26966/1257479974.py:14: FutureWarning: Pass y=[-6.1869760e-06 -3.5505527e-05 -2.4137293e-05 ... -3.4341250e-05\n",
      " -1.7365921e-05  0.0000000e+00] as keyword args. From version 0.10 passing these as positional arguments will result in an error\n",
      "  mel=np.mean(librosa.feature.melspectrogram(data, sr=sample_rate).T,axis=0)\n",
      "/var/folders/7h/3y0jb5yx0g399b2y_qtq_db80000gn/T/ipykernel_26966/1257479974.py:14: FutureWarning: Pass y=[ 0.0000000e+00  0.0000000e+00  0.0000000e+00 ... -3.7832491e-05\n",
      " -4.0517032e-05  0.0000000e+00] as keyword args. From version 0.10 passing these as positional arguments will result in an error\n",
      "  mel=np.mean(librosa.feature.melspectrogram(data, sr=sample_rate).T,axis=0)\n"
     ]
    },
    {
     "name": "stdout",
     "output_type": "stream",
     "text": [
      "1099\n",
      "fearful_male\n",
      "1100\n",
      "angry_male\n"
     ]
    },
    {
     "name": "stderr",
     "output_type": "stream",
     "text": [
      "/var/folders/7h/3y0jb5yx0g399b2y_qtq_db80000gn/T/ipykernel_26966/1257479974.py:14: FutureWarning: Pass y=[0.0000000e+00 0.0000000e+00 0.0000000e+00 ... 2.9337412e-05 3.1684791e-05\n",
      " 0.0000000e+00] as keyword args. From version 0.10 passing these as positional arguments will result in an error\n",
      "  mel=np.mean(librosa.feature.melspectrogram(data, sr=sample_rate).T,axis=0)\n"
     ]
    },
    {
     "name": "stdout",
     "output_type": "stream",
     "text": [
      "1101\n",
      "angry_male\n"
     ]
    },
    {
     "name": "stderr",
     "output_type": "stream",
     "text": [
      "/var/folders/7h/3y0jb5yx0g399b2y_qtq_db80000gn/T/ipykernel_26966/1257479974.py:14: FutureWarning: Pass y=[ 1.89727789e-08 -1.72619909e-08  1.39398875e-08 ...  1.14867857e-04\n",
      "  1.52108056e-04  0.00000000e+00] as keyword args. From version 0.10 passing these as positional arguments will result in an error\n",
      "  mel=np.mean(librosa.feature.melspectrogram(data, sr=sample_rate).T,axis=0)\n"
     ]
    },
    {
     "name": "stdout",
     "output_type": "stream",
     "text": [
      "1102\n",
      "fearful_male\n",
      "1103\n",
      "sad_male\n"
     ]
    },
    {
     "name": "stderr",
     "output_type": "stream",
     "text": [
      "/var/folders/7h/3y0jb5yx0g399b2y_qtq_db80000gn/T/ipykernel_26966/1257479974.py:14: FutureWarning: Pass y=[1.9960309e-05 5.9066420e-05 5.7197551e-05 ... 2.3839259e-05 3.4970923e-05\n",
      " 0.0000000e+00] as keyword args. From version 0.10 passing these as positional arguments will result in an error\n",
      "  mel=np.mean(librosa.feature.melspectrogram(data, sr=sample_rate).T,axis=0)\n",
      "/var/folders/7h/3y0jb5yx0g399b2y_qtq_db80000gn/T/ipykernel_26966/1257479974.py:14: FutureWarning: Pass y=[ 0.000000e+00  0.000000e+00  0.000000e+00 ...  7.033694e-07 -5.992517e-07\n",
      "  0.000000e+00] as keyword args. From version 0.10 passing these as positional arguments will result in an error\n",
      "  mel=np.mean(librosa.feature.melspectrogram(data, sr=sample_rate).T,axis=0)\n"
     ]
    },
    {
     "name": "stdout",
     "output_type": "stream",
     "text": [
      "1104\n",
      "disgust_male\n",
      "1105\n",
      "disgust_male\n"
     ]
    },
    {
     "name": "stderr",
     "output_type": "stream",
     "text": [
      "/var/folders/7h/3y0jb5yx0g399b2y_qtq_db80000gn/T/ipykernel_26966/1257479974.py:14: FutureWarning: Pass y=[ 1.7253697e-05  3.9422150e-05  1.1846466e-05 ... -9.0165649e-06\n",
      " -8.6936006e-06  0.0000000e+00] as keyword args. From version 0.10 passing these as positional arguments will result in an error\n",
      "  mel=np.mean(librosa.feature.melspectrogram(data, sr=sample_rate).T,axis=0)\n",
      "/var/folders/7h/3y0jb5yx0g399b2y_qtq_db80000gn/T/ipykernel_26966/1257479974.py:14: FutureWarning: Pass y=[-2.6242567e-05 -2.0097985e-05 -2.3047122e-08 ... -5.1969280e-05\n",
      " -3.9952640e-05  0.0000000e+00] as keyword args. From version 0.10 passing these as positional arguments will result in an error\n",
      "  mel=np.mean(librosa.feature.melspectrogram(data, sr=sample_rate).T,axis=0)\n"
     ]
    },
    {
     "name": "stdout",
     "output_type": "stream",
     "text": [
      "1106\n",
      "sad_male\n",
      "1107\n",
      "happy_male\n",
      "1108\n",
      "happy_male\n",
      "1109\n",
      "calm_male\n"
     ]
    },
    {
     "name": "stderr",
     "output_type": "stream",
     "text": [
      "/var/folders/7h/3y0jb5yx0g399b2y_qtq_db80000gn/T/ipykernel_26966/1257479974.py:14: FutureWarning: Pass y=[-4.9735791e-05 -8.0125137e-05 -6.3729494e-05 ...  9.1106886e-06\n",
      "  9.1017691e-06  0.0000000e+00] as keyword args. From version 0.10 passing these as positional arguments will result in an error\n",
      "  mel=np.mean(librosa.feature.melspectrogram(data, sr=sample_rate).T,axis=0)\n",
      "/var/folders/7h/3y0jb5yx0g399b2y_qtq_db80000gn/T/ipykernel_26966/1257479974.py:14: FutureWarning: Pass y=[ 2.3744473e-08 -3.3610849e-08  4.4650111e-08 ...  7.9159509e-12\n",
      " -4.7557409e-12  0.0000000e+00] as keyword args. From version 0.10 passing these as positional arguments will result in an error\n",
      "  mel=np.mean(librosa.feature.melspectrogram(data, sr=sample_rate).T,axis=0)\n"
     ]
    },
    {
     "name": "stdout",
     "output_type": "stream",
     "text": [
      "1110\n",
      "calm_male\n",
      "1111\n",
      "neutral_male\n"
     ]
    },
    {
     "name": "stderr",
     "output_type": "stream",
     "text": [
      "/var/folders/7h/3y0jb5yx0g399b2y_qtq_db80000gn/T/ipykernel_26966/1257479974.py:14: FutureWarning: Pass y=[ 0.0000000e+00  0.0000000e+00  0.0000000e+00 ... -2.5594960e-05\n",
      " -1.7369595e-05  0.0000000e+00] as keyword args. From version 0.10 passing these as positional arguments will result in an error\n",
      "  mel=np.mean(librosa.feature.melspectrogram(data, sr=sample_rate).T,axis=0)\n",
      "/var/folders/7h/3y0jb5yx0g399b2y_qtq_db80000gn/T/ipykernel_26966/1257479974.py:14: FutureWarning: Pass y=[-1.97023510e-05 -3.74276788e-05 -1.24350545e-05 ... -3.51605886e-05\n",
      " -6.40098660e-05  0.00000000e+00] as keyword args. From version 0.10 passing these as positional arguments will result in an error\n",
      "  mel=np.mean(librosa.feature.melspectrogram(data, sr=sample_rate).T,axis=0)\n"
     ]
    },
    {
     "name": "stdout",
     "output_type": "stream",
     "text": [
      "1112\n",
      "surprised_male\n",
      "1113\n",
      "surprised_male\n"
     ]
    },
    {
     "name": "stderr",
     "output_type": "stream",
     "text": [
      "/var/folders/7h/3y0jb5yx0g399b2y_qtq_db80000gn/T/ipykernel_26966/1257479974.py:14: FutureWarning: Pass y=[-8.9603941e-10  5.9298444e-10 -5.9942516e-11 ...  1.0570508e-05\n",
      "  9.1161228e-06  0.0000000e+00] as keyword args. From version 0.10 passing these as positional arguments will result in an error\n",
      "  mel=np.mean(librosa.feature.melspectrogram(data, sr=sample_rate).T,axis=0)\n",
      "/var/folders/7h/3y0jb5yx0g399b2y_qtq_db80000gn/T/ipykernel_26966/1257479974.py:14: FutureWarning: Pass y=[ 0.0000000e+00  0.0000000e+00  0.0000000e+00 ... -1.7706263e-06\n",
      "  8.0858899e-07  0.0000000e+00] as keyword args. From version 0.10 passing these as positional arguments will result in an error\n",
      "  mel=np.mean(librosa.feature.melspectrogram(data, sr=sample_rate).T,axis=0)\n"
     ]
    },
    {
     "name": "stdout",
     "output_type": "stream",
     "text": [
      "1114\n",
      "disgust_male\n",
      "1115\n",
      "sad_male\n"
     ]
    },
    {
     "name": "stderr",
     "output_type": "stream",
     "text": [
      "/var/folders/7h/3y0jb5yx0g399b2y_qtq_db80000gn/T/ipykernel_26966/1257479974.py:14: FutureWarning: Pass y=[ 0.0000000e+00  0.0000000e+00  0.0000000e+00 ... -1.7606229e-06\n",
      "  9.3048093e-06  0.0000000e+00] as keyword args. From version 0.10 passing these as positional arguments will result in an error\n",
      "  mel=np.mean(librosa.feature.melspectrogram(data, sr=sample_rate).T,axis=0)\n",
      "/var/folders/7h/3y0jb5yx0g399b2y_qtq_db80000gn/T/ipykernel_26966/1257479974.py:14: FutureWarning: Pass y=[ 1.4945721e-08 -1.1211367e-08  5.4622262e-09 ...  1.7865407e-06\n",
      " -1.1335563e-05  0.0000000e+00] as keyword args. From version 0.10 passing these as positional arguments will result in an error\n",
      "  mel=np.mean(librosa.feature.melspectrogram(data, sr=sample_rate).T,axis=0)\n"
     ]
    },
    {
     "name": "stdout",
     "output_type": "stream",
     "text": [
      "1116\n",
      "sad_male\n"
     ]
    },
    {
     "name": "stderr",
     "output_type": "stream",
     "text": [
      "/var/folders/7h/3y0jb5yx0g399b2y_qtq_db80000gn/T/ipykernel_26966/1257479974.py:14: FutureWarning: Pass y=[0.0000000e+00 0.0000000e+00 0.0000000e+00 ... 3.1948890e-05 3.1124273e-05\n",
      " 0.0000000e+00] as keyword args. From version 0.10 passing these as positional arguments will result in an error\n",
      "  mel=np.mean(librosa.feature.melspectrogram(data, sr=sample_rate).T,axis=0)\n",
      "/var/folders/7h/3y0jb5yx0g399b2y_qtq_db80000gn/T/ipykernel_26966/1257479974.py:14: FutureWarning: Pass y=[-1.3361390e-05 -5.0721377e-07  2.6860073e-07 ... -3.8153874e-07\n",
      "  2.7099591e-07  0.0000000e+00] as keyword args. From version 0.10 passing these as positional arguments will result in an error\n",
      "  mel=np.mean(librosa.feature.melspectrogram(data, sr=sample_rate).T,axis=0)\n"
     ]
    },
    {
     "name": "stdout",
     "output_type": "stream",
     "text": [
      "1117\n",
      "disgust_male\n",
      "1118\n",
      "angry_male\n"
     ]
    },
    {
     "name": "stderr",
     "output_type": "stream",
     "text": [
      "/var/folders/7h/3y0jb5yx0g399b2y_qtq_db80000gn/T/ipykernel_26966/1257479974.py:14: FutureWarning: Pass y=[ 5.6102056e-10 -8.5414925e-10  1.2295427e-09 ...  8.9597268e-07\n",
      " -7.8499852e-07  0.0000000e+00] as keyword args. From version 0.10 passing these as positional arguments will result in an error\n",
      "  mel=np.mean(librosa.feature.melspectrogram(data, sr=sample_rate).T,axis=0)\n",
      "/var/folders/7h/3y0jb5yx0g399b2y_qtq_db80000gn/T/ipykernel_26966/1257479974.py:14: FutureWarning: Pass y=[ 1.7174409e-07 -2.4847347e-07  3.4110712e-07 ...  2.4819981e-05\n",
      "  2.7204680e-05  0.0000000e+00] as keyword args. From version 0.10 passing these as positional arguments will result in an error\n",
      "  mel=np.mean(librosa.feature.melspectrogram(data, sr=sample_rate).T,axis=0)\n"
     ]
    },
    {
     "name": "stdout",
     "output_type": "stream",
     "text": [
      "1119\n",
      "fearful_male\n",
      "1120\n",
      "fearful_male\n"
     ]
    },
    {
     "name": "stderr",
     "output_type": "stream",
     "text": [
      "/var/folders/7h/3y0jb5yx0g399b2y_qtq_db80000gn/T/ipykernel_26966/1257479974.py:14: FutureWarning: Pass y=[-2.3215955e-05 -2.3993351e-05  6.7920823e-06 ... -2.6276136e-06\n",
      "  1.0844666e-05  0.0000000e+00] as keyword args. From version 0.10 passing these as positional arguments will result in an error\n",
      "  mel=np.mean(librosa.feature.melspectrogram(data, sr=sample_rate).T,axis=0)\n",
      "/var/folders/7h/3y0jb5yx0g399b2y_qtq_db80000gn/T/ipykernel_26966/1257479974.py:14: FutureWarning: Pass y=[-1.7178520e-05 -1.0122661e-05 -1.4096799e-05 ... -1.0067550e-05\n",
      " -4.9540254e-06  0.0000000e+00] as keyword args. From version 0.10 passing these as positional arguments will result in an error\n",
      "  mel=np.mean(librosa.feature.melspectrogram(data, sr=sample_rate).T,axis=0)\n"
     ]
    },
    {
     "name": "stdout",
     "output_type": "stream",
     "text": [
      "1121\n",
      "angry_male\n",
      "1122\n",
      "calm_male\n"
     ]
    },
    {
     "name": "stderr",
     "output_type": "stream",
     "text": [
      "/var/folders/7h/3y0jb5yx0g399b2y_qtq_db80000gn/T/ipykernel_26966/1257479974.py:14: FutureWarning: Pass y=[-4.5653152e-05 -6.3997883e-05 -6.0398193e-05 ...  0.0000000e+00\n",
      "  0.0000000e+00  0.0000000e+00] as keyword args. From version 0.10 passing these as positional arguments will result in an error\n",
      "  mel=np.mean(librosa.feature.melspectrogram(data, sr=sample_rate).T,axis=0)\n",
      "/var/folders/7h/3y0jb5yx0g399b2y_qtq_db80000gn/T/ipykernel_26966/1257479974.py:14: FutureWarning: Pass y=[-2.0553314e-05 -3.5366444e-05  1.6883012e-06 ...  0.0000000e+00\n",
      "  0.0000000e+00  0.0000000e+00] as keyword args. From version 0.10 passing these as positional arguments will result in an error\n",
      "  mel=np.mean(librosa.feature.melspectrogram(data, sr=sample_rate).T,axis=0)\n"
     ]
    },
    {
     "name": "stdout",
     "output_type": "stream",
     "text": [
      "1123\n",
      "neutral_male\n",
      "1124\n",
      "calm_male\n"
     ]
    },
    {
     "name": "stderr",
     "output_type": "stream",
     "text": [
      "/var/folders/7h/3y0jb5yx0g399b2y_qtq_db80000gn/T/ipykernel_26966/1257479974.py:14: FutureWarning: Pass y=[ 0.0000000e+00  0.0000000e+00  0.0000000e+00 ...  3.0290739e-06\n",
      " -2.0660632e-06  0.0000000e+00] as keyword args. From version 0.10 passing these as positional arguments will result in an error\n",
      "  mel=np.mean(librosa.feature.melspectrogram(data, sr=sample_rate).T,axis=0)\n",
      "/var/folders/7h/3y0jb5yx0g399b2y_qtq_db80000gn/T/ipykernel_26966/1257479974.py:14: FutureWarning: Pass y=[ 1.5526759e-05  1.3890968e-05 -1.8084388e-06 ... -9.3334864e-07\n",
      "  6.6811907e-07  0.0000000e+00] as keyword args. From version 0.10 passing these as positional arguments will result in an error\n",
      "  mel=np.mean(librosa.feature.melspectrogram(data, sr=sample_rate).T,axis=0)\n"
     ]
    },
    {
     "name": "stdout",
     "output_type": "stream",
     "text": [
      "1125\n",
      "happy_male\n",
      "1126\n",
      "happy_male\n"
     ]
    },
    {
     "name": "stderr",
     "output_type": "stream",
     "text": [
      "/var/folders/7h/3y0jb5yx0g399b2y_qtq_db80000gn/T/ipykernel_26966/1257479974.py:14: FutureWarning: Pass y=[-2.2238100e-07 -2.0030950e-07  1.2964151e-06 ...  0.0000000e+00\n",
      "  0.0000000e+00  0.0000000e+00] as keyword args. From version 0.10 passing these as positional arguments will result in an error\n",
      "  mel=np.mean(librosa.feature.melspectrogram(data, sr=sample_rate).T,axis=0)\n",
      "/var/folders/7h/3y0jb5yx0g399b2y_qtq_db80000gn/T/ipykernel_26966/1257479974.py:14: FutureWarning: Pass y=[ 2.6518921e-07 -6.9454023e-07  1.7796492e-06 ...  0.0000000e+00\n",
      "  0.0000000e+00  0.0000000e+00] as keyword args. From version 0.10 passing these as positional arguments will result in an error\n",
      "  mel=np.mean(librosa.feature.melspectrogram(data, sr=sample_rate).T,axis=0)\n"
     ]
    },
    {
     "name": "stdout",
     "output_type": "stream",
     "text": [
      "1127\n",
      "neutral_male\n",
      "1128\n",
      "calm_male\n"
     ]
    },
    {
     "name": "stderr",
     "output_type": "stream",
     "text": [
      "/var/folders/7h/3y0jb5yx0g399b2y_qtq_db80000gn/T/ipykernel_26966/1257479974.py:14: FutureWarning: Pass y=[-7.8803686e-07  1.1743290e-06 -1.7793252e-06 ...  2.1637203e-05\n",
      "  1.5666543e-05  0.0000000e+00] as keyword args. From version 0.10 passing these as positional arguments will result in an error\n",
      "  mel=np.mean(librosa.feature.melspectrogram(data, sr=sample_rate).T,axis=0)\n",
      "/var/folders/7h/3y0jb5yx0g399b2y_qtq_db80000gn/T/ipykernel_26966/1257479974.py:14: FutureWarning: Pass y=[4.5138961e-05 5.7556550e-05 4.6497153e-05 ... 6.8515869e-13 0.0000000e+00\n",
      " 0.0000000e+00] as keyword args. From version 0.10 passing these as positional arguments will result in an error\n",
      "  mel=np.mean(librosa.feature.melspectrogram(data, sr=sample_rate).T,axis=0)\n"
     ]
    },
    {
     "name": "stdout",
     "output_type": "stream",
     "text": [
      "1129\n",
      "calm_male\n",
      "1130\n",
      "happy_male\n"
     ]
    },
    {
     "name": "stderr",
     "output_type": "stream",
     "text": [
      "/var/folders/7h/3y0jb5yx0g399b2y_qtq_db80000gn/T/ipykernel_26966/1257479974.py:14: FutureWarning: Pass y=[-3.9282355e-07  4.0633705e-07 -4.0653251e-07 ... -1.8458433e-05\n",
      " -3.7664282e-05  0.0000000e+00] as keyword args. From version 0.10 passing these as positional arguments will result in an error\n",
      "  mel=np.mean(librosa.feature.melspectrogram(data, sr=sample_rate).T,axis=0)\n",
      "/var/folders/7h/3y0jb5yx0g399b2y_qtq_db80000gn/T/ipykernel_26966/1257479974.py:14: FutureWarning: Pass y=[ 4.7461825e-05  5.3360902e-05  3.5669989e-05 ... -8.0130420e-05\n",
      " -6.8888658e-05  0.0000000e+00] as keyword args. From version 0.10 passing these as positional arguments will result in an error\n",
      "  mel=np.mean(librosa.feature.melspectrogram(data, sr=sample_rate).T,axis=0)\n"
     ]
    },
    {
     "name": "stdout",
     "output_type": "stream",
     "text": [
      "1131\n",
      "happy_male\n",
      "1132\n",
      "surprised_male\n"
     ]
    },
    {
     "name": "stderr",
     "output_type": "stream",
     "text": [
      "/var/folders/7h/3y0jb5yx0g399b2y_qtq_db80000gn/T/ipykernel_26966/1257479974.py:14: FutureWarning: Pass y=[-2.2371403e-05 -2.5428562e-05 -1.7876682e-05 ... -1.0627457e-05\n",
      "  2.8032225e-06  0.0000000e+00] as keyword args. From version 0.10 passing these as positional arguments will result in an error\n",
      "  mel=np.mean(librosa.feature.melspectrogram(data, sr=sample_rate).T,axis=0)\n"
     ]
    },
    {
     "name": "stdout",
     "output_type": "stream",
     "text": [
      "1133\n",
      "surprised_male\n"
     ]
    },
    {
     "name": "stderr",
     "output_type": "stream",
     "text": [
      "/var/folders/7h/3y0jb5yx0g399b2y_qtq_db80000gn/T/ipykernel_26966/1257479974.py:14: FutureWarning: Pass y=[-1.5793068e-05 -1.3170157e-05  1.5702015e-07 ... -4.1150363e-07\n",
      "  6.3387915e-07  0.0000000e+00] as keyword args. From version 0.10 passing these as positional arguments will result in an error\n",
      "  mel=np.mean(librosa.feature.melspectrogram(data, sr=sample_rate).T,axis=0)\n",
      "/var/folders/7h/3y0jb5yx0g399b2y_qtq_db80000gn/T/ipykernel_26966/1257479974.py:14: FutureWarning: Pass y=[0.0000000e+00 0.0000000e+00 0.0000000e+00 ... 3.3820768e-05 5.8014208e-05\n",
      " 0.0000000e+00] as keyword args. From version 0.10 passing these as positional arguments will result in an error\n",
      "  mel=np.mean(librosa.feature.melspectrogram(data, sr=sample_rate).T,axis=0)\n"
     ]
    },
    {
     "name": "stdout",
     "output_type": "stream",
     "text": [
      "1134\n",
      "sad_male\n",
      "1135\n",
      "disgust_male\n"
     ]
    },
    {
     "name": "stderr",
     "output_type": "stream",
     "text": [
      "/var/folders/7h/3y0jb5yx0g399b2y_qtq_db80000gn/T/ipykernel_26966/1257479974.py:14: FutureWarning: Pass y=[ 2.4247165e-05  2.8620314e-05  4.5545337e-05 ... -7.8774065e-06\n",
      " -1.8694158e-05  0.0000000e+00] as keyword args. From version 0.10 passing these as positional arguments will result in an error\n",
      "  mel=np.mean(librosa.feature.melspectrogram(data, sr=sample_rate).T,axis=0)\n",
      "/var/folders/7h/3y0jb5yx0g399b2y_qtq_db80000gn/T/ipykernel_26966/1257479974.py:14: FutureWarning: Pass y=[-6.2921154e-11  8.4290692e-11 -1.0619125e-10 ... -1.2911263e-08\n",
      "  1.9497001e-08  0.0000000e+00] as keyword args. From version 0.10 passing these as positional arguments will result in an error\n",
      "  mel=np.mean(librosa.feature.melspectrogram(data, sr=sample_rate).T,axis=0)\n"
     ]
    },
    {
     "name": "stdout",
     "output_type": "stream",
     "text": [
      "1136\n",
      "disgust_male\n",
      "1137\n",
      "sad_male\n"
     ]
    },
    {
     "name": "stderr",
     "output_type": "stream",
     "text": [
      "/var/folders/7h/3y0jb5yx0g399b2y_qtq_db80000gn/T/ipykernel_26966/1257479974.py:14: FutureWarning: Pass y=[0.0000000e+00 0.0000000e+00 0.0000000e+00 ... 9.2378696e-06 2.2058104e-05\n",
      " 0.0000000e+00] as keyword args. From version 0.10 passing these as positional arguments will result in an error\n",
      "  mel=np.mean(librosa.feature.melspectrogram(data, sr=sample_rate).T,axis=0)\n",
      "/var/folders/7h/3y0jb5yx0g399b2y_qtq_db80000gn/T/ipykernel_26966/1257479974.py:14: FutureWarning: Pass y=[ 0.0000000e+00  0.0000000e+00  0.0000000e+00 ...  1.4101525e-08\n",
      " -6.4016090e-09  0.0000000e+00] as keyword args. From version 0.10 passing these as positional arguments will result in an error\n",
      "  mel=np.mean(librosa.feature.melspectrogram(data, sr=sample_rate).T,axis=0)\n"
     ]
    },
    {
     "name": "stdout",
     "output_type": "stream",
     "text": [
      "1138\n",
      "fearful_male\n",
      "1139\n",
      "angry_male\n"
     ]
    },
    {
     "name": "stderr",
     "output_type": "stream",
     "text": [
      "/var/folders/7h/3y0jb5yx0g399b2y_qtq_db80000gn/T/ipykernel_26966/1257479974.py:14: FutureWarning: Pass y=[-9.777706e-06 -8.041586e-06  2.707795e-06 ... -7.699323e-04 -8.694491e-04\n",
      "  0.000000e+00] as keyword args. From version 0.10 passing these as positional arguments will result in an error\n",
      "  mel=np.mean(librosa.feature.melspectrogram(data, sr=sample_rate).T,axis=0)\n",
      "/var/folders/7h/3y0jb5yx0g399b2y_qtq_db80000gn/T/ipykernel_26966/1257479974.py:14: FutureWarning: Pass y=[-7.1982749e-09  1.9634578e-08 -3.4711331e-08 ...  5.9206632e-06\n",
      "  3.5262670e-05  0.0000000e+00] as keyword args. From version 0.10 passing these as positional arguments will result in an error\n",
      "  mel=np.mean(librosa.feature.melspectrogram(data, sr=sample_rate).T,axis=0)\n"
     ]
    },
    {
     "name": "stdout",
     "output_type": "stream",
     "text": [
      "1140\n",
      "angry_male\n",
      "1141\n",
      "fearful_male\n"
     ]
    },
    {
     "name": "stderr",
     "output_type": "stream",
     "text": [
      "/var/folders/7h/3y0jb5yx0g399b2y_qtq_db80000gn/T/ipykernel_26966/1257479974.py:14: FutureWarning: Pass y=[ 2.5995552e-05  2.6063983e-05  2.3590954e-05 ... -6.5298453e-05\n",
      " -5.7258469e-05  0.0000000e+00] as keyword args. From version 0.10 passing these as positional arguments will result in an error\n",
      "  mel=np.mean(librosa.feature.melspectrogram(data, sr=sample_rate).T,axis=0)\n",
      "/var/folders/7h/3y0jb5yx0g399b2y_qtq_db80000gn/T/ipykernel_26966/1257479974.py:14: FutureWarning: Pass y=[ 3.9389207e-07 -7.9846120e-07  2.7783790e-06 ...  8.7351431e-08\n",
      " -7.5228485e-08  0.0000000e+00] as keyword args. From version 0.10 passing these as positional arguments will result in an error\n",
      "  mel=np.mean(librosa.feature.melspectrogram(data, sr=sample_rate).T,axis=0)\n"
     ]
    },
    {
     "name": "stdout",
     "output_type": "stream",
     "text": [
      "1142\n",
      "surprised_male\n",
      "1143\n",
      "surprised_male\n"
     ]
    },
    {
     "name": "stderr",
     "output_type": "stream",
     "text": [
      "/var/folders/7h/3y0jb5yx0g399b2y_qtq_db80000gn/T/ipykernel_26966/1257479974.py:14: FutureWarning: Pass y=[-1.47519995e-05  1.98411681e-06 -1.13450369e-05 ... -5.32896607e-08\n",
      "  1.33882283e-08  0.00000000e+00] as keyword args. From version 0.10 passing these as positional arguments will result in an error\n",
      "  mel=np.mean(librosa.feature.melspectrogram(data, sr=sample_rate).T,axis=0)\n"
     ]
    },
    {
     "name": "stdout",
     "output_type": "stream",
     "text": [
      "1144\n",
      "angry_male\n"
     ]
    },
    {
     "name": "stderr",
     "output_type": "stream",
     "text": [
      "/var/folders/7h/3y0jb5yx0g399b2y_qtq_db80000gn/T/ipykernel_26966/1257479974.py:14: FutureWarning: Pass y=[-1.24624835e-08  1.52611275e-08 -1.80685227e-08 ...  4.02614387e-05\n",
      "  3.05177236e-05  0.00000000e+00] as keyword args. From version 0.10 passing these as positional arguments will result in an error\n",
      "  mel=np.mean(librosa.feature.melspectrogram(data, sr=sample_rate).T,axis=0)\n"
     ]
    },
    {
     "name": "stdout",
     "output_type": "stream",
     "text": [
      "1145\n",
      "fearful_male\n"
     ]
    },
    {
     "name": "stderr",
     "output_type": "stream",
     "text": [
      "/var/folders/7h/3y0jb5yx0g399b2y_qtq_db80000gn/T/ipykernel_26966/1257479974.py:14: FutureWarning: Pass y=[0.0000000e+00 0.0000000e+00 0.0000000e+00 ... 1.1519110e-05 1.7824399e-05\n",
      " 0.0000000e+00] as keyword args. From version 0.10 passing these as positional arguments will result in an error\n",
      "  mel=np.mean(librosa.feature.melspectrogram(data, sr=sample_rate).T,axis=0)\n",
      "/var/folders/7h/3y0jb5yx0g399b2y_qtq_db80000gn/T/ipykernel_26966/1257479974.py:14: FutureWarning: Pass y=[ 2.1143540e-05  4.4803302e-05 -4.2845913e-05 ...  5.3874595e-05\n",
      "  5.7177011e-05  0.0000000e+00] as keyword args. From version 0.10 passing these as positional arguments will result in an error\n",
      "  mel=np.mean(librosa.feature.melspectrogram(data, sr=sample_rate).T,axis=0)\n"
     ]
    },
    {
     "name": "stdout",
     "output_type": "stream",
     "text": [
      "1146\n",
      "fearful_male\n",
      "1147\n",
      "angry_male\n"
     ]
    },
    {
     "name": "stderr",
     "output_type": "stream",
     "text": [
      "/var/folders/7h/3y0jb5yx0g399b2y_qtq_db80000gn/T/ipykernel_26966/1257479974.py:14: FutureWarning: Pass y=[6.4080174e-05 1.2338815e-04 1.5443643e-04 ... 1.5694811e-04 1.6805372e-04\n",
      " 0.0000000e+00] as keyword args. From version 0.10 passing these as positional arguments will result in an error\n",
      "  mel=np.mean(librosa.feature.melspectrogram(data, sr=sample_rate).T,axis=0)\n",
      "/var/folders/7h/3y0jb5yx0g399b2y_qtq_db80000gn/T/ipykernel_26966/1257479974.py:14: FutureWarning: Pass y=[-2.0350396e-06  1.0004392e-05  7.5510939e-06 ... -4.8367529e-05\n",
      " -2.9701327e-05  0.0000000e+00] as keyword args. From version 0.10 passing these as positional arguments will result in an error\n",
      "  mel=np.mean(librosa.feature.melspectrogram(data, sr=sample_rate).T,axis=0)\n"
     ]
    },
    {
     "name": "stdout",
     "output_type": "stream",
     "text": [
      "1148\n",
      "disgust_male\n",
      "1149\n",
      "sad_male\n"
     ]
    },
    {
     "name": "stderr",
     "output_type": "stream",
     "text": [
      "/var/folders/7h/3y0jb5yx0g399b2y_qtq_db80000gn/T/ipykernel_26966/1257479974.py:14: FutureWarning: Pass y=[-6.2314198e-09  8.7887058e-09 -1.1732632e-08 ... -4.3531662e-05\n",
      " -5.6668632e-05  0.0000000e+00] as keyword args. From version 0.10 passing these as positional arguments will result in an error\n",
      "  mel=np.mean(librosa.feature.melspectrogram(data, sr=sample_rate).T,axis=0)\n"
     ]
    },
    {
     "name": "stdout",
     "output_type": "stream",
     "text": [
      "1150\n",
      "sad_male\n"
     ]
    },
    {
     "name": "stderr",
     "output_type": "stream",
     "text": [
      "/var/folders/7h/3y0jb5yx0g399b2y_qtq_db80000gn/T/ipykernel_26966/1257479974.py:14: FutureWarning: Pass y=[-1.3983751e-05 -3.4533005e-07  7.9884597e-07 ... -9.9698980e-07\n",
      "  1.0451079e-06  0.0000000e+00] as keyword args. From version 0.10 passing these as positional arguments will result in an error\n",
      "  mel=np.mean(librosa.feature.melspectrogram(data, sr=sample_rate).T,axis=0)\n",
      "/var/folders/7h/3y0jb5yx0g399b2y_qtq_db80000gn/T/ipykernel_26966/1257479974.py:14: FutureWarning: Pass y=[-2.7199268e-10  6.4912709e-10 -1.1768364e-09 ...  8.2266251e-06\n",
      "  4.8897287e-05  0.0000000e+00] as keyword args. From version 0.10 passing these as positional arguments will result in an error\n",
      "  mel=np.mean(librosa.feature.melspectrogram(data, sr=sample_rate).T,axis=0)\n"
     ]
    },
    {
     "name": "stdout",
     "output_type": "stream",
     "text": [
      "1151\n",
      "disgust_male\n",
      "1152\n",
      "happy_male\n"
     ]
    },
    {
     "name": "stderr",
     "output_type": "stream",
     "text": [
      "/var/folders/7h/3y0jb5yx0g399b2y_qtq_db80000gn/T/ipykernel_26966/1257479974.py:14: FutureWarning: Pass y=[-4.1255142e-05 -7.0343514e-05 -4.3029409e-05 ... -1.3456123e-04\n",
      " -1.0660093e-04  0.0000000e+00] as keyword args. From version 0.10 passing these as positional arguments will result in an error\n",
      "  mel=np.mean(librosa.feature.melspectrogram(data, sr=sample_rate).T,axis=0)\n",
      "/var/folders/7h/3y0jb5yx0g399b2y_qtq_db80000gn/T/ipykernel_26966/1257479974.py:14: FutureWarning: Pass y=[ 3.2727033e-11 -4.2842181e-11  5.1652922e-11 ...  1.5259320e-05\n",
      "  1.3275412e-05  0.0000000e+00] as keyword args. From version 0.10 passing these as positional arguments will result in an error\n",
      "  mel=np.mean(librosa.feature.melspectrogram(data, sr=sample_rate).T,axis=0)\n"
     ]
    },
    {
     "name": "stdout",
     "output_type": "stream",
     "text": [
      "1153\n",
      "happy_male\n",
      "1154\n",
      "calm_male\n"
     ]
    },
    {
     "name": "stderr",
     "output_type": "stream",
     "text": [
      "/var/folders/7h/3y0jb5yx0g399b2y_qtq_db80000gn/T/ipykernel_26966/1257479974.py:14: FutureWarning: Pass y=[-6.6943471e-06 -1.8935745e-05 -3.0650706e-05 ... -2.3840867e-04\n",
      " -2.4530280e-04  0.0000000e+00] as keyword args. From version 0.10 passing these as positional arguments will result in an error\n",
      "  mel=np.mean(librosa.feature.melspectrogram(data, sr=sample_rate).T,axis=0)\n",
      "/var/folders/7h/3y0jb5yx0g399b2y_qtq_db80000gn/T/ipykernel_26966/1257479974.py:14: FutureWarning: Pass y=[ 2.2913004e-05  3.1746986e-05  5.4176458e-06 ...  1.3109353e-06\n",
      " -9.1660849e-07  0.0000000e+00] as keyword args. From version 0.10 passing these as positional arguments will result in an error\n",
      "  mel=np.mean(librosa.feature.melspectrogram(data, sr=sample_rate).T,axis=0)\n"
     ]
    },
    {
     "name": "stdout",
     "output_type": "stream",
     "text": [
      "1155\n",
      "neutral_male\n",
      "1156\n",
      "calm_male\n"
     ]
    },
    {
     "name": "stderr",
     "output_type": "stream",
     "text": [
      "/var/folders/7h/3y0jb5yx0g399b2y_qtq_db80000gn/T/ipykernel_26966/1257479974.py:14: FutureWarning: Pass y=[ 3.77875009e-10 -4.85910645e-10  6.00721417e-10 ...  1.04171264e-07\n",
      " -7.40059178e-08  0.00000000e+00] as keyword args. From version 0.10 passing these as positional arguments will result in an error\n",
      "  mel=np.mean(librosa.feature.melspectrogram(data, sr=sample_rate).T,axis=0)\n",
      "/var/folders/7h/3y0jb5yx0g399b2y_qtq_db80000gn/T/ipykernel_26966/1257479974.py:14: FutureWarning: Pass y=[-1.8195259e-06  2.5710760e-06 -5.0066669e-06 ... -8.3774852e-05\n",
      " -7.2913033e-05  0.0000000e+00] as keyword args. From version 0.10 passing these as positional arguments will result in an error\n",
      "  mel=np.mean(librosa.feature.melspectrogram(data, sr=sample_rate).T,axis=0)\n"
     ]
    },
    {
     "name": "stdout",
     "output_type": "stream",
     "text": [
      "1157\n",
      "happy_male\n",
      "1158\n",
      "happy_male\n",
      "1159\n",
      "calm_male\n"
     ]
    },
    {
     "name": "stderr",
     "output_type": "stream",
     "text": [
      "/var/folders/7h/3y0jb5yx0g399b2y_qtq_db80000gn/T/ipykernel_26966/1257479974.py:14: FutureWarning: Pass y=[-1.3247906e-06  2.2030863e-06 -1.0531687e-05 ... -2.5144982e-05\n",
      " -1.4237402e-05  0.0000000e+00] as keyword args. From version 0.10 passing these as positional arguments will result in an error\n",
      "  mel=np.mean(librosa.feature.melspectrogram(data, sr=sample_rate).T,axis=0)\n",
      "/var/folders/7h/3y0jb5yx0g399b2y_qtq_db80000gn/T/ipykernel_26966/1257479974.py:14: FutureWarning: Pass y=[-1.7816244e-07  2.9322393e-07 -4.2728610e-07 ... -1.2709139e-06\n",
      " -1.3236398e-06  0.0000000e+00] as keyword args. From version 0.10 passing these as positional arguments will result in an error\n",
      "  mel=np.mean(librosa.feature.melspectrogram(data, sr=sample_rate).T,axis=0)\n"
     ]
    },
    {
     "name": "stdout",
     "output_type": "stream",
     "text": [
      "1160\n",
      "calm_male\n",
      "1161\n",
      "neutral_male\n"
     ]
    },
    {
     "name": "stderr",
     "output_type": "stream",
     "text": [
      "/var/folders/7h/3y0jb5yx0g399b2y_qtq_db80000gn/T/ipykernel_26966/1257479974.py:14: FutureWarning: Pass y=[0.0000000e+00 0.0000000e+00 0.0000000e+00 ... 1.9971467e-06 1.2005225e-05\n",
      " 0.0000000e+00] as keyword args. From version 0.10 passing these as positional arguments will result in an error\n",
      "  mel=np.mean(librosa.feature.melspectrogram(data, sr=sample_rate).T,axis=0)\n",
      "/var/folders/7h/3y0jb5yx0g399b2y_qtq_db80000gn/T/ipykernel_26966/1257479974.py:14: FutureWarning: Pass y=[ 0.0000000e+00  0.0000000e+00  0.0000000e+00 ...  3.6464368e-08\n",
      " -4.6104830e-08  0.0000000e+00] as keyword args. From version 0.10 passing these as positional arguments will result in an error\n",
      "  mel=np.mean(librosa.feature.melspectrogram(data, sr=sample_rate).T,axis=0)\n"
     ]
    },
    {
     "name": "stdout",
     "output_type": "stream",
     "text": [
      "1162\n",
      "surprised_male\n",
      "1163\n",
      "surprised_male\n"
     ]
    },
    {
     "name": "stderr",
     "output_type": "stream",
     "text": [
      "/var/folders/7h/3y0jb5yx0g399b2y_qtq_db80000gn/T/ipykernel_26966/1257479974.py:14: FutureWarning: Pass y=[ 0.0000000e+00  0.0000000e+00  0.0000000e+00 ... -5.7972557e-06\n",
      " -2.4333485e-05  0.0000000e+00] as keyword args. From version 0.10 passing these as positional arguments will result in an error\n",
      "  mel=np.mean(librosa.feature.melspectrogram(data, sr=sample_rate).T,axis=0)\n",
      "/var/folders/7h/3y0jb5yx0g399b2y_qtq_db80000gn/T/ipykernel_26966/1257479974.py:14: FutureWarning: Pass y=[0.000000e+00 0.000000e+00 0.000000e+00 ... 6.458027e-05 7.930331e-05\n",
      " 0.000000e+00] as keyword args. From version 0.10 passing these as positional arguments will result in an error\n",
      "  mel=np.mean(librosa.feature.melspectrogram(data, sr=sample_rate).T,axis=0)\n"
     ]
    },
    {
     "name": "stdout",
     "output_type": "stream",
     "text": [
      "1164\n",
      "fearful_male\n",
      "1165\n",
      "angry_male\n"
     ]
    },
    {
     "name": "stderr",
     "output_type": "stream",
     "text": [
      "/var/folders/7h/3y0jb5yx0g399b2y_qtq_db80000gn/T/ipykernel_26966/1257479974.py:14: FutureWarning: Pass y=[-8.2411992e-05 -9.5009680e-05 -9.4963900e-05 ...  2.7027127e-09\n",
      "  5.3781974e-08  0.0000000e+00] as keyword args. From version 0.10 passing these as positional arguments will result in an error\n",
      "  mel=np.mean(librosa.feature.melspectrogram(data, sr=sample_rate).T,axis=0)\n",
      "/var/folders/7h/3y0jb5yx0g399b2y_qtq_db80000gn/T/ipykernel_26966/1257479974.py:14: FutureWarning: Pass y=[ 1.2623383e-06 -1.4107518e-06  1.5477015e-06 ... -1.3166702e-04\n",
      " -1.3968894e-04  0.0000000e+00] as keyword args. From version 0.10 passing these as positional arguments will result in an error\n",
      "  mel=np.mean(librosa.feature.melspectrogram(data, sr=sample_rate).T,axis=0)\n"
     ]
    },
    {
     "name": "stdout",
     "output_type": "stream",
     "text": [
      "1166\n",
      "angry_male\n"
     ]
    },
    {
     "name": "stderr",
     "output_type": "stream",
     "text": [
      "/var/folders/7h/3y0jb5yx0g399b2y_qtq_db80000gn/T/ipykernel_26966/1257479974.py:14: FutureWarning: Pass y=[ 2.3144948e-05  7.9260117e-06 -8.1688052e-07 ... -1.6347550e-04\n",
      " -2.4738206e-04  0.0000000e+00] as keyword args. From version 0.10 passing these as positional arguments will result in an error\n",
      "  mel=np.mean(librosa.feature.melspectrogram(data, sr=sample_rate).T,axis=0)\n",
      "/var/folders/7h/3y0jb5yx0g399b2y_qtq_db80000gn/T/ipykernel_26966/1257479974.py:14: FutureWarning: Pass y=[3.4843913e-05 5.6796231e-05 6.3174746e-05 ... 7.9633365e-04 8.9147675e-04\n",
      " 0.0000000e+00] as keyword args. From version 0.10 passing these as positional arguments will result in an error\n",
      "  mel=np.mean(librosa.feature.melspectrogram(data, sr=sample_rate).T,axis=0)\n"
     ]
    },
    {
     "name": "stdout",
     "output_type": "stream",
     "text": [
      "1167\n",
      "fearful_male\n",
      "1168\n",
      "sad_male\n"
     ]
    },
    {
     "name": "stderr",
     "output_type": "stream",
     "text": [
      "/var/folders/7h/3y0jb5yx0g399b2y_qtq_db80000gn/T/ipykernel_26966/1257479974.py:14: FutureWarning: Pass y=[ 3.6510601e-06 -1.1506663e-05 -6.3714110e-06 ...  1.0472279e-06\n",
      " -8.5768795e-07  0.0000000e+00] as keyword args. From version 0.10 passing these as positional arguments will result in an error\n",
      "  mel=np.mean(librosa.feature.melspectrogram(data, sr=sample_rate).T,axis=0)\n",
      "/var/folders/7h/3y0jb5yx0g399b2y_qtq_db80000gn/T/ipykernel_26966/1257479974.py:14: FutureWarning: Pass y=[ 0.0000000e+00  0.0000000e+00  0.0000000e+00 ... -3.2737792e-09\n",
      "  6.2816724e-10  0.0000000e+00] as keyword args. From version 0.10 passing these as positional arguments will result in an error\n",
      "  mel=np.mean(librosa.feature.melspectrogram(data, sr=sample_rate).T,axis=0)\n"
     ]
    },
    {
     "name": "stdout",
     "output_type": "stream",
     "text": [
      "1169\n",
      "disgust_male\n",
      "1170\n",
      "disgust_male\n"
     ]
    },
    {
     "name": "stderr",
     "output_type": "stream",
     "text": [
      "/var/folders/7h/3y0jb5yx0g399b2y_qtq_db80000gn/T/ipykernel_26966/1257479974.py:14: FutureWarning: Pass y=[ 4.9329931e-09 -6.7991608e-09  8.9788381e-09 ... -4.6736910e-05\n",
      " -7.8511825e-05  0.0000000e+00] as keyword args. From version 0.10 passing these as positional arguments will result in an error\n",
      "  mel=np.mean(librosa.feature.melspectrogram(data, sr=sample_rate).T,axis=0)\n"
     ]
    },
    {
     "name": "stdout",
     "output_type": "stream",
     "text": [
      "1171\n",
      "sad_male\n"
     ]
    },
    {
     "name": "stderr",
     "output_type": "stream",
     "text": [
      "/var/folders/7h/3y0jb5yx0g399b2y_qtq_db80000gn/T/ipykernel_26966/1257479974.py:14: FutureWarning: Pass y=[ 2.5754492e-08 -1.1455235e-07  2.2349029e-07 ... -1.3391982e-05\n",
      " -1.7811740e-06  0.0000000e+00] as keyword args. From version 0.10 passing these as positional arguments will result in an error\n",
      "  mel=np.mean(librosa.feature.melspectrogram(data, sr=sample_rate).T,axis=0)\n",
      "/var/folders/7h/3y0jb5yx0g399b2y_qtq_db80000gn/T/ipykernel_26966/1257479974.py:14: FutureWarning: Pass y=[-1.0217413e-05 -7.4228496e-06  1.9019601e-06 ...  9.9360514e-06\n",
      "  8.7271037e-06  0.0000000e+00] as keyword args. From version 0.10 passing these as positional arguments will result in an error\n",
      "  mel=np.mean(librosa.feature.melspectrogram(data, sr=sample_rate).T,axis=0)\n"
     ]
    },
    {
     "name": "stdout",
     "output_type": "stream",
     "text": [
      "1172\n",
      "calm_male\n",
      "1173\n",
      "neutral_male\n"
     ]
    },
    {
     "name": "stderr",
     "output_type": "stream",
     "text": [
      "/var/folders/7h/3y0jb5yx0g399b2y_qtq_db80000gn/T/ipykernel_26966/1257479974.py:14: FutureWarning: Pass y=[ 6.2366924e-04  9.3643239e-04  8.2783890e-04 ... -5.6547349e-05\n",
      " -4.9618269e-05  0.0000000e+00] as keyword args. From version 0.10 passing these as positional arguments will result in an error\n",
      "  mel=np.mean(librosa.feature.melspectrogram(data, sr=sample_rate).T,axis=0)\n",
      "/var/folders/7h/3y0jb5yx0g399b2y_qtq_db80000gn/T/ipykernel_26966/1257479974.py:14: FutureWarning: Pass y=[ 0.0000000e+00  0.0000000e+00  0.0000000e+00 ... -7.5783049e-05\n",
      " -1.1068147e-04  0.0000000e+00] as keyword args. From version 0.10 passing these as positional arguments will result in an error\n",
      "  mel=np.mean(librosa.feature.melspectrogram(data, sr=sample_rate).T,axis=0)\n"
     ]
    },
    {
     "name": "stdout",
     "output_type": "stream",
     "text": [
      "1174\n",
      "calm_male\n",
      "1175\n",
      "happy_male\n"
     ]
    },
    {
     "name": "stderr",
     "output_type": "stream",
     "text": [
      "/var/folders/7h/3y0jb5yx0g399b2y_qtq_db80000gn/T/ipykernel_26966/1257479974.py:14: FutureWarning: Pass y=[ 0.0000000e+00  0.0000000e+00  0.0000000e+00 ...  2.2949487e-05\n",
      " -6.1896611e-07  0.0000000e+00] as keyword args. From version 0.10 passing these as positional arguments will result in an error\n",
      "  mel=np.mean(librosa.feature.melspectrogram(data, sr=sample_rate).T,axis=0)\n"
     ]
    },
    {
     "name": "stdout",
     "output_type": "stream",
     "text": [
      "1176\n",
      "happy_male\n"
     ]
    },
    {
     "name": "stderr",
     "output_type": "stream",
     "text": [
      "/var/folders/7h/3y0jb5yx0g399b2y_qtq_db80000gn/T/ipykernel_26966/1257479974.py:14: FutureWarning: Pass y=[ 4.9233454e-04  7.3333120e-04  6.4687885e-04 ... -9.6164761e-08\n",
      "  1.3384322e-07  0.0000000e+00] as keyword args. From version 0.10 passing these as positional arguments will result in an error\n",
      "  mel=np.mean(librosa.feature.melspectrogram(data, sr=sample_rate).T,axis=0)\n",
      "/var/folders/7h/3y0jb5yx0g399b2y_qtq_db80000gn/T/ipykernel_26966/1257479974.py:14: FutureWarning: Pass y=[0.0000000e+00 0.0000000e+00 0.0000000e+00 ... 8.1674925e-06 9.6120484e-06\n",
      " 0.0000000e+00] as keyword args. From version 0.10 passing these as positional arguments will result in an error\n",
      "  mel=np.mean(librosa.feature.melspectrogram(data, sr=sample_rate).T,axis=0)\n"
     ]
    },
    {
     "name": "stdout",
     "output_type": "stream",
     "text": [
      "1177\n",
      "surprised_male\n",
      "1178\n",
      "surprised_male\n"
     ]
    },
    {
     "name": "stderr",
     "output_type": "stream",
     "text": [
      "/var/folders/7h/3y0jb5yx0g399b2y_qtq_db80000gn/T/ipykernel_26966/1257479974.py:14: FutureWarning: Pass y=[ 2.1666760e-07 -1.8248126e-07  1.3118654e-07 ... -1.7806158e-05\n",
      " -3.3855093e-05  0.0000000e+00] as keyword args. From version 0.10 passing these as positional arguments will result in an error\n",
      "  mel=np.mean(librosa.feature.melspectrogram(data, sr=sample_rate).T,axis=0)\n",
      "/var/folders/7h/3y0jb5yx0g399b2y_qtq_db80000gn/T/ipykernel_26966/1257479974.py:14: FutureWarning: Pass y=[ 7.4558320e-12 -1.0038051e-11  1.1603042e-11 ...  1.6886546e-06\n",
      " -1.2335028e-06  0.0000000e+00] as keyword args. From version 0.10 passing these as positional arguments will result in an error\n",
      "  mel=np.mean(librosa.feature.melspectrogram(data, sr=sample_rate).T,axis=0)\n"
     ]
    },
    {
     "name": "stdout",
     "output_type": "stream",
     "text": [
      "1179\n",
      "disgust_male\n",
      "1180\n",
      "sad_male\n"
     ]
    },
    {
     "name": "stderr",
     "output_type": "stream",
     "text": [
      "/var/folders/7h/3y0jb5yx0g399b2y_qtq_db80000gn/T/ipykernel_26966/1257479974.py:14: FutureWarning: Pass y=[0.0000000e+00 0.0000000e+00 0.0000000e+00 ... 2.8136908e-05 3.9963990e-05\n",
      " 0.0000000e+00] as keyword args. From version 0.10 passing these as positional arguments will result in an error\n",
      "  mel=np.mean(librosa.feature.melspectrogram(data, sr=sample_rate).T,axis=0)\n",
      "/var/folders/7h/3y0jb5yx0g399b2y_qtq_db80000gn/T/ipykernel_26966/1257479974.py:14: FutureWarning: Pass y=[-1.3020692e-06 -1.3838786e-05  1.0554111e-06 ... -9.2463233e-06\n",
      " -1.1917565e-05  0.0000000e+00] as keyword args. From version 0.10 passing these as positional arguments will result in an error\n",
      "  mel=np.mean(librosa.feature.melspectrogram(data, sr=sample_rate).T,axis=0)\n"
     ]
    },
    {
     "name": "stdout",
     "output_type": "stream",
     "text": [
      "1181\n",
      "sad_male\n",
      "1182\n",
      "disgust_male\n"
     ]
    },
    {
     "name": "stderr",
     "output_type": "stream",
     "text": [
      "/var/folders/7h/3y0jb5yx0g399b2y_qtq_db80000gn/T/ipykernel_26966/1257479974.py:14: FutureWarning: Pass y=[-7.91117287e-08  9.01959325e-08 -1.00273795e-07 ...  2.71115587e-05\n",
      "  1.66315185e-05  0.00000000e+00] as keyword args. From version 0.10 passing these as positional arguments will result in an error\n",
      "  mel=np.mean(librosa.feature.melspectrogram(data, sr=sample_rate).T,axis=0)\n"
     ]
    },
    {
     "name": "stdout",
     "output_type": "stream",
     "text": [
      "1183\n",
      "angry_male\n"
     ]
    },
    {
     "name": "stderr",
     "output_type": "stream",
     "text": [
      "/var/folders/7h/3y0jb5yx0g399b2y_qtq_db80000gn/T/ipykernel_26966/1257479974.py:14: FutureWarning: Pass y=[ 0.00016299  0.00046513  0.00053887 ... -0.00040707 -0.00032432\n",
      "  0.        ] as keyword args. From version 0.10 passing these as positional arguments will result in an error\n",
      "  mel=np.mean(librosa.feature.melspectrogram(data, sr=sample_rate).T,axis=0)\n",
      "/var/folders/7h/3y0jb5yx0g399b2y_qtq_db80000gn/T/ipykernel_26966/1257479974.py:14: FutureWarning: Pass y=[-8.53044128e-07  1.08400991e-06 -1.34495690e-06 ... -1.10782887e-04\n",
      " -1.14808165e-04  0.00000000e+00] as keyword args. From version 0.10 passing these as positional arguments will result in an error\n",
      "  mel=np.mean(librosa.feature.melspectrogram(data, sr=sample_rate).T,axis=0)\n"
     ]
    },
    {
     "name": "stdout",
     "output_type": "stream",
     "text": [
      "1184\n",
      "fearful_male\n",
      "1185\n",
      "fearful_male\n"
     ]
    },
    {
     "name": "stderr",
     "output_type": "stream",
     "text": [
      "/var/folders/7h/3y0jb5yx0g399b2y_qtq_db80000gn/T/ipykernel_26966/1257479974.py:14: FutureWarning: Pass y=[ 0.000000e+00  0.000000e+00  0.000000e+00 ... -1.371322e-05 -9.606899e-07\n",
      "  0.000000e+00] as keyword args. From version 0.10 passing these as positional arguments will result in an error\n",
      "  mel=np.mean(librosa.feature.melspectrogram(data, sr=sample_rate).T,axis=0)\n",
      "/var/folders/7h/3y0jb5yx0g399b2y_qtq_db80000gn/T/ipykernel_26966/1257479974.py:14: FutureWarning: Pass y=[ 0.0000000e+00  0.0000000e+00  0.0000000e+00 ... -4.8464545e-07\n",
      "  3.6688186e-07  0.0000000e+00] as keyword args. From version 0.10 passing these as positional arguments will result in an error\n",
      "  mel=np.mean(librosa.feature.melspectrogram(data, sr=sample_rate).T,axis=0)\n"
     ]
    },
    {
     "name": "stdout",
     "output_type": "stream",
     "text": [
      "1186\n",
      "angry_male\n",
      "1187\n",
      "surprised_male\n"
     ]
    },
    {
     "name": "stderr",
     "output_type": "stream",
     "text": [
      "/var/folders/7h/3y0jb5yx0g399b2y_qtq_db80000gn/T/ipykernel_26966/1257479974.py:14: FutureWarning: Pass y=[ 2.2942553e-05  3.0759529e-05  1.4992285e-05 ... -1.2409650e-06\n",
      "  1.1801317e-06  0.0000000e+00] as keyword args. From version 0.10 passing these as positional arguments will result in an error\n",
      "  mel=np.mean(librosa.feature.melspectrogram(data, sr=sample_rate).T,axis=0)\n",
      "/var/folders/7h/3y0jb5yx0g399b2y_qtq_db80000gn/T/ipykernel_26966/1257479974.py:14: FutureWarning: Pass y=[ 0.00000000e+00  0.00000000e+00  0.00000000e+00 ...  1.09633326e-07\n",
      " -1.42348128e-07  0.00000000e+00] as keyword args. From version 0.10 passing these as positional arguments will result in an error\n",
      "  mel=np.mean(librosa.feature.melspectrogram(data, sr=sample_rate).T,axis=0)\n"
     ]
    },
    {
     "name": "stdout",
     "output_type": "stream",
     "text": [
      "1188\n",
      "surprised_male\n",
      "1189\n",
      "sad_male\n"
     ]
    },
    {
     "name": "stderr",
     "output_type": "stream",
     "text": [
      "/var/folders/7h/3y0jb5yx0g399b2y_qtq_db80000gn/T/ipykernel_26966/1257479974.py:14: FutureWarning: Pass y=[-2.2252116e-09  8.4289864e-10  1.2247587e-09 ...  6.8955657e-08\n",
      " -6.4814728e-08  0.0000000e+00] as keyword args. From version 0.10 passing these as positional arguments will result in an error\n",
      "  mel=np.mean(librosa.feature.melspectrogram(data, sr=sample_rate).T,axis=0)\n"
     ]
    },
    {
     "name": "stdout",
     "output_type": "stream",
     "text": [
      "1190\n",
      "disgust_male\n"
     ]
    },
    {
     "name": "stderr",
     "output_type": "stream",
     "text": [
      "/var/folders/7h/3y0jb5yx0g399b2y_qtq_db80000gn/T/ipykernel_26966/1257479974.py:14: FutureWarning: Pass y=[-4.3082141e-06  1.2529981e-05  3.0404337e-05 ... -3.1054267e-05\n",
      " -1.9419362e-05  0.0000000e+00] as keyword args. From version 0.10 passing these as positional arguments will result in an error\n",
      "  mel=np.mean(librosa.feature.melspectrogram(data, sr=sample_rate).T,axis=0)\n",
      "/var/folders/7h/3y0jb5yx0g399b2y_qtq_db80000gn/T/ipykernel_26966/1257479974.py:14: FutureWarning: Pass y=[ 9.8513716e-08 -1.3232220e-07  1.6951208e-07 ...  1.1785031e-05\n",
      "  4.7725944e-06  0.0000000e+00] as keyword args. From version 0.10 passing these as positional arguments will result in an error\n",
      "  mel=np.mean(librosa.feature.melspectrogram(data, sr=sample_rate).T,axis=0)\n"
     ]
    },
    {
     "name": "stdout",
     "output_type": "stream",
     "text": [
      "1191\n",
      "disgust_male\n",
      "1192\n",
      "sad_male\n"
     ]
    },
    {
     "name": "stderr",
     "output_type": "stream",
     "text": [
      "/var/folders/7h/3y0jb5yx0g399b2y_qtq_db80000gn/T/ipykernel_26966/1257479974.py:14: FutureWarning: Pass y=[-3.8738037e-08  8.4918071e-08 -1.4003645e-07 ...  4.1309318e-07\n",
      " -2.6779594e-07  0.0000000e+00] as keyword args. From version 0.10 passing these as positional arguments will result in an error\n",
      "  mel=np.mean(librosa.feature.melspectrogram(data, sr=sample_rate).T,axis=0)\n",
      "/var/folders/7h/3y0jb5yx0g399b2y_qtq_db80000gn/T/ipykernel_26966/1257479974.py:14: FutureWarning: Pass y=[-2.5655305e-07  2.1741342e-07 -1.4890838e-07 ...  7.3474279e-05\n",
      "  1.0631284e-04  0.0000000e+00] as keyword args. From version 0.10 passing these as positional arguments will result in an error\n",
      "  mel=np.mean(librosa.feature.melspectrogram(data, sr=sample_rate).T,axis=0)\n"
     ]
    },
    {
     "name": "stdout",
     "output_type": "stream",
     "text": [
      "1193\n",
      "fearful_male\n",
      "1194\n",
      "angry_male\n"
     ]
    },
    {
     "name": "stderr",
     "output_type": "stream",
     "text": [
      "/var/folders/7h/3y0jb5yx0g399b2y_qtq_db80000gn/T/ipykernel_26966/1257479974.py:14: FutureWarning: Pass y=[ 1.1202892e-05  2.7028182e-05  2.0010544e-05 ... -2.7957521e-04\n",
      " -2.8729765e-04  0.0000000e+00] as keyword args. From version 0.10 passing these as positional arguments will result in an error\n",
      "  mel=np.mean(librosa.feature.melspectrogram(data, sr=sample_rate).T,axis=0)\n"
     ]
    },
    {
     "name": "stdout",
     "output_type": "stream",
     "text": [
      "1195\n",
      "angry_male\n"
     ]
    },
    {
     "name": "stderr",
     "output_type": "stream",
     "text": [
      "/var/folders/7h/3y0jb5yx0g399b2y_qtq_db80000gn/T/ipykernel_26966/1257479974.py:14: FutureWarning: Pass y=[ 4.8224939e-07 -3.3972860e-08 -1.1067456e-06 ...  6.2338989e-07\n",
      " -5.4262767e-07  0.0000000e+00] as keyword args. From version 0.10 passing these as positional arguments will result in an error\n",
      "  mel=np.mean(librosa.feature.melspectrogram(data, sr=sample_rate).T,axis=0)\n",
      "/var/folders/7h/3y0jb5yx0g399b2y_qtq_db80000gn/T/ipykernel_26966/1257479974.py:14: FutureWarning: Pass y=[ 0.0000000e+00  0.0000000e+00  0.0000000e+00 ... -1.7993158e-05\n",
      " -2.2967455e-05  0.0000000e+00] as keyword args. From version 0.10 passing these as positional arguments will result in an error\n",
      "  mel=np.mean(librosa.feature.melspectrogram(data, sr=sample_rate).T,axis=0)\n"
     ]
    },
    {
     "name": "stdout",
     "output_type": "stream",
     "text": [
      "1196\n",
      "fearful_male\n",
      "1197\n",
      "neutral_male\n"
     ]
    },
    {
     "name": "stderr",
     "output_type": "stream",
     "text": [
      "/var/folders/7h/3y0jb5yx0g399b2y_qtq_db80000gn/T/ipykernel_26966/1257479974.py:14: FutureWarning: Pass y=[ 0.000000e+00  0.000000e+00  0.000000e+00 ... -5.233386e-07  4.598083e-07\n",
      "  0.000000e+00] as keyword args. From version 0.10 passing these as positional arguments will result in an error\n",
      "  mel=np.mean(librosa.feature.melspectrogram(data, sr=sample_rate).T,axis=0)\n"
     ]
    },
    {
     "name": "stdout",
     "output_type": "stream",
     "text": [
      "1198\n",
      "calm_male\n"
     ]
    },
    {
     "name": "stderr",
     "output_type": "stream",
     "text": [
      "/var/folders/7h/3y0jb5yx0g399b2y_qtq_db80000gn/T/ipykernel_26966/1257479974.py:14: FutureWarning: Pass y=[0.         0.         0.         ... 0.00037741 0.00037258 0.        ] as keyword args. From version 0.10 passing these as positional arguments will result in an error\n",
      "  mel=np.mean(librosa.feature.melspectrogram(data, sr=sample_rate).T,axis=0)\n",
      "/var/folders/7h/3y0jb5yx0g399b2y_qtq_db80000gn/T/ipykernel_26966/1257479974.py:14: FutureWarning: Pass y=[ 0.          0.          0.         ... -0.00094575 -0.00109899\n",
      "  0.        ] as keyword args. From version 0.10 passing these as positional arguments will result in an error\n",
      "  mel=np.mean(librosa.feature.melspectrogram(data, sr=sample_rate).T,axis=0)\n"
     ]
    },
    {
     "name": "stdout",
     "output_type": "stream",
     "text": [
      "1199\n",
      "calm_male\n",
      "1200\n",
      "happy_male\n"
     ]
    },
    {
     "name": "stderr",
     "output_type": "stream",
     "text": [
      "/var/folders/7h/3y0jb5yx0g399b2y_qtq_db80000gn/T/ipykernel_26966/1257479974.py:14: FutureWarning: Pass y=[ 7.26235667e-05  1.18124444e-04  1.17547926e-04 ... -5.78105610e-05\n",
      " -3.19740466e-05  0.00000000e+00] as keyword args. From version 0.10 passing these as positional arguments will result in an error\n",
      "  mel=np.mean(librosa.feature.melspectrogram(data, sr=sample_rate).T,axis=0)\n",
      "/var/folders/7h/3y0jb5yx0g399b2y_qtq_db80000gn/T/ipykernel_26966/1257479974.py:14: FutureWarning: Pass y=[-7.2928458e-05  1.8380781e-05  2.4083645e-05 ... -1.8405350e-05\n",
      " -5.5029766e-05  0.0000000e+00] as keyword args. From version 0.10 passing these as positional arguments will result in an error\n",
      "  mel=np.mean(librosa.feature.melspectrogram(data, sr=sample_rate).T,axis=0)\n"
     ]
    },
    {
     "name": "stdout",
     "output_type": "stream",
     "text": [
      "1201\n",
      "happy_male\n",
      "1202\n",
      "happy_male\n"
     ]
    },
    {
     "name": "stderr",
     "output_type": "stream",
     "text": [
      "/var/folders/7h/3y0jb5yx0g399b2y_qtq_db80000gn/T/ipykernel_26966/1257479974.py:14: FutureWarning: Pass y=[6.5709269e-06 2.3605795e-04 6.3610828e-04 ... 6.7322042e-05 1.4671261e-04\n",
      " 0.0000000e+00] as keyword args. From version 0.10 passing these as positional arguments will result in an error\n",
      "  mel=np.mean(librosa.feature.melspectrogram(data, sr=sample_rate).T,axis=0)\n"
     ]
    },
    {
     "name": "stdout",
     "output_type": "stream",
     "text": [
      "1203\n",
      "happy_male\n"
     ]
    },
    {
     "name": "stderr",
     "output_type": "stream",
     "text": [
      "/var/folders/7h/3y0jb5yx0g399b2y_qtq_db80000gn/T/ipykernel_26966/1257479974.py:14: FutureWarning: Pass y=[-8.1808901e-07  1.1497825e-06 -1.5996310e-06 ...  7.3849413e-05\n",
      "  8.5540065e-05  0.0000000e+00] as keyword args. From version 0.10 passing these as positional arguments will result in an error\n",
      "  mel=np.mean(librosa.feature.melspectrogram(data, sr=sample_rate).T,axis=0)\n"
     ]
    },
    {
     "name": "stdout",
     "output_type": "stream",
     "text": [
      "1204\n",
      "calm_male\n"
     ]
    },
    {
     "name": "stderr",
     "output_type": "stream",
     "text": [
      "/var/folders/7h/3y0jb5yx0g399b2y_qtq_db80000gn/T/ipykernel_26966/1257479974.py:14: FutureWarning: Pass y=[ 2.4987690e-04  9.6949021e-05 -1.0256540e-04 ... -9.1391854e-04\n",
      " -1.1845205e-03  0.0000000e+00] as keyword args. From version 0.10 passing these as positional arguments will result in an error\n",
      "  mel=np.mean(librosa.feature.melspectrogram(data, sr=sample_rate).T,axis=0)\n"
     ]
    },
    {
     "name": "stdout",
     "output_type": "stream",
     "text": [
      "1205\n",
      "calm_male\n"
     ]
    },
    {
     "name": "stderr",
     "output_type": "stream",
     "text": [
      "/var/folders/7h/3y0jb5yx0g399b2y_qtq_db80000gn/T/ipykernel_26966/1257479974.py:14: FutureWarning: Pass y=[ 6.31124349e-05  8.81296000e-05  7.57666567e-05 ... -1.19311204e-04\n",
      " -1.33767826e-04  0.00000000e+00] as keyword args. From version 0.10 passing these as positional arguments will result in an error\n",
      "  mel=np.mean(librosa.feature.melspectrogram(data, sr=sample_rate).T,axis=0)\n"
     ]
    },
    {
     "name": "stdout",
     "output_type": "stream",
     "text": [
      "1206\n",
      "neutral_male\n"
     ]
    },
    {
     "name": "stderr",
     "output_type": "stream",
     "text": [
      "/var/folders/7h/3y0jb5yx0g399b2y_qtq_db80000gn/T/ipykernel_26966/1257479974.py:14: FutureWarning: Pass y=[ 5.5149609e-05  5.2814361e-05 -2.0483492e-05 ... -7.4983550e-06\n",
      " -2.6823511e-05  0.0000000e+00] as keyword args. From version 0.10 passing these as positional arguments will result in an error\n",
      "  mel=np.mean(librosa.feature.melspectrogram(data, sr=sample_rate).T,axis=0)\n"
     ]
    },
    {
     "name": "stdout",
     "output_type": "stream",
     "text": [
      "1207\n",
      "surprised_male\n"
     ]
    },
    {
     "name": "stderr",
     "output_type": "stream",
     "text": [
      "/var/folders/7h/3y0jb5yx0g399b2y_qtq_db80000gn/T/ipykernel_26966/1257479974.py:14: FutureWarning: Pass y=[ 0.000000e+00  0.000000e+00  0.000000e+00 ...  8.464317e-06 -5.589507e-06\n",
      "  0.000000e+00] as keyword args. From version 0.10 passing these as positional arguments will result in an error\n",
      "  mel=np.mean(librosa.feature.melspectrogram(data, sr=sample_rate).T,axis=0)\n"
     ]
    },
    {
     "name": "stdout",
     "output_type": "stream",
     "text": [
      "1208\n",
      "surprised_male\n"
     ]
    },
    {
     "name": "stderr",
     "output_type": "stream",
     "text": [
      "/var/folders/7h/3y0jb5yx0g399b2y_qtq_db80000gn/T/ipykernel_26966/1257479974.py:14: FutureWarning: Pass y=[ 0.0000000e+00  0.0000000e+00  0.0000000e+00 ...  1.2098075e-05\n",
      " -5.5797127e-06  0.0000000e+00] as keyword args. From version 0.10 passing these as positional arguments will result in an error\n",
      "  mel=np.mean(librosa.feature.melspectrogram(data, sr=sample_rate).T,axis=0)\n"
     ]
    },
    {
     "name": "stdout",
     "output_type": "stream",
     "text": [
      "1209\n",
      "fearful_male\n"
     ]
    },
    {
     "name": "stderr",
     "output_type": "stream",
     "text": [
      "/var/folders/7h/3y0jb5yx0g399b2y_qtq_db80000gn/T/ipykernel_26966/1257479974.py:14: FutureWarning: Pass y=[ 0.0000000e+00  0.0000000e+00  0.0000000e+00 ... -3.9630729e-07\n",
      "  5.8855056e-07  0.0000000e+00] as keyword args. From version 0.10 passing these as positional arguments will result in an error\n",
      "  mel=np.mean(librosa.feature.melspectrogram(data, sr=sample_rate).T,axis=0)\n"
     ]
    },
    {
     "name": "stdout",
     "output_type": "stream",
     "text": [
      "1210\n",
      "angry_male\n"
     ]
    },
    {
     "name": "stderr",
     "output_type": "stream",
     "text": [
      "/var/folders/7h/3y0jb5yx0g399b2y_qtq_db80000gn/T/ipykernel_26966/1257479974.py:14: FutureWarning: Pass y=[ 0.0000000e+00  0.0000000e+00  0.0000000e+00 ...  1.4579351e-06\n",
      " -1.1503347e-06  0.0000000e+00] as keyword args. From version 0.10 passing these as positional arguments will result in an error\n",
      "  mel=np.mean(librosa.feature.melspectrogram(data, sr=sample_rate).T,axis=0)\n",
      "/var/folders/7h/3y0jb5yx0g399b2y_qtq_db80000gn/T/ipykernel_26966/1257479974.py:14: FutureWarning: Pass y=[-0.00044604 -0.00066444 -0.00052671 ...  0.00217491  0.00248973\n",
      "  0.        ] as keyword args. From version 0.10 passing these as positional arguments will result in an error\n",
      "  mel=np.mean(librosa.feature.melspectrogram(data, sr=sample_rate).T,axis=0)\n"
     ]
    },
    {
     "name": "stdout",
     "output_type": "stream",
     "text": [
      "1211\n",
      "angry_male\n",
      "1212\n",
      "fearful_male\n"
     ]
    },
    {
     "name": "stderr",
     "output_type": "stream",
     "text": [
      "/var/folders/7h/3y0jb5yx0g399b2y_qtq_db80000gn/T/ipykernel_26966/1257479974.py:14: FutureWarning: Pass y=[ 6.9599431e-05  6.3829772e-05  2.1712607e-05 ...  1.0966227e-06\n",
      " -7.8759103e-07  0.0000000e+00] as keyword args. From version 0.10 passing these as positional arguments will result in an error\n",
      "  mel=np.mean(librosa.feature.melspectrogram(data, sr=sample_rate).T,axis=0)\n"
     ]
    },
    {
     "name": "stdout",
     "output_type": "stream",
     "text": [
      "1213\n",
      "sad_male\n"
     ]
    },
    {
     "name": "stderr",
     "output_type": "stream",
     "text": [
      "/var/folders/7h/3y0jb5yx0g399b2y_qtq_db80000gn/T/ipykernel_26966/1257479974.py:14: FutureWarning: Pass y=[-2.1158733e-07  2.8320113e-07 -3.6307932e-07 ...  3.5692223e-09\n",
      " -9.7727870e-09  0.0000000e+00] as keyword args. From version 0.10 passing these as positional arguments will result in an error\n",
      "  mel=np.mean(librosa.feature.melspectrogram(data, sr=sample_rate).T,axis=0)\n"
     ]
    },
    {
     "name": "stdout",
     "output_type": "stream",
     "text": [
      "1214\n",
      "disgust_male\n"
     ]
    },
    {
     "name": "stderr",
     "output_type": "stream",
     "text": [
      "/var/folders/7h/3y0jb5yx0g399b2y_qtq_db80000gn/T/ipykernel_26966/1257479974.py:14: FutureWarning: Pass y=[-8.4014670e-07  1.1839603e-06 -1.7343002e-06 ... -3.4556953e-05\n",
      " -1.7018434e-05  0.0000000e+00] as keyword args. From version 0.10 passing these as positional arguments will result in an error\n",
      "  mel=np.mean(librosa.feature.melspectrogram(data, sr=sample_rate).T,axis=0)\n"
     ]
    },
    {
     "name": "stdout",
     "output_type": "stream",
     "text": [
      "1215\n",
      "disgust_male\n"
     ]
    },
    {
     "name": "stderr",
     "output_type": "stream",
     "text": [
      "/var/folders/7h/3y0jb5yx0g399b2y_qtq_db80000gn/T/ipykernel_26966/1257479974.py:14: FutureWarning: Pass y=[5.30541583e-05 6.30372961e-05 1.18652504e-04 ... 0.00000000e+00\n",
      " 0.00000000e+00 0.00000000e+00] as keyword args. From version 0.10 passing these as positional arguments will result in an error\n",
      "  mel=np.mean(librosa.feature.melspectrogram(data, sr=sample_rate).T,axis=0)\n"
     ]
    },
    {
     "name": "stdout",
     "output_type": "stream",
     "text": [
      "1216\n",
      "sad_male\n"
     ]
    },
    {
     "name": "stderr",
     "output_type": "stream",
     "text": [
      "/var/folders/7h/3y0jb5yx0g399b2y_qtq_db80000gn/T/ipykernel_26966/1257479974.py:14: FutureWarning: Pass y=[ 0.0000000e+00  1.1271335e-12 -2.5626274e-12 ...  2.8884926e-06\n",
      " -1.9876691e-06  0.0000000e+00] as keyword args. From version 0.10 passing these as positional arguments will result in an error\n",
      "  mel=np.mean(librosa.feature.melspectrogram(data, sr=sample_rate).T,axis=0)\n"
     ]
    },
    {
     "name": "stdout",
     "output_type": "stream",
     "text": [
      "1217\n",
      "surprised_male\n"
     ]
    },
    {
     "name": "stderr",
     "output_type": "stream",
     "text": [
      "/var/folders/7h/3y0jb5yx0g399b2y_qtq_db80000gn/T/ipykernel_26966/1257479974.py:14: FutureWarning: Pass y=[ 0.0000000e+00  0.0000000e+00  0.0000000e+00 ... -7.0026603e-05\n",
      " -1.1502575e-04  0.0000000e+00] as keyword args. From version 0.10 passing these as positional arguments will result in an error\n",
      "  mel=np.mean(librosa.feature.melspectrogram(data, sr=sample_rate).T,axis=0)\n"
     ]
    },
    {
     "name": "stdout",
     "output_type": "stream",
     "text": [
      "1218\n",
      "surprised_male\n"
     ]
    },
    {
     "name": "stderr",
     "output_type": "stream",
     "text": [
      "/var/folders/7h/3y0jb5yx0g399b2y_qtq_db80000gn/T/ipykernel_26966/1257479974.py:14: FutureWarning: Pass y=[0.0000000e+00 0.0000000e+00 0.0000000e+00 ... 4.4455344e-05 9.2927956e-05\n",
      " 0.0000000e+00] as keyword args. From version 0.10 passing these as positional arguments will result in an error\n",
      "  mel=np.mean(librosa.feature.melspectrogram(data, sr=sample_rate).T,axis=0)\n"
     ]
    },
    {
     "name": "stdout",
     "output_type": "stream",
     "text": [
      "1219\n",
      "angry_male\n"
     ]
    },
    {
     "name": "stderr",
     "output_type": "stream",
     "text": [
      "/var/folders/7h/3y0jb5yx0g399b2y_qtq_db80000gn/T/ipykernel_26966/1257479974.py:14: FutureWarning: Pass y=[ 4.1128336e-05  9.3494935e-05  1.0385946e-04 ... -2.0961277e-03\n",
      " -2.1894234e-03  0.0000000e+00] as keyword args. From version 0.10 passing these as positional arguments will result in an error\n",
      "  mel=np.mean(librosa.feature.melspectrogram(data, sr=sample_rate).T,axis=0)\n",
      "/var/folders/7h/3y0jb5yx0g399b2y_qtq_db80000gn/T/ipykernel_26966/1257479974.py:14: FutureWarning: Pass y=[-4.2496528e-04 -6.5336731e-04 -5.3507095e-04 ...  2.2576235e-06\n",
      " -1.5727754e-05  0.0000000e+00] as keyword args. From version 0.10 passing these as positional arguments will result in an error\n",
      "  mel=np.mean(librosa.feature.melspectrogram(data, sr=sample_rate).T,axis=0)\n"
     ]
    },
    {
     "name": "stdout",
     "output_type": "stream",
     "text": [
      "1220\n",
      "fearful_male\n",
      "1221\n",
      "fearful_male\n"
     ]
    },
    {
     "name": "stderr",
     "output_type": "stream",
     "text": [
      "/var/folders/7h/3y0jb5yx0g399b2y_qtq_db80000gn/T/ipykernel_26966/1257479974.py:14: FutureWarning: Pass y=[ 0.0000000e+00  0.0000000e+00  0.0000000e+00 ... -1.3643723e-05\n",
      "  5.7338710e-08  0.0000000e+00] as keyword args. From version 0.10 passing these as positional arguments will result in an error\n",
      "  mel=np.mean(librosa.feature.melspectrogram(data, sr=sample_rate).T,axis=0)\n"
     ]
    },
    {
     "name": "stdout",
     "output_type": "stream",
     "text": [
      "1222\n",
      "angry_male\n"
     ]
    },
    {
     "name": "stderr",
     "output_type": "stream",
     "text": [
      "/var/folders/7h/3y0jb5yx0g399b2y_qtq_db80000gn/T/ipykernel_26966/1257479974.py:14: FutureWarning: Pass y=[ 2.1514141e-05  3.3389606e-05  2.8871556e-05 ... -3.2005348e-04\n",
      " -3.7239047e-04  0.0000000e+00] as keyword args. From version 0.10 passing these as positional arguments will result in an error\n",
      "  mel=np.mean(librosa.feature.melspectrogram(data, sr=sample_rate).T,axis=0)\n"
     ]
    },
    {
     "name": "stdout",
     "output_type": "stream",
     "text": [
      "1223\n",
      "disgust_male\n"
     ]
    },
    {
     "name": "stderr",
     "output_type": "stream",
     "text": [
      "/var/folders/7h/3y0jb5yx0g399b2y_qtq_db80000gn/T/ipykernel_26966/1257479974.py:14: FutureWarning: Pass y=[ 0.0000000e+00  0.0000000e+00  0.0000000e+00 ... -3.2035434e-06\n",
      "  1.9882200e-06  0.0000000e+00] as keyword args. From version 0.10 passing these as positional arguments will result in an error\n",
      "  mel=np.mean(librosa.feature.melspectrogram(data, sr=sample_rate).T,axis=0)\n"
     ]
    },
    {
     "name": "stdout",
     "output_type": "stream",
     "text": [
      "1224\n",
      "sad_male\n"
     ]
    },
    {
     "name": "stderr",
     "output_type": "stream",
     "text": [
      "/var/folders/7h/3y0jb5yx0g399b2y_qtq_db80000gn/T/ipykernel_26966/1257479974.py:14: FutureWarning: Pass y=[-1.3432957e-06  1.2869455e-06 -9.9634451e-07 ...  1.2306461e-06\n",
      " -1.2632922e-05  0.0000000e+00] as keyword args. From version 0.10 passing these as positional arguments will result in an error\n",
      "  mel=np.mean(librosa.feature.melspectrogram(data, sr=sample_rate).T,axis=0)\n"
     ]
    },
    {
     "name": "stdout",
     "output_type": "stream",
     "text": [
      "1225\n",
      "sad_male\n"
     ]
    },
    {
     "name": "stderr",
     "output_type": "stream",
     "text": [
      "/var/folders/7h/3y0jb5yx0g399b2y_qtq_db80000gn/T/ipykernel_26966/1257479974.py:14: FutureWarning: Pass y=[ 1.8669036e-05 -1.2772120e-04 -3.5978525e-04 ... -2.9471530e-05\n",
      " -1.9710425e-05  0.0000000e+00] as keyword args. From version 0.10 passing these as positional arguments will result in an error\n",
      "  mel=np.mean(librosa.feature.melspectrogram(data, sr=sample_rate).T,axis=0)\n"
     ]
    },
    {
     "name": "stdout",
     "output_type": "stream",
     "text": [
      "1226\n",
      "disgust_male\n"
     ]
    },
    {
     "name": "stderr",
     "output_type": "stream",
     "text": [
      "/var/folders/7h/3y0jb5yx0g399b2y_qtq_db80000gn/T/ipykernel_26966/1257479974.py:14: FutureWarning: Pass y=[2.9912471e-05 5.0710983e-05 6.0789145e-05 ... 8.6951241e-06 2.0582722e-05\n",
      " 0.0000000e+00] as keyword args. From version 0.10 passing these as positional arguments will result in an error\n",
      "  mel=np.mean(librosa.feature.melspectrogram(data, sr=sample_rate).T,axis=0)\n"
     ]
    },
    {
     "name": "stdout",
     "output_type": "stream",
     "text": [
      "1227\n",
      "happy_male\n"
     ]
    },
    {
     "name": "stderr",
     "output_type": "stream",
     "text": [
      "/var/folders/7h/3y0jb5yx0g399b2y_qtq_db80000gn/T/ipykernel_26966/1257479974.py:14: FutureWarning: Pass y=[ 1.1113138e-05 -1.1405659e-05 -3.5587494e-05 ...  8.7248452e-05\n",
      "  9.0432688e-05  0.0000000e+00] as keyword args. From version 0.10 passing these as positional arguments will result in an error\n",
      "  mel=np.mean(librosa.feature.melspectrogram(data, sr=sample_rate).T,axis=0)\n",
      "/var/folders/7h/3y0jb5yx0g399b2y_qtq_db80000gn/T/ipykernel_26966/1257479974.py:14: FutureWarning: Pass y=[-4.5792534e-05 -3.4121575e-05  1.9327756e-05 ...  2.5398066e-04\n",
      "  2.5444882e-04  0.0000000e+00] as keyword args. From version 0.10 passing these as positional arguments will result in an error\n",
      "  mel=np.mean(librosa.feature.melspectrogram(data, sr=sample_rate).T,axis=0)\n"
     ]
    },
    {
     "name": "stdout",
     "output_type": "stream",
     "text": [
      "1228\n",
      "happy_male\n",
      "1229\n",
      "calm_male\n"
     ]
    },
    {
     "name": "stderr",
     "output_type": "stream",
     "text": [
      "/var/folders/7h/3y0jb5yx0g399b2y_qtq_db80000gn/T/ipykernel_26966/1257479974.py:14: FutureWarning: Pass y=[4.18254494e-05 9.20717503e-05 5.96527825e-05 ... 1.03476894e-04\n",
      " 6.00101666e-05 0.00000000e+00] as keyword args. From version 0.10 passing these as positional arguments will result in an error\n",
      "  mel=np.mean(librosa.feature.melspectrogram(data, sr=sample_rate).T,axis=0)\n"
     ]
    },
    {
     "name": "stdout",
     "output_type": "stream",
     "text": [
      "1230\n",
      "neutral_male\n"
     ]
    },
    {
     "name": "stderr",
     "output_type": "stream",
     "text": [
      "/var/folders/7h/3y0jb5yx0g399b2y_qtq_db80000gn/T/ipykernel_26966/1257479974.py:14: FutureWarning: Pass y=[-6.9552157e-06 -2.4600524e-05  5.7646896e-05 ...  4.8810656e-05\n",
      "  6.9940679e-06  0.0000000e+00] as keyword args. From version 0.10 passing these as positional arguments will result in an error\n",
      "  mel=np.mean(librosa.feature.melspectrogram(data, sr=sample_rate).T,axis=0)\n"
     ]
    },
    {
     "name": "stdout",
     "output_type": "stream",
     "text": [
      "1231\n",
      "calm_male\n"
     ]
    },
    {
     "name": "stderr",
     "output_type": "stream",
     "text": [
      "/var/folders/7h/3y0jb5yx0g399b2y_qtq_db80000gn/T/ipykernel_26966/1257479974.py:14: FutureWarning: Pass y=[ 0.0000000e+00  0.0000000e+00  0.0000000e+00 ... -1.0029816e-05\n",
      " -1.7146378e-05  0.0000000e+00] as keyword args. From version 0.10 passing these as positional arguments will result in an error\n",
      "  mel=np.mean(librosa.feature.melspectrogram(data, sr=sample_rate).T,axis=0)\n"
     ]
    },
    {
     "name": "stdout",
     "output_type": "stream",
     "text": [
      "1232\n",
      "surprised_male\n"
     ]
    },
    {
     "name": "stderr",
     "output_type": "stream",
     "text": [
      "/var/folders/7h/3y0jb5yx0g399b2y_qtq_db80000gn/T/ipykernel_26966/1257479974.py:14: FutureWarning: Pass y=[ 1.7271600e-07 -2.1852227e-07  2.6624778e-07 ...  5.9923921e-05\n",
      "  3.7832175e-05  0.0000000e+00] as keyword args. From version 0.10 passing these as positional arguments will result in an error\n",
      "  mel=np.mean(librosa.feature.melspectrogram(data, sr=sample_rate).T,axis=0)\n"
     ]
    },
    {
     "name": "stdout",
     "output_type": "stream",
     "text": [
      "1233\n",
      "surprised_male\n",
      "1234\n",
      "sad_male\n"
     ]
    },
    {
     "name": "stderr",
     "output_type": "stream",
     "text": [
      "/var/folders/7h/3y0jb5yx0g399b2y_qtq_db80000gn/T/ipykernel_26966/1257479974.py:14: FutureWarning: Pass y=[ 0.0003074   0.00034795  0.00040099 ... -0.0037315  -0.00421203\n",
      "  0.        ] as keyword args. From version 0.10 passing these as positional arguments will result in an error\n",
      "  mel=np.mean(librosa.feature.melspectrogram(data, sr=sample_rate).T,axis=0)\n"
     ]
    },
    {
     "name": "stdout",
     "output_type": "stream",
     "text": [
      "1235\n",
      "disgust_male\n"
     ]
    },
    {
     "name": "stderr",
     "output_type": "stream",
     "text": [
      "/var/folders/7h/3y0jb5yx0g399b2y_qtq_db80000gn/T/ipykernel_26966/1257479974.py:14: FutureWarning: Pass y=[ 0.0000000e+00  0.0000000e+00  0.0000000e+00 ...  1.2416451e-06\n",
      " -8.0814652e-07  0.0000000e+00] as keyword args. From version 0.10 passing these as positional arguments will result in an error\n",
      "  mel=np.mean(librosa.feature.melspectrogram(data, sr=sample_rate).T,axis=0)\n",
      "/var/folders/7h/3y0jb5yx0g399b2y_qtq_db80000gn/T/ipykernel_26966/1257479974.py:14: FutureWarning: Pass y=[ 2.1269438e-05  2.8919967e-05 -4.2267434e-06 ...  2.2514407e-05\n",
      "  6.9129883e-06  0.0000000e+00] as keyword args. From version 0.10 passing these as positional arguments will result in an error\n",
      "  mel=np.mean(librosa.feature.melspectrogram(data, sr=sample_rate).T,axis=0)\n"
     ]
    },
    {
     "name": "stdout",
     "output_type": "stream",
     "text": [
      "1236\n",
      "disgust_male\n",
      "1237\n",
      "sad_male\n"
     ]
    },
    {
     "name": "stderr",
     "output_type": "stream",
     "text": [
      "/var/folders/7h/3y0jb5yx0g399b2y_qtq_db80000gn/T/ipykernel_26966/1257479974.py:14: FutureWarning: Pass y=[ 0.0000000e+00  0.0000000e+00  0.0000000e+00 ...  1.5038186e-06\n",
      " -5.9492500e-06  0.0000000e+00] as keyword args. From version 0.10 passing these as positional arguments will result in an error\n",
      "  mel=np.mean(librosa.feature.melspectrogram(data, sr=sample_rate).T,axis=0)\n"
     ]
    },
    {
     "name": "stdout",
     "output_type": "stream",
     "text": [
      "1238\n",
      "fearful_male\n"
     ]
    },
    {
     "name": "stderr",
     "output_type": "stream",
     "text": [
      "/var/folders/7h/3y0jb5yx0g399b2y_qtq_db80000gn/T/ipykernel_26966/1257479974.py:14: FutureWarning: Pass y=[0.0000000e+00 0.0000000e+00 0.0000000e+00 ... 4.6879708e-05 6.0357310e-05\n",
      " 0.0000000e+00] as keyword args. From version 0.10 passing these as positional arguments will result in an error\n",
      "  mel=np.mean(librosa.feature.melspectrogram(data, sr=sample_rate).T,axis=0)\n"
     ]
    },
    {
     "name": "stdout",
     "output_type": "stream",
     "text": [
      "1239\n",
      "angry_male\n"
     ]
    },
    {
     "name": "stderr",
     "output_type": "stream",
     "text": [
      "/var/folders/7h/3y0jb5yx0g399b2y_qtq_db80000gn/T/ipykernel_26966/1257479974.py:14: FutureWarning: Pass y=[ 8.2726147e-05  1.4654892e-04  1.3556084e-04 ... -1.9572058e-03\n",
      " -2.2415691e-03  0.0000000e+00] as keyword args. From version 0.10 passing these as positional arguments will result in an error\n",
      "  mel=np.mean(librosa.feature.melspectrogram(data, sr=sample_rate).T,axis=0)\n"
     ]
    },
    {
     "name": "stdout",
     "output_type": "stream",
     "text": [
      "1240\n",
      "angry_male\n"
     ]
    },
    {
     "name": "stderr",
     "output_type": "stream",
     "text": [
      "/var/folders/7h/3y0jb5yx0g399b2y_qtq_db80000gn/T/ipykernel_26966/1257479974.py:14: FutureWarning: Pass y=[-1.5004172e-11  1.7683034e-11 -1.7317165e-11 ... -1.9039888e-07\n",
      "  2.2156297e-07  0.0000000e+00] as keyword args. From version 0.10 passing these as positional arguments will result in an error\n",
      "  mel=np.mean(librosa.feature.melspectrogram(data, sr=sample_rate).T,axis=0)\n",
      "/var/folders/7h/3y0jb5yx0g399b2y_qtq_db80000gn/T/ipykernel_26966/1257479974.py:14: FutureWarning: Pass y=[ 0.0000000e+00  0.0000000e+00  0.0000000e+00 ...  2.2212343e-07\n",
      " -2.6932872e-07  0.0000000e+00] as keyword args. From version 0.10 passing these as positional arguments will result in an error\n",
      "  mel=np.mean(librosa.feature.melspectrogram(data, sr=sample_rate).T,axis=0)\n"
     ]
    },
    {
     "name": "stdout",
     "output_type": "stream",
     "text": [
      "1241\n",
      "fearful_male\n",
      "1242\n",
      "neutral_male\n"
     ]
    },
    {
     "name": "stderr",
     "output_type": "stream",
     "text": [
      "/var/folders/7h/3y0jb5yx0g399b2y_qtq_db80000gn/T/ipykernel_26966/1257479974.py:14: FutureWarning: Pass y=[-4.1189625e-05 -1.0384996e-04 -8.7950379e-05 ...  1.2113780e-05\n",
      "  4.3344317e-05  0.0000000e+00] as keyword args. From version 0.10 passing these as positional arguments will result in an error\n",
      "  mel=np.mean(librosa.feature.melspectrogram(data, sr=sample_rate).T,axis=0)\n"
     ]
    },
    {
     "name": "stdout",
     "output_type": "stream",
     "text": [
      "1243\n",
      "calm_male\n"
     ]
    },
    {
     "name": "stderr",
     "output_type": "stream",
     "text": [
      "/var/folders/7h/3y0jb5yx0g399b2y_qtq_db80000gn/T/ipykernel_26966/1257479974.py:14: FutureWarning: Pass y=[ 4.6018616e-07 -7.7532086e-06 -1.2274965e-05 ...  1.9530571e-05\n",
      " -4.9639411e-06  0.0000000e+00] as keyword args. From version 0.10 passing these as positional arguments will result in an error\n",
      "  mel=np.mean(librosa.feature.melspectrogram(data, sr=sample_rate).T,axis=0)\n"
     ]
    },
    {
     "name": "stdout",
     "output_type": "stream",
     "text": [
      "1244\n",
      "calm_male\n"
     ]
    },
    {
     "name": "stderr",
     "output_type": "stream",
     "text": [
      "/var/folders/7h/3y0jb5yx0g399b2y_qtq_db80000gn/T/ipykernel_26966/1257479974.py:14: FutureWarning: Pass y=[ 2.9435270e-05 -1.2832250e-04 -3.0972192e-04 ...  0.0000000e+00\n",
      "  0.0000000e+00  0.0000000e+00] as keyword args. From version 0.10 passing these as positional arguments will result in an error\n",
      "  mel=np.mean(librosa.feature.melspectrogram(data, sr=sample_rate).T,axis=0)\n"
     ]
    },
    {
     "name": "stdout",
     "output_type": "stream",
     "text": [
      "1245\n",
      "happy_male\n"
     ]
    },
    {
     "name": "stderr",
     "output_type": "stream",
     "text": [
      "/var/folders/7h/3y0jb5yx0g399b2y_qtq_db80000gn/T/ipykernel_26966/1257479974.py:14: FutureWarning: Pass y=[-5.2194562e-08  5.5275912e-08 -5.6191130e-08 ...  1.9121646e-05\n",
      "  2.8774398e-06  0.0000000e+00] as keyword args. From version 0.10 passing these as positional arguments will result in an error\n",
      "  mel=np.mean(librosa.feature.melspectrogram(data, sr=sample_rate).T,axis=0)\n"
     ]
    },
    {
     "name": "stdout",
     "output_type": "stream",
     "text": [
      "1246\n",
      "happy_male\n"
     ]
    },
    {
     "name": "stderr",
     "output_type": "stream",
     "text": [
      "/var/folders/7h/3y0jb5yx0g399b2y_qtq_db80000gn/T/ipykernel_26966/1257479974.py:14: FutureWarning: Pass y=[-4.4763747e-05 -4.2126911e-05 -5.1564479e-05 ... -4.1429611e-04\n",
      " -4.7729138e-04  0.0000000e+00] as keyword args. From version 0.10 passing these as positional arguments will result in an error\n",
      "  mel=np.mean(librosa.feature.melspectrogram(data, sr=sample_rate).T,axis=0)\n"
     ]
    },
    {
     "name": "stdout",
     "output_type": "stream",
     "text": [
      "1247\n",
      "calm_male\n"
     ]
    },
    {
     "name": "stderr",
     "output_type": "stream",
     "text": [
      "/var/folders/7h/3y0jb5yx0g399b2y_qtq_db80000gn/T/ipykernel_26966/1257479974.py:14: FutureWarning: Pass y=[ 0.0000000e+00  0.0000000e+00  0.0000000e+00 ... -8.4921844e-08\n",
      " -2.1507472e-07  0.0000000e+00] as keyword args. From version 0.10 passing these as positional arguments will result in an error\n",
      "  mel=np.mean(librosa.feature.melspectrogram(data, sr=sample_rate).T,axis=0)\n"
     ]
    },
    {
     "name": "stdout",
     "output_type": "stream",
     "text": [
      "1248\n",
      "neutral_male\n"
     ]
    },
    {
     "name": "stderr",
     "output_type": "stream",
     "text": [
      "/var/folders/7h/3y0jb5yx0g399b2y_qtq_db80000gn/T/ipykernel_26966/1257479974.py:14: FutureWarning: Pass y=[-1.0475464e-04 -2.7877415e-04 -3.6966958e-05 ... -1.9661774e-04\n",
      " -2.7534310e-04  0.0000000e+00] as keyword args. From version 0.10 passing these as positional arguments will result in an error\n",
      "  mel=np.mean(librosa.feature.melspectrogram(data, sr=sample_rate).T,axis=0)\n"
     ]
    },
    {
     "name": "stdout",
     "output_type": "stream",
     "text": [
      "1249\n",
      "calm_male\n"
     ]
    },
    {
     "name": "stderr",
     "output_type": "stream",
     "text": [
      "/var/folders/7h/3y0jb5yx0g399b2y_qtq_db80000gn/T/ipykernel_26966/1257479974.py:14: FutureWarning: Pass y=[ 1.54872885e-06 -6.30036948e-06 -1.11211695e-04 ... -5.24292554e-05\n",
      " -1.66489754e-05  0.00000000e+00] as keyword args. From version 0.10 passing these as positional arguments will result in an error\n",
      "  mel=np.mean(librosa.feature.melspectrogram(data, sr=sample_rate).T,axis=0)\n"
     ]
    },
    {
     "name": "stdout",
     "output_type": "stream",
     "text": [
      "1250\n",
      "happy_male\n",
      "1251\n",
      "happy_male\n"
     ]
    },
    {
     "name": "stderr",
     "output_type": "stream",
     "text": [
      "/var/folders/7h/3y0jb5yx0g399b2y_qtq_db80000gn/T/ipykernel_26966/1257479974.py:14: FutureWarning: Pass y=[7.1547111e-05 7.0153549e-04 5.9547304e-04 ... 4.6288769e-05 3.5383007e-05\n",
      " 0.0000000e+00] as keyword args. From version 0.10 passing these as positional arguments will result in an error\n",
      "  mel=np.mean(librosa.feature.melspectrogram(data, sr=sample_rate).T,axis=0)\n"
     ]
    },
    {
     "name": "stdout",
     "output_type": "stream",
     "text": [
      "1252\n",
      "surprised_male\n"
     ]
    },
    {
     "name": "stderr",
     "output_type": "stream",
     "text": [
      "/var/folders/7h/3y0jb5yx0g399b2y_qtq_db80000gn/T/ipykernel_26966/1257479974.py:14: FutureWarning: Pass y=[ 0.0000000e+00  0.0000000e+00  0.0000000e+00 ... -6.8374204e-05\n",
      " -6.7845300e-05  0.0000000e+00] as keyword args. From version 0.10 passing these as positional arguments will result in an error\n",
      "  mel=np.mean(librosa.feature.melspectrogram(data, sr=sample_rate).T,axis=0)\n"
     ]
    },
    {
     "name": "stdout",
     "output_type": "stream",
     "text": [
      "1253\n",
      "surprised_male\n"
     ]
    },
    {
     "name": "stderr",
     "output_type": "stream",
     "text": [
      "/var/folders/7h/3y0jb5yx0g399b2y_qtq_db80000gn/T/ipykernel_26966/1257479974.py:14: FutureWarning: Pass y=[0.         0.         0.         ... 0.00031792 0.00032154 0.        ] as keyword args. From version 0.10 passing these as positional arguments will result in an error\n",
      "  mel=np.mean(librosa.feature.melspectrogram(data, sr=sample_rate).T,axis=0)\n"
     ]
    },
    {
     "name": "stdout",
     "output_type": "stream",
     "text": [
      "1254\n",
      "disgust_male\n"
     ]
    },
    {
     "name": "stderr",
     "output_type": "stream",
     "text": [
      "/var/folders/7h/3y0jb5yx0g399b2y_qtq_db80000gn/T/ipykernel_26966/1257479974.py:14: FutureWarning: Pass y=[ 0.0000000e+00  0.0000000e+00  0.0000000e+00 ...  2.8961681e-08\n",
      " -1.6367251e-07  0.0000000e+00] as keyword args. From version 0.10 passing these as positional arguments will result in an error\n",
      "  mel=np.mean(librosa.feature.melspectrogram(data, sr=sample_rate).T,axis=0)\n"
     ]
    },
    {
     "name": "stdout",
     "output_type": "stream",
     "text": [
      "1255\n",
      "sad_male\n"
     ]
    },
    {
     "name": "stderr",
     "output_type": "stream",
     "text": [
      "/var/folders/7h/3y0jb5yx0g399b2y_qtq_db80000gn/T/ipykernel_26966/1257479974.py:14: FutureWarning: Pass y=[-7.2168201e-05 -3.6536949e-05  3.4393956e-06 ...  1.0010435e-03\n",
      "  1.1556239e-03  0.0000000e+00] as keyword args. From version 0.10 passing these as positional arguments will result in an error\n",
      "  mel=np.mean(librosa.feature.melspectrogram(data, sr=sample_rate).T,axis=0)\n"
     ]
    },
    {
     "name": "stdout",
     "output_type": "stream",
     "text": [
      "1256\n",
      "sad_male\n"
     ]
    },
    {
     "name": "stderr",
     "output_type": "stream",
     "text": [
      "/var/folders/7h/3y0jb5yx0g399b2y_qtq_db80000gn/T/ipykernel_26966/1257479974.py:14: FutureWarning: Pass y=[ 2.9691892e-05  4.9651033e-05  4.4956159e-05 ... -2.6691730e-06\n",
      "  1.9062189e-05  0.0000000e+00] as keyword args. From version 0.10 passing these as positional arguments will result in an error\n",
      "  mel=np.mean(librosa.feature.melspectrogram(data, sr=sample_rate).T,axis=0)\n",
      "/var/folders/7h/3y0jb5yx0g399b2y_qtq_db80000gn/T/ipykernel_26966/1257479974.py:14: FutureWarning: Pass y=[-6.5361646e-06 -2.0728428e-05 -1.7546725e-05 ...  2.6527623e-06\n",
      " -1.3032137e-06  0.0000000e+00] as keyword args. From version 0.10 passing these as positional arguments will result in an error\n",
      "  mel=np.mean(librosa.feature.melspectrogram(data, sr=sample_rate).T,axis=0)\n"
     ]
    },
    {
     "name": "stdout",
     "output_type": "stream",
     "text": [
      "1257\n",
      "disgust_male\n",
      "1258\n",
      "angry_male\n"
     ]
    },
    {
     "name": "stderr",
     "output_type": "stream",
     "text": [
      "/var/folders/7h/3y0jb5yx0g399b2y_qtq_db80000gn/T/ipykernel_26966/1257479974.py:14: FutureWarning: Pass y=[-4.3152293e-05 -7.4261145e-05 -1.0311755e-04 ...  6.3956500e-06\n",
      "  3.5136250e-06  0.0000000e+00] as keyword args. From version 0.10 passing these as positional arguments will result in an error\n",
      "  mel=np.mean(librosa.feature.melspectrogram(data, sr=sample_rate).T,axis=0)\n"
     ]
    },
    {
     "name": "stdout",
     "output_type": "stream",
     "text": [
      "1259\n",
      "fearful_male\n"
     ]
    },
    {
     "name": "stderr",
     "output_type": "stream",
     "text": [
      "/var/folders/7h/3y0jb5yx0g399b2y_qtq_db80000gn/T/ipykernel_26966/1257479974.py:14: FutureWarning: Pass y=[ 7.4806881e-09 -5.1327889e-09  1.5384088e-09 ...  1.0204192e-04\n",
      "  1.5632538e-04  0.0000000e+00] as keyword args. From version 0.10 passing these as positional arguments will result in an error\n",
      "  mel=np.mean(librosa.feature.melspectrogram(data, sr=sample_rate).T,axis=0)\n"
     ]
    },
    {
     "name": "stdout",
     "output_type": "stream",
     "text": [
      "1260\n",
      "fearful_male\n"
     ]
    },
    {
     "name": "stderr",
     "output_type": "stream",
     "text": [
      "/var/folders/7h/3y0jb5yx0g399b2y_qtq_db80000gn/T/ipykernel_26966/1257479974.py:14: FutureWarning: Pass y=[6.26049150e-05 1.04597726e-04 7.04612321e-05 ... 2.22850154e-04\n",
      " 2.55640480e-04 0.00000000e+00] as keyword args. From version 0.10 passing these as positional arguments will result in an error\n",
      "  mel=np.mean(librosa.feature.melspectrogram(data, sr=sample_rate).T,axis=0)\n"
     ]
    },
    {
     "name": "stdout",
     "output_type": "stream",
     "text": [
      "1261\n",
      "angry_male\n"
     ]
    },
    {
     "name": "stderr",
     "output_type": "stream",
     "text": [
      "/var/folders/7h/3y0jb5yx0g399b2y_qtq_db80000gn/T/ipykernel_26966/1257479974.py:14: FutureWarning: Pass y=[ 6.7390306e-06  3.4906956e-05  2.5074445e-05 ... -7.7542878e-04\n",
      " -8.8504690e-04  0.0000000e+00] as keyword args. From version 0.10 passing these as positional arguments will result in an error\n",
      "  mel=np.mean(librosa.feature.melspectrogram(data, sr=sample_rate).T,axis=0)\n",
      "/var/folders/7h/3y0jb5yx0g399b2y_qtq_db80000gn/T/ipykernel_26966/1257479974.py:14: FutureWarning: Pass y=[-6.4395023e-09  7.4635471e-09 -8.3225995e-09 ...  3.1793024e-07\n",
      "  1.3499992e-07  0.0000000e+00] as keyword args. From version 0.10 passing these as positional arguments will result in an error\n",
      "  mel=np.mean(librosa.feature.melspectrogram(data, sr=sample_rate).T,axis=0)\n"
     ]
    },
    {
     "name": "stdout",
     "output_type": "stream",
     "text": [
      "1262\n",
      "neutral_female\n",
      "1263\n",
      "calm_female\n"
     ]
    },
    {
     "name": "stderr",
     "output_type": "stream",
     "text": [
      "/var/folders/7h/3y0jb5yx0g399b2y_qtq_db80000gn/T/ipykernel_26966/1257479974.py:14: FutureWarning: Pass y=[0.0000000e+00 0.0000000e+00 0.0000000e+00 ... 3.6143392e-05 4.4045821e-05\n",
      " 0.0000000e+00] as keyword args. From version 0.10 passing these as positional arguments will result in an error\n",
      "  mel=np.mean(librosa.feature.melspectrogram(data, sr=sample_rate).T,axis=0)\n"
     ]
    },
    {
     "name": "stdout",
     "output_type": "stream",
     "text": [
      "1264\n",
      "calm_female\n"
     ]
    },
    {
     "name": "stderr",
     "output_type": "stream",
     "text": [
      "/var/folders/7h/3y0jb5yx0g399b2y_qtq_db80000gn/T/ipykernel_26966/1257479974.py:14: FutureWarning: Pass y=[ 4.0444988e-06  1.0505023e-05  3.0682679e-06 ... -1.3454720e-04\n",
      " -1.7870164e-04  0.0000000e+00] as keyword args. From version 0.10 passing these as positional arguments will result in an error\n",
      "  mel=np.mean(librosa.feature.melspectrogram(data, sr=sample_rate).T,axis=0)\n"
     ]
    },
    {
     "name": "stdout",
     "output_type": "stream",
     "text": [
      "1265\n",
      "happy_female\n"
     ]
    },
    {
     "name": "stderr",
     "output_type": "stream",
     "text": [
      "/var/folders/7h/3y0jb5yx0g399b2y_qtq_db80000gn/T/ipykernel_26966/1257479974.py:14: FutureWarning: Pass y=[ 3.1950002e-08 -2.0923199e-08  5.6957501e-09 ... -4.1818626e-06\n",
      "  2.6262117e-06  0.0000000e+00] as keyword args. From version 0.10 passing these as positional arguments will result in an error\n",
      "  mel=np.mean(librosa.feature.melspectrogram(data, sr=sample_rate).T,axis=0)\n"
     ]
    },
    {
     "name": "stdout",
     "output_type": "stream",
     "text": [
      "1266\n",
      "happy_female\n"
     ]
    },
    {
     "name": "stderr",
     "output_type": "stream",
     "text": [
      "/var/folders/7h/3y0jb5yx0g399b2y_qtq_db80000gn/T/ipykernel_26966/1257479974.py:14: FutureWarning: Pass y=[2.3162602e-05 5.4042284e-05 4.0323219e-05 ... 5.7857623e-04 5.9454731e-04\n",
      " 0.0000000e+00] as keyword args. From version 0.10 passing these as positional arguments will result in an error\n",
      "  mel=np.mean(librosa.feature.melspectrogram(data, sr=sample_rate).T,axis=0)\n",
      "/var/folders/7h/3y0jb5yx0g399b2y_qtq_db80000gn/T/ipykernel_26966/1257479974.py:14: FutureWarning: Pass y=[ 3.4013382e-07 -3.4082143e-07  3.2611081e-07 ...  3.2641710e-06\n",
      " -2.0297441e-05  0.0000000e+00] as keyword args. From version 0.10 passing these as positional arguments will result in an error\n",
      "  mel=np.mean(librosa.feature.melspectrogram(data, sr=sample_rate).T,axis=0)\n"
     ]
    },
    {
     "name": "stdout",
     "output_type": "stream",
     "text": [
      "1267\n",
      "surprised_female\n",
      "1268\n",
      "surprised_female\n"
     ]
    },
    {
     "name": "stderr",
     "output_type": "stream",
     "text": [
      "/var/folders/7h/3y0jb5yx0g399b2y_qtq_db80000gn/T/ipykernel_26966/1257479974.py:14: FutureWarning: Pass y=[ 5.3429405e-05  6.3026586e-05  6.6467146e-05 ...  6.0111086e-07\n",
      " -5.4947105e-07  0.0000000e+00] as keyword args. From version 0.10 passing these as positional arguments will result in an error\n",
      "  mel=np.mean(librosa.feature.melspectrogram(data, sr=sample_rate).T,axis=0)\n"
     ]
    },
    {
     "name": "stdout",
     "output_type": "stream",
     "text": [
      "1269\n",
      "sad_female\n"
     ]
    },
    {
     "name": "stderr",
     "output_type": "stream",
     "text": [
      "/var/folders/7h/3y0jb5yx0g399b2y_qtq_db80000gn/T/ipykernel_26966/1257479974.py:14: FutureWarning: Pass y=[1.7581029e-05 1.0717659e-05 4.7029575e-06 ... 1.2857182e-05 1.8291441e-05\n",
      " 0.0000000e+00] as keyword args. From version 0.10 passing these as positional arguments will result in an error\n",
      "  mel=np.mean(librosa.feature.melspectrogram(data, sr=sample_rate).T,axis=0)\n"
     ]
    },
    {
     "name": "stdout",
     "output_type": "stream",
     "text": [
      "1270\n",
      "disgust_female\n"
     ]
    },
    {
     "name": "stderr",
     "output_type": "stream",
     "text": [
      "/var/folders/7h/3y0jb5yx0g399b2y_qtq_db80000gn/T/ipykernel_26966/1257479974.py:14: FutureWarning: Pass y=[-3.9237580e-06  1.3506251e-05  1.9488196e-05 ... -9.1899838e-06\n",
      "  4.2024317e-06  0.0000000e+00] as keyword args. From version 0.10 passing these as positional arguments will result in an error\n",
      "  mel=np.mean(librosa.feature.melspectrogram(data, sr=sample_rate).T,axis=0)\n"
     ]
    },
    {
     "name": "stdout",
     "output_type": "stream",
     "text": [
      "1271\n",
      "disgust_female\n"
     ]
    },
    {
     "name": "stderr",
     "output_type": "stream",
     "text": [
      "/var/folders/7h/3y0jb5yx0g399b2y_qtq_db80000gn/T/ipykernel_26966/1257479974.py:14: FutureWarning: Pass y=[-1.0186488e-08  2.3228525e-08 -3.8890981e-08 ... -6.3651207e-08\n",
      "  4.6026432e-08  0.0000000e+00] as keyword args. From version 0.10 passing these as positional arguments will result in an error\n",
      "  mel=np.mean(librosa.feature.melspectrogram(data, sr=sample_rate).T,axis=0)\n"
     ]
    },
    {
     "name": "stdout",
     "output_type": "stream",
     "text": [
      "1272\n",
      "sad_female\n"
     ]
    },
    {
     "name": "stderr",
     "output_type": "stream",
     "text": [
      "/var/folders/7h/3y0jb5yx0g399b2y_qtq_db80000gn/T/ipykernel_26966/1257479974.py:14: FutureWarning: Pass y=[-6.2164168e-07  6.8378080e-07 -7.4694310e-07 ...  4.0428527e-06\n",
      " -2.2174786e-06  0.0000000e+00] as keyword args. From version 0.10 passing these as positional arguments will result in an error\n",
      "  mel=np.mean(librosa.feature.melspectrogram(data, sr=sample_rate).T,axis=0)\n"
     ]
    },
    {
     "name": "stdout",
     "output_type": "stream",
     "text": [
      "1273\n",
      "fearful_female\n"
     ]
    },
    {
     "name": "stderr",
     "output_type": "stream",
     "text": [
      "/var/folders/7h/3y0jb5yx0g399b2y_qtq_db80000gn/T/ipykernel_26966/1257479974.py:14: FutureWarning: Pass y=[ 9.4489129e-05  4.8393532e-04 -6.1308587e-05 ... -1.8284129e-05\n",
      " -1.8247386e-04  0.0000000e+00] as keyword args. From version 0.10 passing these as positional arguments will result in an error\n",
      "  mel=np.mean(librosa.feature.melspectrogram(data, sr=sample_rate).T,axis=0)\n"
     ]
    },
    {
     "name": "stdout",
     "output_type": "stream",
     "text": [
      "1274\n",
      "angry_female\n"
     ]
    },
    {
     "name": "stderr",
     "output_type": "stream",
     "text": [
      "/var/folders/7h/3y0jb5yx0g399b2y_qtq_db80000gn/T/ipykernel_26966/1257479974.py:14: FutureWarning: Pass y=[ 2.6842025e-07 -2.0738857e-07  9.8393606e-08 ...  1.3844285e-06\n",
      "  1.0756895e-05  0.0000000e+00] as keyword args. From version 0.10 passing these as positional arguments will result in an error\n",
      "  mel=np.mean(librosa.feature.melspectrogram(data, sr=sample_rate).T,axis=0)\n"
     ]
    },
    {
     "name": "stdout",
     "output_type": "stream",
     "text": [
      "1275\n",
      "angry_female\n"
     ]
    },
    {
     "name": "stderr",
     "output_type": "stream",
     "text": [
      "/var/folders/7h/3y0jb5yx0g399b2y_qtq_db80000gn/T/ipykernel_26966/1257479974.py:14: FutureWarning: Pass y=[ 1.67177053e-11 -4.03194492e-11  7.91345323e-11 ... -1.23551345e-05\n",
      " -8.04624415e-06  0.00000000e+00] as keyword args. From version 0.10 passing these as positional arguments will result in an error\n",
      "  mel=np.mean(librosa.feature.melspectrogram(data, sr=sample_rate).T,axis=0)\n"
     ]
    },
    {
     "name": "stdout",
     "output_type": "stream",
     "text": [
      "1276\n",
      "fearful_female\n"
     ]
    },
    {
     "name": "stderr",
     "output_type": "stream",
     "text": [
      "/var/folders/7h/3y0jb5yx0g399b2y_qtq_db80000gn/T/ipykernel_26966/1257479974.py:14: FutureWarning: Pass y=[-4.0970605e-09  7.0731382e-08 -1.5541151e-07 ... -2.1340954e-06\n",
      "  1.2173756e-05  0.0000000e+00] as keyword args. From version 0.10 passing these as positional arguments will result in an error\n",
      "  mel=np.mean(librosa.feature.melspectrogram(data, sr=sample_rate).T,axis=0)\n",
      "/var/folders/7h/3y0jb5yx0g399b2y_qtq_db80000gn/T/ipykernel_26966/1257479974.py:14: FutureWarning: Pass y=[ 0.000000e+00  0.000000e+00  0.000000e+00 ... -6.284414e-06 -6.311160e-05\n",
      "  0.000000e+00] as keyword args. From version 0.10 passing these as positional arguments will result in an error\n",
      "  mel=np.mean(librosa.feature.melspectrogram(data, sr=sample_rate).T,axis=0)\n"
     ]
    },
    {
     "name": "stdout",
     "output_type": "stream",
     "text": [
      "1277\n",
      "surprised_female\n",
      "1278\n",
      "surprised_female\n"
     ]
    },
    {
     "name": "stderr",
     "output_type": "stream",
     "text": [
      "/var/folders/7h/3y0jb5yx0g399b2y_qtq_db80000gn/T/ipykernel_26966/1257479974.py:14: FutureWarning: Pass y=[ 1.0517221e-05  5.9947442e-06  8.7569351e-06 ...  2.1482999e-06\n",
      " -1.6235051e-06  0.0000000e+00] as keyword args. From version 0.10 passing these as positional arguments will result in an error\n",
      "  mel=np.mean(librosa.feature.melspectrogram(data, sr=sample_rate).T,axis=0)\n"
     ]
    },
    {
     "name": "stdout",
     "output_type": "stream",
     "text": [
      "1279\n",
      "disgust_female\n"
     ]
    },
    {
     "name": "stderr",
     "output_type": "stream",
     "text": [
      "/var/folders/7h/3y0jb5yx0g399b2y_qtq_db80000gn/T/ipykernel_26966/1257479974.py:14: FutureWarning: Pass y=[ 0.0000000e+00  0.0000000e+00  0.0000000e+00 ... -1.9292056e-06\n",
      "  1.5475589e-06  0.0000000e+00] as keyword args. From version 0.10 passing these as positional arguments will result in an error\n",
      "  mel=np.mean(librosa.feature.melspectrogram(data, sr=sample_rate).T,axis=0)\n"
     ]
    },
    {
     "name": "stdout",
     "output_type": "stream",
     "text": [
      "1280\n",
      "sad_female\n"
     ]
    },
    {
     "name": "stderr",
     "output_type": "stream",
     "text": [
      "/var/folders/7h/3y0jb5yx0g399b2y_qtq_db80000gn/T/ipykernel_26966/1257479974.py:14: FutureWarning: Pass y=[0.0000000e+00 0.0000000e+00 0.0000000e+00 ... 2.0320589e-05 7.4368364e-07\n",
      " 0.0000000e+00] as keyword args. From version 0.10 passing these as positional arguments will result in an error\n",
      "  mel=np.mean(librosa.feature.melspectrogram(data, sr=sample_rate).T,axis=0)\n",
      "/var/folders/7h/3y0jb5yx0g399b2y_qtq_db80000gn/T/ipykernel_26966/1257479974.py:14: FutureWarning: Pass y=[ 0.0000000e+00  0.0000000e+00  0.0000000e+00 ... -4.9185683e-06\n",
      "  1.2401711e-05  0.0000000e+00] as keyword args. From version 0.10 passing these as positional arguments will result in an error\n",
      "  mel=np.mean(librosa.feature.melspectrogram(data, sr=sample_rate).T,axis=0)\n"
     ]
    },
    {
     "name": "stdout",
     "output_type": "stream",
     "text": [
      "1281\n",
      "sad_female\n",
      "1282\n",
      "disgust_female\n"
     ]
    },
    {
     "name": "stderr",
     "output_type": "stream",
     "text": [
      "/var/folders/7h/3y0jb5yx0g399b2y_qtq_db80000gn/T/ipykernel_26966/1257479974.py:14: FutureWarning: Pass y=[ 0.0000000e+00  0.0000000e+00  0.0000000e+00 ... -3.5552612e-06\n",
      "  2.1190676e-06  0.0000000e+00] as keyword args. From version 0.10 passing these as positional arguments will result in an error\n",
      "  mel=np.mean(librosa.feature.melspectrogram(data, sr=sample_rate).T,axis=0)\n"
     ]
    },
    {
     "name": "stdout",
     "output_type": "stream",
     "text": [
      "1283\n",
      "angry_female\n"
     ]
    },
    {
     "name": "stderr",
     "output_type": "stream",
     "text": [
      "/var/folders/7h/3y0jb5yx0g399b2y_qtq_db80000gn/T/ipykernel_26966/1257479974.py:14: FutureWarning: Pass y=[ 9.8555691e-05  9.3087674e-06 -1.9251165e-04 ... -1.9098701e-07\n",
      "  1.5667217e-07  0.0000000e+00] as keyword args. From version 0.10 passing these as positional arguments will result in an error\n",
      "  mel=np.mean(librosa.feature.melspectrogram(data, sr=sample_rate).T,axis=0)\n"
     ]
    },
    {
     "name": "stdout",
     "output_type": "stream",
     "text": [
      "1284\n",
      "fearful_female\n"
     ]
    },
    {
     "name": "stderr",
     "output_type": "stream",
     "text": [
      "/var/folders/7h/3y0jb5yx0g399b2y_qtq_db80000gn/T/ipykernel_26966/1257479974.py:14: FutureWarning: Pass y=[ 0.00018984  0.00012664  0.00010941 ... -0.00024708 -0.00023849\n",
      "  0.        ] as keyword args. From version 0.10 passing these as positional arguments will result in an error\n",
      "  mel=np.mean(librosa.feature.melspectrogram(data, sr=sample_rate).T,axis=0)\n"
     ]
    },
    {
     "name": "stdout",
     "output_type": "stream",
     "text": [
      "1285\n",
      "fearful_female\n"
     ]
    },
    {
     "name": "stderr",
     "output_type": "stream",
     "text": [
      "/var/folders/7h/3y0jb5yx0g399b2y_qtq_db80000gn/T/ipykernel_26966/1257479974.py:14: FutureWarning: Pass y=[ 3.5109930e-05  8.6093933e-05  4.1598316e-05 ...  9.4679066e-08\n",
      " -6.9691659e-08  0.0000000e+00] as keyword args. From version 0.10 passing these as positional arguments will result in an error\n",
      "  mel=np.mean(librosa.feature.melspectrogram(data, sr=sample_rate).T,axis=0)\n"
     ]
    },
    {
     "name": "stdout",
     "output_type": "stream",
     "text": [
      "1286\n",
      "angry_female\n"
     ]
    },
    {
     "name": "stderr",
     "output_type": "stream",
     "text": [
      "/var/folders/7h/3y0jb5yx0g399b2y_qtq_db80000gn/T/ipykernel_26966/1257479974.py:14: FutureWarning: Pass y=[0.         0.         0.         ... 0.00017563 0.00018901 0.        ] as keyword args. From version 0.10 passing these as positional arguments will result in an error\n",
      "  mel=np.mean(librosa.feature.melspectrogram(data, sr=sample_rate).T,axis=0)\n"
     ]
    },
    {
     "name": "stdout",
     "output_type": "stream",
     "text": [
      "1287\n",
      "calm_female\n"
     ]
    },
    {
     "name": "stderr",
     "output_type": "stream",
     "text": [
      "/var/folders/7h/3y0jb5yx0g399b2y_qtq_db80000gn/T/ipykernel_26966/1257479974.py:14: FutureWarning: Pass y=[ 1.2258324e-05  2.3364594e-06 -2.9860787e-06 ...  8.1736544e-05\n",
      "  8.3770268e-05  0.0000000e+00] as keyword args. From version 0.10 passing these as positional arguments will result in an error\n",
      "  mel=np.mean(librosa.feature.melspectrogram(data, sr=sample_rate).T,axis=0)\n",
      "/var/folders/7h/3y0jb5yx0g399b2y_qtq_db80000gn/T/ipykernel_26966/1257479974.py:14: FutureWarning: Pass y=[ 0.0000000e+00  0.0000000e+00  0.0000000e+00 ...  2.2398723e-07\n",
      " -4.7471048e-07  0.0000000e+00] as keyword args. From version 0.10 passing these as positional arguments will result in an error\n",
      "  mel=np.mean(librosa.feature.melspectrogram(data, sr=sample_rate).T,axis=0)\n"
     ]
    },
    {
     "name": "stdout",
     "output_type": "stream",
     "text": [
      "1288\n",
      "neutral_female\n",
      "1289\n",
      "calm_female\n"
     ]
    },
    {
     "name": "stderr",
     "output_type": "stream",
     "text": [
      "/var/folders/7h/3y0jb5yx0g399b2y_qtq_db80000gn/T/ipykernel_26966/1257479974.py:14: FutureWarning: Pass y=[ 0.0000000e+00  0.0000000e+00  0.0000000e+00 ... -7.7782204e-08\n",
      "  1.6620365e-07  0.0000000e+00] as keyword args. From version 0.10 passing these as positional arguments will result in an error\n",
      "  mel=np.mean(librosa.feature.melspectrogram(data, sr=sample_rate).T,axis=0)\n"
     ]
    },
    {
     "name": "stdout",
     "output_type": "stream",
     "text": [
      "1290\n",
      "happy_female\n"
     ]
    },
    {
     "name": "stderr",
     "output_type": "stream",
     "text": [
      "/var/folders/7h/3y0jb5yx0g399b2y_qtq_db80000gn/T/ipykernel_26966/1257479974.py:14: FutureWarning: Pass y=[ 7.8480628e-07 -1.1529319e-06  1.6776725e-06 ... -3.8508110e-06\n",
      "  1.8975935e-06  0.0000000e+00] as keyword args. From version 0.10 passing these as positional arguments will result in an error\n",
      "  mel=np.mean(librosa.feature.melspectrogram(data, sr=sample_rate).T,axis=0)\n"
     ]
    },
    {
     "name": "stdout",
     "output_type": "stream",
     "text": [
      "1291\n",
      "happy_female\n"
     ]
    },
    {
     "name": "stderr",
     "output_type": "stream",
     "text": [
      "/var/folders/7h/3y0jb5yx0g399b2y_qtq_db80000gn/T/ipykernel_26966/1257479974.py:14: FutureWarning: Pass y=[ 1.6598801e-06 -2.4691348e-05 -5.8810074e-06 ... -2.1114744e-05\n",
      "  1.7357350e-04  0.0000000e+00] as keyword args. From version 0.10 passing these as positional arguments will result in an error\n",
      "  mel=np.mean(librosa.feature.melspectrogram(data, sr=sample_rate).T,axis=0)\n",
      "/var/folders/7h/3y0jb5yx0g399b2y_qtq_db80000gn/T/ipykernel_26966/1257479974.py:14: FutureWarning: Pass y=[0.0000000e+00 0.0000000e+00 0.0000000e+00 ... 5.5924807e-05 6.4018654e-06\n",
      " 0.0000000e+00] as keyword args. From version 0.10 passing these as positional arguments will result in an error\n",
      "  mel=np.mean(librosa.feature.melspectrogram(data, sr=sample_rate).T,axis=0)\n"
     ]
    },
    {
     "name": "stdout",
     "output_type": "stream",
     "text": [
      "1292\n",
      "surprised_female\n",
      "1293\n",
      "surprised_female\n"
     ]
    },
    {
     "name": "stderr",
     "output_type": "stream",
     "text": [
      "/var/folders/7h/3y0jb5yx0g399b2y_qtq_db80000gn/T/ipykernel_26966/1257479974.py:14: FutureWarning: Pass y=[ 0.0000000e+00  0.0000000e+00  0.0000000e+00 ... -1.6569613e-06\n",
      "  1.2897279e-06  0.0000000e+00] as keyword args. From version 0.10 passing these as positional arguments will result in an error\n",
      "  mel=np.mean(librosa.feature.melspectrogram(data, sr=sample_rate).T,axis=0)\n"
     ]
    },
    {
     "name": "stdout",
     "output_type": "stream",
     "text": [
      "1294\n",
      "fearful_female\n"
     ]
    },
    {
     "name": "stderr",
     "output_type": "stream",
     "text": [
      "/var/folders/7h/3y0jb5yx0g399b2y_qtq_db80000gn/T/ipykernel_26966/1257479974.py:14: FutureWarning: Pass y=[0.0000000e+00 0.0000000e+00 0.0000000e+00 ... 5.4364624e-05 9.8483870e-06\n",
      " 0.0000000e+00] as keyword args. From version 0.10 passing these as positional arguments will result in an error\n",
      "  mel=np.mean(librosa.feature.melspectrogram(data, sr=sample_rate).T,axis=0)\n"
     ]
    },
    {
     "name": "stdout",
     "output_type": "stream",
     "text": [
      "1295\n",
      "angry_female\n"
     ]
    },
    {
     "name": "stderr",
     "output_type": "stream",
     "text": [
      "/var/folders/7h/3y0jb5yx0g399b2y_qtq_db80000gn/T/ipykernel_26966/1257479974.py:14: FutureWarning: Pass y=[ 9.7193045e-11 -1.5043151e-10  2.2122279e-10 ... -9.8774890e-08\n",
      "  6.5448916e-08  0.0000000e+00] as keyword args. From version 0.10 passing these as positional arguments will result in an error\n",
      "  mel=np.mean(librosa.feature.melspectrogram(data, sr=sample_rate).T,axis=0)\n"
     ]
    },
    {
     "name": "stdout",
     "output_type": "stream",
     "text": [
      "1296\n",
      "angry_female\n"
     ]
    },
    {
     "name": "stderr",
     "output_type": "stream",
     "text": [
      "/var/folders/7h/3y0jb5yx0g399b2y_qtq_db80000gn/T/ipykernel_26966/1257479974.py:14: FutureWarning: Pass y=[ 7.3636748e-04  6.0169183e-04  3.7859846e-04 ...  3.8621106e-06\n",
      " -1.5159830e-05  0.0000000e+00] as keyword args. From version 0.10 passing these as positional arguments will result in an error\n",
      "  mel=np.mean(librosa.feature.melspectrogram(data, sr=sample_rate).T,axis=0)\n"
     ]
    },
    {
     "name": "stdout",
     "output_type": "stream",
     "text": [
      "1297\n",
      "fearful_female\n"
     ]
    },
    {
     "name": "stderr",
     "output_type": "stream",
     "text": [
      "/var/folders/7h/3y0jb5yx0g399b2y_qtq_db80000gn/T/ipykernel_26966/1257479974.py:14: FutureWarning: Pass y=[-0.00052314 -0.00206348 -0.00095926 ...  0.00061724  0.00024317\n",
      "  0.        ] as keyword args. From version 0.10 passing these as positional arguments will result in an error\n",
      "  mel=np.mean(librosa.feature.melspectrogram(data, sr=sample_rate).T,axis=0)\n"
     ]
    },
    {
     "name": "stdout",
     "output_type": "stream",
     "text": [
      "1298\n",
      "sad_female\n"
     ]
    },
    {
     "name": "stderr",
     "output_type": "stream",
     "text": [
      "/var/folders/7h/3y0jb5yx0g399b2y_qtq_db80000gn/T/ipykernel_26966/1257479974.py:14: FutureWarning: Pass y=[ 2.2089142e-07 -2.5789879e-07  2.9346901e-07 ...  4.9161537e-09\n",
      " -4.5238084e-09  0.0000000e+00] as keyword args. From version 0.10 passing these as positional arguments will result in an error\n",
      "  mel=np.mean(librosa.feature.melspectrogram(data, sr=sample_rate).T,axis=0)\n"
     ]
    },
    {
     "name": "stdout",
     "output_type": "stream",
     "text": [
      "1299\n",
      "disgust_female\n"
     ]
    },
    {
     "name": "stderr",
     "output_type": "stream",
     "text": [
      "/var/folders/7h/3y0jb5yx0g399b2y_qtq_db80000gn/T/ipykernel_26966/1257479974.py:14: FutureWarning: Pass y=[ 3.0534613e-07 -4.2050686e-07  5.5837478e-07 ...  4.5445959e-05\n",
      "  6.8473855e-06  0.0000000e+00] as keyword args. From version 0.10 passing these as positional arguments will result in an error\n",
      "  mel=np.mean(librosa.feature.melspectrogram(data, sr=sample_rate).T,axis=0)\n"
     ]
    },
    {
     "name": "stdout",
     "output_type": "stream",
     "text": [
      "1300\n",
      "disgust_female\n"
     ]
    },
    {
     "name": "stderr",
     "output_type": "stream",
     "text": [
      "/var/folders/7h/3y0jb5yx0g399b2y_qtq_db80000gn/T/ipykernel_26966/1257479974.py:14: FutureWarning: Pass y=[-1.2910047e-05 -1.4807372e-06  2.4678102e-06 ... -4.1842795e-06\n",
      "  1.7547159e-06  0.0000000e+00] as keyword args. From version 0.10 passing these as positional arguments will result in an error\n",
      "  mel=np.mean(librosa.feature.melspectrogram(data, sr=sample_rate).T,axis=0)\n"
     ]
    },
    {
     "name": "stdout",
     "output_type": "stream",
     "text": [
      "1301\n",
      "sad_female\n"
     ]
    },
    {
     "name": "stderr",
     "output_type": "stream",
     "text": [
      "/var/folders/7h/3y0jb5yx0g399b2y_qtq_db80000gn/T/ipykernel_26966/1257479974.py:14: FutureWarning: Pass y=[ 0.0000000e+00  0.0000000e+00  0.0000000e+00 ...  1.6435187e-07\n",
      " -6.9681619e-08  0.0000000e+00] as keyword args. From version 0.10 passing these as positional arguments will result in an error\n",
      "  mel=np.mean(librosa.feature.melspectrogram(data, sr=sample_rate).T,axis=0)\n"
     ]
    },
    {
     "name": "stdout",
     "output_type": "stream",
     "text": [
      "1302\n",
      "happy_female\n"
     ]
    },
    {
     "name": "stderr",
     "output_type": "stream",
     "text": [
      "/var/folders/7h/3y0jb5yx0g399b2y_qtq_db80000gn/T/ipykernel_26966/1257479974.py:14: FutureWarning: Pass y=[-1.2276636e-05 -1.7910378e-06  1.0048124e-06 ... -1.4474976e-05\n",
      " -3.0784338e-06  0.0000000e+00] as keyword args. From version 0.10 passing these as positional arguments will result in an error\n",
      "  mel=np.mean(librosa.feature.melspectrogram(data, sr=sample_rate).T,axis=0)\n"
     ]
    },
    {
     "name": "stdout",
     "output_type": "stream",
     "text": [
      "1303\n",
      "happy_female\n"
     ]
    },
    {
     "name": "stderr",
     "output_type": "stream",
     "text": [
      "/var/folders/7h/3y0jb5yx0g399b2y_qtq_db80000gn/T/ipykernel_26966/1257479974.py:14: FutureWarning: Pass y=[ 0.000000e+00  0.000000e+00  0.000000e+00 ...  1.209010e-07 -6.329912e-08\n",
      "  0.000000e+00] as keyword args. From version 0.10 passing these as positional arguments will result in an error\n",
      "  mel=np.mean(librosa.feature.melspectrogram(data, sr=sample_rate).T,axis=0)\n"
     ]
    },
    {
     "name": "stdout",
     "output_type": "stream",
     "text": [
      "1304\n",
      "calm_female\n"
     ]
    },
    {
     "name": "stderr",
     "output_type": "stream",
     "text": [
      "/var/folders/7h/3y0jb5yx0g399b2y_qtq_db80000gn/T/ipykernel_26966/1257479974.py:14: FutureWarning: Pass y=[-7.2758467e-06 -3.9199578e-05 -1.0568607e-04 ... -1.1320739e-05\n",
      " -1.0905958e-05  0.0000000e+00] as keyword args. From version 0.10 passing these as positional arguments will result in an error\n",
      "  mel=np.mean(librosa.feature.melspectrogram(data, sr=sample_rate).T,axis=0)\n"
     ]
    },
    {
     "name": "stdout",
     "output_type": "stream",
     "text": [
      "1305\n",
      "calm_female\n"
     ]
    },
    {
     "name": "stderr",
     "output_type": "stream",
     "text": [
      "/var/folders/7h/3y0jb5yx0g399b2y_qtq_db80000gn/T/ipykernel_26966/1257479974.py:14: FutureWarning: Pass y=[-2.5951018e-05 -1.7428962e-06  8.9997053e-07 ...  0.0000000e+00\n",
      "  0.0000000e+00  0.0000000e+00] as keyword args. From version 0.10 passing these as positional arguments will result in an error\n",
      "  mel=np.mean(librosa.feature.melspectrogram(data, sr=sample_rate).T,axis=0)\n",
      "/var/folders/7h/3y0jb5yx0g399b2y_qtq_db80000gn/T/ipykernel_26966/1257479974.py:14: FutureWarning: Pass y=[-4.6810351e-11  3.5363431e-11 -5.3213679e-12 ...  2.2836398e-06\n",
      " -8.2918805e-06  0.0000000e+00] as keyword args. From version 0.10 passing these as positional arguments will result in an error\n",
      "  mel=np.mean(librosa.feature.melspectrogram(data, sr=sample_rate).T,axis=0)\n"
     ]
    },
    {
     "name": "stdout",
     "output_type": "stream",
     "text": [
      "1306\n",
      "neutral_female\n",
      "1307\n",
      "happy_female\n"
     ]
    },
    {
     "name": "stderr",
     "output_type": "stream",
     "text": [
      "/var/folders/7h/3y0jb5yx0g399b2y_qtq_db80000gn/T/ipykernel_26966/1257479974.py:14: FutureWarning: Pass y=[-5.9490287e-07  6.9265604e-07 -8.0322957e-07 ... -4.2375291e-07\n",
      " -1.7482301e-06  0.0000000e+00] as keyword args. From version 0.10 passing these as positional arguments will result in an error\n",
      "  mel=np.mean(librosa.feature.melspectrogram(data, sr=sample_rate).T,axis=0)\n",
      "/var/folders/7h/3y0jb5yx0g399b2y_qtq_db80000gn/T/ipykernel_26966/1257479974.py:14: FutureWarning: Pass y=[ 4.3885797e-05  4.9228471e-05  4.5810539e-05 ... -4.4754615e-06\n",
      " -4.2697637e-05  0.0000000e+00] as keyword args. From version 0.10 passing these as positional arguments will result in an error\n",
      "  mel=np.mean(librosa.feature.melspectrogram(data, sr=sample_rate).T,axis=0)\n"
     ]
    },
    {
     "name": "stdout",
     "output_type": "stream",
     "text": [
      "1308\n",
      "happy_female\n",
      "1309\n",
      "calm_female\n"
     ]
    },
    {
     "name": "stderr",
     "output_type": "stream",
     "text": [
      "/var/folders/7h/3y0jb5yx0g399b2y_qtq_db80000gn/T/ipykernel_26966/1257479974.py:14: FutureWarning: Pass y=[ 2.9434324e-05 -1.0170437e-06 -2.3980019e-05 ... -4.1829971e-05\n",
      " -2.0292986e-05  0.0000000e+00] as keyword args. From version 0.10 passing these as positional arguments will result in an error\n",
      "  mel=np.mean(librosa.feature.melspectrogram(data, sr=sample_rate).T,axis=0)\n"
     ]
    },
    {
     "name": "stdout",
     "output_type": "stream",
     "text": [
      "1310\n",
      "neutral_female\n"
     ]
    },
    {
     "name": "stderr",
     "output_type": "stream",
     "text": [
      "/var/folders/7h/3y0jb5yx0g399b2y_qtq_db80000gn/T/ipykernel_26966/1257479974.py:14: FutureWarning: Pass y=[ 0.0000000e+00  0.0000000e+00  0.0000000e+00 ... -3.6543424e-10\n",
      "  2.5811717e-10  0.0000000e+00] as keyword args. From version 0.10 passing these as positional arguments will result in an error\n",
      "  mel=np.mean(librosa.feature.melspectrogram(data, sr=sample_rate).T,axis=0)\n"
     ]
    },
    {
     "name": "stdout",
     "output_type": "stream",
     "text": [
      "1311\n",
      "calm_female\n"
     ]
    },
    {
     "name": "stderr",
     "output_type": "stream",
     "text": [
      "/var/folders/7h/3y0jb5yx0g399b2y_qtq_db80000gn/T/ipykernel_26966/1257479974.py:14: FutureWarning: Pass y=[ 2.2708478e-05  9.1121474e-06 -3.7482921e-06 ...  1.4267658e-09\n",
      " -7.8152373e-10  0.0000000e+00] as keyword args. From version 0.10 passing these as positional arguments will result in an error\n",
      "  mel=np.mean(librosa.feature.melspectrogram(data, sr=sample_rate).T,axis=0)\n",
      "/var/folders/7h/3y0jb5yx0g399b2y_qtq_db80000gn/T/ipykernel_26966/1257479974.py:14: FutureWarning: Pass y=[ 3.6552984e-07 -5.8355903e-07  8.4255282e-07 ...  2.0352459e-06\n",
      " -1.8424793e-06  0.0000000e+00] as keyword args. From version 0.10 passing these as positional arguments will result in an error\n",
      "  mel=np.mean(librosa.feature.melspectrogram(data, sr=sample_rate).T,axis=0)\n"
     ]
    },
    {
     "name": "stdout",
     "output_type": "stream",
     "text": [
      "1312\n",
      "surprised_female\n",
      "1313\n",
      "surprised_female\n"
     ]
    },
    {
     "name": "stderr",
     "output_type": "stream",
     "text": [
      "/var/folders/7h/3y0jb5yx0g399b2y_qtq_db80000gn/T/ipykernel_26966/1257479974.py:14: FutureWarning: Pass y=[ 2.4514864e-07 -2.0255563e-07  1.3405987e-07 ...  1.1676238e-05\n",
      "  1.3441670e-06  0.0000000e+00] as keyword args. From version 0.10 passing these as positional arguments will result in an error\n",
      "  mel=np.mean(librosa.feature.melspectrogram(data, sr=sample_rate).T,axis=0)\n"
     ]
    },
    {
     "name": "stdout",
     "output_type": "stream",
     "text": [
      "1314\n",
      "angry_female\n"
     ]
    },
    {
     "name": "stderr",
     "output_type": "stream",
     "text": [
      "/var/folders/7h/3y0jb5yx0g399b2y_qtq_db80000gn/T/ipykernel_26966/1257479974.py:14: FutureWarning: Pass y=[ 2.4035554e-10 -3.4794015e-10  4.7684962e-10 ... -3.7639762e-07\n",
      "  4.3458093e-07  0.0000000e+00] as keyword args. From version 0.10 passing these as positional arguments will result in an error\n",
      "  mel=np.mean(librosa.feature.melspectrogram(data, sr=sample_rate).T,axis=0)\n",
      "/var/folders/7h/3y0jb5yx0g399b2y_qtq_db80000gn/T/ipykernel_26966/1257479974.py:14: FutureWarning: Pass y=[ 5.8194968e-07 -7.9534607e-07 -2.4549829e-05 ...  5.8524322e-05\n",
      "  4.8604483e-07  0.0000000e+00] as keyword args. From version 0.10 passing these as positional arguments will result in an error\n",
      "  mel=np.mean(librosa.feature.melspectrogram(data, sr=sample_rate).T,axis=0)\n"
     ]
    },
    {
     "name": "stdout",
     "output_type": "stream",
     "text": [
      "1315\n",
      "fearful_female\n",
      "1316\n",
      "fearful_female\n"
     ]
    },
    {
     "name": "stderr",
     "output_type": "stream",
     "text": [
      "/var/folders/7h/3y0jb5yx0g399b2y_qtq_db80000gn/T/ipykernel_26966/1257479974.py:14: FutureWarning: Pass y=[ 2.0539237e-05  5.1761133e-05  3.6676767e-05 ...  1.6159712e-03\n",
      " -2.1209628e-03  0.0000000e+00] as keyword args. From version 0.10 passing these as positional arguments will result in an error\n",
      "  mel=np.mean(librosa.feature.melspectrogram(data, sr=sample_rate).T,axis=0)\n"
     ]
    },
    {
     "name": "stdout",
     "output_type": "stream",
     "text": [
      "1317\n",
      "angry_female\n"
     ]
    },
    {
     "name": "stderr",
     "output_type": "stream",
     "text": [
      "/var/folders/7h/3y0jb5yx0g399b2y_qtq_db80000gn/T/ipykernel_26966/1257479974.py:14: FutureWarning: Pass y=[-9.8895580e-06 -7.8556577e-06  2.4711487e-06 ... -2.2725750e-05\n",
      " -9.4399857e-06  0.0000000e+00] as keyword args. From version 0.10 passing these as positional arguments will result in an error\n",
      "  mel=np.mean(librosa.feature.melspectrogram(data, sr=sample_rate).T,axis=0)\n"
     ]
    },
    {
     "name": "stdout",
     "output_type": "stream",
     "text": [
      "1318\n",
      "disgust_female\n"
     ]
    },
    {
     "name": "stderr",
     "output_type": "stream",
     "text": [
      "/var/folders/7h/3y0jb5yx0g399b2y_qtq_db80000gn/T/ipykernel_26966/1257479974.py:14: FutureWarning: Pass y=[ 0.000000e+00  0.000000e+00  0.000000e+00 ...  9.606687e-07 -6.317102e-07\n",
      "  0.000000e+00] as keyword args. From version 0.10 passing these as positional arguments will result in an error\n",
      "  mel=np.mean(librosa.feature.melspectrogram(data, sr=sample_rate).T,axis=0)\n",
      "/var/folders/7h/3y0jb5yx0g399b2y_qtq_db80000gn/T/ipykernel_26966/1257479974.py:14: FutureWarning: Pass y=[ 0.0000000e+00  0.0000000e+00  0.0000000e+00 ... -1.5361306e-07\n",
      "  1.1716977e-07  0.0000000e+00] as keyword args. From version 0.10 passing these as positional arguments will result in an error\n",
      "  mel=np.mean(librosa.feature.melspectrogram(data, sr=sample_rate).T,axis=0)\n"
     ]
    },
    {
     "name": "stdout",
     "output_type": "stream",
     "text": [
      "1319\n",
      "sad_female\n",
      "1320\n",
      "sad_female\n"
     ]
    },
    {
     "name": "stderr",
     "output_type": "stream",
     "text": [
      "/var/folders/7h/3y0jb5yx0g399b2y_qtq_db80000gn/T/ipykernel_26966/1257479974.py:14: FutureWarning: Pass y=[ 1.7752577e-04  2.3852795e-04  2.0251767e-04 ...  2.7415244e-06\n",
      " -7.5590165e-06  0.0000000e+00] as keyword args. From version 0.10 passing these as positional arguments will result in an error\n",
      "  mel=np.mean(librosa.feature.melspectrogram(data, sr=sample_rate).T,axis=0)\n"
     ]
    },
    {
     "name": "stdout",
     "output_type": "stream",
     "text": [
      "1321\n",
      "disgust_female\n"
     ]
    },
    {
     "name": "stderr",
     "output_type": "stream",
     "text": [
      "/var/folders/7h/3y0jb5yx0g399b2y_qtq_db80000gn/T/ipykernel_26966/1257479974.py:14: FutureWarning: Pass y=[ 0.0000000e+00  0.0000000e+00  0.0000000e+00 ...  4.7184908e-06\n",
      " -5.0168285e-07  0.0000000e+00] as keyword args. From version 0.10 passing these as positional arguments will result in an error\n",
      "  mel=np.mean(librosa.feature.melspectrogram(data, sr=sample_rate).T,axis=0)\n"
     ]
    },
    {
     "name": "stdout",
     "output_type": "stream",
     "text": [
      "1322\n",
      "surprised_male\n",
      "1323\n",
      "surprised_male\n",
      "1324\n",
      "angry_male\n"
     ]
    },
    {
     "name": "stderr",
     "output_type": "stream",
     "text": [
      "/var/folders/7h/3y0jb5yx0g399b2y_qtq_db80000gn/T/ipykernel_26966/1257479974.py:14: FutureWarning: Pass y=[-8.1530527e-10  8.9952795e-10 -9.1185753e-10 ...  0.0000000e+00\n",
      "  0.0000000e+00  0.0000000e+00] as keyword args. From version 0.10 passing these as positional arguments will result in an error\n",
      "  mel=np.mean(librosa.feature.melspectrogram(data, sr=sample_rate).T,axis=0)\n",
      "/var/folders/7h/3y0jb5yx0g399b2y_qtq_db80000gn/T/ipykernel_26966/1257479974.py:14: FutureWarning: Pass y=[ 6.8139506e-08 -2.3837963e-05 -2.4622474e-05 ...  3.1678758e-06\n",
      " -2.4535689e-06  0.0000000e+00] as keyword args. From version 0.10 passing these as positional arguments will result in an error\n",
      "  mel=np.mean(librosa.feature.melspectrogram(data, sr=sample_rate).T,axis=0)\n"
     ]
    },
    {
     "name": "stdout",
     "output_type": "stream",
     "text": [
      "1325\n",
      "fearful_male\n",
      "1326\n",
      "fearful_male\n"
     ]
    },
    {
     "name": "stderr",
     "output_type": "stream",
     "text": [
      "/var/folders/7h/3y0jb5yx0g399b2y_qtq_db80000gn/T/ipykernel_26966/1257479974.py:14: FutureWarning: Pass y=[-7.30260945e-05 -1.18022966e-04 -1.08280736e-04 ...  8.83421380e-05\n",
      "  4.97258679e-06  0.00000000e+00] as keyword args. From version 0.10 passing these as positional arguments will result in an error\n",
      "  mel=np.mean(librosa.feature.melspectrogram(data, sr=sample_rate).T,axis=0)\n"
     ]
    },
    {
     "name": "stdout",
     "output_type": "stream",
     "text": [
      "1327\n",
      "angry_male\n"
     ]
    },
    {
     "name": "stderr",
     "output_type": "stream",
     "text": [
      "/var/folders/7h/3y0jb5yx0g399b2y_qtq_db80000gn/T/ipykernel_26966/1257479974.py:14: FutureWarning: Pass y=[-0.00050612 -0.00057967 -0.00035985 ...  0.          0.\n",
      "  0.        ] as keyword args. From version 0.10 passing these as positional arguments will result in an error\n",
      "  mel=np.mean(librosa.feature.melspectrogram(data, sr=sample_rate).T,axis=0)\n"
     ]
    },
    {
     "name": "stdout",
     "output_type": "stream",
     "text": [
      "1328\n",
      "disgust_male\n",
      "1329\n",
      "sad_male\n"
     ]
    },
    {
     "name": "stderr",
     "output_type": "stream",
     "text": [
      "/var/folders/7h/3y0jb5yx0g399b2y_qtq_db80000gn/T/ipykernel_26966/1257479974.py:14: FutureWarning: Pass y=[ 1.1845550e-06 -1.6399191e-06  2.5565218e-06 ... -8.7445065e-09\n",
      "  5.9859917e-09  0.0000000e+00] as keyword args. From version 0.10 passing these as positional arguments will result in an error\n",
      "  mel=np.mean(librosa.feature.melspectrogram(data, sr=sample_rate).T,axis=0)\n"
     ]
    },
    {
     "name": "stdout",
     "output_type": "stream",
     "text": [
      "1330\n",
      "sad_male\n"
     ]
    },
    {
     "name": "stderr",
     "output_type": "stream",
     "text": [
      "/var/folders/7h/3y0jb5yx0g399b2y_qtq_db80000gn/T/ipykernel_26966/1257479974.py:14: FutureWarning: Pass y=[ 0.0000000e+00  0.0000000e+00  0.0000000e+00 ...  6.9306935e-07\n",
      " -6.6020442e-07  0.0000000e+00] as keyword args. From version 0.10 passing these as positional arguments will result in an error\n",
      "  mel=np.mean(librosa.feature.melspectrogram(data, sr=sample_rate).T,axis=0)\n"
     ]
    },
    {
     "name": "stdout",
     "output_type": "stream",
     "text": [
      "1331\n",
      "disgust_male\n"
     ]
    },
    {
     "name": "stderr",
     "output_type": "stream",
     "text": [
      "/var/folders/7h/3y0jb5yx0g399b2y_qtq_db80000gn/T/ipykernel_26966/1257479974.py:14: FutureWarning: Pass y=[-1.3284328e-05 -7.4090644e-07  7.2679302e-07 ...  0.0000000e+00\n",
      "  0.0000000e+00  0.0000000e+00] as keyword args. From version 0.10 passing these as positional arguments will result in an error\n",
      "  mel=np.mean(librosa.feature.melspectrogram(data, sr=sample_rate).T,axis=0)\n"
     ]
    },
    {
     "name": "stdout",
     "output_type": "stream",
     "text": [
      "1332\n",
      "happy_male\n"
     ]
    },
    {
     "name": "stderr",
     "output_type": "stream",
     "text": [
      "/var/folders/7h/3y0jb5yx0g399b2y_qtq_db80000gn/T/ipykernel_26966/1257479974.py:14: FutureWarning: Pass y=[ 0.0000000e+00  0.0000000e+00  0.0000000e+00 ...  5.0694009e-08\n",
      " -3.4546797e-08  0.0000000e+00] as keyword args. From version 0.10 passing these as positional arguments will result in an error\n",
      "  mel=np.mean(librosa.feature.melspectrogram(data, sr=sample_rate).T,axis=0)\n"
     ]
    },
    {
     "name": "stdout",
     "output_type": "stream",
     "text": [
      "1333\n",
      "happy_male\n",
      "1334\n",
      "calm_male\n"
     ]
    },
    {
     "name": "stderr",
     "output_type": "stream",
     "text": [
      "/var/folders/7h/3y0jb5yx0g399b2y_qtq_db80000gn/T/ipykernel_26966/1257479974.py:14: FutureWarning: Pass y=[-3.6192148e-07 -1.4590451e-05 -5.3999561e-06 ... -1.9935460e-05\n",
      " -3.4417746e-05  0.0000000e+00] as keyword args. From version 0.10 passing these as positional arguments will result in an error\n",
      "  mel=np.mean(librosa.feature.melspectrogram(data, sr=sample_rate).T,axis=0)\n",
      "/var/folders/7h/3y0jb5yx0g399b2y_qtq_db80000gn/T/ipykernel_26966/1257479974.py:14: FutureWarning: Pass y=[ 2.3406714e-05  3.1186773e-05  4.9467826e-06 ...  1.2180173e-07\n",
      " -9.2944845e-08  0.0000000e+00] as keyword args. From version 0.10 passing these as positional arguments will result in an error\n",
      "  mel=np.mean(librosa.feature.melspectrogram(data, sr=sample_rate).T,axis=0)\n"
     ]
    },
    {
     "name": "stdout",
     "output_type": "stream",
     "text": [
      "1335\n",
      "neutral_male\n",
      "1336\n",
      "calm_male\n"
     ]
    },
    {
     "name": "stderr",
     "output_type": "stream",
     "text": [
      "/var/folders/7h/3y0jb5yx0g399b2y_qtq_db80000gn/T/ipykernel_26966/1257479974.py:14: FutureWarning: Pass y=[ 0.0000000e+00  0.0000000e+00  0.0000000e+00 ... -2.5055220e-08\n",
      "  1.2936166e-08  0.0000000e+00] as keyword args. From version 0.10 passing these as positional arguments will result in an error\n",
      "  mel=np.mean(librosa.feature.melspectrogram(data, sr=sample_rate).T,axis=0)\n"
     ]
    },
    {
     "name": "stdout",
     "output_type": "stream",
     "text": [
      "1337\n",
      "happy_male\n",
      "1338\n",
      "happy_male\n"
     ]
    },
    {
     "name": "stderr",
     "output_type": "stream",
     "text": [
      "/var/folders/7h/3y0jb5yx0g399b2y_qtq_db80000gn/T/ipykernel_26966/1257479974.py:14: FutureWarning: Pass y=[0.0000000e+00 0.0000000e+00 0.0000000e+00 ... 1.1608539e-05 8.2463991e-09\n",
      " 0.0000000e+00] as keyword args. From version 0.10 passing these as positional arguments will result in an error\n",
      "  mel=np.mean(librosa.feature.melspectrogram(data, sr=sample_rate).T,axis=0)\n"
     ]
    },
    {
     "name": "stdout",
     "output_type": "stream",
     "text": [
      "1339\n",
      "calm_male\n"
     ]
    },
    {
     "name": "stderr",
     "output_type": "stream",
     "text": [
      "/var/folders/7h/3y0jb5yx0g399b2y_qtq_db80000gn/T/ipykernel_26966/1257479974.py:14: FutureWarning: Pass y=[ 0.0000000e+00  0.0000000e+00  0.0000000e+00 ... -2.5319534e-07\n",
      "  2.6521766e-07  0.0000000e+00] as keyword args. From version 0.10 passing these as positional arguments will result in an error\n",
      "  mel=np.mean(librosa.feature.melspectrogram(data, sr=sample_rate).T,axis=0)\n"
     ]
    },
    {
     "name": "stdout",
     "output_type": "stream",
     "text": [
      "1340\n",
      "calm_male\n",
      "1341\n",
      "neutral_male\n",
      "1342\n",
      "surprised_male\n"
     ]
    },
    {
     "name": "stderr",
     "output_type": "stream",
     "text": [
      "/var/folders/7h/3y0jb5yx0g399b2y_qtq_db80000gn/T/ipykernel_26966/1257479974.py:14: FutureWarning: Pass y=[ 1.5591205e-07 -1.5845627e-07  1.5362870e-07 ...  0.0000000e+00\n",
      "  0.0000000e+00  0.0000000e+00] as keyword args. From version 0.10 passing these as positional arguments will result in an error\n",
      "  mel=np.mean(librosa.feature.melspectrogram(data, sr=sample_rate).T,axis=0)\n",
      "/var/folders/7h/3y0jb5yx0g399b2y_qtq_db80000gn/T/ipykernel_26966/1257479974.py:14: FutureWarning: Pass y=[ 0.0000000e+00  0.0000000e+00  0.0000000e+00 ... -3.3923173e-11\n",
      "  2.8026699e-11  0.0000000e+00] as keyword args. From version 0.10 passing these as positional arguments will result in an error\n",
      "  mel=np.mean(librosa.feature.melspectrogram(data, sr=sample_rate).T,axis=0)\n"
     ]
    },
    {
     "name": "stdout",
     "output_type": "stream",
     "text": [
      "1343\n",
      "surprised_male\n"
     ]
    },
    {
     "name": "stderr",
     "output_type": "stream",
     "text": [
      "/var/folders/7h/3y0jb5yx0g399b2y_qtq_db80000gn/T/ipykernel_26966/1257479974.py:14: FutureWarning: Pass y=[ 2.9161662e-10 -6.3629275e-11 -3.0565092e-10 ...  0.0000000e+00\n",
      "  0.0000000e+00  0.0000000e+00] as keyword args. From version 0.10 passing these as positional arguments will result in an error\n",
      "  mel=np.mean(librosa.feature.melspectrogram(data, sr=sample_rate).T,axis=0)\n"
     ]
    },
    {
     "name": "stdout",
     "output_type": "stream",
     "text": [
      "1344\n",
      "fearful_male\n"
     ]
    },
    {
     "name": "stderr",
     "output_type": "stream",
     "text": [
      "/var/folders/7h/3y0jb5yx0g399b2y_qtq_db80000gn/T/ipykernel_26966/1257479974.py:14: FutureWarning: Pass y=[ 7.6278877e-07  2.1624428e-05  1.1150542e-05 ...  1.8263392e-09\n",
      " -1.5558380e-09  0.0000000e+00] as keyword args. From version 0.10 passing these as positional arguments will result in an error\n",
      "  mel=np.mean(librosa.feature.melspectrogram(data, sr=sample_rate).T,axis=0)\n"
     ]
    },
    {
     "name": "stdout",
     "output_type": "stream",
     "text": [
      "1345\n",
      "angry_male\n"
     ]
    },
    {
     "name": "stderr",
     "output_type": "stream",
     "text": [
      "/var/folders/7h/3y0jb5yx0g399b2y_qtq_db80000gn/T/ipykernel_26966/1257479974.py:14: FutureWarning: Pass y=[ 1.3387315e-05  6.0913658e-07 -5.6471418e-07 ...  0.0000000e+00\n",
      "  0.0000000e+00  0.0000000e+00] as keyword args. From version 0.10 passing these as positional arguments will result in an error\n",
      "  mel=np.mean(librosa.feature.melspectrogram(data, sr=sample_rate).T,axis=0)\n"
     ]
    },
    {
     "name": "stdout",
     "output_type": "stream",
     "text": [
      "1346\n",
      "angry_male\n"
     ]
    },
    {
     "name": "stderr",
     "output_type": "stream",
     "text": [
      "/var/folders/7h/3y0jb5yx0g399b2y_qtq_db80000gn/T/ipykernel_26966/1257479974.py:14: FutureWarning: Pass y=[0.00026949 0.00028119 0.00020081 ... 0.00032586 0.00046612 0.        ] as keyword args. From version 0.10 passing these as positional arguments will result in an error\n",
      "  mel=np.mean(librosa.feature.melspectrogram(data, sr=sample_rate).T,axis=0)\n"
     ]
    },
    {
     "name": "stdout",
     "output_type": "stream",
     "text": [
      "1347\n",
      "fearful_male\n"
     ]
    },
    {
     "name": "stderr",
     "output_type": "stream",
     "text": [
      "/var/folders/7h/3y0jb5yx0g399b2y_qtq_db80000gn/T/ipykernel_26966/1257479974.py:14: FutureWarning: Pass y=[ 1.7200684e-02  3.2272514e-02  3.2961801e-02 ... -1.6286784e-06\n",
      " -8.5592075e-07  0.0000000e+00] as keyword args. From version 0.10 passing these as positional arguments will result in an error\n",
      "  mel=np.mean(librosa.feature.melspectrogram(data, sr=sample_rate).T,axis=0)\n"
     ]
    },
    {
     "name": "stdout",
     "output_type": "stream",
     "text": [
      "1348\n",
      "sad_male\n",
      "1349\n",
      "disgust_male\n"
     ]
    },
    {
     "name": "stderr",
     "output_type": "stream",
     "text": [
      "/var/folders/7h/3y0jb5yx0g399b2y_qtq_db80000gn/T/ipykernel_26966/1257479974.py:14: FutureWarning: Pass y=[ 0.0000000e+00  0.0000000e+00  0.0000000e+00 ... -7.8796054e-09\n",
      "  1.7431153e-08  0.0000000e+00] as keyword args. From version 0.10 passing these as positional arguments will result in an error\n",
      "  mel=np.mean(librosa.feature.melspectrogram(data, sr=sample_rate).T,axis=0)\n"
     ]
    },
    {
     "name": "stdout",
     "output_type": "stream",
     "text": [
      "1350\n",
      "disgust_male\n"
     ]
    },
    {
     "name": "stderr",
     "output_type": "stream",
     "text": [
      "/var/folders/7h/3y0jb5yx0g399b2y_qtq_db80000gn/T/ipykernel_26966/1257479974.py:14: FutureWarning: Pass y=[-0.00103188 -0.00075814 -0.00051426 ...  0.          0.\n",
      "  0.        ] as keyword args. From version 0.10 passing these as positional arguments will result in an error\n",
      "  mel=np.mean(librosa.feature.melspectrogram(data, sr=sample_rate).T,axis=0)\n"
     ]
    },
    {
     "name": "stdout",
     "output_type": "stream",
     "text": [
      "1351\n",
      "sad_male\n"
     ]
    },
    {
     "name": "stderr",
     "output_type": "stream",
     "text": [
      "/var/folders/7h/3y0jb5yx0g399b2y_qtq_db80000gn/T/ipykernel_26966/1257479974.py:14: FutureWarning: Pass y=[-1.2111740e-07  6.3130176e-07 -1.8378003e-06 ...  1.1309878e-05\n",
      "  5.4562256e-06  0.0000000e+00] as keyword args. From version 0.10 passing these as positional arguments will result in an error\n",
      "  mel=np.mean(librosa.feature.melspectrogram(data, sr=sample_rate).T,axis=0)\n",
      "/var/folders/7h/3y0jb5yx0g399b2y_qtq_db80000gn/T/ipykernel_26966/1257479974.py:14: FutureWarning: Pass y=[1.42000988e-06 1.30781755e-05 2.77493709e-05 ... 0.00000000e+00\n",
      " 0.00000000e+00 0.00000000e+00] as keyword args. From version 0.10 passing these as positional arguments will result in an error\n",
      "  mel=np.mean(librosa.feature.melspectrogram(data, sr=sample_rate).T,axis=0)\n"
     ]
    },
    {
     "name": "stdout",
     "output_type": "stream",
     "text": [
      "1352\n",
      "calm_male\n",
      "1353\n",
      "neutral_male\n",
      "1354\n",
      "calm_male\n"
     ]
    },
    {
     "name": "stderr",
     "output_type": "stream",
     "text": [
      "/var/folders/7h/3y0jb5yx0g399b2y_qtq_db80000gn/T/ipykernel_26966/1257479974.py:14: FutureWarning: Pass y=[ 2.2051008e-05  1.6838792e-05  3.5639907e-05 ...  4.5767497e-06\n",
      " -1.2002213e-05  0.0000000e+00] as keyword args. From version 0.10 passing these as positional arguments will result in an error\n",
      "  mel=np.mean(librosa.feature.melspectrogram(data, sr=sample_rate).T,axis=0)\n"
     ]
    },
    {
     "name": "stdout",
     "output_type": "stream",
     "text": [
      "1355\n",
      "happy_male\n"
     ]
    },
    {
     "name": "stderr",
     "output_type": "stream",
     "text": [
      "/var/folders/7h/3y0jb5yx0g399b2y_qtq_db80000gn/T/ipykernel_26966/1257479974.py:14: FutureWarning: Pass y=[ 0.0000000e+00  0.0000000e+00  0.0000000e+00 ... -2.0104826e-10\n",
      "  1.6824393e-10  0.0000000e+00] as keyword args. From version 0.10 passing these as positional arguments will result in an error\n",
      "  mel=np.mean(librosa.feature.melspectrogram(data, sr=sample_rate).T,axis=0)\n"
     ]
    },
    {
     "name": "stdout",
     "output_type": "stream",
     "text": [
      "1356\n",
      "happy_male\n"
     ]
    },
    {
     "name": "stderr",
     "output_type": "stream",
     "text": [
      "/var/folders/7h/3y0jb5yx0g399b2y_qtq_db80000gn/T/ipykernel_26966/1257479974.py:14: FutureWarning: Pass y=[ 0.0000000e+00  0.0000000e+00  0.0000000e+00 ... -2.7673337e-07\n",
      "  2.8604177e-07  0.0000000e+00] as keyword args. From version 0.10 passing these as positional arguments will result in an error\n",
      "  mel=np.mean(librosa.feature.melspectrogram(data, sr=sample_rate).T,axis=0)\n"
     ]
    },
    {
     "name": "stdout",
     "output_type": "stream",
     "text": [
      "1357\n",
      "surprised_male\n",
      "1358\n",
      "surprised_male\n"
     ]
    },
    {
     "name": "stderr",
     "output_type": "stream",
     "text": [
      "/var/folders/7h/3y0jb5yx0g399b2y_qtq_db80000gn/T/ipykernel_26966/1257479974.py:14: FutureWarning: Pass y=[ 0.0000000e+00  0.0000000e+00  0.0000000e+00 ... -4.8303300e-06\n",
      " -1.2008861e-05  0.0000000e+00] as keyword args. From version 0.10 passing these as positional arguments will result in an error\n",
      "  mel=np.mean(librosa.feature.melspectrogram(data, sr=sample_rate).T,axis=0)\n"
     ]
    },
    {
     "name": "stdout",
     "output_type": "stream",
     "text": [
      "1359\n",
      "disgust_male\n"
     ]
    },
    {
     "name": "stderr",
     "output_type": "stream",
     "text": [
      "/var/folders/7h/3y0jb5yx0g399b2y_qtq_db80000gn/T/ipykernel_26966/1257479974.py:14: FutureWarning: Pass y=[ 4.9886359e-05  1.4642075e-04  4.4365996e-04 ...  6.3584002e-07\n",
      " -6.2395281e-07  0.0000000e+00] as keyword args. From version 0.10 passing these as positional arguments will result in an error\n",
      "  mel=np.mean(librosa.feature.melspectrogram(data, sr=sample_rate).T,axis=0)\n"
     ]
    },
    {
     "name": "stdout",
     "output_type": "stream",
     "text": [
      "1360\n",
      "sad_male\n"
     ]
    },
    {
     "name": "stderr",
     "output_type": "stream",
     "text": [
      "/var/folders/7h/3y0jb5yx0g399b2y_qtq_db80000gn/T/ipykernel_26966/1257479974.py:14: FutureWarning: Pass y=[ 3.2218946e-11 -5.5296181e-11  8.9530647e-11 ...  0.0000000e+00\n",
      "  0.0000000e+00  0.0000000e+00] as keyword args. From version 0.10 passing these as positional arguments will result in an error\n",
      "  mel=np.mean(librosa.feature.melspectrogram(data, sr=sample_rate).T,axis=0)\n"
     ]
    },
    {
     "name": "stdout",
     "output_type": "stream",
     "text": [
      "1361\n",
      "sad_male\n",
      "1362\n",
      "disgust_male\n",
      "1363\n",
      "angry_male\n"
     ]
    },
    {
     "name": "stderr",
     "output_type": "stream",
     "text": [
      "/var/folders/7h/3y0jb5yx0g399b2y_qtq_db80000gn/T/ipykernel_26966/1257479974.py:14: FutureWarning: Pass y=[-3.2826196e-04  4.5522624e-03 -8.2306744e-04 ... -2.2519816e-07\n",
      " -6.2417300e-08  0.0000000e+00] as keyword args. From version 0.10 passing these as positional arguments will result in an error\n",
      "  mel=np.mean(librosa.feature.melspectrogram(data, sr=sample_rate).T,axis=0)\n"
     ]
    },
    {
     "name": "stdout",
     "output_type": "stream",
     "text": [
      "1364\n",
      "fearful_male\n"
     ]
    },
    {
     "name": "stderr",
     "output_type": "stream",
     "text": [
      "/var/folders/7h/3y0jb5yx0g399b2y_qtq_db80000gn/T/ipykernel_26966/1257479974.py:14: FutureWarning: Pass y=[ 3.1686827e-04  4.6282235e-04  1.0160641e-04 ... -1.4605960e-05\n",
      "  6.6572487e-05  0.0000000e+00] as keyword args. From version 0.10 passing these as positional arguments will result in an error\n",
      "  mel=np.mean(librosa.feature.melspectrogram(data, sr=sample_rate).T,axis=0)\n",
      "/var/folders/7h/3y0jb5yx0g399b2y_qtq_db80000gn/T/ipykernel_26966/1257479974.py:14: FutureWarning: Pass y=[-0.00066044 -0.0009837  -0.00090796 ... -0.00171516 -0.0017666\n",
      "  0.        ] as keyword args. From version 0.10 passing these as positional arguments will result in an error\n",
      "  mel=np.mean(librosa.feature.melspectrogram(data, sr=sample_rate).T,axis=0)\n"
     ]
    },
    {
     "name": "stdout",
     "output_type": "stream",
     "text": [
      "1365\n",
      "fearful_male\n",
      "1366\n",
      "angry_male\n"
     ]
    },
    {
     "name": "stderr",
     "output_type": "stream",
     "text": [
      "/var/folders/7h/3y0jb5yx0g399b2y_qtq_db80000gn/T/ipykernel_26966/1257479974.py:14: FutureWarning: Pass y=[ 5.788035e-07 -6.493598e-07  7.111379e-07 ...  0.000000e+00  0.000000e+00\n",
      "  0.000000e+00] as keyword args. From version 0.10 passing these as positional arguments will result in an error\n",
      "  mel=np.mean(librosa.feature.melspectrogram(data, sr=sample_rate).T,axis=0)\n"
     ]
    },
    {
     "name": "stdout",
     "output_type": "stream",
     "text": [
      "1367\n",
      "surprised_male\n",
      "1368\n",
      "surprised_male\n"
     ]
    },
    {
     "name": "stderr",
     "output_type": "stream",
     "text": [
      "/var/folders/7h/3y0jb5yx0g399b2y_qtq_db80000gn/T/ipykernel_26966/1257479974.py:14: FutureWarning: Pass y=[ 0.0000000e+00  0.0000000e+00  0.0000000e+00 ... -7.1763244e-09\n",
      " -2.8297892e-08  0.0000000e+00] as keyword args. From version 0.10 passing these as positional arguments will result in an error\n",
      "  mel=np.mean(librosa.feature.melspectrogram(data, sr=sample_rate).T,axis=0)\n"
     ]
    },
    {
     "name": "stdout",
     "output_type": "stream",
     "text": [
      "1369\n",
      "sad_male\n",
      "1370\n",
      "disgust_male\n",
      "1371\n",
      "disgust_male\n"
     ]
    },
    {
     "name": "stderr",
     "output_type": "stream",
     "text": [
      "/var/folders/7h/3y0jb5yx0g399b2y_qtq_db80000gn/T/ipykernel_26966/1257479974.py:14: FutureWarning: Pass y=[0.0000000e+00 0.0000000e+00 0.0000000e+00 ... 2.5944988e-08 1.2123945e-07\n",
      " 0.0000000e+00] as keyword args. From version 0.10 passing these as positional arguments will result in an error\n",
      "  mel=np.mean(librosa.feature.melspectrogram(data, sr=sample_rate).T,axis=0)\n",
      "/var/folders/7h/3y0jb5yx0g399b2y_qtq_db80000gn/T/ipykernel_26966/1257479974.py:14: FutureWarning: Pass y=[-2.5870585e-07  4.6514080e-07 -9.5607948e-07 ...  0.0000000e+00\n",
      "  0.0000000e+00  0.0000000e+00] as keyword args. From version 0.10 passing these as positional arguments will result in an error\n",
      "  mel=np.mean(librosa.feature.melspectrogram(data, sr=sample_rate).T,axis=0)\n"
     ]
    },
    {
     "name": "stdout",
     "output_type": "stream",
     "text": [
      "1372\n",
      "sad_male\n",
      "1373\n",
      "fearful_male\n"
     ]
    },
    {
     "name": "stderr",
     "output_type": "stream",
     "text": [
      "/var/folders/7h/3y0jb5yx0g399b2y_qtq_db80000gn/T/ipykernel_26966/1257479974.py:14: FutureWarning: Pass y=[ 1.1985266e-07  2.1360799e-07 -1.1951373e-06 ... -1.3043609e-04\n",
      "  1.2107374e-06  0.0000000e+00] as keyword args. From version 0.10 passing these as positional arguments will result in an error\n",
      "  mel=np.mean(librosa.feature.melspectrogram(data, sr=sample_rate).T,axis=0)\n"
     ]
    },
    {
     "name": "stdout",
     "output_type": "stream",
     "text": [
      "1374\n",
      "angry_male\n"
     ]
    },
    {
     "name": "stderr",
     "output_type": "stream",
     "text": [
      "/var/folders/7h/3y0jb5yx0g399b2y_qtq_db80000gn/T/ipykernel_26966/1257479974.py:14: FutureWarning: Pass y=[ 2.5118000e-04  1.4220485e-03  3.9536849e-04 ...  4.5242754e-04\n",
      " -3.1405249e-05  0.0000000e+00] as keyword args. From version 0.10 passing these as positional arguments will result in an error\n",
      "  mel=np.mean(librosa.feature.melspectrogram(data, sr=sample_rate).T,axis=0)\n"
     ]
    },
    {
     "name": "stdout",
     "output_type": "stream",
     "text": [
      "1375\n",
      "angry_male\n",
      "1376\n",
      "fearful_male\n"
     ]
    },
    {
     "name": "stderr",
     "output_type": "stream",
     "text": [
      "/var/folders/7h/3y0jb5yx0g399b2y_qtq_db80000gn/T/ipykernel_26966/1257479974.py:14: FutureWarning: Pass y=[9.6098862e-05 1.6449913e-04 1.1942573e-04 ... 0.0000000e+00 0.0000000e+00\n",
      " 0.0000000e+00] as keyword args. From version 0.10 passing these as positional arguments will result in an error\n",
      "  mel=np.mean(librosa.feature.melspectrogram(data, sr=sample_rate).T,axis=0)\n",
      "/var/folders/7h/3y0jb5yx0g399b2y_qtq_db80000gn/T/ipykernel_26966/1257479974.py:14: FutureWarning: Pass y=[-2.4280996e-06 -1.2362683e-05 -8.5034850e-07 ... -1.0113516e-11\n",
      "  5.1403621e-12  0.0000000e+00] as keyword args. From version 0.10 passing these as positional arguments will result in an error\n",
      "  mel=np.mean(librosa.feature.melspectrogram(data, sr=sample_rate).T,axis=0)\n"
     ]
    },
    {
     "name": "stdout",
     "output_type": "stream",
     "text": [
      "1377\n",
      "neutral_male\n",
      "1378\n",
      "calm_male\n"
     ]
    },
    {
     "name": "stderr",
     "output_type": "stream",
     "text": [
      "/var/folders/7h/3y0jb5yx0g399b2y_qtq_db80000gn/T/ipykernel_26966/1257479974.py:14: FutureWarning: Pass y=[ 1.3284328e-05  7.4090644e-07 -7.2679302e-07 ...  0.0000000e+00\n",
      "  0.0000000e+00  0.0000000e+00] as keyword args. From version 0.10 passing these as positional arguments will result in an error\n",
      "  mel=np.mean(librosa.feature.melspectrogram(data, sr=sample_rate).T,axis=0)\n"
     ]
    },
    {
     "name": "stdout",
     "output_type": "stream",
     "text": [
      "1379\n",
      "calm_male\n"
     ]
    },
    {
     "name": "stderr",
     "output_type": "stream",
     "text": [
      "/var/folders/7h/3y0jb5yx0g399b2y_qtq_db80000gn/T/ipykernel_26966/1257479974.py:14: FutureWarning: Pass y=[ 2.4700081e-05  2.9454704e-05  8.0751715e-06 ...  1.2746801e-07\n",
      " -1.6574201e-06  0.0000000e+00] as keyword args. From version 0.10 passing these as positional arguments will result in an error\n",
      "  mel=np.mean(librosa.feature.melspectrogram(data, sr=sample_rate).T,axis=0)\n"
     ]
    },
    {
     "name": "stdout",
     "output_type": "stream",
     "text": [
      "1380\n",
      "happy_male\n"
     ]
    },
    {
     "name": "stderr",
     "output_type": "stream",
     "text": [
      "/var/folders/7h/3y0jb5yx0g399b2y_qtq_db80000gn/T/ipykernel_26966/1257479974.py:14: FutureWarning: Pass y=[8.4619669e-06 9.7476968e-06 2.0182479e-05 ... 2.1081217e-11 4.0220186e-10\n",
      " 0.0000000e+00] as keyword args. From version 0.10 passing these as positional arguments will result in an error\n",
      "  mel=np.mean(librosa.feature.melspectrogram(data, sr=sample_rate).T,axis=0)\n"
     ]
    },
    {
     "name": "stdout",
     "output_type": "stream",
     "text": [
      "1381\n",
      "happy_male\n",
      "1382\n",
      "surprised_female\n"
     ]
    },
    {
     "name": "stderr",
     "output_type": "stream",
     "text": [
      "/var/folders/7h/3y0jb5yx0g399b2y_qtq_db80000gn/T/ipykernel_26966/1257479974.py:14: FutureWarning: Pass y=[ 1.8457566e-05  6.1569030e-05  2.0278130e-05 ... -5.8626765e-06\n",
      " -1.3032259e-05  0.0000000e+00] as keyword args. From version 0.10 passing these as positional arguments will result in an error\n",
      "  mel=np.mean(librosa.feature.melspectrogram(data, sr=sample_rate).T,axis=0)\n"
     ]
    },
    {
     "name": "stdout",
     "output_type": "stream",
     "text": [
      "1383\n",
      "surprised_female\n"
     ]
    },
    {
     "name": "stderr",
     "output_type": "stream",
     "text": [
      "/var/folders/7h/3y0jb5yx0g399b2y_qtq_db80000gn/T/ipykernel_26966/1257479974.py:14: FutureWarning: Pass y=[-9.9404584e-05 -1.5291726e-04 -1.1484227e-04 ... -8.6973011e-03\n",
      " -9.5269103e-03  0.0000000e+00] as keyword args. From version 0.10 passing these as positional arguments will result in an error\n",
      "  mel=np.mean(librosa.feature.melspectrogram(data, sr=sample_rate).T,axis=0)\n"
     ]
    },
    {
     "name": "stdout",
     "output_type": "stream",
     "text": [
      "1384\n",
      "disgust_female\n"
     ]
    },
    {
     "name": "stderr",
     "output_type": "stream",
     "text": [
      "/var/folders/7h/3y0jb5yx0g399b2y_qtq_db80000gn/T/ipykernel_26966/1257479974.py:14: FutureWarning: Pass y=[-1.6305023e-05 -4.8480673e-05 -4.6007051e-05 ...  4.5682487e-04\n",
      "  6.7535095e-04  0.0000000e+00] as keyword args. From version 0.10 passing these as positional arguments will result in an error\n",
      "  mel=np.mean(librosa.feature.melspectrogram(data, sr=sample_rate).T,axis=0)\n"
     ]
    },
    {
     "name": "stdout",
     "output_type": "stream",
     "text": [
      "1385\n",
      "sad_female\n"
     ]
    },
    {
     "name": "stderr",
     "output_type": "stream",
     "text": [
      "/var/folders/7h/3y0jb5yx0g399b2y_qtq_db80000gn/T/ipykernel_26966/1257479974.py:14: FutureWarning: Pass y=[-6.6470670e-07  7.9131485e-07 -9.3232592e-07 ...  7.2697183e-04\n",
      "  7.6772622e-04  0.0000000e+00] as keyword args. From version 0.10 passing these as positional arguments will result in an error\n",
      "  mel=np.mean(librosa.feature.melspectrogram(data, sr=sample_rate).T,axis=0)\n"
     ]
    },
    {
     "name": "stdout",
     "output_type": "stream",
     "text": [
      "1386\n",
      "sad_female\n"
     ]
    },
    {
     "name": "stderr",
     "output_type": "stream",
     "text": [
      "/var/folders/7h/3y0jb5yx0g399b2y_qtq_db80000gn/T/ipykernel_26966/1257479974.py:14: FutureWarning: Pass y=[8.4992513e-05 1.5911716e-04 1.3685261e-04 ... 1.7212314e-04 1.9859102e-04\n",
      " 0.0000000e+00] as keyword args. From version 0.10 passing these as positional arguments will result in an error\n",
      "  mel=np.mean(librosa.feature.melspectrogram(data, sr=sample_rate).T,axis=0)\n"
     ]
    },
    {
     "name": "stdout",
     "output_type": "stream",
     "text": [
      "1387\n",
      "disgust_female\n"
     ]
    },
    {
     "name": "stderr",
     "output_type": "stream",
     "text": [
      "/var/folders/7h/3y0jb5yx0g399b2y_qtq_db80000gn/T/ipykernel_26966/1257479974.py:14: FutureWarning: Pass y=[ 1.4085208e-04  2.0708519e-04  1.9615643e-04 ... -3.3273423e-07\n",
      " -7.5755065e-07  0.0000000e+00] as keyword args. From version 0.10 passing these as positional arguments will result in an error\n",
      "  mel=np.mean(librosa.feature.melspectrogram(data, sr=sample_rate).T,axis=0)\n"
     ]
    },
    {
     "name": "stdout",
     "output_type": "stream",
     "text": [
      "1388\n",
      "angry_female\n"
     ]
    },
    {
     "name": "stderr",
     "output_type": "stream",
     "text": [
      "/var/folders/7h/3y0jb5yx0g399b2y_qtq_db80000gn/T/ipykernel_26966/1257479974.py:14: FutureWarning: Pass y=[ 8.8778688e-05  1.2860504e-04  1.3064848e-04 ...  2.6555105e-07\n",
      " -2.4974057e-07  0.0000000e+00] as keyword args. From version 0.10 passing these as positional arguments will result in an error\n",
      "  mel=np.mean(librosa.feature.melspectrogram(data, sr=sample_rate).T,axis=0)\n"
     ]
    },
    {
     "name": "stdout",
     "output_type": "stream",
     "text": [
      "1389\n",
      "fearful_female\n"
     ]
    },
    {
     "name": "stderr",
     "output_type": "stream",
     "text": [
      "/var/folders/7h/3y0jb5yx0g399b2y_qtq_db80000gn/T/ipykernel_26966/1257479974.py:14: FutureWarning: Pass y=[ 4.1910411e-05  6.9458089e-05  7.0497445e-05 ... -6.8709999e-03\n",
      " -6.9900933e-03  0.0000000e+00] as keyword args. From version 0.10 passing these as positional arguments will result in an error\n",
      "  mel=np.mean(librosa.feature.melspectrogram(data, sr=sample_rate).T,axis=0)\n"
     ]
    },
    {
     "name": "stdout",
     "output_type": "stream",
     "text": [
      "1390\n",
      "fearful_female\n"
     ]
    },
    {
     "name": "stderr",
     "output_type": "stream",
     "text": [
      "/var/folders/7h/3y0jb5yx0g399b2y_qtq_db80000gn/T/ipykernel_26966/1257479974.py:14: FutureWarning: Pass y=[-1.0690606e-04 -1.7169058e-04 -1.4343623e-04 ... -1.0627325e-05\n",
      " -3.2121263e-06  0.0000000e+00] as keyword args. From version 0.10 passing these as positional arguments will result in an error\n",
      "  mel=np.mean(librosa.feature.melspectrogram(data, sr=sample_rate).T,axis=0)\n"
     ]
    },
    {
     "name": "stdout",
     "output_type": "stream",
     "text": [
      "1391\n",
      "angry_female\n"
     ]
    },
    {
     "name": "stderr",
     "output_type": "stream",
     "text": [
      "/var/folders/7h/3y0jb5yx0g399b2y_qtq_db80000gn/T/ipykernel_26966/1257479974.py:14: FutureWarning: Pass y=[-4.3048367e-05 -6.7565350e-05 -4.9405837e-05 ... -4.1780475e-04\n",
      "  1.0266458e-04  0.0000000e+00] as keyword args. From version 0.10 passing these as positional arguments will result in an error\n",
      "  mel=np.mean(librosa.feature.melspectrogram(data, sr=sample_rate).T,axis=0)\n"
     ]
    },
    {
     "name": "stdout",
     "output_type": "stream",
     "text": [
      "1392\n",
      "calm_female\n"
     ]
    },
    {
     "name": "stderr",
     "output_type": "stream",
     "text": [
      "/var/folders/7h/3y0jb5yx0g399b2y_qtq_db80000gn/T/ipykernel_26966/1257479974.py:14: FutureWarning: Pass y=[ 3.5760986e-05  5.1017065e-05  3.2084088e-05 ...  2.2275983e-06\n",
      " -1.0743728e-06  0.0000000e+00] as keyword args. From version 0.10 passing these as positional arguments will result in an error\n",
      "  mel=np.mean(librosa.feature.melspectrogram(data, sr=sample_rate).T,axis=0)\n"
     ]
    },
    {
     "name": "stdout",
     "output_type": "stream",
     "text": [
      "1393\n",
      "neutral_female\n"
     ]
    },
    {
     "name": "stderr",
     "output_type": "stream",
     "text": [
      "/var/folders/7h/3y0jb5yx0g399b2y_qtq_db80000gn/T/ipykernel_26966/1257479974.py:14: FutureWarning: Pass y=[ 7.3169540e-05  1.1602454e-04  1.0185919e-04 ...  3.1849805e-08\n",
      " -8.4744045e-08  0.0000000e+00] as keyword args. From version 0.10 passing these as positional arguments will result in an error\n",
      "  mel=np.mean(librosa.feature.melspectrogram(data, sr=sample_rate).T,axis=0)\n"
     ]
    },
    {
     "name": "stdout",
     "output_type": "stream",
     "text": [
      "1394\n",
      "calm_female\n"
     ]
    },
    {
     "name": "stderr",
     "output_type": "stream",
     "text": [
      "/var/folders/7h/3y0jb5yx0g399b2y_qtq_db80000gn/T/ipykernel_26966/1257479974.py:14: FutureWarning: Pass y=[-1.05414816e-04 -1.77847993e-04 -1.49355139e-04 ... -1.13615810e-04\n",
      " -7.83181022e-05  0.00000000e+00] as keyword args. From version 0.10 passing these as positional arguments will result in an error\n",
      "  mel=np.mean(librosa.feature.melspectrogram(data, sr=sample_rate).T,axis=0)\n"
     ]
    },
    {
     "name": "stdout",
     "output_type": "stream",
     "text": [
      "1395\n",
      "happy_female\n"
     ]
    },
    {
     "name": "stderr",
     "output_type": "stream",
     "text": [
      "/var/folders/7h/3y0jb5yx0g399b2y_qtq_db80000gn/T/ipykernel_26966/1257479974.py:14: FutureWarning: Pass y=[ 2.4045614e-05  4.6583402e-05  4.6992664e-05 ... -2.2270381e-06\n",
      "  1.2717221e-06  0.0000000e+00] as keyword args. From version 0.10 passing these as positional arguments will result in an error\n",
      "  mel=np.mean(librosa.feature.melspectrogram(data, sr=sample_rate).T,axis=0)\n"
     ]
    },
    {
     "name": "stdout",
     "output_type": "stream",
     "text": [
      "1396\n",
      "happy_female\n"
     ]
    },
    {
     "name": "stderr",
     "output_type": "stream",
     "text": [
      "/var/folders/7h/3y0jb5yx0g399b2y_qtq_db80000gn/T/ipykernel_26966/1257479974.py:14: FutureWarning: Pass y=[ 4.5907105e-05  6.2125335e-05  4.7408383e-05 ... -2.8732150e-06\n",
      " -1.9961646e-05  0.0000000e+00] as keyword args. From version 0.10 passing these as positional arguments will result in an error\n",
      "  mel=np.mean(librosa.feature.melspectrogram(data, sr=sample_rate).T,axis=0)\n"
     ]
    },
    {
     "name": "stdout",
     "output_type": "stream",
     "text": [
      "1397\n",
      "neutral_female\n"
     ]
    },
    {
     "name": "stderr",
     "output_type": "stream",
     "text": [
      "/var/folders/7h/3y0jb5yx0g399b2y_qtq_db80000gn/T/ipykernel_26966/1257479974.py:14: FutureWarning: Pass y=[-2.6030129e-05 -2.6473672e-05 -2.2585735e-05 ...  9.2964045e-09\n",
      " -8.5354772e-09  0.0000000e+00] as keyword args. From version 0.10 passing these as positional arguments will result in an error\n",
      "  mel=np.mean(librosa.feature.melspectrogram(data, sr=sample_rate).T,axis=0)\n",
      "/var/folders/7h/3y0jb5yx0g399b2y_qtq_db80000gn/T/ipykernel_26966/1257479974.py:14: FutureWarning: Pass y=[ 9.2081696e-05  1.5497381e-04  1.3301588e-04 ... -3.5995852e-06\n",
      "  1.1682364e-05  0.0000000e+00] as keyword args. From version 0.10 passing these as positional arguments will result in an error\n",
      "  mel=np.mean(librosa.feature.melspectrogram(data, sr=sample_rate).T,axis=0)\n"
     ]
    },
    {
     "name": "stdout",
     "output_type": "stream",
     "text": [
      "1398\n",
      "calm_female\n",
      "1399\n",
      "calm_female\n"
     ]
    },
    {
     "name": "stderr",
     "output_type": "stream",
     "text": [
      "/var/folders/7h/3y0jb5yx0g399b2y_qtq_db80000gn/T/ipykernel_26966/1257479974.py:14: FutureWarning: Pass y=[-6.5975604e-05 -9.8763827e-05 -8.7730907e-05 ... -6.6576715e-05\n",
      " -6.5269516e-05  0.0000000e+00] as keyword args. From version 0.10 passing these as positional arguments will result in an error\n",
      "  mel=np.mean(librosa.feature.melspectrogram(data, sr=sample_rate).T,axis=0)\n",
      "/var/folders/7h/3y0jb5yx0g399b2y_qtq_db80000gn/T/ipykernel_26966/1257479974.py:14: FutureWarning: Pass y=[4.4953416e-05 6.3835083e-05 4.3876706e-05 ... 4.4793334e-05 6.2182306e-05\n",
      " 0.0000000e+00] as keyword args. From version 0.10 passing these as positional arguments will result in an error\n",
      "  mel=np.mean(librosa.feature.melspectrogram(data, sr=sample_rate).T,axis=0)\n"
     ]
    },
    {
     "name": "stdout",
     "output_type": "stream",
     "text": [
      "1400\n",
      "happy_female\n",
      "1401\n",
      "happy_female\n"
     ]
    },
    {
     "name": "stderr",
     "output_type": "stream",
     "text": [
      "/var/folders/7h/3y0jb5yx0g399b2y_qtq_db80000gn/T/ipykernel_26966/1257479974.py:14: FutureWarning: Pass y=[ 6.3246909e-05  8.7751658e-05  7.6529599e-05 ... -3.3522077e-04\n",
      " -3.9502888e-04  0.0000000e+00] as keyword args. From version 0.10 passing these as positional arguments will result in an error\n",
      "  mel=np.mean(librosa.feature.melspectrogram(data, sr=sample_rate).T,axis=0)\n"
     ]
    },
    {
     "name": "stdout",
     "output_type": "stream",
     "text": [
      "1402\n",
      "surprised_female\n"
     ]
    },
    {
     "name": "stderr",
     "output_type": "stream",
     "text": [
      "/var/folders/7h/3y0jb5yx0g399b2y_qtq_db80000gn/T/ipykernel_26966/1257479974.py:14: FutureWarning: Pass y=[ 7.1752844e-09 -1.3505373e-08  2.1304743e-08 ... -1.1029392e-04\n",
      " -1.1100680e-04  0.0000000e+00] as keyword args. From version 0.10 passing these as positional arguments will result in an error\n",
      "  mel=np.mean(librosa.feature.melspectrogram(data, sr=sample_rate).T,axis=0)\n"
     ]
    },
    {
     "name": "stdout",
     "output_type": "stream",
     "text": [
      "1403\n",
      "surprised_female\n"
     ]
    },
    {
     "name": "stderr",
     "output_type": "stream",
     "text": [
      "/var/folders/7h/3y0jb5yx0g399b2y_qtq_db80000gn/T/ipykernel_26966/1257479974.py:14: FutureWarning: Pass y=[-1.1404720e-04 -1.8863316e-04 -1.5936751e-04 ...  7.2583641e-09\n",
      " -5.8994694e-09  0.0000000e+00] as keyword args. From version 0.10 passing these as positional arguments will result in an error\n",
      "  mel=np.mean(librosa.feature.melspectrogram(data, sr=sample_rate).T,axis=0)\n"
     ]
    },
    {
     "name": "stdout",
     "output_type": "stream",
     "text": [
      "1404\n",
      "sad_female\n"
     ]
    },
    {
     "name": "stderr",
     "output_type": "stream",
     "text": [
      "/var/folders/7h/3y0jb5yx0g399b2y_qtq_db80000gn/T/ipykernel_26966/1257479974.py:14: FutureWarning: Pass y=[ 2.0643127e-12 -2.5577502e-12  2.1116097e-12 ...  4.0613886e-05\n",
      "  4.6850972e-05  0.0000000e+00] as keyword args. From version 0.10 passing these as positional arguments will result in an error\n",
      "  mel=np.mean(librosa.feature.melspectrogram(data, sr=sample_rate).T,axis=0)\n"
     ]
    },
    {
     "name": "stdout",
     "output_type": "stream",
     "text": [
      "1405\n",
      "disgust_female\n"
     ]
    },
    {
     "name": "stderr",
     "output_type": "stream",
     "text": [
      "/var/folders/7h/3y0jb5yx0g399b2y_qtq_db80000gn/T/ipykernel_26966/1257479974.py:14: FutureWarning: Pass y=[ 5.7471876e-09 -6.5492367e-09  7.1853230e-09 ...  4.6666872e-05\n",
      "  4.8356014e-05  0.0000000e+00] as keyword args. From version 0.10 passing these as positional arguments will result in an error\n",
      "  mel=np.mean(librosa.feature.melspectrogram(data, sr=sample_rate).T,axis=0)\n"
     ]
    },
    {
     "name": "stdout",
     "output_type": "stream",
     "text": [
      "1406\n",
      "disgust_female\n"
     ]
    },
    {
     "name": "stderr",
     "output_type": "stream",
     "text": [
      "/var/folders/7h/3y0jb5yx0g399b2y_qtq_db80000gn/T/ipykernel_26966/1257479974.py:14: FutureWarning: Pass y=[-0.00015434 -0.0002309  -0.00017576 ...  0.00013469  0.00013633\n",
      "  0.        ] as keyword args. From version 0.10 passing these as positional arguments will result in an error\n",
      "  mel=np.mean(librosa.feature.melspectrogram(data, sr=sample_rate).T,axis=0)\n"
     ]
    },
    {
     "name": "stdout",
     "output_type": "stream",
     "text": [
      "1407\n",
      "sad_female\n"
     ]
    },
    {
     "name": "stderr",
     "output_type": "stream",
     "text": [
      "/var/folders/7h/3y0jb5yx0g399b2y_qtq_db80000gn/T/ipykernel_26966/1257479974.py:14: FutureWarning: Pass y=[1.6304916e-04 2.7735895e-04 2.3304354e-04 ... 8.7455141e-05 9.4507726e-05\n",
      " 0.0000000e+00] as keyword args. From version 0.10 passing these as positional arguments will result in an error\n",
      "  mel=np.mean(librosa.feature.melspectrogram(data, sr=sample_rate).T,axis=0)\n"
     ]
    },
    {
     "name": "stdout",
     "output_type": "stream",
     "text": [
      "1408\n",
      "fearful_female\n"
     ]
    },
    {
     "name": "stderr",
     "output_type": "stream",
     "text": [
      "/var/folders/7h/3y0jb5yx0g399b2y_qtq_db80000gn/T/ipykernel_26966/1257479974.py:14: FutureWarning: Pass y=[ 0.0001324   0.00019736  0.000174   ... -0.00184393 -0.0021496\n",
      "  0.        ] as keyword args. From version 0.10 passing these as positional arguments will result in an error\n",
      "  mel=np.mean(librosa.feature.melspectrogram(data, sr=sample_rate).T,axis=0)\n"
     ]
    },
    {
     "name": "stdout",
     "output_type": "stream",
     "text": [
      "1409\n",
      "angry_female\n"
     ]
    },
    {
     "name": "stderr",
     "output_type": "stream",
     "text": [
      "/var/folders/7h/3y0jb5yx0g399b2y_qtq_db80000gn/T/ipykernel_26966/1257479974.py:14: FutureWarning: Pass y=[-3.0652469e-08 -4.6154089e-09  5.0800448e-08 ...  4.5657656e-05\n",
      "  3.1628355e-05  0.0000000e+00] as keyword args. From version 0.10 passing these as positional arguments will result in an error\n",
      "  mel=np.mean(librosa.feature.melspectrogram(data, sr=sample_rate).T,axis=0)\n"
     ]
    },
    {
     "name": "stdout",
     "output_type": "stream",
     "text": [
      "1410\n",
      "angry_female\n"
     ]
    },
    {
     "name": "stderr",
     "output_type": "stream",
     "text": [
      "/var/folders/7h/3y0jb5yx0g399b2y_qtq_db80000gn/T/ipykernel_26966/1257479974.py:14: FutureWarning: Pass y=[-0.00013221 -0.000213   -0.00017156 ...  0.00024627  0.00024974\n",
      "  0.        ] as keyword args. From version 0.10 passing these as positional arguments will result in an error\n",
      "  mel=np.mean(librosa.feature.melspectrogram(data, sr=sample_rate).T,axis=0)\n"
     ]
    },
    {
     "name": "stdout",
     "output_type": "stream",
     "text": [
      "1411\n",
      "fearful_female\n"
     ]
    },
    {
     "name": "stderr",
     "output_type": "stream",
     "text": [
      "/var/folders/7h/3y0jb5yx0g399b2y_qtq_db80000gn/T/ipykernel_26966/1257479974.py:14: FutureWarning: Pass y=[ 1.1527291e-04  1.4936618e-04  1.2909308e-04 ... -3.8437760e-05\n",
      "  5.8877022e-06  0.0000000e+00] as keyword args. From version 0.10 passing these as positional arguments will result in an error\n",
      "  mel=np.mean(librosa.feature.melspectrogram(data, sr=sample_rate).T,axis=0)\n"
     ]
    },
    {
     "name": "stdout",
     "output_type": "stream",
     "text": [
      "1412\n",
      "happy_female\n"
     ]
    },
    {
     "name": "stderr",
     "output_type": "stream",
     "text": [
      "/var/folders/7h/3y0jb5yx0g399b2y_qtq_db80000gn/T/ipykernel_26966/1257479974.py:14: FutureWarning: Pass y=[-6.7118468e-05 -7.3706608e-05 -5.8535308e-05 ...  4.8430218e-05\n",
      " -1.3364165e-05  0.0000000e+00] as keyword args. From version 0.10 passing these as positional arguments will result in an error\n",
      "  mel=np.mean(librosa.feature.melspectrogram(data, sr=sample_rate).T,axis=0)\n",
      "/var/folders/7h/3y0jb5yx0g399b2y_qtq_db80000gn/T/ipykernel_26966/1257479974.py:14: FutureWarning: Pass y=[ 3.1427586e-05  5.7600282e-05  3.8869755e-05 ... -1.2523535e-04\n",
      " -1.5396318e-04  0.0000000e+00] as keyword args. From version 0.10 passing these as positional arguments will result in an error\n",
      "  mel=np.mean(librosa.feature.melspectrogram(data, sr=sample_rate).T,axis=0)\n"
     ]
    },
    {
     "name": "stdout",
     "output_type": "stream",
     "text": [
      "1413\n",
      "happy_female\n",
      "1414\n",
      "calm_female\n"
     ]
    },
    {
     "name": "stderr",
     "output_type": "stream",
     "text": [
      "/var/folders/7h/3y0jb5yx0g399b2y_qtq_db80000gn/T/ipykernel_26966/1257479974.py:14: FutureWarning: Pass y=[-4.7032110e-05 -7.7773504e-05 -5.9483053e-05 ...  1.2247951e-04\n",
      "  1.2880372e-04  0.0000000e+00] as keyword args. From version 0.10 passing these as positional arguments will result in an error\n",
      "  mel=np.mean(librosa.feature.melspectrogram(data, sr=sample_rate).T,axis=0)\n"
     ]
    },
    {
     "name": "stdout",
     "output_type": "stream",
     "text": [
      "1415\n",
      "neutral_female\n"
     ]
    },
    {
     "name": "stderr",
     "output_type": "stream",
     "text": [
      "/var/folders/7h/3y0jb5yx0g399b2y_qtq_db80000gn/T/ipykernel_26966/1257479974.py:14: FutureWarning: Pass y=[-1.0549581e-04 -1.7324212e-04 -1.4215290e-04 ...  1.1950261e-06\n",
      " -1.0127582e-06  0.0000000e+00] as keyword args. From version 0.10 passing these as positional arguments will result in an error\n",
      "  mel=np.mean(librosa.feature.melspectrogram(data, sr=sample_rate).T,axis=0)\n"
     ]
    },
    {
     "name": "stdout",
     "output_type": "stream",
     "text": [
      "1416\n",
      "calm_female\n"
     ]
    },
    {
     "name": "stderr",
     "output_type": "stream",
     "text": [
      "/var/folders/7h/3y0jb5yx0g399b2y_qtq_db80000gn/T/ipykernel_26966/1257479974.py:14: FutureWarning: Pass y=[0.00000000e+00 0.00000000e+00 0.00000000e+00 ... 6.91644091e-05\n",
      " 1.10157576e-04 0.00000000e+00] as keyword args. From version 0.10 passing these as positional arguments will result in an error\n",
      "  mel=np.mean(librosa.feature.melspectrogram(data, sr=sample_rate).T,axis=0)\n"
     ]
    },
    {
     "name": "stdout",
     "output_type": "stream",
     "text": [
      "1417\n",
      "surprised_female\n"
     ]
    },
    {
     "name": "stderr",
     "output_type": "stream",
     "text": [
      "/var/folders/7h/3y0jb5yx0g399b2y_qtq_db80000gn/T/ipykernel_26966/1257479974.py:14: FutureWarning: Pass y=[ 0.          0.          0.         ... -0.00025792 -0.00041872\n",
      "  0.        ] as keyword args. From version 0.10 passing these as positional arguments will result in an error\n",
      "  mel=np.mean(librosa.feature.melspectrogram(data, sr=sample_rate).T,axis=0)\n"
     ]
    },
    {
     "name": "stdout",
     "output_type": "stream",
     "text": [
      "1418\n",
      "surprised_female\n"
     ]
    },
    {
     "name": "stderr",
     "output_type": "stream",
     "text": [
      "/var/folders/7h/3y0jb5yx0g399b2y_qtq_db80000gn/T/ipykernel_26966/1257479974.py:14: FutureWarning: Pass y=[ 3.2039487e-05  4.1340914e-05  1.8186891e-05 ... -8.0786820e-05\n",
      " -7.9700461e-05  0.0000000e+00] as keyword args. From version 0.10 passing these as positional arguments will result in an error\n",
      "  mel=np.mean(librosa.feature.melspectrogram(data, sr=sample_rate).T,axis=0)\n"
     ]
    },
    {
     "name": "stdout",
     "output_type": "stream",
     "text": [
      "1419\n",
      "angry_female\n"
     ]
    },
    {
     "name": "stderr",
     "output_type": "stream",
     "text": [
      "/var/folders/7h/3y0jb5yx0g399b2y_qtq_db80000gn/T/ipykernel_26966/1257479974.py:14: FutureWarning: Pass y=[-2.5711604e-06 -1.8514211e-05 -2.3665752e-05 ... -1.8409269e-03\n",
      " -2.8463579e-03  0.0000000e+00] as keyword args. From version 0.10 passing these as positional arguments will result in an error\n",
      "  mel=np.mean(librosa.feature.melspectrogram(data, sr=sample_rate).T,axis=0)\n"
     ]
    },
    {
     "name": "stdout",
     "output_type": "stream",
     "text": [
      "1420\n",
      "fearful_female\n"
     ]
    },
    {
     "name": "stderr",
     "output_type": "stream",
     "text": [
      "/var/folders/7h/3y0jb5yx0g399b2y_qtq_db80000gn/T/ipykernel_26966/1257479974.py:14: FutureWarning: Pass y=[ 1.02297408e-05  2.10066173e-05  6.77283560e-06 ... -1.86548117e-04\n",
      " -1.11105124e-04  0.00000000e+00] as keyword args. From version 0.10 passing these as positional arguments will result in an error\n",
      "  mel=np.mean(librosa.feature.melspectrogram(data, sr=sample_rate).T,axis=0)\n"
     ]
    },
    {
     "name": "stdout",
     "output_type": "stream",
     "text": [
      "1421\n",
      "fearful_female\n"
     ]
    },
    {
     "name": "stderr",
     "output_type": "stream",
     "text": [
      "/var/folders/7h/3y0jb5yx0g399b2y_qtq_db80000gn/T/ipykernel_26966/1257479974.py:14: FutureWarning: Pass y=[ 3.0825067e-06 -3.6981892e-06  5.4481948e-06 ...  6.4960381e-07\n",
      " -6.4747212e-07  0.0000000e+00] as keyword args. From version 0.10 passing these as positional arguments will result in an error\n",
      "  mel=np.mean(librosa.feature.melspectrogram(data, sr=sample_rate).T,axis=0)\n"
     ]
    },
    {
     "name": "stdout",
     "output_type": "stream",
     "text": [
      "1422\n",
      "angry_female\n"
     ]
    },
    {
     "name": "stderr",
     "output_type": "stream",
     "text": [
      "/var/folders/7h/3y0jb5yx0g399b2y_qtq_db80000gn/T/ipykernel_26966/1257479974.py:14: FutureWarning: Pass y=[ 1.2225186e-04  2.0426637e-04  1.7712358e-04 ... -5.4204872e-08\n",
      "  3.2459102e-05  0.0000000e+00] as keyword args. From version 0.10 passing these as positional arguments will result in an error\n",
      "  mel=np.mean(librosa.feature.melspectrogram(data, sr=sample_rate).T,axis=0)\n"
     ]
    },
    {
     "name": "stdout",
     "output_type": "stream",
     "text": [
      "1423\n",
      "disgust_female\n"
     ]
    },
    {
     "name": "stderr",
     "output_type": "stream",
     "text": [
      "/var/folders/7h/3y0jb5yx0g399b2y_qtq_db80000gn/T/ipykernel_26966/1257479974.py:14: FutureWarning: Pass y=[-4.4370423e-05 -8.8478220e-05 -6.7092711e-05 ... -4.3968805e-05\n",
      " -5.9389909e-05  0.0000000e+00] as keyword args. From version 0.10 passing these as positional arguments will result in an error\n",
      "  mel=np.mean(librosa.feature.melspectrogram(data, sr=sample_rate).T,axis=0)\n"
     ]
    },
    {
     "name": "stdout",
     "output_type": "stream",
     "text": [
      "1424\n",
      "sad_female\n"
     ]
    },
    {
     "name": "stderr",
     "output_type": "stream",
     "text": [
      "/var/folders/7h/3y0jb5yx0g399b2y_qtq_db80000gn/T/ipykernel_26966/1257479974.py:14: FutureWarning: Pass y=[-2.7328886e-07  3.9386404e-07 -5.6552449e-07 ... -5.9072365e-05\n",
      " -1.1186601e-04  0.0000000e+00] as keyword args. From version 0.10 passing these as positional arguments will result in an error\n",
      "  mel=np.mean(librosa.feature.melspectrogram(data, sr=sample_rate).T,axis=0)\n"
     ]
    },
    {
     "name": "stdout",
     "output_type": "stream",
     "text": [
      "1425\n",
      "sad_female\n"
     ]
    },
    {
     "name": "stderr",
     "output_type": "stream",
     "text": [
      "/var/folders/7h/3y0jb5yx0g399b2y_qtq_db80000gn/T/ipykernel_26966/1257479974.py:14: FutureWarning: Pass y=[ 1.4108953e-04  2.2654234e-04  2.0152856e-04 ... -3.9861283e-05\n",
      " -3.6531899e-06  0.0000000e+00] as keyword args. From version 0.10 passing these as positional arguments will result in an error\n",
      "  mel=np.mean(librosa.feature.melspectrogram(data, sr=sample_rate).T,axis=0)\n"
     ]
    },
    {
     "name": "stdout",
     "output_type": "stream",
     "text": [
      "1426\n",
      "disgust_female\n"
     ]
    },
    {
     "name": "stderr",
     "output_type": "stream",
     "text": [
      "/var/folders/7h/3y0jb5yx0g399b2y_qtq_db80000gn/T/ipykernel_26966/1257479974.py:14: FutureWarning: Pass y=[-8.5994980e-06 -9.7163593e-06 -1.3055509e-05 ... -8.7222150e-05\n",
      " -1.4528960e-04  0.0000000e+00] as keyword args. From version 0.10 passing these as positional arguments will result in an error\n",
      "  mel=np.mean(librosa.feature.melspectrogram(data, sr=sample_rate).T,axis=0)\n"
     ]
    },
    {
     "name": "stdout",
     "output_type": "stream",
     "text": [
      "1427\n",
      "surprised_female\n"
     ]
    },
    {
     "name": "stderr",
     "output_type": "stream",
     "text": [
      "/var/folders/7h/3y0jb5yx0g399b2y_qtq_db80000gn/T/ipykernel_26966/1257479974.py:14: FutureWarning: Pass y=[-9.2180271e-06 -3.2063836e-05 -2.9007248e-05 ... -1.2086909e-04\n",
      " -1.5302838e-04  0.0000000e+00] as keyword args. From version 0.10 passing these as positional arguments will result in an error\n",
      "  mel=np.mean(librosa.feature.melspectrogram(data, sr=sample_rate).T,axis=0)\n"
     ]
    },
    {
     "name": "stdout",
     "output_type": "stream",
     "text": [
      "1428\n",
      "surprised_female\n"
     ]
    },
    {
     "name": "stderr",
     "output_type": "stream",
     "text": [
      "/var/folders/7h/3y0jb5yx0g399b2y_qtq_db80000gn/T/ipykernel_26966/1257479974.py:14: FutureWarning: Pass y=[ 1.0789836e-08 -1.6794429e-08  2.3843844e-08 ...  1.0122956e-04\n",
      "  5.9827351e-05  0.0000000e+00] as keyword args. From version 0.10 passing these as positional arguments will result in an error\n",
      "  mel=np.mean(librosa.feature.melspectrogram(data, sr=sample_rate).T,axis=0)\n"
     ]
    },
    {
     "name": "stdout",
     "output_type": "stream",
     "text": [
      "1429\n",
      "fearful_female\n"
     ]
    },
    {
     "name": "stderr",
     "output_type": "stream",
     "text": [
      "/var/folders/7h/3y0jb5yx0g399b2y_qtq_db80000gn/T/ipykernel_26966/1257479974.py:14: FutureWarning: Pass y=[-8.6574597e-05 -1.3354330e-04 -1.1438142e-04 ...  4.8042326e-05\n",
      "  3.6269412e-05  0.0000000e+00] as keyword args. From version 0.10 passing these as positional arguments will result in an error\n",
      "  mel=np.mean(librosa.feature.melspectrogram(data, sr=sample_rate).T,axis=0)\n"
     ]
    },
    {
     "name": "stdout",
     "output_type": "stream",
     "text": [
      "1430\n",
      "angry_female\n"
     ]
    },
    {
     "name": "stderr",
     "output_type": "stream",
     "text": [
      "/var/folders/7h/3y0jb5yx0g399b2y_qtq_db80000gn/T/ipykernel_26966/1257479974.py:14: FutureWarning: Pass y=[-6.6872286e-05 -9.8175042e-05 -8.7538792e-05 ...  1.2719151e-04\n",
      "  2.1288483e-04  0.0000000e+00] as keyword args. From version 0.10 passing these as positional arguments will result in an error\n",
      "  mel=np.mean(librosa.feature.melspectrogram(data, sr=sample_rate).T,axis=0)\n"
     ]
    },
    {
     "name": "stdout",
     "output_type": "stream",
     "text": [
      "1431\n",
      "angry_female\n"
     ]
    },
    {
     "name": "stderr",
     "output_type": "stream",
     "text": [
      "/var/folders/7h/3y0jb5yx0g399b2y_qtq_db80000gn/T/ipykernel_26966/1257479974.py:14: FutureWarning: Pass y=[ 0.00013386  0.00017033  0.00016497 ... -0.00016322 -0.00015253\n",
      "  0.        ] as keyword args. From version 0.10 passing these as positional arguments will result in an error\n",
      "  mel=np.mean(librosa.feature.melspectrogram(data, sr=sample_rate).T,axis=0)\n"
     ]
    },
    {
     "name": "stdout",
     "output_type": "stream",
     "text": [
      "1432\n",
      "fearful_female\n"
     ]
    },
    {
     "name": "stderr",
     "output_type": "stream",
     "text": [
      "/var/folders/7h/3y0jb5yx0g399b2y_qtq_db80000gn/T/ipykernel_26966/1257479974.py:14: FutureWarning: Pass y=[7.9317288e-05 1.1080634e-04 7.4328324e-05 ... 0.0000000e+00 0.0000000e+00\n",
      " 0.0000000e+00] as keyword args. From version 0.10 passing these as positional arguments will result in an error\n",
      "  mel=np.mean(librosa.feature.melspectrogram(data, sr=sample_rate).T,axis=0)\n"
     ]
    },
    {
     "name": "stdout",
     "output_type": "stream",
     "text": [
      "1433\n",
      "sad_female\n"
     ]
    },
    {
     "name": "stderr",
     "output_type": "stream",
     "text": [
      "/var/folders/7h/3y0jb5yx0g399b2y_qtq_db80000gn/T/ipykernel_26966/1257479974.py:14: FutureWarning: Pass y=[0.0000000e+00 0.0000000e+00 0.0000000e+00 ... 5.6618712e-05 5.7777026e-05\n",
      " 0.0000000e+00] as keyword args. From version 0.10 passing these as positional arguments will result in an error\n",
      "  mel=np.mean(librosa.feature.melspectrogram(data, sr=sample_rate).T,axis=0)\n"
     ]
    },
    {
     "name": "stdout",
     "output_type": "stream",
     "text": [
      "1434\n",
      "disgust_female\n"
     ]
    },
    {
     "name": "stderr",
     "output_type": "stream",
     "text": [
      "/var/folders/7h/3y0jb5yx0g399b2y_qtq_db80000gn/T/ipykernel_26966/1257479974.py:14: FutureWarning: Pass y=[ 4.5723031e-05  6.2884727e-05  3.8921753e-05 ... -3.2700133e-05\n",
      " -7.1177325e-05  0.0000000e+00] as keyword args. From version 0.10 passing these as positional arguments will result in an error\n",
      "  mel=np.mean(librosa.feature.melspectrogram(data, sr=sample_rate).T,axis=0)\n"
     ]
    },
    {
     "name": "stdout",
     "output_type": "stream",
     "text": [
      "1435\n",
      "disgust_female\n"
     ]
    },
    {
     "name": "stderr",
     "output_type": "stream",
     "text": [
      "/var/folders/7h/3y0jb5yx0g399b2y_qtq_db80000gn/T/ipykernel_26966/1257479974.py:14: FutureWarning: Pass y=[-1.2549042e-06  1.4857015e-06 -1.7273684e-06 ...  4.9048438e-05\n",
      "  3.5488694e-05  0.0000000e+00] as keyword args. From version 0.10 passing these as positional arguments will result in an error\n",
      "  mel=np.mean(librosa.feature.melspectrogram(data, sr=sample_rate).T,axis=0)\n"
     ]
    },
    {
     "name": "stdout",
     "output_type": "stream",
     "text": [
      "1436\n",
      "sad_female\n"
     ]
    },
    {
     "name": "stderr",
     "output_type": "stream",
     "text": [
      "/var/folders/7h/3y0jb5yx0g399b2y_qtq_db80000gn/T/ipykernel_26966/1257479974.py:14: FutureWarning: Pass y=[-1.4907348e-06  1.9778179e-06 -2.8896936e-06 ...  2.3355663e-03\n",
      "  2.4148575e-03  0.0000000e+00] as keyword args. From version 0.10 passing these as positional arguments will result in an error\n",
      "  mel=np.mean(librosa.feature.melspectrogram(data, sr=sample_rate).T,axis=0)\n"
     ]
    },
    {
     "name": "stdout",
     "output_type": "stream",
     "text": [
      "1437\n",
      "happy_female\n"
     ]
    },
    {
     "name": "stderr",
     "output_type": "stream",
     "text": [
      "/var/folders/7h/3y0jb5yx0g399b2y_qtq_db80000gn/T/ipykernel_26966/1257479974.py:14: FutureWarning: Pass y=[-3.5647103e-05 -5.6249388e-05 -3.7155871e-05 ... -2.2206880e-04\n",
      " -1.5626731e-04  0.0000000e+00] as keyword args. From version 0.10 passing these as positional arguments will result in an error\n",
      "  mel=np.mean(librosa.feature.melspectrogram(data, sr=sample_rate).T,axis=0)\n"
     ]
    },
    {
     "name": "stdout",
     "output_type": "stream",
     "text": [
      "1438\n",
      "happy_female\n"
     ]
    },
    {
     "name": "stderr",
     "output_type": "stream",
     "text": [
      "/var/folders/7h/3y0jb5yx0g399b2y_qtq_db80000gn/T/ipykernel_26966/1257479974.py:14: FutureWarning: Pass y=[-1.3109808e-06 -5.2740556e-06 -2.2491471e-05 ...  2.8258986e-05\n",
      "  5.8341699e-05  0.0000000e+00] as keyword args. From version 0.10 passing these as positional arguments will result in an error\n",
      "  mel=np.mean(librosa.feature.melspectrogram(data, sr=sample_rate).T,axis=0)\n"
     ]
    },
    {
     "name": "stdout",
     "output_type": "stream",
     "text": [
      "1439\n",
      "calm_female\n"
     ]
    },
    {
     "name": "stderr",
     "output_type": "stream",
     "text": [
      "/var/folders/7h/3y0jb5yx0g399b2y_qtq_db80000gn/T/ipykernel_26966/1257479974.py:14: FutureWarning: Pass y=[-2.8233026e-07  2.3358811e-07 -1.6015822e-07 ... -4.4790650e-06\n",
      "  1.9873403e-06  0.0000000e+00] as keyword args. From version 0.10 passing these as positional arguments will result in an error\n",
      "  mel=np.mean(librosa.feature.melspectrogram(data, sr=sample_rate).T,axis=0)\n"
     ]
    },
    {
     "name": "stdout",
     "output_type": "stream",
     "text": [
      "1440\n",
      "calm_female\n"
     ]
    },
    {
     "name": "stderr",
     "output_type": "stream",
     "text": [
      "/var/folders/7h/3y0jb5yx0g399b2y_qtq_db80000gn/T/ipykernel_26966/1257479974.py:14: FutureWarning: Pass y=[-1.4092414e-04 -2.1190503e-04 -1.9484098e-04 ...  3.6164474e-05\n",
      "  3.4447799e-05  0.0000000e+00] as keyword args. From version 0.10 passing these as positional arguments will result in an error\n",
      "  mel=np.mean(librosa.feature.melspectrogram(data, sr=sample_rate).T,axis=0)\n"
     ]
    },
    {
     "name": "stdout",
     "output_type": "stream",
     "text": [
      "1441\n",
      "neutral_female\n"
     ]
    },
    {
     "name": "stderr",
     "output_type": "stream",
     "text": [
      "/var/folders/7h/3y0jb5yx0g399b2y_qtq_db80000gn/T/ipykernel_26966/1257479974.py:14: FutureWarning: Pass y=[0.00013518 0.00020769 0.00018903 ... 0.         0.         0.        ] as keyword args. From version 0.10 passing these as positional arguments will result in an error\n",
      "  mel=np.mean(librosa.feature.melspectrogram(data, sr=sample_rate).T,axis=0)\n"
     ]
    }
   ],
   "source": [
    "# Split the dataset\n",
    "\n",
    "\n",
    "x,y=[],[]\n",
    "n=0\n",
    "\n",
    "for dirname, zzz, filenames in os.walk('audio_speech_actors_01-24'):\n",
    "\n",
    "    if(filenames!=\".DS_Store\"):\n",
    "        \n",
    "        for filename in filenames:\n",
    "                \n",
    "                file_name=os.path.basename(filename)\n",
    "                n=n+1\n",
    "                print(n)\n",
    "                if(file_name!=\".DS_Store\"):\n",
    "                    \n",
    "                    emotion=emotions[file_name.split(\"-\")[2]] + '_' + gender(file_name.split(\"-\")[-1])\n",
    "                    print(emotion)\n",
    "                    file = os.path.join(dirname, filename)\n",
    "                    feature=extract_feature(file, mfcc=True, chroma=True, mel=True )\n",
    "                    x.append(feature)\n",
    "                    y.append(emotion)\n",
    "x_train,x_test,y_train,y_test=train_test_split(np.array(x), y, test_size=0.2, random_state=1)\n",
    "\n",
    "\n",
    "\n",
    "\n"
   ]
  },
  {
   "cell_type": "code",
   "execution_count": 7,
   "metadata": {
    "execution": {
     "iopub.execute_input": "2021-07-08T14:04:40.161622Z",
     "iopub.status.busy": "2021-07-08T14:04:40.161032Z",
     "iopub.status.idle": "2021-07-08T14:04:40.16777Z",
     "shell.execute_reply": "2021-07-08T14:04:40.166815Z",
     "shell.execute_reply.started": "2021-07-08T14:04:40.161578Z"
    }
   },
   "outputs": [
    {
     "name": "stdout",
     "output_type": "stream",
     "text": [
      "(1152, 288)\n",
      "Features extracted: 180\n"
     ]
    }
   ],
   "source": [
    "# Get the shape of the training and testing datasets\n",
    "print((x_train.shape[0], x_test.shape[0]))\n",
    "\n",
    "# Get the number of features extracted\n",
    "print(f'Features extracted: {x_train.shape[1]}')"
   ]
  },
  {
   "cell_type": "code",
   "execution_count": 8,
   "metadata": {
    "execution": {
     "iopub.execute_input": "2021-07-08T14:04:40.17126Z",
     "iopub.status.busy": "2021-07-08T14:04:40.170647Z",
     "iopub.status.idle": "2021-07-08T14:04:40.183249Z",
     "shell.execute_reply": "2021-07-08T14:04:40.182118Z",
     "shell.execute_reply.started": "2021-07-08T14:04:40.171209Z"
    }
   },
   "outputs": [],
   "source": [
    "#Initialize the Multi Layer Perceptron Classifier\n",
    "model=MLPClassifier(activation='relu',alpha=0.01, batch_size=256, epsilon=1e-08, hidden_layer_sizes=(300,), learning_rate='adaptive', max_iter=500,early_stopping=True)"
   ]
  },
  {
   "cell_type": "code",
   "execution_count": 9,
   "metadata": {
    "execution": {
     "iopub.execute_input": "2021-07-08T14:04:40.185825Z",
     "iopub.status.busy": "2021-07-08T14:04:40.185162Z",
     "iopub.status.idle": "2021-07-08T14:04:44.48304Z",
     "shell.execute_reply": "2021-07-08T14:04:44.481965Z",
     "shell.execute_reply.started": "2021-07-08T14:04:40.185783Z"
    }
   },
   "outputs": [
    {
     "data": {
      "text/plain": [
       "MLPClassifier(alpha=0.01, batch_size=256, early_stopping=True,\n",
       "              hidden_layer_sizes=(300,), learning_rate='adaptive',\n",
       "              max_iter=500)"
      ]
     },
     "execution_count": 9,
     "metadata": {},
     "output_type": "execute_result"
    }
   ],
   "source": [
    "# Train the model\n",
    "model.fit(x_train,y_train)"
   ]
  },
  {
   "cell_type": "code",
   "execution_count": 10,
   "metadata": {
    "execution": {
     "iopub.execute_input": "2021-07-08T14:04:44.485307Z",
     "iopub.status.busy": "2021-07-08T14:04:44.484659Z",
     "iopub.status.idle": "2021-07-08T14:04:44.700293Z",
     "shell.execute_reply": "2021-07-08T14:04:44.699476Z",
     "shell.execute_reply.started": "2021-07-08T14:04:44.48526Z"
    }
   },
   "outputs": [
    {
     "data": {
      "image/png": "[encoded data removed]",
      "text/plain": [
       "<Figure size 432x288 with 1 Axes>"
      ]
     },
     "metadata": {
      "needs_background": "light"
     },
     "output_type": "display_data"
    },
    {
     "data": {
      "text/plain": [
       "28"
      ]
     },
     "execution_count": 10,
     "metadata": {},
     "output_type": "execute_result"
    }
   ],
   "source": [
    "y_pred = model.predict(x_test)\n",
    "accuracies = model.validation_scores_\n",
    "mt.plot(accuracies)\n",
    "mt.show()\n",
    "len(accuracies)"
   ]
  },
  {
   "cell_type": "code",
   "execution_count": 11,
   "metadata": {
    "execution": {
     "iopub.execute_input": "2021-07-08T14:04:44.703661Z",
     "iopub.status.busy": "2021-07-08T14:04:44.703305Z",
     "iopub.status.idle": "2021-07-08T14:04:44.712996Z",
     "shell.execute_reply": "2021-07-08T14:04:44.711784Z",
     "shell.execute_reply.started": "2021-07-08T14:04:44.703635Z"
    }
   },
   "outputs": [
    {
     "data": {
      "text/plain": [
       "array(['disgust_male'], dtype='<U16')"
      ]
     },
     "execution_count": 11,
     "metadata": {},
     "output_type": "execute_result"
    }
   ],
   "source": [
    "model.predict([x_test[0,:]])"
   ]
  },
  {
   "cell_type": "code",
   "execution_count": 12,
   "metadata": {
    "execution": {
     "iopub.execute_input": "2021-07-08T14:04:44.715313Z",
     "iopub.status.busy": "2021-07-08T14:04:44.714843Z",
     "iopub.status.idle": "2021-07-08T14:04:44.727361Z",
     "shell.execute_reply": "2021-07-08T14:04:44.726138Z",
     "shell.execute_reply.started": "2021-07-08T14:04:44.715262Z"
    }
   },
   "outputs": [
    {
     "name": "stdout",
     "output_type": "stream",
     "text": [
      "Accuracy: 32.29%\n"
     ]
    }
   ],
   "source": [
    "#DataFlair - Calculate the accuracy of our model\n",
    "accuracy=accuracy_score(y_true=y_test, y_pred=y_pred)\n",
    "\n",
    "#DataFlair - Print the accuracy\n",
    "print(\"Accuracy: {:.2f}%\".format(accuracy*100))"
   ]
  },
  {
   "cell_type": "code",
   "execution_count": 13,
   "metadata": {
    "execution": {
     "iopub.execute_input": "2021-07-08T14:04:44.729886Z",
     "iopub.status.busy": "2021-07-08T14:04:44.729216Z",
     "iopub.status.idle": "2021-07-08T14:04:44.757437Z",
     "shell.execute_reply": "2021-07-08T14:04:44.756365Z",
     "shell.execute_reply.started": "2021-07-08T14:04:44.729842Z"
    }
   },
   "outputs": [
    {
     "data": {
      "text/plain": [
       "['emotion_recognition.pkl']"
      ]
     },
     "execution_count": 13,
     "metadata": {},
     "output_type": "execute_result"
    }
   ],
   "source": [
    "\n",
    "# Save to file in the current working directory\n",
    "joblib_file = \"emotion_recognition.pkl\"\n",
    "joblib.dump(model, joblib_file)"
   ]
  },
  {
   "cell_type": "code",
   "execution_count": 14,
   "metadata": {
    "execution": {
     "iopub.execute_input": "2021-07-08T14:04:44.759712Z",
     "iopub.status.busy": "2021-07-08T14:04:44.75906Z",
     "iopub.status.idle": "2021-07-08T14:04:44.774274Z",
     "shell.execute_reply": "2021-07-08T14:04:44.773004Z",
     "shell.execute_reply.started": "2021-07-08T14:04:44.759669Z"
    }
   },
   "outputs": [],
   "source": [
    "model1 = joblib.load(\"emotion_recognition.pkl\")"
   ]
  },
  {
   "cell_type": "code",
   "execution_count": 15,
   "metadata": {
    "execution": {
     "iopub.execute_input": "2021-07-08T14:04:44.77652Z",
     "iopub.status.busy": "2021-07-08T14:04:44.775872Z",
     "iopub.status.idle": "2021-07-08T14:04:44.787299Z",
     "shell.execute_reply": "2021-07-08T14:04:44.786253Z",
     "shell.execute_reply.started": "2021-07-08T14:04:44.77648Z"
    }
   },
   "outputs": [
    {
     "data": {
      "text/plain": [
       "array([ 5.41933784e+01, -3.28417826e+00,  1.62094021e+01,  2.90516758e+00,\n",
       "        9.21209216e-01, -7.01507092e+00, -7.92186499e+00, -5.68913794e+00,\n",
       "       -2.17657781e+00,  4.66300786e-01, -8.62386990e+00,  1.01611364e+00,\n",
       "        3.25834662e-01, -4.57404041e+00,  2.29363585e+00, -3.82268143e+00,\n",
       "       -9.92140546e-02,  1.34911644e+00, -1.06335498e-01, -4.29361820e+00,\n",
       "       -3.05556035e+00, -3.75522852e+00, -1.60885048e+00, -5.04771137e+00,\n",
       "        3.29403311e-01, -3.00619173e+00,  2.67380404e+00, -1.57976294e+00,\n",
       "        1.12911439e+00,  2.46006727e+00, -1.14811575e+00,  5.25287747e-01,\n",
       "        2.37976122e+00, -8.78250301e-01,  3.83871794e+00,  1.23779678e+00,\n",
       "        1.93641114e+00,  8.49628448e-03,  3.18335295e+00,  6.09191298e-01,\n",
       "        6.48806214e-01,  6.70116663e-01,  6.58928871e-01,  6.14321828e-01,\n",
       "        6.49509132e-01,  6.45783544e-01,  6.87926888e-01,  7.34895706e-01,\n",
       "        7.00872123e-01,  6.51120543e-01,  6.10151589e-01,  2.41065514e-04,\n",
       "        3.57976896e-05,  8.56167480e-06,  1.34966147e-04,  1.79614238e-02,\n",
       "        6.11845665e-02,  4.45289724e-02,  3.47123742e-02,  4.49803695e-02,\n",
       "        1.43666808e-02,  3.01372223e-02,  6.81481063e-02,  5.84055595e-02,\n",
       "        4.69981693e-02,  5.76650985e-02,  6.91795126e-02,  8.47543627e-02,\n",
       "        1.47712737e-01,  5.02502546e-02,  1.37820570e-02,  2.00081374e-02,\n",
       "        1.45221204e-02,  1.38308164e-02,  6.29279763e-02,  5.24085835e-02,\n",
       "        3.94258574e-02,  3.55001464e-02,  7.13144094e-02,  5.60478866e-02,\n",
       "        3.06441728e-02,  1.90474298e-02,  5.55049954e-03,  2.57776282e-03,\n",
       "        3.55411996e-03,  3.89156118e-03,  5.09181153e-03,  5.42920083e-03,\n",
       "        6.65790588e-03,  5.17541310e-03,  3.27116298e-03,  7.30120484e-03,\n",
       "        7.35939061e-03,  3.45601374e-03,  5.84835652e-03,  6.61041727e-03,\n",
       "        3.83054418e-03,  1.93159468e-03,  4.27275011e-03,  3.73272458e-03,\n",
       "        1.51520572e-03,  7.23215926e-04,  9.38892365e-03,  2.73929653e-03,\n",
       "        4.58368188e-04,  4.84135555e-04,  3.10088648e-03,  1.22012163e-03,\n",
       "        3.63494502e-04,  9.13229480e-04,  1.19073701e-03,  3.96747986e-04,\n",
       "        4.53696062e-04,  1.04010187e-03,  1.18351099e-03,  7.75312830e-04,\n",
       "        1.45749492e-03,  8.83410103e-04,  1.55224768e-03,  1.22435286e-03,\n",
       "        6.72370312e-04,  1.00406923e-03,  1.03285233e-03,  1.03952060e-03,\n",
       "        9.95701994e-04,  1.57458335e-03,  2.12382711e-03,  6.61864062e-04,\n",
       "        7.90969178e-04,  5.91558346e-04,  6.82337850e-04,  4.67768870e-04,\n",
       "        6.23067084e-04,  7.82353687e-04,  1.04980671e-03,  1.06689904e-03,\n",
       "        6.03369554e-04,  8.14155792e-04,  3.95865587e-04,  1.97248650e-04,\n",
       "        2.10451923e-04,  1.75838868e-04,  1.28080748e-04,  1.47693805e-04,\n",
       "        1.75752633e-04,  1.72734988e-04,  2.76789477e-04,  2.61626148e-04,\n",
       "        2.13526393e-04,  3.27008689e-04,  1.00791117e-03,  1.47998880e-03,\n",
       "        1.16229116e-03,  1.12374267e-03,  1.26579311e-03,  1.06186583e-03,\n",
       "        7.05166603e-04,  3.53617215e-04,  4.66521422e-04,  5.21411421e-04,\n",
       "        1.15328538e-03,  1.17774191e-03,  9.89331631e-04,  6.39572856e-04,\n",
       "        5.23483614e-04,  1.86308433e-04,  2.60596164e-04,  2.57252250e-04,\n",
       "        3.32697498e-04,  2.58559332e-04,  1.22038102e-04,  9.83246282e-05,\n",
       "        9.82046331e-05,  6.92913381e-05,  8.04791853e-05,  1.14394839e-04,\n",
       "        7.71419291e-05,  2.35124462e-05,  1.59765420e-06])"
      ]
     },
     "execution_count": 15,
     "metadata": {},
     "output_type": "execute_result"
    }
   ],
   "source": [
    "x_test[1,1:]"
   ]
  },
  {
   "cell_type": "code",
   "execution_count": 16,
   "metadata": {
    "execution": {
     "iopub.execute_input": "2021-07-08T14:04:44.789492Z",
     "iopub.status.busy": "2021-07-08T14:04:44.788852Z",
     "iopub.status.idle": "2021-07-08T14:04:44.808933Z",
     "shell.execute_reply": "2021-07-08T14:04:44.808002Z",
     "shell.execute_reply.started": "2021-07-08T14:04:44.78945Z"
    }
   },
   "outputs": [
    {
     "data": {
      "text/plain": [
       "array(['disgust_male', 'disgust_male', 'surprised_female',\n",
       "       'disgust_female', 'happy_male', 'calm_male', 'sad_female',\n",
       "       'disgust_male', 'happy_male', 'happy_female', 'disgust_male',\n",
       "       'disgust_female', 'disgust_male', 'fearful_female', 'disgust_male',\n",
       "       'disgust_male', 'disgust_female', 'happy_male', 'sad_female',\n",
       "       'disgust_male', 'neutral_female', 'disgust_female', 'calm_male',\n",
       "       'disgust_male', 'happy_male', 'calm_male', 'sad_female',\n",
       "       'fearful_male', 'calm_female', 'calm_male', 'happy_female',\n",
       "       'happy_male', 'calm_female', 'happy_female', 'disgust_male',\n",
       "       'disgust_female', 'sad_female', 'happy_male', 'disgust_female',\n",
       "       'surprised_female', 'disgust_female', 'angry_female',\n",
       "       'calm_female', 'fearful_female', 'angry_female', 'disgust_male',\n",
       "       'happy_male', 'fearful_female', 'sad_female', 'happy_male',\n",
       "       'disgust_male', 'disgust_female', 'disgust_male', 'calm_female',\n",
       "       'disgust_male', 'disgust_female', 'calm_male', 'disgust_female',\n",
       "       'calm_male', 'disgust_male', 'sad_female', 'sad_female',\n",
       "       'disgust_female', 'surprised_female', 'calm_male', 'angry_male',\n",
       "       'angry_male', 'disgust_male', 'sad_female', 'happy_male',\n",
       "       'angry_female', 'disgust_female', 'happy_male', 'disgust_female',\n",
       "       'happy_male', 'disgust_male', 'happy_female', 'fearful_male',\n",
       "       'surprised_female', 'surprised_female', 'calm_female',\n",
       "       'happy_female', 'neutral_male', 'disgust_male', 'calm_male',\n",
       "       'sad_female', 'disgust_male', 'disgust_female', 'happy_male',\n",
       "       'surprised_female', 'sad_female', 'sad_female', 'calm_male',\n",
       "       'fearful_male', 'disgust_female', 'calm_male', 'disgust_male',\n",
       "       'angry_male', 'happy_male', 'sad_female', 'disgust_male',\n",
       "       'fearful_male', 'happy_male', 'happy_male', 'disgust_male',\n",
       "       'disgust_male', 'happy_male', 'angry_female', 'disgust_male',\n",
       "       'calm_male', 'disgust_male', 'surprised_female', 'disgust_male',\n",
       "       'disgust_male', 'calm_male', 'angry_male', 'happy_male',\n",
       "       'happy_male', 'calm_female', 'calm_male', 'disgust_male',\n",
       "       'disgust_female', 'happy_male', 'angry_female', 'neutral_male',\n",
       "       'disgust_male', 'fearful_male', 'happy_female', 'disgust_male',\n",
       "       'disgust_male', 'calm_male', 'calm_female', 'calm_female',\n",
       "       'disgust_female', 'disgust_male', 'angry_male', 'disgust_male',\n",
       "       'fearful_female', 'happy_female', 'angry_female', 'disgust_male',\n",
       "       'sad_female', 'fearful_male', 'calm_female', 'happy_male',\n",
       "       'disgust_male', 'disgust_female', 'calm_male', 'calm_female',\n",
       "       'fearful_male', 'calm_male', 'calm_female', 'sad_female',\n",
       "       'disgust_male', 'disgust_female', 'disgust_male', 'happy_male',\n",
       "       'neutral_female', 'calm_female', 'happy_male', 'happy_male',\n",
       "       'disgust_male', 'calm_male', 'surprised_female', 'happy_male',\n",
       "       'disgust_male', 'surprised_female', 'disgust_male', 'disgust_male',\n",
       "       'disgust_male', 'disgust_male', 'disgust_female', 'disgust_male',\n",
       "       'happy_female', 'disgust_male', 'disgust_female', 'sad_female',\n",
       "       'disgust_male', 'calm_male', 'calm_male', 'fearful_male',\n",
       "       'sad_female', 'disgust_female', 'happy_male', 'calm_male',\n",
       "       'calm_male', 'disgust_male', 'surprised_female', 'calm_female',\n",
       "       'surprised_female', 'sad_female', 'disgust_female', 'happy_female',\n",
       "       'disgust_male', 'calm_male', 'happy_male', 'calm_female',\n",
       "       'disgust_male', 'disgust_female', 'sad_female', 'disgust_male',\n",
       "       'disgust_male', 'sad_female', 'disgust_male', 'disgust_female',\n",
       "       'angry_male', 'disgust_female', 'happy_female', 'surprised_female',\n",
       "       'happy_male', 'disgust_male', 'disgust_male', 'happy_male',\n",
       "       'disgust_male', 'angry_female', 'disgust_female', 'calm_male',\n",
       "       'fearful_female', 'disgust_female', 'disgust_female',\n",
       "       'disgust_female', 'angry_male', 'disgust_female', 'sad_female',\n",
       "       'happy_male', 'fearful_female', 'surprised_female', 'disgust_male',\n",
       "       'disgust_male', 'disgust_male', 'disgust_male', 'happy_female',\n",
       "       'sad_female', 'fearful_female', 'disgust_female', 'calm_male',\n",
       "       'angry_male', 'sad_female', 'calm_male', 'calm_male', 'happy_male',\n",
       "       'sad_female', 'fearful_female', 'calm_female', 'angry_male',\n",
       "       'happy_male', 'sad_female', 'fearful_male', 'fearful_male',\n",
       "       'disgust_female', 'neutral_male', 'happy_male', 'sad_female',\n",
       "       'calm_male', 'happy_male', 'neutral_female', 'fearful_female',\n",
       "       'happy_male', 'fearful_female', 'sad_female', 'surprised_female',\n",
       "       'disgust_female', 'happy_male', 'angry_male', 'calm_male',\n",
       "       'disgust_female', 'angry_female', 'disgust_male', 'disgust_male',\n",
       "       'happy_male', 'happy_male', 'disgust_female', 'happy_male',\n",
       "       'disgust_female', 'disgust_female', 'calm_female',\n",
       "       'surprised_male', 'fearful_male', 'surprised_female',\n",
       "       'disgust_male', 'disgust_male', 'disgust_male', 'sad_female',\n",
       "       'angry_female', 'disgust_male', 'disgust_female', 'disgust_male',\n",
       "       'disgust_female'], dtype='<U16')"
      ]
     },
     "execution_count": 16,
     "metadata": {},
     "output_type": "execute_result"
    }
   ],
   "source": [
    "model1.predict(x_test)"
   ]
  },
  {
   "cell_type": "code",
   "execution_count": 17,
   "metadata": {
    "execution": {
     "iopub.execute_input": "2021-07-08T14:04:44.811262Z",
     "iopub.status.busy": "2021-07-08T14:04:44.810586Z",
     "iopub.status.idle": "2021-07-08T14:05:02.205324Z",
     "shell.execute_reply": "2021-07-08T14:05:02.204215Z",
     "shell.execute_reply.started": "2021-07-08T14:04:44.811219Z"
    }
   },
   "outputs": [
    {
     "name": "stdout",
     "output_type": "stream",
     "text": [
      "Collecting gradio\n",
      "  Downloading gradio-3.0.11-py3-none-any.whl (5.1 MB)\n",
      "\u001b[2K     \u001b[90m━━━━━━━━━━━━━━━━━━━━━━━━━━━━━━━━━━━━━━━━\u001b[0m \u001b[32m5.1/5.1 MB\u001b[0m \u001b[31m1.9 MB/s\u001b[0m eta \u001b[36m0:00:00\u001b[0m00:01\u001b[0m00:01\u001b[0m0m\n",
      "\u001b[?25hCollecting fastapi\n",
      "  Downloading fastapi-0.78.0-py3-none-any.whl (54 kB)\n",
      "\u001b[2K     \u001b[90m━━━━━━━━━━━━━━━━━━━━━━━━━━━━━━━━━━━━━━━━\u001b[0m \u001b[32m54.6/54.6 KB\u001b[0m \u001b[31m1.7 MB/s\u001b[0m eta \u001b[36m0:00:00\u001b[0m\n",
      "\u001b[?25hRequirement already satisfied: markdown-it-py[linkify,plugins] in /Users/michaelmathew/opt/anaconda3/lib/python3.9/site-packages (from gradio) (0.5.8)\n",
      "Collecting analytics-python\n",
      "  Downloading analytics_python-1.4.0-py2.py3-none-any.whl (15 kB)\n",
      "Requirement already satisfied: numpy in /Users/michaelmathew/opt/anaconda3/lib/python3.9/site-packages (from gradio) (1.20.1)\n",
      "Collecting orjson\n",
      "  Downloading orjson-3.7.1-cp39-cp39-macosx_10_9_x86_64.macosx_11_0_arm64.macosx_10_9_universal2.whl (447 kB)\n",
      "\u001b[2K     \u001b[90m━━━━━━━━━━━━━━━━━━━━━━━━━━━━━━━━━━━━━━\u001b[0m \u001b[32m447.0/447.0 KB\u001b[0m \u001b[31m11.2 MB/s\u001b[0m eta \u001b[36m0:00:00\u001b[0m00:01\u001b[0m\n",
      "\u001b[?25hCollecting python-multipart\n",
      "  Downloading python-multipart-0.0.5.tar.gz (32 kB)\n",
      "  Preparing metadata (setup.py) ... \u001b[?25ldone\n",
      "\u001b[?25hRequirement already satisfied: aiohttp in /Users/michaelmathew/opt/anaconda3/lib/python3.9/site-packages (from gradio) (3.8.1)\n",
      "Requirement already satisfied: pandas in /Users/michaelmathew/opt/anaconda3/lib/python3.9/site-packages (from gradio) (1.2.4)\n",
      "Collecting pycryptodome\n",
      "  Downloading pycryptodome-3.14.1-cp35-abi3-macosx_10_9_x86_64.whl (1.5 MB)\n",
      "\u001b[2K     \u001b[90m━━━━━━━━━━━━━━━━━━━━━━━━━━━━━━━━━━━━━━━━\u001b[0m \u001b[32m1.5/1.5 MB\u001b[0m \u001b[31m5.5 MB/s\u001b[0m eta \u001b[36m0:00:00\u001b[0m00:01\u001b[0m00:01\u001b[0m\n",
      "\u001b[?25hCollecting ffmpy\n",
      "  Downloading ffmpy-0.3.0.tar.gz (4.8 kB)\n",
      "  Preparing metadata (setup.py) ... \u001b[?25ldone\n",
      "\u001b[?25hRequirement already satisfied: pydub in /Users/michaelmathew/opt/anaconda3/lib/python3.9/site-packages (from gradio) (0.25.1)\n",
      "Requirement already satisfied: requests in /Users/michaelmathew/opt/anaconda3/lib/python3.9/site-packages (from gradio) (2.27.1)\n",
      "Requirement already satisfied: pillow in /Users/michaelmathew/opt/anaconda3/lib/python3.9/site-packages (from gradio) (8.2.0)\n",
      "Collecting uvicorn\n",
      "  Downloading uvicorn-0.17.6-py3-none-any.whl (53 kB)\n",
      "\u001b[2K     \u001b[90m━━━━━━━━━━━━━━━━━━━━━━━━━━━━━━━━━━━━━━━━\u001b[0m \u001b[32m53.6/53.6 KB\u001b[0m \u001b[31m1.5 MB/s\u001b[0m eta \u001b[36m0:00:00\u001b[0m\n",
      "\u001b[?25hCollecting paramiko\n",
      "  Downloading paramiko-2.11.0-py2.py3-none-any.whl (212 kB)\n",
      "\u001b[2K     \u001b[90m━━━━━━━━━━━━━━━━━━━━━━━━━━━━━━━━━━━━━━━\u001b[0m \u001b[32m212.9/212.9 KB\u001b[0m \u001b[31m3.5 MB/s\u001b[0m eta \u001b[36m0:00:00\u001b[0ma \u001b[36m0:00:01\u001b[0m\n",
      "\u001b[?25hRequirement already satisfied: matplotlib in /Users/michaelmathew/opt/anaconda3/lib/python3.9/site-packages (from gradio) (3.3.4)\n",
      "Requirement already satisfied: Jinja2 in /Users/michaelmathew/opt/anaconda3/lib/python3.9/site-packages (from gradio) (2.11.3)\n",
      "Requirement already satisfied: attrs>=17.3.0 in /Users/michaelmathew/opt/anaconda3/lib/python3.9/site-packages (from aiohttp->gradio) (20.2.0)\n",
      "Requirement already satisfied: yarl<2.0,>=1.0 in /Users/michaelmathew/opt/anaconda3/lib/python3.9/site-packages (from aiohttp->gradio) (1.7.2)\n",
      "Requirement already satisfied: frozenlist>=1.1.1 in /Users/michaelmathew/opt/anaconda3/lib/python3.9/site-packages (from aiohttp->gradio) (1.3.0)\n",
      "Requirement already satisfied: async-timeout<5.0,>=4.0.0a3 in /Users/michaelmathew/opt/anaconda3/lib/python3.9/site-packages (from aiohttp->gradio) (4.0.2)\n",
      "Requirement already satisfied: charset-normalizer<3.0,>=2.0 in /Users/michaelmathew/opt/anaconda3/lib/python3.9/site-packages (from aiohttp->gradio) (2.0.12)\n",
      "Requirement already satisfied: aiosignal>=1.1.2 in /Users/michaelmathew/opt/anaconda3/lib/python3.9/site-packages (from aiohttp->gradio) (1.2.0)\n",
      "Requirement already satisfied: multidict<7.0,>=4.5 in /Users/michaelmathew/opt/anaconda3/lib/python3.9/site-packages (from aiohttp->gradio) (6.0.2)\n",
      "Collecting monotonic>=1.5\n",
      "  Downloading monotonic-1.6-py2.py3-none-any.whl (8.2 kB)\n",
      "Requirement already satisfied: python-dateutil>2.1 in /Users/michaelmathew/opt/anaconda3/lib/python3.9/site-packages (from analytics-python->gradio) (2.8.2)\n",
      "Requirement already satisfied: six>=1.5 in /Users/michaelmathew/opt/anaconda3/lib/python3.9/site-packages (from analytics-python->gradio) (1.12.0)\n",
      "Collecting backoff==1.10.0\n",
      "  Downloading backoff-1.10.0-py2.py3-none-any.whl (31 kB)\n",
      "Requirement already satisfied: urllib3<1.27,>=1.21.1 in /Users/michaelmathew/opt/anaconda3/lib/python3.9/site-packages (from requests->gradio) (1.26.9)\n",
      "Requirement already satisfied: certifi>=2017.4.17 in /Users/michaelmathew/opt/anaconda3/lib/python3.9/site-packages (from requests->gradio) (2020.12.5)\n",
      "Requirement already satisfied: idna<4,>=2.5 in /Users/michaelmathew/opt/anaconda3/lib/python3.9/site-packages (from requests->gradio) (2.8)\n",
      "Collecting starlette==0.19.1\n",
      "  Downloading starlette-0.19.1-py3-none-any.whl (63 kB)\n",
      "\u001b[2K     \u001b[90m━━━━━━━━━━━━━━━━━━━━━━━━━━━━━━━━━━━━━━━━\u001b[0m \u001b[32m63.3/63.3 KB\u001b[0m \u001b[31m2.0 MB/s\u001b[0m eta \u001b[36m0:00:00\u001b[0m\n",
      "\u001b[?25hRequirement already satisfied: pydantic!=1.7,!=1.7.1,!=1.7.2,!=1.7.3,!=1.8,!=1.8.1,<2.0.0,>=1.6.2 in /Users/michaelmathew/opt/anaconda3/lib/python3.9/site-packages (from fastapi->gradio) (1.8.2)\n",
      "Collecting anyio<5,>=3.4.0\n",
      "  Downloading anyio-3.6.1-py3-none-any.whl (80 kB)\n",
      "\u001b[2K     \u001b[90m━━━━━━━━━━━━━━━━━━━━━━━━━━━━━━━━━━━━━━━━\u001b[0m \u001b[32m80.6/80.6 KB\u001b[0m \u001b[31m1.5 MB/s\u001b[0m eta \u001b[36m0:00:00\u001b[0ma \u001b[36m0:00:01\u001b[0m\n",
      "\u001b[?25hRequirement already satisfied: typing-extensions>=3.10.0 in /Users/michaelmathew/opt/anaconda3/lib/python3.9/site-packages (from starlette==0.19.1->fastapi->gradio) (4.1.1)\n",
      "Requirement already satisfied: MarkupSafe>=0.23 in /Users/michaelmathew/opt/anaconda3/lib/python3.9/site-packages (from Jinja2->gradio) (1.1.1)\n",
      "\u001b[33mWARNING: markdown-it-py 0.5.8 does not provide the extra 'plugins'\u001b[0m\u001b[33m\n",
      "\u001b[0mCollecting linkify-it-py~=1.0\n",
      "  Downloading linkify_it_py-1.0.3-py3-none-any.whl (19 kB)\n",
      "Requirement already satisfied: pyparsing!=2.0.4,!=2.1.2,!=2.1.6,>=2.0.3 in /Users/michaelmathew/opt/anaconda3/lib/python3.9/site-packages (from matplotlib->gradio) (2.4.7)\n",
      "Requirement already satisfied: kiwisolver>=1.0.1 in /Users/michaelmathew/opt/anaconda3/lib/python3.9/site-packages (from matplotlib->gradio) (1.3.1)\n",
      "Requirement already satisfied: cycler>=0.10 in /Users/michaelmathew/opt/anaconda3/lib/python3.9/site-packages (from matplotlib->gradio) (0.10.0)\n",
      "Requirement already satisfied: pytz>=2017.3 in /Users/michaelmathew/opt/anaconda3/lib/python3.9/site-packages (from pandas->gradio) (2021.1)\n",
      "Requirement already satisfied: cryptography>=2.5 in /Users/michaelmathew/opt/anaconda3/lib/python3.9/site-packages (from paramiko->gradio) (3.4.7)\n",
      "Collecting pynacl>=1.0.1\n",
      "  Downloading PyNaCl-1.5.0-cp36-abi3-macosx_10_10_universal2.whl (349 kB)\n",
      "\u001b[2K     \u001b[90m━━━━━━━━━━━━━━━━━━━━━━━━━━━━━━━━━━━━━━━\u001b[0m \u001b[32m349.9/349.9 KB\u001b[0m \u001b[31m5.6 MB/s\u001b[0m eta \u001b[36m0:00:00\u001b[0ma \u001b[36m0:00:01\u001b[0m\n",
      "\u001b[?25hCollecting bcrypt>=3.1.3\n",
      "  Downloading bcrypt-3.2.2-cp36-abi3-macosx_10_10_universal2.whl (50 kB)\n",
      "\u001b[2K     \u001b[90m━━━━━━━━━━━━━━━━━━━━━━━━━━━━━━━━━━━━━━━━\u001b[0m \u001b[32m50.0/50.0 KB\u001b[0m \u001b[31m1.5 MB/s\u001b[0m eta \u001b[36m0:00:00\u001b[0m\n",
      "\u001b[?25hCollecting asgiref>=3.4.0\n",
      "  Downloading asgiref-3.5.2-py3-none-any.whl (22 kB)\n",
      "Requirement already satisfied: click>=7.0 in /Users/michaelmathew/opt/anaconda3/lib/python3.9/site-packages (from uvicorn->gradio) (7.1.2)\n",
      "Collecting h11>=0.8\n",
      "  Downloading h11-0.13.0-py3-none-any.whl (58 kB)\n",
      "\u001b[2K     \u001b[90m━━━━━━━━━━━━━━━━━━━━━━━━━━━━━━━━━━━━━━━━\u001b[0m \u001b[32m58.2/58.2 KB\u001b[0m \u001b[31m1.8 MB/s\u001b[0m eta \u001b[36m0:00:00\u001b[0m\n",
      "\u001b[?25hRequirement already satisfied: cffi>=1.1 in /Users/michaelmathew/opt/anaconda3/lib/python3.9/site-packages (from bcrypt>=3.1.3->paramiko->gradio) (1.14.5)\n",
      "Collecting uc-micro-py\n",
      "  Downloading uc_micro_py-1.0.1-py3-none-any.whl (6.2 kB)\n",
      "Requirement already satisfied: sniffio>=1.1 in /Users/michaelmathew/opt/anaconda3/lib/python3.9/site-packages (from anyio<5,>=3.4.0->starlette==0.19.1->fastapi->gradio) (1.2.0)\n",
      "Requirement already satisfied: pycparser in /Users/michaelmathew/opt/anaconda3/lib/python3.9/site-packages (from cffi>=1.1->bcrypt>=3.1.3->paramiko->gradio) (2.20)\n",
      "Building wheels for collected packages: ffmpy, python-multipart\n"
     ]
    },
    {
     "name": "stdout",
     "output_type": "stream",
     "text": [
      "  Building wheel for ffmpy (setup.py) ... \u001b[?25ldone\n",
      "\u001b[?25h  Created wheel for ffmpy: filename=ffmpy-0.3.0-py3-none-any.whl size=4709 sha256=6222d4ff75e89ba2807ee08e3f205f5f159bf94809ab1a2a15ff349a7f661697\n",
      "  Stored in directory: /Users/michaelmathew/Library/Caches/pip/wheels/91/e2/96/f676aa08bfd789328c6576cd0f1fde4a3d686703bb0c247697\n",
      "  Building wheel for python-multipart (setup.py) ... \u001b[?25ldone\n",
      "\u001b[?25h  Created wheel for python-multipart: filename=python_multipart-0.0.5-py3-none-any.whl size=31670 sha256=5a0a98467396703ac653d40ca9c06eb7ab51e5df5e2eac6912ea2712840b1c11\n",
      "  Stored in directory: /Users/michaelmathew/Library/Caches/pip/wheels/fe/04/d1/a10661cc45f03c3cecda50deb2d2c22f57b4e84a75b2a5987e\n",
      "Successfully built ffmpy python-multipart\n",
      "Installing collected packages: monotonic, ffmpy, uc-micro-py, python-multipart, pycryptodome, orjson, h11, backoff, asgiref, anyio, uvicorn, starlette, pynacl, linkify-it-py, bcrypt, analytics-python, paramiko, fastapi, gradio\n",
      "  Attempting uninstall: anyio\n",
      "    Found existing installation: anyio 2.2.0\n",
      "    Uninstalling anyio-2.2.0:\n",
      "      Successfully uninstalled anyio-2.2.0\n",
      "Successfully installed analytics-python-1.4.0 anyio-3.6.1 asgiref-3.5.2 backoff-1.10.0 bcrypt-3.2.2 fastapi-0.78.0 ffmpy-0.3.0 gradio-3.0.11 h11-0.13.0 linkify-it-py-1.0.3 monotonic-1.6 orjson-3.7.1 paramiko-2.11.0 pycryptodome-3.14.1 pynacl-1.5.0 python-multipart-0.0.5 starlette-0.19.1 uc-micro-py-1.0.1 uvicorn-0.17.6\n",
      "\u001b[33mWARNING: You are using pip version 22.0.4; however, version 22.1.2 is available.\n",
      "You should consider upgrading via the '/Users/michaelmathew/opt/anaconda3/bin/python -m pip install --upgrade pip' command.\u001b[0m\u001b[33m\n",
      "\u001b[0m"
     ]
    }
   ],
   "source": [
    "!pip install gradio"
   ]
  },
  {
   "cell_type": "code",
   "execution_count": 18,
   "metadata": {
    "execution": {
     "iopub.execute_input": "2021-07-08T14:05:02.207149Z",
     "iopub.status.busy": "2021-07-08T14:05:02.20683Z",
     "iopub.status.idle": "2021-07-08T14:05:02.440432Z",
     "shell.execute_reply": "2021-07-08T14:05:02.439439Z",
     "shell.execute_reply.started": "2021-07-08T14:05:02.207107Z"
    }
   },
   "outputs": [
    {
     "name": "stdout",
     "output_type": "stream",
     "text": [
      "surprised_female\n"
     ]
    },
    {
     "name": "stderr",
     "output_type": "stream",
     "text": [
      "/var/folders/7h/3y0jb5yx0g399b2y_qtq_db80000gn/T/ipykernel_26966/1080200470.py:9: FutureWarning: Pass y=[0.0000000e+00 0.0000000e+00 0.0000000e+00 ... 4.4829296e-05 4.9405139e-06\n",
      " 0.0000000e+00] as keyword args. From version 0.10 passing these as positional arguments will result in an error\n",
      "  mel=np.mean(librosa.feature.melspectrogram(data, sr=sample_rate).T,axis=0)\n"
     ]
    }
   ],
   "source": [
    "audio='audio_speech_actors_01-24/Actor_24/03-01-03-01-02-02-24.wav'\n",
    "data,sample_rate = librosa.load(audio)\n",
    "result=np.array([])\n",
    "mfccs=np.mean(librosa.feature.mfcc(y=data, sr=sample_rate, n_mfcc=40).T, axis=0)\n",
    "result=np.hstack((result, mfccs))\n",
    "stft=np.abs(librosa.stft(data))\n",
    "chroma=np.mean(librosa.feature.chroma_stft(S=stft, sr=sample_rate).T,axis=0)\n",
    "result=np.hstack((result, chroma))\n",
    "mel=np.mean(librosa.feature.melspectrogram(data, sr=sample_rate).T,axis=0)\n",
    "result=np.hstack((result, mel))\n",
    "result=result.reshape(1,-1)\n",
    "prediction=model1.predict(result)\n",
    "print (prediction[0])"
   ]
  },
  {
   "cell_type": "code",
   "execution_count": 20,
   "metadata": {},
   "outputs": [],
   "source": [
    "\n",
    "filename = 'finalized_model.sav'\n",
    "pickle.dump(model1, open(filename, 'wb'))"
   ]
  },
  {
   "cell_type": "code",
   "execution_count": null,
   "metadata": {},
   "outputs": [],
   "source": []
  }
 ],
 "metadata": {
  "kernelspec": {
   "display_name": "Python 3 (ipykernel)",
   "language": "python",
   "name": "python3"
  },
  "language_info": {
   "codemirror_mode": {
    "name": "ipython",
    "version": 3
   },
   "file_extension": ".py",
   "mimetype": "text/x-python",
   "name": "python",
   "nbconvert_exporter": "python",
   "pygments_lexer": "ipython3",
   "version": "3.9.4"
  }
 },
 "nbformat": 4,
 "nbformat_minor": 4
}
