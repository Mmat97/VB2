{
 "cells": [
  {
   "cell_type": "code",
   "execution_count": 1,
   "id": "3d31ba26",
   "metadata": {
    "execution": {
     "iopub.execute_input": "2022-03-28T09:27:59.679882Z",
     "iopub.status.busy": "2022-03-28T09:27:59.678730Z",
     "iopub.status.idle": "2022-03-28T09:28:14.375913Z",
     "shell.execute_reply": "2022-03-28T09:28:14.375018Z",
     "shell.execute_reply.started": "2022-03-28T08:19:36.977841Z"
    },
    "id": "5agZRy-45i0g",
    "outputId": "ab06dde3-76c8-4db2-8acb-2b8dabbb97b0",
    "papermill": {
     "duration": 14.756073,
     "end_time": "2022-03-28T09:28:14.376162",
     "exception": false,
     "start_time": "2022-03-28T09:27:59.620089",
     "status": "completed"
    },
    "tags": []
   },
   "outputs": [
    {
     "name": "stdout",
     "output_type": "stream",
     "text": [
      "Requirement already satisfied: nlp in /Users/michaelmathew/opt/anaconda3/lib/python3.8/site-packages (0.4.0)\n",
      "Requirement already satisfied: tqdm>=4.27 in /Users/michaelmathew/opt/anaconda3/lib/python3.8/site-packages (from nlp) (4.50.2)\n",
      "Requirement already satisfied: numpy in /Users/michaelmathew/opt/anaconda3/lib/python3.8/site-packages (from nlp) (1.22.3)\n",
      "Requirement already satisfied: pandas in /Users/michaelmathew/opt/anaconda3/lib/python3.8/site-packages (from nlp) (1.1.3)\n",
      "Requirement already satisfied: pyarrow>=0.16.0 in /Users/michaelmathew/opt/anaconda3/lib/python3.8/site-packages (from nlp) (7.0.0)\n",
      "Requirement already satisfied: xxhash in /Users/michaelmathew/opt/anaconda3/lib/python3.8/site-packages (from nlp) (3.0.0)\n",
      "Requirement already satisfied: dill in /Users/michaelmathew/opt/anaconda3/lib/python3.8/site-packages (from nlp) (0.3.4)\n",
      "Requirement already satisfied: filelock in /Users/michaelmathew/opt/anaconda3/lib/python3.8/site-packages (from nlp) (3.4.2)\n",
      "Requirement already satisfied: requests>=2.19.0 in /Users/michaelmathew/opt/anaconda3/lib/python3.8/site-packages (from nlp) (2.24.0)\n",
      "Requirement already satisfied: urllib3!=1.25.0,!=1.25.1,<1.26,>=1.21.1 in /Users/michaelmathew/opt/anaconda3/lib/python3.8/site-packages (from requests>=2.19.0->nlp) (1.25.10)\n",
      "Requirement already satisfied: certifi>=2017.4.17 in /Users/michaelmathew/opt/anaconda3/lib/python3.8/site-packages (from requests>=2.19.0->nlp) (2020.6.20)\n",
      "Requirement already satisfied: idna<3,>=2.5 in /Users/michaelmathew/opt/anaconda3/lib/python3.8/site-packages (from requests>=2.19.0->nlp) (2.10)\n",
      "Requirement already satisfied: chardet<4,>=3.0.2 in /Users/michaelmathew/opt/anaconda3/lib/python3.8/site-packages (from requests>=2.19.0->nlp) (3.0.4)\n",
      "Requirement already satisfied: pytz>=2017.2 in /Users/michaelmathew/opt/anaconda3/lib/python3.8/site-packages (from pandas->nlp) (2020.1)\n",
      "Requirement already satisfied: python-dateutil>=2.7.3 in /Users/michaelmathew/opt/anaconda3/lib/python3.8/site-packages (from pandas->nlp) (2.8.1)\n",
      "Requirement already satisfied: six>=1.5 in /Users/michaelmathew/opt/anaconda3/lib/python3.8/site-packages (from python-dateutil>=2.7.3->pandas->nlp) (1.15.0)\n",
      "\u001b[33mWARNING: You are using pip version 21.1.1; however, version 22.0.4 is available.\n",
      "You should consider upgrading via the '/Users/michaelmathew/opt/anaconda3/bin/python -m pip install --upgrade pip' command.\u001b[0m\n"
     ]
    }
   ],
   "source": [
    "!pip install nlp"
   ]
  },
  {
   "cell_type": "code",
   "execution_count": 2,
   "id": "83d2cd58",
   "metadata": {
    "execution": {
     "iopub.execute_input": "2022-03-28T09:28:14.520189Z",
     "iopub.status.busy": "2022-03-28T09:28:14.519415Z",
     "iopub.status.idle": "2022-03-28T09:28:23.193926Z",
     "shell.execute_reply": "2022-03-28T09:28:23.193219Z",
     "shell.execute_reply.started": "2022-03-28T08:23:06.123923Z"
    },
    "id": "yKFjWz6e5eiH",
    "papermill": {
     "duration": 8.753452,
     "end_time": "2022-03-28T09:28:23.194105",
     "exception": false,
     "start_time": "2022-03-28T09:28:14.440653",
     "status": "completed"
    },
    "tags": []
   },
   "outputs": [],
   "source": [
    "\n",
    "\n",
    "import nlp\n",
    "import re\n",
    "import collections\n",
    "import numpy as np\n",
    "\n",
    "from tensorflow import keras\n",
    "from keras.preprocessing.text import Tokenizer\n",
    "from keras.preprocessing.sequence import pad_sequences\n",
    "from keras import Sequential\n",
    "from keras.layers import Embedding\n",
    "from keras.layers import Bidirectional\n",
    "from keras.layers import LSTM\n",
    "from keras.layers import Dense\n",
    "\n"
   ]
  },
  {
   "cell_type": "code",
   "execution_count": 3,
   "id": "4ce353aa",
   "metadata": {
    "execution": {
     "iopub.execute_input": "2022-03-28T09:28:23.449185Z",
     "iopub.status.busy": "2022-03-28T09:28:23.448205Z",
     "iopub.status.idle": "2022-03-28T09:28:47.017326Z",
     "shell.execute_reply": "2022-03-28T09:28:47.016790Z",
     "shell.execute_reply.started": "2022-03-28T08:23:20.295286Z"
    },
    "id": "0YHOvjAu5eiL",
    "outputId": "06552d23-2a0c-45fd-fb99-1e5e21dcea5c",
    "papermill": {
     "duration": 23.635528,
     "end_time": "2022-03-28T09:28:47.017474",
     "exception": false,
     "start_time": "2022-03-28T09:28:23.381946",
     "status": "completed"
    },
    "tags": []
   },
   "outputs": [
    {
     "name": "stderr",
     "output_type": "stream",
     "text": [
      "Using custom data configuration default\n"
     ]
    }
   ],
   "source": [
    "''' \n",
    "data = nlp.load_dataset('empathetic_dialogues')\n",
    "'''\n",
    "\n",
    "emotion_dataset = nlp.load_dataset('emotion')"
   ]
  },
  {
   "cell_type": "code",
   "execution_count": 4,
   "id": "0a5bd6ce",
   "metadata": {
    "execution": {
     "iopub.execute_input": "2022-03-28T09:28:47.165308Z",
     "iopub.status.busy": "2022-03-28T09:28:47.164445Z",
     "iopub.status.idle": "2022-03-28T09:28:47.168171Z",
     "shell.execute_reply": "2022-03-28T09:28:47.167687Z",
     "shell.execute_reply.started": "2022-03-28T08:23:31.922837Z"
    },
    "id": "2s0h541FxIgc",
    "outputId": "abc2f986-6a29-4f42-f8f3-bccf8fc09ab1",
    "papermill": {
     "duration": 0.081446,
     "end_time": "2022-03-28T09:28:47.168311",
     "exception": false,
     "start_time": "2022-03-28T09:28:47.086865",
     "status": "completed"
    },
    "tags": []
   },
   "outputs": [
    {
     "data": {
      "text/plain": [
       "{'train': Dataset(features: {'text': Value(dtype='string', id=None), 'label': Value(dtype='string', id=None)}, num_rows: 16000),\n",
       " 'validation': Dataset(features: {'text': Value(dtype='string', id=None), 'label': Value(dtype='string', id=None)}, num_rows: 2000),\n",
       " 'test': Dataset(features: {'text': Value(dtype='string', id=None), 'label': Value(dtype='string', id=None)}, num_rows: 2000)}"
      ]
     },
     "execution_count": 4,
     "metadata": {},
     "output_type": "execute_result"
    }
   ],
   "source": [
    "emotion_dataset\n"
   ]
  },
  {
   "cell_type": "code",
   "execution_count": 5,
   "id": "40ccf304",
   "metadata": {
    "execution": {
     "iopub.execute_input": "2022-03-28T09:28:47.311358Z",
     "iopub.status.busy": "2022-03-28T09:28:47.310649Z",
     "iopub.status.idle": "2022-03-28T09:28:47.313394Z",
     "shell.execute_reply": "2022-03-28T09:28:47.312829Z",
     "shell.execute_reply.started": "2022-03-28T08:23:31.932518Z"
    },
    "id": "z7eCnxU25eiN",
    "papermill": {
     "duration": 0.076102,
     "end_time": "2022-03-28T09:28:47.313553",
     "exception": false,
     "start_time": "2022-03-28T09:28:47.237451",
     "status": "completed"
    },
    "tags": []
   },
   "outputs": [
    {
     "data": {
      "text/plain": [
       "\" \\ntrain2={}\\nval2={}\\ntest2={}\\naccepted_strings = ['surprised', 'embarrassed', 'caring', 'nostalgic','confident', 'disgusted', 'annoyed','embarrrassed', 'caring, ''lonely', 'guilty','anxious','impressed','jealous','anticipating', 'excited', 'trusting', 'devastated', 'content', 'faithful', 'afraid', 'sentimental', 'hopeful', 'proud','prepared','grateful','ashamed','furious','disappointed','apprehensive' ]\\n\\n\\ntrain2['prompt']=[]\\nval2['prompt']=[]\\ntest2['prompt']=[]\\n\\ntrain2['context']=[]\\nval2['context']=[]\\ntest2['context']=[]\\nfor xx in train_set:\\n    if (xx['context'] not in accepted_strings):\\n        train2['prompt'].append(xx['prompt'])\\n        train2['context'].append(xx['context'])\\n\\n\\n\\n    \\n    \\nfor xx in validation_set:\\n    if (xx['context'] not in accepted_strings):\\n        val2['prompt'].append(xx['prompt'])\\n        val2['context'].append(xx['context'])\\n\\n        \\nfor xx in test_set:\\n    if (xx['context'] not in accepted_strings):\\n        test2['prompt'].append(xx['prompt'])\\n        test2['context'].append(xx['context'])\\n        \\n        \\n\\ntrain = train2\\nval = val2\\ntest = test2\\n\""
      ]
     },
     "execution_count": 5,
     "metadata": {},
     "output_type": "execute_result"
    }
   ],
   "source": [
    "train_set = emotion_dataset['train']\n",
    "validation_set = emotion_dataset['validation']\n",
    "test_set = emotion_dataset['test']\n",
    "\n",
    "''' \n",
    "train2={}\n",
    "val2={}\n",
    "test2={}\n",
    "accepted_strings = ['surprised', 'embarrassed', 'caring', 'nostalgic','confident', 'disgusted', 'annoyed','embarrrassed', 'caring, ''lonely', 'guilty','anxious','impressed','jealous','anticipating', 'excited', 'trusting', 'devastated', 'content', 'faithful', 'afraid', 'sentimental', 'hopeful', 'proud','prepared','grateful','ashamed','furious','disappointed','apprehensive' ]\n",
    "\n",
    "\n",
    "train2['prompt']=[]\n",
    "val2['prompt']=[]\n",
    "test2['prompt']=[]\n",
    "\n",
    "train2['context']=[]\n",
    "val2['context']=[]\n",
    "test2['context']=[]\n",
    "for xx in train_set:\n",
    "    if (xx['context'] not in accepted_strings):\n",
    "        train2['prompt'].append(xx['prompt'])\n",
    "        train2['context'].append(xx['context'])\n",
    "\n",
    "\n",
    "\n",
    "    \n",
    "    \n",
    "for xx in validation_set:\n",
    "    if (xx['context'] not in accepted_strings):\n",
    "        val2['prompt'].append(xx['prompt'])\n",
    "        val2['context'].append(xx['context'])\n",
    "\n",
    "        \n",
    "for xx in test_set:\n",
    "    if (xx['context'] not in accepted_strings):\n",
    "        test2['prompt'].append(xx['prompt'])\n",
    "        test2['context'].append(xx['context'])\n",
    "        \n",
    "        \n",
    "\n",
    "train = train2\n",
    "val = val2\n",
    "test = test2\n",
    "''' \n",
    "        "
   ]
  },
  {
   "cell_type": "code",
   "execution_count": 6,
   "id": "12ebb273",
   "metadata": {
    "execution": {
     "iopub.execute_input": "2022-03-28T09:28:47.481220Z",
     "iopub.status.busy": "2022-03-28T09:28:47.480497Z",
     "iopub.status.idle": "2022-03-28T09:28:47.521211Z",
     "shell.execute_reply": "2022-03-28T09:28:47.520619Z",
     "shell.execute_reply.started": "2022-03-28T08:26:30.236511Z"
    },
    "id": "oDYXMfZy5eiP",
    "papermill": {
     "duration": 0.138802,
     "end_time": "2022-03-28T09:28:47.521354",
     "exception": false,
     "start_time": "2022-03-28T09:28:47.382552",
     "status": "completed"
    },
    "tags": []
   },
   "outputs": [
    {
     "data": {
      "text/plain": [
       "\" \\ntrain__inputs, train_label = train_set['prompt'], train_set['context']\\nvalidation_inputs, validation_label = validation_set['prompt'], validation_set['context']\\ntest_inputs, test_label = test_set['prompt'], test_set['context']\\n\""
      ]
     },
     "execution_count": 6,
     "metadata": {},
     "output_type": "execute_result"
    }
   ],
   "source": [
    "\n",
    "train_inputs, train_label = train_set['text'], train_set['label']\n",
    "validation_inputs, validation_label = validation_set['text'], validation_set['label']\n",
    "test_inputs, test_label = test_set['text'], test_set['label']\n",
    "\n",
    "\n",
    "''' \n",
    "train__inputs, train_label = train_set['prompt'], train_set['context']\n",
    "validation_inputs, validation_label = validation_set['prompt'], validation_set['context']\n",
    "test_inputs, test_label = test_set['prompt'], test_set['context']\n",
    "'''\n",
    "\n",
    "\n",
    "\n",
    "\n",
    "\n",
    "\n",
    "\n"
   ]
  },
  {
   "cell_type": "code",
   "execution_count": 7,
   "id": "309dfaaf",
   "metadata": {
    "execution": {
     "iopub.execute_input": "2022-03-28T09:28:47.665830Z",
     "iopub.status.busy": "2022-03-28T09:28:47.665144Z",
     "iopub.status.idle": "2022-03-28T09:28:47.667905Z",
     "shell.execute_reply": "2022-03-28T09:28:47.668383Z",
     "shell.execute_reply.started": "2022-03-28T08:26:30.987545Z"
    },
    "id": "bHD3Tk0J5eiU",
    "outputId": "01fdf315-05de-46b0-94db-1ace148aa2a5",
    "papermill": {
     "duration": 0.078738,
     "end_time": "2022-03-28T09:28:47.668567",
     "exception": false,
     "start_time": "2022-03-28T09:28:47.589829",
     "status": "completed"
    },
    "tags": []
   },
   "outputs": [
    {
     "data": {
      "text/plain": [
       "('i am feeling grouchy', 'anger')"
      ]
     },
     "execution_count": 7,
     "metadata": {},
     "output_type": "execute_result"
    }
   ],
   "source": [
    "\n",
    "\n",
    "train_inputs[4], train_label[4]\n",
    "\n",
    "\n",
    "\n"
   ]
  },
  {
   "cell_type": "code",
   "execution_count": 8,
   "id": "da997732",
   "metadata": {},
   "outputs": [
    {
     "data": {
      "text/plain": [
       "('ive been feeling a little burdened lately wasnt sure why that was',\n",
       " 'sadness')"
      ]
     },
     "execution_count": 8,
     "metadata": {},
     "output_type": "execute_result"
    }
   ],
   "source": [
    "train_inputs[5], train_label[5]"
   ]
  },
  {
   "cell_type": "code",
   "execution_count": 9,
   "id": "a6b3feec",
   "metadata": {},
   "outputs": [
    {
     "data": {
      "text/plain": [
       "('ive been taking or milligrams or times recommended amount and ive fallen asleep a lot faster but i also feel like so funny',\n",
       " 'surprise')"
      ]
     },
     "execution_count": 9,
     "metadata": {},
     "output_type": "execute_result"
    }
   ],
   "source": [
    "train_inputs[6], train_label[6]"
   ]
  },
  {
   "cell_type": "code",
   "execution_count": 10,
   "id": "5567bfc5",
   "metadata": {
    "execution": {
     "iopub.execute_input": "2022-03-28T09:28:49.193852Z",
     "iopub.status.busy": "2022-03-28T09:28:49.193077Z",
     "iopub.status.idle": "2022-03-28T09:28:49.196222Z",
     "shell.execute_reply": "2022-03-28T09:28:49.196845Z",
     "shell.execute_reply.started": "2022-03-28T08:26:38.276755Z"
    },
    "id": "vcY4vAxZwZoz",
    "outputId": "8c2293a6-9119-40ad-bf8c-a2dff51b5c32",
    "papermill": {
     "duration": 0.078935,
     "end_time": "2022-03-28T09:28:49.197018",
     "exception": false,
     "start_time": "2022-03-28T09:28:49.118083",
     "status": "completed"
    },
    "tags": []
   },
   "outputs": [
    {
     "data": {
      "text/plain": [
       "20000"
      ]
     },
     "execution_count": 10,
     "metadata": {},
     "output_type": "execute_result"
    }
   ],
   "source": [
    "len(train_label)+len(test_label) + len(validation_label)"
   ]
  },
  {
   "cell_type": "code",
   "execution_count": 11,
   "id": "468690a0",
   "metadata": {
    "execution": {
     "iopub.execute_input": "2022-03-28T09:28:49.343730Z",
     "iopub.status.busy": "2022-03-28T09:28:49.343023Z",
     "iopub.status.idle": "2022-03-28T09:28:49.346806Z",
     "shell.execute_reply": "2022-03-28T09:28:49.346279Z",
     "shell.execute_reply.started": "2022-03-28T08:26:38.548192Z"
    },
    "id": "p1BAKuxiEfaT",
    "outputId": "cbc291e9-7bbf-430c-ac45-85c8a4b0e9fe",
    "papermill": {
     "duration": 0.079805,
     "end_time": "2022-03-28T09:28:49.346953",
     "exception": false,
     "start_time": "2022-03-28T09:28:49.267148",
     "status": "completed"
    },
    "tags": []
   },
   "outputs": [
    {
     "data": {
      "text/plain": [
       "{'anger', 'fear', 'joy', 'love', 'sadness', 'surprise'}"
      ]
     },
     "execution_count": 11,
     "metadata": {},
     "output_type": "execute_result"
    }
   ],
   "source": [
    "unique_labels = set(train_label)\n",
    "unique_labels"
   ]
  },
  {
   "cell_type": "code",
   "execution_count": 12,
   "id": "f5c103fd",
   "metadata": {
    "execution": {
     "iopub.execute_input": "2022-03-28T09:28:49.496230Z",
     "iopub.status.busy": "2022-03-28T09:28:49.495543Z",
     "iopub.status.idle": "2022-03-28T09:28:49.499204Z",
     "shell.execute_reply": "2022-03-28T09:28:49.498564Z",
     "shell.execute_reply.started": "2022-03-28T08:26:40.208244Z"
    },
    "id": "GpNlnXejFJfk",
    "outputId": "93497688-23d3-440b-c1d1-813676ac3a4c",
    "papermill": {
     "duration": 0.081343,
     "end_time": "2022-03-28T09:28:49.499353",
     "exception": false,
     "start_time": "2022-03-28T09:28:49.418010",
     "status": "completed"
    },
    "tags": []
   },
   "outputs": [
    {
     "data": {
      "text/plain": [
       "Counter({'sadness': 4666,\n",
       "         'anger': 2159,\n",
       "         'love': 1304,\n",
       "         'surprise': 572,\n",
       "         'fear': 1937,\n",
       "         'joy': 5362})"
      ]
     },
     "execution_count": 12,
     "metadata": {},
     "output_type": "execute_result"
    }
   ],
   "source": [
    "collections.Counter(train_label)"
   ]
  },
  {
   "cell_type": "code",
   "execution_count": 13,
   "id": "9ae44cb0",
   "metadata": {
    "execution": {
     "iopub.execute_input": "2022-03-28T09:29:51.118818Z",
     "iopub.status.busy": "2022-03-28T09:29:51.118125Z",
     "iopub.status.idle": "2022-03-28T09:29:51.122140Z",
     "shell.execute_reply": "2022-03-28T09:29:51.122596Z",
     "shell.execute_reply.started": "2022-03-28T08:29:32.791371Z"
    },
    "id": "6FVVk_MGI49a",
    "outputId": "820b5a44-820f-4c85-a48f-59421a855e91",
    "papermill": {
     "duration": 0.080289,
     "end_time": "2022-03-28T09:29:51.122802",
     "exception": false,
     "start_time": "2022-03-28T09:29:51.042513",
     "status": "completed"
    },
    "tags": []
   },
   "outputs": [
    {
     "data": {
      "text/plain": [
       "['i didnt feel humiliated',\n",
       " 'i can go from feeling so hopeless to so damned hopeful just from being around someone who cares and is awake',\n",
       " 'im grabbing a minute to post i feel greedy wrong']"
      ]
     },
     "execution_count": 13,
     "metadata": {},
     "output_type": "execute_result"
    }
   ],
   "source": [
    "train_inputs[:3]"
   ]
  },
  {
   "cell_type": "code",
   "execution_count": 14,
   "id": "3a2de465",
   "metadata": {
    "execution": {
     "iopub.execute_input": "2022-03-28T09:29:52.793870Z",
     "iopub.status.busy": "2022-03-28T09:29:52.793240Z",
     "iopub.status.idle": "2022-03-28T09:29:52.797262Z",
     "shell.execute_reply": "2022-03-28T09:29:52.797909Z",
     "shell.execute_reply.started": "2022-03-28T08:29:47.849920Z"
    },
    "id": "SufT2bpD5ejE",
    "papermill": {
     "duration": 0.079663,
     "end_time": "2022-03-28T09:29:52.798089",
     "exception": false,
     "start_time": "2022-03-28T09:29:52.718426",
     "status": "completed"
    },
    "tags": []
   },
   "outputs": [
    {
     "data": {
      "text/plain": [
       "{'joy': 0, 'love': 1, 'fear': 2, 'surprise': 3, 'anger': 4, 'sadness': 5}"
      ]
     },
     "execution_count": 14,
     "metadata": {},
     "output_type": "execute_result"
    }
   ],
   "source": [
    "emotion_matched_label = dict((ex, rx) for rx, ex in enumerate(unique_labels))\n",
    "\n",
    "numvauesfor_emotions = lambda labels: np.array([emotion_matched_label.get(ii) for ii in labels])\n",
    "emotion_matched_label\n"
   ]
  },
  {
   "cell_type": "code",
   "execution_count": 15,
   "id": "36232877",
   "metadata": {},
   "outputs": [],
   "source": [
    "numberofWords = 10000\n",
    "lengthTwo = 50\n",
    "truncating_and_padding_state = 'post'\n",
    "tokenizer = Tokenizer( num_words = numberofWords)"
   ]
  },
  {
   "cell_type": "code",
   "execution_count": 16,
   "id": "fc02a36b",
   "metadata": {
    "execution": {
     "iopub.execute_input": "2022-03-28T09:29:53.259121Z",
     "iopub.status.busy": "2022-03-28T09:29:53.258485Z",
     "iopub.status.idle": "2022-03-28T09:29:53.266332Z",
     "shell.execute_reply": "2022-03-28T09:29:53.266978Z",
     "shell.execute_reply.started": "2022-03-28T08:29:50.109325Z"
    },
    "id": "_08InVyM5ejc",
    "papermill": {
     "duration": 0.084724,
     "end_time": "2022-03-28T09:29:53.267160",
     "exception": false,
     "start_time": "2022-03-28T09:29:53.182436",
     "status": "completed"
    },
    "tags": []
   },
   "outputs": [
    {
     "data": {
      "text/plain": [
       "array([5, 5, 4, ..., 0, 4, 5])"
      ]
     },
     "execution_count": 16,
     "metadata": {},
     "output_type": "execute_result"
    }
   ],
   "source": [
    "\n",
    "tokenizer.fit_on_texts(train_inputs)\n",
    "\n",
    "train_padded_inputs=pad_sequences(tokenizer.texts_to_sequences(train_inputs),maxlen=lengthTwo, padding=truncating_and_padding_state,truncating=truncating_and_padding_state)\n",
    "\n",
    "\n",
    "\n",
    "\n",
    "\n",
    "trainids = numvauesfor_emotions(train_label)\n",
    "trainids"
   ]
  },
  {
   "cell_type": "code",
   "execution_count": 17,
   "id": "0aebb786",
   "metadata": {
    "execution": {
     "iopub.execute_input": "2022-03-28T09:29:53.576976Z",
     "iopub.status.busy": "2022-03-28T09:29:53.575951Z",
     "iopub.status.idle": "2022-03-28T09:29:53.581545Z",
     "shell.execute_reply": "2022-03-28T09:29:53.582189Z",
     "shell.execute_reply.started": "2022-03-28T08:29:50.732902Z"
    },
    "id": "v15KnrNC5ejW",
    "outputId": "3ac0d534-9868-4f06-fc88-34f32855be87",
    "papermill": {
     "duration": 0.083507,
     "end_time": "2022-03-28T09:29:53.582364",
     "exception": false,
     "start_time": "2022-03-28T09:29:53.498857",
     "status": "completed"
    },
    "tags": []
   },
   "outputs": [
    {
     "data": {
      "text/plain": [
       "array([5, 5, 1, ..., 0, 0, 0])"
      ]
     },
     "execution_count": 17,
     "metadata": {},
     "output_type": "execute_result"
    }
   ],
   "source": [
    "\n",
    "padded_validation_inputs = pad_sequences(tokenizer.texts_to_sequences(validation_inputs), maxlen=lengthTwo, padding=truncating_and_padding_state, truncating=truncating_and_padding_state)\n",
    "\n",
    "\n",
    "valids = numvauesfor_emotions(validation_label)\n",
    "valids"
   ]
  },
  {
   "cell_type": "code",
   "execution_count": 18,
   "id": "2a7fd2c7",
   "metadata": {
    "execution": {
     "iopub.execute_input": "2022-03-28T09:29:54.045794Z",
     "iopub.status.busy": "2022-03-28T09:29:54.044533Z",
     "iopub.status.idle": "2022-03-28T09:29:55.164282Z",
     "shell.execute_reply": "2022-03-28T09:29:55.163517Z",
     "shell.execute_reply.started": "2022-03-28T09:14:03.589486Z"
    },
    "id": "Nx1MJcdrOVsb",
    "papermill": {
     "duration": 1.199245,
     "end_time": "2022-03-28T09:29:55.164428",
     "exception": false,
     "start_time": "2022-03-28T09:29:53.965183",
     "status": "completed"
    },
    "tags": []
   },
   "outputs": [],
   "source": [
    "\n",
    "\n",
    "\n",
    "\n",
    "\n",
    "\n",
    "\n",
    "\n",
    "\n",
    "\n",
    "  emotion_model = Sequential([\n",
    "                  Embedding(output_dim=6, input_dim=numberofWords,  input_length = lengthTwo),\n",
    "                  Bidirectional(LSTM(64, return_sequences=True)),\n",
    "                  Bidirectional(LSTM(32)),\n",
    "                  Dense(10, activation='relu'),\n",
    "                  Dense(6, activation='softmax')\n",
    "  ])\n",
    "\n",
    "  emotion_model.compile(\n",
    "                optimizer='adam',\n",
    "                loss='sparse_categorical_crossentropy',\n",
    "                metrics=['accuracy']\n",
    "  )\n",
    "\n",
    "\n",
    "\n",
    "\n",
    "\n"
   ]
  },
  {
   "cell_type": "code",
   "execution_count": 19,
   "id": "196c6f6b",
   "metadata": {
    "execution": {
     "iopub.execute_input": "2022-03-28T09:29:56.157960Z",
     "iopub.status.busy": "2022-03-28T09:29:56.157237Z",
     "iopub.status.idle": "2022-03-28T09:42:24.711002Z",
     "shell.execute_reply": "2022-03-28T09:42:24.711513Z",
     "shell.execute_reply.started": "2022-03-28T09:14:19.371871Z"
    },
    "id": "MI8UK2soRIIP",
    "outputId": "db55df28-548c-43b9-cc2f-7b469aced1a6",
    "papermill": {
     "duration": 748.635381,
     "end_time": "2022-03-28T09:42:24.711754",
     "exception": false,
     "start_time": "2022-03-28T09:29:56.076373",
     "status": "completed"
    },
    "tags": []
   },
   "outputs": [
    {
     "name": "stdout",
     "output_type": "stream",
     "text": [
      "Epoch 1/4\n",
      "500/500 [==============================] - 19s 29ms/step - loss: 1.3677 - accuracy: 0.4631 - val_loss: 0.8775 - val_accuracy: 0.7045\n",
      "Epoch 2/4\n",
      "500/500 [==============================] - 12s 23ms/step - loss: 0.6179 - accuracy: 0.7826 - val_loss: 0.5764 - val_accuracy: 0.7970\n",
      "Epoch 3/4\n",
      "500/500 [==============================] - 12s 23ms/step - loss: 0.3655 - accuracy: 0.8758 - val_loss: 0.4199 - val_accuracy: 0.8655\n",
      "Epoch 4/4\n",
      "500/500 [==============================] - 12s 24ms/step - loss: 0.2387 - accuracy: 0.9262 - val_loss: 0.3871 - val_accuracy: 0.8805\n"
     ]
    }
   ],
   "source": [
    "\n",
    "\n",
    "\n",
    "\n",
    "\n",
    "history = emotion_model.fit(\n",
    "                  train_padded_inputs, trainids,\n",
    "                  validation_data=(padded_validation_inputs, valids),\n",
    "                  epochs=4\n",
    "           \n",
    ")"
   ]
  },
  {
   "cell_type": "code",
   "execution_count": 23,
   "id": "e3065137",
   "metadata": {
    "execution": {
     "iopub.execute_input": "2022-03-28T09:29:53.106410Z",
     "iopub.status.busy": "2022-03-28T09:29:53.105776Z",
     "iopub.status.idle": "2022-03-28T09:29:53.108065Z",
     "shell.execute_reply": "2022-03-28T09:29:53.108676Z",
     "shell.execute_reply.started": "2022-03-28T08:29:48.647829Z"
    },
    "id": "dNLF6rXL5ejN",
    "papermill": {
     "duration": 0.081268,
     "end_time": "2022-03-28T09:29:53.108850",
     "exception": false,
     "start_time": "2022-03-28T09:29:53.027582",
     "status": "completed"
    },
    "tags": []
   },
   "outputs": [
    {
     "data": {
      "text/plain": [
       "array([5, 5, 5, ..., 0, 0, 2])"
      ]
     },
     "execution_count": 23,
     "metadata": {},
     "output_type": "execute_result"
    }
   ],
   "source": [
    "\n",
    "\n",
    "\n",
    "padded_test_inputs=pad_sequences(tokenizer.texts_to_sequences(test_inputs),maxlen=lengthTwo, padding=truncating_and_padding_state,truncating=truncating_and_padding_state)\n",
    "\n",
    "\n",
    "\n",
    "\n",
    "testids = numvauesfor_emotions(test_label)\n",
    "testids"
   ]
  },
  {
   "cell_type": "code",
   "execution_count": 25,
   "id": "8ba8fd54",
   "metadata": {
    "execution": {
     "iopub.execute_input": "2022-03-28T09:43:06.543299Z",
     "iopub.status.busy": "2022-03-28T09:43:06.542629Z",
     "iopub.status.idle": "2022-03-28T09:43:08.542127Z",
     "shell.execute_reply": "2022-03-28T09:43:08.541536Z",
     "shell.execute_reply.started": "2022-03-28T09:26:43.024316Z"
    },
    "id": "kWuzoz8uxIha",
    "outputId": "c08387af-5bad-481c-8a3b-048390f2bde2",
    "papermill": {
     "duration": 4.90017,
     "end_time": "2022-03-28T09:43:08.542283",
     "exception": false,
     "start_time": "2022-03-28T09:43:03.642113",
     "status": "completed"
    },
    "tags": []
   },
   "outputs": [
    {
     "name": "stdout",
     "output_type": "stream",
     "text": [
      "63/63 [==============================] - 1s 10ms/step - loss: 0.4062 - accuracy: 0.8715\n"
     ]
    },
    {
     "data": {
      "text/plain": [
       "[0.4062406122684479, 0.8715000152587891]"
      ]
     },
     "execution_count": 25,
     "metadata": {},
     "output_type": "execute_result"
    }
   ],
   "source": [
    "\n",
    "emotion_model.evaluate(padded_test_inputs, testids)"
   ]
  },
  {
   "cell_type": "code",
   "execution_count": 26,
   "id": "4375b55b",
   "metadata": {
    "execution": {
     "iopub.execute_input": "2022-03-28T09:43:14.272734Z",
     "iopub.status.busy": "2022-03-28T09:43:14.272027Z",
     "iopub.status.idle": "2022-03-28T09:43:15.849408Z",
     "shell.execute_reply": "2022-03-28T09:43:15.848707Z",
     "shell.execute_reply.started": "2022-03-28T09:26:49.529245Z"
    },
    "id": "7vRVJ_2SxIhc",
    "outputId": "e9b58a93-029d-458f-8ee1-b3d7eb109790",
    "papermill": {
     "duration": 4.479962,
     "end_time": "2022-03-28T09:43:15.849553",
     "exception": false,
     "start_time": "2022-03-28T09:43:11.369591",
     "status": "completed"
    },
    "tags": []
   },
   "outputs": [
    {
     "name": "stdout",
     "output_type": "stream",
     "text": [
      "Input from testset: i left with my bouquet of red and yellow tulips under my arm feeling slightly more optimistic than when i arrived\n",
      "Actual Emotion from testset: joy\n",
      "Predicted Emotion: joy\n"
     ]
    }
   ],
   "source": [
    "print('Input from testset:', test_inputs[3])\n",
    "print('Actual Emotion from testset:', test_label[3])\n",
    "predictVal = emotion_model.predict(np.expand_dims(padded_test_inputs[3], axis=0))[0]\n",
    "label_matched_emotion = dict((rx, ex) for rx, ex in enumerate(unique_labels))\n",
    "print('Predicted Emotion:', label_matched_emotion.get(np.argmax(predictVal)))"
   ]
  },
  {
   "cell_type": "code",
   "execution_count": 33,
   "id": "09fc8ce8",
   "metadata": {},
   "outputs": [
    {
     "name": "stdout",
     "output_type": "stream",
     "text": [
      "Input from testset: that thing is terrifying!\n",
      "Actual Emotion from testset: fear\n",
      "Predicted Emotion: fear\n"
     ]
    }
   ],
   "source": [
    "xx=['that thing is terrifying!']\n",
    "padxx=pad_sequences(tokenizer.texts_to_sequences(xx),maxlen=lengthTwo, padding=truncating_and_padding_state,truncating=truncating_and_padding_state)\n",
    "\n",
    "\n",
    "print('Input from testset:', xx[0])\n",
    "print('Actual Emotion from testset:', 'fear')\n",
    "\n",
    "predictVal = emotion_model.predict(np.expand_dims(padxx[0], axis=0))[0]\n",
    "label_matched_emotion = dict((rx, ex) for rx, ex in enumerate(unique_labels))\n",
    "print('Predicted Emotion:', label_matched_emotion.get(np.argmax(predictVal)))"
   ]
  },
  {
   "cell_type": "code",
   "execution_count": 35,
   "id": "86893f34",
   "metadata": {},
   "outputs": [
    {
     "name": "stdout",
     "output_type": "stream",
     "text": [
      "Input from testset: thah thing is terrifying!\n",
      "Actual Emotion from testset: fear\n",
      "Predicted Emotion: anger\n"
     ]
    }
   ],
   "source": [
    "xx=['thah thing is terrifying!']\n",
    "padxx=pad_sequences(tokenizer.texts_to_sequences(xx),maxlen=lengthTwo, padding=truncating_and_padding_state,truncating=truncating_and_padding_state)\n",
    "\n",
    "\n",
    "print('Input from testset:', xx[0])\n",
    "print('Actual Emotion from testset:', 'fear')\n",
    "\n",
    "predictVal = emotion_model.predict(np.expand_dims(padxx[0], axis=0))[0]\n",
    "label_matched_emotion = dict((rx, ex) for rx, ex in enumerate(unique_labels))\n",
    "print('Predicted Emotion:', label_matched_emotion.get(np.argmax(predictVal)))"
   ]
  },
  {
   "cell_type": "code",
   "execution_count": null,
   "id": "be81fc9b",
   "metadata": {},
   "outputs": [],
   "source": [
    "emotion_model.save(\"model.h5\")"
   ]
  }
 ],
 "metadata": {
  "kernelspec": {
   "display_name": "Python 3 (ipykernel)",
   "language": "python",
   "name": "python3"
  },
  "language_info": {
   "codemirror_mode": {
    "name": "ipython",
    "version": 3
   },
   "file_extension": ".py",
   "mimetype": "text/x-python",
   "name": "python",
   "nbconvert_exporter": "python",
   "pygments_lexer": "ipython3",
   "version": "3.9.4"
  },
  "papermill": {
   "default_parameters": {},
   "duration": 975.196204,
   "end_time": "2022-03-28T09:44:04.678491",
   "environment_variables": {},
   "exception": null,
   "input_path": "__notebook__.ipynb",
   "output_path": "__notebook__.ipynb",
   "parameters": {},
   "start_time": "2022-03-28T09:27:49.482287",
   "version": "2.3.3"
  },
  "widgets": {
   "application/vnd.jupyter.widget-state+json": {
    "state": {
     "0209617f35f849a2bd4e67e8090d9601": {
      "model_module": "@jupyter-widgets/base",
      "model_module_version": "1.2.0",
      "model_name": "LayoutModel",
      "state": {
       "_model_module": "@jupyter-widgets/base",
       "_model_module_version": "1.2.0",
       "_model_name": "LayoutModel",
       "_view_count": null,
       "_view_module": "@jupyter-widgets/base",
       "_view_module_version": "1.2.0",
       "_view_name": "LayoutView",
       "align_content": null,
       "align_items": null,
       "align_self": null,
       "border": null,
       "bottom": null,
       "display": null,
       "flex": null,
       "flex_flow": null,
       "grid_area": null,
       "grid_auto_columns": null,
       "grid_auto_flow": null,
       "grid_auto_rows": null,
       "grid_column": null,
       "grid_gap": null,
       "grid_row": null,
       "grid_template_areas": null,
       "grid_template_columns": null,
       "grid_template_rows": null,
       "height": null,
       "justify_content": null,
       "justify_items": null,
       "left": null,
       "margin": null,
       "max_height": null,
       "max_width": null,
       "min_height": null,
       "min_width": null,
       "object_fit": null,
       "object_position": null,
       "order": null,
       "overflow": null,
       "overflow_x": null,
       "overflow_y": null,
       "padding": null,
       "right": null,
       "top": null,
       "visibility": null,
       "width": null
      }
     },
     "0333769e2af54e819b3925c620b14a91": {
      "model_module": "@jupyter-widgets/controls",
      "model_module_version": "1.5.0",
      "model_name": "ProgressStyleModel",
      "state": {
       "_model_module": "@jupyter-widgets/controls",
       "_model_module_version": "1.5.0",
       "_model_name": "ProgressStyleModel",
       "_view_count": null,
       "_view_module": "@jupyter-widgets/base",
       "_view_module_version": "1.2.0",
       "_view_name": "StyleView",
       "bar_color": null,
       "description_width": ""
      }
     },
     "07e70d075920412498b194856ea38245": {
      "model_module": "@jupyter-widgets/controls",
      "model_module_version": "1.5.0",
      "model_name": "FloatProgressModel",
      "state": {
       "_dom_classes": [],
       "_model_module": "@jupyter-widgets/controls",
       "_model_module_version": "1.5.0",
       "_model_name": "FloatProgressModel",
       "_view_count": null,
       "_view_module": "@jupyter-widgets/controls",
       "_view_module_version": "1.5.0",
       "_view_name": "ProgressView",
       "bar_style": "success",
       "description": "",
       "description_tooltip": null,
       "layout": "IPY_MODEL_701a6054b2844f42afe57d825cf7b77d",
       "max": 3406,
       "min": 0,
       "orientation": "horizontal",
       "style": "IPY_MODEL_5006d317fce54350b4a675c9d30383ae",
       "value": 3406
      }
     },
     "0d2c21442e754b698c8c612e75fa1d00": {
      "model_module": "@jupyter-widgets/controls",
      "model_module_version": "1.5.0",
      "model_name": "DescriptionStyleModel",
      "state": {
       "_model_module": "@jupyter-widgets/controls",
       "_model_module_version": "1.5.0",
       "_model_name": "DescriptionStyleModel",
       "_view_count": null,
       "_view_module": "@jupyter-widgets/base",
       "_view_module_version": "1.2.0",
       "_view_name": "StyleView",
       "description_width": ""
      }
     },
     "11be7fb0647840b3b020b576010e45f5": {
      "model_module": "@jupyter-widgets/controls",
      "model_module_version": "1.5.0",
      "model_name": "HTMLModel",
      "state": {
       "_dom_classes": [],
       "_model_module": "@jupyter-widgets/controls",
       "_model_module_version": "1.5.0",
       "_model_name": "HTMLModel",
       "_view_count": null,
       "_view_module": "@jupyter-widgets/controls",
       "_view_module_version": "1.5.0",
       "_view_name": "HTMLView",
       "description": "",
       "description_tooltip": null,
       "layout": "IPY_MODEL_4450f6eb35fe46b5a315b511d4130551",
       "placeholder": "​",
       "style": "IPY_MODEL_d0dca5a9da7f40eaa2560267bc265a39",
       "value": " 207k/207k [00:00&lt;00:00, 271kB/s]"
      }
     },
     "16f05b8b7c314fe0ad93e750a26824f6": {
      "model_module": "@jupyter-widgets/controls",
      "model_module_version": "1.5.0",
      "model_name": "HTMLModel",
      "state": {
       "_dom_classes": [],
       "_model_module": "@jupyter-widgets/controls",
       "_model_module_version": "1.5.0",
       "_model_name": "HTMLModel",
       "_view_count": null,
       "_view_module": "@jupyter-widgets/controls",
       "_view_module_version": "1.5.0",
       "_view_name": "HTMLView",
       "description": "",
       "description_tooltip": null,
       "layout": "IPY_MODEL_a56f758ae5654b87a9d5dc570516889c",
       "placeholder": "​",
       "style": "IPY_MODEL_837a2c1023aa4732baad6794b0e14444",
       "value": " 204k/204k [00:00&lt;00:00, 273kB/s]"
      }
     },
     "1a4dacc5cc654e5ea630bbf55cab72fa": {
      "model_module": "@jupyter-widgets/base",
      "model_module_version": "1.2.0",
      "model_name": "LayoutModel",
      "state": {
       "_model_module": "@jupyter-widgets/base",
       "_model_module_version": "1.2.0",
       "_model_name": "LayoutModel",
       "_view_count": null,
       "_view_module": "@jupyter-widgets/base",
       "_view_module_version": "1.2.0",
       "_view_name": "LayoutView",
       "align_content": null,
       "align_items": null,
       "align_self": null,
       "border": null,
       "bottom": null,
       "display": null,
       "flex": null,
       "flex_flow": null,
       "grid_area": null,
       "grid_auto_columns": null,
       "grid_auto_flow": null,
       "grid_auto_rows": null,
       "grid_column": null,
       "grid_gap": null,
       "grid_row": null,
       "grid_template_areas": null,
       "grid_template_columns": null,
       "grid_template_rows": null,
       "height": null,
       "justify_content": null,
       "justify_items": null,
       "left": null,
       "margin": null,
       "max_height": null,
       "max_width": null,
       "min_height": null,
       "min_width": null,
       "object_fit": null,
       "object_position": null,
       "order": null,
       "overflow": null,
       "overflow_x": null,
       "overflow_y": null,
       "padding": null,
       "right": null,
       "top": null,
       "visibility": null,
       "width": null
      }
     },
     "1c864f8ba6334ac1b1ab6eee378d0782": {
      "model_module": "@jupyter-widgets/base",
      "model_module_version": "1.2.0",
      "model_name": "LayoutModel",
      "state": {
       "_model_module": "@jupyter-widgets/base",
       "_model_module_version": "1.2.0",
       "_model_name": "LayoutModel",
       "_view_count": null,
       "_view_module": "@jupyter-widgets/base",
       "_view_module_version": "1.2.0",
       "_view_name": "LayoutView",
       "align_content": null,
       "align_items": null,
       "align_self": null,
       "border": null,
       "bottom": null,
       "display": null,
       "flex": null,
       "flex_flow": null,
       "grid_area": null,
       "grid_auto_columns": null,
       "grid_auto_flow": null,
       "grid_auto_rows": null,
       "grid_column": null,
       "grid_gap": null,
       "grid_row": null,
       "grid_template_areas": null,
       "grid_template_columns": null,
       "grid_template_rows": null,
       "height": null,
       "justify_content": null,
       "justify_items": null,
       "left": null,
       "margin": null,
       "max_height": null,
       "max_width": null,
       "min_height": null,
       "min_width": null,
       "object_fit": null,
       "object_position": null,
       "order": null,
       "overflow": null,
       "overflow_x": null,
       "overflow_y": null,
       "padding": null,
       "right": null,
       "top": null,
       "visibility": null,
       "width": null
      }
     },
     "1dba892214254696bb9d53abd8f5127a": {
      "model_module": "@jupyter-widgets/controls",
      "model_module_version": "1.5.0",
      "model_name": "HTMLModel",
      "state": {
       "_dom_classes": [],
       "_model_module": "@jupyter-widgets/controls",
       "_model_module_version": "1.5.0",
       "_model_name": "HTMLModel",
       "_view_count": null,
       "_view_module": "@jupyter-widgets/controls",
       "_view_module_version": "1.5.0",
       "_view_name": "HTMLView",
       "description": "",
       "description_tooltip": null,
       "layout": "IPY_MODEL_2303658ef15b47eb978e6f0eff04ef35",
       "placeholder": "​",
       "style": "IPY_MODEL_9eb47563b4774a9a9e8b1c1db0b6aa1f",
       "value": "Downloading: 100%"
      }
     },
     "1e17807e2a7e4ea7a639bbfe91719d0c": {
      "model_module": "@jupyter-widgets/controls",
      "model_module_version": "1.5.0",
      "model_name": "HTMLModel",
      "state": {
       "_dom_classes": [],
       "_model_module": "@jupyter-widgets/controls",
       "_model_module_version": "1.5.0",
       "_model_name": "HTMLModel",
       "_view_count": null,
       "_view_module": "@jupyter-widgets/controls",
       "_view_module_version": "1.5.0",
       "_view_name": "HTMLView",
       "description": "",
       "description_tooltip": null,
       "layout": "IPY_MODEL_f94fcbcb1eb94dc395f91918efce7e33",
       "placeholder": "​",
       "style": "IPY_MODEL_923cca8023fc43a48826dc5baf58c4f0",
       "value": " 12201/0 [00:00&lt;00:00, 38448.05 examples/s]"
      }
     },
     "22519c29e4a74f828f7426832869d9f1": {
      "model_module": "@jupyter-widgets/controls",
      "model_module_version": "1.5.0",
      "model_name": "DescriptionStyleModel",
      "state": {
       "_model_module": "@jupyter-widgets/controls",
       "_model_module_version": "1.5.0",
       "_model_name": "DescriptionStyleModel",
       "_view_count": null,
       "_view_module": "@jupyter-widgets/base",
       "_view_module_version": "1.2.0",
       "_view_name": "StyleView",
       "description_width": ""
      }
     },
     "2303658ef15b47eb978e6f0eff04ef35": {
      "model_module": "@jupyter-widgets/base",
      "model_module_version": "1.2.0",
      "model_name": "LayoutModel",
      "state": {
       "_model_module": "@jupyter-widgets/base",
       "_model_module_version": "1.2.0",
       "_model_name": "LayoutModel",
       "_view_count": null,
       "_view_module": "@jupyter-widgets/base",
       "_view_module_version": "1.2.0",
       "_view_name": "LayoutView",
       "align_content": null,
       "align_items": null,
       "align_self": null,
       "border": null,
       "bottom": null,
       "display": null,
       "flex": null,
       "flex_flow": null,
       "grid_area": null,
       "grid_auto_columns": null,
       "grid_auto_flow": null,
       "grid_auto_rows": null,
       "grid_column": null,
       "grid_gap": null,
       "grid_row": null,
       "grid_template_areas": null,
       "grid_template_columns": null,
       "grid_template_rows": null,
       "height": null,
       "justify_content": null,
       "justify_items": null,
       "left": null,
       "margin": null,
       "max_height": null,
       "max_width": null,
       "min_height": null,
       "min_width": null,
       "object_fit": null,
       "object_position": null,
       "order": null,
       "overflow": null,
       "overflow_x": null,
       "overflow_y": null,
       "padding": null,
       "right": null,
       "top": null,
       "visibility": null,
       "width": null
      }
     },
     "240f977e18c8468d8575795cf3de5fa1": {
      "model_module": "@jupyter-widgets/controls",
      "model_module_version": "1.5.0",
      "model_name": "HTMLModel",
      "state": {
       "_dom_classes": [],
       "_model_module": "@jupyter-widgets/controls",
       "_model_module_version": "1.5.0",
       "_model_name": "HTMLModel",
       "_view_count": null,
       "_view_module": "@jupyter-widgets/controls",
       "_view_module_version": "1.5.0",
       "_view_name": "HTMLView",
       "description": "",
       "description_tooltip": null,
       "layout": "IPY_MODEL_c96c312439414fe6bc068b0b7d462428",
       "placeholder": "​",
       "style": "IPY_MODEL_39bd03b4777441119a5d63a9afd17c9f",
       "value": "Downloading: 100%"
      }
     },
     "28b0af0a8cfe42bcab3f2cb08d7ffbf4": {
      "model_module": "@jupyter-widgets/controls",
      "model_module_version": "1.5.0",
      "model_name": "FloatProgressModel",
      "state": {
       "_dom_classes": [],
       "_model_module": "@jupyter-widgets/controls",
       "_model_module_version": "1.5.0",
       "_model_name": "FloatProgressModel",
       "_view_count": null,
       "_view_module": "@jupyter-widgets/controls",
       "_view_module_version": "1.5.0",
       "_view_name": "ProgressView",
       "bar_style": "success",
       "description": "",
       "description_tooltip": null,
       "layout": "IPY_MODEL_7d2359f7f17049c78da8a3ba4f42e475",
       "max": 1658616,
       "min": 0,
       "orientation": "horizontal",
       "style": "IPY_MODEL_2bba5d32414f4ad2a891ea8738b32b11",
       "value": 1658616
      }
     },
     "2bba5d32414f4ad2a891ea8738b32b11": {
      "model_module": "@jupyter-widgets/controls",
      "model_module_version": "1.5.0",
      "model_name": "ProgressStyleModel",
      "state": {
       "_model_module": "@jupyter-widgets/controls",
       "_model_module_version": "1.5.0",
       "_model_name": "ProgressStyleModel",
       "_view_count": null,
       "_view_module": "@jupyter-widgets/base",
       "_view_module_version": "1.2.0",
       "_view_name": "StyleView",
       "bar_color": null,
       "description_width": ""
      }
     },
     "2dce3cbd8d6a42ca996cddd08e3bc072": {
      "model_module": "@jupyter-widgets/base",
      "model_module_version": "1.2.0",
      "model_name": "LayoutModel",
      "state": {
       "_model_module": "@jupyter-widgets/base",
       "_model_module_version": "1.2.0",
       "_model_name": "LayoutModel",
       "_view_count": null,
       "_view_module": "@jupyter-widgets/base",
       "_view_module_version": "1.2.0",
       "_view_name": "LayoutView",
       "align_content": null,
       "align_items": null,
       "align_self": null,
       "border": null,
       "bottom": null,
       "display": null,
       "flex": null,
       "flex_flow": null,
       "grid_area": null,
       "grid_auto_columns": null,
       "grid_auto_flow": null,
       "grid_auto_rows": null,
       "grid_column": null,
       "grid_gap": null,
       "grid_row": null,
       "grid_template_areas": null,
       "grid_template_columns": null,
       "grid_template_rows": null,
       "height": null,
       "justify_content": null,
       "justify_items": null,
       "left": null,
       "margin": null,
       "max_height": null,
       "max_width": null,
       "min_height": null,
       "min_width": null,
       "object_fit": null,
       "object_position": null,
       "order": null,
       "overflow": null,
       "overflow_x": null,
       "overflow_y": null,
       "padding": null,
       "right": null,
       "top": null,
       "visibility": null,
       "width": null
      }
     },
     "37108f3ff92a44c58b75530e701aae23": {
      "model_module": "@jupyter-widgets/controls",
      "model_module_version": "1.5.0",
      "model_name": "DescriptionStyleModel",
      "state": {
       "_model_module": "@jupyter-widgets/controls",
       "_model_module_version": "1.5.0",
       "_model_name": "DescriptionStyleModel",
       "_view_count": null,
       "_view_module": "@jupyter-widgets/base",
       "_view_module_version": "1.2.0",
       "_view_name": "StyleView",
       "description_width": ""
      }
     },
     "3936d4dc08ab4eba9f9e3525600da5c0": {
      "model_module": "@jupyter-widgets/controls",
      "model_module_version": "1.5.0",
      "model_name": "DescriptionStyleModel",
      "state": {
       "_model_module": "@jupyter-widgets/controls",
       "_model_module_version": "1.5.0",
       "_model_name": "DescriptionStyleModel",
       "_view_count": null,
       "_view_module": "@jupyter-widgets/base",
       "_view_module_version": "1.2.0",
       "_view_name": "StyleView",
       "description_width": ""
      }
     },
     "397b18ed68914639a56e45f7f73f66d8": {
      "model_module": "@jupyter-widgets/base",
      "model_module_version": "1.2.0",
      "model_name": "LayoutModel",
      "state": {
       "_model_module": "@jupyter-widgets/base",
       "_model_module_version": "1.2.0",
       "_model_name": "LayoutModel",
       "_view_count": null,
       "_view_module": "@jupyter-widgets/base",
       "_view_module_version": "1.2.0",
       "_view_name": "LayoutView",
       "align_content": null,
       "align_items": null,
       "align_self": null,
       "border": null,
       "bottom": null,
       "display": null,
       "flex": null,
       "flex_flow": null,
       "grid_area": null,
       "grid_auto_columns": null,
       "grid_auto_flow": null,
       "grid_auto_rows": null,
       "grid_column": null,
       "grid_gap": null,
       "grid_row": null,
       "grid_template_areas": null,
       "grid_template_columns": null,
       "grid_template_rows": null,
       "height": null,
       "justify_content": null,
       "justify_items": null,
       "left": null,
       "margin": null,
       "max_height": null,
       "max_width": null,
       "min_height": null,
       "min_width": null,
       "object_fit": null,
       "object_position": null,
       "order": null,
       "overflow": null,
       "overflow_x": null,
       "overflow_y": null,
       "padding": null,
       "right": null,
       "top": null,
       "visibility": null,
       "width": null
      }
     },
     "39bd03b4777441119a5d63a9afd17c9f": {
      "model_module": "@jupyter-widgets/controls",
      "model_module_version": "1.5.0",
      "model_name": "DescriptionStyleModel",
      "state": {
       "_model_module": "@jupyter-widgets/controls",
       "_model_module_version": "1.5.0",
       "_model_name": "DescriptionStyleModel",
       "_view_count": null,
       "_view_module": "@jupyter-widgets/base",
       "_view_module_version": "1.2.0",
       "_view_name": "StyleView",
       "description_width": ""
      }
     },
     "3a06956ff2ad49da862398d2ddf07165": {
      "model_module": "@jupyter-widgets/base",
      "model_module_version": "1.2.0",
      "model_name": "LayoutModel",
      "state": {
       "_model_module": "@jupyter-widgets/base",
       "_model_module_version": "1.2.0",
       "_model_name": "LayoutModel",
       "_view_count": null,
       "_view_module": "@jupyter-widgets/base",
       "_view_module_version": "1.2.0",
       "_view_name": "LayoutView",
       "align_content": null,
       "align_items": null,
       "align_self": null,
       "border": null,
       "bottom": null,
       "display": null,
       "flex": null,
       "flex_flow": null,
       "grid_area": null,
       "grid_auto_columns": null,
       "grid_auto_flow": null,
       "grid_auto_rows": null,
       "grid_column": null,
       "grid_gap": null,
       "grid_row": null,
       "grid_template_areas": null,
       "grid_template_columns": null,
       "grid_template_rows": null,
       "height": null,
       "justify_content": null,
       "justify_items": null,
       "left": null,
       "margin": null,
       "max_height": null,
       "max_width": null,
       "min_height": null,
       "min_width": null,
       "object_fit": null,
       "object_position": null,
       "order": null,
       "overflow": null,
       "overflow_x": null,
       "overflow_y": null,
       "padding": null,
       "right": null,
       "top": null,
       "visibility": null,
       "width": null
      }
     },
     "3eae2f68a8d546f68aebbb0f383904db": {
      "model_module": "@jupyter-widgets/controls",
      "model_module_version": "1.5.0",
      "model_name": "DescriptionStyleModel",
      "state": {
       "_model_module": "@jupyter-widgets/controls",
       "_model_module_version": "1.5.0",
       "_model_name": "DescriptionStyleModel",
       "_view_count": null,
       "_view_module": "@jupyter-widgets/base",
       "_view_module_version": "1.2.0",
       "_view_name": "StyleView",
       "description_width": ""
      }
     },
     "42f250381c254ce98368852324ee79f0": {
      "model_module": "@jupyter-widgets/controls",
      "model_module_version": "1.5.0",
      "model_name": "ProgressStyleModel",
      "state": {
       "_model_module": "@jupyter-widgets/controls",
       "_model_module_version": "1.5.0",
       "_model_name": "ProgressStyleModel",
       "_view_count": null,
       "_view_module": "@jupyter-widgets/base",
       "_view_module_version": "1.2.0",
       "_view_name": "StyleView",
       "bar_color": null,
       "description_width": ""
      }
     },
     "4450f6eb35fe46b5a315b511d4130551": {
      "model_module": "@jupyter-widgets/base",
      "model_module_version": "1.2.0",
      "model_name": "LayoutModel",
      "state": {
       "_model_module": "@jupyter-widgets/base",
       "_model_module_version": "1.2.0",
       "_model_name": "LayoutModel",
       "_view_count": null,
       "_view_module": "@jupyter-widgets/base",
       "_view_module_version": "1.2.0",
       "_view_name": "LayoutView",
       "align_content": null,
       "align_items": null,
       "align_self": null,
       "border": null,
       "bottom": null,
       "display": null,
       "flex": null,
       "flex_flow": null,
       "grid_area": null,
       "grid_auto_columns": null,
       "grid_auto_flow": null,
       "grid_auto_rows": null,
       "grid_column": null,
       "grid_gap": null,
       "grid_row": null,
       "grid_template_areas": null,
       "grid_template_columns": null,
       "grid_template_rows": null,
       "height": null,
       "justify_content": null,
       "justify_items": null,
       "left": null,
       "margin": null,
       "max_height": null,
       "max_width": null,
       "min_height": null,
       "min_width": null,
       "object_fit": null,
       "object_position": null,
       "order": null,
       "overflow": null,
       "overflow_x": null,
       "overflow_y": null,
       "padding": null,
       "right": null,
       "top": null,
       "visibility": null,
       "width": null
      }
     },
     "446c9159f725486b86a8d3aa35957133": {
      "model_module": "@jupyter-widgets/base",
      "model_module_version": "1.2.0",
      "model_name": "LayoutModel",
      "state": {
       "_model_module": "@jupyter-widgets/base",
       "_model_module_version": "1.2.0",
       "_model_name": "LayoutModel",
       "_view_count": null,
       "_view_module": "@jupyter-widgets/base",
       "_view_module_version": "1.2.0",
       "_view_name": "LayoutView",
       "align_content": null,
       "align_items": null,
       "align_self": null,
       "border": null,
       "bottom": null,
       "display": null,
       "flex": null,
       "flex_flow": null,
       "grid_area": null,
       "grid_auto_columns": null,
       "grid_auto_flow": null,
       "grid_auto_rows": null,
       "grid_column": null,
       "grid_gap": null,
       "grid_row": null,
       "grid_template_areas": null,
       "grid_template_columns": null,
       "grid_template_rows": null,
       "height": null,
       "justify_content": null,
       "justify_items": null,
       "left": null,
       "margin": null,
       "max_height": null,
       "max_width": null,
       "min_height": null,
       "min_width": null,
       "object_fit": null,
       "object_position": null,
       "order": null,
       "overflow": null,
       "overflow_x": null,
       "overflow_y": null,
       "padding": null,
       "right": null,
       "top": null,
       "visibility": null,
       "width": null
      }
     },
     "4a10db6797f94638bba8897d99d2a40d": {
      "model_module": "@jupyter-widgets/controls",
      "model_module_version": "1.5.0",
      "model_name": "HBoxModel",
      "state": {
       "_dom_classes": [],
       "_model_module": "@jupyter-widgets/controls",
       "_model_module_version": "1.5.0",
       "_model_name": "HBoxModel",
       "_view_count": null,
       "_view_module": "@jupyter-widgets/controls",
       "_view_module_version": "1.5.0",
       "_view_name": "HBoxView",
       "box_style": "",
       "children": [
        "IPY_MODEL_f576edb6c88c4f15a1c30eb0c111616e",
        "IPY_MODEL_6f58c2e478c24829bcaf9530156c84b7",
        "IPY_MODEL_5c944fba08034965b10ace0fd21f5f8b"
       ],
       "layout": "IPY_MODEL_0209617f35f849a2bd4e67e8090d9601"
      }
     },
     "4a2a772bf3074604b79175df2f382c32": {
      "model_module": "@jupyter-widgets/base",
      "model_module_version": "1.2.0",
      "model_name": "LayoutModel",
      "state": {
       "_model_module": "@jupyter-widgets/base",
       "_model_module_version": "1.2.0",
       "_model_name": "LayoutModel",
       "_view_count": null,
       "_view_module": "@jupyter-widgets/base",
       "_view_module_version": "1.2.0",
       "_view_name": "LayoutView",
       "align_content": null,
       "align_items": null,
       "align_self": null,
       "border": null,
       "bottom": null,
       "display": null,
       "flex": null,
       "flex_flow": null,
       "grid_area": null,
       "grid_auto_columns": null,
       "grid_auto_flow": null,
       "grid_auto_rows": null,
       "grid_column": null,
       "grid_gap": null,
       "grid_row": null,
       "grid_template_areas": null,
       "grid_template_columns": null,
       "grid_template_rows": null,
       "height": null,
       "justify_content": null,
       "justify_items": null,
       "left": null,
       "margin": null,
       "max_height": null,
       "max_width": null,
       "min_height": null,
       "min_width": null,
       "object_fit": null,
       "object_position": null,
       "order": null,
       "overflow": null,
       "overflow_x": null,
       "overflow_y": null,
       "padding": null,
       "right": null,
       "top": null,
       "visibility": null,
       "width": null
      }
     },
     "4c554cc0799f466282d477182b49bf33": {
      "model_module": "@jupyter-widgets/controls",
      "model_module_version": "1.5.0",
      "model_name": "DescriptionStyleModel",
      "state": {
       "_model_module": "@jupyter-widgets/controls",
       "_model_module_version": "1.5.0",
       "_model_name": "DescriptionStyleModel",
       "_view_count": null,
       "_view_module": "@jupyter-widgets/base",
       "_view_module_version": "1.2.0",
       "_view_name": "StyleView",
       "description_width": ""
      }
     },
     "4f2c1e508422462e95ce06741181f827": {
      "model_module": "@jupyter-widgets/base",
      "model_module_version": "1.2.0",
      "model_name": "LayoutModel",
      "state": {
       "_model_module": "@jupyter-widgets/base",
       "_model_module_version": "1.2.0",
       "_model_name": "LayoutModel",
       "_view_count": null,
       "_view_module": "@jupyter-widgets/base",
       "_view_module_version": "1.2.0",
       "_view_name": "LayoutView",
       "align_content": null,
       "align_items": null,
       "align_self": null,
       "border": null,
       "bottom": null,
       "display": null,
       "flex": null,
       "flex_flow": null,
       "grid_area": null,
       "grid_auto_columns": null,
       "grid_auto_flow": null,
       "grid_auto_rows": null,
       "grid_column": null,
       "grid_gap": null,
       "grid_row": null,
       "grid_template_areas": null,
       "grid_template_columns": null,
       "grid_template_rows": null,
       "height": null,
       "justify_content": null,
       "justify_items": null,
       "left": null,
       "margin": null,
       "max_height": null,
       "max_width": null,
       "min_height": null,
       "min_width": null,
       "object_fit": null,
       "object_position": null,
       "order": null,
       "overflow": null,
       "overflow_x": null,
       "overflow_y": null,
       "padding": null,
       "right": null,
       "top": null,
       "visibility": null,
       "width": null
      }
     },
     "4f56eca19c3b4e2fbbd164c2b4c5ea27": {
      "model_module": "@jupyter-widgets/controls",
      "model_module_version": "1.5.0",
      "model_name": "ProgressStyleModel",
      "state": {
       "_model_module": "@jupyter-widgets/controls",
       "_model_module_version": "1.5.0",
       "_model_name": "ProgressStyleModel",
       "_view_count": null,
       "_view_module": "@jupyter-widgets/base",
       "_view_module_version": "1.2.0",
       "_view_name": "StyleView",
       "bar_color": null,
       "description_width": ""
      }
     },
     "5006d317fce54350b4a675c9d30383ae": {
      "model_module": "@jupyter-widgets/controls",
      "model_module_version": "1.5.0",
      "model_name": "ProgressStyleModel",
      "state": {
       "_model_module": "@jupyter-widgets/controls",
       "_model_module_version": "1.5.0",
       "_model_name": "ProgressStyleModel",
       "_view_count": null,
       "_view_module": "@jupyter-widgets/base",
       "_view_module_version": "1.2.0",
       "_view_name": "StyleView",
       "bar_color": null,
       "description_width": ""
      }
     },
     "522de9d9ea0742f39946194e5490ed3b": {
      "model_module": "@jupyter-widgets/base",
      "model_module_version": "1.2.0",
      "model_name": "LayoutModel",
      "state": {
       "_model_module": "@jupyter-widgets/base",
       "_model_module_version": "1.2.0",
       "_model_name": "LayoutModel",
       "_view_count": null,
       "_view_module": "@jupyter-widgets/base",
       "_view_module_version": "1.2.0",
       "_view_name": "LayoutView",
       "align_content": null,
       "align_items": null,
       "align_self": null,
       "border": null,
       "bottom": null,
       "display": null,
       "flex": null,
       "flex_flow": null,
       "grid_area": null,
       "grid_auto_columns": null,
       "grid_auto_flow": null,
       "grid_auto_rows": null,
       "grid_column": null,
       "grid_gap": null,
       "grid_row": null,
       "grid_template_areas": null,
       "grid_template_columns": null,
       "grid_template_rows": null,
       "height": null,
       "justify_content": null,
       "justify_items": null,
       "left": null,
       "margin": null,
       "max_height": null,
       "max_width": null,
       "min_height": null,
       "min_width": null,
       "object_fit": null,
       "object_position": null,
       "order": null,
       "overflow": null,
       "overflow_x": null,
       "overflow_y": null,
       "padding": null,
       "right": null,
       "top": null,
       "visibility": null,
       "width": null
      }
     },
     "53f0b2369d8c493ab24888b3fc5e7865": {
      "model_module": "@jupyter-widgets/controls",
      "model_module_version": "1.5.0",
      "model_name": "FloatProgressModel",
      "state": {
       "_dom_classes": [],
       "_model_module": "@jupyter-widgets/controls",
       "_model_module_version": "1.5.0",
       "_model_name": "FloatProgressModel",
       "_view_count": null,
       "_view_module": "@jupyter-widgets/controls",
       "_view_module_version": "1.5.0",
       "_view_name": "ProgressView",
       "bar_style": "success",
       "description": "",
       "description_tooltip": null,
       "layout": "IPY_MODEL_522de9d9ea0742f39946194e5490ed3b",
       "max": 6011,
       "min": 0,
       "orientation": "horizontal",
       "style": "IPY_MODEL_5c5069b4a4414ac684fc0bd6c66d896a",
       "value": 6011
      }
     },
     "55bbdc22dd4647dfb3c64ada61995370": {
      "model_module": "@jupyter-widgets/controls",
      "model_module_version": "1.5.0",
      "model_name": "ProgressStyleModel",
      "state": {
       "_model_module": "@jupyter-widgets/controls",
       "_model_module_version": "1.5.0",
       "_model_name": "ProgressStyleModel",
       "_view_count": null,
       "_view_module": "@jupyter-widgets/base",
       "_view_module_version": "1.2.0",
       "_view_name": "StyleView",
       "bar_color": null,
       "description_width": ""
      }
     },
     "580d091cc39f4d3d8e72f6855a5f53b6": {
      "model_module": "@jupyter-widgets/base",
      "model_module_version": "1.2.0",
      "model_name": "LayoutModel",
      "state": {
       "_model_module": "@jupyter-widgets/base",
       "_model_module_version": "1.2.0",
       "_model_name": "LayoutModel",
       "_view_count": null,
       "_view_module": "@jupyter-widgets/base",
       "_view_module_version": "1.2.0",
       "_view_name": "LayoutView",
       "align_content": null,
       "align_items": null,
       "align_self": null,
       "border": null,
       "bottom": null,
       "display": null,
       "flex": null,
       "flex_flow": null,
       "grid_area": null,
       "grid_auto_columns": null,
       "grid_auto_flow": null,
       "grid_auto_rows": null,
       "grid_column": null,
       "grid_gap": null,
       "grid_row": null,
       "grid_template_areas": null,
       "grid_template_columns": null,
       "grid_template_rows": null,
       "height": null,
       "justify_content": null,
       "justify_items": null,
       "left": null,
       "margin": null,
       "max_height": null,
       "max_width": null,
       "min_height": null,
       "min_width": null,
       "object_fit": null,
       "object_position": null,
       "order": null,
       "overflow": null,
       "overflow_x": null,
       "overflow_y": null,
       "padding": null,
       "right": null,
       "top": null,
       "visibility": null,
       "width": null
      }
     },
     "5c5069b4a4414ac684fc0bd6c66d896a": {
      "model_module": "@jupyter-widgets/controls",
      "model_module_version": "1.5.0",
      "model_name": "ProgressStyleModel",
      "state": {
       "_model_module": "@jupyter-widgets/controls",
       "_model_module_version": "1.5.0",
       "_model_name": "ProgressStyleModel",
       "_view_count": null,
       "_view_module": "@jupyter-widgets/base",
       "_view_module_version": "1.2.0",
       "_view_name": "StyleView",
       "bar_color": null,
       "description_width": ""
      }
     },
     "5c944fba08034965b10ace0fd21f5f8b": {
      "model_module": "@jupyter-widgets/controls",
      "model_module_version": "1.5.0",
      "model_name": "HTMLModel",
      "state": {
       "_dom_classes": [],
       "_model_module": "@jupyter-widgets/controls",
       "_model_module_version": "1.5.0",
       "_model_name": "HTMLModel",
       "_view_count": null,
       "_view_module": "@jupyter-widgets/controls",
       "_view_module_version": "1.5.0",
       "_view_name": "HTMLView",
       "description": "",
       "description_tooltip": null,
       "layout": "IPY_MODEL_397b18ed68914639a56e45f7f73f66d8",
       "placeholder": "​",
       "style": "IPY_MODEL_22519c29e4a74f828f7426832869d9f1",
       "value": " 0/0 [00:00&lt;?, ? examples/s]"
      }
     },
     "64b24f8dd2814775bd1f7711d34cc4fc": {
      "model_module": "@jupyter-widgets/controls",
      "model_module_version": "1.5.0",
      "model_name": "HBoxModel",
      "state": {
       "_dom_classes": [],
       "_model_module": "@jupyter-widgets/controls",
       "_model_module_version": "1.5.0",
       "_model_name": "HBoxModel",
       "_view_count": null,
       "_view_module": "@jupyter-widgets/controls",
       "_view_module_version": "1.5.0",
       "_view_name": "HBoxView",
       "box_style": "",
       "children": [
        "IPY_MODEL_1dba892214254696bb9d53abd8f5127a",
        "IPY_MODEL_53f0b2369d8c493ab24888b3fc5e7865",
        "IPY_MODEL_822e315a430d47218c90f068d811373d"
       ],
       "layout": "IPY_MODEL_e0c90aa78ada46b08122d8e8fe82dcdf"
      }
     },
     "680e7127ae3447f9b0b04af02b97f68f": {
      "model_module": "@jupyter-widgets/controls",
      "model_module_version": "1.5.0",
      "model_name": "DescriptionStyleModel",
      "state": {
       "_model_module": "@jupyter-widgets/controls",
       "_model_module_version": "1.5.0",
       "_model_name": "DescriptionStyleModel",
       "_view_count": null,
       "_view_module": "@jupyter-widgets/base",
       "_view_module_version": "1.2.0",
       "_view_name": "StyleView",
       "description_width": ""
      }
     },
     "6d75b3d98f3f462aa66ff99824f33d93": {
      "model_module": "@jupyter-widgets/base",
      "model_module_version": "1.2.0",
      "model_name": "LayoutModel",
      "state": {
       "_model_module": "@jupyter-widgets/base",
       "_model_module_version": "1.2.0",
       "_model_name": "LayoutModel",
       "_view_count": null,
       "_view_module": "@jupyter-widgets/base",
       "_view_module_version": "1.2.0",
       "_view_name": "LayoutView",
       "align_content": null,
       "align_items": null,
       "align_self": null,
       "border": null,
       "bottom": null,
       "display": null,
       "flex": null,
       "flex_flow": null,
       "grid_area": null,
       "grid_auto_columns": null,
       "grid_auto_flow": null,
       "grid_auto_rows": null,
       "grid_column": null,
       "grid_gap": null,
       "grid_row": null,
       "grid_template_areas": null,
       "grid_template_columns": null,
       "grid_template_rows": null,
       "height": null,
       "justify_content": null,
       "justify_items": null,
       "left": null,
       "margin": null,
       "max_height": null,
       "max_width": null,
       "min_height": null,
       "min_width": null,
       "object_fit": null,
       "object_position": null,
       "order": null,
       "overflow": null,
       "overflow_x": null,
       "overflow_y": null,
       "padding": null,
       "right": null,
       "top": null,
       "visibility": null,
       "width": null
      }
     },
     "6dab4e77c7404cb1a736e667e349de2c": {
      "model_module": "@jupyter-widgets/controls",
      "model_module_version": "1.5.0",
      "model_name": "HTMLModel",
      "state": {
       "_dom_classes": [],
       "_model_module": "@jupyter-widgets/controls",
       "_model_module_version": "1.5.0",
       "_model_name": "HTMLModel",
       "_view_count": null,
       "_view_module": "@jupyter-widgets/controls",
       "_view_module_version": "1.5.0",
       "_view_name": "HTMLView",
       "description": "",
       "description_tooltip": null,
       "layout": "IPY_MODEL_6d75b3d98f3f462aa66ff99824f33d93",
       "placeholder": "​",
       "style": "IPY_MODEL_3936d4dc08ab4eba9f9e3525600da5c0",
       "value": ""
      }
     },
     "6f58c2e478c24829bcaf9530156c84b7": {
      "model_module": "@jupyter-widgets/controls",
      "model_module_version": "1.5.0",
      "model_name": "FloatProgressModel",
      "state": {
       "_dom_classes": [],
       "_model_module": "@jupyter-widgets/controls",
       "_model_module_version": "1.5.0",
       "_model_name": "FloatProgressModel",
       "_view_count": null,
       "_view_module": "@jupyter-widgets/controls",
       "_view_module_version": "1.5.0",
       "_view_name": "ProgressView",
       "bar_style": "info",
       "description": "",
       "description_tooltip": null,
       "layout": "IPY_MODEL_ebc6365c8bcc42c39e64d89352b44726",
       "max": 1,
       "min": 0,
       "orientation": "horizontal",
       "style": "IPY_MODEL_701826e09d9b460c9eb7fa04714d8fdf",
       "value": 1
      }
     },
     "701826e09d9b460c9eb7fa04714d8fdf": {
      "model_module": "@jupyter-widgets/controls",
      "model_module_version": "1.5.0",
      "model_name": "ProgressStyleModel",
      "state": {
       "_model_module": "@jupyter-widgets/controls",
       "_model_module_version": "1.5.0",
       "_model_name": "ProgressStyleModel",
       "_view_count": null,
       "_view_module": "@jupyter-widgets/base",
       "_view_module_version": "1.2.0",
       "_view_name": "StyleView",
       "bar_color": null,
       "description_width": ""
      }
     },
     "701a6054b2844f42afe57d825cf7b77d": {
      "model_module": "@jupyter-widgets/base",
      "model_module_version": "1.2.0",
      "model_name": "LayoutModel",
      "state": {
       "_model_module": "@jupyter-widgets/base",
       "_model_module_version": "1.2.0",
       "_model_name": "LayoutModel",
       "_view_count": null,
       "_view_module": "@jupyter-widgets/base",
       "_view_module_version": "1.2.0",
       "_view_name": "LayoutView",
       "align_content": null,
       "align_items": null,
       "align_self": null,
       "border": null,
       "bottom": null,
       "display": null,
       "flex": null,
       "flex_flow": null,
       "grid_area": null,
       "grid_auto_columns": null,
       "grid_auto_flow": null,
       "grid_auto_rows": null,
       "grid_column": null,
       "grid_gap": null,
       "grid_row": null,
       "grid_template_areas": null,
       "grid_template_columns": null,
       "grid_template_rows": null,
       "height": null,
       "justify_content": null,
       "justify_items": null,
       "left": null,
       "margin": null,
       "max_height": null,
       "max_width": null,
       "min_height": null,
       "min_width": null,
       "object_fit": null,
       "object_position": null,
       "order": null,
       "overflow": null,
       "overflow_x": null,
       "overflow_y": null,
       "padding": null,
       "right": null,
       "top": null,
       "visibility": null,
       "width": null
      }
     },
     "72811abc028341da9fbc440bc24059ab": {
      "model_module": "@jupyter-widgets/base",
      "model_module_version": "1.2.0",
      "model_name": "LayoutModel",
      "state": {
       "_model_module": "@jupyter-widgets/base",
       "_model_module_version": "1.2.0",
       "_model_name": "LayoutModel",
       "_view_count": null,
       "_view_module": "@jupyter-widgets/base",
       "_view_module_version": "1.2.0",
       "_view_name": "LayoutView",
       "align_content": null,
       "align_items": null,
       "align_self": null,
       "border": null,
       "bottom": null,
       "display": null,
       "flex": null,
       "flex_flow": null,
       "grid_area": null,
       "grid_auto_columns": null,
       "grid_auto_flow": null,
       "grid_auto_rows": null,
       "grid_column": null,
       "grid_gap": null,
       "grid_row": null,
       "grid_template_areas": null,
       "grid_template_columns": null,
       "grid_template_rows": null,
       "height": null,
       "justify_content": null,
       "justify_items": null,
       "left": null,
       "margin": null,
       "max_height": null,
       "max_width": null,
       "min_height": null,
       "min_width": null,
       "object_fit": null,
       "object_position": null,
       "order": null,
       "overflow": null,
       "overflow_x": null,
       "overflow_y": null,
       "padding": null,
       "right": null,
       "top": null,
       "visibility": null,
       "width": null
      }
     },
     "7664f15661d143f99ec03dd7ee61ba70": {
      "model_module": "@jupyter-widgets/controls",
      "model_module_version": "1.5.0",
      "model_name": "DescriptionStyleModel",
      "state": {
       "_model_module": "@jupyter-widgets/controls",
       "_model_module_version": "1.5.0",
       "_model_name": "DescriptionStyleModel",
       "_view_count": null,
       "_view_module": "@jupyter-widgets/base",
       "_view_module_version": "1.2.0",
       "_view_name": "StyleView",
       "description_width": ""
      }
     },
     "769e7055b15145f99e2cc1dacacf53dd": {
      "model_module": "@jupyter-widgets/controls",
      "model_module_version": "1.5.0",
      "model_name": "HTMLModel",
      "state": {
       "_dom_classes": [],
       "_model_module": "@jupyter-widgets/controls",
       "_model_module_version": "1.5.0",
       "_model_name": "HTMLModel",
       "_view_count": null,
       "_view_module": "@jupyter-widgets/controls",
       "_view_module_version": "1.5.0",
       "_view_name": "HTMLView",
       "description": "",
       "description_tooltip": null,
       "layout": "IPY_MODEL_446c9159f725486b86a8d3aa35957133",
       "placeholder": "​",
       "style": "IPY_MODEL_0d2c21442e754b698c8c612e75fa1d00",
       "value": " 3.41k/3.41k [00:00&lt;00:00, 108kB/s]"
      }
     },
     "7d2359f7f17049c78da8a3ba4f42e475": {
      "model_module": "@jupyter-widgets/base",
      "model_module_version": "1.2.0",
      "model_name": "LayoutModel",
      "state": {
       "_model_module": "@jupyter-widgets/base",
       "_model_module_version": "1.2.0",
       "_model_name": "LayoutModel",
       "_view_count": null,
       "_view_module": "@jupyter-widgets/base",
       "_view_module_version": "1.2.0",
       "_view_name": "LayoutView",
       "align_content": null,
       "align_items": null,
       "align_self": null,
       "border": null,
       "bottom": null,
       "display": null,
       "flex": null,
       "flex_flow": null,
       "grid_area": null,
       "grid_auto_columns": null,
       "grid_auto_flow": null,
       "grid_auto_rows": null,
       "grid_column": null,
       "grid_gap": null,
       "grid_row": null,
       "grid_template_areas": null,
       "grid_template_columns": null,
       "grid_template_rows": null,
       "height": null,
       "justify_content": null,
       "justify_items": null,
       "left": null,
       "margin": null,
       "max_height": null,
       "max_width": null,
       "min_height": null,
       "min_width": null,
       "object_fit": null,
       "object_position": null,
       "order": null,
       "overflow": null,
       "overflow_x": null,
       "overflow_y": null,
       "padding": null,
       "right": null,
       "top": null,
       "visibility": null,
       "width": null
      }
     },
     "822e315a430d47218c90f068d811373d": {
      "model_module": "@jupyter-widgets/controls",
      "model_module_version": "1.5.0",
      "model_name": "HTMLModel",
      "state": {
       "_dom_classes": [],
       "_model_module": "@jupyter-widgets/controls",
       "_model_module_version": "1.5.0",
       "_model_name": "HTMLModel",
       "_view_count": null,
       "_view_module": "@jupyter-widgets/controls",
       "_view_module_version": "1.5.0",
       "_view_name": "HTMLView",
       "description": "",
       "description_tooltip": null,
       "layout": "IPY_MODEL_72811abc028341da9fbc440bc24059ab",
       "placeholder": "​",
       "style": "IPY_MODEL_4c554cc0799f466282d477182b49bf33",
       "value": " 6.01k/6.01k [00:00&lt;00:00, 208kB/s]"
      }
     },
     "837a2c1023aa4732baad6794b0e14444": {
      "model_module": "@jupyter-widgets/controls",
      "model_module_version": "1.5.0",
      "model_name": "DescriptionStyleModel",
      "state": {
       "_model_module": "@jupyter-widgets/controls",
       "_model_module_version": "1.5.0",
       "_model_name": "DescriptionStyleModel",
       "_view_count": null,
       "_view_module": "@jupyter-widgets/base",
       "_view_module_version": "1.2.0",
       "_view_name": "StyleView",
       "description_width": ""
      }
     },
     "87588a7566d947a19d90c93ac745f2c2": {
      "model_module": "@jupyter-widgets/controls",
      "model_module_version": "1.5.0",
      "model_name": "HTMLModel",
      "state": {
       "_dom_classes": [],
       "_model_module": "@jupyter-widgets/controls",
       "_model_module_version": "1.5.0",
       "_model_name": "HTMLModel",
       "_view_count": null,
       "_view_module": "@jupyter-widgets/controls",
       "_view_module_version": "1.5.0",
       "_view_name": "HTMLView",
       "description": "",
       "description_tooltip": null,
       "layout": "IPY_MODEL_3a06956ff2ad49da862398d2ddf07165",
       "placeholder": "​",
       "style": "IPY_MODEL_a07939b4a1a543b8965fd9a49ca7d9b2",
       "value": " 0/0 [00:00&lt;?, ? examples/s]"
      }
     },
     "8b6aa4a590f8440a9d316473530a736f": {
      "model_module": "@jupyter-widgets/controls",
      "model_module_version": "1.5.0",
      "model_name": "HBoxModel",
      "state": {
       "_dom_classes": [],
       "_model_module": "@jupyter-widgets/controls",
       "_model_module_version": "1.5.0",
       "_model_name": "HBoxModel",
       "_view_count": null,
       "_view_module": "@jupyter-widgets/controls",
       "_view_module_version": "1.5.0",
       "_view_name": "HBoxView",
       "box_style": "",
       "children": [
        "IPY_MODEL_6dab4e77c7404cb1a736e667e349de2c",
        "IPY_MODEL_d32dadd4e4874ad6885ea2e297a02dcc",
        "IPY_MODEL_87588a7566d947a19d90c93ac745f2c2"
       ],
       "layout": "IPY_MODEL_957ea9c80e6c429198176c56396f8cef"
      }
     },
     "8e61d5c1dbed4175ac62a6c8d548a965": {
      "model_module": "@jupyter-widgets/controls",
      "model_module_version": "1.5.0",
      "model_name": "DescriptionStyleModel",
      "state": {
       "_model_module": "@jupyter-widgets/controls",
       "_model_module_version": "1.5.0",
       "_model_name": "DescriptionStyleModel",
       "_view_count": null,
       "_view_module": "@jupyter-widgets/base",
       "_view_module_version": "1.2.0",
       "_view_name": "StyleView",
       "description_width": ""
      }
     },
     "923cca8023fc43a48826dc5baf58c4f0": {
      "model_module": "@jupyter-widgets/controls",
      "model_module_version": "1.5.0",
      "model_name": "DescriptionStyleModel",
      "state": {
       "_model_module": "@jupyter-widgets/controls",
       "_model_module_version": "1.5.0",
       "_model_name": "DescriptionStyleModel",
       "_view_count": null,
       "_view_module": "@jupyter-widgets/base",
       "_view_module_version": "1.2.0",
       "_view_name": "StyleView",
       "description_width": ""
      }
     },
     "94f83b6b84b24c18b8ba7f1a7e689d40": {
      "model_module": "@jupyter-widgets/controls",
      "model_module_version": "1.5.0",
      "model_name": "FloatProgressModel",
      "state": {
       "_dom_classes": [],
       "_model_module": "@jupyter-widgets/controls",
       "_model_module_version": "1.5.0",
       "_model_name": "FloatProgressModel",
       "_view_count": null,
       "_view_module": "@jupyter-widgets/controls",
       "_view_module_version": "1.5.0",
       "_view_name": "ProgressView",
       "bar_style": "info",
       "description": "",
       "description_tooltip": null,
       "layout": "IPY_MODEL_f2323708929f46cc9f8acae3cf4fc6e5",
       "max": 1,
       "min": 0,
       "orientation": "horizontal",
       "style": "IPY_MODEL_55bbdc22dd4647dfb3c64ada61995370",
       "value": 1
      }
     },
     "957ea9c80e6c429198176c56396f8cef": {
      "model_module": "@jupyter-widgets/base",
      "model_module_version": "1.2.0",
      "model_name": "LayoutModel",
      "state": {
       "_model_module": "@jupyter-widgets/base",
       "_model_module_version": "1.2.0",
       "_model_name": "LayoutModel",
       "_view_count": null,
       "_view_module": "@jupyter-widgets/base",
       "_view_module_version": "1.2.0",
       "_view_name": "LayoutView",
       "align_content": null,
       "align_items": null,
       "align_self": null,
       "border": null,
       "bottom": null,
       "display": null,
       "flex": null,
       "flex_flow": null,
       "grid_area": null,
       "grid_auto_columns": null,
       "grid_auto_flow": null,
       "grid_auto_rows": null,
       "grid_column": null,
       "grid_gap": null,
       "grid_row": null,
       "grid_template_areas": null,
       "grid_template_columns": null,
       "grid_template_rows": null,
       "height": null,
       "justify_content": null,
       "justify_items": null,
       "left": null,
       "margin": null,
       "max_height": null,
       "max_width": null,
       "min_height": null,
       "min_width": null,
       "object_fit": null,
       "object_position": null,
       "order": null,
       "overflow": null,
       "overflow_x": null,
       "overflow_y": null,
       "padding": null,
       "right": null,
       "top": null,
       "visibility": null,
       "width": null
      }
     },
     "95be131390144273af85d41ee7bbae8c": {
      "model_module": "@jupyter-widgets/controls",
      "model_module_version": "1.5.0",
      "model_name": "HBoxModel",
      "state": {
       "_dom_classes": [],
       "_model_module": "@jupyter-widgets/controls",
       "_model_module_version": "1.5.0",
       "_model_name": "HBoxModel",
       "_view_count": null,
       "_view_module": "@jupyter-widgets/controls",
       "_view_module_version": "1.5.0",
       "_view_name": "HBoxView",
       "box_style": "",
       "children": [
        "IPY_MODEL_9da8d249eb754b31b2d782a5591c8aa7",
        "IPY_MODEL_aedeabfbccc248ee9310a8ee3c3fe9a2",
        "IPY_MODEL_11be7fb0647840b3b020b576010e45f5"
       ],
       "layout": "IPY_MODEL_1a4dacc5cc654e5ea630bbf55cab72fa"
      }
     },
     "97a8b0d7cff64dcbaaad8de2d84eea8c": {
      "model_module": "@jupyter-widgets/controls",
      "model_module_version": "1.5.0",
      "model_name": "HBoxModel",
      "state": {
       "_dom_classes": [],
       "_model_module": "@jupyter-widgets/controls",
       "_model_module_version": "1.5.0",
       "_model_name": "HBoxModel",
       "_view_count": null,
       "_view_module": "@jupyter-widgets/controls",
       "_view_module_version": "1.5.0",
       "_view_name": "HBoxView",
       "box_style": "",
       "children": [
        "IPY_MODEL_bdbf6056ae444789bec9b61426470e41",
        "IPY_MODEL_c42f8aaba3e44c4688b476aaa0e1bbde",
        "IPY_MODEL_16f05b8b7c314fe0ad93e750a26824f6"
       ],
       "layout": "IPY_MODEL_1c864f8ba6334ac1b1ab6eee378d0782"
      }
     },
     "9da8d249eb754b31b2d782a5591c8aa7": {
      "model_module": "@jupyter-widgets/controls",
      "model_module_version": "1.5.0",
      "model_name": "HTMLModel",
      "state": {
       "_dom_classes": [],
       "_model_module": "@jupyter-widgets/controls",
       "_model_module_version": "1.5.0",
       "_model_name": "HTMLModel",
       "_view_count": null,
       "_view_module": "@jupyter-widgets/controls",
       "_view_module_version": "1.5.0",
       "_view_name": "HTMLView",
       "description": "",
       "description_tooltip": null,
       "layout": "IPY_MODEL_4a2a772bf3074604b79175df2f382c32",
       "placeholder": "​",
       "style": "IPY_MODEL_680e7127ae3447f9b0b04af02b97f68f",
       "value": "Downloading: 100%"
      }
     },
     "9eb47563b4774a9a9e8b1c1db0b6aa1f": {
      "model_module": "@jupyter-widgets/controls",
      "model_module_version": "1.5.0",
      "model_name": "DescriptionStyleModel",
      "state": {
       "_model_module": "@jupyter-widgets/controls",
       "_model_module_version": "1.5.0",
       "_model_name": "DescriptionStyleModel",
       "_view_count": null,
       "_view_module": "@jupyter-widgets/base",
       "_view_module_version": "1.2.0",
       "_view_name": "StyleView",
       "description_width": ""
      }
     },
     "9ee5a3dff4724b07a5ca00461b205f24": {
      "model_module": "@jupyter-widgets/base",
      "model_module_version": "1.2.0",
      "model_name": "LayoutModel",
      "state": {
       "_model_module": "@jupyter-widgets/base",
       "_model_module_version": "1.2.0",
       "_model_name": "LayoutModel",
       "_view_count": null,
       "_view_module": "@jupyter-widgets/base",
       "_view_module_version": "1.2.0",
       "_view_name": "LayoutView",
       "align_content": null,
       "align_items": null,
       "align_self": null,
       "border": null,
       "bottom": null,
       "display": null,
       "flex": null,
       "flex_flow": null,
       "grid_area": null,
       "grid_auto_columns": null,
       "grid_auto_flow": null,
       "grid_auto_rows": null,
       "grid_column": null,
       "grid_gap": null,
       "grid_row": null,
       "grid_template_areas": null,
       "grid_template_columns": null,
       "grid_template_rows": null,
       "height": null,
       "justify_content": null,
       "justify_items": null,
       "left": null,
       "margin": null,
       "max_height": null,
       "max_width": null,
       "min_height": null,
       "min_width": null,
       "object_fit": null,
       "object_position": null,
       "order": null,
       "overflow": null,
       "overflow_x": null,
       "overflow_y": null,
       "padding": null,
       "right": null,
       "top": null,
       "visibility": null,
       "width": null
      }
     },
     "a07939b4a1a543b8965fd9a49ca7d9b2": {
      "model_module": "@jupyter-widgets/controls",
      "model_module_version": "1.5.0",
      "model_name": "DescriptionStyleModel",
      "state": {
       "_model_module": "@jupyter-widgets/controls",
       "_model_module_version": "1.5.0",
       "_model_name": "DescriptionStyleModel",
       "_view_count": null,
       "_view_module": "@jupyter-widgets/base",
       "_view_module_version": "1.2.0",
       "_view_name": "StyleView",
       "description_width": ""
      }
     },
     "a56f758ae5654b87a9d5dc570516889c": {
      "model_module": "@jupyter-widgets/base",
      "model_module_version": "1.2.0",
      "model_name": "LayoutModel",
      "state": {
       "_model_module": "@jupyter-widgets/base",
       "_model_module_version": "1.2.0",
       "_model_name": "LayoutModel",
       "_view_count": null,
       "_view_module": "@jupyter-widgets/base",
       "_view_module_version": "1.2.0",
       "_view_name": "LayoutView",
       "align_content": null,
       "align_items": null,
       "align_self": null,
       "border": null,
       "bottom": null,
       "display": null,
       "flex": null,
       "flex_flow": null,
       "grid_area": null,
       "grid_auto_columns": null,
       "grid_auto_flow": null,
       "grid_auto_rows": null,
       "grid_column": null,
       "grid_gap": null,
       "grid_row": null,
       "grid_template_areas": null,
       "grid_template_columns": null,
       "grid_template_rows": null,
       "height": null,
       "justify_content": null,
       "justify_items": null,
       "left": null,
       "margin": null,
       "max_height": null,
       "max_width": null,
       "min_height": null,
       "min_width": null,
       "object_fit": null,
       "object_position": null,
       "order": null,
       "overflow": null,
       "overflow_x": null,
       "overflow_y": null,
       "padding": null,
       "right": null,
       "top": null,
       "visibility": null,
       "width": null
      }
     },
     "aedeabfbccc248ee9310a8ee3c3fe9a2": {
      "model_module": "@jupyter-widgets/controls",
      "model_module_version": "1.5.0",
      "model_name": "FloatProgressModel",
      "state": {
       "_dom_classes": [],
       "_model_module": "@jupyter-widgets/controls",
       "_model_module_version": "1.5.0",
       "_model_name": "FloatProgressModel",
       "_view_count": null,
       "_view_module": "@jupyter-widgets/controls",
       "_view_module_version": "1.5.0",
       "_view_name": "ProgressView",
       "bar_style": "success",
       "description": "",
       "description_tooltip": null,
       "layout": "IPY_MODEL_580d091cc39f4d3d8e72f6855a5f53b6",
       "max": 206760,
       "min": 0,
       "orientation": "horizontal",
       "style": "IPY_MODEL_42f250381c254ce98368852324ee79f0",
       "value": 206760
      }
     },
     "b2916c560c114e9cace981478598e0e9": {
      "model_module": "@jupyter-widgets/controls",
      "model_module_version": "1.5.0",
      "model_name": "HTMLModel",
      "state": {
       "_dom_classes": [],
       "_model_module": "@jupyter-widgets/controls",
       "_model_module_version": "1.5.0",
       "_model_name": "HTMLModel",
       "_view_count": null,
       "_view_module": "@jupyter-widgets/controls",
       "_view_module_version": "1.5.0",
       "_view_name": "HTMLView",
       "description": "",
       "description_tooltip": null,
       "layout": "IPY_MODEL_c9ffbe51860f440aa443dd44ea2c7b8c",
       "placeholder": "​",
       "style": "IPY_MODEL_37108f3ff92a44c58b75530e701aae23",
       "value": "Downloading: 100%"
      }
     },
     "b35f9ff08982416e9266b2045fc79ab8": {
      "model_module": "@jupyter-widgets/controls",
      "model_module_version": "1.5.0",
      "model_name": "HBoxModel",
      "state": {
       "_dom_classes": [],
       "_model_module": "@jupyter-widgets/controls",
       "_model_module_version": "1.5.0",
       "_model_name": "HBoxModel",
       "_view_count": null,
       "_view_module": "@jupyter-widgets/controls",
       "_view_module_version": "1.5.0",
       "_view_name": "HBoxView",
       "box_style": "",
       "children": [
        "IPY_MODEL_c283aa37ebd945a08ec9f9681b9a0b1c",
        "IPY_MODEL_94f83b6b84b24c18b8ba7f1a7e689d40",
        "IPY_MODEL_1e17807e2a7e4ea7a639bbfe91719d0c"
       ],
       "layout": "IPY_MODEL_9ee5a3dff4724b07a5ca00461b205f24"
      }
     },
     "bdbf6056ae444789bec9b61426470e41": {
      "model_module": "@jupyter-widgets/controls",
      "model_module_version": "1.5.0",
      "model_name": "HTMLModel",
      "state": {
       "_dom_classes": [],
       "_model_module": "@jupyter-widgets/controls",
       "_model_module_version": "1.5.0",
       "_model_name": "HTMLModel",
       "_view_count": null,
       "_view_module": "@jupyter-widgets/controls",
       "_view_module_version": "1.5.0",
       "_view_name": "HTMLView",
       "description": "",
       "description_tooltip": null,
       "layout": "IPY_MODEL_fb607b6bfe4842aa801fd055c5fe7dd1",
       "placeholder": "​",
       "style": "IPY_MODEL_7664f15661d143f99ec03dd7ee61ba70",
       "value": "Downloading: 100%"
      }
     },
     "c0af05efcef94c94850d4e286329baa2": {
      "model_module": "@jupyter-widgets/base",
      "model_module_version": "1.2.0",
      "model_name": "LayoutModel",
      "state": {
       "_model_module": "@jupyter-widgets/base",
       "_model_module_version": "1.2.0",
       "_model_name": "LayoutModel",
       "_view_count": null,
       "_view_module": "@jupyter-widgets/base",
       "_view_module_version": "1.2.0",
       "_view_name": "LayoutView",
       "align_content": null,
       "align_items": null,
       "align_self": null,
       "border": null,
       "bottom": null,
       "display": null,
       "flex": null,
       "flex_flow": null,
       "grid_area": null,
       "grid_auto_columns": null,
       "grid_auto_flow": null,
       "grid_auto_rows": null,
       "grid_column": null,
       "grid_gap": null,
       "grid_row": null,
       "grid_template_areas": null,
       "grid_template_columns": null,
       "grid_template_rows": null,
       "height": null,
       "justify_content": null,
       "justify_items": null,
       "left": null,
       "margin": null,
       "max_height": null,
       "max_width": null,
       "min_height": null,
       "min_width": null,
       "object_fit": null,
       "object_position": null,
       "order": null,
       "overflow": null,
       "overflow_x": null,
       "overflow_y": null,
       "padding": null,
       "right": null,
       "top": null,
       "visibility": null,
       "width": null
      }
     },
     "c16734e2066f48c4be191dabf43f949a": {
      "model_module": "@jupyter-widgets/controls",
      "model_module_version": "1.5.0",
      "model_name": "DescriptionStyleModel",
      "state": {
       "_model_module": "@jupyter-widgets/controls",
       "_model_module_version": "1.5.0",
       "_model_name": "DescriptionStyleModel",
       "_view_count": null,
       "_view_module": "@jupyter-widgets/base",
       "_view_module_version": "1.2.0",
       "_view_name": "StyleView",
       "description_width": ""
      }
     },
     "c283aa37ebd945a08ec9f9681b9a0b1c": {
      "model_module": "@jupyter-widgets/controls",
      "model_module_version": "1.5.0",
      "model_name": "HTMLModel",
      "state": {
       "_dom_classes": [],
       "_model_module": "@jupyter-widgets/controls",
       "_model_module_version": "1.5.0",
       "_model_name": "HTMLModel",
       "_view_count": null,
       "_view_module": "@jupyter-widgets/controls",
       "_view_module_version": "1.5.0",
       "_view_name": "HTMLView",
       "description": "",
       "description_tooltip": null,
       "layout": "IPY_MODEL_d6a2cd13de054906b8f69dd3627625f0",
       "placeholder": "​",
       "style": "IPY_MODEL_3eae2f68a8d546f68aebbb0f383904db",
       "value": ""
      }
     },
     "c42f8aaba3e44c4688b476aaa0e1bbde": {
      "model_module": "@jupyter-widgets/controls",
      "model_module_version": "1.5.0",
      "model_name": "FloatProgressModel",
      "state": {
       "_dom_classes": [],
       "_model_module": "@jupyter-widgets/controls",
       "_model_module_version": "1.5.0",
       "_model_name": "FloatProgressModel",
       "_view_count": null,
       "_view_module": "@jupyter-widgets/controls",
       "_view_module_version": "1.5.0",
       "_view_name": "ProgressView",
       "bar_style": "success",
       "description": "",
       "description_tooltip": null,
       "layout": "IPY_MODEL_2dce3cbd8d6a42ca996cddd08e3bc072",
       "max": 204240,
       "min": 0,
       "orientation": "horizontal",
       "style": "IPY_MODEL_4f56eca19c3b4e2fbbd164c2b4c5ea27",
       "value": 204240
      }
     },
     "c44ae0566d7e4980aaf6832399feac04": {
      "model_module": "@jupyter-widgets/base",
      "model_module_version": "1.2.0",
      "model_name": "LayoutModel",
      "state": {
       "_model_module": "@jupyter-widgets/base",
       "_model_module_version": "1.2.0",
       "_model_name": "LayoutModel",
       "_view_count": null,
       "_view_module": "@jupyter-widgets/base",
       "_view_module_version": "1.2.0",
       "_view_name": "LayoutView",
       "align_content": null,
       "align_items": null,
       "align_self": null,
       "border": null,
       "bottom": null,
       "display": null,
       "flex": null,
       "flex_flow": null,
       "grid_area": null,
       "grid_auto_columns": null,
       "grid_auto_flow": null,
       "grid_auto_rows": null,
       "grid_column": null,
       "grid_gap": null,
       "grid_row": null,
       "grid_template_areas": null,
       "grid_template_columns": null,
       "grid_template_rows": null,
       "height": null,
       "justify_content": null,
       "justify_items": null,
       "left": null,
       "margin": null,
       "max_height": null,
       "max_width": null,
       "min_height": null,
       "min_width": null,
       "object_fit": null,
       "object_position": null,
       "order": null,
       "overflow": null,
       "overflow_x": null,
       "overflow_y": null,
       "padding": null,
       "right": null,
       "top": null,
       "visibility": null,
       "width": null
      }
     },
     "c5c4e535abec4d8c83a032fac9a992ce": {
      "model_module": "@jupyter-widgets/base",
      "model_module_version": "1.2.0",
      "model_name": "LayoutModel",
      "state": {
       "_model_module": "@jupyter-widgets/base",
       "_model_module_version": "1.2.0",
       "_model_name": "LayoutModel",
       "_view_count": null,
       "_view_module": "@jupyter-widgets/base",
       "_view_module_version": "1.2.0",
       "_view_name": "LayoutView",
       "align_content": null,
       "align_items": null,
       "align_self": null,
       "border": null,
       "bottom": null,
       "display": null,
       "flex": null,
       "flex_flow": null,
       "grid_area": null,
       "grid_auto_columns": null,
       "grid_auto_flow": null,
       "grid_auto_rows": null,
       "grid_column": null,
       "grid_gap": null,
       "grid_row": null,
       "grid_template_areas": null,
       "grid_template_columns": null,
       "grid_template_rows": null,
       "height": null,
       "justify_content": null,
       "justify_items": null,
       "left": null,
       "margin": null,
       "max_height": null,
       "max_width": null,
       "min_height": null,
       "min_width": null,
       "object_fit": null,
       "object_position": null,
       "order": null,
       "overflow": null,
       "overflow_x": null,
       "overflow_y": null,
       "padding": null,
       "right": null,
       "top": null,
       "visibility": null,
       "width": null
      }
     },
     "c96c312439414fe6bc068b0b7d462428": {
      "model_module": "@jupyter-widgets/base",
      "model_module_version": "1.2.0",
      "model_name": "LayoutModel",
      "state": {
       "_model_module": "@jupyter-widgets/base",
       "_model_module_version": "1.2.0",
       "_model_name": "LayoutModel",
       "_view_count": null,
       "_view_module": "@jupyter-widgets/base",
       "_view_module_version": "1.2.0",
       "_view_name": "LayoutView",
       "align_content": null,
       "align_items": null,
       "align_self": null,
       "border": null,
       "bottom": null,
       "display": null,
       "flex": null,
       "flex_flow": null,
       "grid_area": null,
       "grid_auto_columns": null,
       "grid_auto_flow": null,
       "grid_auto_rows": null,
       "grid_column": null,
       "grid_gap": null,
       "grid_row": null,
       "grid_template_areas": null,
       "grid_template_columns": null,
       "grid_template_rows": null,
       "height": null,
       "justify_content": null,
       "justify_items": null,
       "left": null,
       "margin": null,
       "max_height": null,
       "max_width": null,
       "min_height": null,
       "min_width": null,
       "object_fit": null,
       "object_position": null,
       "order": null,
       "overflow": null,
       "overflow_x": null,
       "overflow_y": null,
       "padding": null,
       "right": null,
       "top": null,
       "visibility": null,
       "width": null
      }
     },
     "c9ffbe51860f440aa443dd44ea2c7b8c": {
      "model_module": "@jupyter-widgets/base",
      "model_module_version": "1.2.0",
      "model_name": "LayoutModel",
      "state": {
       "_model_module": "@jupyter-widgets/base",
       "_model_module_version": "1.2.0",
       "_model_name": "LayoutModel",
       "_view_count": null,
       "_view_module": "@jupyter-widgets/base",
       "_view_module_version": "1.2.0",
       "_view_name": "LayoutView",
       "align_content": null,
       "align_items": null,
       "align_self": null,
       "border": null,
       "bottom": null,
       "display": null,
       "flex": null,
       "flex_flow": null,
       "grid_area": null,
       "grid_auto_columns": null,
       "grid_auto_flow": null,
       "grid_auto_rows": null,
       "grid_column": null,
       "grid_gap": null,
       "grid_row": null,
       "grid_template_areas": null,
       "grid_template_columns": null,
       "grid_template_rows": null,
       "height": null,
       "justify_content": null,
       "justify_items": null,
       "left": null,
       "margin": null,
       "max_height": null,
       "max_width": null,
       "min_height": null,
       "min_width": null,
       "object_fit": null,
       "object_position": null,
       "order": null,
       "overflow": null,
       "overflow_x": null,
       "overflow_y": null,
       "padding": null,
       "right": null,
       "top": null,
       "visibility": null,
       "width": null
      }
     },
     "cc0ed26a1ab04002a15d1e27259cb52a": {
      "model_module": "@jupyter-widgets/controls",
      "model_module_version": "1.5.0",
      "model_name": "HBoxModel",
      "state": {
       "_dom_classes": [],
       "_model_module": "@jupyter-widgets/controls",
       "_model_module_version": "1.5.0",
       "_model_name": "HBoxModel",
       "_view_count": null,
       "_view_module": "@jupyter-widgets/controls",
       "_view_module_version": "1.5.0",
       "_view_name": "HBoxView",
       "box_style": "",
       "children": [
        "IPY_MODEL_b2916c560c114e9cace981478598e0e9",
        "IPY_MODEL_28b0af0a8cfe42bcab3f2cb08d7ffbf4",
        "IPY_MODEL_f88eeeb1b5e44e688e6e94cb0a43daef"
       ],
       "layout": "IPY_MODEL_c0af05efcef94c94850d4e286329baa2"
      }
     },
     "d0dca5a9da7f40eaa2560267bc265a39": {
      "model_module": "@jupyter-widgets/controls",
      "model_module_version": "1.5.0",
      "model_name": "DescriptionStyleModel",
      "state": {
       "_model_module": "@jupyter-widgets/controls",
       "_model_module_version": "1.5.0",
       "_model_name": "DescriptionStyleModel",
       "_view_count": null,
       "_view_module": "@jupyter-widgets/base",
       "_view_module_version": "1.2.0",
       "_view_name": "StyleView",
       "description_width": ""
      }
     },
     "d130730595874fdb95243151471e9f8b": {
      "model_module": "@jupyter-widgets/base",
      "model_module_version": "1.2.0",
      "model_name": "LayoutModel",
      "state": {
       "_model_module": "@jupyter-widgets/base",
       "_model_module_version": "1.2.0",
       "_model_name": "LayoutModel",
       "_view_count": null,
       "_view_module": "@jupyter-widgets/base",
       "_view_module_version": "1.2.0",
       "_view_name": "LayoutView",
       "align_content": null,
       "align_items": null,
       "align_self": null,
       "border": null,
       "bottom": null,
       "display": null,
       "flex": null,
       "flex_flow": null,
       "grid_area": null,
       "grid_auto_columns": null,
       "grid_auto_flow": null,
       "grid_auto_rows": null,
       "grid_column": null,
       "grid_gap": null,
       "grid_row": null,
       "grid_template_areas": null,
       "grid_template_columns": null,
       "grid_template_rows": null,
       "height": null,
       "justify_content": null,
       "justify_items": null,
       "left": null,
       "margin": null,
       "max_height": null,
       "max_width": null,
       "min_height": null,
       "min_width": null,
       "object_fit": null,
       "object_position": null,
       "order": null,
       "overflow": null,
       "overflow_x": null,
       "overflow_y": null,
       "padding": null,
       "right": null,
       "top": null,
       "visibility": null,
       "width": "20px"
      }
     },
     "d32dadd4e4874ad6885ea2e297a02dcc": {
      "model_module": "@jupyter-widgets/controls",
      "model_module_version": "1.5.0",
      "model_name": "FloatProgressModel",
      "state": {
       "_dom_classes": [],
       "_model_module": "@jupyter-widgets/controls",
       "_model_module_version": "1.5.0",
       "_model_name": "FloatProgressModel",
       "_view_count": null,
       "_view_module": "@jupyter-widgets/controls",
       "_view_module_version": "1.5.0",
       "_view_name": "ProgressView",
       "bar_style": "info",
       "description": "",
       "description_tooltip": null,
       "layout": "IPY_MODEL_d130730595874fdb95243151471e9f8b",
       "max": 1,
       "min": 0,
       "orientation": "horizontal",
       "style": "IPY_MODEL_0333769e2af54e819b3925c620b14a91",
       "value": 1
      }
     },
     "d6a2cd13de054906b8f69dd3627625f0": {
      "model_module": "@jupyter-widgets/base",
      "model_module_version": "1.2.0",
      "model_name": "LayoutModel",
      "state": {
       "_model_module": "@jupyter-widgets/base",
       "_model_module_version": "1.2.0",
       "_model_name": "LayoutModel",
       "_view_count": null,
       "_view_module": "@jupyter-widgets/base",
       "_view_module_version": "1.2.0",
       "_view_name": "LayoutView",
       "align_content": null,
       "align_items": null,
       "align_self": null,
       "border": null,
       "bottom": null,
       "display": null,
       "flex": null,
       "flex_flow": null,
       "grid_area": null,
       "grid_auto_columns": null,
       "grid_auto_flow": null,
       "grid_auto_rows": null,
       "grid_column": null,
       "grid_gap": null,
       "grid_row": null,
       "grid_template_areas": null,
       "grid_template_columns": null,
       "grid_template_rows": null,
       "height": null,
       "justify_content": null,
       "justify_items": null,
       "left": null,
       "margin": null,
       "max_height": null,
       "max_width": null,
       "min_height": null,
       "min_width": null,
       "object_fit": null,
       "object_position": null,
       "order": null,
       "overflow": null,
       "overflow_x": null,
       "overflow_y": null,
       "padding": null,
       "right": null,
       "top": null,
       "visibility": null,
       "width": null
      }
     },
     "e0c90aa78ada46b08122d8e8fe82dcdf": {
      "model_module": "@jupyter-widgets/base",
      "model_module_version": "1.2.0",
      "model_name": "LayoutModel",
      "state": {
       "_model_module": "@jupyter-widgets/base",
       "_model_module_version": "1.2.0",
       "_model_name": "LayoutModel",
       "_view_count": null,
       "_view_module": "@jupyter-widgets/base",
       "_view_module_version": "1.2.0",
       "_view_name": "LayoutView",
       "align_content": null,
       "align_items": null,
       "align_self": null,
       "border": null,
       "bottom": null,
       "display": null,
       "flex": null,
       "flex_flow": null,
       "grid_area": null,
       "grid_auto_columns": null,
       "grid_auto_flow": null,
       "grid_auto_rows": null,
       "grid_column": null,
       "grid_gap": null,
       "grid_row": null,
       "grid_template_areas": null,
       "grid_template_columns": null,
       "grid_template_rows": null,
       "height": null,
       "justify_content": null,
       "justify_items": null,
       "left": null,
       "margin": null,
       "max_height": null,
       "max_width": null,
       "min_height": null,
       "min_width": null,
       "object_fit": null,
       "object_position": null,
       "order": null,
       "overflow": null,
       "overflow_x": null,
       "overflow_y": null,
       "padding": null,
       "right": null,
       "top": null,
       "visibility": null,
       "width": null
      }
     },
     "ebc6365c8bcc42c39e64d89352b44726": {
      "model_module": "@jupyter-widgets/base",
      "model_module_version": "1.2.0",
      "model_name": "LayoutModel",
      "state": {
       "_model_module": "@jupyter-widgets/base",
       "_model_module_version": "1.2.0",
       "_model_name": "LayoutModel",
       "_view_count": null,
       "_view_module": "@jupyter-widgets/base",
       "_view_module_version": "1.2.0",
       "_view_name": "LayoutView",
       "align_content": null,
       "align_items": null,
       "align_self": null,
       "border": null,
       "bottom": null,
       "display": null,
       "flex": null,
       "flex_flow": null,
       "grid_area": null,
       "grid_auto_columns": null,
       "grid_auto_flow": null,
       "grid_auto_rows": null,
       "grid_column": null,
       "grid_gap": null,
       "grid_row": null,
       "grid_template_areas": null,
       "grid_template_columns": null,
       "grid_template_rows": null,
       "height": null,
       "justify_content": null,
       "justify_items": null,
       "left": null,
       "margin": null,
       "max_height": null,
       "max_width": null,
       "min_height": null,
       "min_width": null,
       "object_fit": null,
       "object_position": null,
       "order": null,
       "overflow": null,
       "overflow_x": null,
       "overflow_y": null,
       "padding": null,
       "right": null,
       "top": null,
       "visibility": null,
       "width": "20px"
      }
     },
     "f2323708929f46cc9f8acae3cf4fc6e5": {
      "model_module": "@jupyter-widgets/base",
      "model_module_version": "1.2.0",
      "model_name": "LayoutModel",
      "state": {
       "_model_module": "@jupyter-widgets/base",
       "_model_module_version": "1.2.0",
       "_model_name": "LayoutModel",
       "_view_count": null,
       "_view_module": "@jupyter-widgets/base",
       "_view_module_version": "1.2.0",
       "_view_name": "LayoutView",
       "align_content": null,
       "align_items": null,
       "align_self": null,
       "border": null,
       "bottom": null,
       "display": null,
       "flex": null,
       "flex_flow": null,
       "grid_area": null,
       "grid_auto_columns": null,
       "grid_auto_flow": null,
       "grid_auto_rows": null,
       "grid_column": null,
       "grid_gap": null,
       "grid_row": null,
       "grid_template_areas": null,
       "grid_template_columns": null,
       "grid_template_rows": null,
       "height": null,
       "justify_content": null,
       "justify_items": null,
       "left": null,
       "margin": null,
       "max_height": null,
       "max_width": null,
       "min_height": null,
       "min_width": null,
       "object_fit": null,
       "object_position": null,
       "order": null,
       "overflow": null,
       "overflow_x": null,
       "overflow_y": null,
       "padding": null,
       "right": null,
       "top": null,
       "visibility": null,
       "width": "20px"
      }
     },
     "f576edb6c88c4f15a1c30eb0c111616e": {
      "model_module": "@jupyter-widgets/controls",
      "model_module_version": "1.5.0",
      "model_name": "HTMLModel",
      "state": {
       "_dom_classes": [],
       "_model_module": "@jupyter-widgets/controls",
       "_model_module_version": "1.5.0",
       "_model_name": "HTMLModel",
       "_view_count": null,
       "_view_module": "@jupyter-widgets/controls",
       "_view_module_version": "1.5.0",
       "_view_name": "HTMLView",
       "description": "",
       "description_tooltip": null,
       "layout": "IPY_MODEL_c5c4e535abec4d8c83a032fac9a992ce",
       "placeholder": "​",
       "style": "IPY_MODEL_8e61d5c1dbed4175ac62a6c8d548a965",
       "value": ""
      }
     },
     "f88eeeb1b5e44e688e6e94cb0a43daef": {
      "model_module": "@jupyter-widgets/controls",
      "model_module_version": "1.5.0",
      "model_name": "HTMLModel",
      "state": {
       "_dom_classes": [],
       "_model_module": "@jupyter-widgets/controls",
       "_model_module_version": "1.5.0",
       "_model_name": "HTMLModel",
       "_view_count": null,
       "_view_module": "@jupyter-widgets/controls",
       "_view_module_version": "1.5.0",
       "_view_name": "HTMLView",
       "description": "",
       "description_tooltip": null,
       "layout": "IPY_MODEL_c44ae0566d7e4980aaf6832399feac04",
       "placeholder": "​",
       "style": "IPY_MODEL_c16734e2066f48c4be191dabf43f949a",
       "value": " 1.66M/1.66M [00:01&lt;00:00, 2.52MB/s]"
      }
     },
     "f94fcbcb1eb94dc395f91918efce7e33": {
      "model_module": "@jupyter-widgets/base",
      "model_module_version": "1.2.0",
      "model_name": "LayoutModel",
      "state": {
       "_model_module": "@jupyter-widgets/base",
       "_model_module_version": "1.2.0",
       "_model_name": "LayoutModel",
       "_view_count": null,
       "_view_module": "@jupyter-widgets/base",
       "_view_module_version": "1.2.0",
       "_view_name": "LayoutView",
       "align_content": null,
       "align_items": null,
       "align_self": null,
       "border": null,
       "bottom": null,
       "display": null,
       "flex": null,
       "flex_flow": null,
       "grid_area": null,
       "grid_auto_columns": null,
       "grid_auto_flow": null,
       "grid_auto_rows": null,
       "grid_column": null,
       "grid_gap": null,
       "grid_row": null,
       "grid_template_areas": null,
       "grid_template_columns": null,
       "grid_template_rows": null,
       "height": null,
       "justify_content": null,
       "justify_items": null,
       "left": null,
       "margin": null,
       "max_height": null,
       "max_width": null,
       "min_height": null,
       "min_width": null,
       "object_fit": null,
       "object_position": null,
       "order": null,
       "overflow": null,
       "overflow_x": null,
       "overflow_y": null,
       "padding": null,
       "right": null,
       "top": null,
       "visibility": null,
       "width": null
      }
     },
     "fb607b6bfe4842aa801fd055c5fe7dd1": {
      "model_module": "@jupyter-widgets/base",
      "model_module_version": "1.2.0",
      "model_name": "LayoutModel",
      "state": {
       "_model_module": "@jupyter-widgets/base",
       "_model_module_version": "1.2.0",
       "_model_name": "LayoutModel",
       "_view_count": null,
       "_view_module": "@jupyter-widgets/base",
       "_view_module_version": "1.2.0",
       "_view_name": "LayoutView",
       "align_content": null,
       "align_items": null,
       "align_self": null,
       "border": null,
       "bottom": null,
       "display": null,
       "flex": null,
       "flex_flow": null,
       "grid_area": null,
       "grid_auto_columns": null,
       "grid_auto_flow": null,
       "grid_auto_rows": null,
       "grid_column": null,
       "grid_gap": null,
       "grid_row": null,
       "grid_template_areas": null,
       "grid_template_columns": null,
       "grid_template_rows": null,
       "height": null,
       "justify_content": null,
       "justify_items": null,
       "left": null,
       "margin": null,
       "max_height": null,
       "max_width": null,
       "min_height": null,
       "min_width": null,
       "object_fit": null,
       "object_position": null,
       "order": null,
       "overflow": null,
       "overflow_x": null,
       "overflow_y": null,
       "padding": null,
       "right": null,
       "top": null,
       "visibility": null,
       "width": null
      }
     },
     "fde7a8d0edec4d2ea6c62013dbe41b0d": {
      "model_module": "@jupyter-widgets/controls",
      "model_module_version": "1.5.0",
      "model_name": "HBoxModel",
      "state": {
       "_dom_classes": [],
       "_model_module": "@jupyter-widgets/controls",
       "_model_module_version": "1.5.0",
       "_model_name": "HBoxModel",
       "_view_count": null,
       "_view_module": "@jupyter-widgets/controls",
       "_view_module_version": "1.5.0",
       "_view_name": "HBoxView",
       "box_style": "",
       "children": [
        "IPY_MODEL_240f977e18c8468d8575795cf3de5fa1",
        "IPY_MODEL_07e70d075920412498b194856ea38245",
        "IPY_MODEL_769e7055b15145f99e2cc1dacacf53dd"
       ],
       "layout": "IPY_MODEL_4f2c1e508422462e95ce06741181f827"
      }
     }
    },
    "version_major": 2,
    "version_minor": 0
   }
  }
 },
 "nbformat": 4,
 "nbformat_minor": 5
}
